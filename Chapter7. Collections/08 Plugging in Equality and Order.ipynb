{
 "cells": [
  {
   "cell_type": "markdown",
   "metadata": {},
   "source": [
    "<div dir=\"rtl\" style=\"width:90%; margin:auto; font-family:vazirmatn;\">\n",
    "<ol><li><p><strong>Equality Comparison (مقایسه تساوی):</strong></p><ul><li>این مفهوم به چگونگی تعیین تساوی بین دو شیء اشاره دارد. در .NET، برای اینکه یک نوع داده بتواند به‌درستی به‌عنوان کلید در یک <code>Dictionary</code> یا <code>Hashtable</code> استفاده شود، باید دارای یک پیاده‌سازی از متدهای <code>Equals</code> و <code>GetHashCode</code> باشد. این متدها مسئول تشخیص اینکه آیا دو شیء مساوی هستند و همچنین تولید یک کد هش منحصر به فرد برای هر شیء هستند.</li></ul></li><li><p><strong>Order Comparison (مقایسه ترتیب):</strong></p><ul><li>این مفهوم به چگونگی مقایسه ترتیب بین دو شیء اشاره دارد. در .NET، اگر یک نوع داده پیاده‌سازی از اینترفیس‌های <code>IComparable</code> یا <code>IComparable&lt;T&gt;</code> داشته باشد، می‌تواند به‌عنوان کلید در دیکشنری‌ها یا لیست‌های مرتب استفاده شود. این اینترفیس‌ها برای ترتیب‌دهی اشیاء بر اساس یک ترتیب مشخص (مانند صعودی یا نزولی) استفاده می‌شوند.</li></ul></li></ol>\n",
    "\n",
    "<h5>Default Behavior (رفتار پیش‌فرض):</h5>\n",
    "<ul><li>رفتار پیش‌فرض هر نوع داده برای مقایسه و تساوی، معمولاً بازتابی از طبیعی‌ترین رفتار آن نوع است. برای مثال، مقایسه دو رشته ممکن است به صورت پیش‌فرض به حروف بزرگ و کوچک حساس باشد. با این حال، گاهی اوقات رفتار پیش‌فرض همان چیزی نیست که شما نیاز دارید.</li></ul>\n",
    "\n",
    "<h5>Plug-in Protocols (پروتکل‌های پلاگین):</h5>\n",
    "<ul><li><p>برای کنترل و تغییر رفتار تساوی و ترتیب، .NET مجموعه‌ای از پروتکل‌های \"پلاگین\" را معرفی کرده است. این پروتکل‌ها به شما اجازه می‌دهند که رفتار تساوی یا ترتیب‌دهی پیش‌فرض را تغییر دهید یا از نوع داده‌هایی که به‌صورت ذاتی قابل مقایسه یا مساوی نیستند، در مجموعه‌های داده استفاده کنید.</p></li><li><p>این پروتکل‌ها شامل اینترفیس‌های زیر هستند:</p><ul><li><code>IEqualityComparer</code> و <code>IEqualityComparer&lt;T&gt;</code>:<ul><li>این اینترفیس‌ها برای مقایسه تساوی و تولید کدهای هش پلاگین استفاده می‌شوند. اینترفیس‌های <code>IEqualityComparer</code> توسط <code>Hashtable</code> و <code>Dictionary</code> شناسایی می‌شوند.</li></ul></li><li><code>IComparer</code> و <code>IComparer&lt;T&gt;</code>:<ul><li>این اینترفیس‌ها برای مقایسه ترتیب پلاگین استفاده می‌شوند. اینترفیس‌های <code>IComparer</code> توسط دیکشنری‌ها و مجموعه‌های مرتب شناسایی می‌شوند و همچنین در <code>Array.Sort</code> نیز کاربرد دارند.</li></ul></li></ul></li></ul>\n",
    "\n",
    "<h5>Structural Equatable and Comparable:</h5>\n",
    "<ul><li>علاوه بر این، اینترفیس‌های <code>IStructuralEquatable</code> و <code>IStructuralComparable</code> نیز وجود دارند که امکان مقایسه‌های ساختاری (structural comparisons) را روی کلاس‌ها و آرایه‌ها فراهم می‌کنند. این به شما اجازه می‌دهد که اشیاء را بر اساس ساختار درونی‌شان مقایسه کنید.</li></ul>\n",
    "</div>"
   ]
  },
  {
   "cell_type": "markdown",
   "metadata": {},
   "source": [
    "### `IEqualityComparer` and `EqualityComparer`"
   ]
  },
  {
   "cell_type": "markdown",
   "metadata": {},
   "source": [
    "Recall the **requirements** of a `hashtable-based` **dictionary**. It needs answers to two questions for any given `key`:\n",
    "- Is it the `same` as another?\n",
    "- What is its `integer hashcode`?"
   ]
  },
  {
   "cell_type": "code",
   "execution_count": null,
   "metadata": {
    "dotnet_interactive": {
     "language": "csharp"
    },
    "polyglot_notebook": {
     "kernelName": "csharp"
    },
    "vscode": {
     "languageId": "polyglot-notebook"
    }
   },
   "outputs": [],
   "source": [
    "public interface IEqualityComparer<T>\n",
    "{\n",
    "    bool Equals (T x, T y);\n",
    "    int GetHashCode (T obj);\n",
    "}\n",
    "public interface IEqualityComparer // Nongeneric version\n",
    "{\n",
    "    bool Equals (object x, object y);\n",
    "    int GetHashCode (object obj);\n",
    "}"
   ]
  },
  {
   "cell_type": "markdown",
   "metadata": {},
   "source": [
    "To write a `custom comparer`, you implement **one** or **both** of these ***interfaces***"
   ]
  },
  {
   "cell_type": "markdown",
   "metadata": {},
   "source": [
    "an ***alternative*** is to **subclass** the ***abstract*** `EqualityComparer` class"
   ]
  },
  {
   "cell_type": "code",
   "execution_count": null,
   "metadata": {
    "dotnet_interactive": {
     "language": "csharp"
    },
    "polyglot_notebook": {
     "kernelName": "csharp"
    },
    "vscode": {
     "languageId": "polyglot-notebook"
    }
   },
   "outputs": [],
   "source": [
    "public abstract class EqualityComparer<T> : IEqualityComparer, IEqualityComparer<T>\n",
    "{\n",
    "    // متد استاتیک Default که یک EqualityComparer<T> پیش‌فرض را برمی‌گرداند.\n",
    "    public static EqualityComparer<T> Default { get; } = (EqualityComparer<T>)ComparerHelpers.CreateDefaultEqualityComparer(typeof(T));\n",
    "\n",
    "    // متد انتزاعی Equals که باید توسط کلاس‌های مشتق‌شده پیاده‌سازی شود.\n",
    "    public abstract bool Equals(T x, T y);\n",
    "\n",
    "    // متد انتزاعی GetHashCode که باید توسط کلاس‌های مشتق‌شده پیاده‌سازی شود.\n",
    "    public abstract int GetHashCode(T obj);\n",
    "\n",
    "    // پیاده‌سازی رابط IEqualityComparer.Equals\n",
    "    bool IEqualityComparer.Equals(object x, object y)\n",
    "    {\n",
    "        if (x == y) return true;\n",
    "        if (x == null || y == null) return false;\n",
    "\n",
    "        if (x is T xT && y is T yT)\n",
    "            return Equals(xT, yT);\n",
    "        else\n",
    "            throw new ArgumentException(\"Invalid argument type\");\n",
    "    }\n",
    "\n",
    "    // پیاده‌سازی رابط IEqualityComparer.GetHashCode\n",
    "    int IEqualityComparer.GetHashCode(object obj)\n",
    "    {\n",
    "        if (obj == null) throw new ArgumentNullException(nameof(obj));\n",
    "\n",
    "        if (obj is T objT)\n",
    "            return GetHashCode(objT);\n",
    "        else\n",
    "            throw new ArgumentException(\"Invalid argument type\");\n",
    "    }\n",
    "}\n"
   ]
  },
  {
   "cell_type": "markdown",
   "metadata": {},
   "source": [
    "`EqualityComparer` implements both interfaces; your job is simply to ***override*** the `two abstract methods`."
   ]
  },
  {
   "cell_type": "code",
   "execution_count": null,
   "metadata": {
    "dotnet_interactive": {
     "language": "csharp"
    },
    "polyglot_notebook": {
     "kernelName": "csharp"
    },
    "vscode": {
     "languageId": "polyglot-notebook"
    }
   },
   "outputs": [],
   "source": [
    "public class Customer\n",
    "{\n",
    "    public string LastName;\n",
    "    public string FirstName;\n",
    "\n",
    "    public Customer (string last, string first)\n",
    "    {\n",
    "        LastName = last;\n",
    "        FirstName = first;\n",
    "    }\n",
    "}\n",
    "\n",
    "public class LastFirstEqComparer : EqualityComparer <Customer>\n",
    "{\n",
    "    public override bool Equals (Customer x, Customer y)\n",
    "        => x.LastName == y.LastName && x.FirstName == y.FirstName;\n",
    "\n",
    "    public override int GetHashCode (Customer obj)\n",
    "        => (obj.LastName + \";\" + obj.FirstName).GetHashCode();\n",
    "}\n",
    "\n",
    "Customer c1 = new Customer (\"Bloggs\", \"Joe\");\n",
    "Customer c2 = new Customer (\"Bloggs\", \"Joe\");\n",
    "\n",
    "Console.WriteLine (c1 == c2); // False\n",
    "Console.WriteLine (c1.Equals (c2)); // False\n",
    "\n",
    "var d = new Dictionary<Customer, string>();\n",
    "d [c1] = \"Joe\";\n",
    "Console.WriteLine (d.ContainsKey (c2)); //False\n",
    "\n",
    "//use EqualityComparer\n",
    "var eqComparer = new LastFirstEqComparer();\n",
    "var d1 = new Dictionary<Customer, string> (eqComparer);\n",
    "d1 [c1] = \"Joe\";\n",
    "Console.WriteLine (d1.ContainsKey (c2)); // True"
   ]
  },
  {
   "cell_type": "markdown",
   "metadata": {},
   "source": [
    "##### `EqualityComparer<T>.Default`"
   ]
  },
  {
   "cell_type": "markdown",
   "metadata": {},
   "source": [
    "you can use `EqualityComparer<T>.Default` as an alternative to the static `object.Equals` method.  \n",
    "  \n",
    "***advantage*** is that it **first checks** whether `T` ***implements*** `IEquatable<T>`, and if so, it **calls** that ***implementation*** instead, ***avoiding*** the `boxing` overhead."
   ]
  },
  {
   "cell_type": "code",
   "execution_count": null,
   "metadata": {
    "dotnet_interactive": {
     "language": "csharp"
    },
    "polyglot_notebook": {
     "kernelName": "csharp"
    },
    "vscode": {
     "languageId": "polyglot-notebook"
    }
   },
   "outputs": [],
   "source": [
    "//his is particularly useful in generic methods\n",
    "static bool Foo<T> (T x, T y)\n",
    "{\n",
    "    bool same = EqualityComparer<T>.Default.Equals (x, y);\n",
    "\n",
    "    //some other logic\n",
    "\n",
    "    return same;\n",
    "}"
   ]
  },
  {
   "cell_type": "markdown",
   "metadata": {},
   "source": [
    "### `IComparer` and `Comparer`"
   ]
  },
  {
   "cell_type": "markdown",
   "metadata": {},
   "source": [
    "`Comparers` are used to switch in `custom ordering logic` for **sorted dictionaries** and ***collections***."
   ]
  },
  {
   "cell_type": "markdown",
   "metadata": {},
   "source": [
    "**Note** :  \n",
    "`comparer` is ***useless*** to the ***unsorted dictionaries*** such as `Dictionary`\n",
    "and `Hashtable`—these require an `IEqualityComparer` to **get hashcodes**.  \n",
    "  \n",
    "Similarly, an ***equality comparer*** is ***useless*** for `sorted` dictionaries and collections."
   ]
  },
  {
   "cell_type": "code",
   "execution_count": null,
   "metadata": {
    "dotnet_interactive": {
     "language": "csharp"
    },
    "polyglot_notebook": {
     "kernelName": "csharp"
    },
    "vscode": {
     "languageId": "polyglot-notebook"
    }
   },
   "outputs": [],
   "source": [
    "public interface IComparer\n",
    "{\n",
    "    int Compare(object x, object y);\n",
    "}\n",
    "public interface IComparer <in T>\n",
    "{\n",
    "    int Compare(T x, T y);\n",
    "}"
   ]
  },
  {
   "cell_type": "code",
   "execution_count": null,
   "metadata": {
    "dotnet_interactive": {
     "language": "csharp"
    },
    "polyglot_notebook": {
     "kernelName": "csharp"
    },
    "vscode": {
     "languageId": "polyglot-notebook"
    }
   },
   "outputs": [],
   "source": [
    "public abstract class Comparer<T> : IComparer, IComparer<T>\n",
    "{\n",
    "    // پراپرتی استاتیک Default که یک Comparer<T> پیش‌فرض را برمی‌گرداند.\n",
    "    public static Comparer<T> Default { get; } = (Comparer<T>)ComparerHelpers.CreateDefaultComparer(typeof(T));\n",
    "\n",
    "    // متد انتزاعی Compare که باید توسط کلاس‌های مشتق‌شده پیاده‌سازی شود.\n",
    "    public abstract int Compare(T x, T y);\n",
    "\n",
    "    // پیاده‌سازی رابط IComparer.Compare\n",
    "    int IComparer.Compare(object x, object y)\n",
    "    {\n",
    "        if (x == y) return 0;\n",
    "        if (x == null) return -1;\n",
    "        if (y == null) return 1;\n",
    "\n",
    "        if (x is T xT && y is T yT)\n",
    "            return Compare(xT, yT);\n",
    "        else\n",
    "            throw new ArgumentException(\"Invalid argument type\");\n",
    "    }\n",
    "}\n"
   ]
  },
  {
   "cell_type": "code",
   "execution_count": 1,
   "metadata": {
    "dotnet_interactive": {
     "language": "csharp"
    },
    "polyglot_notebook": {
     "kernelName": "csharp"
    },
    "vscode": {
     "languageId": "polyglot-notebook"
    }
   },
   "outputs": [
    {
     "name": "stdout",
     "output_type": "stream",
     "text": [
      "3 more wishes | Peace | Love | Wealth | "
     ]
    }
   ],
   "source": [
    "class Wish\n",
    "{\n",
    "    public string Name;\n",
    "    public int Priority;\n",
    "\n",
    "    public Wish (string name, int priority)\n",
    "    {\n",
    "        Name = name;\n",
    "        Priority = priority;\n",
    "    }\n",
    "}\n",
    "\n",
    "class PriorityComparer : Comparer<Wish>\n",
    "{\n",
    "    public override int Compare (Wish x, Wish y)\n",
    "    {\n",
    "        if (object.Equals (x, y)) return 0; // Optimization\n",
    "        if (x == null) return -1;\n",
    "        if (y == null) return 1;\n",
    "        return x.Priority.CompareTo (y.Priority);\n",
    "    }\n",
    "}\n",
    "\n",
    "var wishList = new List<Wish>();\n",
    "wishList.Add (new Wish (\"Peace\", 2));\n",
    "wishList.Add (new Wish (\"Wealth\", 3));\n",
    "wishList.Add (new Wish (\"Love\", 2));\n",
    "wishList.Add (new Wish (\"3 more wishes\", 1));\n",
    "\n",
    "wishList.Sort (new PriorityComparer());\n",
    "foreach (Wish w in wishList) Console.Write (w.Name + \" | \");"
   ]
  },
  {
   "cell_type": "markdown",
   "metadata": {},
   "source": [
    "### StringComparer"
   ]
  },
  {
   "cell_type": "markdown",
   "metadata": {},
   "source": [
    "`StringComparer` is a ***predefined plug-in*** class for `equating` and `comparing` ***strings***"
   ]
  },
  {
   "cell_type": "markdown",
   "metadata": {},
   "source": [
    "`StringComparer` ***implements both*** `IEqualityComparer` and `IComparer` (and their generic versions)"
   ]
  },
  {
   "cell_type": "markdown",
   "metadata": {},
   "source": [
    "Because ***StringComparer*** is `abstract`, you ***obtain instances*** via its `static properties`."
   ]
  },
  {
   "cell_type": "code",
   "execution_count": null,
   "metadata": {
    "dotnet_interactive": {
     "language": "csharp"
    },
    "polyglot_notebook": {
     "kernelName": "csharp"
    },
    "vscode": {
     "languageId": "polyglot-notebook"
    }
   },
   "outputs": [],
   "source": [
    "public static StringComparer CurrentCulture { get; }\n",
    "public static StringComparer CurrentCultureIgnoreCase { get; }\n",
    "public static StringComparer InvariantCulture { get; }\n",
    "public static StringComparer InvariantCultureIgnoreCase { get; }\n",
    "public static StringComparer Ordinal { get; }\n",
    "public static StringComparer OrdinalIgnoreCase { get; }\n",
    "public static StringComparer Create (CultureInfo culture,\n",
    "                                        bool ignoreCase);"
   ]
  },
  {
   "cell_type": "code",
   "execution_count": null,
   "metadata": {
    "dotnet_interactive": {
     "language": "csharp"
    },
    "polyglot_notebook": {
     "kernelName": "csharp"
    },
    "vscode": {
     "languageId": "polyglot-notebook"
    }
   },
   "outputs": [],
   "source": [
    "//ordinal case-insensitive dictionary is created such that\n",
    "//dict[\"Joe\"] and dict[\"JOE\"] mean the same thing:\n",
    "\n",
    "var dict = new Dictionary<string, int> (StringComparer.OrdinalIgnoreCase);"
   ]
  },
  {
   "cell_type": "code",
   "execution_count": null,
   "metadata": {
    "dotnet_interactive": {
     "language": "csharp"
    },
    "polyglot_notebook": {
     "kernelName": "csharp"
    },
    "vscode": {
     "languageId": "polyglot-notebook"
    }
   },
   "outputs": [],
   "source": [
    "//an array of names is sorted, using Australian English:\n",
    "string[] names = { \"Tom\", \"HARRY\", \"sheila\" };\n",
    "CultureInfo ci = new CultureInfo (\"en-AU\");\n",
    "Array.Sort<string> (names, StringComparer.Create (ci, false));"
   ]
  },
  {
   "cell_type": "markdown",
   "metadata": {},
   "source": [
    "##### `IStructuralEquatable` and `IStructuralComparable`"
   ]
  },
  {
   "cell_type": "markdown",
   "metadata": {},
   "source": [
    "<div dir=\"rtl\" style=\"width:90%; margin:auto; font-family:vazirmatn;\">\n",
    "<ol><li><p><strong>مقایسه ساختاری در Structها:</strong></p><ul><li>در .NET، ساختارها (structs) به‌صورت پیش‌فرض از مقایسه‌ی ساختاری پشتیبانی می‌کنند، یعنی دو شیء از نوع struct برابر در نظر گرفته می‌شوند اگر تمامی فیلدهای آن‌ها برابر باشند.</li></ul></li><li><p><strong>نیاز به مقایسه ساختاری در انواع دیگر:</strong></p><ul><li>گاهی اوقات، نیاز است که از مقایسه‌ی ساختاری در انواع مرکب دیگری مانند آرایه‌ها نیز استفاده شود. اینجا است که اینترفیس‌های <code>IStructuralEquatable</code> و <code>IStructuralComparable</code> وارد عمل می‌شوند.</li></ul></li></ol>\n",
    "\n",
    "<h5>اینترفیس‌ها:</h5>\n",
    "<ol><li><strong>IStructuralEquatable:</strong><ul><li>این اینترفیس برای انجام مقایسه‌ی تساوی (equality comparison) در اشیاء مرکب به کار می‌رود. این اینترفیس دو متد دارد:<ul><li><code>Equals</code>: که دو شیء را بر اساس مقایسه ساختاری و با استفاده از یک <code>IEqualityComparer</code> مقایسه می‌کند.</li><li><code>GetHashCode</code>: که یک کد هش برای شیء تولید می‌کند، باز هم با استفاده از یک <code>IEqualityComparer</code>.</li></ul></li></ul></li><li><strong>IStructuralComparable:</strong><ul><li>این اینترفیس برای انجام مقایسه‌ی ترتیب (ordering comparison) در اشیاء مرکب استفاده می‌شود. متد اصلی آن <code>CompareTo</code> است که دو شیء را مقایسه کرده و ترتیب آن‌ها را بر اساس یک <code>IComparer</code> مشخص می‌کند.</li></ul></li></ol>\n",
    "</div>"
   ]
  },
  {
   "cell_type": "code",
   "execution_count": null,
   "metadata": {
    "dotnet_interactive": {
     "language": "csharp"
    },
    "polyglot_notebook": {
     "kernelName": "csharp"
    },
    "vscode": {
     "languageId": "polyglot-notebook"
    }
   },
   "outputs": [],
   "source": [
    "public interface IStructuralEquatable\n",
    "{\n",
    "    bool Equals (object other, IEqualityComparer comparer);\n",
    "    int GetHashCode (IEqualityComparer comparer);\n",
    "}\n",
    "public interface IStructuralComparable\n",
    "{\n",
    "    int CompareTo (object other, IComparer comparer);\n",
    "}"
   ]
  },
  {
   "cell_type": "code",
   "execution_count": null,
   "metadata": {
    "dotnet_interactive": {
     "language": "csharp"
    },
    "polyglot_notebook": {
     "kernelName": "csharp"
    },
    "vscode": {
     "languageId": "polyglot-notebook"
    }
   },
   "outputs": [],
   "source": [
    "int[] a1 = { 1, 2, 3 };\n",
    "int[] a2 = { 1, 2, 3 };\n",
    "IStructuralEquatable se1 = a1; // کلاس Array اینترفیس IStructuralEquatable را پیاده سازی کرده\n",
    "Console.Write (a1.Equals (a2)); // False\n",
    "Console.Write (se1.Equals (a2, EqualityComparer<int>.Default)); // True"
   ]
  },
  {
   "cell_type": "code",
   "execution_count": null,
   "metadata": {
    "dotnet_interactive": {
     "language": "csharp"
    },
    "polyglot_notebook": {
     "kernelName": "csharp"
    },
    "vscode": {
     "languageId": "polyglot-notebook"
    }
   },
   "outputs": [],
   "source": [
    "string[] a1 = \"the quick brown fox\".Split();\n",
    "string[] a2 = \"THE QUICK BROWN FOX\".Split();\n",
    "IStructuralEquatable se1 = a1;\n",
    "bool isTrue = se1.Equals (a2, StringComparer.InvariantCultureIgnoreCase);"
   ]
  }
 ],
 "metadata": {
  "kernelspec": {
   "display_name": ".NET (C#)",
   "language": "C#",
   "name": ".net-csharp"
  },
  "language_info": {
   "name": "python"
  },
  "polyglot_notebook": {
   "kernelInfo": {
    "defaultKernelName": "csharp",
    "items": [
     {
      "aliases": [],
      "name": "csharp"
     }
    ]
   }
  }
 },
 "nbformat": 4,
 "nbformat_minor": 2
}
