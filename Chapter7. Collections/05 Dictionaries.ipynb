{
 "cells": [
  {
   "cell_type": "markdown",
   "metadata": {
    "dotnet_interactive": {
     "language": "csharp"
    },
    "polyglot_notebook": {
     "kernelName": "csharp"
    }
   },
   "source": [
    "A `dictionary` is a collection in which each element is a `key/value pair`."
   ]
  },
  {
   "cell_type": "markdown",
   "metadata": {},
   "source": [
    "***Dictionaries*** are most commonly used for `lookups(جستجو)` and `sorted lists (لیست های مرتب که کمتر رایج است)`\n",
    "\n",
    "<div dir=\"rtl\" style=\"width:90%; margin:auto; font-family:vazirmatn;\">\n",
    "<li><strong>توضیح:</strong> دیکشنری‌ها به دلیل سرعت بالای جستجو، برای پیدا کردن مقادیر بر اساس کلیدها بسیار مفید هستند. همچنین می‌توان از آنها برای ایجاد لیست‌های مرتب استفاده کرد، هرچند این کاربرد کمتر رایج است.</li>\n",
    "</div>"
   ]
  },
  {
   "cell_type": "markdown",
   "metadata": {},
   "source": [
    "### `IDictionary<TKey,TValue>`"
   ]
  },
  {
   "cell_type": "markdown",
   "metadata": {},
   "source": [
    "`IDictionary<TKey,TValue>` defines the standard protocol for `all key/value-based\n",
    "collections`.  \n",
    "It extends `ICollection<T>` by adding methods and properties to access elements based on a key of arbitrary type"
   ]
  },
  {
   "cell_type": "code",
   "execution_count": null,
   "metadata": {
    "dotnet_interactive": {
     "language": "csharp"
    },
    "polyglot_notebook": {
     "kernelName": "csharp"
    },
    "vscode": {
     "languageId": "polyglot-notebook"
    }
   },
   "outputs": [],
   "source": [
    "public interface IDictionary<TKey, TValue> : \n",
    "    ICollection<KeyValuePair<TKey, TValue>>, \n",
    "    IEnumerable<KeyValuePair<TKey, TValue>>, \n",
    "    IEnumerable\n",
    "{\n",
    "    bool ContainsKey(TKey key);\n",
    "    bool TryGetValue(TKey key, out TValue value);\n",
    "    void Add(TKey key, TValue value);\n",
    "    bool Remove(TKey key);\n",
    "    TValue this[TKey key] { get; set; } // Main indexer - by key\n",
    "    ICollection<TKey> Keys { get; } // Returns just keys\n",
    "    ICollection<TValue> Values { get; } // Returns just values\n",
    "}"
   ]
  },
  {
   "cell_type": "markdown",
   "metadata": {},
   "source": [
    "<div dir=\"rtl\" style=\"width:90%; margin:auto; font-family:vazirmatn;\">\n",
    "<h5>یک سوال مهم </h5>\n",
    "<p><b>در حالی که خود <code>ICollection<T></code> اینترفیس <code>IEnumerable<T></code> را پیاده سازی میکند، با این حال موقعی که <code>IDictionary<T></code> را تعریف می کنیم، باز هم علاوه بر <code>ICollection</code> اینترفیس <code>IEnumereable</code> را هم پیاده سازی می کنیم؟</b></p>\n",
    "\n",
    "<ol><li><p><strong>صراحت و وضوح</strong>:</p><ul><li>زمانی که شما اینترفیس <code>IDictionary&lt;TKey, TValue&gt;</code> را می‌خوانید، با مشاهده‌ی این که <code>IEnumerable&lt;KeyValuePair&lt;TKey, TValue&gt;&gt;</code> و <code>IEnumerable</code> مستقیماً پیاده‌سازی شده‌اند، بلافاصله متوجه می‌شوید که این اینترفیس قابلیت پیمایش (enumeration) را دارد. این کار باعث می‌شود که طراحان و توسعه‌دهندگان دیگر نیازی به بررسی زنجیره‌ای از اینترفیس‌های پایه برای فهمیدن این موضوع نداشته باشند.</li></ul></li><li><p><strong>هم‌خوانی با اصول طراحی</strong>:</p><ul><li>یکی از اصول طراحی شیء‌گرایی اصل صراحت (explicitness) است. حتی اگر این امر به نظر اضافی برسد، پیاده‌سازی مستقیم <code>IEnumerable</code> و <code>IEnumerable&lt;T&gt;</code> در این اینترفیس نشان می‌دهد که هدف اصلی این اینترفیس، شامل توانایی پیمایش می‌شود.</li></ul></li><li><p><strong>پشتیبانی از انواع مختلف کلکسیون‌ها</strong>:</p><ul><li>اگر چه <code>ICollection&lt;T&gt;</code> قابلیت پیمایش را فراهم می‌کند، اما ممکن است شما بخواهید از <code>IDictionary&lt;TKey, TValue&gt;</code> بدون اینکه به طور ضمنی به <code>ICollection&lt;T&gt;</code> اشاره کنید، به عنوان یک <code>IEnumerable</code> استفاده کنید. این کار به شما این امکان را می‌دهد که یک <code>IDictionary</code> را به عنوان <code>IEnumerable</code> پاس بدهید، بدون اینکه <code>ICollection</code> را به عنوان واسط قرار دهید.</li></ul></li></ol>\n",
    "</div>"
   ]
  },
  {
   "cell_type": "code",
   "execution_count": null,
   "metadata": {
    "dotnet_interactive": {
     "language": "csharp"
    },
    "polyglot_notebook": {
     "kernelName": "csharp"
    },
    "vscode": {
     "languageId": "polyglot-notebook"
    }
   },
   "outputs": [],
   "source": [
    "public class MyDictionaryClass\n",
    "{\n",
    "    public void ProcessAsICollection<TKey, TValue>(\n",
    "        ICollection<KeyValuePair<TKey, TValue>> collection)\n",
    "    {\n",
    "        foreach (var item in collection)\n",
    "        {\n",
    "            Console.WriteLine($\"Key: {item.Key}, Value: {item.Value}\");\n",
    "        }\n",
    "    }\n",
    "\n",
    "    public void ProcessAsIEnumerable<TKey, TValue>(\n",
    "        IEnumerable<KeyValuePair<TKey, TValue>> enumerable)\n",
    "    {\n",
    "        foreach (var item in enumerable)\n",
    "        {\n",
    "            Console.WriteLine($\"Key: {item.Key}, Value: {item.Value}\");\n",
    "        }\n",
    "    }\n",
    "}\n",
    "\n",
    "IDictionary<int, string> myDict = new Dictionary<int, string>\n",
    "{\n",
    "    { 1, \"One\" },\n",
    "    { 2, \"Two\" },\n",
    "    { 3, \"Three\" }\n",
    "};\n",
    "\n",
    "MyDictionaryClass processor = new MyDictionaryClass();\n",
    "\n",
    "// Process as ICollection\n",
    "processor.ProcessAsICollection(myDict);\n",
    "\n",
    "// Process as IEnumerable\n",
    "processor.ProcessAsIEnumerable(myDict);"
   ]
  },
  {
   "cell_type": "markdown",
   "metadata": {},
   "source": [
    "<div dir=\"rtl\" style=\"width:90%; margin:auto; font-family:vazirmatn;\">\n",
    "<p>در صورت عدم پیاده‌سازی مستقیم <code>IEnumerable</code>، برای استفاده از دیکشنری به عنوان <code>IEnumerable</code> باید از تبدیل صریح استفاده کنید. پیاده‌سازی مستقیم <code>IEnumerable</code> و <code>IEnumerable&lt;KeyValuePair&lt;TKey, TValue&gt;&gt;</code> در <code>IDictionary&lt;TKey, TValue&gt;</code> این نیاز به تبدیل صریح را از بین می‌برد و کد را خواناتر و استفاده از آن را آسان‌تر می‌کند.</p>\n",
    "</div>"
   ]
  },
  {
   "cell_type": "code",
   "execution_count": null,
   "metadata": {
    "dotnet_interactive": {
     "language": "csharp"
    },
    "polyglot_notebook": {
     "kernelName": "csharp"
    },
    "vscode": {
     "languageId": "polyglot-notebook"
    }
   },
   "outputs": [],
   "source": [
    "public class MyDictionaryClass\n",
    "{\n",
    "    public void ProcessAsICollection<TKey, TValue>(\n",
    "        ICollection<KeyValuePair<TKey, TValue>> collection)\n",
    "    {\n",
    "        foreach (var item in collection)\n",
    "        {\n",
    "            Console.WriteLine($\"Key: {item.Key}, Value: {item.Value}\");\n",
    "        }\n",
    "    }\n",
    "\n",
    "    public void ProcessAsIEnumerable<TKey, TValue>(\n",
    "        IEnumerable<KeyValuePair<TKey, TValue>> enumerable)\n",
    "    {\n",
    "        foreach (var item in enumerable)\n",
    "        {\n",
    "            Console.WriteLine($\"Key: {item.Key}, Value: {item.Value}\");\n",
    "        }\n",
    "    }\n",
    "}\n",
    "\n",
    "IDictionary<int, string> myDict = new Dictionary<int, string>\n",
    "{\n",
    "    { 1, \"One\" },\n",
    "    { 2, \"Two\" },\n",
    "    { 3, \"Three\" }\n",
    "};\n",
    "\n",
    "MyDictionaryClass processor = new MyDictionaryClass();\n",
    "\n",
    "// Process as ICollection\n",
    "processor.ProcessAsICollection(myDict);\n",
    "\n",
    "// Process as IEnumerable\n",
    "processor.ProcessAsIEnumerable((IEnumerable<KeyValuePair<int, string>>)myDict);"
   ]
  },
  {
   "cell_type": "code",
   "execution_count": 4,
   "metadata": {
    "dotnet_interactive": {
     "language": "csharp"
    },
    "polyglot_notebook": {
     "kernelName": "csharp"
    },
    "vscode": {
     "languageId": "polyglot-notebook"
    }
   },
   "outputs": [
    {
     "name": "stdout",
     "output_type": "stream",
     "text": [
      "alireza\n",
      "reza\n",
      "ardalan\n"
     ]
    }
   ],
   "source": [
    "internal class User { }\n",
    "\n",
    "IDictionary<string, User> dic = new Dictionary<string, User>();\n",
    "\n",
    "dic.Add(\"alireza\", new User()); // add method of IDictionary\n",
    "dic.Add(new KeyValuePair<string, User>(\"reza\", new User())); //add method of ICollection\n",
    "dic[\"ardalan\"] = new User();\n",
    "\n",
    "foreach(var item in dic)\n",
    "    Console.WriteLine(item.Key);"
   ]
  },
  {
   "cell_type": "code",
   "execution_count": null,
   "metadata": {
    "dotnet_interactive": {
     "language": "csharp"
    },
    "polyglot_notebook": {
     "kernelName": "csharp"
    },
    "vscode": {
     "languageId": "polyglot-notebook"
    }
   },
   "outputs": [],
   "source": [
    "IDictionary<string, int> dic = new Dictionary<string, int>();\n",
    "\n",
    "dic.Add(\"alireza\", 38); // add method of IDictionary\n",
    "dic.Add(new KeyValuePair<string, int>(\"reza\", 33)); //add method of ICollection\n",
    "dic[\"ardalan\"] = 37;\n",
    "dic[\"alireza\"] = 38; //it's ok and update value \n",
    "//dic.Add(\"alireza\", 38); //throw exception\n",
    "\n",
    "int alirezaAge = dic[\"alireza\"];\n",
    "int unknownAge = dic[\"hamed\"];  //throw exception\n",
    "\n",
    "dic.TryGetValue(\"alireza\", out int tryAlirezaAge);\n",
    "dic.TryGetValue(\"hamed\", out int tryUnknownAge); // return false"
   ]
  },
  {
   "cell_type": "markdown",
   "metadata": {},
   "source": [
    "You can test for ***membership*** explicitly by calling `ContainsKey`; however, this incurs the `cost` of `two lookups` if you then subsequently ***retrieve the item***."
   ]
  },
  {
   "cell_type": "markdown",
   "metadata": {},
   "source": [
    "<div dir=\"rtl\" style=\"width:90%; margin:auto; font-family:vazirmatn;\">\n",
    "<h5>نقش <code>KeyValuePair&lt;TKey, TValue&gt;</code></h5>\n",
    "<p>برای تطبیق <code>IDictionary&lt;TKey, TValue&gt;</code> با <code>ICollection&lt;T&gt;</code> و <code>IEnumerable&lt;T&gt;</code>، به یک نوع واسط نیاز داریم که بتواند جفت‌های کلید و مقدار را نگهداری کند. اینجا است که <code>KeyValuePair&lt;TKey, TValue&gt;</code> وارد می‌شود. <code>KeyValuePair&lt;TKey, TValue&gt;</code> اجازه می‌دهد تا <code>IDictionary&lt;TKey, TValue&gt;</code> بتواند با استانداردهای <code>ICollection&lt;T&gt;</code> و <code>IEnumerable&lt;T&gt;</code> سازگار باشد. به طور دقیق‌تر:</p>\n",
    "</div>"
   ]
  },
  {
   "cell_type": "markdown",
   "metadata": {},
   "source": [
    "### IDictionary"
   ]
  },
  {
   "cell_type": "code",
   "execution_count": null,
   "metadata": {
    "dotnet_interactive": {
     "language": "csharp"
    },
    "polyglot_notebook": {
     "kernelName": "csharp"
    },
    "vscode": {
     "languageId": "polyglot-notebook"
    }
   },
   "outputs": [],
   "source": [
    "public interface IDictionary : ICollection, IEnumerable\n",
    "{\n",
    "    // پراپرتی برای دسترسی به یا تنظیم مقدار یک کلید خاص\n",
    "    object this[object key] { get; set; }\n",
    "\n",
    "    // پراپرتی فقط خواندنی برای دسترسی به کلیدها\n",
    "    ICollection Keys { get; }\n",
    "\n",
    "    // پراپرتی فقط خواندنی برای دسترسی به مقادیر\n",
    "    ICollection Values { get; }\n",
    "\n",
    "    // پراپرتی برای بررسی اینکه دیکشنری دارای اندازه ثابت است یا خیر\n",
    "    bool IsFixedSize { get; }\n",
    "\n",
    "    // پراپرتی برای بررسی اینکه دیکشنری فقط خواندنی است یا خیر\n",
    "    bool IsReadOnly { get; }\n",
    "\n",
    "    // متد برای افزودن یک عنصر جدید به دیکشنری\n",
    "    void Add(object key, object value);\n",
    "\n",
    "    // متد برای پاک کردن تمامی عناصر از دیکشنری\n",
    "    void Clear();\n",
    "\n",
    "    // متد برای بررسی وجود یک کلید در دیکشنری\n",
    "    bool Contains(object key);\n",
    "\n",
    "    // متد برای دریافت یک Enumerator برای پیمایش دیکشنری\n",
    "    new IDictionaryEnumerator GetEnumerator();\n",
    "\n",
    "    // متد برای حذف یک عنصر بر اساس کلید\n",
    "    void Remove(object key);\n",
    "}"
   ]
  },
  {
   "cell_type": "markdown",
   "metadata": {},
   "source": [
    "<div dir=\"rtl\" style=\"width:90%; margin:auto; font-family:vazirmatn;\">\n",
    "<li><strong>بازگرداندن null به جای پرتاب استثناء</strong>:<ul><li>در <code>IDictionary</code> غیر جنریک، اگر کلیدی که وجود ندارد از طریق ایندکسر فراخوانی شود، مقدار <code>null</code> بازگردانده می‌شود. در حالی که در <code>IDictionary&lt;TKey, TValue&gt;</code> جنریک، این کار باعث پرتاب یک استثناء می‌شود.</li></ul></li>\n",
    "</div>"
   ]
  },
  {
   "cell_type": "markdown",
   "metadata": {},
   "source": [
    "***Enumerating*** over a `nongeneric IDictionary` returns a sequence of `DictionaryEntry` structs"
   ]
  },
  {
   "cell_type": "code",
   "execution_count": null,
   "metadata": {
    "dotnet_interactive": {
     "language": "csharp"
    },
    "polyglot_notebook": {
     "kernelName": "csharp"
    },
    "vscode": {
     "languageId": "polyglot-notebook"
    }
   },
   "outputs": [],
   "source": [
    "public struct DictionaryEntry\n",
    "{\n",
    "    public object Key { get; set; }\n",
    "    public object Value { get; set; }\n",
    "}"
   ]
  },
  {
   "cell_type": "code",
   "execution_count": null,
   "metadata": {
    "dotnet_interactive": {
     "language": "csharp"
    },
    "polyglot_notebook": {
     "kernelName": "csharp"
    },
    "vscode": {
     "languageId": "polyglot-notebook"
    }
   },
   "outputs": [],
   "source": [
    "// ایجاد یک Hashtable که از IDictionary غیر جنریک استفاده می‌کند\n",
    "using System.Collections;\n",
    "\n",
    "IDictionary hashtable = new Hashtable();\n",
    "\n",
    "// اضافه کردن آیتم‌ها به Hashtable\n",
    "hashtable.Add(1, \"One\");\n",
    "hashtable.Add(2, \"Two\");\n",
    "hashtable.Add(3, \"Three\");\n",
    "\n",
    "// بررسی وجود یک کلید با استفاده از Contains\n",
    "if (hashtable.Contains(2))\n",
    "{\n",
    "    Console.WriteLine(\"Key 2 exists in the hashtable.\");\n",
    "}\n",
    "else\n",
    "{\n",
    "    Console.WriteLine(\"Key 2 does not exist in the hashtable.\");\n",
    "}\n",
    "\n",
    "// دسترسی به مقدار با استفاده از ایندکسر\n",
    "object value = hashtable[2];\n",
    "if (value != null)\n",
    "{\n",
    "    Console.WriteLine($\"Value for key 2 is: {value}\");\n",
    "}\n",
    "else\n",
    "{\n",
    "    Console.WriteLine(\"Key 2 does not exist in the hashtable.\");\n",
    "}\n",
    "\n",
    "// پیمایش آیتم‌های موجود در Hashtable\n",
    "foreach (DictionaryEntry entry in hashtable)\n",
    "{\n",
    "    Console.WriteLine($\"Key: {entry.Key}, Value: {entry.Value}\");\n",
    "}"
   ]
  },
  {
   "cell_type": "markdown",
   "metadata": {},
   "source": [
    "### `Dictionary<TKey,TValue>` and `Hashtable`"
   ]
  },
  {
   "cell_type": "markdown",
   "metadata": {},
   "source": [
    "The generic `Dictionary` class is one of the ***most commonly used collections*** (along with the **List<T>** collection).  \n",
    "  \n",
    "It uses a `hashtable data structure` to store keys and values, and it is ***fast*** and ***efficient***."
   ]
  },
  {
   "cell_type": "markdown",
   "metadata": {},
   "source": [
    "The ***nongeneric version*** of `Dictionary<TKey,TValue>` is called `Hashtable`;  \n",
    "  \n",
    "there is `no nongeneric` class called ***Dictionary***"
   ]
  },
  {
   "cell_type": "markdown",
   "metadata": {},
   "source": [
    "<div dir=\"rtl\" style=\"width:90%; margin:auto; font-family:vazirmatn;\">\n",
    "<p> کلاس <code>Dictionary</code> در C#، هم اینترفیس جنریک <code>IDictionary&lt;TKey, TValue&gt;</code> و هم اینترفیس غیر جنریک <code>IDictionary</code> را پیاده‌سازی می‌کند. اما آنچه به طور عمومی در دسترس قرار می‌گیرد و مورد استفاده قرار می‌گیرد، اینترفیس جنریک <code>IDictionary&lt;TKey, TValue&gt;</code> است.</p>\n",
    "</div>"
   ]
  },
  {
   "cell_type": "code",
   "execution_count": null,
   "metadata": {
    "dotnet_interactive": {
     "language": "csharp"
    },
    "polyglot_notebook": {
     "kernelName": "csharp"
    },
    "vscode": {
     "languageId": "polyglot-notebook"
    }
   },
   "outputs": [],
   "source": [
    "using System.Collections;\n",
    "\n",
    "Dictionary<string, int> genericDictionary = new Dictionary<string, int>();\n",
    "genericDictionary.Add(\"one\", 1);\n",
    "genericDictionary.Add(\"two\", 2);\n",
    "\n",
    "Console.WriteLine(\"Generic Dictionary:\");\n",
    "foreach (KeyValuePair<string, int> kvp in genericDictionary)\n",
    "{\n",
    "    Console.WriteLine($\"Key: {kvp.Key}, Value: {kvp.Value}\");\n",
    "}\n",
    "\n",
    "// استفاده از دیکشنری غیر جنریک\n",
    "IDictionary nonGenericDictionary = new Dictionary<string, int>();\n",
    "nonGenericDictionary.Add(\"three\", 3);\n",
    "nonGenericDictionary.Add(\"four\", 4);\n",
    "\n",
    "Console.WriteLine(\"\\nNon-Generic Dictionary:\");\n",
    "foreach (DictionaryEntry kvp in nonGenericDictionary)\n",
    "{\n",
    "    Console.WriteLine($\"Key: {kvp.Key}, Value: {kvp.Value}\");\n",
    "}"
   ]
  },
  {
   "cell_type": "code",
   "execution_count": null,
   "metadata": {
    "dotnet_interactive": {
     "language": "csharp"
    },
    "polyglot_notebook": {
     "kernelName": "csharp"
    },
    "vscode": {
     "languageId": "polyglot-notebook"
    }
   },
   "outputs": [],
   "source": [
    "var d = new Dictionary<string, int>();\n",
    "d.Add(\"One\", 1);\n",
    "d[\"Two\"] = 2; // adds to dictionary because \"two\" not already present\n",
    "d[\"Two\"] = 22; // updates dictionary because \"two\" is now present\n",
    "d[\"Three\"] = 3;\n",
    "\n",
    "Console.WriteLine(d[\"Two\"]); // Prints \"22\"\n",
    "Console.WriteLine(d.ContainsKey(\"One\")); // true (fast operation)\n",
    "Console.WriteLine(d.ContainsValue(3)); // true (slow operation)\n",
    "\n",
    "int val = 0;\n",
    "if (!d.TryGetValue(\"onE\", out val))\n",
    "    Console.WriteLine(\"No val\"); // \"No val\" (case sensitive)\n",
    "\n",
    "// Three different ways to enumerate the dictionary:\n",
    "foreach (KeyValuePair<string, int> kv in d) // One; 1\n",
    "    Console.WriteLine(kv.Key + \"; \" + kv.Value); // Two; 22\n",
    "// Three; 3\n",
    "foreach (string s in d.Keys) Console.Write(s); // OneTwoThree\n",
    "Console.WriteLine();\n",
    "foreach (int i in d.Values) Console.Write(i); // 1223"
   ]
  },
  {
   "cell_type": "markdown",
   "metadata": {},
   "source": [
    "### Underlying of dictionary"
   ]
  },
  {
   "cell_type": "markdown",
   "metadata": {},
   "source": [
    "<div dir=\"rtl\" style=\"width:90%; margin:auto; font-family:vazirmatn;\">\n",
    "<h5>1. <strong>تبدیل کلید به HashCode:</strong></h5>\n",
    "<p>هر کلید در <code>Dictionary</code> به یک مقدار عددی به نام hashcode تبدیل می‌شود. این hashcode یک مقدار عددی است که به طور تقریبی یکتا است و به صورت پیوسته از کلید تولید می‌شود.</p>\n",
    "<h3>2. <strong>تبدیل HashCode به Hash Key:</strong></h3>\n",
    "<p>پس از تولید hashcode، یک الگوریتم برای تبدیل این hashcode به یک hash key استفاده می‌شود. این hash key به طور داخلی برای تعیین این که یک عنصر در کدام \"سطل\" (bucket) قرار بگیرد، استفاده می‌شود.</p>\n",
    "<h3>3. <strong>سطل‌ها (Buckets):</strong></h3>\n",
    "<p>سطل‌ها بخش‌هایی از حافظه هستند که برای ذخیره مقادیر استفاده می‌شوند. هر سطل می‌تواند شامل چندین عنصر باشد. در حالت ایده‌آل، یک hash key به یک سطل منحصر به فرد اشاره می‌کند که حاوی یک عنصر یا تعداد کمی عنصر است.</p>\n",
    "<h3>4. <strong>جستجوی خطی در سطل‌ها:</strong></h3>\n",
    "<p>اگر یک سطل بیش از یک عنصر داشته باشد، یک جستجوی خطی برای یافتن عنصر مورد نظر در آن سطل انجام می‌شود. این جستجوی خطی زمانی که تعداد عناصر در یک سطل کم باشد، کارایی خوبی دارد.</p>\n",
    "<h3>5. <strong>هدف یک تابع هش خوب:</strong></h3>\n",
    "<p>هدف یک تابع هش (hash function) خوب، تولید hashcodeهایی است که به طور یکنواخت در فضای عددی ۳۲ بیتی توزیع شده‌اند. این توزیع یکنواخت کمک می‌کند تا از تجمع تعداد زیادی عنصر در یک سطل جلوگیری شود و سطل‌های بهینه و کوچکی ایجاد شوند.</p>\n",
    "\n",
    "<h3>اهمیت توزیع یکنواخت</h3>\n",
    "<p>توزیع یکنواخت hashcodeها بسیار مهم است زیرا اگر hashcodeها به خوبی توزیع نشوند، ممکن است برخی سطل‌ها بسیار بزرگ و پر از عناصر شوند. این وضعیت باعث کاهش کارایی <code>Dictionary</code> می‌شود زیرا زمان جستجوی خطی در این سطل‌ها افزایش می‌یابد.</p>\n",
    "</div>"
   ]
  },
  {
   "cell_type": "markdown",
   "metadata": {},
   "source": [
    "<div dir=\"rtl\" style=\"width:90%; margin:auto; font-family:vazirmatn;\">\n",
    "<p>استفاده از اعداد اول در توابع هش به توزیع یکنواخت‌تر کدهای هش در فضای هش کمک می‌کند. این امر باعث می‌شود که برخوردها کاهش یابند و عملکرد کلی ساختار داده‌ای که از هش استفاده می‌کند، بهبود یابد. بنابراین، انتخاب اعداد اول به عنوان ضرایب در توابع هش یک روش استاندارد و بهینه برای بهبود کارایی و کاهش برخوردها است.</p>\n",
    "</div>"
   ]
  },
  {
   "cell_type": "code",
   "execution_count": null,
   "metadata": {
    "dotnet_interactive": {
     "language": "csharp"
    },
    "polyglot_notebook": {
     "kernelName": "csharp"
    },
    "vscode": {
     "languageId": "polyglot-notebook"
    }
   },
   "outputs": [],
   "source": [
    "public class Person\n",
    "{\n",
    "    public string FirstName { get; set; }\n",
    "    public string LastName { get; set; }\n",
    "    public int Age { get; set; }\n",
    "\n",
    "    public override int GetHashCode()\n",
    "    {\n",
    "        int hash = 17; // شروع با یک عدد اول\n",
    "        hash = hash * 31 + (FirstName != null ? FirstName.GetHashCode() : 0);\n",
    "        hash = hash * 31 + (LastName != null ? LastName.GetHashCode() : 0);\n",
    "        hash = hash * 31 + Age.GetHashCode();\n",
    "        return hash;\n",
    "    }\n",
    "}\n"
   ]
  },
  {
   "cell_type": "markdown",
   "metadata": {},
   "source": [
    "<div dir=\"rtl\" style=\"width:90%; margin:auto; font-family:vazirmatn;\">\n",
    "<h3>چرایی انتخاب 31</h3>\n",
    "<p>عدد 31 به دلیل خواص ریاضی خاص خود معمولاً در توابع هش استفاده می‌شود:</p>\n",
    "<p>31 یک عدد اول است و استفاده از اعداد اول به توزیع یکنواخت کمک می‌کند.</p>\n",
    "</div>"
   ]
  },
  {
   "cell_type": "markdown",
   "metadata": {},
   "source": [
    "<div dir=\"rtl\" style=\"width:90%; margin:auto; font-family:vazirmatn;\">\n",
    "    <h5>1. <strong>کلیدهای با هر نوع:</strong></h5>\n",
    "    <p>یک دیکشنری می‌تواند از کلیدهای با هر نوعی استفاده کند. اما برای این کار، باید قادر باشد:</p>\n",
    "    <ul><li>تساوی بین کلیدها را تعیین کند.</li><li>کدهای هش یکتا برای کلیدها تولید کند.</li></ul>\n",
    "    <h5>2. <strong>روش پیش‌فرض برای تعیین تساوی و تولید کد هش:</strong></h5>\n",
    "    <ul><li><strong>تعیین تساوی:</strong> به طور پیش‌فرض، تساوی بین کلیدها با استفاده از متد <code>object.Equals</code> تعیین می‌شود. این متد بررسی می‌کند که آیا دو شیء برابر هستند یا خیر.</li><li><strong>تولید کد هش:</strong> کدهای هش با استفاده از متد <code>object.GetHashCode</code> تولید می‌شوند. این متد یک مقدار عددی شبه یکتا (pseudo-unique) برای هر شیء تولید می‌کند.</li></ul>\n",
    "    <h5>3. <strong>تغییر رفتار پیش‌فرض:</strong></h5>\n",
    "    <p>می‌توانید این رفتار پیش‌فرض را به دو روش تغییر دهید:</p>\n",
    "    <ul><li><strong>Override کردن متدها:</strong> می‌توانید متدهای <code>Equals</code> و <code>GetHashCode</code> را در کلاس کلید خود override کنید تا رفتار تساوی و تولید کد هش را تغییر دهید.</li><li><strong>استفاده از <code>IEqualityComparer</code>:</strong> می‌توانید یک شیء از نوع <code>IEqualityComparer</code> هنگام ساخت دیکشنری ارائه دهید. این شیء تعیین می‌کند که چگونه تساوی و کدهای هش برای کلیدها تعیین شوند.</li></ul>\n",
    "    \n",
    "</div>"
   ]
  },
  {
   "cell_type": "code",
   "execution_count": null,
   "metadata": {
    "dotnet_interactive": {
     "language": "csharp"
    },
    "polyglot_notebook": {
     "kernelName": "csharp"
    },
    "vscode": {
     "languageId": "polyglot-notebook"
    }
   },
   "outputs": [],
   "source": [
    "public class Person\n",
    "{\n",
    "    public int Id { get; set; }\n",
    "    public string FirstName { get; set; }\n",
    "    public string LastName { get; set; }\n",
    "\n",
    "    public override bool Equals(object obj)\n",
    "    {\n",
    "        if (obj is Person other)\n",
    "        {\n",
    "            return Id == other.Id;\n",
    "        }\n",
    "        return false;\n",
    "    }\n",
    "\n",
    "    public override int GetHashCode()\n",
    "    {\n",
    "        return Id.GetHashCode();\n",
    "    }\n",
    "}\n",
    "\n",
    "public class PersonComparer : IEqualityComparer<Person>\n",
    "{\n",
    "    public bool Equals(Person x, Person y)\n",
    "    {\n",
    "        if (ReferenceEquals(x, y)) return true;\n",
    "        if (x is null || y is null) return false;\n",
    "        return x.Id == y.Id;\n",
    "    }\n",
    "\n",
    "    public int GetHashCode(Person obj)\n",
    "    {\n",
    "        return obj.Id.GetHashCode();\n",
    "    }\n",
    "}\n",
    "\n",
    "// استفاده از Person به عنوان کلید در Dictionary با IEqualityComparer سفارشی\n",
    "var dictionary = new Dictionary<Person, string>(new PersonComparer());\n"
   ]
  },
  {
   "cell_type": "code",
   "execution_count": null,
   "metadata": {
    "dotnet_interactive": {
     "language": "csharp"
    },
    "polyglot_notebook": {
     "kernelName": "csharp"
    },
    "vscode": {
     "languageId": "polyglot-notebook"
    }
   },
   "outputs": [],
   "source": [
    "//because string for key is case sensitive\n",
    "//you can do this fo key is case insensitive\n",
    "var d = new Dictionary<string, int> (StringComparer.OrdinalIgnoreCase);"
   ]
  },
  {
   "cell_type": "markdown",
   "metadata": {},
   "source": [
    "### OrderedDictionary"
   ]
  },
  {
   "cell_type": "markdown",
   "metadata": {},
   "source": [
    "An `OrderedDictionary` is a ***nongeneric dictionary*** that maintains elements in the `same order that they were added`.  \n",
    "  \n",
    "With an ***OrderedDictionary***, you can access elements both by `index` and by `key`"
   ]
  },
  {
   "cell_type": "markdown",
   "metadata": {},
   "source": [
    "An ***OrderedDictionary*** is a combination of a `Hashtable` and an `ArrayList`."
   ]
  },
  {
   "cell_type": "markdown",
   "metadata": {},
   "source": [
    "### ListDictionary and HybridDictionary"
   ]
  },
  {
   "cell_type": "markdown",
   "metadata": {},
   "source": [
    "<div dir=\"rtl\" style=\"width:90%; margin:auto; font-family:vazirmatn;\">\n",
    "<h5>1. ListDictionary:</h5>\n",
    "<ul><li><strong>ساختار:</strong> <code>ListDictionary</code> از یک لیست پیوندی ساده (singly linked list) برای ذخیره‌سازی داده‌ها استفاده می‌کند.</li><li><strong>مرتب‌سازی:</strong> این ساختار داده قابلیت مرتب‌سازی ندارد، اما ترتیب اصلی ورود آیتم‌ها را حفظ می‌کند.</li><li><strong>کارایی:</strong> <code>ListDictionary</code> زمانی که تعداد آیتم‌ها زیاد باشد بسیار کند عمل می‌کند. این کلاس به طور خاص زمانی مفید است که لیست شما بسیار کوچک (کمتر از ۱۰ آیتم) باشد. در این شرایط، به دلیل کم‌حجم بودن ساختار و حافظه کم مورد نیاز، استفاده از آن بهینه است.</li></ul>\n",
    "<h5>2. HybridDictionary:</h5>\n",
    "<ul><li><strong>ترکیبی از دو ساختار:</strong> <code>HybridDictionary</code> در واقع یک <code>ListDictionary</code> است که به صورت خودکار زمانی که اندازه لیست از یک حد مشخص عبور می‌کند، به یک <code>Hashtable</code> تبدیل می‌شود.</li><li><strong>هدف:</strong> هدف اصلی این کلاس، ترکیب مزایای هر دو ساختار است؛ یعنی کاهش استفاده از حافظه زمانی که لیست کوچک است (با استفاده از <code>ListDictionary</code>) و افزایش کارایی زمانی که لیست بزرگ می‌شود (با تبدیل به <code>Hashtable</code>).</li><li><strong>معایب:</strong> به دلیل سربار ناشی از تبدیل ساختار از <code>ListDictionary</code> به <code>Hashtable</code> و با توجه به اینکه کلاس <code>Dictionary</code> در همه شرایط (کوچک یا بزرگ بودن لیست) عملکرد خوبی دارد، استفاده از <code>Dictionary</code> ممکن است انتخاب مناسب‌تری باشد و نیازی به استفاده از <code>HybridDictionary</code> نباشد.</li></ul>\n",
    "</div>"
   ]
  },
  {
   "cell_type": "code",
   "execution_count": 3,
   "metadata": {
    "dotnet_interactive": {
     "language": "csharp"
    },
    "polyglot_notebook": {
     "kernelName": "csharp"
    },
    "vscode": {
     "languageId": "polyglot-notebook"
    }
   },
   "outputs": [
    {
     "ename": "Error",
     "evalue": "System.NullReferenceException: Object reference not set to an instance of an object.\r\n   at Submission#4.<<Initialize>>d__0.MoveNext()\r\n--- End of stack trace from previous location ---\r\n   at Microsoft.CodeAnalysis.Scripting.ScriptExecutionState.RunSubmissionsAsync[TResult](ImmutableArray`1 precedingExecutors, Func`2 currentExecutor, StrongBox`1 exceptionHolderOpt, Func`2 catchExceptionOpt, CancellationToken cancellationToken)",
     "output_type": "error",
     "traceback": [
      "System.NullReferenceException: Object reference not set to an instance of an object.\r\n",
      "   at Submission#4.<<Initialize>>d__0.MoveNext()\r\n",
      "--- End of stack trace from previous location ---\r\n",
      "   at Microsoft.CodeAnalysis.Scripting.ScriptExecutionState.RunSubmissionsAsync[TResult](ImmutableArray`1 precedingExecutors, Func`2 currentExecutor, StrongBox`1 exceptionHolderOpt, Func`2 catchExceptionOpt, CancellationToken cancellationToken)"
     ]
    }
   ],
   "source": [
    "using System.Collections.Specialized;\n",
    "\n",
    "ListDictionary listDictionary = new ListDictionary();\n",
    "\n",
    "// اضافه کردن آیتم‌ها به ListDictionary\n",
    "listDictionary.Add(\"first\", \"Hello\");\n",
    "listDictionary.Add(\"second\", \"World\");\n",
    "listDictionary.Add(\"third\", \"!\");\n",
    "\n",
    "// نمایش آیتم‌ها\n",
    "foreach (var key in listDictionary.Keys)\n",
    "{\n",
    "\tConsole.WriteLine($\"{key}: {listDictionary[key]}\");\n",
    "}\n",
    "\n",
    "HybridDictionary hybridDictionary = new HybridDictionary();\n",
    "\n",
    "//اضافه کردن آیتم‌ها به HybridDictionary\n",
    "for (int i = 0; i < 15; i++)\n",
    "{\n",
    "\thybridDictionary.Add(\"key\" + i, \"value\" + i);\n",
    "}\n",
    "\n",
    "// نمایش آیتم‌ها\n",
    "foreach (var key in hybridDictionary.Keys)\n",
    "{\n",
    "\tConsole.WriteLine($\"{key}: {hybridDictionary[key]}\");\n",
    "}"
   ]
  },
  {
   "cell_type": "markdown",
   "metadata": {},
   "source": [
    "### Sorted Dictionaries"
   ]
  },
  {
   "cell_type": "markdown",
   "metadata": {},
   "source": [
    "The ***.NET BCL*** provides two dictionary classes internally structured such that ***their content*** is `always sorted` **by key**:  \n",
    "- `SortedDictionary<TKey,TValue>`  \n",
    "  \n",
    "- `SortedList<TKey,TValue>`"
   ]
  },
  {
   "cell_type": "markdown",
   "metadata": {},
   "source": [
    "<div dir=\"rtl\" style=\"width:90%; margin:auto; font-family:vazirmatn;\">\n",
    "<h5>1. SortedDictionary&lt;TKey,TValue&gt;:</h5>\n",
    "<ul><li><strong>ساختار داخلی:</strong> این کلاس از یک ساختار داده به نام درخت قرمز-سیاه (Red/Black Tree) استفاده می‌کند. درخت قرمز-سیاه یک نوع درخت دودویی جستجو است که به گونه‌ای طراحی شده که در هر سناریوی درج (insertion) یا بازیابی (retrieval) عملکرد ثابتی داشته باشد.</li><li><strong>کارایی:</strong> این ساختار برای درج عناصر در یک توالی تصادفی بسیار کارآمد است، به‌ویژه زمانی که لیست بزرگ است. به عبارت دیگر، <code>SortedDictionary&lt;,&gt;</code> هنگام اضافه کردن عناصر به صورت تصادفی سریع‌تر از <code>SortedList&lt;,&gt;</code> عمل می‌کند.</li></ul>\n",
    "\n",
    "<h5>2. SortedList&lt;TKey,TValue&gt;:</h5>\n",
    "<ul><li><strong>ساختار داخلی:</strong> این کلاس به طور داخلی با یک جفت آرایه مرتب‌شده (ordered array pair) پیاده‌سازی شده است. در اینجا، کلیدها و مقادیر به صورت مرتب در یک آرایه ذخیره می‌شوند.</li><li><strong>بازیابی سریع:</strong> <code>SortedList&lt;,&gt;</code> از جستجوی دودویی (binary-chop search) برای بازیابی داده‌ها استفاده می‌کند که به همین دلیل سرعت بالایی در بازیابی دارد.</li><li><strong>عملکرد ضعیف در درج:</strong> از آنجا که مقادیر موجود در آرایه مرتب شده‌اند، برای درج یک ورودی جدید، ممکن است نیاز باشد که مقادیر موجود جابجا شوند تا فضای مناسب برای ورودی جدید ایجاد شود. این امر باعث می‌شود عملکرد درج در <code>SortedList&lt;,&gt;</code> کندتر از <code>SortedDictionary&lt;,&gt;</code> باشد.</li><li><strong>دسترسی با ایندکس:</strong> <code>SortedList&lt;,&gt;</code> یک قابلیت اضافه دارد که به شما اجازه می‌دهد آیتم‌ها را بر اساس ایندکس (index) نیز دسترسی داشته باشید. به این معنی که می‌توانید مستقیماً به nامین عنصر در دنباله مرتب شده دسترسی پیدا کنید (از طریق ایندکسر <code>Keys/Values</code>).</li></ul>\n",
    "</div>"
   ]
  }
 ],
 "metadata": {
  "kernelspec": {
   "display_name": ".NET (C#)",
   "language": "C#",
   "name": ".net-csharp"
  },
  "language_info": {
   "name": "python"
  },
  "polyglot_notebook": {
   "kernelInfo": {
    "defaultKernelName": "csharp",
    "items": [
     {
      "aliases": [],
      "name": "csharp"
     }
    ]
   }
  }
 },
 "nbformat": 4,
 "nbformat_minor": 2
}
