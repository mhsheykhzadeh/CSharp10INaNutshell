{
 "cells": [
  {
   "cell_type": "markdown",
   "metadata": {},
   "source": [
    "<div dir=\"rtl\" style=\"width:90%; margin:auto; font-family:vazirmatn;\">\n",
    "<h5>1. <strong>مجموعه‌های قابل تنظیم (Customizable Collections):</strong></h5>\n",
    "<ul><li><strong>نیاز به کنترل بیشتر:</strong> در برخی موارد، شما نیاز دارید که کنترل بیشتری روی عملیاتی مثل افزودن یا حذف آیتم‌ها از یک مجموعه داشته باشید. به عنوان مثال:<ul><li>شلیک یک رویداد (Event) هر زمان که یک آیتم اضافه یا حذف می‌شود.</li><li>به‌روزرسانی خواصی در برنامه که به وجود یا عدم وجود آیتم‌ها وابسته‌اند.</li><li>جلوگیری از عملیات‌های غیرمجاز (مثلاً اضافه یا حذف آیتم‌ها که ممکن است با قوانین کسب و کار شما تناقض داشته باشد) و پرتاب یک استثناء (Exception).</li></ul></li></ul>\n",
    "\n",
    "<h5>2. <strong>کلاس‌های پروکسی (Proxies) و مجموعه‌های سفارشی:</strong></h5>\n",
    "<ul>\n",
    "<li>\n",
    "<p>در C#، Proxy یک الگو (Design Pattern) است که برای کنترل دسترسی یا مدیریت رفتار یک شیء دیگر (معمولاً به عنوان \"اصلی\" یا \"target\") استفاده می‌شود. Proxies معمولاً به‌عنوان یک واسط بین کاربر و شیء اصلی عمل می‌کنند و می‌توانند به موارد زیر کمک کنند:</p>\n",
    "<ol><li><strong>کنترل دسترسی:</strong> محدود کردن یا ارائه دسترسی خاص به ویژگی‌ها و روش‌های یک شیء.</li><li><strong>مدیریت منابع:</strong> مدیریت بهتر منابع مانند حافظه و پردازش‌ها.</li><li><strong>تغییر رفتار:</strong> تغییر رفتار شیء اصلی بدون نیاز به تغییر مستقیم کد آن.</li></ol>\n",
    "</li>\n",
    "<li><strong>کلاس‌های پروکسی:</strong> .NET BCL کلاس‌هایی را در فضای نام <code>System.Collections.ObjectModel</code> فراهم می‌کند که به شما اجازه می‌دهند این نوع کنترل‌ها را پیاده‌سازی کنید. این کلاس‌ها مانند پروکسی‌ها یا پوشش‌هایی (wrappers) عمل می‌کنند که رابط‌هایی مانند <code>IList&lt;T&gt;</code> یا <code>IDictionary&lt;TKey, TValue&gt;</code> را پیاده‌سازی کرده و عملیات‌ها را به یک مجموعه زیرین (underlying collection) منتقل می‌کنند.</li><li><strong>متدهای مجازی (Virtual Methods):</strong> عملیات‌هایی مثل افزودن (<code>Add</code>)، حذف (<code>Remove</code>)، و پاک‌سازی (<code>Clear</code>) از طریق متدهای مجازی انجام می‌شوند. این متدهای مجازی به شما اجازه می‌دهند که آن‌ها را بازنویسی (Override) کنید و رفتار خاص خود را هنگام انجام این عملیات‌ها اعمال کنید.</li></ul>\n",
    "</div>"
   ]
  },
  {
   "cell_type": "code",
   "execution_count": 1,
   "metadata": {
    "dotnet_interactive": {
     "language": "csharp"
    },
    "polyglot_notebook": {
     "kernelName": "csharp"
    },
    "vscode": {
     "languageId": "polyglot-notebook"
    }
   },
   "outputs": [
    {
     "name": "stdout",
     "output_type": "stream",
     "text": [
      "Action: Add, New Items: 1, Old Items: \n",
      "Action: Add, New Items: 1, Old Items: \n",
      "Action: Remove, New Items: , Old Items: 1\n"
     ]
    }
   ],
   "source": [
    "using System.Collections.ObjectModel;\n",
    "\n",
    "ObservableCollection<string> myCollection = new ObservableCollection<string>();\n",
    "\n",
    "// اضافه کردن یک event handler برای رویداد CollectionChanged\n",
    "myCollection.CollectionChanged += (sender, e) =>\n",
    "{\n",
    "\tConsole.WriteLine($\"Action: {e.Action}, New Items: {e.NewItems?.Count}, Old Items: {e.OldItems?.Count}\");\n",
    "};\n",
    "\n",
    "// اضافه کردن آیتم‌ها به مجموعه\n",
    "myCollection.Add(\"Item 1\");\n",
    "myCollection.Add(\"Item 2\");\n",
    "\n",
    "// حذف آیتم‌ها از مجموعه\n",
    "myCollection.Remove(\"Item 1\");"
   ]
  },
  {
   "cell_type": "code",
   "execution_count": null,
   "metadata": {
    "dotnet_interactive": {
     "language": "csharp"
    },
    "polyglot_notebook": {
     "kernelName": "csharp"
    },
    "vscode": {
     "languageId": "polyglot-notebook"
    }
   },
   "outputs": [],
   "source": [
    "public class ListProxy : List<int>\n",
    "{\n",
    "    // روش Add را Override می‌کنیم\n",
    "    public new void Add(int item)\n",
    "    {\n",
    "        if (item % 3 == 0)\n",
    "        {\n",
    "            base.Add(item);\n",
    "            Console.WriteLine($\"{item} added to the list.\");\n",
    "        }\n",
    "        else\n",
    "        {\n",
    "            Console.WriteLine($\"{item} is not a multiple of 3 and was not added.\");\n",
    "        }\n",
    "    }\n",
    "}"
   ]
  },
  {
   "cell_type": "markdown",
   "metadata": {},
   "source": [
    "### `Collection<T>` and `CollectionBase`"
   ]
  },
  {
   "cell_type": "markdown",
   "metadata": {},
   "source": [
    "<div dir=\"rtl\" style=\"width:90%; margin:auto; font-family:vazirmatn;\">\n",
    "<p>کلاس <code>Collection&lt;T&gt;</code> یک کلاس عمومی است که به عنوان یک پوشش (wrapper) برای <code>List&lt;T&gt;</code> عمل می‌کند. این کلاس برای زمانی طراحی شده که شما می‌خواهید رفتار پیش‌فرض یک لیست را سفارشی کنید، اما همچنان از امکانات پایه‌ای یک لیست بهره‌مند باشید.</p>\n",
    "<ul><li>این کلاس چندین رابط را پیاده‌سازی می‌کند:<ul><li><code>IList&lt;T&gt;</code></li><li><code>ICollection&lt;T&gt;</code></li><li><code>IEnumerable&lt;T&gt;</code></li><li><code>IList</code></li><li><code>ICollection</code></li><li><code>IEnumerable</code></li></ul>این رابط‌ها رفتارهای استانداردی را برای مجموعه‌ها مانند افزودن، حذف، جستجو، و پیمایش فراهم می‌کنند.</li></ul>\n",
    "\n",
    "<p>کلاس <code>Collection&lt;T&gt;</code> چهار متد مجازی (Virtual Methods) ارائه می‌دهد که به شما اجازه می‌دهند تا رفتار پیش‌فرض لیست را تغییر دهید:</p>\n",
    "\n",
    "<ul><li><code>ClearItems</code>: این متد مجازی زمانی که همه آیتم‌ها از لیست حذف می‌شوند، فراخوانی می‌شود.</li><li><code>InsertItem</code>: این متد مجازی هنگام اضافه شدن یک آیتم به لیست در یک موقعیت خاص فراخوانی می‌شود.</li><li><code>RemoveItem</code>: این متد مجازی هنگام حذف یک آیتم از لیست در یک موقعیت خاص فراخوانی می‌شود.</li><li><code>SetItem</code>: این متد مجازی هنگام جایگزینی یک آیتم با یک آیتم دیگر در لیست فراخوانی می‌شود.</li></ul>\n",
    "\n",
    "<p>شما می‌توانید هر یک از این متدها را بازنویسی (Override) کنید تا رفتار لیست را سفارشی کنید. مثلاً ممکن است بخواهید هر بار که آیتمی اضافه یا حذف می‌شود، یک رویداد فعال شود یا یک شرط خاص بررسی شود.</p>\n",
    "\n",
    "<h4><strong>چرا از Collection&lt;T&gt; استفاده می‌شود؟</strong></h4>\n",
    "<ul><li><strong>کنترل بیشتر:</strong> اگر نیاز دارید رفتار افزودن، حذف، یا تغییر آیتم‌های یک لیست را کنترل کنید، <code>Collection&lt;T&gt;</code> یک گزینه ایده‌آل است.</li><li><strong>سفارشی‌سازی:</strong> با بازنویسی متدهای مجازی، شما می‌توانید به راحتی رفتارهای سفارشی را به مجموعه خود اضافه کنید، مانند اعمال محدودیت‌ها، شلیک رویدادها، یا اجرای سایر منطق‌های کسب‌وکار.</li><li><strong>سازگاری با سایر رابط‌ها:</strong> از آنجایی که <code>Collection&lt;T&gt;</code> رابط‌های اصلی مانند <code>IList&lt;T&gt;</code> و <code>ICollection&lt;T&gt;</code> را پیاده‌سازی می‌کند، همچنان می‌توانید از این کلاس به صورت استاندارد در محیط‌هایی که این رابط‌ها مورد نیاز هستند استفاده کنید.</li></ul>\n",
    "</div>"
   ]
  },
  {
   "cell_type": "code",
   "execution_count": null,
   "metadata": {
    "vscode": {
     "languageId": "polyglot-notebook"
    }
   },
   "outputs": [],
   "source": [
    "var collection = new Collection<int>(){2,3,4};\n",
    "\n",
    "collection.Add(1);\n",
    "collection.Insert(1,5);"
   ]
  },
  {
   "cell_type": "code",
   "execution_count": 2,
   "metadata": {
    "dotnet_interactive": {
     "language": "csharp"
    },
    "polyglot_notebook": {
     "kernelName": "csharp"
    },
    "vscode": {
     "languageId": "polyglot-notebook"
    }
   },
   "outputs": [
    {
     "name": "stdout",
     "output_type": "stream",
     "text": [
      "Kangaroo\n",
      "Mr Sea Lion\n"
     ]
    }
   ],
   "source": [
    "using System.Collections.ObjectModel;\n",
    "\n",
    "public class Animal\n",
    "{\n",
    "\tpublic string Name;\n",
    "\tpublic int Popularity;\n",
    "\n",
    "\tpublic Animal(string name, int popularity)\n",
    "\t{\n",
    "\t\tName = name; Popularity = popularity;\n",
    "\t}\n",
    "}\n",
    "\n",
    "public class AnimalCollection : Collection<Animal>\n",
    "{\n",
    "\t// AnimalCollection is already a fully functioning list of animals.\n",
    "\t// No extra code is required.\n",
    "}\n",
    "\n",
    "public class Zoo // The class that will expose AnimalCollection.\n",
    "{ // This would typically have additional members.\n",
    "\tpublic readonly AnimalCollection Animals = new AnimalCollection();\n",
    "}\n",
    "\n",
    "Zoo zoo = new Zoo();\n",
    "zoo.Animals.Add (new Animal (\"Kangaroo\", 10));\n",
    "zoo.Animals.Add (new Animal (\"Mr Sea Lion\", 20));\n",
    "foreach (Animal a in zoo.Animals) Console.WriteLine (a.Name);\n",
    "\n"
   ]
  },
  {
   "cell_type": "code",
   "execution_count": 1,
   "metadata": {
    "dotnet_interactive": {
     "language": "csharp"
    },
    "polyglot_notebook": {
     "kernelName": "csharp"
    },
    "vscode": {
     "languageId": "polyglot-notebook"
    }
   },
   "outputs": [
    {
     "name": "stdout",
     "output_type": "stream",
     "text": [
      "Add animal with Kangaroo in Zoo\n",
      "Add animal with Mr Sea Lion in Zoo\n",
      "Update animal with Kangaroo in Zoo\n",
      "Remove animal with Kangaroo from Zoo\n",
      "Remove all animal from Zoo\n"
     ]
    }
   ],
   "source": [
    "using System.Collections.ObjectModel;\n",
    "\n",
    "public class Animal\n",
    "{\n",
    "\tpublic string Name;\n",
    "\tpublic int Popularity;\n",
    "\tpublic Zoo Zoo { get; internal set; }\n",
    "\n",
    "\tpublic Animal(string name, int popularity)\n",
    "\t{\n",
    "\t\tName = name; Popularity = popularity;\n",
    "\t}\n",
    "}\n",
    "\n",
    "public class AnimalCollection : Collection<Animal>\n",
    "{\n",
    "    private Zoo zoo;\n",
    "\n",
    "    public AnimalCollection(Zoo zoo)\n",
    "    { this.zoo = zoo; }\n",
    "\n",
    "    protected override void InsertItem(int index, Animal item)\n",
    "    {\n",
    "        base.InsertItem(index, item);\n",
    "        item.Zoo = zoo;\n",
    "        Console.WriteLine($\"Add animal with {item.Name} in Zoo\");\n",
    "    }\n",
    "\n",
    "    protected override void SetItem(int index, Animal item)\n",
    "    {\n",
    "        base.SetItem(index, item);\n",
    "        item.Zoo = zoo;\n",
    "\n",
    "        Console.WriteLine($\"Update animal with {item.Name} in Zoo\");\n",
    "    }\n",
    "\n",
    "    protected override void RemoveItem(int index)\n",
    "    {\n",
    "        Console.WriteLine($\"Remove animal with {this[index].Name} from Zoo\");\n",
    "\n",
    "        this[index].Zoo = null;\n",
    "        base.RemoveItem(index);\n",
    "\n",
    "    }\n",
    "\n",
    "    protected override void ClearItems()\n",
    "    {\n",
    "        foreach (Animal a in this) a.Zoo = null;\n",
    "        base.ClearItems();\n",
    "\n",
    "        Console.WriteLine($\"Remove all animal from Zoo\");\n",
    "    }\n",
    "}\n",
    "\n",
    "public class Zoo\n",
    "{\n",
    "\tpublic readonly AnimalCollection Animals;\n",
    "\tpublic Zoo() { Animals = new AnimalCollection(this); }\n",
    "}\n",
    "\n",
    "Zoo zoo = new Zoo();\n",
    "\n",
    "var kangaroo = new Animal(\"Kangaroo\", 10);\n",
    "\n",
    "var lion = new Animal(\"Mr Sea Lion\", 20);\n",
    "\n",
    "zoo.Animals.Add(kangaroo);\n",
    "\n",
    "zoo.Animals.Add(lion);\n",
    "\n",
    "zoo.Animals[1] = kangaroo;\n",
    "\n",
    "zoo.Animals.Remove(kangaroo);\n",
    "\n",
    "zoo.Animals.Clear();"
   ]
  },
  {
   "cell_type": "markdown",
   "metadata": {},
   "source": [
    "### CollectionBase"
   ]
  },
  {
   "cell_type": "markdown",
   "metadata": {},
   "source": [
    "`CollectionBase` is the ***nongeneric*** version of Collection<T>."
   ]
  },
  {
   "cell_type": "markdown",
   "metadata": {},
   "source": [
    "### `KeyedCollection<TKey,TItem>` and `DictionaryBase`"
   ]
  },
  {
   "cell_type": "markdown",
   "metadata": {},
   "source": [
    "<div dir=\"rtl\" style=\"width:90%; margin:auto; font-family:vazirmatn;\">\n",
    "<p> کلاس <strong><code>KeyedCollection&lt;TKey, TItem&gt;</code></strong> در C# یکی از کلاس‌های موجود در فضای نام <code>System.Collections.ObjectModel</code> است. این کلاس ویژگی‌هایی از مجموعه‌ها (Collections) را فراهم می‌کند که به شما اجازه می‌دهد به آیتم‌ها بر اساس یک کلید (Key) دسترسی داشته باشید، مشابه یک دیکشنری، در حالی که هنوز رفتار یک لیست خطی را حفظ می‌کند.</p>\n",
    "\n",
    "<ol><li><p><strong>ارث‌بری از <code>Collection&lt;TItem&gt;</code>:</strong></p><ul><li><code>KeyedCollection&lt;TKey, TItem&gt;</code> از کلاس <code>Collection&lt;TItem&gt;</code> ارث‌بری می‌کند. این بدان معناست که تمام ویژگی‌ها و قابلیت‌های یک <code>Collection&lt;TItem&gt;</code> مانند افزودن، حذف، و شمارش آیتم‌ها را به ارث می‌برد.</li><li><strong>اما تفاوت اصلی در این است که <code>KeyedCollection</code> قابلیت دسترسی به آیتم‌ها بر اساس یک کلید (Key) را فراهم می‌کند.</strong> این عملکرد شبیه به دیکشنری است، ولی با یک تفاوت اساسی: کلیدها از خود آیتم‌ها استخراج می‌شوند.</li></ul></li><li><p><strong>عدم توانایی در پروکسی کردن یک لیست داخلی:</strong></p><ul><li>یکی از قابلیت‌هایی که <code>KeyedCollection</code> ندارد، امکان استفاده از یک لیست داخلی سفارشی‌سازی شده است. برخلاف کلاس‌های مشابه مثل <code>Collection&lt;T&gt;</code>, شما نمی‌توانید یک لیست داخلی خودتان را برای مدیریت آیتم‌ها تعیین کنید. این موضوع قابلیت انعطاف‌پذیری کمتری را در مدیریت ذخیره‌سازی داده‌ها فراهم می‌کند.</li></ul></li><li><p><strong>روش <code>GetKeyForItem</code>:</strong></p><ul><li><code>KeyedCollection</code> دارای یک متد انتزاعی (abstract) به نام <code>GetKeyForItem</code> است که شما باید آن را پیاده‌سازی کنید. این متد از آیتم‌های مجموعه، کلید مربوطه را استخراج می‌کند. برای مثال، اگر آیتم‌های شما اشیائی از یک کلاس خاص باشند که دارای یک فیلد <code>ID</code> هستند، می‌توانید از این فیلد به عنوان کلید استفاده کنید.</li></ul></li><li><p><strong>روش <code>ChangeItemKey</code>:</strong></p><ul><li>اگر کلید آیتمی که در مجموعه قرار دارد تغییر کند، شما باید متد <code>ChangeItemKey</code> را صدا بزنید تا کلید جدید در دیکشنری داخلی مجموعه ثبت شود. این اطمینان را ایجاد می‌کند که دیکشنری داخلی همچنان به درستی کار کند.</li></ul></li><li><p><strong>دسترسی سریع به آیتم‌ها با استفاده از کلید:</strong></p><ul><li><code>KeyedCollection</code> به شما این امکان را می‌دهد که علاوه بر دسترسی به آیتم‌ها با استفاده از اندیس (مثل لیست‌های معمولی)، با استفاده از کلیدها نیز به آیتم‌ها دسترسی داشته باشید. این کار از طریق پراپرتی <code>this[TKey key]</code> انجام می‌شود.</li></ul></li><li><p><strong>خاصیت <code>Dictionary</code>:</strong></p><ul><li><code>KeyedCollection</code> از یک دیکشنری داخلی برای ذخیره‌سازی و مدیریت کلید-مقدار استفاده می‌کند که به وسیله خاصیت <code>Dictionary</code> قابل دسترسی است. این دیکشنری زمانی ایجاد می‌شود که اولین آیتم به مجموعه اضافه شود، مگر اینکه شما یک آستانه (Threshold) برای ایجاد آن تعیین کنید.</li></ul></li><li><p><strong>Threshold:</strong></p><ul><li>شما می‌توانید یک آستانه برای ایجاد دیکشنری داخلی تعیین کنید. تا زمانی که تعداد آیتم‌ها به این آستانه نرسیده باشد، جستجو بر اساس کلید به صورت خطی انجام می‌شود. پس از رسیدن به آستانه، دیکشنری ایجاد می‌شود و جستجو به صورت سریع و بهینه انجام می‌گیرد.</li></ul></li></ol>\n",
    "</div>"
   ]
  },
  {
   "cell_type": "code",
   "execution_count": 2,
   "metadata": {
    "dotnet_interactive": {
     "language": "csharp"
    },
    "polyglot_notebook": {
     "kernelName": "csharp"
    },
    "vscode": {
     "languageId": "polyglot-notebook"
    }
   },
   "outputs": [
    {
     "name": "stdout",
     "output_type": "stream",
     "text": [
      "Request for get key of Kangaroo\n",
      "Add animal with Kangaroo in Zoo\n",
      "Request for get key of Mr Sea Lion\n",
      "Add animal with Mr Sea Lion in Zoo\n",
      "10\n",
      "20\n",
      "Request for get key of Kangaroo\n",
      "Request for get key of Kangaroo\n",
      "Set name for animal\n",
      "10\n"
     ]
    }
   ],
   "source": [
    "public class Animal\n",
    "{\n",
    "\tstring name;\n",
    "    public string Name\n",
    "    {\n",
    "        get { return name; }\n",
    "        set {\n",
    "            if (Zoo != null) Zoo.Animals.NotifyNameChange (this, value);\n",
    "            name = value;\n",
    "        }\n",
    "    }\n",
    "\tpublic int Popularity;\n",
    "\tpublic Zoo Zoo { get; internal set; }\n",
    "\n",
    "\tpublic Animal(string name, int popularity)\n",
    "\t{\n",
    "\t\tName = name; Popularity = popularity;\n",
    "\t}\n",
    "}\n",
    "\n",
    "public class AnimalCollection : KeyedCollection <string, Animal>\n",
    "{\n",
    "    private Zoo zoo;\n",
    "\n",
    "    public AnimalCollection(Zoo zoo)\n",
    "    { this.zoo = zoo; }\n",
    "\n",
    "    internal void NotifyNameChange (Animal a, string newName) \n",
    "    { \n",
    "        this.ChangeItemKey (a, newName);\n",
    "\n",
    "        Console.WriteLine(\"Set name for animal\");\n",
    "    }\n",
    "\n",
    "    protected override string GetKeyForItem (Animal item) \n",
    "    { \n",
    "        Console.WriteLine($\"Request for get key of {item.Name}\");\n",
    "        return item.Name;\n",
    "    }\n",
    "\n",
    "    protected override void InsertItem(int index, Animal item)\n",
    "    {\n",
    "        base.InsertItem(index, item);\n",
    "        item.Zoo = zoo;\n",
    "        Console.WriteLine($\"Add animal with {item.Name} in Zoo\");\n",
    "    }\n",
    "\n",
    "    protected override void SetItem(int index, Animal item)\n",
    "    {\n",
    "        base.SetItem(index, item);\n",
    "        item.Zoo = zoo;\n",
    "\n",
    "        Console.WriteLine($\"Update animal with {item.Name} in Zoo\");\n",
    "    }\n",
    "\n",
    "    protected override void RemoveItem(int index)\n",
    "    {\n",
    "        Console.WriteLine($\"Remove animal with {this[index].Name} from Zoo\");\n",
    "\n",
    "        this[index].Zoo = null;\n",
    "        base.RemoveItem(index);\n",
    "\n",
    "    }\n",
    "\n",
    "    protected override void ClearItems()\n",
    "    {\n",
    "        foreach (Animal a in this) a.Zoo = null;\n",
    "        base.ClearItems();\n",
    "\n",
    "        Console.WriteLine($\"Remove all animal from Zoo\");\n",
    "    }\n",
    "}\n",
    "\n",
    "public class Zoo\n",
    "{\n",
    "\tpublic readonly AnimalCollection Animals;\n",
    "\tpublic Zoo() { Animals = new AnimalCollection(this); }\n",
    "}\n",
    "\n",
    "Zoo zoo = new Zoo();\n",
    "zoo.Animals.Add (new Animal (\"Kangaroo\", 10));\n",
    "zoo.Animals.Add (new Animal (\"Mr Sea Lion\", 20));\n",
    "Console.WriteLine (zoo.Animals [0].Popularity); // 10\n",
    "Console.WriteLine (zoo.Animals [\"Mr Sea Lion\"].Popularity); // 20\n",
    "zoo.Animals [\"Kangaroo\"].Name = \"Mr Roo\";\n",
    "Console.WriteLine (zoo.Animals [\"Mr Roo\"].Popularity); // 10"
   ]
  },
  {
   "cell_type": "markdown",
   "metadata": {},
   "source": [
    "The `nongeneric version` of ***KeyedCollection*** is called `DictionaryBase`."
   ]
  },
  {
   "cell_type": "markdown",
   "metadata": {},
   "source": [
    "### `ReadOnlyCollection<T>`"
   ]
  },
  {
   "cell_type": "markdown",
   "metadata": {},
   "source": [
    "<div dir=\"rtl\" style=\"width:90%; margin:auto; font-family:vazirmatn;\">\n",
    "\n",
    "<p>کلاس <strong><code>ReadOnlyCollection&lt;T&gt;</code></strong> در C# یک پوشش (wrapper) یا پروکسی است که نمایی فقط خواندنی (Read-Only) از یک مجموعه (Collection) را فراهم می‌کند. این کلاس زمانی مفید است که شما بخواهید یک مجموعه را به صورت عمومی منتشر کنید، اما تنها اجازه خواندن به کاربران داده شود و نتوانند این مجموعه را تغییر دهند، در حالی که خود کلاس هنوز قادر به انجام تغییرات داخلی بر روی آن مجموعه باشد.</p>\n",
    "\n",
    "<h5>جزئیات عملکرد <code>ReadOnlyCollection&lt;T&gt;</code>:</h5>\n",
    "<ul><li><p><strong>پوشش فقط خواندنی:</strong></p><ul><li><code>ReadOnlyCollection&lt;T&gt;</code> به کاربران اجازه می‌دهد که به اعضای مجموعه دسترسی داشته باشند، اما قادر به افزودن، حذف یا تغییر آیتم‌ها نیستند. این موضوع باعث افزایش امنیت و انسجام در دسترسی به داده‌ها می‌شود.</li></ul></li><li><p><strong>مرجع دائمی به مجموعه اصلی:</strong></p><ul><li>وقتی یک <code>ReadOnlyCollection&lt;T&gt;</code> ساخته می‌شود، یک مرجع دائمی به مجموعه ورودی که در سازنده آن داده می‌شود، نگه می‌دارد. این بدان معناست که هر تغییری که در مجموعه اصلی انجام شود، در نمای فقط خواندنی نیز منعکس خواهد شد.</li></ul></li><li><p><strong>عدم ایجاد کپی:</strong></p><ul><li><code>ReadOnlyCollection&lt;T&gt;</code> یک کپی ایستا از مجموعه اصلی نمی‌سازد. این باعث می‌شود که هر تغییری که در مجموعه اصلی انجام می‌شود، به صورت خودکار در نسخه فقط خواندنی آن نیز دیده شود.</li></ul></li></ul>\n",
    "</div>"
   ]
  },
  {
   "cell_type": "code",
   "execution_count": null,
   "metadata": {
    "dotnet_interactive": {
     "language": "csharp"
    },
    "polyglot_notebook": {
     "kernelName": "csharp"
    },
    "vscode": {
     "languageId": "polyglot-notebook"
    }
   },
   "outputs": [],
   "source": [
    "public abstract class AggregateRoot<TId> : Entity<TId> where TId : notnull\n",
    "{\n",
    "    private readonly List<IEvent> _domainEvents = new List<IEvent>();\n",
    "\n",
    "    /// <summary>\n",
    "    /// Gets the domain events. This collection is readonly.\n",
    "    /// </summary>\n",
    "    public ReadOnlyCollection<IEvent> DomainEvents => _domainEvents.AsReadOnly();\n",
    "\n",
    "    /// <summary>\n",
    "    /// Clears all the domain events from the <see cref=\"AggregateRoot\"/>.\n",
    "    /// </summary>\n",
    "    public void ClearDomainEvents() => _domainEvents.Clear();\n",
    "\n",
    "    /// <summary>\n",
    "    /// Adds the specified <see cref=\"IDomainEvent\"/> to the <see cref=\"AggregateRoot\"/>.\n",
    "    /// </summary>\n",
    "    /// <param name=\"domainEvent\">The domain event.</param>\n",
    "    protected void AddDomainEvent(IEvent domainEvent) => _domainEvents.Add(domainEvent);\n",
    "}"
   ]
  }
 ],
 "metadata": {
  "kernelspec": {
   "display_name": ".NET (C#)",
   "language": "C#",
   "name": ".net-csharp"
  },
  "language_info": {
   "name": "python"
  },
  "polyglot_notebook": {
   "kernelInfo": {
    "defaultKernelName": "csharp",
    "items": [
     {
      "aliases": [],
      "name": "csharp"
     }
    ]
   }
  }
 },
 "nbformat": 4,
 "nbformat_minor": 2
}
