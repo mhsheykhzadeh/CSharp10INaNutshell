{
 "cells": [
  {
   "cell_type": "markdown",
   "metadata": {},
   "source": [
    ".NET provides a ***basic set*** of concrete collection classes that `implement the interfaces`"
   ]
  },
  {
   "cell_type": "markdown",
   "metadata": {},
   "source": [
    "#### List<T> and ArrayList"
   ]
  },
  {
   "cell_type": "markdown",
   "metadata": {},
   "source": [
    "<div dir=\"rtl\" style=\"width:90%; margin:auto; font-family:vazirmatn;\">\n",
    "<ul><li><strong>ArrayList</strong> یک کلاس غیرفراگیر است (غیرفراگیر یعنی نمی‌تواند نوع خاصی از اشیا را در خود ذخیره کند و باید از نوع <code>object</code> استفاده کند) که یک آرایه با اندازه‌ی پویا از اشیا فراهم می‌کند. این کلاس واسط <code>IList</code> را پیاده‌سازی می‌کند.</li><li><strong>List&lt;T&gt;</strong> یک کلاس فراگیر است که می‌تواند نوع خاصی از اشیا را در خود ذخیره کند. این کلاس واسط‌های <code>IList</code> و <code>IList&lt;T&gt;</code> و نسخه‌ی فقط خواندنی آن <code>IReadOnlyList&lt;T&gt;</code> را پیاده‌سازی می‌کند.</li></ul>\n",
    "\n",
    "<p><strong>پیاده‌سازی واسط‌ها</strong>:</p>\n",
    "<ul><li><code>ArrayList</code> فقط واسط <code>IList</code> را پیاده‌سازی می‌کند.</li><li><code>List&lt;T&gt;</code> واسط‌های <code>IList</code> و <code>IList&lt;T&gt;</code> و <code>IReadOnlyList&lt;T&gt;</code> را پیاده‌سازی می‌کند.</li></ul>\n",
    "\n",
    "<h5>عملکرد داخلی</h5>\n",
    "<ul><li>هر دو کلاس با استفاده از یک آرایه داخلی از اشیا کار می‌کنند که وقتی ظرفیت آن پر می‌شود، با یک آرایه بزرگتر جایگزین می‌شود.</li><li>افزودن عناصر به انتهای لیست معمولاً کارایی خوبی دارد زیرا معمولاً یک جای خالی در انتها وجود دارد.</li><li>افزودن عنصر به وسط یا ابتدای لیست کارایی کمتری دارد زیرا تمام عناصر بعد از نقطه افزودن باید جابه‌جا شوند تا فضای خالی ایجاد شود. حذف عناصر نیز به ویژه در نزدیکی ابتدا می‌تواند کند باشد.</li><li>جستجو در این لیست‌ها اگر از متد <code>BinarySearch</code> روی لیستی که قبلاً مرتب شده استفاده شود، کارآمد است. در غیر این صورت، جستجو ناکارآمد خواهد بود زیرا هر عنصر باید به صورت جداگانه بررسی شود.</li></ul>\n",
    "</div>"
   ]
  },
  {
   "cell_type": "code",
   "execution_count": 7,
   "metadata": {
    "dotnet_interactive": {
     "language": "csharp"
    },
    "polyglot_notebook": {
     "kernelName": "csharp"
    },
    "vscode": {
     "languageId": "polyglot-notebook"
    }
   },
   "outputs": [
    {
     "name": "stdout",
     "output_type": "stream",
     "text": [
      "16\n",
      "9\n",
      "18\n"
     ]
    }
   ],
   "source": [
    "var list = new List<int>(); //4*32\n",
    "\n",
    "list.Add(1);\n",
    "\n",
    "list.Add(1);\n",
    "\n",
    "list.Add(1);\n",
    "list.Add(1);\n",
    "list.Add(1);\n",
    "list.Add(1);\n",
    "list.Add(1);list.Add(1);list.Add(1);\n",
    "\n",
    "Console.WriteLine(list.Capacity);\n",
    "\n",
    "list.TrimExcess();\n",
    "\n",
    "Console.WriteLine(list.Capacity);\n",
    "\n",
    "list.Add(1);\n",
    "\n",
    "Console.WriteLine(list.Capacity);\n"
   ]
  },
  {
   "cell_type": "code",
   "execution_count": null,
   "metadata": {
    "dotnet_interactive": {
     "language": "csharp"
    },
    "polyglot_notebook": {
     "kernelName": "csharp"
    },
    "vscode": {
     "languageId": "polyglot-notebook"
    }
   },
   "outputs": [],
   "source": [
    "public class List<T> : IList<T>, IReadOnlyList<T>\n",
    "{\n",
    "public List ();\n",
    "public List (IEnumerable<T> collection);\n",
    "public List (int capacity);\n",
    "\n",
    "// Add+Insert\n",
    "public void Add (T item);\n",
    "public void AddRange (IEnumerable<T> collection);\n",
    "public void Insert (int index, T item);\n",
    "public void InsertRange (int index, IEnumerable<T> collection);\n",
    "\n",
    "// Remove\n",
    "public bool Remove (T item);\n",
    "public void RemoveAt (int index);\n",
    "public void RemoveRange (int index, int count);\n",
    "public int RemoveAll (Predicate<T> match);\n",
    "\n",
    "// Indexing\n",
    "public T this [int index] { get; set; }\n",
    "public List<T> GetRange (int index, int count);\n",
    "public Enumerator<T> GetEnumerator();\n",
    "\n",
    "// Exporting, copying and converting:\n",
    "public T[] ToArray();\n",
    "public void CopyTo (T[] array);\n",
    "public void CopyTo (T[] array, int arrayIndex);\n",
    "public void CopyTo (int index, T[] array, int arrayIndex, int count);\n",
    "public ReadOnlyCollection<T> AsReadOnly();\n",
    "public List<TOutput> ConvertAll<TOutput> (Converter <T,TOutput>\n",
    "converter);\n",
    "\n",
    "// Other:\n",
    "public void Reverse(); // Reverses order of elements in list.\n",
    "public int Capacity { get;set; } // Forces expansion of internal array.\n",
    "public void TrimExcess(); // Trims internal array back to size.\n",
    "public void Clear(); // Removes all elements, so Count=0.\n",
    "}"
   ]
  },
  {
   "cell_type": "code",
   "execution_count": null,
   "metadata": {
    "dotnet_interactive": {
     "language": "csharp"
    },
    "polyglot_notebook": {
     "kernelName": "csharp"
    },
    "vscode": {
     "languageId": "polyglot-notebook"
    }
   },
   "outputs": [],
   "source": [
    "var words = new List<string>(); // New string-typed list\n",
    "\n",
    "words.Add (\"melon\");\n",
    "words.Add (\"avocado\");\n",
    "words.AddRange (new[] { \"banana\", \"plum\" } );\n",
    "words.Insert (0, \"lemon\"); // Insert at start\n",
    "words.InsertRange (0, new[] { \"peach\", \"nashi\" }); // Insert at start\n",
    "\n",
    "words.Remove (\"melon\");\n",
    "words.RemoveAt (3); // Remove the 4th element\n",
    "words.RemoveRange (0, 2); // Remove first 2 elements\n",
    "\n",
    "// Remove all strings starting in 'n':\n",
    "words.RemoveAll (s => s.StartsWith (\"n\"));\n",
    "\n",
    "Console.WriteLine (words [0]); // first word\n",
    "Console.WriteLine (words [words.Count - 1]); // last word\n",
    "foreach (string s in words) Console.WriteLine (s); // all words\n",
    "List<string> subset = words.GetRange (1, 2); // 2nd->3rd words\n",
    "\n",
    "string[] wordsArray = words.ToArray(); // Creates a new typed array\n",
    "\n",
    "// Copy first two elements to the end of an existing array:\n",
    "string[] existing = new string [1000];\n",
    "words.CopyTo (0, existing, 998, 2);\n",
    "\n",
    "List<string> upperCaseWords = words.ConvertAll (s => s.ToUpper());\n",
    "List<int> lengths = words.ConvertAll (s => s.Length);"
   ]
  },
  {
   "cell_type": "code",
   "execution_count": null,
   "metadata": {
    "dotnet_interactive": {
     "language": "csharp"
    },
    "polyglot_notebook": {
     "kernelName": "csharp"
    },
    "vscode": {
     "languageId": "polyglot-notebook"
    }
   },
   "outputs": [],
   "source": [
    "ArrayList al = new ArrayList();\n",
    "al.Add (\"hello\");\n",
    "al.Add(1);\n",
    "string first = (string) al [0];\n",
    "string[] strArr = (string[]) al.ToArray (typeof (string));\n",
    "\n",
    "//Such casts cannot be verified by the compiler; \n",
    "// the following compiles successfully but then fails at runtime\n",
    "int first1 = (int) al [0]; // Runtime exception"
   ]
  },
  {
   "cell_type": "code",
   "execution_count": null,
   "metadata": {
    "dotnet_interactive": {
     "language": "csharp"
    },
    "polyglot_notebook": {
     "kernelName": "csharp"
    },
    "vscode": {
     "languageId": "polyglot-notebook"
    }
   },
   "outputs": [],
   "source": [
    "//If you import the System.Linq namespace, you can convert an ArrayList to a\n",
    "//generic List by calling Cast and then ToList\n",
    "\n",
    "ArrayList al = new ArrayList();\n",
    "al.AddRange (new[] { 1, 5, 9 } );\n",
    "List<int> list = al.Cast<int>().ToList();\n",
    "\n",
    "//Cast and ToList are extension methods in the System.Linq.Enumerable class."
   ]
  },
  {
   "cell_type": "markdown",
   "metadata": {},
   "source": [
    "`List<T>` provides **instance versions** of all of `Array’s searching` and `sorting` methods."
   ]
  },
  {
   "cell_type": "code",
   "execution_count": null,
   "metadata": {
    "dotnet_interactive": {
     "language": "csharp"
    },
    "polyglot_notebook": {
     "kernelName": "csharp"
    },
    "vscode": {
     "languageId": "polyglot-notebook"
    }
   },
   "outputs": [],
   "source": [
    "int[] array = { 3, 1, 4, 1, 5, 9 };\n",
    "Array.Sort(array); // مرتب‌سازی آرایه\n",
    "int indexInArray = Array.BinarySearch(array, 5); // جستجوی عنصر 5 در آرایه\n",
    "\n",
    "\n",
    "List<int> list = new List<int> { 3, 1, 4, 1, 5, 9 };\n",
    "list.Sort(); // مرتب‌سازی لیست\n",
    "int indexInList = list.BinarySearch(5); // جستجوی عنصر 5 در لیست"
   ]
  },
  {
   "cell_type": "markdown",
   "metadata": {},
   "source": [
    "<div dir=\"rtl\" style=\"width:90%; margin:auto; font-family:vazirmatn;\">\n",
    "<ul><li><code>List&lt;T&gt;</code> در داخل خود یک آرایه خصوصی از نوع <code>T</code> دارد که به عنوان محل ذخیره‌سازی عناصر لیست عمل می‌کند.</li><li>وقتی ظرفیت آرایه داخلی پر می‌شود و نیاز به اضافه کردن عنصر جدیدی داریم، <code>List&lt;T&gt;</code> یک آرایه جدید با ظرفیت بزرگتر ایجاد می‌کند، عناصر موجود را به آرایه جدید کپی می‌کند و سپس عنصر جدید را اضافه می‌کند.</li><li>این عملیات در پشت صحنه و به صورت خودکار انجام می‌شود و نیازی به مدیریت دستی آن توسط برنامه‌نویس نیست.</li></ul>\n",
    "</div>"
   ]
  },
  {
   "cell_type": "markdown",
   "metadata": {},
   "source": [
    "### `LinkedList<T>`"
   ]
  },
  {
   "cell_type": "markdown",
   "metadata": {},
   "source": [
    "`linked list` is a ***chain of nodes*** in which each references the `node before`, the `node after`, and the `actual element`."
   ]
  },
  {
   "cell_type": "markdown",
   "metadata": {},
   "source": [
    "Its **main benefit** is that an element can always be `inserted efficiently anywhere` in the list because it just involves **creating a new node** and ***updating a few references***."
   ]
  },
  {
   "attachments": {
    "image.png": {
     "image/png": "[encoded data removed]"
    }
   },
   "cell_type": "markdown",
   "metadata": {},
   "source": [
    "![image.png](attachment:image.png)"
   ]
  },
  {
   "cell_type": "markdown",
   "metadata": {},
   "source": [
    "`LinkedList<T>` implements `IEnumerable<T>` and `ICollection<T>` (and their nongeneric versions), but `not IList<T>` because ***access by index is not supported***."
   ]
  },
  {
   "cell_type": "code",
   "execution_count": null,
   "metadata": {
    "dotnet_interactive": {
     "language": "csharp"
    },
    "polyglot_notebook": {
     "kernelName": "csharp"
    },
    "vscode": {
     "languageId": "polyglot-notebook"
    }
   },
   "outputs": [],
   "source": [
    "//List nodes are implemented via the following class\n",
    "\n",
    "public sealed class LinkedListNode<T>\n",
    "{\n",
    "public LinkedList<T> List { get; }\n",
    "public LinkedListNode<T> Next { get; }\n",
    "public LinkedListNode<T> Previous { get; }\n",
    "public T Value { get; set; }\n",
    "}"
   ]
  },
  {
   "cell_type": "code",
   "execution_count": null,
   "metadata": {
    "dotnet_interactive": {
     "language": "csharp"
    },
    "polyglot_notebook": {
     "kernelName": "csharp"
    },
    "vscode": {
     "languageId": "polyglot-notebook"
    }
   },
   "outputs": [],
   "source": [
    "public void AddFirst(LinkedListNode<T> node); // add to start\n",
    "public LinkedListNode<T> AddFirst (T value); //first create node then add to start\n",
    "\n",
    "public void AddLast (LinkedListNode<T> node);\n",
    "public LinkedListNode<T> AddLast (T value);\n",
    "\n",
    "public void AddAfter (LinkedListNode<T> node, LinkedListNode<T> newNode);\n",
    "public LinkedListNode<T> AddAfter (LinkedListNode<T> node, T value);\n",
    "\n",
    "public void AddBefore (LinkedListNode<T> node, LinkedListNode<T> newNode);\n",
    "public LinkedListNode<T> AddBefore (LinkedListNode<T> node, T value);"
   ]
  },
  {
   "cell_type": "code",
   "execution_count": null,
   "metadata": {
    "dotnet_interactive": {
     "language": "csharp"
    },
    "polyglot_notebook": {
     "kernelName": "csharp"
    },
    "vscode": {
     "languageId": "polyglot-notebook"
    }
   },
   "outputs": [],
   "source": [
    "public void Clear();\n",
    "\n",
    "public void RemoveFirst();\n",
    "public void RemoveLast();\n",
    "\n",
    "public bool Remove (T value);\n",
    "public void Remove (LinkedListNode<T> node);"
   ]
  },
  {
   "cell_type": "code",
   "execution_count": null,
   "metadata": {
    "dotnet_interactive": {
     "language": "csharp"
    },
    "polyglot_notebook": {
     "kernelName": "csharp"
    },
    "vscode": {
     "languageId": "polyglot-notebook"
    }
   },
   "outputs": [],
   "source": [
    "// property to keep track of the number of elements in the list\n",
    "\n",
    "public int Count { get; } // Fast\n",
    "public LinkedListNode<T> First { get; } // Fast\n",
    "public LinkedListNode<T> Last { get; } // Fast"
   ]
  },
  {
   "cell_type": "code",
   "execution_count": null,
   "metadata": {
    "dotnet_interactive": {
     "language": "csharp"
    },
    "polyglot_notebook": {
     "kernelName": "csharp"
    },
    "vscode": {
     "languageId": "polyglot-notebook"
    }
   },
   "outputs": [],
   "source": [
    "//searching methods\n",
    "\n",
    "public bool Contains (T value);\n",
    "public LinkedListNode<T> Find (T value);\n",
    "public LinkedListNode<T> FindLast (T value);"
   ]
  },
  {
   "cell_type": "code",
   "execution_count": null,
   "metadata": {
    "dotnet_interactive": {
     "language": "csharp"
    },
    "polyglot_notebook": {
     "kernelName": "csharp"
    },
    "vscode": {
     "languageId": "polyglot-notebook"
    }
   },
   "outputs": [],
   "source": [
    "public void CopyTo (T[] array, int index);\n",
    "public Enumerator<T> GetEnumerator();"
   ]
  },
  {
   "cell_type": "code",
   "execution_count": null,
   "metadata": {
    "dotnet_interactive": {
     "language": "csharp"
    },
    "polyglot_notebook": {
     "kernelName": "csharp"
    },
    "vscode": {
     "languageId": "polyglot-notebook"
    }
   },
   "outputs": [],
   "source": [
    "var tune = new LinkedList<string>();\n",
    "tune.AddFirst (\"do\"); // do\n",
    "tune.AddLast (\"so\"); // do - so\n",
    "\n",
    "tune.AddAfter (tune.First, \"re\"); // do - re- so\n",
    "tune.AddAfter (tune.First.Next, \"mi\"); // do - re - mi- so\n",
    "tune.AddBefore (tune.Last, \"fa\"); // do - re - mi - fa- so\n",
    "\n",
    "tune.RemoveFirst(); // re - mi - fa - so\n",
    "tune.RemoveLast(); // re - mi - fa\n",
    "\n",
    "LinkedListNode<string> miNode = tune.Find (\"mi\");\n",
    "tune.Remove (miNode); // re - fa\n",
    "tune.AddFirst (miNode); // mi- re - fa\n",
    "\n",
    "foreach (string s in tune) Console.WriteLine (s);"
   ]
  },
  {
   "cell_type": "markdown",
   "metadata": {},
   "source": [
    "### `Queue<T>` and `Queue`"
   ]
  },
  {
   "cell_type": "markdown",
   "metadata": {},
   "source": [
    "`Queue<T>` and `Queue` are ***first-in***, ***first-out*** `(FIFO)` data structures  \n",
    "  \n",
    "`Enqueue` (add an item to the tail of the queue)  \n",
    "  \n",
    "`Dequeue` (retrieve and **remove** the item at the head of the queue)  \n",
    "  \n",
    "`Peek` return the element at the head of the queue ***without removing it***  \n",
    "  \n",
    "`Count` property useful in checking that ***elements are present before dequeuing***"
   ]
  },
  {
   "cell_type": "markdown",
   "metadata": {},
   "source": [
    "they `do not implement IList<T>/IList`, because members ***cannot be accessed*** directly ***by index***."
   ]
  },
  {
   "cell_type": "code",
   "execution_count": null,
   "metadata": {
    "dotnet_interactive": {
     "language": "csharp"
    },
    "polyglot_notebook": {
     "kernelName": "csharp"
    },
    "vscode": {
     "languageId": "polyglot-notebook"
    }
   },
   "outputs": [],
   "source": [
    "public class Queue<T> : IEnumerable<T>, ICollection, IEnumerable\n",
    "{\n",
    "public Queue();\n",
    "public Queue (IEnumerable<T> collection); // Copies existing elements\n",
    "public Queue (int capacity); // To lessen auto-resizing\n",
    "public void Clear();\n",
    "public bool Contains (T item);\n",
    "public void CopyTo (T[] array, int arrayIndex);\n",
    "public int Count { get; }\n",
    "public T Dequeue();\n",
    "public void Enqueue (T item);\n",
    "public Enumerator<T> GetEnumerator(); // To support foreach\n",
    "public T Peek();\n",
    "public T[] ToArray();\n",
    "public void TrimExcess();\n",
    "}"
   ]
  },
  {
   "cell_type": "code",
   "execution_count": null,
   "metadata": {
    "dotnet_interactive": {
     "language": "csharp"
    },
    "polyglot_notebook": {
     "kernelName": "csharp"
    },
    "vscode": {
     "languageId": "polyglot-notebook"
    }
   },
   "outputs": [],
   "source": [
    "var q = new Queue<int>();\n",
    "q.Enqueue (10);\n",
    "q.Enqueue (20);\n",
    "int[] data = q.ToArray(); // Exports to an array\n",
    "Console.WriteLine (q.Count); // \"2\"\n",
    "Console.WriteLine (q.Peek()); // \"10\"\n",
    "Console.WriteLine (q.Dequeue()); // \"10\"\n",
    "Console.WriteLine (q.Dequeue()); // \"20\"\n",
    "Console.WriteLine (q.Dequeue()); // throws an exception (queue empty)"
   ]
  },
  {
   "cell_type": "markdown",
   "metadata": {},
   "source": [
    "`Queues` are implemented internally using a`n array that’s resized as required`"
   ]
  },
  {
   "cell_type": "markdown",
   "metadata": {},
   "source": [
    "### `Stack<T>` and `Stack`"
   ]
  },
  {
   "cell_type": "markdown",
   "metadata": {},
   "source": [
    "`Stack<T>` and `Stack` are **last-in**, **first-out** (`LIFO`) data structures  \n",
    "  \n",
    "`Push` (add an item to the top of the stack)  \n",
    "  \n",
    "`Pop` (retrieve and ***remove*** an element from the top of the stack)  \n",
    "  \n",
    "`Peek` return the element at the top of the stack ***without removing it***  "
   ]
  },
  {
   "cell_type": "code",
   "execution_count": null,
   "metadata": {
    "dotnet_interactive": {
     "language": "csharp"
    },
    "polyglot_notebook": {
     "kernelName": "csharp"
    },
    "vscode": {
     "languageId": "polyglot-notebook"
    }
   },
   "outputs": [],
   "source": [
    "public class Stack<T> : IEnumerable<T>, ICollection, IEnumerable\n",
    "{\n",
    "public Stack();\n",
    "public Stack (IEnumerable<T> collection); // Copies existing elements\n",
    "public Stack (int capacity); // Lessens auto-resizing\n",
    "public void Clear();\n",
    "public bool Contains (T item);\n",
    "public void CopyTo (T[] array, int arrayIndex);\n",
    "public int Count { get; }\n",
    "public Enumerator<T> GetEnumerator(); // To support foreach\n",
    "public T Peek();\n",
    "public T Pop();\n",
    "public void Push (T item);\n",
    "public T[] ToArray();\n",
    "public void TrimExcess();\n",
    "}"
   ]
  },
  {
   "cell_type": "code",
   "execution_count": null,
   "metadata": {
    "dotnet_interactive": {
     "language": "csharp"
    },
    "polyglot_notebook": {
     "kernelName": "csharp"
    },
    "vscode": {
     "languageId": "polyglot-notebook"
    }
   },
   "outputs": [],
   "source": [
    "var s = new Stack<int>();\n",
    "s.Push (1); // Stack = 1\n",
    "s.Push (2); // Stack = 1,2\n",
    "s.Push (3); // Stack = 1,2,3\n",
    "Console.WriteLine (s.Count); // Prints 3\n",
    "Console.WriteLine (s.Peek()); // Prints 3, Stack = 1,2,3\n",
    "Console.WriteLine (s.Pop()); // Prints 3, Stack = 1,2\n",
    "Console.WriteLine (s.Pop()); // Prints 2, Stack = 1\n",
    "Console.WriteLine (s.Pop()); // Prints 1, Stack = <empty>\n",
    "Console.WriteLine (s.Pop()); // throws exception"
   ]
  },
  {
   "cell_type": "markdown",
   "metadata": {},
   "source": [
    "`Stacks` are implemented internally with `an array that’s resized as required`"
   ]
  },
  {
   "cell_type": "markdown",
   "metadata": {},
   "source": [
    "### BitArray"
   ]
  },
  {
   "cell_type": "markdown",
   "metadata": {},
   "source": [
    "A ***BitArray*** is a ***dynamically sized collection*** of compacted `bool` values."
   ]
  },
  {
   "cell_type": "markdown",
   "metadata": {},
   "source": [
    "It is ***more memory efficient*** than both a simple **array of bool** and a generic **List of bool** because it uses `only one bit for each value`, whereas the bool type otherwise occupies `one byte for each value`."
   ]
  },
  {
   "cell_type": "markdown",
   "metadata": {},
   "source": [
    "There are four bitwise operator methods (`And`, `Or`, `Xor`, and `Not`). All but the last accept another BitArray"
   ]
  },
  {
   "cell_type": "code",
   "execution_count": null,
   "metadata": {
    "dotnet_interactive": {
     "language": "csharp"
    },
    "polyglot_notebook": {
     "kernelName": "csharp"
    },
    "vscode": {
     "languageId": "polyglot-notebook"
    }
   },
   "outputs": [],
   "source": [
    "var bits = new BitArray(2);\n",
    "bits[1] = true;\n",
    "\n",
    "bits.Xor (bits); // Bitwise exclusive-OR bits with itself\n",
    "Console.WriteLine (bits[1]); // False"
   ]
  },
  {
   "cell_type": "markdown",
   "metadata": {},
   "source": [
    "### `HashSet<T>` and `SortedSet<T>`"
   ]
  },
  {
   "cell_type": "markdown",
   "metadata": {},
   "source": [
    "`HashSet<T> `and `SortedSet<T>` have the following distinguishing features:  \n",
    "- Their ***Contains methods*** `execute quickly` using a **hash-based lookup**.  \n",
    "  \n",
    "- They `do not store duplicate` elements and silently `ignore` requests to ***add duplicates***.\n",
    "- You `cannot access` an element **by position**."
   ]
  },
  {
   "cell_type": "markdown",
   "metadata": {},
   "source": [
    "`SortedSet<T>` ***keeps elements in order***, whereas HashSet<T> does not."
   ]
  },
  {
   "cell_type": "markdown",
   "metadata": {},
   "source": [
    "<div dir=\"rtl\" style=\"width:90%; margin:auto; font-family:vazirmatn;\">\n",
    "<p><strong>ذخیره‌سازی (Storing Data)</strong>:</p>\n",
    "<ul><li>هنگامی که داده‌ای را در یک مجموعه (set) مانند <code>HashSet&lt;T&gt;</code> یا <code>SortedSet&lt;T&gt;</code> اضافه می‌کنیم، ابتدا تابع هش بر روی داده اعمال می‌شود و مقدار هش محاسبه می‌شود.</li><li>سپس داده در موقعیت متناظر با این مقدار هش در جدول هش ذخیره می‌شود.</li></ul>\n",
    "\n",
    "<p><strong>جستجو (Lookup)</strong>:</p>\n",
    "<ul><li>برای پیدا کردن یک داده در مجموعه، مقدار هش داده مورد نظر محاسبه می‌شود و سپس به موقعیت متناظر در جدول هش مراجعه می‌شود تا داده بازیابی شود.</li></ul>\n",
    "\n",
    "<div><p><strong>پیاده‌سازی <code>HashSet&lt;T&gt;</code></strong>:</p><ul><li><code>HashSet&lt;T&gt;</code> با استفاده از یک جدول هش (hashtable) پیاده‌سازی شده است. جدول هش یک ساختار داده‌ای است که تنها کلیدها (و نه مقادیر) را ذخیره می‌کند.</li><li>این ساختار داده‌ای برای عملیات جستجو، افزودن و حذف عناصر بسیار کارآمد است زیرا از توابع هش برای دسترسی سریع به داده‌ها استفاده می‌کند.</li></ul></div>\n",
    "<div><p><strong>پیاده‌سازی <code>SortedSet&lt;T&gt;</code></strong>:</p><ul><li><code>SortedSet&lt;T&gt;</code> با استفاده از درخت قرمز-سیاه (red/black tree) پیاده‌سازی شده است. درخت قرمز-سیاه یک نوع خاص از درخت دودویی جستجو است که همیشه متوازن است.</li><li>این ساختار داده‌ای نه تنها عملیات جستجو، افزودن و حذف را انجام می‌دهد، بلکه عناصر را به صورت مرتب شده نگه می‌دارد، که به ویژه برای عملیات‌هایی که نیاز به مرتب‌سازی دارند مفید است.</li></ul></div>\n",
    "</div>"
   ]
  },
  {
   "cell_type": "markdown",
   "metadata": {},
   "source": [
    "Both collections implement `ICollection<T>`  \n",
    "offer methods such as `Contains`, `Add`, and `Remove`.  \n",
    "  \n",
    "***predicate-based removal method*** called `RemoveWhere`."
   ]
  },
  {
   "cell_type": "code",
   "execution_count": 2,
   "metadata": {
    "dotnet_interactive": {
     "language": "csharp"
    },
    "polyglot_notebook": {
     "kernelName": "csharp"
    },
    "vscode": {
     "languageId": "polyglot-notebook"
    }
   },
   "outputs": [
    {
     "name": "stdout",
     "output_type": "stream",
     "text": [
      "True\n",
      "False\n",
      "the quickbrownfx"
     ]
    }
   ],
   "source": [
    "var letters = new HashSet<char> (\"the quick brown fox\");\n",
    "\n",
    "Console.WriteLine (letters.Contains ('t')); // true\n",
    "Console.WriteLine (letters.Contains ('j')); // false\n",
    "\n",
    "foreach (char c in letters) Console.Write (c); // the quickbrownfx **********"
   ]
  },
  {
   "cell_type": "code",
   "execution_count": null,
   "metadata": {
    "dotnet_interactive": {
     "language": "csharp"
    },
    "polyglot_notebook": {
     "kernelName": "csharp"
    },
    "vscode": {
     "languageId": "polyglot-notebook"
    }
   },
   "outputs": [],
   "source": [
    "public void UnionWith (IEnumerable<T> other); // Adds\n",
    "public void IntersectWith (IEnumerable<T> other); // Removes\n",
    "public void ExceptWith (IEnumerable<T> other); // Removes\n",
    "public void SymmetricExceptWith (IEnumerable<T> other); // Removes"
   ]
  },
  {
   "cell_type": "markdown",
   "metadata": {},
   "source": [
    "`SymmetricExceptWith` removes all but the `elements that are unique` to **one set** or ***the other***"
   ]
  },
  {
   "cell_type": "code",
   "execution_count": null,
   "metadata": {
    "dotnet_interactive": {
     "language": "csharp"
    },
    "polyglot_notebook": {
     "kernelName": "csharp"
    },
    "vscode": {
     "languageId": "polyglot-notebook"
    }
   },
   "outputs": [],
   "source": [
    "var letters = new HashSet<char> (\"the quick brown fox\");\n",
    "letters.SymmetricExceptWith (\"the lazy brown fox\");\n",
    "foreach (char c in letters) Console.Write (c); // quicklazy"
   ]
  },
  {
   "cell_type": "code",
   "execution_count": null,
   "metadata": {
    "dotnet_interactive": {
     "language": "csharp"
    },
    "polyglot_notebook": {
     "kernelName": "csharp"
    },
    "vscode": {
     "languageId": "polyglot-notebook"
    }
   },
   "outputs": [],
   "source": [
    "public bool IsSubsetOf (IEnumerable<T> other);\n",
    "//all member of this in other\n",
    "\n",
    "public bool IsProperSubsetOf (IEnumerable<T> other);\n",
    "//all member of this in other and other have another items\n",
    "\n",
    "public bool IsSupersetOf (IEnumerable<T> other);\n",
    "public bool IsProperSupersetOf (IEnumerable<T> other);\n",
    "\n",
    "public bool Overlaps (IEnumerable<T> other);\n",
    "//this and other have latest one common item\n",
    "\n",
    "public bool SetEquals (IEnumerable<T> other);\n",
    "//check this and other have exactly same items"
   ]
  },
  {
   "cell_type": "markdown",
   "metadata": {},
   "source": [
    "`SortedSet<T>` ***offers all the members*** of `HashSet<T>`, plus the following:"
   ]
  },
  {
   "cell_type": "code",
   "execution_count": null,
   "metadata": {
    "dotnet_interactive": {
     "language": "csharp"
    },
    "polyglot_notebook": {
     "kernelName": "csharp"
    },
    "vscode": {
     "languageId": "polyglot-notebook"
    }
   },
   "outputs": [],
   "source": [
    "public virtual SortedSet<T> GetViewBetween (T lowerValue, T upperValue);\n",
    "public IEnumerable<T> Reverse();\n",
    "public T Min { get; }\n",
    "public T Max { get; }"
   ]
  },
  {
   "cell_type": "markdown",
   "metadata": {},
   "source": [
    "***SortedSet<T>*** also accepts an `optional IComparer<T>` in its constructor"
   ]
  },
  {
   "cell_type": "code",
   "execution_count": null,
   "metadata": {
    "dotnet_interactive": {
     "language": "csharp"
    },
    "polyglot_notebook": {
     "kernelName": "csharp"
    },
    "vscode": {
     "languageId": "polyglot-notebook"
    }
   },
   "outputs": [],
   "source": [
    "var letters = new SortedSet<char> (\"the quick brown fox\");\n",
    "foreach (char c in letters) Console.Write (c); // bcefhiknoqrtuwx\n",
    "\n",
    "foreach (char c in letters.GetViewBetween ('f', 'i'))\n",
    "Console.Write (c); // fhi"
   ]
  }
 ],
 "metadata": {
  "kernelspec": {
   "display_name": ".NET (C#)",
   "language": "C#",
   "name": ".net-csharp"
  },
  "language_info": {
   "name": "python"
  },
  "polyglot_notebook": {
   "kernelInfo": {
    "defaultKernelName": "csharp",
    "items": [
     {
      "aliases": [],
      "name": "csharp"
     }
    ]
   }
  }
 },
 "nbformat": 4,
 "nbformat_minor": 2
}
