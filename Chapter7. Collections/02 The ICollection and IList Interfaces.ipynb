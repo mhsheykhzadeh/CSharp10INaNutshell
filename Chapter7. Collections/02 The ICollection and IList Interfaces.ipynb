{
 "cells": [
  {
   "cell_type": "markdown",
   "metadata": {},
   "source": [
    "`IEnumerable<T>` (and IEnumerable)\n",
    "Provides minimum functionality (`enumeration only`)"
   ]
  },
  {
   "cell_type": "markdown",
   "metadata": {},
   "source": [
    "`ICollection<T>` (and ICollection)\n",
    "Provides medium functionality (e.g., the `Count` property)"
   ]
  },
  {
   "cell_type": "markdown",
   "metadata": {},
   "source": [
    "`IList<T>/IDictionary<K,V>` and their nongeneric versions\n",
    "Provide maximum functionality (including `random` access by `index/key`)"
   ]
  },
  {
   "cell_type": "markdown",
   "metadata": {},
   "source": [
    "<div dir=\"rtl\" style=\"width:90%; margin:auto; font-family:vazirmatn;\">\n",
    "<h5>تفاوت‌های تاریخی و طراحی بهتر اینترفیس‌های جنریک</h5>\n",
    "<ul><li><strong>زمان معرفی</strong>: اینترفیس‌های غیر جنریک (<code>ICollection</code>، <code>IList</code>، <code>IDictionary</code>) ابتدا معرفی شدند و سپس نسخه‌های جنریک آنها (<code>ICollection&lt;T&gt;</code>، <code>IList&lt;T&gt;</code>، <code>IDictionary&lt;TKey, TValue&gt;</code>) به دلیل نیازهای جدید و با استفاده از تجربیات گذشته توسعه یافتند.</li><li><strong>طراحی بهتر</strong>: به دلیل تجربیاتی که از استفاده از اینترفیس‌های غیر جنریک به دست آمده بود، اینترفیس‌های جنریک با طراحی بهتری معرفی شدند که شامل انتخاب‌های بهتری در اعضای اینترفیس بود.</li></ul>\n",
    "\n",
    "<h5>عدم ارث‌بری مستقیم نسخه‌های جنریک از غیر جنریک</h5>\n",
    "<ul><li><strong><code>ICollection&lt;T&gt;</code> از <code>ICollection</code> ارث‌بری نمی‌کند</strong>: به این دلیل که طراحی مجدد اینترفیس‌های جنریک به گونه‌ای بوده است که نیازهای مختلف را به شکل بهتری پوشش دهد، بدون اینکه وابسته به محدودیت‌ها و مسائل اینترفیس‌های غیر جنریک باشد.</li><li><strong><code>IList&lt;T&gt;</code> از <code>IList</code> ارث‌بری نمی‌کند</strong>: به همین دلیل، نسخه جنریک <code>IList&lt;T&gt;</code> نیز از نسخه غیر جنریک خود ارث‌بری نمی‌کند.</li><li><strong><code>IDictionary&lt;TKey, TValue&gt;</code> از <code>IDictionary</code> ارث‌بری نمی‌کند</strong>: طراحی مستقل برای هر یک از این اینترفیس‌ها به توسعه‌دهندگان اجازه می‌دهد که از مزایای جنریک‌ها بدون مشکلات نسخه‌های غیر جنریک استفاده کنند.</li></ul>\n",
    "\n",
    "<h5>پیاده‌سازی هر دو نسخه توسط کلاس‌ها</h5>\n",
    "<ul><li><strong>انعطاف‌پذیری بیشتر</strong>: یک کلاس مجموعه می‌تواند هم نسخه‌های جنریک و هم غیر جنریک اینترفیس‌ها را پیاده‌سازی کند اگر این کار مفید باشد.</li><li><strong>کاربردهای عملی</strong>: پیاده‌سازی هر دو نسخه می‌تواند برای سازگاری با کدهای قدیمی و جدید مفید باشد، زیرا برخی از کتابخانه‌ها و APIهای قدیمی ممکن است هنوز از اینترفیس‌های غیر جنریک استفاده کنند.</li></ul>\n",
    "</div>"
   ]
  },
  {
   "cell_type": "code",
   "execution_count": null,
   "metadata": {
    "dotnet_interactive": {
     "language": "csharp"
    },
    "polyglot_notebook": {
     "kernelName": "csharp"
    },
    "vscode": {
     "languageId": "polyglot-notebook"
    }
   },
   "outputs": [],
   "source": [
    "public class MyCollection<T> : ICollection<T>, ICollection\n",
    "{\n",
    "    private List<T> _items = new List<T>();\n",
    "\n",
    "    // پیاده‌سازی ICollection<T>\n",
    "    public int Count => _items.Count;\n",
    "    public bool IsReadOnly => false;\n",
    "    public void Add(T item) => _items.Add(item);\n",
    "    public void Clear() => _items.Clear();\n",
    "    public bool Contains(T item) => _items.Contains(item);\n",
    "    public void CopyTo(T[] array, int arrayIndex) => _items.CopyTo(array, arrayIndex);\n",
    "    public IEnumerator<T> GetEnumerator() => _items.GetEnumerator();\n",
    "    public bool Remove(T item) => _items.Remove(item);\n",
    "\n",
    "    // پیاده‌سازی ICollection\n",
    "    void ICollection.CopyTo(Array array, int index) => ((ICollection)_items).CopyTo(array, index);\n",
    "    bool ICollection.IsSynchronized => false;\n",
    "    object ICollection.SyncRoot => null;\n",
    "    IEnumerator IEnumerable.GetEnumerator() => GetEnumerator();\n",
    "}\n"
   ]
  },
  {
   "cell_type": "code",
   "execution_count": 2,
   "metadata": {
    "dotnet_interactive": {
     "language": "csharp"
    },
    "polyglot_notebook": {
     "kernelName": "csharp"
    },
    "vscode": {
     "languageId": "polyglot-notebook"
    }
   },
   "outputs": [
    {
     "name": "stdout",
     "output_type": "stream",
     "text": [
      "1 - Type: Int32\n",
      "string - Type: String\n",
      "1/1/2024 12:00:00 AM - Type: DateTime\n"
     ]
    }
   ],
   "source": [
    "// difference between generic and nongeneric\n",
    "\n",
    "public static void NonGenericListExample()\n",
    "{\n",
    "    IList list = new ArrayList();\n",
    "    list.Add(1); // اضافه کردن یک عدد صحیح\n",
    "    list.Add(\"string\"); // اضافه کردن یک رشته\n",
    "    list.Add(new DateTime(2024, 1, 1)); // اضافه کردن یک تاریخ\n",
    "\n",
    "    foreach (var item in list)\n",
    "    {\n",
    "        Console.WriteLine($\"{item} - Type: {item.GetType().Name}\");\n",
    "    }\n",
    "}\n",
    "\n",
    "public static void GenericListExample()\n",
    "{\n",
    "    IList<int> list = new List<int>();\n",
    "    list.Add(1); // اضافه کردن یک عدد صحیح\n",
    "    // list.Add(\"string\"); // خطا: نوع string با نوع مورد انتظار int مطابقت ندارد\n",
    "    // list.Add(new DateTime(2024, 1, 1)); // خطا: نوع DateTime با نوع مورد انتظار int مطابقت ندارد\n",
    "\n",
    "    foreach (var item in list)\n",
    "    {\n",
    "        Console.WriteLine($\"{item} - Type: {item.GetType().Name}\");\n",
    "    }\n",
    "}\n",
    "\n",
    "NonGenericListExample();"
   ]
  },
  {
   "cell_type": "markdown",
   "metadata": {},
   "source": [
    "### `ICollection<T>` and `ICollection`"
   ]
  },
  {
   "cell_type": "markdown",
   "metadata": {},
   "source": [
    "`ICollection<T>` is the standard interface for **countable collections** of objects."
   ]
  },
  {
   "cell_type": "code",
   "execution_count": null,
   "metadata": {
    "dotnet_interactive": {
     "language": "csharp"
    },
    "polyglot_notebook": {
     "kernelName": "csharp"
    },
    "vscode": {
     "languageId": "polyglot-notebook"
    }
   },
   "outputs": [],
   "source": [
    "public interface ICollection<T> : IEnumerable<T>, IEnumerable\n",
    "{\n",
    "    int Count { get; }\n",
    "    bool Contains (T item);\n",
    "    void CopyTo (T[] array, int arrayIndex);\n",
    "    bool IsReadOnly { get; }\n",
    "    void Add(T item);\n",
    "    bool Remove (T item);\n",
    "    void Clear();\n",
    "}\n",
    "\n",
    "//none generic\n",
    "public interface ICollection : IEnumerable\n",
    "{\n",
    "    int Count { get; }\n",
    "    bool IsSynchronized { get; }\n",
    "    object SyncRoot { get; }\n",
    "    void CopyTo (Array array, int index);\n",
    "}"
   ]
  },
  {
   "cell_type": "markdown",
   "metadata": {},
   "source": [
    "<div dir=\"rtl\" style=\"width:90%; margin:auto; font-family:vazirmatn;\">\n",
    "<p><code>ICollection&lt;T&gt;</code> و <code>ICollection</code> معمولاً به همراه اینترفیس‌های پیشرفته‌تر <code>IList&lt;T&gt;</code> و <code>IDictionary&lt;TKey, TValue&gt;</code> پیاده‌سازی می‌شوند تا مجموعه‌هایی با قابلیت‌های بیشتر و کامل‌تر ایجاد شود. این کار به توسعه‌دهندگان اجازه می‌دهد که از تمامی قابلیت‌های مدیریتی مجموعه‌ها به طور بهینه استفاده کنند و کدی با انعطاف‌پذیری و کارایی بیشتر بنویسند.</p>\n",
    "</div>"
   ]
  },
  {
   "cell_type": "markdown",
   "metadata": {},
   "source": [
    "### `IList<T>` and `IList`"
   ]
  },
  {
   "cell_type": "markdown",
   "metadata": {},
   "source": [
    "In ***addition*** to the **functionality** inherited from `ICollection<T>` and `IEnumerable<T>`  \n",
    "  \n",
    "`IList<T>` is the standard interface for collections `indexable` by **position**."
   ]
  },
  {
   "cell_type": "code",
   "execution_count": null,
   "metadata": {
    "dotnet_interactive": {
     "language": "csharp"
    },
    "polyglot_notebook": {
     "kernelName": "csharp"
    },
    "vscode": {
     "languageId": "polyglot-notebook"
    }
   },
   "outputs": [],
   "source": [
    "public interface IList<T> : ICollection<T>, IEnumerable<T>, IEnumerable\n",
    "{\n",
    "    T this [int index] { get; set; }\n",
    "    int IndexOf (T item);\n",
    "    void Insert (int index, T item);\n",
    "    void RemoveAt (int index);\n",
    "}\n",
    "\n",
    "//The nongeneric version of IList has more members \n",
    "//because it inherits less from ICollection\n",
    "\n",
    "public interface IList : ICollection, IEnumerable\n",
    "{\n",
    "    object this [int index] { get; set; }\n",
    "    bool IsFixedSize { get; }\n",
    "    bool IsReadOnly { get; }\n",
    "    int Add (object value);\n",
    "    void Clear();\n",
    "    bool Contains (object value);\n",
    "    int IndexOf (object value);\n",
    "    void Insert (int index, object value);\n",
    "    void Remove (object value);\n",
    "    void RemoveAt (int index);\n",
    "}"
   ]
  },
  {
   "cell_type": "markdown",
   "metadata": {},
   "source": [
    "The **general-purpose** `List<T>` class is the quintessential implementation of **both**\n",
    "`IList<T>` and `IList`.\n",
    "\n",
    "C# `arrays` also implement **both** the `generic and nongeneric ILists` (although the methods that add or remove elements are hidden via explicit interface implementation and throw a NotSupportedException if called)."
   ]
  },
  {
   "cell_type": "markdown",
   "metadata": {},
   "source": [
    "### `IReadOnlyCollection<T>` and `IReadOnlyList<T>`"
   ]
  },
  {
   "cell_type": "code",
   "execution_count": null,
   "metadata": {
    "dotnet_interactive": {
     "language": "csharp"
    },
    "polyglot_notebook": {
     "kernelName": "csharp"
    },
    "vscode": {
     "languageId": "polyglot-notebook"
    }
   },
   "outputs": [],
   "source": [
    "public interface IReadOnlyCollection<out T> : IEnumerable<T>, IEnumerable\n",
    "{\n",
    "    int Count { get; }\n",
    "}\n",
    "\n",
    "public interface IReadOnlyList<out T> : IReadOnlyCollection<T>,\n",
    "IEnumerable<T>, IEnumerable\n",
    "{\n",
    "    T this[int index] { get; }\n",
    "}"
   ]
  },
  {
   "cell_type": "markdown",
   "metadata": {},
   "source": [
    "Because the `type parameter` for these interfaces is used only in **output positions**, it’s marked as `covariant`."
   ]
  },
  {
   "cell_type": "markdown",
   "metadata": {},
   "source": [
    "`T` is not marked as **covariant** with `ICollection<T>` and `IList<T>`, because `T` is used in both **input** and **output** positions."
   ]
  }
 ],
 "metadata": {
  "kernelspec": {
   "display_name": ".NET (C#)",
   "language": "C#",
   "name": ".net-csharp"
  },
  "language_info": {
   "name": "python"
  },
  "polyglot_notebook": {
   "kernelInfo": {
    "defaultKernelName": "csharp",
    "items": [
     {
      "aliases": [],
      "name": "csharp"
     }
    ]
   }
  }
 },
 "nbformat": 4,
 "nbformat_minor": 2
}
