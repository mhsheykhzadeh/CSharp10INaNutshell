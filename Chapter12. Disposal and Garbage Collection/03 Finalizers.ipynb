{
 "cells": [
  {
   "cell_type": "markdown",
   "metadata": {
    "dotnet_interactive": {
     "language": "csharp"
    },
    "polyglot_notebook": {
     "kernelName": "csharp"
    }
   },
   "source": [
    "`Prior` to an object `being released` from `memory`, its ***finalizer runs***,"
   ]
  },
  {
   "cell_type": "code",
   "execution_count": null,
   "metadata": {
    "dotnet_interactive": {
     "language": "csharp"
    },
    "polyglot_notebook": {
     "kernelName": "csharp"
    },
    "vscode": {
     "languageId": "polyglot-notebook"
    }
   },
   "outputs": [],
   "source": [
    "class Test\n",
    "{\n",
    "    ~Test() // like constructor with ~ perfix\n",
    "    {\n",
    "        // Finalizer logic...\n",
    "    }\n",
    "}"
   ]
  },
  {
   "cell_type": "markdown",
   "metadata": {},
   "source": [
    "***finalizers*** `cannot` be declared as **public** or **static**, `cannot` **have parameters**, and `cannot` **call the base class**"
   ]
  },
  {
   "cell_type": "markdown",
   "metadata": {},
   "source": [
    "<div dir=\"rtl\" style=\"margin:auto; width:80%;\">\n",
    "<h3>فازهای جمع‌آوری زباله</h3>\n",
    "<p>جمع‌آوری زباله در چند فاز مجزا انجام می‌شود:</p>\n",
    "<ol><li><p><strong>شناسایی اشیاء بلااستفاده:</strong></p><ul><li>در این فاز، GC اشیائی را که دیگر مورد استفاده نیستند و باید حذف شوند، شناسایی می‌کند.</li></ul></li><li><p><strong>حذف اشیاء بدون نهایی‌ساز:</strong></p><ul><li>اشیائی که نهایی‌ساز (finalizer) ندارند، بلافاصله حذف می‌شوند.</li></ul></li><li><p><strong>اشیاء با نهایی‌سازهای در حال انتظار:</strong></p><ul><li>اشیائی که نهایی‌ساز دارند، در این مرحله هنوز حذف نمی‌شوند. این اشیاء به یک صف ویژه (special queue) اضافه می‌شوند.</li></ul></li></ol>\n",
    "<h3>ادامه اجرای برنامه</h3>\n",
    "<p>بعد از اینکه جمع‌آوری زباله به این مرحله رسید، عملیات جمع‌آوری زباله به پایان می‌رسد و برنامه شما به اجرای خود ادامه می‌دهد. سپس یک نخ (thread) ویژه برای اجرای نهایی‌سازها فعال می‌شود.</p>\n",
    "<h3>اجرای نهایی‌سازها</h3>\n",
    "<p>نخ نهایی‌ساز در کنار برنامه شما شروع به کار می‌کند. این نخ اشیاء را از صف ویژه خارج می‌کند و متدهای نهایی‌ساز آنها را اجرا می‌کند.</p>\n",
    "<ol><li><p><strong>نگه داشتن اشیاء زنده تا زمان اجرای نهایی‌ساز:</strong></p><ul><li>قبل از اجرای نهایی‌ساز، شیء هنوز زنده است، زیرا صف ویژه به عنوان یک ریشه (root) عمل می‌کند و مانع از حذف شیء می‌شود.</li></ul></li><li><p><strong>اجرای نهایی‌ساز:</strong></p><ul><li>بعد از اجرای نهایی‌ساز، شیء دیگر زنده نخواهد بود و به عنوان یک شیء بلااستفاده (orphaned) در نظر گرفته می‌شود.</li></ul></li><li><p><strong>حذف در جمع‌آوری زباله بعدی:</strong></p><ul><li>در جمع‌آوری زباله بعدی برای نسل آن شیء، شیء حذف می‌شود.</li></ul></li></ol>\n",
    "</div>"
   ]
  },
  {
   "cell_type": "markdown",
   "metadata": {},
   "source": [
    "Here are some guidelines for implementing finalizers:  \n",
    "- Ensure that your finalizer `executes quickly`.\n",
    "- Never `block` in your finalizer (see “Blocking” on page 612).\n",
    "- `Don’t reference` other finalizable objects.\n",
    "- `Don’t throw exceptions`."
   ]
  },
  {
   "cell_type": "markdown",
   "metadata": {},
   "source": [
    "<div dir=\"rtl\" style=\"width:90%; margin:auto\">\n",
    "<h3>منابع مدیریت شده (Managed Resources)</h3>\n",
    "<p>این منابع توسط محیط زمان اجرای دات‌نت (CLR - Common Language Runtime) مدیریت می‌شوند. این منابع شامل اشیاءی هستند که توسط زبان‌های دات‌نت مانند C# ایجاد شده‌اند و توسط سیستم جمع‌آوری زباله (Garbage Collector) به صورت خودکار مدیریت و آزاد می‌شوند.</p>\n",
    "\n",
    "<ul><li><strong>مثال‌ها</strong>:<ul><li>اشیاء دات‌نت (مانند رشته‌ها، لیست‌ها، دیکشنری‌ها، ...)</li><li>اشیاءی که از رابط IDisposable پیروی می‌کنند (مانند <code>FileStream</code>, <code>StreamReader</code>, <code>SqlConnection</code> و غیره).</li></ul></li></ul>\n",
    "\n",
    "<h3>منابع مدیریت نشده (Unmanaged Resources)</h3>\n",
    "<p>این منابع توسط CLR مدیریت نمی‌شوند و شامل منابعی هستند که به صورت مستقیم با سیستم عامل تعامل دارند. این منابع نیاز به مدیریت صریح دارند تا از نشت حافظه جلوگیری شود.</p>\n",
    "<ul><li><strong>مثال‌ها</strong>:<ul><li>دسته‌های فایل (File Handles)</li><li>دسته‌های ویندوز (Window Handles)</li><li>حافظه اختصاص داده شده به صورت مستقیم توسط فراخوانی‌های سیستم عامل (مانند <code>malloc</code> در زبان‌های C/C++)</li><li>سوکت‌های شبکه</li></ul></li></ul>\n",
    "</div>"
   ]
  },
  {
   "cell_type": "markdown",
   "metadata": {},
   "source": [
    "<div dir=\"rtl\" style=\"width:90%; margin:auto\">\n",
    "<h3>نتیجه گیری</h3>\n",
    "<p>منابع مدیریت شده توسط سیستم جمع‌آوری زباله (Garbage Collector) به صورت خودکار مدیریت و آزاد می‌شوند.</p>\n",
    "\n",
    "<p>منابع مدیریت نشده، توسط CLR مدیریت نمی‌شوند،  این منابع نیاز به مدیریت صریح دارند تا از نشت حافظه جلوگیری شود</p>\n",
    "\n",
    "<p>پس در مکانیزمی که طراحی می کنیم باید حتما منابع مدیریت نشده آزاد شوند و بنا به تصمیم ما میتوانیم منابع مدیریت شده را خودمان dispose کنیم، یا اینکه بگذاریم GC این کار را انجام دهد.</p>\n",
    "\n",
    "<div>"
   ]
  },
  {
   "cell_type": "markdown",
   "metadata": {},
   "source": [
    "### Calling Dispose from a Finalizer"
   ]
  },
  {
   "cell_type": "markdown",
   "metadata": {},
   "source": [
    "A popular pattern is to have the ***finalizer*** `call Dispose`."
   ]
  },
  {
   "cell_type": "code",
   "execution_count": 2,
   "metadata": {
    "dotnet_interactive": {
     "language": "csharp"
    },
    "polyglot_notebook": {
     "kernelName": "csharp"
    },
    "vscode": {
     "languageId": "polyglot-notebook"
    }
   },
   "outputs": [],
   "source": [
    "class Test : IDisposable\n",
    "{\n",
    "    public void Dispose() // از بیرون قابلیت فراخوانی دارد.\n",
    "    {\n",
    "        Dispose (true); // میخواهیم علاوه بر منابع مدیریت نشده ، منابع مدیریت شده هم \n",
    "        // آزاد شوند\n",
    "        GC.SuppressFinalize (this); // به GC اعلام می کنیم ، تو نیاز نیست \n",
    "        // finalizer این شیء را فراخوانی نکن، ما خودمان به صورت دستی این کار را انجام\n",
    "        // دادیم. چون اجرای finalizer هزینه زیادی دارد\n",
    "    }\n",
    "    protected virtual void Dispose (bool disposing)\n",
    "    {\n",
    "        if (disposing)//برای آزاد سازی منابع مدیریت نشده\n",
    "        {\n",
    "            // Call Dispose() on other objects owned by this instance.\n",
    "            // You can reference other finalizable objects here.\n",
    "            // ...\n",
    "        }\n",
    "        // Release unmanaged resources owned by (just) this object.\n",
    "        // ...\n",
    "    }\n",
    "    ~Test() => Dispose (false); // در صورتی که Dispose عمومی فراخوانی نشد، \n",
    "    // منابع مدیریت نشده حتما آزاد شوند.\n",
    "}"
   ]
  },
  {
   "cell_type": "code",
   "execution_count": null,
   "metadata": {
    "dotnet_interactive": {
     "language": "csharp"
    },
    "polyglot_notebook": {
     "kernelName": "csharp"
    },
    "vscode": {
     "languageId": "polyglot-notebook"
    }
   },
   "outputs": [],
   "source": [
    "using System.IO;\n",
    "\n",
    "class MyClass : IDisposable\n",
    "{\n",
    "    private FileStream fileStream; // Managed resource\n",
    "    private IntPtr fileHandle; // Unmanaged resource\n",
    "\n",
    "    public MyClass(string fileName)\n",
    "    {\n",
    "        fileStream = new FileStream(fileName, FileMode.Open);\n",
    "        fileHandle = fileStream.SafeFileHandle.DangerousGetHandle();\n",
    "    }\n",
    "\n",
    "    public void Dispose()\n",
    "    {\n",
    "        Dispose(true);\n",
    "        GC.SuppressFinalize(this); // جلوگیری از اجرای نهایی‌کننده\n",
    "    }\n",
    "\n",
    "    protected virtual void Dispose(bool disposing)\n",
    "    {\n",
    "        if (disposing)\n",
    "        {\n",
    "            // آزادسازی منابع مدیریت شده\n",
    "            if (fileStream != null)\n",
    "            {\n",
    "                fileStream.Dispose();\n",
    "                fileStream = null;\n",
    "            }\n",
    "        }\n",
    "\n",
    "        // آزادسازی منابع مدیریت نشده\n",
    "        if (fileHandle != IntPtr.Zero)\n",
    "        {\n",
    "            // Close the handle using Win32 API\n",
    "            CloseHandle(fileHandle);\n",
    "            fileHandle = IntPtr.Zero;\n",
    "        }\n",
    "    }\n",
    "\n",
    "    ~MyClass()\n",
    "    {\n",
    "        Dispose(false);\n",
    "    }\n",
    "\n",
    "    [System.Runtime.InteropServices.DllImport(\"kernel32.dll\", SetLastError = true)]\n",
    "    private static extern bool CloseHandle(IntPtr hObject);\n",
    "}\n"
   ]
  },
  {
   "cell_type": "markdown",
   "metadata": {},
   "source": [
    "### Resurrection (تجدید حیات)"
   ]
  },
  {
   "cell_type": "markdown",
   "metadata": {},
   "source": [
    "<div dir=\"rtl\" style=\"width:90%; margin:auto;\">\n",
    "نهایی‌کننده (Finalizer) یک شیء در حال نابود شدن (Dying Object) را طوری تغییر دهد که دوباره به یک شیء زنده ارجاع دهد. این باعث می‌شود که شیء در حال نابود شدن دوباره به حالت زنده برگردد و جمع‌آوری زباله نتواند آن را پاک کند.\n",
    "</div>"
   ]
  },
  {
   "cell_type": "code",
   "execution_count": null,
   "metadata": {
    "dotnet_interactive": {
     "language": "csharp"
    },
    "polyglot_notebook": {
     "kernelName": "csharp"
    },
    "vscode": {
     "languageId": "polyglot-notebook"
    }
   },
   "outputs": [],
   "source": [
    "using System;\n",
    "using System.IO;\n",
    "\n",
    "class TempFileManager : IDisposable\n",
    "{\n",
    "    private string filePath;\n",
    "    private static TempFileManager resurrectedInstance;\n",
    "    \n",
    "    public TempFileManager(string path)\n",
    "    {\n",
    "        filePath = path;\n",
    "        File.Create(filePath).Dispose(); // Create the temporary file\n",
    "    }\n",
    "\n",
    "    public void Dispose()\n",
    "    {\n",
    "        Dispose(true);\n",
    "        GC.SuppressFinalize(this); // جلوگیری از اجرای نهایی‌کننده\n",
    "    }\n",
    "\n",
    "    protected virtual void Dispose(bool disposing)\n",
    "    {\n",
    "        if (disposing)\n",
    "        {\n",
    "            // آزادسازی منابع مدیریت شده\n",
    "        }\n",
    "\n",
    "        // حذف فایل موقت\n",
    "        if (File.Exists(filePath))\n",
    "        {\n",
    "            File.Delete(filePath);\n",
    "        }\n",
    "    }\n",
    "\n",
    "    ~TempFileManager()\n",
    "    {\n",
    "        // تجدید حیات: دوباره به شیء زنده ارجاع داده می‌شود\n",
    "        resurrectedInstance = this;\n",
    "    }\n",
    "}\n",
    "\n",
    "class Program\n",
    "{\n",
    "    static void Main(string[] args)\n",
    "    {\n",
    "        TempFileManager tempFile = new TempFileManager(\"temp.txt\");\n",
    "\n",
    "        // حذف مرجع به شیء\n",
    "        tempFile = null;\n",
    "\n",
    "        // اجرا کردن جمع‌آوری زباله\n",
    "        GC.Collect();\n",
    "        GC.WaitForPendingFinalizers();\n",
    "\n",
    "        // شیء دوباره زنده شده و فایل موقت هنوز وجود دارد\n",
    "        Console.WriteLine(File.Exists(\"temp.txt\")); // True\n",
    "    }\n",
    "}\n"
   ]
  },
  {
   "cell_type": "markdown",
   "metadata": {},
   "source": [
    "### GC.ReRegisterForFinalize"
   ]
  },
  {
   "cell_type": "markdown",
   "metadata": {},
   "source": [
    "<p dir=\"rtl\">\n",
    "اگر یک شیء پس از فراخوانی نهایی‌کننده (Finalizer) دوباره زنده (Resurrected) شود، نهایی‌کننده آن به صورت پیش‌فرض دوباره فراخوانی نخواهد شد، مگر اینکه به صورت صریح با استفاده از GC.ReRegisterForFinalize ثبت شود تا دوباره در چرخه نهایی‌سازی قرار گیرد.\n",
    "</p>"
   ]
  },
  {
   "cell_type": "code",
   "execution_count": null,
   "metadata": {
    "dotnet_interactive": {
     "language": "csharp"
    },
    "polyglot_notebook": {
     "kernelName": "csharp"
    },
    "vscode": {
     "languageId": "polyglot-notebook"
    }
   },
   "outputs": [],
   "source": [
    "using System;\n",
    "using System.IO;\n",
    "\n",
    "class TempFileManager : IDisposable\n",
    "{\n",
    "    private string filePath;\n",
    "    private static TempFileManager resurrectedInstance;\n",
    "    \n",
    "    public TempFileManager(string path)\n",
    "    {\n",
    "        filePath = path;\n",
    "        File.Create(filePath).Dispose(); // Create the temporary file\n",
    "    }\n",
    "\n",
    "    public void Dispose()\n",
    "    {\n",
    "        Dispose(true);\n",
    "        GC.SuppressFinalize(this); // جلوگیری از اجرای نهایی‌کننده\n",
    "    }\n",
    "\n",
    "    protected virtual void Dispose(bool disposing)\n",
    "    {\n",
    "        if (disposing)\n",
    "        {\n",
    "            // آزادسازی منابع مدیریت شده\n",
    "        }\n",
    "\n",
    "        // حذف فایل موقت\n",
    "        if (File.Exists(filePath))\n",
    "        {\n",
    "            File.Delete(filePath);\n",
    "        }\n",
    "    }\n",
    "\n",
    "    ~TempFileManager()\n",
    "    {\n",
    "        Console.WriteLine(\"Finalizer called\");\n",
    "\n",
    "        // تجدید حیات: دوباره به شیء زنده ارجاع داده می‌شود\n",
    "        resurrectedInstance = this;\n",
    "\n",
    "        // ثبت دوباره برای نهایی‌سازی\n",
    "        GC.ReRegisterForFinalize(this);\n",
    "    }\n",
    "}\n",
    "\n",
    "class Program\n",
    "{\n",
    "    static void Main(string[] args)\n",
    "    {\n",
    "        TempFileManager tempFile = new TempFileManager(\"temp.txt\");\n",
    "\n",
    "        // حذف مرجع به شیء\n",
    "        tempFile = null;\n",
    "\n",
    "        // اجرا کردن جمع‌آوری زباله\n",
    "        GC.Collect();\n",
    "        GC.WaitForPendingFinalizers();\n",
    "\n",
    "        // شیء دوباره زنده شده و فایل موقت هنوز وجود دارد\n",
    "        Console.WriteLine(File.Exists(\"temp.txt\")); // True\n",
    "\n",
    "        // حذف مرجع به شیء دوباره زنده شده\n",
    "        tempFile.resurrectedInstance = null;\n",
    "\n",
    "        // اجرا کردن جمع‌آوری زباله مجدد\n",
    "        GC.Collect();\n",
    "        GC.WaitForPendingFinalizers();\n",
    "\n",
    "        // اکنون فایل موقت باید حذف شده باشد\n",
    "        Console.WriteLine(File.Exists(\"temp.txt\")); // False\n",
    "    }\n",
    "}\n"
   ]
  }
 ],
 "metadata": {
  "kernelspec": {
   "display_name": ".NET (C#)",
   "language": "C#",
   "name": ".net-csharp"
  },
  "language_info": {
   "name": "python"
  },
  "polyglot_notebook": {
   "kernelInfo": {
    "defaultKernelName": "csharp",
    "items": [
     {
      "aliases": [],
      "name": "csharp"
     }
    ]
   }
  }
 },
 "nbformat": 4,
 "nbformat_minor": 2
}
