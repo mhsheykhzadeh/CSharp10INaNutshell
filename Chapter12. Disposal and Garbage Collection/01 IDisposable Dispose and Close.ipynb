{
 "cells": [
  {
   "cell_type": "markdown",
   "metadata": {},
   "source": [
    "<div dir=\"rtl\" style=\"width:90%; margin:auto;\">\n",
    "برخی از object ها برای آزاد کردن منابعی مثل <code>open files</code>, <code>locks</code>, <code>operating system handles</code> و <code>unmanaged objects</code>\n",
    "نیاز به کدهای صریح دارند. <br>\n",
    "این فرآیند در .NET به اصطلاح <code>disposal</code> گفته می شود و توسط اینترفیس <code>IDisposable</code> پشتیبانی می شود.\n",
    "\n",
    "<p>\n",
    "حافظه مدیریت شده که پر شده از اشیائی که دیگر از آنها استفاده نمی شود، باید در جایی آزاد شود. <br>\n",
    "این عملکرد تحت عنوان <code>garbage collection</code> شناخته میشود، که توسط <code>CLR</code> انجام می شود.\n",
    "\n",
    "</p>\n",
    "\n",
    "<p>\n",
    "فرایند <code>Disposal</code> با فرآیند <code>garbage collection</code> فرق می کند. در <b>disposal</b> صراحتا منابع را آزاد می کنید، در حالی که این کار در <b>garbage collection</b> به صورت اتوماتیک انجام می شود.\n",
    "\n",
    "</p>\n",
    "\n",
    "</div>"
   ]
  },
  {
   "cell_type": "markdown",
   "metadata": {},
   "source": [
    "### IDisposable, Dispose, and Close"
   ]
  },
  {
   "cell_type": "code",
   "execution_count": null,
   "metadata": {
    "dotnet_interactive": {
     "language": "csharp"
    },
    "polyglot_notebook": {
     "kernelName": "csharp"
    },
    "vscode": {
     "languageId": "polyglot-notebook"
    }
   },
   "outputs": [],
   "source": [
    "//.NET defines a special interface for types requiring a tear-down method:\n",
    "public interface IDisposable\n",
    "{\n",
    "    void Dispose();\n",
    "}"
   ]
  },
  {
   "cell_type": "markdown",
   "metadata": {},
   "source": [
    "C#’s `using` statement provides a syntactic shortcut for calling `Dispose` on objects that implement `IDisposable`,"
   ]
  },
  {
   "cell_type": "code",
   "execution_count": null,
   "metadata": {
    "dotnet_interactive": {
     "language": "csharp"
    },
    "polyglot_notebook": {
     "kernelName": "csharp"
    },
    "vscode": {
     "languageId": "polyglot-notebook"
    }
   },
   "outputs": [],
   "source": [
    "using System.IO;\n",
    "\n",
    "using (FileStream fs = new FileStream (\"myFile.txt\", FileMode.Open))\n",
    "{\n",
    "    // ... Write to the file ...\n",
    "}\n",
    "\n",
    "//The compiler converts this to the following:\n",
    "\n",
    "FileStream fs = new FileStream (\"myFile.txt\", FileMode.Open);\n",
    "try\n",
    "{\n",
    "    // ... Write to the file ...\n",
    "}\n",
    "finally\n",
    "{\n",
    "    if (fs != null) ((IDisposable)fs).Dispose();\n",
    "}\n",
    "\n",
    "//The finally block ensures that the Dispose method is called even when an exception\n",
    "//is thrown or the code exits the block early."
   ]
  },
  {
   "cell_type": "code",
   "execution_count": null,
   "metadata": {
    "dotnet_interactive": {
     "language": "csharp"
    },
    "polyglot_notebook": {
     "kernelName": "csharp"
    },
    "vscode": {
     "languageId": "polyglot-notebook"
    }
   },
   "outputs": [],
   "source": [
    "using System.IO;\n",
    "//from new verion of C#\n",
    "\n",
    "using FileStream fs = new FileStream (\"myFile.txt\", FileMode.Open);\n",
    "// ... Write to the file ..."
   ]
  },
  {
   "cell_type": "code",
   "execution_count": null,
   "metadata": {
    "dotnet_interactive": {
     "language": "csharp"
    },
    "polyglot_notebook": {
     "kernelName": "csharp"
    },
    "vscode": {
     "languageId": "polyglot-notebook"
    }
   },
   "outputs": [],
   "source": [
    "//write your own disposable type \n",
    "\n",
    "sealed class Demo : IDisposable\n",
    "{\n",
    "    public void Dispose()\n",
    "    {\n",
    "        // Perform cleanup / tear-down\n",
    "    }\n",
    "}"
   ]
  },
  {
   "cell_type": "markdown",
   "metadata": {},
   "source": [
    ".NET follows a de facto set of rules in its disposal logic.  \n",
    "- After an object has been `disposed`, it’s beyond redemption. It `cannot be reactivated`, and `calling its methods or properties` (other than Dispose) throws an\n",
    "`ObjectDisposedException`.\n",
    "\n",
    "- Calling an object’s `Dispose method` `repeatedly` causes `no error`.\n",
    "- If disposable object x “owns” disposable object y, x’s `Dispose` method `automatically` calls `y’s Dispose method`\n"
   ]
  },
  {
   "cell_type": "markdown",
   "metadata": {},
   "source": [
    "### Close and Stop"
   ]
  },
  {
   "cell_type": "markdown",
   "metadata": {},
   "source": [
    "Some types define a method called ***Close*** in `addition to Dispose`.   \n",
    "nearly all cases it’s either of the following  \n",
    "- Functionally identical to Dispose\n",
    "- A functional subset of Dispose"
   ]
  },
  {
   "cell_type": "markdown",
   "metadata": {},
   "source": [
    "An example of the latter is `IDbConnection`: a `Closed connection` can be ***re-Opened***; a ***Disposed connection*** `cannot`."
   ]
  },
  {
   "cell_type": "markdown",
   "metadata": {},
   "source": [
    "Some classes define a `Stop` method (e.g., Timer or HttpListener). A ***Stop method*** may release unmanaged resources, like Dispose, but ***unlike Dispose***, it `allows for re-Starting`."
   ]
  },
  {
   "cell_type": "markdown",
   "metadata": {},
   "source": [
    "### When to Dispose"
   ]
  },
  {
   "cell_type": "markdown",
   "metadata": {},
   "source": [
    "A safe rule to follow (in nearly all cases) is `if in doubt, dispose(اگر شک دارید، دور بریزید)`.  \n",
    "  \n",
    "There are, however, three scenarios for **not disposing**:\n",
    "\n",
    "- When **you don’t** `own` the object—for example, when obtaining a shared object via a static field or property\n",
    "- When an **object’s Dispose** method does something that `you don’t want`\n",
    "- When an object’s Dispose method is `unnecessary` by design, and disposing that object would `add complexity to your program`"
   ]
  },
  {
   "cell_type": "markdown",
   "metadata": {},
   "source": [
    "مثالهایی از مورد دوم   \n",
    "  \n",
    "|Type |Disposal function | When not to dispose\n",
    "| ---- | ---- | ----\n",
    "|`MemoryStream` | Prevents further I/O | When you later need to read/write the stream\n",
    "|`StreamReader`,<br> `StreamWriter` | Flushes the reader/writer <br> and closes the underlying <br>stream |When you want to keep the underlying stream<br>open (you must then call Flush on a Stream<br>Writer when you’re done)\n",
    "| `IDbConnection`   | Releases a database<br>connection and clears the<br>connection string | If you need to re-Open it, you should call Close<br>instead of Dispose\n",
    "| `DbContext (EF Core)` | Prevents further use | When you might have lazily evaluated queries<br>connected to that context"
   ]
  },
  {
   "cell_type": "markdown",
   "metadata": {},
   "source": [
    "### Clearing Fields in Disposal"
   ]
  },
  {
   "cell_type": "markdown",
   "metadata": {},
   "source": [
    "In general, you `don’t need` to clear an object’s fields in its ***Dispose*** method. However, it is good practice to `unsubscribe` from `events` that the object has subscribed to internally over its lifetime.\n",
    "\n",
    "<p dir=\"rtl\">از زنده نگه داشتن ناخواسته شی از چشم GC جلوگیری می کند</p>"
   ]
  }
 ],
 "metadata": {
  "kernelspec": {
   "display_name": ".NET (C#)",
   "language": "C#",
   "name": ".net-csharp"
  },
  "language_info": {
   "name": "python"
  },
  "polyglot_notebook": {
   "kernelInfo": {
    "defaultKernelName": "csharp",
    "items": [
     {
      "aliases": [],
      "name": "csharp"
     }
    ]
   }
  }
 },
 "nbformat": 4,
 "nbformat_minor": 2
}
