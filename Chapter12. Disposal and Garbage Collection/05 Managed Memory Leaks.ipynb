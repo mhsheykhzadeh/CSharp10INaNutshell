{
 "cells": [
  {
   "cell_type": "markdown",
   "metadata": {},
   "source": [
    "<div dir=\"rtl\" style=\"width:90%; margin:auto;\">\n",
    "<h3>حافظه مدیریت‌شده (Managed Memory)</h3>\n",
    "<p><strong>مدیریت خودکار توسط سیستم زمان‌اجرا</strong>:</p>\n",
    "<ul>\n",
    "<li>در محیط‌های مدیریت‌شده مانند .NET، مدیریت حافظه به عهده سیستم زمان‌اجرا (CLR) است.</li>\n",
    "<li>جمع‌آوری زباله (Garbage Collection یا GC) به صورت خودکار اشیاء بدون استفاده را شناسایی و حافظه آن‌ها را آزاد می‌کند.</li>\n",
    "</ul>\n",
    "\n",
    "<h3>حافظه مدیریت‌نشده (Unmanaged Memory)</h3>\n",
    "<p><strong>مدیریت دستی توسط برنامه‌نویس</strong>:</p>\n",
    "<ul><li>در زبان‌های برنامه‌نویسی غیرمدیریت‌شده مانند C++، مدیریت حافظه به عهده برنامه‌نویس است.</li><li>برنامه‌نویس باید حافظه را به صورت دستی تخصیص دهد و آزاد کند (معمولاً با استفاده از کلمات کلیدی <code>malloc</code> و <code>free</code> در C یا <code>new</code> و <code>delete</code> در C++).</li></ul>\n",
    "\n",
    "</div>"
   ]
  },
  {
   "cell_type": "markdown",
   "metadata": {},
   "source": [
    "<div dir=\"rtl\" style=\"width:90%; margin:auto;\">\n",
    "<h3>نشت حافظه مدیریت‌شده (Managed Memory Leaks)</h3>\n",
    "<p>در زبان‌های برنامه‌نویسی غیرمدیریت‌شده مانند C++، برنامه‌نویسان باید به صورت دستی حافظه‌ای را که دیگر نیازی به آن نیست، آزاد کنند؛ در غیر این صورت، نشت حافظه رخ خواهد داد. در دنیای مدیریت‌شده، این نوع خطاها به دلیل سیستم جمع‌آوری زباله (GC) خودکار CLR امکان‌پذیر نیست.</p>\n",
    "\n",
    "<h4>نشت حافظه در برنامه‌های مدیریت‌شده</h4>\n",
    "<p>با این حال، برنامه‌های بزرگ و پیچیده .NET می‌توانند شکل خفیف‌تری از همین مشکل را با همان نتیجه نهایی نشان دهند: برنامه به تدریج حافظه بیشتری مصرف می‌کند تا زمانی که در نهایت نیاز به راه‌اندازی مجدد دارد. خبر خوب این است که نشت حافظه مدیریت‌شده معمولاً آسان‌تر تشخیص داده و پیشگیری می‌شود.</p>\n",
    "\n",
    "<h4>علت نشت حافظه مدیریت‌شده</h4>\n",
    "\n",
    "<p>نشت حافظه مدیریت‌شده به دلیل زنده ماندن اشیاء بدون استفاده به واسطه مراجع فراموش‌شده یا بدون استفاده ایجاد می‌شود. یک نمونه رایج، <strong>مدیریت رویدادها</strong> (event handlers) است؛ این‌ها یک مرجع به شیء هدف نگه می‌دارند (مگر اینکه هدف یک متد استاتیک باشد).</p>\n",
    "\n",
    "<h3>چگونه نشت حافظه مدیریت‌شده رخ می‌دهد</h3>\n",
    "<ul><li><strong>مراجع فراموش‌شده</strong>: اگر شما مرجع به یک شیء را فراموش کنید و این مرجع همچنان باقی بماند، شیء مربوطه توسط GC جمع‌آوری نمی‌شود و در حافظه باقی می‌ماند.</li><li><strong>مدیریت رویدادها</strong>: اگر یک شیء برای مدیریت یک رویداد ثبت‌نام کند و پس از آن فراموش شود که از رویداد لغو ثبت‌نام شود، مرجع به آن شیء باقی می‌ماند و حافظه آن آزاد نمی‌شود.</li></ul>\n",
    "\n",
    "<h3>تشخیص و پیشگیری</h3>\n",
    "\n",
    "<ul><li><strong>لغو ثبت‌نام رویدادها</strong>: مطمئن شوید که شیء‌هایی که برای مدیریت رویدادها ثبت‌نام می‌کنند، به موقع از رویداد لغو ثبت‌نام می‌شوند.</li><li><strong>استفاده از ابزارهای تشخیص نشت حافظه</strong>: از ابزارهای موجود برای تشخیص و تحلیل نشت حافظه استفاده کنید. این ابزارها می‌توانند به شما کمک کنند تا مراجع فراموش‌شده و اشیاء زنده بدون استفاده را شناسایی کنید.</li><li><strong>بررسی دوره‌ای کد</strong>: کد خود را به طور دوره‌ای بررسی کنید و از اینکه مرجع‌های غیرضروری و بدون استفاده در کد شما باقی نمانده‌اند، اطمینان حاصل کنید.</li></ul>\n",
    "</div>"
   ]
  },
  {
   "cell_type": "code",
   "execution_count": null,
   "metadata": {
    "dotnet_interactive": {
     "language": "csharp"
    },
    "polyglot_notebook": {
     "kernelName": "csharp"
    },
    "vscode": {
     "languageId": "polyglot-notebook"
    }
   },
   "outputs": [],
   "source": [
    "class Host\n",
    "{\n",
    "    public event EventHandler Click;\n",
    "}\n",
    "class Client\n",
    "{\n",
    "    Host _host;\n",
    "    public Client (Host host)\n",
    "    {\n",
    "        _host = host;\n",
    "        _host.Click += HostClicked;\n",
    "    }\n",
    "    void HostClicked (object sender, EventArgs e) {  }\n",
    "}\n",
    "\n",
    "//The following test class contains a method that instantiates 1,000 clients:\n",
    "class Test\n",
    "{\n",
    "    static Host _host = new Host();\n",
    "    public static void CreateClients()\n",
    "    {\n",
    "        Client[] clients = Enumerable.Range (0, 1000)\n",
    "            .Select (i => new Client (_host))\n",
    "            .ToArray();\n",
    "        // Do something with clients ...\n",
    "\n",
    "        /*\n",
    "        بعد از اجرای این کد باید کلاینت ها جمع آوری شوند\n",
    "        این کار انجام نمی شود، چون در یک رویداد مشترک شده اند و زنده می مانند.\n",
    "        */\n",
    "    }\n",
    "}"
   ]
  },
  {
   "cell_type": "markdown",
   "metadata": {},
   "source": [
    "One way to solve this is to make ***Client*** `implement IDisposable` and, in the\n",
    "Dispose method, unhook the event handler:"
   ]
  },
  {
   "cell_type": "code",
   "execution_count": null,
   "metadata": {
    "dotnet_interactive": {
     "language": "csharp"
    },
    "polyglot_notebook": {
     "kernelName": "csharp"
    },
    "vscode": {
     "languageId": "polyglot-notebook"
    }
   },
   "outputs": [],
   "source": [
    "class Host\n",
    "{\n",
    "    public event EventHandler Click;\n",
    "}\n",
    "class Client : IDisposable\n",
    "{\n",
    "    Host _host;\n",
    "    public Client (Host host)\n",
    "    {\n",
    "        _host = host;\n",
    "        _host.Click += HostClicked;\n",
    "    }\n",
    "    void HostClicked (object sender, EventArgs e) {  }\n",
    "\n",
    "    public void Dispose() { _host.Click -= HostClicked; }\n",
    "}\n",
    "\n",
    "class Test\n",
    "{\n",
    "    static Host _host = new Host();\n",
    "    public static void CreateClients()\n",
    "    {\n",
    "        Client[] clients = Enumerable.Range (0, 1000)\n",
    "            .Select (i => new Client (_host))\n",
    "            .ToArray();\n",
    "        // Do something with clients ...\n",
    "\n",
    "        Array.ForEach (clients, c => c.Dispose());\n",
    "    }\n",
    "}"
   ]
  },
  {
   "cell_type": "markdown",
   "metadata": {},
   "source": [
    "### Timers"
   ]
  },
  {
   "cell_type": "markdown",
   "metadata": {},
   "source": [
    "<div dir=\"rtl\" style=\"width:90%; margin:auto;\">\n",
    "<h4>تایمر در فضای نام System.Timers</h4>\n",
    "<p>تایمرهای <code>System.Timers</code> به گونه‌ای طراحی شده‌اند که در فواصل زمانی مشخص کدهایی را اجرا کنند. این تایمرها می‌توانند به نشت حافظه منجر شوند اگر:</p>\n",
    "<ol><li><strong>مدیریت نشوند</strong>: تایمرها همچنان فعال بمانند حتی وقتی که دیگر به آن‌ها نیاز نیست. این به این معناست که تایمرها همچنان به رویدادهای زمان‌بندی شده خود ادامه می‌دهند و مرجعی به شیء هدف نگه می‌دارند.</li><li><strong>لغو نشوند</strong>: تایمرها به درستی لغو (dispose) نشوند، که باعث می‌شود مراجع به اشیاء هدف باقی بماند و حافظه آن‌ها آزاد نشود.</li></ol>\n",
    "\n",
    "<h3>جلوگیری از نشت حافظه در تایمرها</h3>\n",
    "<p>برای جلوگیری از نشت حافظه ناشی از تایمرها، می‌توان اقدامات زیر را انجام داد:</p>\n",
    "\n",
    "<p><strong>لغو کردن تایمر</strong>: وقتی که دیگر به تایمر نیازی نیست، باید به درستی آن را لغو (dispose) کنید.</p>\n",
    "\n",
    "\n",
    "\n",
    "</div>"
   ]
  },
  {
   "cell_type": "code",
   "execution_count": null,
   "metadata": {
    "dotnet_interactive": {
     "language": "csharp"
    },
    "polyglot_notebook": {
     "kernelName": "csharp"
    },
    "vscode": {
     "languageId": "polyglot-notebook"
    }
   },
   "outputs": [],
   "source": [
    "timer.Stop();\n",
    "timer.Dispose();"
   ]
  },
  {
   "cell_type": "markdown",
   "metadata": {},
   "source": [
    "<div dir=\"rtl\" style=\"width:90%; margin:auto;\">\n",
    "<p><strong>استفاده از بلوک‌های Using</strong>: می‌توانید از بلوک‌های <code>using</code> برای مدیریت تایمرها استفاده کنید تا مطمئن شوید که به درستی آزاد می‌شوند.</p>\n",
    "</div>"
   ]
  },
  {
   "cell_type": "code",
   "execution_count": null,
   "metadata": {
    "dotnet_interactive": {
     "language": "csharp"
    },
    "polyglot_notebook": {
     "kernelName": "csharp"
    },
    "vscode": {
     "languageId": "polyglot-notebook"
    }
   },
   "outputs": [],
   "source": [
    "using (var timer = new System.Timers.Timer())\n",
    "{\n",
    "    // تنظیم تایمر\n",
    "}\n"
   ]
  },
  {
   "cell_type": "markdown",
   "metadata": {},
   "source": [
    "<div dir=\"rtl\" style=\"width:90%; margin:auto;\">\n",
    "<p><strong>توجه به رویدادها:</strong>: اگر تایمرها رویدادهایی را مدیریت می‌کنند، باید اطمینان حاصل کنید که این رویدادها به درستی لغو می‌شوند تا مراجع باقی نمانند.</p>\n",
    "</div>"
   ]
  },
  {
   "cell_type": "code",
   "execution_count": null,
   "metadata": {
    "dotnet_interactive": {
     "language": "csharp"
    },
    "polyglot_notebook": {
     "kernelName": "csharp"
    },
    "vscode": {
     "languageId": "polyglot-notebook"
    }
   },
   "outputs": [],
   "source": [
    "using System.Timers;\n",
    "class Foo\n",
    "{\n",
    "    Timer _timer;\n",
    "    Foo()\n",
    "    {\n",
    "        _timer = new System.Timers.Timer { Interval = 1000 };\n",
    "        _timer.Elapsed += tmr_Elapsed;\n",
    "        _timer.Start();\n",
    "    }\n",
    "    void tmr_Elapsed (object sender, ElapsedEventArgs e) { }\n",
    "}\n",
    "\n",
    "//Unfortunately, instances of Foo can never be garbage collected!"
   ]
  },
  {
   "cell_type": "code",
   "execution_count": null,
   "metadata": {
    "dotnet_interactive": {
     "language": "csharp"
    },
    "polyglot_notebook": {
     "kernelName": "csharp"
    },
    "vscode": {
     "languageId": "polyglot-notebook"
    }
   },
   "outputs": [],
   "source": [
    "using System.Timers;\n",
    "class Foo : IDisposable\n",
    "{\n",
    "    Timer _timer;\n",
    "    Foo()\n",
    "    {\n",
    "        _timer = new System.Timers.Timer { Interval = 1000 };\n",
    "        _timer.Elapsed += tmr_Elapsed;\n",
    "        _timer.Start();\n",
    "    }\n",
    "    void tmr_Elapsed (object sender, ElapsedEventArgs e) { }\n",
    "\n",
    "    public void Dispose() { _timer.Dispose(); }\n",
    "}\n"
   ]
  },
  {
   "cell_type": "markdown",
   "metadata": {},
   "source": [
    "<div dir=\"rtl\" style=\"width:90%; margin:auto;\">\n",
    "<h3>تایمر در فضای نام System.Threading</h3>\n",
    "<p>.NET مراجع به تایمرهای threading فعال را نگه نمی‌دارد.\n",
    "در عوض، مستقیماً به callback delegates (نمایندگان فراخوانی) اشاره می‌کند.\n",
    "</p>\n",
    "<h4>مدیریت خودکار تایمرهای System.Threading</h4>\n",
    "<p>این ویژگی به این معناست که اگر شما فراموش کنید یک تایمر threading را لغو (dispose) کنید، یک finalizer به طور خودکار فعال می‌شود که تایمر را متوقف و لغو می‌کند. این امر به جلوگیری از نشت حافظه کمک می‌کند.</p>\n",
    "</div>"
   ]
  },
  {
   "cell_type": "code",
   "execution_count": null,
   "metadata": {
    "vscode": {
     "languageId": "polyglot-notebook"
    }
   },
   "outputs": [],
   "source": [
    "var tmr = new System.Threading.Timer (TimerTick, null, 1000, 1000);\n",
    "\n",
    "GC.Collect(); \n",
    "// the timer will be collected and finalized before it has a chance to fire\n",
    "//even once\n",
    "\n",
    "System.Threading.Thread.Sleep (10000); // Wait 10 seconds\n",
    "\n",
    "\n",
    "static void TimerTick (object notUsed) { Console.WriteLine (\"tick\"); }"
   ]
  },
  {
   "cell_type": "code",
   "execution_count": null,
   "metadata": {
    "vscode": {
     "languageId": "polyglot-notebook"
    }
   },
   "outputs": [],
   "source": [
    "//we can fix this by disposing of the timer when we’re done with it\n",
    "\n",
    "using (var tmr = new System.Threading.Timer (TimerTick, null, 1000, 1000))\n",
    "{\n",
    "    GC.Collect();\n",
    "    System.Threading.Thread.Sleep (10000); // Wait 10 seconds\n",
    "}\n",
    "\n",
    "static void TimerTick (object notUsed) { Console.WriteLine (\"tick\"); }"
   ]
  },
  {
   "cell_type": "markdown",
   "metadata": {},
   "source": [
    "### Diagnosing Memory Leaks"
   ]
  },
  {
   "cell_type": "markdown",
   "metadata": {},
   "source": [
    "<div dir=\"rtl\" style=\"width:90%; margin:auto;\">\n",
    "<h4>پایش مصرف حافظه</h4>\n",
    "<p>ساده‌ترین راه برای جلوگیری از نشت حافظه مدیریت‌شده، پایش مصرف حافظه به صورت پیشگیرانه هنگام نوشتن برنامه است. شما می‌توانید مصرف حافظه فعلی اشیاء یک برنامه را به صورت زیر بدست آورید (آرگومان <code>true</code> به GC می‌گوید که ابتدا یک جمع‌آوری زباله انجام دهد):</p>\n",
    "</div>"
   ]
  },
  {
   "cell_type": "code",
   "execution_count": null,
   "metadata": {
    "vscode": {
     "languageId": "polyglot-notebook"
    }
   },
   "outputs": [],
   "source": [
    "long memoryUsed = GC.GetTotalMemory(true);"
   ]
  },
  {
   "cell_type": "markdown",
   "metadata": {},
   "source": [
    "<div dir=\"rtl\" style=\"width:90%; margin:auto;\">\n",
    "<h4>ابزارهای تشخیص نشت حافظه</h4>\n",
    "<p>اگر شما یک برنامه بزرگ دارید که دچار نشت حافظه مدیریت‌شده است، ابزار <code>windbg.exe</code> می‌تواند به شما در پیدا کردن آن کمک کند. همچنین ابزارهای گرافیکی کاربرپسندتری وجود دارند مانند:</p>\n",
    "<ul><li><strong>CLR Profiler</strong>: ابزار مایکروسافت برای پروفایلینگ حافظه در CLR.</li><li><strong>SciTech Memory Profiler</strong>: یک پروفایلر حافظه که به شما در تشخیص و تحلیل نشت‌های حافظه کمک می‌کند.</li><li><strong>ANTS Memory Profiler</strong>: پروفایلر حافظه از شرکت Red Gate که ابزار گرافیکی قدرتمندی برای تحلیل مصرف حافظه ارائه می‌دهد.</li></ul>\n",
    "</div>"
   ]
  }
 ],
 "metadata": {
  "kernelspec": {
   "display_name": ".NET (C#)",
   "language": "C#",
   "name": ".net-csharp"
  },
  "language_info": {
   "name": "python"
  },
  "polyglot_notebook": {
   "kernelInfo": {
    "defaultKernelName": "csharp",
    "items": [
     {
      "aliases": [],
      "name": "csharp"
     }
    ]
   }
  }
 },
 "nbformat": 4,
 "nbformat_minor": 2
}
