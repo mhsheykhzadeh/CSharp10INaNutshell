{
 "cells": [
  {
   "cell_type": "markdown",
   "metadata": {},
   "source": [
    "<div dir=\"rtl\" style=\"width:90%; margin:auto;\">\n",
    "<h4>مفهوم مرجع ضعیف</h4>\n",
    "<p>گاهی اوقات مفید است که مرجعی به یک شیء داشته باشیم که از نظر نگه داشتن شیء زنده برای GC نامرئی باشد. این نوع مرجع به عنوان یک مرجع ضعیف شناخته می‌شود و توسط کلاس <code>System.WeakReference</code> پیاده‌سازی می‌شود.</p>\n",
    "</div>"
   ]
  },
  {
   "cell_type": "code",
   "execution_count": null,
   "metadata": {
    "vscode": {
     "languageId": "polyglot-notebook"
    }
   },
   "outputs": [],
   "source": [
    "var sb = new StringBuilder (\"this is a test\");\n",
    "var weak = new WeakReference (sb);\n",
    "Console.WriteLine (weak.Target); // This is a test"
   ]
  },
  {
   "cell_type": "markdown",
   "metadata": {},
   "source": [
    "<div dir=\"rtl\" style=\"width:90%; margin:auto;\">\n",
    "<p>اگر یک هدف تنها توسط یک یا چند مرجع ضعیف ارجاع شده باشد، GC آن هدف را برای جمع‌آوری واجد شرایط می‌داند. هنگامی که هدف جمع‌آوری شود، خاصیت <code>Target</code> مرجع ضعیف برابر با <code>null</code> خواهد بود:</p>\n",
    "</div>"
   ]
  },
  {
   "cell_type": "code",
   "execution_count": null,
   "metadata": {
    "vscode": {
     "languageId": "polyglot-notebook"
    }
   },
   "outputs": [],
   "source": [
    "var weak = GetWeakRef();\n",
    "GC.Collect();\n",
    "Console.WriteLine(weak.Target); // (nothing)\n",
    "\n",
    "WeakReference GetWeakRef() =>\n",
    "    new WeakReference(new StringBuilder(\"weak\"));\n"
   ]
  },
  {
   "cell_type": "markdown",
   "metadata": {},
   "source": [
    "<div dir=\"rtl\" style=\"width:90%; margin:auto;\">\n",
    "<p>بعد از اینکه هدف به یک متغیر محلی اختصاص داده شد، دارای ریشه قوی (strong root) می‌شود و تا زمانی که آن متغیر استفاده می‌شود، جمع‌آوری نمی‌شود.</p>\n",
    "</div>"
   ]
  },
  {
   "cell_type": "code",
   "execution_count": null,
   "metadata": {
    "vscode": {
     "languageId": "polyglot-notebook"
    }
   },
   "outputs": [],
   "source": [
    "var weak = GetWeakRef();\n",
    "\n",
    "var sb = (StringBuilder)weak.Target; //sb is strong root\n",
    "GC.Collect();\n",
    "if (sb != null) {\n",
    "    /* انجام کاری با sb */\n",
    "}\n",
    "\n",
    "WeakReference GetWeakRef() =>\n",
    "    new WeakReference(new StringBuilder(\"weak\"));"
   ]
  }
 ],
 "metadata": {
  "kernelspec": {
   "display_name": ".NET (C#)",
   "language": "C#",
   "name": ".net-csharp"
  },
  "language_info": {
   "name": "python"
  },
  "polyglot_notebook": {
   "kernelInfo": {
    "defaultKernelName": "csharp",
    "items": [
     {
      "aliases": [],
      "name": "csharp"
     }
    ]
   }
  }
 },
 "nbformat": 4,
 "nbformat_minor": 2
}
