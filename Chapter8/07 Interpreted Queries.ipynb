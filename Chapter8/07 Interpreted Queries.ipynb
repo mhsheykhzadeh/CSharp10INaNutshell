{
 "cells": [
  {
   "cell_type": "markdown",
   "metadata": {},
   "source": [
    "LINQ provides `two parallel architectures`: local queries for local object collections and interpreted queries for remote data sources."
   ]
  },
  {
   "cell_type": "markdown",
   "metadata": {},
   "source": [
    "***Local queries*** resolve to `query operators` in the `Enumerable` class"
   ]
  },
  {
   "cell_type": "markdown",
   "metadata": {},
   "source": [
    "interpreted queries are `descriptive`(توصیفی). They operate over sequences that\n",
    "implement `IQueryable<T>`, and they resolve to the query operators in the `Queryable` class"
   ]
  },
  {
   "cell_type": "markdown",
   "metadata": {},
   "source": [
    "***interpreted queries*** use `expression trees` to translated `IQueryable` queries to for example `SQL queries`."
   ]
  },
  {
   "cell_type": "markdown",
   "metadata": {},
   "source": [
    "To `write` interpreted queries, you need to start with an `API` that e`xposes sequences of type IQueryable<T>`. Like `EFCore`."
   ]
  },
  {
   "cell_type": "markdown",
   "metadata": {},
   "source": [
    "It’s also possible to `generate an IQueryable<T>` wrapper around an ordinary `enumerable collection` by calling the `AsQueryable` method."
   ]
  },
  {
   "cell_type": "code",
   "execution_count": 4,
   "metadata": {
    "dotnet_interactive": {
     "language": "csharp"
    },
    "polyglot_notebook": {
     "kernelName": "csharp"
    },
    "vscode": {
     "languageId": "polyglot-notebook"
    }
   },
   "outputs": [
    {
     "data": {
      "text/html": [
       "<div><div></div><div></div><div><strong>Installed Packages</strong><ul><li><span>Microsoft.EntityFrameworkCore, 8.0.4</span></li></ul></div></div>"
      ]
     },
     "metadata": {},
     "output_type": "display_data"
    }
   ],
   "source": [
    "#r \"nuget:Microsoft.EntityFrameworkCore\""
   ]
  },
  {
   "cell_type": "code",
   "execution_count": 5,
   "metadata": {
    "dotnet_interactive": {
     "language": "csharp"
    },
    "polyglot_notebook": {
     "kernelName": "csharp"
    },
    "vscode": {
     "languageId": "polyglot-notebook"
    }
   },
   "outputs": [
    {
     "ename": "Error",
     "evalue": "(22,11): error CS1002: ; expected",
     "output_type": "error",
     "traceback": [
      "(22,11): error CS1002: ; expected"
     ]
    }
   ],
   "source": [
    "using System.Linq;\n",
    "using Microsoft.EntityFrameworkCore;\n",
    "\n",
    "public class Customer\n",
    "{\n",
    "    public int ID { get; set; }\n",
    "    public string Name { get; set; }\n",
    "}\n",
    "\n",
    "public class NutshellContext : DbContext\n",
    "{\n",
    "    public virtual DbSet<Customer> Customers { get; set; }\n",
    "    protected override void OnConfiguring (DbContextOptionsBuilder builder)\n",
    "        => builder.UseSqlServer (\"...connection string...\");\n",
    "    protected override void OnModelCreating (ModelBuilder modelBuilder)\n",
    "        => modelBuilder\n",
    "            .Entity<Customer>()\n",
    "            .ToTable (\"Customer\")\n",
    "            .HasKey (c => c.ID);\n",
    "}\n",
    "\n",
    "using var dbContext = new NutshellContext();\n",
    "IQueryable<string> query = from c in dbContext.Customers\n",
    "where c.Name.Contains (\"a\")\n",
    "orderby c.Name.Length\n",
    "select c.Name.ToUpper();"
   ]
  },
  {
   "cell_type": "code",
   "execution_count": null,
   "metadata": {
    "dotnet_interactive": {
     "language": "sql"
    },
    "polyglot_notebook": {
     "kernelName": "sql"
    },
    "vscode": {
     "languageId": "polyglot-notebook"
    }
   },
   "outputs": [],
   "source": [
    "--EF Core translates this query into the following SQL:\n",
    "SELECT UPPER([c].[Name])\n",
    "FROM [Customers] AS [c]\n",
    "WHERE CHARINDEX(N'a', [c].[Name]) > 0\n",
    "ORDER BY CAST(LEN([c].[Name]) AS int)"
   ]
  },
  {
   "cell_type": "markdown",
   "metadata": {},
   "source": [
    "### How Interpreted Queries Work"
   ]
  },
  {
   "cell_type": "markdown",
   "metadata": {},
   "source": [
    "> ***First***, the compiler converts `query syntax` to `fluent syntax`.  \n",
    "  \n",
    "> ***Next***, the compiler resolves interpreted queries to query operators in the `Queryable` class `instead of` the `Enumerable` class"
   ]
  },
  {
   "cell_type": "code",
   "execution_count": null,
   "metadata": {
    "dotnet_interactive": {
     "language": "csharp"
    },
    "polyglot_notebook": {
     "kernelName": "csharp"
    },
    "vscode": {
     "languageId": "polyglot-notebook"
    }
   },
   "outputs": [],
   "source": [
    "public static IQueryable<TSource> Where<TSource> (this\n",
    "IQueryable<TSource> source, Expression <Func<TSource,bool>> predicate)"
   ]
  },
  {
   "cell_type": "markdown",
   "metadata": {},
   "source": [
    "> when `compiler` see ***Where***, choice use `Where` extension method in `Queryable`, beacuse `dbContext.Customers` is of type `DbSet<T>`, which implements `IQueryable<T>` (a subtype of IEnumerable<T>)."
   ]
  },
  {
   "cell_type": "markdown",
   "metadata": {},
   "source": [
    "> An `expression tree` is an object model based on the types in `System.Linq.Expressions` that can be `inspected` at `runtime` (so that `EF Core` can later `translate` it to an SQL statement)."
   ]
  },
  {
   "cell_type": "markdown",
   "metadata": {},
   "source": [
    "> `Queryable.Where` accepts a predicate wrapped in an `Expression<TDelegate>` type."
   ]
  },
  {
   "cell_type": "markdown",
   "metadata": {},
   "source": [
    "### Execution"
   ]
  },
  {
   "cell_type": "markdown",
   "metadata": {},
   "source": [
    "`Interpreted queries` follow a `deferred(به تعویق افتاده) execution` model. This means that the `SQL statement` is not generated `until` you `start enumerating` the query."
   ]
  },
  {
   "cell_type": "code",
   "execution_count": null,
   "metadata": {
    "dotnet_interactive": {
     "language": "csharp"
    },
    "polyglot_notebook": {
     "kernelName": "csharp"
    },
    "vscode": {
     "languageId": "polyglot-notebook"
    }
   },
   "outputs": [],
   "source": [
    "//enumerating the same query twice results in the database being queried twice.\n",
    "\n",
    "IQueryable<string> query = from c in dbContext.Customers\n",
    "where c.Name.Contains (\"a\")\n",
    "orderby c.Name.Length\n",
    "select c.Name.ToUpper();\n",
    "\n",
    "foreach (var item in query) // execute 1\n",
    "    Console.WriteLine(item);\n",
    "\n",
    "foreach (var item in query) //execute 2\n",
    "    Console.WriteLine(item);"
   ]
  },
  {
   "cell_type": "markdown",
   "metadata": {},
   "source": [
    "### Combining Interpreted and Local Queries"
   ]
  },
  {
   "cell_type": "markdown",
   "metadata": {},
   "source": [
    "A query can include both `interpreted` and `local` operators."
   ]
  },
  {
   "cell_type": "markdown",
   "metadata": {},
   "source": [
    "A typical pattern is to have the ***local operators*** on the `outside` and the ***interpreted components*** on the `inside`;"
   ]
  },
  {
   "cell_type": "code",
   "execution_count": null,
   "metadata": {
    "vscode": {
     "languageId": "polyglot-notebook"
    }
   },
   "outputs": [],
   "source": [
    "public static IEnumerable<string> Pair (this IEnumerable<string> source)\n",
    "{\n",
    "    string firstHalf = null;\n",
    "    foreach (string element in source)\n",
    "        if (firstHalf == null)\n",
    "            firstHalf = element;\n",
    "        else\n",
    "        {\n",
    "            yield return firstHalf + \", \" + element;\n",
    "            firstHalf = null;\n",
    "        }\n",
    "}\n",
    "\n",
    "using(var dbContext = new NutshellContext ())\n",
    "{\n",
    "    IEnumerable<string> q = dbContext.Customers\n",
    "        .Select (c => c.Name.ToUpper())\n",
    "        .OrderBy (n => n)\n",
    "        .Pair() // Local from this point on.\n",
    "        .Select ((n, i) => \"Pair \" + i.ToString() + \" = \" + n);\n",
    "\n",
    "    foreach (string element in q) Console.WriteLine (element);\n",
    "}"
   ]
  },
  {
   "cell_type": "code",
   "execution_count": null,
   "metadata": {
    "dotnet_interactive": {
     "language": "sql"
    },
    "polyglot_notebook": {
     "kernelName": "sql"
    },
    "vscode": {
     "languageId": "polyglot-notebook"
    }
   },
   "outputs": [],
   "source": [
    "-- this query select of database\n",
    "\n",
    "SELECT UPPER([c].[Name]) \n",
    "FROM [Customers] AS [c] \n",
    "ORDER BY UPPER([c].[Name])\n",
    "\n",
    "--The remaining work is done locally."
   ]
  },
  {
   "cell_type": "markdown",
   "metadata": {},
   "source": [
    "### AsEnumerable"
   ]
  },
  {
   "cell_type": "markdown",
   "metadata": {},
   "source": [
    "`Enumerable.AsEnumerable` is the ***simplest*** of all query operators."
   ]
  },
  {
   "cell_type": "code",
   "execution_count": null,
   "metadata": {
    "vscode": {
     "languageId": "polyglot-notebook"
    }
   },
   "outputs": [],
   "source": [
    "public static IEnumerable<TSource> AsEnumerable<TSource>\n",
    "(this IEnumerable<TSource> source)\n",
    "{\n",
    "    return source;\n",
    "}"
   ]
  },
  {
   "cell_type": "markdown",
   "metadata": {},
   "source": [
    "Its purpose is to ***cast*** an `IQueryable<T>` sequence to `IEnumerable<T>`  \n",
    "This causes the `remainder` of the query to `execute locally`."
   ]
  },
  {
   "cell_type": "code",
   "execution_count": null,
   "metadata": {
    "vscode": {
     "languageId": "polyglot-notebook"
    }
   },
   "outputs": [],
   "source": [
    "Regex wordCounter = new Regex (@\"\\b(\\w|[-'])+\\b\");\n",
    "\n",
    "using (var dbContext = new NutshellContext ())\n",
    "{\n",
    "    var query = dbContext.MedicalArticles\n",
    "        .Where (article => article.Topic == \"influenza\" &&\n",
    "                        wordCounter.Matches (article.Abstract).Count < 100);\n",
    "\n",
    "    //SQL Server doesn’t support regular expressions, so EF Core\n",
    "    //will throw an exception\n",
    "}"
   ]
  },
  {
   "cell_type": "code",
   "execution_count": null,
   "metadata": {
    "vscode": {
     "languageId": "polyglot-notebook"
    }
   },
   "outputs": [],
   "source": [
    "Regex wordCounter = new Regex (@\"\\b(\\w|[-'])+\\b\");\n",
    "\n",
    "using (var dbContext = new NutshellContext ())\n",
    "{\n",
    "    var query = dbContext.MedicalArticles\n",
    "        .Where (article => article.Topic == \"influenza\")\n",
    "        .AsEnumerable() // reminder query execute locally\n",
    "        .Where (article => wordCounter.Matches (article.Abstract).Count < 100);\n",
    "}"
   ]
  },
  {
   "cell_type": "markdown",
   "metadata": {},
   "source": [
    "An alternative to calling `AsEnumerable` is to call `ToArray` or `ToList`. The `advantage of AsEnumerable` is  \n",
    "- that it doesn’t force immediate query execution  \n",
    "\n",
    "-  does it create any storage structure."
   ]
  }
 ],
 "metadata": {
  "language_info": {
   "name": "python"
  }
 },
 "nbformat": 4,
 "nbformat_minor": 2
}
