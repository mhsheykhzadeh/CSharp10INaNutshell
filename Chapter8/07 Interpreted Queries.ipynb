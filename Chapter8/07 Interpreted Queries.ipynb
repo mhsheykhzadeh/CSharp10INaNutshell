{
 "cells": [
  {
   "cell_type": "markdown",
   "metadata": {},
   "source": [
    "LINQ provides `two parallel architectures`: local queries for local object collections and interpreted queries for remote data sources."
   ]
  },
  {
   "cell_type": "markdown",
   "metadata": {},
   "source": [
    "***Local queries*** resolve to `query operators` in the `Enumerable` class"
   ]
  },
  {
   "cell_type": "markdown",
   "metadata": {},
   "source": [
    "interpreted queries are `descriptive`(توصیفی). They operate over sequences that\n",
    "implement `IQueryable<T>`, and they resolve to the query operators in the `Queryable` class"
   ]
  },
  {
   "cell_type": "markdown",
   "metadata": {},
   "source": [
    "***interpreted queries*** use `expression trees` to translated `IQueryable` queries to for example `SQL queries`."
   ]
  },
  {
   "cell_type": "markdown",
   "metadata": {},
   "source": [
    "To `write` interpreted queries, you need to start with an `API` that e`xposes sequences of type IQueryable<T>`. Like `EFCore`."
   ]
  },
  {
   "cell_type": "markdown",
   "metadata": {},
   "source": [
    "It’s also possible to `generate an IQueryable<T>` wrapper around an ordinary `enumerable collection` by calling the `AsQueryable` method."
   ]
  },
  {
   "cell_type": "code",
   "execution_count": 2,
   "metadata": {
    "dotnet_interactive": {
     "language": "csharp"
    },
    "polyglot_notebook": {
     "kernelName": "csharp"
    },
    "vscode": {
     "languageId": "polyglot-notebook"
    }
   },
   "outputs": [
    {
     "data": {
      "text/html": [
       "<div><div></div><div></div><div><strong>Installed Packages</strong><ul><li><span>Microsoft.EntityFrameworkCore, 8.0.8</span></li><li><span>Microsoft.EntityFrameworkCore.SqlServer, 8.0.8</span></li></ul></div></div>"
      ]
     },
     "metadata": {},
     "output_type": "display_data"
    }
   ],
   "source": [
    "#r \"nuget:Microsoft.EntityFrameworkCore\"\n",
    "#r \"nuget:Microsoft.EntityFrameworkCore.SqlServer\""
   ]
  },
  {
   "cell_type": "code",
   "execution_count": 3,
   "metadata": {
    "dotnet_interactive": {
     "language": "csharp"
    },
    "polyglot_notebook": {
     "kernelName": "csharp"
    },
    "vscode": {
     "languageId": "polyglot-notebook"
    }
   },
   "outputs": [
    {
     "name": "stdout",
     "output_type": "stream",
     "text": [
      "علی\n",
      "حسن\n",
      "محمد حسین\n"
     ]
    }
   ],
   "source": [
    "using System.Linq;\n",
    "using Microsoft.EntityFrameworkCore;\n",
    "\n",
    "public class Customer\n",
    "{\n",
    "    public int ID { get; set; }\n",
    "    public string Name { get; set; }\n",
    "}\n",
    "\n",
    "public class NutshellContext : DbContext\n",
    "{\n",
    "    public virtual DbSet<Customer> Customers { get; set; }\n",
    "\n",
    "    protected override void OnConfiguring (DbContextOptionsBuilder builder)\n",
    "        => builder.UseSqlServer (@\"Data Source=.; Initial Catalog=Nutshell;Trusted_Connection=True;TrustServerCertificate=True;\");\n",
    "        \n",
    "    protected override void OnModelCreating (ModelBuilder modelBuilder)\n",
    "        => modelBuilder\n",
    "            .Entity<Customer>()\n",
    "            .ToTable (\"Persons\")\n",
    "            .HasKey (c => c.ID);\n",
    "}\n",
    "\n",
    "var dbContext = new NutshellContext();\n",
    "\n",
    "IQueryable<string> query = from c in dbContext.Customers\n",
    "//where c.Name.Contains (\"a\")\n",
    "orderby c.Name.Length\n",
    "select c.Name.ToUpper();\n",
    "\n",
    "foreach(var item in query)\n",
    "    Console.WriteLine(item);\n",
    "    \n"
   ]
  },
  {
   "cell_type": "code",
   "execution_count": null,
   "metadata": {
    "dotnet_interactive": {
     "language": "sql"
    },
    "polyglot_notebook": {
     "kernelName": "sql"
    },
    "vscode": {
     "languageId": "polyglot-notebook"
    }
   },
   "outputs": [],
   "source": [
    "--EF Core translates this query into the following SQL:\n",
    "SELECT UPPER([c].[Name])\n",
    "FROM [Customers] AS [c]\n",
    "WHERE CHARINDEX(N'a', [c].[Name]) > 0\n",
    "ORDER BY CAST(LEN([c].[Name]) AS int)"
   ]
  },
  {
   "cell_type": "markdown",
   "metadata": {},
   "source": [
    "### How Interpreted Queries Work"
   ]
  },
  {
   "cell_type": "markdown",
   "metadata": {},
   "source": [
    "> ***First***, the compiler converts `query syntax` to `fluent syntax`.  \n",
    "  \n",
    "> ***Next***, the compiler resolves interpreted queries to query operators in the `Queryable` class `instead of` the `Enumerable` class"
   ]
  },
  {
   "cell_type": "code",
   "execution_count": null,
   "metadata": {
    "dotnet_interactive": {
     "language": "csharp"
    },
    "polyglot_notebook": {
     "kernelName": "csharp"
    },
    "vscode": {
     "languageId": "polyglot-notebook"
    }
   },
   "outputs": [],
   "source": [
    "public static IQueryable<TSource> Where<TSource> (this\n",
    "IQueryable<TSource> source, Expression <Func<TSource,bool>> predicate)"
   ]
  },
  {
   "cell_type": "markdown",
   "metadata": {},
   "source": [
    "> when `compiler` see ***Where***, choice use `Where` extension method in `Queryable`, beacuse `dbContext.Customers` is of type `DbSet<T>`, which implements `IQueryable<T>` (a subtype of IEnumerable<T>)."
   ]
  },
  {
   "cell_type": "markdown",
   "metadata": {},
   "source": [
    "> An `expression tree` is an object model based on the types in `System.Linq.Expressions` that can be `inspected` at `runtime` (so that `EF Core` can later `translate` it to an SQL statement)."
   ]
  },
  {
   "cell_type": "markdown",
   "metadata": {},
   "source": [
    "> `Queryable.Where` accepts a predicate wrapped in an `Expression<TDelegate>` type."
   ]
  },
  {
   "cell_type": "markdown",
   "metadata": {},
   "source": [
    "<div dir=\"rtl\" style=\"width:90%; margin:auto; font-family:vazirmatn\">\n",
    "<p>قابلیت اصلی که باعث می‌شود از Expression Tree برای ترجمه کوئری‌های LINQ به SQL استفاده شود، توانایی آن در بازنمایی و تحلیل عبارات به شکل شیء است. به این معنا که شما به جای اجرای مستقیم کوئری، می‌توانید ساختار کوئری را به‌عنوان یک داده (object) ذخیره و پردازش کنید. سپس این ساختار می‌تواند به SQL یا هر زبان دیگری ترجمه شود.</p>\n",
    "<p>ویژگی‌های مهم Expression Tree عبارتند از:</p>\n",
    "<ol><li><p><strong>قابلیت بازنمایی کد به عنوان داده</strong>:\n",
    "Expression Tree به شما امکان می‌دهد تا کدی مانند کوئری‌های LINQ را به‌عنوان یک ساختار داده (مثل یک درخت) ذخیره کنید. هر گره در این درخت بیان یک عملیات خاص (مانند فراخوانی متد، دسترسی به عضو، عملگرهای شرطی و ...) است.</p></li><li><p><strong>قابلیت تجزیه و تحلیل</strong>:\n",
    "به دلیل اینکه کوئری‌های LINQ به صورت Expression Tree بازنمایی می‌شوند، می‌توان آن‌ها را تجزیه و تحلیل کرد. مثلاً شما می‌توانید بررسی کنید که درخت بیان شامل کدام عملیات‌ها است و بر اساس آن تصمیم بگیرید که چگونه این عملیات‌ها را به SQL یا زبان دیگری ترجمه کنید.</p></li><li><p><strong>تأخیر در اجرا (Deferred Execution)</strong>:\n",
    "کوئری‌های LINQ تا زمانی که نیاز به نتیجه نداشته باشند، اجرا نمی‌شوند. درخت بیان، نمایشی از این کوئری را به‌صورت شیء حفظ می‌کند و تا زمانی که درخواست اجرا شود (مثل فراخوانی <code>ToList()</code> یا <code>First()</code>)، درخت بررسی و پردازش نمی‌شود. این به ORMها مثل Entity Framework اجازه می‌دهد تا ابتدا کوئری را بررسی کرده و آن را به SQL ترجمه کنند.</p></li><li><p><strong>قابلیت تغییر و بازنویسی</strong>:\n",
    "Expression Tree قابل تغییر و بازنویسی است. این یعنی شما می‌توانید درخت بیان را در طول زمان تغییر دهید، بخش‌هایی از آن را اضافه یا حذف کنید و سپس آن را به SQL یا هر زبان دیگری ترجمه کنید.</p></li></ol>\n",
    "<h3>مراحل استفاده از Expression Tree در ترجمه LINQ به SQL:</h3>\n",
    "<ol><li><p><strong>ایجاد کوئری LINQ</strong>: وقتی یک کوئری LINQ نوشته می‌شود (مثلاً <code>from p in Products where p.Price &gt; 100 select p</code>)، این کوئری به جای اجرای فوری به یک Expression Tree تبدیل می‌شود.</p></li><li><p><strong>تجزیه درخت بیان</strong>: ORM (مثل Entity Framework) این درخت بیان را تجزیه می‌کند تا بفهمد چه عملیاتی قرار است انجام شود (مانند فیلترها، انتخاب فیلدها و ...).</p></li><li><p><strong>ترجمه به SQL</strong>: بر اساس این درخت بیان، کوئری SQL معادل ساخته می‌شود (مثلاً <code>SELECT * FROM Products WHERE Price &gt; 100</code>).</p></li><li><p><strong>اجرا و واکشی داده‌ها</strong>: کوئری SQL اجرا شده و داده‌ها از پایگاه داده واکشی می‌شوند.</p></li></ol>\n",
    "</div>"
   ]
  },
  {
   "cell_type": "markdown",
   "metadata": {},
   "source": [
    "### Execution"
   ]
  },
  {
   "cell_type": "markdown",
   "metadata": {},
   "source": [
    "`Interpreted queries` follow a `deferred(به تعویق افتاده) execution` model. This means that the `SQL statement` is not generated `until` you `start enumerating` the query."
   ]
  },
  {
   "cell_type": "code",
   "execution_count": null,
   "metadata": {
    "dotnet_interactive": {
     "language": "csharp"
    },
    "polyglot_notebook": {
     "kernelName": "csharp"
    },
    "vscode": {
     "languageId": "polyglot-notebook"
    }
   },
   "outputs": [],
   "source": [
    "//enumerating the same query twice results in the database being queried twice.\n",
    "\n",
    "IQueryable<string> query = from c in dbContext.Customers\n",
    "where c.Name.Contains (\"a\")\n",
    "orderby c.Name.Length\n",
    "select c.Name.ToUpper();\n",
    "\n",
    "foreach (var item in query) // execute 1\n",
    "    Console.WriteLine(item);\n",
    "\n",
    "foreach (var item in query) //execute 2\n",
    "    Console.WriteLine(item);"
   ]
  },
  {
   "cell_type": "markdown",
   "metadata": {},
   "source": [
    "### Combining Interpreted and Local Queries"
   ]
  },
  {
   "cell_type": "markdown",
   "metadata": {},
   "source": [
    "A query can include both `interpreted` and `local` operators."
   ]
  },
  {
   "cell_type": "markdown",
   "metadata": {},
   "source": [
    "A typical pattern is to have the ***local operators*** on the `outside` and the ***interpreted components*** on the `inside`;"
   ]
  },
  {
   "cell_type": "code",
   "execution_count": null,
   "metadata": {
    "dotnet_interactive": {
     "language": "csharp"
    },
    "polyglot_notebook": {
     "kernelName": "csharp"
    },
    "vscode": {
     "languageId": "polyglot-notebook"
    }
   },
   "outputs": [],
   "source": [
    "public static IEnumerable<string> Pair (this IEnumerable<string> source)\n",
    "{\n",
    "    string firstHalf = null;\n",
    "    foreach (string element in source)\n",
    "        if (firstHalf == null)\n",
    "            firstHalf = element;\n",
    "        else\n",
    "        {\n",
    "            yield return firstHalf + \", \" + element;\n",
    "            firstHalf = null;\n",
    "        }\n",
    "}\n",
    "\n",
    "using(var dbContext = new NutshellContext ())\n",
    "{\n",
    "    IEnumerable<string> q = dbContext.Customers\n",
    "        .Select (c => c.Name.ToUpper())\n",
    "        .OrderBy (n => n)\n",
    "        .Pair() // Local from this point on.\n",
    "        .Select ((n, i) => \"Pair \" + i.ToString() + \" = \" + n);\n",
    "\n",
    "    foreach (string element in q) Console.WriteLine (element);\n",
    "}"
   ]
  },
  {
   "cell_type": "code",
   "execution_count": null,
   "metadata": {
    "dotnet_interactive": {
     "language": "sql"
    },
    "polyglot_notebook": {
     "kernelName": "sql"
    },
    "vscode": {
     "languageId": "polyglot-notebook"
    }
   },
   "outputs": [],
   "source": [
    "-- this query select of database\n",
    "\n",
    "SELECT UPPER([c].[Name]) \n",
    "FROM [Customers] AS [c] \n",
    "ORDER BY UPPER([c].[Name])\n",
    "\n",
    "--The remaining work is done locally."
   ]
  },
  {
   "cell_type": "markdown",
   "metadata": {},
   "source": [
    "### AsEnumerable"
   ]
  },
  {
   "cell_type": "markdown",
   "metadata": {},
   "source": [
    "`Enumerable.AsEnumerable` is the ***simplest*** of all query operators."
   ]
  },
  {
   "cell_type": "code",
   "execution_count": null,
   "metadata": {
    "dotnet_interactive": {
     "language": "csharp"
    },
    "polyglot_notebook": {
     "kernelName": "csharp"
    },
    "vscode": {
     "languageId": "polyglot-notebook"
    }
   },
   "outputs": [],
   "source": [
    "public static IEnumerable<TSource> AsEnumerable<TSource>\n",
    "(this IEnumerable<TSource> source)\n",
    "{\n",
    "    return source;\n",
    "}"
   ]
  },
  {
   "cell_type": "markdown",
   "metadata": {},
   "source": [
    "Its purpose is to ***cast*** an `IQueryable<T>` sequence to `IEnumerable<T>`  \n",
    "This causes the `remainder` of the query to `execute locally`."
   ]
  },
  {
   "cell_type": "code",
   "execution_count": null,
   "metadata": {
    "dotnet_interactive": {
     "language": "csharp"
    },
    "polyglot_notebook": {
     "kernelName": "csharp"
    },
    "vscode": {
     "languageId": "polyglot-notebook"
    }
   },
   "outputs": [],
   "source": [
    "Regex wordCounter = new Regex (@\"\\b(\\w|[-'])+\\b\");\n",
    "\n",
    "using (var dbContext = new NutshellContext ())\n",
    "{\n",
    "    var query = dbContext.MedicalArticles\n",
    "        .Where (article => article.Topic == \"influenza\" &&\n",
    "                        wordCounter.Matches (article.Abstract).Count < 100);\n",
    "\n",
    "    //SQL Server doesn’t support regular expressions, so EF Core\n",
    "    //will throw an exception\n",
    "}"
   ]
  },
  {
   "cell_type": "code",
   "execution_count": null,
   "metadata": {
    "dotnet_interactive": {
     "language": "csharp"
    },
    "polyglot_notebook": {
     "kernelName": "csharp"
    },
    "vscode": {
     "languageId": "polyglot-notebook"
    }
   },
   "outputs": [],
   "source": [
    "Regex wordCounter = new Regex (@\"\\b(\\w|[-'])+\\b\");\n",
    "\n",
    "using (var dbContext = new NutshellContext ())\n",
    "{\n",
    "    var query = dbContext.MedicalArticles\n",
    "        .Where (article => article.Topic == \"influenza\")\n",
    "        .AsEnumerable() // reminder query execute locally\n",
    "        .Where (article => wordCounter.Matches (article.Abstract).Count < 100);\n",
    "}"
   ]
  },
  {
   "cell_type": "markdown",
   "metadata": {},
   "source": [
    "An alternative to calling `AsEnumerable` is to call `ToArray` or `ToList`. The `advantage of AsEnumerable` is  \n",
    "- that it doesn’t force immediate query execution  \n",
    "\n",
    "-  does it create any storage structure."
   ]
  }
 ],
 "metadata": {
  "kernelspec": {
   "display_name": ".NET (C#)",
   "language": "C#",
   "name": ".net-csharp"
  },
  "language_info": {
   "name": "python"
  },
  "polyglot_notebook": {
   "kernelInfo": {
    "defaultKernelName": "csharp",
    "items": [
     {
      "aliases": [],
      "name": "csharp"
     }
    ]
   }
  }
 },
 "nbformat": 4,
 "nbformat_minor": 2
}
