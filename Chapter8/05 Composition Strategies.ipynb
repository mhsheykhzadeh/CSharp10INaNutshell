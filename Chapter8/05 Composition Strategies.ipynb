{
 "cells": [
  {
   "cell_type": "markdown",
   "metadata": {},
   "source": [
    "we describe three `strategies` for `building` more `complex queries`"
   ]
  },
  {
   "cell_type": "markdown",
   "metadata": {},
   "source": [
    "- ***Progressive query construction***\n",
    "- ***Using the into keyword***\n",
    "- ***Wrapping queries***"
   ]
  },
  {
   "cell_type": "markdown",
   "metadata": {},
   "source": [
    "### Progressive Query Building"
   ]
  },
  {
   "cell_type": "markdown",
   "metadata": {},
   "source": [
    "with `progressive query` building we can make `query`, `step by step`"
   ]
  },
  {
   "cell_type": "code",
   "execution_count": 1,
   "metadata": {
    "dotnet_interactive": {
     "language": "csharp"
    },
    "polyglot_notebook": {
     "kernelName": "csharp"
    },
    "vscode": {
     "languageId": "polyglot-notebook"
    }
   },
   "outputs": [],
   "source": [
    "var names = new List<string>() {\"ali\", \"hassan\", \"ardalan\"};\n",
    "\n",
    "var filtered = names .Where (n => n.Contains (\"a\"));\n",
    "var sorted = filtered .OrderBy (n => n);\n",
    "var query = sorted .Select (n => n.ToUpper());"
   ]
  },
  {
   "cell_type": "markdown",
   "metadata": {},
   "source": [
    "<div dir=\"rtl\" style=\"width:90%; margin:auto;\">\n",
    "<h3>مزایای Progressive Query</h3>\n",
    "<ol><li><strong>خوانایی بالاتر</strong>: تفکیک پرس و جو به مراحل مختلف، خوانایی کد را افزایش می‌دهد و درک آن را آسان‌تر می‌کند.</li><li><strong>توسعه‌پذیری</strong>: افزودن یا حذف فیلترها و تبدیل‌ها به راحتی انجام می‌پذیرد بدون آنکه نیاز باشد تمام پرس و جو را دوباره بنویسید.</li><li><strong>بهینه‌سازی</strong>: LINQ می‌تواند بهینه‌سازی‌هایی را بر اساس ترتیب عملیات اعمال شده در پرس و جو انجام دهد.</li></ol>\n",
    "<p>این تکنیک‌ها می‌توانند به شما کمک کنند تا کدهای تمیزتر و مدیریت‌پذیرتری بنویسید، خصوصاً زمانی که با مجموعه‌های بزرگ داده‌ها سر و کار دارید.</p>\n",
    "</div>"
   ]
  },
  {
   "cell_type": "markdown",
   "metadata": {},
   "source": [
    "### The into Keyword"
   ]
  },
  {
   "cell_type": "markdown",
   "metadata": {},
   "source": [
    "The into keyword lets you `continue` a query after a projection and is a `shortcut` for `progressively querying`."
   ]
  },
  {
   "cell_type": "code",
   "execution_count": null,
   "metadata": {
    "dotnet_interactive": {
     "language": "csharp"
    },
    "polyglot_notebook": {
     "kernelName": "csharp"
    },
    "vscode": {
     "languageId": "polyglot-notebook"
    }
   },
   "outputs": [],
   "source": [
    "IEnumerable<string> query =\n",
    "from n in names\n",
    "select n.Replace (\"a\", \"\").Replace (\"e\", \"\").Replace (\"i\", \"\")\n",
    "        .Replace (\"o\", \"\").Replace (\"u\", \"\")\n",
    "into noVowel\n",
    "where noVowel.Length > 2 orderby noVowel select noVowel;"
   ]
  },
  {
   "cell_type": "markdown",
   "metadata": {},
   "source": [
    "The only place you can use `into` is after a `select` or `group` clause. into ***restarts*** a query, allowing you to introduce `fresh` `where`, `orderby`, and `select` clauses."
   ]
  },
  {
   "cell_type": "markdown",
   "metadata": {},
   "source": [
    "#### Scoping rules"
   ]
  },
  {
   "cell_type": "code",
   "execution_count": null,
   "metadata": {
    "dotnet_interactive": {
     "language": "csharp"
    },
    "polyglot_notebook": {
     "kernelName": "csharp"
    },
    "vscode": {
     "languageId": "polyglot-notebook"
    }
   },
   "outputs": [],
   "source": [
    "//All range variables are out of scope following an into keyword.\n",
    "var query =\n",
    "from n1 in names\n",
    "select n1.ToUpper()\n",
    "into n2 // Only n2 is visible from here on.\n",
    "    where n1.Contains (\"x\") // Illegal: n1 is not in scope.\n",
    "    select n2;"
   ]
  },
  {
   "cell_type": "markdown",
   "metadata": {},
   "source": [
    "### Wrapping Queries"
   ]
  },
  {
   "cell_type": "markdown",
   "metadata": {},
   "source": [
    "A `query built progressively` can be `formulated` into a `single statement` by `wrapping one query` around another."
   ]
  },
  {
   "cell_type": "markdown",
   "metadata": {},
   "source": [
    "```\n",
    "var tempQuery = tempQueryExpr\n",
    "var finalQuery = from ... in tempQuery ...\n",
    "```\n",
    "can be reformulated as:\n",
    "\n",
    "`var finalQuery = from ... in (tempQueryExpr)`\n"
   ]
  },
  {
   "cell_type": "code",
   "execution_count": null,
   "metadata": {
    "dotnet_interactive": {
     "language": "csharp"
    },
    "polyglot_notebook": {
     "kernelName": "csharp"
    },
    "vscode": {
     "languageId": "polyglot-notebook"
    }
   },
   "outputs": [],
   "source": [
    "IEnumerable<string> query =\n",
    "from n in names\n",
    "select n.Replace (\"a\", \"\").Replace (\"e\", \"\").Replace (\"i\", \"\")\n",
    "        .Replace (\"o\", \"\").Replace (\"u\", \"\");\n",
    "\n",
    "query = from n in query where n.Length > 2 orderby n select n;"
   ]
  },
  {
   "cell_type": "code",
   "execution_count": null,
   "metadata": {
    "dotnet_interactive": {
     "language": "csharp"
    },
    "polyglot_notebook": {
     "kernelName": "csharp"
    },
    "vscode": {
     "languageId": "polyglot-notebook"
    }
   },
   "outputs": [],
   "source": [
    "IEnumerable<string> query =\n",
    "from n1 in\n",
    "(\n",
    "    from n2 in names\n",
    "    select n2.Replace (\"a\", \"\").Replace (\"e\", \"\").Replace (\"i\", \"\")\n",
    "            .Replace (\"o\", \"\").Replace (\"u\", \"\")\n",
    ")\n",
    "where n1.Length > 2 orderby n1 select n1;"
   ]
  }
 ],
 "metadata": {
  "kernelspec": {
   "display_name": ".NET (C#)",
   "language": "C#",
   "name": ".net-csharp"
  },
  "language_info": {
   "name": "python"
  },
  "polyglot_notebook": {
   "kernelInfo": {
    "defaultKernelName": "csharp",
    "items": [
     {
      "aliases": [],
      "name": "csharp"
     }
    ]
   }
  }
 },
 "nbformat": 4,
 "nbformat_minor": 2
}
