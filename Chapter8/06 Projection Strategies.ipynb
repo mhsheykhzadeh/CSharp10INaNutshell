{
 "cells": [
  {
   "cell_type": "markdown",
   "metadata": {},
   "source": [
    "### Object Initializers"
   ]
  },
  {
   "cell_type": "code",
   "execution_count": 1,
   "metadata": {
    "dotnet_interactive": {
     "language": "csharp"
    },
    "polyglot_notebook": {
     "kernelName": "csharp"
    },
    "vscode": {
     "languageId": "polyglot-notebook"
    }
   },
   "outputs": [],
   "source": [
    "class TempProjectionItem\n",
    "{\n",
    "    public string Original; // Original name\n",
    "    public string Vowelless; // Vowel-stripped name\n",
    "}\n",
    "\n",
    "string[] names = { \"Tom\", \"Dick\", \"Harry\", \"Mary\", \"Jay\" };\n",
    "IEnumerable<TempProjectionItem> temp =\n",
    "from n in names\n",
    "select new TempProjectionItem\n",
    "{\n",
    "    Original = n,\n",
    "    Vowelless = n.Replace (\"a\", \"\").Replace (\"e\", \"\").Replace (\"i\", \"\")\n",
    "                .Replace (\"o\", \"\").Replace (\"u\", \"\")\n",
    "};\n",
    "\n",
    "IEnumerable<string> query = from item in temp\n",
    "                            where item.Vowelless.Length > 2\n",
    "                            select item.Original;"
   ]
  },
  {
   "cell_type": "markdown",
   "metadata": {},
   "source": [
    "### Anonymous Types"
   ]
  },
  {
   "cell_type": "code",
   "execution_count": null,
   "metadata": {
    "dotnet_interactive": {
     "language": "csharp"
    },
    "polyglot_notebook": {
     "kernelName": "csharp"
    },
    "vscode": {
     "languageId": "polyglot-notebook"
    }
   },
   "outputs": [],
   "source": [
    "var intermediate = from n in names\n",
    "select new\n",
    "{\n",
    "    Original = n,\n",
    "    Vowelless = n.Replace (\"a\", \"\").Replace (\"e\", \"\").Replace (\"i\", \"\")\n",
    "    .Replace (\"o\", \"\").Replace (\"u\", \"\")\n",
    "};\n",
    "\n",
    "IEnumerable<string> query = from item in intermediate\n",
    "                            where item.Vowelless.Length > 2\n",
    "                            select item.Original;"
   ]
  },
  {
   "cell_type": "code",
   "execution_count": null,
   "metadata": {
    "dotnet_interactive": {
     "language": "csharp"
    },
    "polyglot_notebook": {
     "kernelName": "csharp"
    },
    "vscode": {
     "languageId": "polyglot-notebook"
    }
   },
   "outputs": [],
   "source": [
    "var query = from n in names\n",
    "select new\n",
    "{\n",
    "    Original = n,\n",
    "    Vowelless = n.Replace (\"a\", \"\").Replace (\"e\", \"\").Replace (\"i\", \"\")\n",
    "                    .Replace (\"o\", \"\").Replace (\"u\", \"\")\n",
    "}\n",
    "into temp\n",
    "where temp.Vowelless.Length > 2\n",
    "select temp.Original;"
   ]
  },
  {
   "cell_type": "markdown",
   "metadata": {},
   "source": [
    "### The let Keyword"
   ]
  },
  {
   "cell_type": "markdown",
   "metadata": {},
   "source": [
    "The `let` keyword introduces a `new variable` alongside the range variable."
   ]
  },
  {
   "cell_type": "code",
   "execution_count": 2,
   "metadata": {
    "dotnet_interactive": {
     "language": "csharp"
    },
    "polyglot_notebook": {
     "kernelName": "csharp"
    },
    "vscode": {
     "languageId": "polyglot-notebook"
    }
   },
   "outputs": [],
   "source": [
    "string[] names = { \"Tom\", \"Dick\", \"Harry\", \"Mary\", \"Jay\" };\n",
    "IEnumerable<string> query =\n",
    "from n in names\n",
    "let vowelless = n.Replace (\"a\", \"\").Replace (\"e\", \"\").Replace (\"i\", \"\")\n",
    "                    .Replace (\"o\", \"\").Replace (\"u\", \"\")\n",
    "let x = 2 // we can create several variable\n",
    "where vowelless.Length > x\n",
    "let xx = x + 3\n",
    "orderby vowelless\n",
    "select n; // Thanks to let, n is still in scope."
   ]
  },
  {
   "cell_type": "markdown",
   "metadata": {},
   "source": [
    "The `compiler` resolves a let clause `by projecting` into a `temporary anonymous type` that contains both the `range variable` and the `new expression variable`."
   ]
  }
 ],
 "metadata": {
  "kernelspec": {
   "display_name": ".NET (C#)",
   "language": "C#",
   "name": ".net-csharp"
  },
  "language_info": {
   "name": "python"
  },
  "polyglot_notebook": {
   "kernelInfo": {
    "defaultKernelName": "csharp",
    "items": [
     {
      "aliases": [],
      "name": "csharp"
     }
    ]
   }
  }
 },
 "nbformat": 4,
 "nbformat_minor": 2
}
