{
 "cells": [
  {
   "cell_type": "markdown",
   "metadata": {},
   "source": [
    "### EF Core Entity Classes"
   ]
  },
  {
   "cell_type": "markdown",
   "metadata": {},
   "source": [
    "***EF Core*** lets you use any `class` to represent `data`, as long as it contains a `public property` for `each column` that you want to query."
   ]
  },
  {
   "cell_type": "markdown",
   "metadata": {},
   "source": [
    "### DbContext\n",
    "\n",
    "After defining entity classes, the next step is to `subclass DbContext`.  \n",
    "your `DbContext subclass` will contain one `DbSet<T>` property for `each entity` in your model"
   ]
  },
  {
   "cell_type": "code",
   "execution_count": null,
   "metadata": {
    "dotnet_interactive": {
     "language": "csharp"
    },
    "polyglot_notebook": {
     "kernelName": "csharp"
    },
    "vscode": {
     "languageId": "polyglot-notebook"
    }
   },
   "outputs": [],
   "source": [
    "public class NutshellContext : DbContext\n",
    "{\n",
    "    public DbSet<Customer> Customers { get; set; }\n",
    "}"
   ]
  },
  {
   "cell_type": "markdown",
   "metadata": {},
   "source": [
    "A DbContext object does three things:  \n",
    "- It acts as a factory for generating `DbSet<>` objects that you can query.  \n",
    "\n",
    "- It keeps track of any changes that you make to your entities so that you can write them back  \n",
    "\n",
    "- It provides virtual methods that you can override to configure the connection and model."
   ]
  },
  {
   "cell_type": "markdown",
   "metadata": {},
   "source": [
    "### Configuring the connection"
   ]
  },
  {
   "cell_type": "code",
   "execution_count": null,
   "metadata": {
    "dotnet_interactive": {
     "language": "csharp"
    },
    "polyglot_notebook": {
     "kernelName": "csharp"
    },
    "vscode": {
     "languageId": "polyglot-notebook"
    }
   },
   "outputs": [],
   "source": [
    "public class NutshellContext : DbContext\n",
    "{\n",
    "    protected override void OnConfiguring (DbContextOptionsBuilder\n",
    "                                            optionsBuilder) =>\n",
    "        optionsBuilder.UseSqlServer\n",
    "            (@\"Server=(local);Database=Nutshell;Trusted_Connection=True\");\n",
    "}"
   ]
  },
  {
   "cell_type": "markdown",
   "metadata": {},
   "source": [
    "`UseSqlServer` is an extension method defined in `Microsoft.EntityFramework.SqlServer`  \n",
    "\n",
    "we can use EFCore with other database providers, including `Oracle`, `MySQL`, `PostgreSQL`, and `SQLite`."
   ]
  },
  {
   "cell_type": "markdown",
   "metadata": {},
   "source": [
    "If you’re using `ASP.NET`, you can allow its `dependency injection` framework to preconfigure `optionsBuilder`"
   ]
  },
  {
   "cell_type": "code",
   "execution_count": null,
   "metadata": {
    "dotnet_interactive": {
     "language": "csharp"
    },
    "polyglot_notebook": {
     "kernelName": "csharp"
    },
    "vscode": {
     "languageId": "polyglot-notebook"
    }
   },
   "outputs": [],
   "source": [
    "public NutshellContext (DbContextOptions<NutshellContext> options)\n",
    "    : base(options) { }"
   ]
  },
  {
   "cell_type": "markdown",
   "metadata": {},
   "source": [
    "### Configuring the Model"
   ]
  },
  {
   "cell_type": "markdown",
   "metadata": {},
   "source": [
    "By default, ***EF Core*** is `convention based`, meaning that it `infers` the `database schema` from `your class and property names`."
   ]
  },
  {
   "cell_type": "code",
   "execution_count": null,
   "metadata": {
    "dotnet_interactive": {
     "language": "csharp"
    },
    "polyglot_notebook": {
     "kernelName": "csharp"
    },
    "vscode": {
     "languageId": "polyglot-notebook"
    }
   },
   "outputs": [],
   "source": [
    "public class NutshellContext : DbContext\n",
    "{\n",
    "    protected override void OnConfiguring (DbContextOptionsBuilder\n",
    "                                            optionsBuilder) =>\n",
    "        optionsBuilder.UseSqlServer\n",
    "            (@\"Server=(local);Database=Nutshell;Trusted_Connection=True\");\n",
    "\n",
    "    public DbSet<Customer> Customers { get; set; }\n",
    "    \n",
    "    protected override void OnModelCreating (ModelBuilder modelBuilder) \n",
    "    {\n",
    "        modelBuilder.Entity<Customer>()\n",
    "            .ToTable (\"Customer\"); \n",
    "        /*Without this code, EF Core would map this entity to a table named \n",
    "        “Customers” rather than “Customer”, \n",
    "        because we have a DbSet<Customer> property in \n",
    "        our DbContext called Customers*/\n",
    "    }\n",
    "}"
   ]
  },
  {
   "cell_type": "code",
   "execution_count": null,
   "metadata": {
    "dotnet_interactive": {
     "language": "csharp"
    },
    "polyglot_notebook": {
     "kernelName": "csharp"
    },
    "vscode": {
     "languageId": "polyglot-notebook"
    }
   },
   "outputs": [],
   "source": [
    "//Fluent API\n",
    "\n",
    "protected override void OnModelCreating (ModelBuilder modelBuilder) \n",
    "{\n",
    "    modelBuilder.Entity<Customer> (entity =>\n",
    "    {\n",
    "        entity.ToTable (\"Customer\");\n",
    "        entity.Property (e => e.Name)\n",
    "            .HasColumnName (\"Full Name\") // Column name is 'Full Name'\n",
    "            .IsRequired(); // Column is not nullable\n",
    "    });\n",
    "}"
   ]
  },
  {
   "cell_type": "markdown",
   "metadata": {},
   "source": [
    "| Method    | Purpose | Example |\n",
    "| -------- | ------- | ------- |\n",
    "| `ToTable`  | Specify the database table<br>name for a given entity    |builder<br>.  Entity<Customer>()<br>.ToTable(\"Customer\");\n",
    "| `HasColumnName` | Specify the column name for a<br>given property     |builder<br>.Entity<Customer>()<br>.Property(c => c.Name)<br>.HasColumnName(\"Full Name\");\n",
    "|`HasKey` |Specify a key (usually that deviates<br>from convention) |builder<br>.Entity<Customer>()<br>.HasKey(c => c.CustomerNr);\n",
    "|`IsRequired` |Specify that the property requires<br>a value (is not nullable) |builder<br>.Entity<Customer>()<br>.Property(c => c.Name)<br>.IsRequired();\n",
    "|`HasMaxLength` |Specify the maximum length of<br>a variable-length type (usually a<br>string) whose width can vary |builder.Entity<Customer>()<br>.Property(c => c.Name)<br>.HasMaxLength(60);\n",
    "|`HasColumnType` |Specify the database data type for<br>a column |builder.Entity<Purchase>()<br>.Property(p => p.Description)<br>.HasColumnType(\"varchar(80)\");\n",
    "|`Ignore` |Ignore a type |builder.Ignore<Products>();\n",
    "|`Ignore` |Ignore a property of a type |builder.Entity<Customer>()<br>.Ignore(c => c.ChatName);\n",
    "|`HasIndex` |Specify a property (or combination<br>of properties) should serve in the<br>database as an index |// Compound index:<br>builder.Entity<Purchase>()<br>.HasIndex(p =><br>new { p.Date, p.Price });<br>// Unique index on one property <br>builder<br>.Entity<MedicalArticle>()<br>.HasIndex(a => a.Topic)<br>.IsUnique();\n",
    "|`HasOne` |See “Navigation Properties” on<br>page 438 |builder.Entity<Purchase>()<br>.HasOne(p => p.Customer)<br>.WithMany(c => c.Purchases);\n",
    "|`HasMany` |See “Navigation Properties” on<br>page 438 |builder.Entity<Customer>()<br>.HasMany(c => c.Purchases)<br>.WithOne(p => p.Customer);"
   ]
  },
  {
   "cell_type": "markdown",
   "metadata": {},
   "source": [
    "### Creating the database"
   ]
  },
  {
   "cell_type": "markdown",
   "metadata": {},
   "source": [
    "***EF Core*** supports a `code-first` approach, which means that you can start by `defining entity classes` and then ask ***EF Core*** to `create the database`."
   ]
  },
  {
   "cell_type": "markdown",
   "metadata": {},
   "source": [
    "EFCore can create database in two ways:\n",
    "- call the following method on a DbContext instance\n",
    "`dbContext.Database.EnsureCreated();`  \n",
    "\n",
    "- use ***EFCore***'s `migrations`"
   ]
  },
  {
   "cell_type": "markdown",
   "metadata": {},
   "source": [
    "`Install-Package Microsoft.EntityFrameworkCore.Tools`  \n",
    "\n",
    "`Add-Migration InitialCreate`  \n",
    "\n",
    "`Update-Database`"
   ]
  },
  {
   "cell_type": "code",
   "execution_count": null,
   "metadata": {
    "dotnet_interactive": {
     "language": "csharp"
    },
    "polyglot_notebook": {
     "kernelName": "csharp"
    },
    "vscode": {
     "languageId": "polyglot-notebook"
    }
   },
   "outputs": [],
   "source": [
    "using (var dbContext = new NutshellContext())\n",
    "{\n",
    "    Console.WriteLine (dbContext.Customers.Count());\n",
    "    // Executes \"SELECT COUNT(*) FROM [Customer] AS [c]\"\n",
    "\n",
    "    Customer cust = new Customer()\n",
    "    {\n",
    "        Name = \"Sara Wells\"\n",
    "    };\n",
    "    dbContext.Customers.Add (cust);\n",
    "    dbContext.SaveChanges(); // Writes changes back to database\n",
    "\n",
    "\n",
    "    Customer customer = dbContext.Customers\n",
    "    .Single (c => c.Name == \"Sara Wells\");\n",
    "    cust.Name = \"Dr. Sara Wells\";\n",
    "    dbContext.SaveChanges();\n",
    "}"
   ]
  },
  {
   "cell_type": "markdown",
   "metadata": {},
   "source": [
    "### Object Tracking"
   ]
  },
  {
   "cell_type": "markdown",
   "metadata": {},
   "source": [
    "A ***DbContext*** instance keeps `track` of all the entities it `instantiates`  \n",
    "  \n",
    "it can `feed the same ones back` to you whenever you request the `same rows` in a table. (هر زمان که ردیف‌های مشابهی را در جدول درخواست می‌کنید، همان‌ها به شما باز می‌گردند.)\n",
    "\n",
    " در طول عمر خود هرگز دو موجودیت مجزا که به یک ردیف در یک جدول اشاره می کنند (که در آن یک ردیف با کلید اصلی مشخص می شود) منتشر نمی کند."
   ]
  },
  {
   "cell_type": "markdown",
   "metadata": {},
   "source": [
    "This capability is called `object tracking`"
   ]
  },
  {
   "cell_type": "markdown",
   "metadata": {},
   "source": [
    "### Disposing DbContext"
   ]
  },
  {
   "cell_type": "markdown",
   "metadata": {},
   "source": [
    "<div dir=\"rtl\" style=\"width:90%; margin:auto\">\n",
    "کلاس DbContext از اینترفیس IDisposable پیروی می‌کند که به معنای این است که شامل متد Dispose() برای آزادسازی منابع است.\n",
    "<br>\n",
    "\n",
    "اگرچه DbContext قابلیت Disposing دارد، اما در بیشتر موارد نیازی به صراحتاً فراخوانی Dispose() نیست زیرا EF Core به صورت خودکار اتصالات به دیتابیس را بسته و منابع را آزاد می‌کند، مخصوصاً پس از پایان یافتن دریافت نتایج از یک پرس و جو.\n",
    "<br>\n",
    "\n",
    "اما، در مواردی که منابع به طور کامل توسط دیگر کامپوننت‌ها آزاد نمی‌شوند یا شما خودتان به صورت دستی عملیاتی را کنترل می‌کنید که ممکن است اتصال باز بماند، استفاده از Dispose() می‌تواند به آزادسازی منابع کمک کند و از نشت منابع جلوگیری کند.\n",
    "<div>"
   ]
  },
  {
   "cell_type": "markdown",
   "metadata": {},
   "source": [
    "### فرآیند کوئری و بازیابی اطلاعات"
   ]
  },
  {
   "cell_type": "markdown",
   "metadata": {},
   "source": [
    "<div dir=\"rtl\" style=\"width:80%; margin:auto;\">\n",
    "<ol>\n",
    "<li>\n",
    "<p>\n",
    "<strong>شروع کوئری</strong>:\n",
    " EF Core ابتدا با ارسال درخواستی به دیتابیس شروع به کار می‌کند تا یک ردیف داده را بازیابی کند.\n",
    " </p>\n",
    " </li>\n",
    " <li>\n",
    " <p>\n",
    " <strong>خواندن کلید اصلی</strong>:\n",
    "  پس از دریافت ردیف داده، EF Core کلید اصلی (Primary Key) آن ردیف را می‌خواند. کلید اصلی یک شناسه منحصر به فرد برای هر رکورد در جدول داده است و به EF Core کمک می‌کند تا هر شیء (Entity) را به طور یکتا شناسایی کند.\n",
    "  </p>\n",
    "  </li>\n",
    "  <li>\n",
    "  <p>\n",
    "  <strong>جستجو در کش</strong>:\n",
    "   EF Core سپس با استفاده از کلید اصلی خوانده شده، در کش انتیتی‌های موجود در <code>DbContext</code> جستجو می‌کند. کش انتیتی محلی است که EF Core نمونه‌هایی از داده‌ها را که پیش‌تر بازیابی شده‌اند، نگهداری می‌کند.\n",
    "   </p>\n",
    "   </li>\n",
    "   <li>\n",
    "   <p>\n",
    "   <strong>بررسی و بازگشت داده</strong>:\n",
    "    اگر انتیتی با کلید اصلی مشابه در کش پیدا شود، EF Core بدون به‌روزرسانی هیچ مقداری، شیء موجود را بازمی‌گرداند. حتی اگر قبل از واکشی اطلاعات ،اطلاعات این سطر تغییر کرده باشد، تغییرات را در نظر می گیرد و داده های دیتابیس را نادیده می گیرد، به همین دلیل اگر اطلاعات دیتابیس از جای دیگری تغییر کرده باشند، EF Core متوجه این تغییرات نمی شود.\n",
    "    </p>\n",
    "    </li>\n",
    "    </ol>\n",
    "\n",
    "</div>"
   ]
  },
  {
   "cell_type": "markdown",
   "metadata": {},
   "source": [
    "To get `fresh` information from the database, you must either `instantiate a new\n",
    "context` or call the `Reload` method, as follows:  \n",
    "\n",
    "`dbContext.Entry (myCustomer).Reload();`"
   ]
  },
  {
   "cell_type": "markdown",
   "metadata": {},
   "source": [
    "### Change Tracking"
   ]
  },
  {
   "cell_type": "markdown",
   "metadata": {},
   "source": [
    "***EFCore*** creates a `snapshot` of the state of `entities` loaded through your DbContext subclass and `compares` the `current` state to the `original` one when `SaveChanges` is called."
   ]
  },
  {
   "cell_type": "code",
   "execution_count": null,
   "metadata": {
    "dotnet_interactive": {
     "language": "csharp"
    },
    "polyglot_notebook": {
     "kernelName": "csharp"
    },
    "vscode": {
     "languageId": "polyglot-notebook"
    }
   },
   "outputs": [],
   "source": [
    "foreach (var e in dbContext.ChangeTracker.Entries())\n",
    "{\n",
    "    Console.WriteLine ($\"{e.Entity.GetType().FullName} is {e.State}\");\n",
    "\n",
    "    foreach (var m in e.Members)\n",
    "        Console.WriteLine (\n",
    "            $\" {m.Metadata.Name}: '{m.CurrentValue}' modified: {m.IsModified}\");\n",
    "}"
   ]
  },
  {
   "cell_type": "markdown",
   "metadata": {},
   "source": [
    "<div dir=\"rtl\" style=\"width:80%; margin:auto;\">\n",
    "<strong>مدیریت تراکنش‌ها</strong>: اگر در کد شما <code>TransactionScope</code> مشخص شده باشد، EF Core این تراکنش را به رسمیت می‌شناسد و تمام دستورات SQL را در آن تراکنش اجرا می‌کند. اگر <code>TransactionScope</code> وجود نداشته باشد، EF Core به صورت خودکار یک تراکنش جدید ایجاد می‌کند و تمام دستورات SQL را در این تراکنش جدید بسته‌بندی می‌کند. این کار به حفظ یکپارچگی داده کمک می‌کند، زیرا یا تمام دستورات با موفقیت اجرا می‌شوند و تغییرات ذخیره می‌شوند، یا در صورت وجود خطا در هر یک از دستورات، تمام تغییرات به طور خودکار بازگردانده می‌شوند (Rollback).\n",
    "<div>"
   ]
  },
  {
   "cell_type": "markdown",
   "metadata": {},
   "source": [
    "### Navigation Properties"
   ]
  },
  {
   "cell_type": "code",
   "execution_count": 1,
   "metadata": {
    "dotnet_interactive": {
     "language": "csharp"
    },
    "polyglot_notebook": {
     "kernelName": "csharp"
    },
    "vscode": {
     "languageId": "polyglot-notebook"
    }
   },
   "outputs": [],
   "source": [
    "public class Customer\n",
    "{\n",
    "    public int ID { get; set; }\n",
    "    public string Name { get; set; }\n",
    "    // Child navigation property, which must be of type ICollection<T>:\n",
    "    public virtual List<Purchase> Purchases {get;set;} = new List<Purchase>();\n",
    "}\n",
    "public class Purchase\n",
    "{\n",
    "    public int ID { get; set; }\n",
    "    public DateTime Date { get; set; }\n",
    "    public string Description { get; set; }\n",
    "    public decimal Price { get; set; }\n",
    "    public int? CustomerID { get; set; } // Foreign key field\n",
    "    public Customer Customer { get; set; } // Parent navigation property\n",
    "}"
   ]
  },
  {
   "cell_type": "markdown",
   "metadata": {},
   "source": [
    "***EF Core*** is able to `infer` from these entities that `CustomerID` is a `foreign key` to the Customer table, because the name `CustomerID` follows a popular `naming convention`.\n",
    "If we were to ask ***EF Core*** to create a database from these entities, it would\n",
    "create a `foreign key constraint` between `Purchase.CustomerID` and `Customer.ID`."
   ]
  },
  {
   "cell_type": "code",
   "execution_count": null,
   "metadata": {
    "dotnet_interactive": {
     "language": "csharp"
    },
    "polyglot_notebook": {
     "kernelName": "csharp"
    },
    "vscode": {
     "languageId": "polyglot-notebook"
    }
   },
   "outputs": [],
   "source": [
    "Customer cust = dbContext.Customers.Single (c => c.ID == 1);\n",
    "\n",
    "Purchase p1 = new Purchase { Description=\"Bike\", Price=500 };\n",
    "Purchase p2 = new Purchase { Description=\"Tools\", Price=100 };\n",
    "\n",
    "cust.Purchases.Add (p1);\n",
    "cust.Purchases.Add (p2); \n",
    "\n",
    "dbContext.SaveChanges();\n",
    "\n",
    "/*\n",
    "EF Core automatically writes 1 into the CustomerID column of each\n",
    "of the new purchases and writes the database-generated ID for each purchase to\n",
    "Purchase.ID.\n",
    "*/"
   ]
  },
  {
   "cell_type": "markdown",
   "metadata": {},
   "source": [
    "### Loading navigation properties"
   ]
  },
  {
   "cell_type": "code",
   "execution_count": null,
   "metadata": {
    "dotnet_interactive": {
     "language": "csharp"
    },
    "polyglot_notebook": {
     "kernelName": "csharp"
    },
    "vscode": {
     "languageId": "polyglot-notebook"
    }
   },
   "outputs": [],
   "source": [
    "using (var dbContext = new NutshellContext())\n",
    "{\n",
    "    var cust = dbContext.Customers.First();\n",
    "    Console.WriteLine (cust.Purchases.Count); // Always 0\n",
    "}"
   ]
  },
  {
   "cell_type": "code",
   "execution_count": null,
   "metadata": {
    "dotnet_interactive": {
     "language": "csharp"
    },
    "polyglot_notebook": {
     "kernelName": "csharp"
    },
    "vscode": {
     "languageId": "polyglot-notebook"
    }
   },
   "outputs": [],
   "source": [
    "/*One solution is to use the Include extension method, which instructs EF Core to\n",
    "eagerly load navigation properties*/\n",
    "\n",
    "/****eagerly load***/\n",
    "using (var dbContext = new NutshellContext())\n",
    "{\n",
    "    var cust = dbContext.Customers\n",
    "        .Include (c => c.Purchases)\n",
    "        .Where (c => c.ID == 2).First();\n",
    "\n",
    "    Console.WriteLine (cust.Purchases.Count); // Always 0\n",
    "}"
   ]
  },
  {
   "cell_type": "code",
   "execution_count": null,
   "metadata": {
    "dotnet_interactive": {
     "language": "csharp"
    },
    "polyglot_notebook": {
     "kernelName": "csharp"
    },
    "vscode": {
     "languageId": "polyglot-notebook"
    }
   },
   "outputs": [],
   "source": [
    "/*Another solution is to use a projection. This technique is particularly useful when\n",
    "you need to work with only some of the entity properties, because it reduces data\n",
    "transfer*/\n",
    "using (var dbContext = new NutshellContext())\n",
    "{\n",
    "    var custInfo = dbContext.Customers\n",
    "        .Where (c => c.ID == 2)\n",
    "        .Select (c => new\n",
    "        {\n",
    "            Name = c.Name,\n",
    "            Purchases = c.Purchases.Select (p => new { p.Description, p.Price })\n",
    "        })\n",
    "        .First();\n",
    "    Console.WriteLine (custInfo.Purchases.Count); // Always 0\n",
    "}"
   ]
  },
  {
   "cell_type": "code",
   "execution_count": null,
   "metadata": {
    "dotnet_interactive": {
     "language": "csharp"
    },
    "polyglot_notebook": {
     "kernelName": "csharp"
    },
    "vscode": {
     "languageId": "polyglot-notebook"
    }
   },
   "outputs": [],
   "source": [
    "/*Explicit Loading*/\n",
    "using (var dbContext = new NutshellContext())\n",
    "{\n",
    "    var cust = dbContext.Customers\n",
    "        .Where (c => c.ID == 2).First();\n",
    "\n",
    "    dbContext.Entry(cust).Collection(a => a.Purchases).Load();\n",
    "}"
   ]
  },
  {
   "cell_type": "markdown",
   "metadata": {},
   "source": [
    "#### Lazy loading"
   ]
  },
  {
   "cell_type": "markdown",
   "metadata": {},
   "source": [
    "<div dir=\"rtl\" style=\"width:80%; margin:auto;\">\n",
    "داده‌های مرتبط را تنها در زمانی که به صورت فعال به آن‌ها دسترسی پیدا می‌شود، بارگذاری می‌کند. این روش به صورت خودکار و تنبل انجام می‌شود، به این معنی که داده‌های مرتبط بارگذاری نمی‌شوند مگر اینکه صریحاً به آن‌ها در کد برنامه دسترسی پیدا شود.\n",
    "<br>\n",
    "<h4>نحوه عملکرد Lazy Loading</h4>\n",
    "<p>برای فعال کردن lazy loading در EF Core، شما نیاز به انجام دو کار دارید:</p>\n",
    "\n",
    "<ol><li>نصب بسته NuGet <code>Microsoft.EntityFrameworkCore.Proxies</code>.</li><li>فعال‌سازی پروکسی‌ها در تنظیمات <code>DbContext</code> خود با استفاده از متد <code>UseLazyLoadingProxies()</code>.</li></ol>\n",
    "<p>مدل‌های انتیتی باید دارای خصوصیات ناوبری که می‌خواهید به صورت تنبل بارگذاری شوند، به عنوان <code>virtual</code> تعریف شوند. این امر EF Core را قادر می‌سازد که پروکسی‌هایی را برای این خصوصیات ایجاد کند که می‌توانند به صورت خودکار داده‌های مرتبط را بارگذاری کنند.</p>\n",
    "</div>"
   ]
  },
  {
   "cell_type": "code",
   "execution_count": null,
   "metadata": {
    "dotnet_interactive": {
     "language": "csharp"
    },
    "polyglot_notebook": {
     "kernelName": "csharp"
    },
    "vscode": {
     "languageId": "polyglot-notebook"
    }
   },
   "outputs": [],
   "source": [
    "public class Blog\n",
    "{\n",
    "    public int BlogId { get; set; }\n",
    "    public string Url { get; set; }\n",
    "    public virtual ICollection<Post> Posts { get; set; }\n",
    "}\n",
    "\n",
    "public class Post\n",
    "{\n",
    "    public int PostId { get; set; }\n",
    "    public string Title { get; set; }\n",
    "    public string Content { get; set; }\n",
    "    public int BlogId { get; set; }\n",
    "    public virtual Blog Blog { get; set; }\n",
    "}\n",
    "\n",
    "protected override void OnConfiguring(DbContextOptionsBuilder optionsBuilder)\n",
    "{\n",
    "    optionsBuilder.UseLazyLoadingProxies();\n",
    "}\n",
    "\n"
   ]
  },
  {
   "cell_type": "markdown",
   "metadata": {},
   "source": [
    "### Deferred Execution"
   ]
  },
  {
   "cell_type": "markdown",
   "metadata": {},
   "source": [
    "<div dir=\"rtl\" style=\"width:80%; margin:auto;\">\n",
    "این ویژگی اجازه می‌دهد که پرس و جوها (queries) به تدریج ساخته شوند و تا زمانی که نیاز به داده‌ها نباشد، اجرا نشوند. \n",
    "<br>\n",
    "<h4>زیرپرس و جوها در EF Core</h4>\n",
    "<p>زیرپرس و جوها در EF Core یک جنبه خاص دارند: زمانی که یک زیرپرس و جو در داخل عبارت <code>Select</code> ظاهر می‌شود، این زیرپرس و جو همزمان با پرس و جوی اصلی (main outer query) اجرا می‌شود. این به این دلیل است که EF Core می‌خواهد از رفت و آمدهای بیش از حد (excessive round-tripping) به پایگاه داده جلوگیری کند.</p>\n",
    "\n",
    "<h4>تفاوت با پرس و جوهای محلی</h4>\n",
    "<p>در پرس و جوهای محلی (مانند کار با لیست‌ها یا آرایه‌ها در C#)، زمانی که یک زیرپرس و جو در عبارت <code>Select</code> وجود داشته باشد، شما با اجرای به تعویق افتاده دوباره مواجه می‌شوید. این به این معناست که اگر شما دنباله نتایج خارجی (outer result sequence) را مرور کنید اما هرگز دنباله‌های داخلی (inner sequences) را مرور نکنید، زیرپرس و جو هرگز اجرا نمی‌شود.</p>\n",
    "</div>"
   ]
  },
  {
   "cell_type": "code",
   "execution_count": null,
   "metadata": {
    "dotnet_interactive": {
     "language": "csharp"
    },
    "polyglot_notebook": {
     "kernelName": "csharp"
    },
    "vscode": {
     "languageId": "polyglot-notebook"
    }
   },
   "outputs": [],
   "source": [
    "using (var dbContext = new NutshellContext ())\n",
    "{\n",
    "    var query = from c in dbContext.Customers\n",
    "                select\n",
    "                    from p in c.Purchases\n",
    "                    select new { c.Name, p.Price };\n",
    "\n",
    "    foreach (var customerPurchaseResults in query)\n",
    "        foreach (var namePrice in customerPurchaseResults)\n",
    "            Console.WriteLine ($\"{ namePrice.Name} spent { namePrice.Price}\");\n",
    "    /*\n",
    "    پرس و جو بالا با رسیدن به اولین دستور \n",
    "    foreach\n",
    "     در یک رفت و برگشت اجرا می شود\n",
    "    */\n",
    "}"
   ]
  },
  {
   "cell_type": "code",
   "execution_count": null,
   "metadata": {
    "dotnet_interactive": {
     "language": "csharp"
    },
    "polyglot_notebook": {
     "kernelName": "csharp"
    },
    "vscode": {
     "languageId": "polyglot-notebook"
    }
   },
   "outputs": [],
   "source": [
    "using (var dbContext = new NutshellContext ())\n",
    "{\n",
    "    foreach (Customer c in dbContext.Customers.ToArray())\n",
    "        if (myWebService.HasBadCreditHistory (c.ID))\n",
    "            foreach (Purchase p in c.Purchases) // Another SQL round trip\n",
    "                Console.WriteLine (c.Name + \" spent \" + p.Price);\n",
    "}"
   ]
  }
 ],
 "metadata": {
  "language_info": {
   "name": "python"
  }
 },
 "nbformat": 4,
 "nbformat_minor": 2
}
