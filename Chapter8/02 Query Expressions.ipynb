{
 "cells": [
  {
   "cell_type": "markdown",
   "metadata": {},
   "source": [
    "C# provides a syntactic shortcut for writing LINQ queries, called query expressions.\n",
    "\n",
    "<div dir=\"rtl\" style=\"font-family: vazirmatn; width: 90%; margin:0 auto;\">\n",
    " برخلاف باور عموم، Query Expressions راهی برای وارد کردن مستقیم دستورات SQL در سی‌شارپ نیست. بلکه طراحی آن بیشتر از «درک لیست ها» (List Comprehensions) در زبان‌های برنامه‌نویسی تابعی مانند LISP و Haskell الهام گرفته شده است. به عبارت دیگر، Query Expressions بیش از اینکه به SQL مرتبط باشد، از مفاهیم برنامه‌نویسی تابعی بهره برده است.\n",
    "\n",
    "گرچه ظاهر Query Expressions تا حدی شبیه به دستورات SQL است، اما عملکرد آن در سی‌شارپ مستقل از SQL بوده و برای کار با انواع داده‌ها درون حافظه کاربرد دارد.\n",
    "</div>"
   ]
  },
  {
   "cell_type": "code",
   "execution_count": null,
   "metadata": {
    "dotnet_interactive": {
     "language": "csharp"
    },
    "polyglot_notebook": {
     "kernelName": "csharp"
    },
    "vscode": {
     "languageId": "polyglot-notebook"
    }
   },
   "outputs": [],
   "source": [
    "string[] names = { \"Tom\", \"Dick\", \"Harry\", \"Mary\", \"Jay\" };\n",
    "IEnumerable<string> query =\n",
    "    from n in names\n",
    "    where n.Contains (\"a\") // Filter elements\n",
    "    orderby n.Length // Sort elements\n",
    "    select n.ToUpper(); // Translate each element (project)"
   ]
  },
  {
   "cell_type": "markdown",
   "metadata": {},
   "source": [
    "***Query expressions*** always `start` with a `from` clause and `end` with either a `select` or `group` clause."
   ]
  },
  {
   "cell_type": "markdown",
   "metadata": {},
   "source": [
    "The ***compiler*** processes a `query expression` by translating it into `fluent syntax`."
   ]
  },
  {
   "cell_type": "markdown",
   "metadata": {},
   "source": [
    "This means that anything you can write in `query syntax` you can also write in `fluent syntax`."
   ]
  },
  {
   "cell_type": "markdown",
   "metadata": {},
   "source": [
    "### Range Variables"
   ]
  },
  {
   "cell_type": "markdown",
   "metadata": {},
   "source": [
    "The ***identifier*** immediately following the `from` keyword syntax is called the `range variable`."
   ]
  },
  {
   "cell_type": "code",
   "execution_count": null,
   "metadata": {
    "dotnet_interactive": {
     "language": "csharp"
    },
    "polyglot_notebook": {
     "kernelName": "csharp"
    },
    "vscode": {
     "languageId": "polyglot-notebook"
    }
   },
   "outputs": [],
   "source": [
    "from n in names // n is our range variable\n",
    "where n.Contains (\"a\") // n = directly from the array\n",
    "orderby n.Length // n = subsequent to being filtered\n",
    "select n.ToUpper() // n = subsequent to being sorted\n",
    "\n",
    "names.Where (n => n.Contains (\"a\")) // Locally scoped n\n",
    ".OrderBy (n => n.Length) // Locally scoped n\n",
    ".Select (p => p.ToUpper()) // Locally scoped n"
   ]
  },
  {
   "cell_type": "markdown",
   "metadata": {},
   "source": [
    "Query expressions also let you introduce new range variables via the following\n",
    "clauses:  \n",
    "- `let`\n",
    "- `into`\n",
    "- `An additional from clause`\n",
    "- `join`"
   ]
  },
  {
   "cell_type": "markdown",
   "metadata": {},
   "source": [
    "### Query Syntax Versus Fluent Syntax"
   ]
  },
  {
   "cell_type": "markdown",
   "metadata": {},
   "source": [
    "***Query syntax*** is simpler for queries that involve any of the following:  \n",
    "- A `let clause` for introducing a `new variable` alongside the range variable\n",
    "- `SelectMany`, `Join`, or `GroupJoin`, followed by an outer range variable reference"
   ]
  },
  {
   "cell_type": "markdown",
   "metadata": {},
   "source": [
    "there are many `operators` that have `no` keyword in `query syntax`. These require that you use `fluent syntax`"
   ]
  },
  {
   "cell_type": "markdown",
   "metadata": {},
   "source": [
    "### Mixed-Syntax Queries"
   ]
  },
  {
   "cell_type": "markdown",
   "metadata": {},
   "source": [
    "If a query operator has no `query-syntax support`, you can mix query syntax and\n",
    "fluent syntax.The only restriction is that each query-syntax component must be `complete`."
   ]
  },
  {
   "cell_type": "code",
   "execution_count": null,
   "metadata": {
    "dotnet_interactive": {
     "language": "csharp"
    },
    "polyglot_notebook": {
     "kernelName": "csharp"
    },
    "vscode": {
     "languageId": "polyglot-notebook"
    }
   },
   "outputs": [],
   "source": [
    "string[] names = { \"Tom\", \"Dick\", \"Harry\", \"Mary\", \"Jay\" };\n",
    "\n",
    "int matches = (from n in names where n.Contains (\"a\") select n).Count();\n",
    "\n",
    "string first = (from n in names orderby n select n).First();\n",
    "\n"
   ]
  }
 ],
 "metadata": {
  "kernelspec": {
   "display_name": ".NET (C#)",
   "language": "C#",
   "name": ".net-csharp"
  },
  "language_info": {
   "name": "python"
  },
  "polyglot_notebook": {
   "kernelInfo": {
    "defaultKernelName": "csharp",
    "items": [
     {
      "aliases": [],
      "name": "csharp"
     }
    ]
   }
  }
 },
 "nbformat": 4,
 "nbformat_minor": 2
}
