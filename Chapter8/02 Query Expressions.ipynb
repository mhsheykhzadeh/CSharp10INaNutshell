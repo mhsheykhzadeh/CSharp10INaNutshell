{
 "cells": [
  {
   "cell_type": "markdown",
   "metadata": {},
   "source": [
    "C# provides a syntactic shortcut for writing LINQ queries, called query expressions.\n",
    "Contrary to popular belief, a query expression is not a means of embedding SQL\n",
    "into C#. In fact, the design of query expressions was inspired primarily by list\n",
    "comprehensions from functional programming languages such as LISP and Haskell,\n",
    "although SQL had a cosmetic influence."
   ]
  },
  {
   "cell_type": "code",
   "execution_count": null,
   "metadata": {
    "dotnet_interactive": {
     "language": "csharp"
    },
    "polyglot_notebook": {
     "kernelName": "csharp"
    },
    "vscode": {
     "languageId": "polyglot-notebook"
    }
   },
   "outputs": [],
   "source": [
    "string[] names = { \"Tom\", \"Dick\", \"Harry\", \"Mary\", \"Jay\" };\n",
    "IEnumerable<string> query =\n",
    "    from n in names\n",
    "    where n.Contains (\"a\") // Filter elements\n",
    "    orderby n.Length // Sort elements\n",
    "    select n.ToUpper(); // Translate each element (project)"
   ]
  },
  {
   "cell_type": "markdown",
   "metadata": {},
   "source": [
    "***Query expressions*** always `start` with a `from` clause and `end` with either a `select` or `group` clause."
   ]
  },
  {
   "cell_type": "markdown",
   "metadata": {},
   "source": [
    "The ***compiler*** processes a `query expression` by translating it into `fluent syntax`."
   ]
  },
  {
   "cell_type": "markdown",
   "metadata": {},
   "source": [
    "This means that anything you can write in `query syntax` you can also write in `fluent syntax`."
   ]
  },
  {
   "cell_type": "markdown",
   "metadata": {},
   "source": [
    "### Range Variables"
   ]
  },
  {
   "cell_type": "markdown",
   "metadata": {},
   "source": [
    "The ***identifier*** immediately following the `from` keyword syntax is called the `range variable`."
   ]
  },
  {
   "cell_type": "code",
   "execution_count": null,
   "metadata": {
    "dotnet_interactive": {
     "language": "csharp"
    },
    "polyglot_notebook": {
     "kernelName": "csharp"
    },
    "vscode": {
     "languageId": "polyglot-notebook"
    }
   },
   "outputs": [],
   "source": [
    "from n in names // n is our range variable\n",
    "where n.Contains (\"a\") // n = directly from the array\n",
    "orderby n.Length // n = subsequent to being filtered\n",
    "select n.ToUpper() // n = subsequent to being sorted\n",
    "\n",
    "names.Where (n => n.Contains (\"a\")) // Locally scoped n\n",
    ".OrderBy (n => n.Length) // Locally scoped n\n",
    ".Select (n => n.ToUpper()) // Locally scoped n"
   ]
  },
  {
   "cell_type": "markdown",
   "metadata": {},
   "source": [
    "Query expressions also let you introduce new range variables via the following\n",
    "clauses:  \n",
    "- `let`\n",
    "- `into`\n",
    "- `An additional from clause`\n",
    "- `join`"
   ]
  },
  {
   "cell_type": "markdown",
   "metadata": {},
   "source": [
    "### Query Syntax Versus Fluent Syntax"
   ]
  },
  {
   "cell_type": "markdown",
   "metadata": {},
   "source": [
    "***Query syntax*** is simpler for queries that involve any of the following:  \n",
    "- A `let clause` for introducing a `new variable` alongside the range variable\n",
    "- `SelectMany`, `Join`, or `GroupJoin`, followed by an outer range variable reference"
   ]
  },
  {
   "cell_type": "markdown",
   "metadata": {},
   "source": [
    "there are many `operators` that have `no` keyword in `query syntax`. These require that you use `fluent syntax`"
   ]
  }
 ],
 "metadata": {
  "language_info": {
   "name": "python"
  }
 },
 "nbformat": 4,
 "nbformat_minor": 2
}
