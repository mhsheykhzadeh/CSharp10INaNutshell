{
 "cells": [
  {
   "cell_type": "markdown",
   "metadata": {},
   "source": [
    "LINQ or Language Integrated Query, is a set of language and runtime features for writing `structured` `type-safe` queries over `local object` collections and `remote data sources`."
   ]
  },
  {
   "cell_type": "markdown",
   "metadata": {},
   "source": [
    "LINQ enables you to query any collection `implementing IEnumerable<T>`  \n",
    "  \n",
    "\n",
    "All core types are defined in the `System.Linq` and `System.Linq.Expressions` namespaces."
   ]
  },
  {
   "cell_type": "markdown",
   "metadata": {},
   "source": [
    "The basic units of data in LINQ are `sequences` and `elements`.  \n",
    "  \n",
    "A `sequence` is any object that `implements IEnumerable<T>`  \n",
    "  \n",
    "an `element` is each `item` in the sequence."
   ]
  },
  {
   "cell_type": "markdown",
   "metadata": {},
   "source": [
    "A `query operator` is a method that `transforms` a `sequence`."
   ]
  },
  {
   "cell_type": "markdown",
   "metadata": {},
   "source": [
    "A query is an `expression` that, when `enumerated`, transforms `sequences` with `query operators`."
   ]
  },
  {
   "cell_type": "code",
   "execution_count": null,
   "metadata": {
    "dotnet_interactive": {
     "language": "csharp"
    },
    "polyglot_notebook": {
     "kernelName": "csharp"
    },
    "vscode": {
     "languageId": "polyglot-notebook"
    }
   },
   "outputs": [],
   "source": [
    "string[] names = { \"Tom\", \"Dick\", \"Harry\" };\n",
    "IEnumerable<string> filteredNames = \n",
    "    System.Linq.Enumerable.Where(names, n => n.Length >= 4);\n",
    "\n",
    "    \n",
    "foreach (string n in filteredNames)\n",
    "Console.WriteLine (n);"
   ]
  },
  {
   "cell_type": "markdown",
   "metadata": {},
   "source": [
    "`standard query operators`  \n",
    "In the Enumerable class in System.Linq, there are around 40 query operators—all implemented as `static extension methods`. These are called standard query operators."
   ]
  },
  {
   "cell_type": "code",
   "execution_count": null,
   "metadata": {
    "dotnet_interactive": {
     "language": "csharp"
    },
    "polyglot_notebook": {
     "kernelName": "csharp"
    },
    "vscode": {
     "languageId": "polyglot-notebook"
    }
   },
   "outputs": [],
   "source": [
    "string[] names = { \"Tom\", \"Dick\", \"Harry\" };\n",
    "IEnumerable<string> filteredNames = names.Where (n => n.Length >= 4);"
   ]
  },
  {
   "cell_type": "markdown",
   "metadata": {},
   "source": [
    "Most query operators accept a `lambda expression` as an argument."
   ]
  },
  {
   "cell_type": "code",
   "execution_count": null,
   "metadata": {
    "dotnet_interactive": {
     "language": "csharp"
    },
    "polyglot_notebook": {
     "kernelName": "csharp"
    },
    "vscode": {
     "languageId": "polyglot-notebook"
    }
   },
   "outputs": [],
   "source": [
    "public static IEnumerable<TSource> Where<TSource>\n",
    "(this IEnumerable<TSource> source, Func<TSource,bool> predicate)\n",
    "{\n",
    "   //body of method\n",
    "}\n",
    "\n",
    "//n => n.Length >= 4"
   ]
  },
  {
   "cell_type": "code",
   "execution_count": null,
   "metadata": {
    "dotnet_interactive": {
     "language": "csharp"
    },
    "polyglot_notebook": {
     "kernelName": "csharp"
    },
    "vscode": {
     "languageId": "polyglot-notebook"
    }
   },
   "outputs": [],
   "source": [
    "//we have two choose for write queries \n",
    "string[] names = { \"Tom\", \"Dick\", \"Harry\" };\n",
    "\n",
    "//fluent syntax\n",
    "IEnumerable<string> filteredNames1 = names.Where (n => n.Contains (\"a\"));\n",
    "\n",
    "//query expression\n",
    "IEnumerable<string> filteredNames2 = \n",
    "    from n in names\n",
    "    where n.Contains (\"a\")\n",
    "    select n;\n"
   ]
  }
 ],
 "metadata": {
  "kernelspec": {
   "display_name": ".NET (C#)",
   "language": "C#",
   "name": ".net-csharp"
  },
  "language_info": {
   "name": "python"
  },
  "polyglot_notebook": {
   "kernelInfo": {
    "defaultKernelName": "csharp",
    "items": [
     {
      "aliases": [],
      "name": "csharp"
     }
    ]
   }
  }
 },
 "nbformat": 4,
 "nbformat_minor": 2
}
