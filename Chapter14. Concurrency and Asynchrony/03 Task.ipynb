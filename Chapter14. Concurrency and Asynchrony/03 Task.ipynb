{
 "cells": [
  {
   "cell_type": "markdown",
   "metadata": {},
   "source": [
    "<div dir=\"rtl\" style=\"margin:auto; width:90%; font-family:vazirmatn; text-align:justify\">\n",
    "<p>معرفی <strong><code>Task</code></strong> در .NET دلایل متعددی دارد که همگی به هدف <strong>سادگی در برنامه‌نویسی همزمانی (Concurrency)</strong> و <strong>موازی‌سازی (Parallelism)</strong>، <strong>بهینه‌سازی منابع</strong>، و <strong>ارتقاء کارایی</strong> مربوط می‌شود. استفاده از <strong><code>Thread</code></strong> مستقیم چالش‌های زیادی داشت که <strong><code>Task</code></strong> به حل آن‌ها کمک کرده است. اجازه بده این موضوع را دقیق‌تر بررسی کنیم.</p>\n",
    "<h3><strong>1. پیچیدگی در مدیریت مستقیم Threadها</strong></h3>\n",
    "<ul><li>وقتی از <strong><code>Thread</code></strong> مستقیم استفاده می‌کنید، شما مسئول مدیریت کامل چرخه عمر آن هستید:<ul><li>ایجاد (<code>Thread.Start()</code>).</li><li>هماهنگی بین Threadها (Synchronization).</li><li>اتمام (<code>Thread.Join()</code>).</li></ul></li><li>این مدیریت می‌تواند پیچیده، پرهزینه و مستعد خطا (مانند Race Condition یا Deadlock) باشد.</li></ul>\n",
    "<h4><strong>چگونه <code>Task</code> این مشکل را حل کرد؟</strong></h4>\n",
    "<ul><li><strong><code>Task</code></strong> به عنوان بخشی از <strong>Task Parallel Library (TPL)</strong> به شما اجازه می‌دهد که روی <strong>کار (Task)</strong> تمرکز کنید، نه روی نحوه اجرای آن.</li><li>مدیریت Threadها، زمان‌بندی، و اجرای همزمان به طور خودکار توسط TPL انجام می‌شود.</li></ul>\n",
    "<hr>\n",
    "<h3><strong>2. بهینه‌سازی استفاده از منابع</strong></h3>\n",
    "<ul><li>Threadهای ایجادشده دستی (Manual Threads):<ul><li>مصرف منابع بالا (هر Thread به طور پیش‌فرض 1 مگابایت حافظه Stack نیاز دارد).</li><li>ایجاد و تخریب Thread هزینه‌بر است.</li></ul></li><li>Thread Pool:<ul><li>برای کاهش هزینه، Thread Pool استفاده می‌شود، اما مدیریت آن پیچیدگی خاصی دارد.</li></ul></li></ul>\n",
    "<h4><strong>چگونه <code>Task</code> منابع را بهینه می‌کند؟</strong></h4>\n",
    "<ul><li><strong><code>Task</code></strong> به طور پیش‌فرض از <strong>Thread Pool</strong> استفاده می‌کند و بهینه‌ترین راهکار را برای تخصیص و مدیریت Threadها ارائه می‌دهد.</li><li>وقتی یک <strong>Task</strong> تعریف می‌کنید، نیازی نیست نگران این باشید که چه تعداد Thread یا چگونه اجرا می‌شوند. TPL به صورت پویا این موارد را مدیریت می‌کند.</li></ul>\n",
    "<hr>\n",
    "<h3><strong>3. پشتیبانی از برنامه‌نویسی سطح بالاتر</strong></h3>\n",
    "<ul><li><strong><code>Thread</code></strong> یک ابزار سطح پایین است و برای کارهای ساده نیاز به کدنویسی زیاد و مدیریت دستی دارد.</li><li><strong><code>Task</code></strong> امکان استفاده از امکانات سطح بالاتر را فراهم می‌کند:<ul><li><strong>زمان‌بندی آسان Taskها</strong>.</li><li><strong>اجرای موازی Taskها</strong>.</li><li><strong>بازگشت نتایج (Return Values)</strong>.</li></ul></li></ul>\n",
    "</div>"
   ]
  },
  {
   "cell_type": "code",
   "execution_count": null,
   "metadata": {
    "dotnet_interactive": {
     "language": "csharp"
    },
    "polyglot_notebook": {
     "kernelName": "csharp"
    },
    "vscode": {
     "languageId": "polyglot-notebook"
    }
   },
   "outputs": [],
   "source": [
    "Thread thread = new Thread(() =>\n",
    "{\n",
    "    Console.WriteLine(\"Running in a thread\");\n",
    "});\n",
    "thread.Start();\n",
    "thread.Join();"
   ]
  },
  {
   "cell_type": "code",
   "execution_count": null,
   "metadata": {
    "dotnet_interactive": {
     "language": "csharp"
    },
    "polyglot_notebook": {
     "kernelName": "csharp"
    },
    "vscode": {
     "languageId": "polyglot-notebook"
    }
   },
   "outputs": [],
   "source": [
    "Task task = Task.Run(() =>\n",
    "{\n",
    "    Console.WriteLine(\"Running in a task\");\n",
    "});\n",
    "task.Wait(); // منتظر اتمام Task"
   ]
  },
  {
   "cell_type": "markdown",
   "metadata": {},
   "source": [
    "<div dir=\"rtl\" style=\"margin:auto; width:90%; font-family:vazirmatn; text-align:justify\">\n",
    "<h3><strong>4. قابلیت بازگشت مقدار (Return Value)</strong></h3>\n",
    "<ul><li>با <strong><code>Thread</code></strong>، امکان بازگرداندن مقدار مستقیم وجود ندارد و باید از مکانیزم‌هایی مثل <strong>Shared Variables</strong> یا <strong>Callback</strong> استفاده کنید.</li><li>با <strong><code>Task</code></strong>، می‌توانید مقدار را به راحتی بازگردانید:</li></ul>\n",
    "</div>"
   ]
  },
  {
   "cell_type": "code",
   "execution_count": null,
   "metadata": {
    "dotnet_interactive": {
     "language": "csharp"
    },
    "polyglot_notebook": {
     "kernelName": "csharp"
    },
    "vscode": {
     "languageId": "polyglot-notebook"
    }
   },
   "outputs": [
    {
     "name": "stdout",
     "output_type": "stream",
     "text": [
      "42\n",
      "Task complete\n"
     ]
    }
   ],
   "source": [
    "Task<int> task = Task.Run(() =>\n",
    "{\n",
    "    return 42; // بازگرداندن مقدار\n",
    "});\n",
    "Console.WriteLine(task.Result); // دسترسی به نتیجه\n",
    "\n",
    "Task.Run(() =>\n",
    "{\n",
    "    Task.Delay(1000).Wait(); \n",
    "    Console.WriteLine(\"Task complete\");\n",
    "}).Wait();\n",
    "//what happen for main thread and task thread?"
   ]
  },
  {
   "cell_type": "markdown",
   "metadata": {},
   "source": [
    "<div dir=\"rtl\" style=\"margin:auto; width:90%; font-family:vazirmatn; text-align:justify\">\n",
    "<h3><strong>6. مدیریت آسان‌تر خطاها</strong></h3>\n",
    "<ul><li>در برنامه‌نویسی با <strong><code>Thread</code></strong>، مدیریت خطاها پیچیده است. اگر یک Thread دچار Exception شود، مدیریت آن به عهده برنامه‌نویس است.</li><li>در <strong><code>Task</code></strong>، خطاها به راحتی از طریق <strong>Task.Exception</strong> یا <strong><code>await</code></strong> مدیریت می‌شوند.</li></ul>\n",
    "</div>"
   ]
  },
  {
   "cell_type": "code",
   "execution_count": null,
   "metadata": {
    "dotnet_interactive": {
     "language": "csharp"
    },
    "polyglot_notebook": {
     "kernelName": "csharp"
    },
    "vscode": {
     "languageId": "polyglot-notebook"
    }
   },
   "outputs": [],
   "source": [
    "try\n",
    "{\n",
    "    Task task = Task.Run(() => throw new InvalidOperationException());\n",
    "    task.Wait();\n",
    "}\n",
    "catch (AggregateException ex)\n",
    "{\n",
    "    Console.WriteLine($\"Caught exception: {ex.InnerException.Message}\");\n",
    "}"
   ]
  },
  {
   "cell_type": "markdown",
   "metadata": {},
   "source": [
    "- represents a concurrent operation that might or `might not` be backed by a thread.\n",
    "- They can use the `thread pool` to lessen startup latency\n",
    "- when recive to `await`, thread come back to pool for other operations"
   ]
  },
  {
   "cell_type": "markdown",
   "metadata": {},
   "source": [
    "Tasks use `pooled threads` by default, which are `background`\n",
    "threads. This means that when the `main thread` ends, so do\n",
    "any tasks that you create."
   ]
  },
  {
   "cell_type": "code",
   "execution_count": null,
   "metadata": {
    "dotnet_interactive": {
     "language": "csharp"
    },
    "polyglot_notebook": {
     "kernelName": "csharp"
    },
    "vscode": {
     "languageId": "polyglot-notebook"
    }
   },
   "outputs": [],
   "source": [
    "Task.Run (() => Console.WriteLine (\"Foo\"));\n",
    "Console.ReadLine();"
   ]
  },
  {
   "cell_type": "markdown",
   "metadata": {},
   "source": [
    "<div dir=\"rtl\">\n",
    "\n",
    "Taskهای داغ: این Taskها بلافاصله پس از ایجاد، فعال و آماده اجرا هستند. نیازی به صدا زدن هیچ متد اضافی برای شروع کار آن‌ها نیست. Task.Run معمولاً برای ایجاد این نوع از Taskها استفاده می‌شود.\n",
    "</div>"
   ]
  },
  {
   "cell_type": "markdown",
   "metadata": {},
   "source": [
    "<div dir=\"rtl\">\n",
    "Taskهای سرد: در مقابل، Taskهای \"سرد\" با استفاده از کانستراکتور Task ایجاد می‌شوند و تا زمانی که صراحتاً با فراخوانی متد Start شروع به کار نکنند، فعال نمی‌شوند. این رویکرد به ندرت در عمل استفاده می‌شود زیرا مدیریت آن دشوارتر است و برنامه‌نویسان معمولاً ترجیح می‌دهند کار با Taskهایی که بلافاصله فعال می‌شوند و نیازی به مرحله اضافی برای شروع ندارند.\n",
    "</div>"
   ]
  },
  {
   "cell_type": "markdown",
   "metadata": {},
   "source": [
    "Calling `Wait` on a task blocks current thread until it completes and is the equivalent of calling `Join` on a thread"
   ]
  },
  {
   "cell_type": "markdown",
   "metadata": {},
   "source": [
    "### Long-running tasks"
   ]
  },
  {
   "cell_type": "markdown",
   "metadata": {},
   "source": [
    "`tasks` ideal for short-running compute-bound work."
   ]
  },
  {
   "cell_type": "markdown",
   "metadata": {},
   "source": [
    "<div dir=\"rtl\">\n",
    "برای عملیات‌های طولانی‌مدت یا مسدودکننده، استفاده مستقیم از نخ‌های استخر نخ می‌تواند منجر به کاهش عملکرد شود چرا که این نخ‌ها برای کارهای کوتاه‌مدت طراحی شده‌اند و می‌توانند با اشغال شدن در طولانی‌مدت، منابع را محدود کنند.\n",
    "<br>\n",
    "برای مدیریت این نوع عملیات‌ها، .NET امکانی فراهم می‌کند تا Taskهایی با گزینه TaskCreationOptions.LongRunning ایجاد کنید. این گزینه به CLR اطلاع می‌دهد که Task مورد نظر احتمالا زمان زیادی برای اجرا نیاز دارد. در نتیجه، به جای استفاده از نخ‌های استخر نخ، CLR ممکن است تصمیم بگیرد یک نخ جدید برای اجرای این Task اختصاص دهد تا اطمینان حاصل شود که عملکرد استخر نخ تحت تأثیر قرار نمی‌گیرد.\n",
    "</div>"
   ]
  },
  {
   "cell_type": "code",
   "execution_count": null,
   "metadata": {
    "dotnet_interactive": {
     "language": "csharp"
    },
    "polyglot_notebook": {
     "kernelName": "csharp"
    },
    "vscode": {
     "languageId": "polyglot-notebook"
    }
   },
   "outputs": [],
   "source": [
    "Task task = Task.Factory.StartNew (() => {/*LongRunning task*/},\n",
    "TaskCreationOptions.LongRunning);"
   ]
  },
  {
   "cell_type": "markdown",
   "metadata": {},
   "source": [
    "## Returning values"
   ]
  },
  {
   "cell_type": "code",
   "execution_count": null,
   "metadata": {
    "dotnet_interactive": {
     "language": "csharp"
    },
    "polyglot_notebook": {
     "kernelName": "csharp"
    },
    "vscode": {
     "languageId": "polyglot-notebook"
    }
   },
   "outputs": [],
   "source": [
    "Task<int> task = Task.Run (() =>\n",
    "{ \n",
    "    Task.Delay(1000).Wait();\n",
    "\n",
    "    Console.WriteLine (\"Foo\"); \n",
    "    \n",
    "    return 3; \n",
    "});\n",
    "\n",
    "int result = task.Result; // Blocks if not already finished\n",
    "Console.WriteLine (result); // 3"
   ]
  },
  {
   "cell_type": "code",
   "execution_count": null,
   "metadata": {
    "dotnet_interactive": {
     "language": "csharp"
    },
    "polyglot_notebook": {
     "kernelName": "csharp"
    },
    "vscode": {
     "languageId": "polyglot-notebook"
    }
   },
   "outputs": [
    {
     "name": "stdout",
     "output_type": "stream",
     "text": [
      "Task running...\n",
      "The answer is 216816\n"
     ]
    }
   ],
   "source": [
    "Task<int> primeNumberTask = Task.Run (() =>\n",
    "    Enumerable.Range (2, 3000000)\n",
    "        .Count (n =>\n",
    "            Enumerable.Range (2, (int)Math.Sqrt(n)-1).All (i => n % i > 0)));\n",
    "Console.WriteLine (\"Task running...\");\n",
    "Console.WriteLine (\"The answer is \" + primeNumberTask.Result);"
   ]
  },
  {
   "cell_type": "markdown",
   "metadata": {},
   "source": [
    "## Exceptions"
   ]
  },
  {
   "cell_type": "code",
   "execution_count": null,
   "metadata": {
    "dotnet_interactive": {
     "language": "csharp"
    },
    "polyglot_notebook": {
     "kernelName": "csharp"
    },
    "vscode": {
     "languageId": "polyglot-notebook"
    }
   },
   "outputs": [],
   "source": [
    "Task task = Task.Run (() => { throw null; });\n",
    "try\n",
    "{\n",
    "    task.Wait();//or task.Result if task has return value\n",
    "}\n",
    "catch (AggregateException aex)\n",
    "{\n",
    "    if (aex.InnerException is NullReferenceException)\n",
    "        Console.WriteLine (\"Null!\");\n",
    "    else\n",
    "        throw;\n",
    "}\n",
    "\n",
    "if(task.IsFaulted) //check for Fault\n",
    "    Console.WriteLine(\"Fault\");"
   ]
  },
  {
   "cell_type": "markdown",
   "metadata": {},
   "source": [
    "<div dir=\"rtl\" style=\"margin:auto; width:90%; font-family:vazirmatn; text-align:justify\">\n",
    "<h4>1. <strong>اجرای کد داخل <code>Task.Run</code></strong></h4>\n",
    "\n",
    "<ul>\n",
    "<li>وقتی <code>Task.Run</code> فراخوانی می‌شود، وظیفه (Task) روی یک نخ جداگانه در <strong>Thread Pool</strong> شروع به اجرا می‌کند.</li>\n",
    "<li>\n",
    "در این مثال: <br/>\n",
    "<ul>\n",
    "<li>وظیفه بلافاصله شروع به کار می‌کند.</li>\n",
    "<li>اما چون وظیفه روی یک نخ جداگانه اجرا می‌شود، استثنای پرتاب شده (در اینجا <code>throw null;</code>) <strong>مستقیماً رشته اصلی را تحت تأثیر قرار نمی‌دهد</strong>.</li>\n",
    "</ul>\n",
    "</li>\n",
    "</ul>\n",
    "\n",
    "<h4>2. <strong>مدیریت استثناها در <code>Task</code></strong></h4>\n",
    "<ul><li><p>اگر داخل یک <code>Task</code> استثنا پرتاب شود، این استثنا به صورت داخلی توسط خود <code>Task</code> ذخیره می‌شود و تا زمانی که به آن دسترسی پیدا کنید (مثلاً با <code>Wait</code> یا <code>Result</code>)، در برنامه منتشر نمی‌شود.</p></li><li><p>در این مثال:</p><ul><li>با فراخوانی <code>Wait</code> یا دسترسی به <code>Result</code>، <strong>استثنای ذخیره‌شده در <code>Task</code> منتشر می‌شود</strong>.</li><li>این انتشار استثنا در قالب یک <strong><code>AggregateException</code></strong> انجام می‌شود که تمام استثناهای پرتاب شده در <code>Task</code> را جمع‌آوری کرده است.</li></ul></li></ul>\n",
    "\n",
    "<h4>3. <strong>نقش <code>AggregateException</code></strong></h4>\n",
    "<ul><li>استثناهای داخل یک <code>Task</code> همیشه در یک <strong><code>AggregateException</code></strong> بسته‌بندی می‌شوند.</li><li>اگر کد شما <code>throw null;</code> اجرا کند، این استثنا به صورت یک <strong><code>NullReferenceException</code></strong> در <code>AggregateException.InnerException</code> ذخیره می‌شود.</li></ul>\n",
    "\n",
    "</div>"
   ]
  },
  {
   "cell_type": "markdown",
   "metadata": {},
   "source": [
    "## Continuations"
   ]
  },
  {
   "cell_type": "markdown",
   "metadata": {},
   "source": [
    "A `continuation` says to a task, “When you’ve finished, continue by doing something else.”"
   ]
  },
  {
   "cell_type": "code",
   "execution_count": null,
   "metadata": {
    "dotnet_interactive": {
     "language": "csharp"
    },
    "polyglot_notebook": {
     "kernelName": "csharp"
    },
    "vscode": {
     "languageId": "polyglot-notebook"
    }
   },
   "outputs": [
    {
     "name": "stdout",
     "output_type": "stream",
     "text": [
      "Task 1 running\n",
      "Task 1 complete\n",
      "Continuation running after Task 1\n"
     ]
    }
   ],
   "source": [
    "Task task = Task.Run(() =>\n",
    "{\n",
    "    Console.WriteLine(\"Task 1 running\");\n",
    "    Task.Delay(1000).Wait(); // شبیه‌سازی تأخیر\n",
    "    Console.WriteLine(\"Task 1 complete\");\n",
    "});\n",
    "\n",
    "task.ContinueWith(t =>\n",
    "{\n",
    "    Console.WriteLine(\"Continuation running after Task 1\");\n",
    "})\n",
    "//.Wait();\n"
   ]
  },
  {
   "cell_type": "code",
   "execution_count": null,
   "metadata": {
    "dotnet_interactive": {
     "language": "csharp"
    },
    "polyglot_notebook": {
     "kernelName": "csharp"
    },
    "vscode": {
     "languageId": "polyglot-notebook"
    }
   },
   "outputs": [],
   "source": [
    "// with return value\n",
    "Task<int> task = Task.Run(() =>\n",
    "{\n",
    "    Console.WriteLine(\"Calculating...\");\n",
    "    return 42; // بازگرداندن نتیجه\n",
    "});\n",
    "\n",
    "task.ContinueWith(t =>\n",
    "{\n",
    "    Console.WriteLine($\"Result from Task: {t.Result}\");\n",
    "}).Wait();\n"
   ]
  },
  {
   "cell_type": "code",
   "execution_count": null,
   "metadata": {
    "dotnet_interactive": {
     "language": "csharp"
    },
    "polyglot_notebook": {
     "kernelName": "csharp"
    },
    "vscode": {
     "languageId": "polyglot-notebook"
    }
   },
   "outputs": [],
   "source": [
    "//with Exception\n",
    "Task task = Task.Run(() =>\n",
    "{\n",
    "    throw new InvalidOperationException(\"Something went wrong!\");\n",
    "});\n",
    "\n",
    "task.ContinueWith(t =>\n",
    "{\n",
    "    if (t.IsFaulted)\n",
    "    {\n",
    "        Console.WriteLine($\"Error: {t.Exception?.GetBaseException().Message}\");\n",
    "    }\n",
    "}).Wait();\n"
   ]
  },
  {
   "cell_type": "code",
   "execution_count": 6,
   "metadata": {
    "dotnet_interactive": {
     "language": "csharp"
    },
    "polyglot_notebook": {
     "kernelName": "csharp"
    },
    "vscode": {
     "languageId": "polyglot-notebook"
    }
   },
   "outputs": [
    {
     "name": "stdout",
     "output_type": "stream",
     "text": [
      "Task 1 running\n",
      "Task 1 result: 42\n",
      "Task 2 running\n",
      "Task 2 result: 52\n",
      "Task 3 running\n"
     ]
    }
   ],
   "source": [
    "// multiple\n",
    "Task.Run(() =>\n",
    "{\n",
    "    Console.WriteLine(\"Task 1 running\");\n",
    "    return 42;\n",
    "})\n",
    ".ContinueWith(t =>\n",
    "{\n",
    "    Console.WriteLine($\"Task 1 result: {t.Result}\");\n",
    "    Console.WriteLine(\"Task 2 running\");\n",
    "    return t.Result + 10;\n",
    "})\n",
    ".ContinueWith(t =>\n",
    "{\n",
    "    Console.WriteLine($\"Task 2 result: {t.Result}\");\n",
    "    Console.WriteLine(\"Task 3 running\");\n",
    "}).Wait();\n"
   ]
  },
  {
   "cell_type": "code",
   "execution_count": 5,
   "metadata": {
    "dotnet_interactive": {
     "language": "csharp"
    },
    "polyglot_notebook": {
     "kernelName": "csharp"
    },
    "vscode": {
     "languageId": "polyglot-notebook"
    }
   },
   "outputs": [],
   "source": [
    "Task<int> primeNumberTask = Task.Run (() =>\n",
    "    Enumerable.Range (2, 3000000).Count (n =>\n",
    "        Enumerable.Range (2, (int)Math.Sqrt(n)-1).All (i => n % i > 0)));\n",
    "var awaiter = primeNumberTask.GetAwaiter();\n",
    "awaiter.OnCompleted (() =>\n",
    "{\n",
    "    int result = awaiter.GetResult();\n",
    "    Console.WriteLine (result); // Writes result\n",
    "});"
   ]
  },
  {
   "cell_type": "code",
   "execution_count": null,
   "metadata": {
    "dotnet_interactive": {
     "language": "csharp"
    },
    "polyglot_notebook": {
     "kernelName": "csharp"
    },
    "vscode": {
     "languageId": "polyglot-notebook"
    }
   },
   "outputs": [],
   "source": [
    "primeNumberTask.ContinueWith (antecedent =>\n",
    "{\n",
    "int result = antecedent.Result;\n",
    "Console.WriteLine (result); // Writes 123\n",
    "});"
   ]
  },
  {
   "cell_type": "markdown",
   "metadata": {},
   "source": [
    "## TaskCompletionSource"
   ]
  },
  {
   "cell_type": "markdown",
   "metadata": {},
   "source": [
    "<div dir=\"rtl\" style=\"margin:auto; width:90%; font-family:vazirmatn; text-align:justify\">\n",
    "\n",
    "TaskCompletionSource<T> یک ابزار قدرتمند در .NET است که به توسعه‌دهندگان امکان می‌دهد به صورت دستی Task<T>ها را ایجاد و کنترل کنند. این کلاس به شما اجازه می‌دهد تا یک Task را بدون نیاز به ایجاد یک thread جدید مدیریت کنید، که بسیار مفید است برای عملیات‌های غیرهمزمان که به صورت طبیعی بر اساس callbackها هستند، مانند درخواست‌های I/O.\n",
    "\n",
    "<p>\n",
    "شما می‌توانید دقیقا تعیین کنید که چه زمانی یک Task به حالت کامل شده (Completed)، لغو شده (Canceled)، یا با خطا (Faulted) می‌رود.\n",
    "<br>\n",
    "سیار مناسب برای برنامه‌نویسی رویداد محور و سناریوهایی که عملیات غیرهمزمان بر اساس وقایع خارجی اتفاق می‌افتند.\n",
    "</p>\n",
    "</div>"
   ]
  },
  {
   "cell_type": "code",
   "execution_count": null,
   "metadata": {
    "dotnet_interactive": {
     "language": "csharp"
    },
    "polyglot_notebook": {
     "kernelName": "csharp"
    },
    "vscode": {
     "languageId": "polyglot-notebook"
    }
   },
   "outputs": [],
   "source": [
    "var tcs = new TaskCompletionSource<int>(); // نوع نتیجه Task مشخص می‌شود.\n",
    "Task<int> task = tcs.Task;                // Task مربوط به این TaskCompletionSource\n",
    "\n",
    "// تکمیل Task\n",
    "tcs.SetResult(42); // نتیجه را تنظیم می‌کنید\n",
    "Console.WriteLine(task.Result); // خروجی: 42"
   ]
  },
  {
   "cell_type": "code",
   "execution_count": null,
   "metadata": {
    "dotnet_interactive": {
     "language": "csharp"
    },
    "polyglot_notebook": {
     "kernelName": "csharp"
    },
    "vscode": {
     "languageId": "polyglot-notebook"
    }
   },
   "outputs": [],
   "source": [
    "var tcs = new TaskCompletionSource<int>();\n",
    "Task<int> task = tcs.Task;\n",
    "\n",
    "// شکست Task\n",
    "tcs.SetException(new InvalidOperationException(\"Something went wrong!\"));\n",
    "\n",
    "// مدیریت استثنا\n",
    "try\n",
    "{\n",
    "    Console.WriteLine(task.Result); // اینجا استثنا پرتاب می‌شود.\n",
    "}\n",
    "catch (AggregateException ex)\n",
    "{\n",
    "    Console.WriteLine(ex.InnerException?.Message); // خروجی: Something went wrong!\n",
    "}"
   ]
  },
  {
   "cell_type": "code",
   "execution_count": null,
   "metadata": {
    "dotnet_interactive": {
     "language": "csharp"
    },
    "polyglot_notebook": {
     "kernelName": "csharp"
    },
    "vscode": {
     "languageId": "polyglot-notebook"
    }
   },
   "outputs": [],
   "source": [
    "var tcs = new TaskCompletionSource<int>();\n",
    "Task<int> task = tcs.Task;\n",
    "\n",
    "// لغو Task\n",
    "tcs.SetCanceled();\n",
    "\n",
    "// بررسی لغو Task\n",
    "Console.WriteLine(task.IsCanceled); // خروجی: True"
   ]
  },
  {
   "cell_type": "code",
   "execution_count": null,
   "metadata": {
    "dotnet_interactive": {
     "language": "csharp"
    },
    "polyglot_notebook": {
     "kernelName": "csharp"
    },
    "vscode": {
     "languageId": "polyglot-notebook"
    }
   },
   "outputs": [
    {
     "name": "stdout",
     "output_type": "stream",
     "text": [
      "Checking stock...\n",
      "Product is out of stock!\n"
     ]
    }
   ],
   "source": [
    "using System.Threading;\n",
    "\n",
    "public static class StockChecker\n",
    "{\n",
    "    // متد غیرهمزمان که از یک callback استفاده می‌کند\n",
    "    public static void CheckStockAsync(int productId, Action<bool> callback)\n",
    "    {\n",
    "        // شبیه‌سازی عملیات ناهمزمان\n",
    "        Task.Run(() =>\n",
    "        {\n",
    "            // شبیه‌سازی تأخیر برای بررسی موجودی در انبار\n",
    "            Thread.Sleep(2000);\n",
    "\n",
    "            // فرض کنید ما بررسی کردیم و نتیجه پیدا شد\n",
    "            bool inStock = (productId % 2 == 0); // به صورت فرضی: محصولات با ID زوج موجود هستند\n",
    "\n",
    "            // فراخوانی callback با نتیجه\n",
    "            callback(inStock);\n",
    "        });\n",
    "    }\n",
    "}\n",
    "\n",
    "\n",
    "public Task<bool> IsProductInStockAsync(int productId)\n",
    "{\n",
    "    var tcs = new TaskCompletionSource<bool>();\n",
    "\n",
    "    // فرض کنید CheckStock یک متد غیرهمزمان است که وقتی موجودی چک شد، یک event را فایر می‌کند\n",
    "    StockChecker.CheckStockAsync(productId, (inStock) => \n",
    "    {\n",
    "        if(inStock)\n",
    "        {\n",
    "            tcs.SetResult(true); // محصول در انبار موجود است\n",
    "        }\n",
    "        else\n",
    "        {\n",
    "            tcs.SetResult(false); // محصول در انبار موجود نیست\n",
    "        }\n",
    "    });\n",
    "\n",
    "    return tcs.Task;\n",
    "}\n",
    "\n",
    "Console.WriteLine(\"Checking stock...\");\n",
    "\n",
    "bool isProductInStockAsync = await IsProductInStockAsync(123);\n",
    "\n",
    "Console.WriteLine(isProductInStockAsync ? \"Product is in stock!\" : \"Product is out of stock!\");\n"
   ]
  },
  {
   "cell_type": "markdown",
   "metadata": {},
   "source": [
    "<div dir=\"rtl\" style=\"margin:auto; width:90%; font-family:vazirmatn; text-align:justify\">\n",
    "<p> چگونه می‌توان از <strong><code>TaskCompletionSource</code></strong> برای ساختن <code>Task</code>‌هایی استفاده کرد که بدون استفاده از نخ‌ها (<strong>threads</strong>) و به صورت کارآمد عمل می‌کنند. این روش به کمک ابزارهایی مانند <strong><code>Timer</code></strong> امکان‌پذیر است که بر اساس رویدادها کار می‌کنند.</p>\n",
    "\n",
    "</div>"
   ]
  },
  {
   "cell_type": "code",
   "execution_count": null,
   "metadata": {
    "dotnet_interactive": {
     "language": "csharp"
    },
    "polyglot_notebook": {
     "kernelName": "csharp"
    },
    "vscode": {
     "languageId": "polyglot-notebook"
    }
   },
   "outputs": [],
   "source": [
    "Task<int> GetAnswerToLife()\n",
    "{\n",
    "    var tcs = new TaskCompletionSource<int>();\n",
    "    // Create a timer that fires once in 5000 ms:\n",
    "    var timer = new System.Timers.Timer (5000) { AutoReset = false };\n",
    "    timer.Elapsed += delegate { timer.Dispose(); tcs.SetResult (42); };\n",
    "    timer.Start();\n",
    "    return tcs.Task;\n",
    "}"
   ]
  },
  {
   "cell_type": "code",
   "execution_count": null,
   "metadata": {
    "dotnet_interactive": {
     "language": "csharp"
    },
    "polyglot_notebook": {
     "kernelName": "csharp"
    },
    "vscode": {
     "languageId": "polyglot-notebook"
    }
   },
   "outputs": [],
   "source": [
    "Task Delay (int milliseconds)\n",
    "{\n",
    "    var tcs = new TaskCompletionSource<object>();\n",
    "    var timer = new System.Timers.Timer (milliseconds) { AutoReset = false };\n",
    "    timer.Elapsed += delegate { timer.Dispose(); tcs.SetResult (null); };\n",
    "    timer.Start();\n",
    "    return tcs.Task;\n",
    "}"
   ]
  },
  {
   "cell_type": "markdown",
   "metadata": {},
   "source": [
    "<div dir=\"rtl\" style=\"margin:auto; width:90%; font-family:vazirmatn; text-align:justify\">\n",
    "<h3><strong> Synchronous، Concurrency و Asynchronous </strong></h3>\n",
    "<h3><strong>1. Synchronous (همزمان)</strong></h3>\n",
    "<ul><li><p><strong>تعریف:</strong></p><ul><li>در برنامه‌نویسی همزمان، هر عملیات باید به‌طور کامل انجام شود تا کنترل به عملیات بعدی منتقل شود.</li><li>به عبارت دیگر، تا زمانی که یک کار تکمیل نشده، هیچ کار دیگری نمی‌تواند شروع شود.</li></ul></li><li><p><strong>ویژگی‌ها:</strong></p><ul><li>اجرای ترتیبی.</li><li><strong>Blocking:</strong> نخ جاری در طول عملیات بلاک می‌شود.</li></ul></li><li><p><strong>مثال:</strong>\n",
    "تصور کنید در یک رستوران، پیشخدمت فقط می‌تواند یک سفارش را بگیرد، منتظر آماده شدن غذا باشد و سپس سفارش را به مشتری برگرداند. تا زمانی که سفارش اول تمام نشود، نمی‌تواند به مشتری دیگری خدمت کند.</p></li></ul>\n",
    "</div>"
   ]
  },
  {
   "cell_type": "code",
   "execution_count": null,
   "metadata": {
    "dotnet_interactive": {
     "language": "csharp"
    },
    "polyglot_notebook": {
     "kernelName": "csharp"
    },
    "vscode": {
     "languageId": "polyglot-notebook"
    }
   },
   "outputs": [],
   "source": [
    "void SynchronousOperation()\n",
    "{\n",
    "    Console.WriteLine(\"Start\");\n",
    "    Thread.Sleep(3000); // شبیه‌سازی عملیات طولانی\n",
    "    Console.WriteLine(\"End\");\n",
    "}"
   ]
  },
  {
   "cell_type": "markdown",
   "metadata": {},
   "source": [
    "<div dir=\"rtl\" style=\"margin:auto; width:90%; font-family:vazirmatn; text-align:justify\">\n",
    "<h4><strong>توضیح:</strong></h4>\n",
    "<ul><li>نخ (Thread) جاری در طول <code>Thread.Sleep</code> بلاک می‌شود و هیچ کار دیگری نمی‌تواند انجام دهد.</li></ul>\n",
    "<hr>\n",
    "<h3><strong>2. Concurrency (همزمانی)</strong></h3>\n",
    "<ul><li><p><strong>تعریف:</strong></p><ul><li>همزمانی به معنای توانایی اجرای چند کار به صورت موازی است.</li><li>این کار ممکن است با استفاده از <strong>چند نخ (Threads)</strong> یا مکانیزم‌های دیگر انجام شود.</li></ul></li><li><p><strong>ویژگی‌ها:</strong></p><ul><li><strong>Parallelism ممکن است:</strong> همزمانی می‌تواند منجر به اجرای موازی شود، اما لزوماً همه‌ی عملیات‌ها به صورت دقیقاً همزمان اجرا نمی‌شوند.</li><li>از منابع سیستم به صورت بهینه‌تر استفاده می‌شود.</li></ul></li><li><p><strong>مثال:</strong>\n",
    "در رستوران، پیشخدمت می‌تواند به چند مشتری به صورت همزمان خدمت کند. او سفارش اول را می‌گیرد، سفارش دوم را می‌گیرد، و سپس به آشپزخانه می‌رود و منتظر آماده شدن هر دو سفارش می‌ماند.</p></li></ul>\n",
    "<div>"
   ]
  },
  {
   "cell_type": "code",
   "execution_count": null,
   "metadata": {
    "dotnet_interactive": {
     "language": "csharp"
    },
    "polyglot_notebook": {
     "kernelName": "csharp"
    },
    "vscode": {
     "languageId": "polyglot-notebook"
    }
   },
   "outputs": [],
   "source": [
    "void ConcurrentOperations()\n",
    "{\n",
    "    Task.Run(() => \n",
    "    {\n",
    "        Thread.Sleep(3000); // شبیه‌سازی کار اول\n",
    "        Console.WriteLine(\"Task 1 completed\");\n",
    "    });\n",
    "\n",
    "    Task.Run(() =>\n",
    "    {\n",
    "        Thread.Sleep(2000); // شبیه‌سازی کار دوم\n",
    "        Console.WriteLine(\"Task 2 completed\");\n",
    "    });\n",
    "\n",
    "    Console.WriteLine(\"Both tasks started\");\n",
    "}"
   ]
  },
  {
   "cell_type": "markdown",
   "metadata": {},
   "source": [
    "<div dir=\"rtl\" style=\"margin:auto; width:90%; font-family:vazirmatn; text-align:justify\">\n",
    "<h4><strong>توضیح:</strong></h4>\n",
    "<ul><li>دو Task به صورت همزمان شروع می‌شوند و هرکدام روی یک نخ جداگانه اجرا می‌شوند.</li><li>ترتیب اجرای \"Task 1 completed\" و \"Task 2 completed\" ممکن است به مدت زمان اجرای هر Task بستگی داشته باشد.</li></ul>\n",
    "<hr>\n",
    "<h3><strong>3. Asynchronous (ناهمزمان)</strong></h3>\n",
    "<ul><li><p><strong>تعریف:</strong></p><ul><li>در برنامه‌نویسی ناهمزمان، عملیات می‌تواند بدون بلاک کردن نخ جاری اجرا شود.</li><li>عملیات طولانی‌مدت (مانند خواندن فایل یا انتظار برای پاسخ شبکه) بدون استفاده از نخ‌های اضافی مدیریت می‌شوند.</li></ul></li><li><p><strong>ویژگی‌ها:</strong></p><ul><li>نخ جاری آزاد است تا به کارهای دیگر بپردازد.</li><li>با <strong>async/await</strong> یا سایر مکانیزم‌های مبتنی بر رویداد پیاده‌سازی می‌شود.</li></ul></li><li><p><strong>مثال:</strong>\n",
    "در رستوران، پیشخدمت سفارش مشتری را به آشپزخانه می‌دهد و بلافاصله به سراغ مشتری بعدی می‌رود. وقتی غذا آماده شد، آشپزخانه به او اطلاع می‌دهد و او سفارش را تحویل می‌دهد.</p></li></ul>\n",
    "</div>"
   ]
  },
  {
   "cell_type": "code",
   "execution_count": null,
   "metadata": {
    "dotnet_interactive": {
     "language": "csharp"
    },
    "polyglot_notebook": {
     "kernelName": "csharp"
    },
    "vscode": {
     "languageId": "polyglot-notebook"
    }
   },
   "outputs": [],
   "source": [
    "async Task AsynchronousOperation()\n",
    "{\n",
    "    Console.WriteLine(\"Start\");\n",
    "    await Task.Delay(3000); // شبیه‌سازی عملیات طولانی\n",
    "    Console.WriteLine(\"End\");\n",
    "}\n"
   ]
  },
  {
   "cell_type": "markdown",
   "metadata": {},
   "source": [
    "<div dir=\"rtl\" style=\"margin:auto; width:90%; font-family:vazirmatn; text-align:justify\">\n",
    "<h4><strong>توضیح:</strong></h4>\n",
    "<ul><li>متد <code>Task.Delay</code> بدون بلاک کردن نخ اجرا می‌شود.</li><li>نخ جاری می‌تواند در این زمان به کارهای دیگر بپردازد.</li></ul>\n",
    "</div>"
   ]
  }
 ],
 "metadata": {
  "kernelspec": {
   "display_name": ".NET (C#)",
   "language": "C#",
   "name": ".net-csharp"
  },
  "language_info": {
   "name": "python"
  },
  "polyglot_notebook": {
   "kernelInfo": {
    "defaultKernelName": "csharp",
    "items": [
     {
      "aliases": [],
      "name": "csharp"
     }
    ]
   }
  }
 },
 "nbformat": 4,
 "nbformat_minor": 2
}
