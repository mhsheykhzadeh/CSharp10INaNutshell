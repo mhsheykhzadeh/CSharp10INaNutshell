{
 "cells": [
  {
   "cell_type": "markdown",
   "metadata": {},
   "source": [
    "The `SmtpClient` class in the `System.Net.Mail` namespace allows you to `send mail messages` through the ubiquitous ***Simple Mail Transfer Protocol***, or `SMTP`."
   ]
  },
  {
   "cell_type": "code",
   "execution_count": null,
   "metadata": {
    "dotnet_interactive": {
     "language": "csharp"
    },
    "polyglot_notebook": {
     "kernelName": "csharp"
    },
    "vscode": {
     "languageId": "polyglot-notebook"
    }
   },
   "outputs": [],
   "source": [
    "using System.Net.Mail;\n",
    "\n",
    "SmtpClient client = new SmtpClient();\n",
    "client.Host = \"mail.myserver.com\";\n",
    "client.Send (\"from@adomain.com\", \"to@adomain.com\", \"subject\", \"body\");"
   ]
  },
  {
   "cell_type": "code",
   "execution_count": null,
   "metadata": {
    "dotnet_interactive": {
     "language": "csharp"
    },
    "polyglot_notebook": {
     "kernelName": "csharp"
    },
    "vscode": {
     "languageId": "polyglot-notebook"
    }
   },
   "outputs": [],
   "source": [
    "using System.Net.Mail;\n",
    "\n",
    "SmtpClient client = new SmtpClient();\n",
    "client.Host = \"mail.myisp.net\";\n",
    "MailMessage mm = new MailMessage();\n",
    "\n",
    "mm.Sender = new MailAddress (\"kay@domain.com\", \"Kay\");\n",
    "mm.From = new MailAddress (\"kay@domain.com\", \"Kay\");\n",
    "mm.To.Add (new MailAddress (\"bob@domain.com\", \"Bob\"));\n",
    "mm.CC.Add (new MailAddress (\"dan@domain.com\", \"Dan\"));\n",
    "mm.Subject = \"Hello!\";\n",
    "mm.Body = \"Hi there. Here's the photo!\";\n",
    "mm.IsBodyHtml = false;\n",
    "mm.Priority = MailPriority.High;\n",
    "\n",
    "Attachment a = new Attachment (\"photo.jpg\",\n",
    "                                System.Net.Mime.MediaTypeNames.Image.Jpeg);\n",
    "\n",
    "mm.Attachments.Add (a);\n",
    "client.Send (mm);"
   ]
  },
  {
   "cell_type": "markdown",
   "metadata": {},
   "source": [
    "To ***frustrate spammers***, most `SMTP servers` on the internet will **accept connections only** from `authenticated` connections and `require communication over SSL`"
   ]
  },
  {
   "cell_type": "code",
   "execution_count": null,
   "metadata": {
    "dotnet_interactive": {
     "language": "csharp"
    },
    "polyglot_notebook": {
     "kernelName": "csharp"
    },
    "vscode": {
     "languageId": "polyglot-notebook"
    }
   },
   "outputs": [],
   "source": [
    "using System.Net.Mail;\n",
    "using System.Net;\n",
    "\n",
    "var client = new SmtpClient (\"smtp.myisp.com\", 587)\n",
    "{\n",
    "    Credentials = new NetworkCredential (\"me@myisp.com\", \"MySecurePass\"),\n",
    "    EnableSsl = true\n",
    "};\n",
    "\n",
    "client.Send (\"me@myisp.com\", \"someone@somewhere.com\", \"Subject\", \"Body\");\n",
    "Console.WriteLine (\"Sent\");"
   ]
  },
  {
   "cell_type": "markdown",
   "metadata": {},
   "source": [
    "<div dir=\"rtl\" style=\"margin:auto; width:90%; font-family:vazirmatn; border:1px solid rgb(226, 197, 65); padding: 10px\">\n",
    "<h3 style=\"text-align:center\">\n",
    "<svg xmlns=\"http://www.w3.org/2000/svg\" width=\"24\" height=\"24\" fill=\"none\" viewBox=\"0 0 24 24\" class=\"icon-md\" style=\"color: rgb(118, 208, 235);\"><path fill=\"currentColor\" fill-rule=\"evenodd\" d=\"M12.455 4.105a1 1 0 0 0-.91 0L1.987 8.982 1.077 7.2l9.56-4.877a3 3 0 0 1 2.726 0l9.56 4.877A1.98 1.98 0 0 1 24 9.22V15a1 1 0 1 1-2 0v-3.784l-2.033.995v4.094a3 3 0 0 1-1.578 2.642l-4.967 2.673a3 3 0 0 1-2.844 0l-4.967-2.673a3 3 0 0 1-1.578-2.642v-4.094l-2.927-1.433C-.374 10.053-.39 7.949 1.077 7.2l.91 1.782 9.573 4.689a1 1 0 0 0 .88 0L22 8.989v-.014zM6.033 13.19v3.114a1 1 0 0 0 .526.88l4.967 2.674a1 1 0 0 0 .948 0l4.967-2.673a1 1 0 0 0 .526-.88V13.19l-4.647 2.276a3 3 0 0 1-2.64 0z\" clip-rule=\"evenodd\"></path></svg>\n",
    "SSL/TLS</h3>\n",
    "<p>SSL (Secure Sockets Layer) و TLS (Transport Layer Security) پروتکل‌هایی هستند که برای تأمین امنیت ارتباطات در شبکه‌های کامپیوتری، به ویژه در اینترنت، طراحی شده‌اند. این پروتکل‌ها اطمینان حاصل می‌کنند که داده‌های منتقل شده بین کلاینت و سرور به صورت محرمانه، کامل و معتبر باقی می‌مانند. در اینجا یک توضیح مفصل درباره SSL/TLS ارائه شده است.</p>\n",
    "<h5>تاریخچه و تفاوت‌های SSL و TLS</h5>\n",
    "<ol><li><p><strong>SSL</strong>:</p><ul><li><strong>SSL 1.0</strong>: اولین نسخه SSL بود که هرگز منتشر نشد.</li><li><strong>SSL 2.0</strong>: در سال 1995 توسط Netscape معرفی شد اما به دلیل مشکلات امنیتی به سرعت با SSL 3.0 جایگزین شد.</li><li><strong>SSL 3.0</strong>: در سال 1996 معرفی شد و بهبودهای قابل توجهی نسبت به نسخه قبلی داشت. با این حال، همچنان دارای مشکلات امنیتی بود.</li></ul></li><li><p><strong>TLS</strong>:</p><ul><li><strong>TLS 1.0</strong>: به عنوان جایگزینی برای SSL 3.0 در سال 1999 معرفی شد و بر اساس SSL 3.0 توسعه یافت اما بهبودهای امنیتی بیشتری داشت.</li><li><strong>TLS 1.1 و TLS 1.2</strong>: نسخه‌های بعدی TLS بودند که به ترتیب در سال‌های 2006 و 2008 معرفی شدند و هر کدام با بهبودهای امنیتی و کارایی همراه بودند.</li><li><strong>TLS 1.3</strong>: در سال 2018 منتشر شد و تغییرات عمده‌ای در نحوه انجام دست‌دهی (handshake) و دیگر ویژگی‌ها داشت تا امنیت و کارایی را افزایش دهد.</li></ul></li></ol>\n",
    "\n",
    "<h5>نحوه کار SSL/TLS</h5>\n",
    "<p>SSL/TLS شامل سه مرحله اصلی است:</p>\n",
    "<ol><li><p><strong>دست‌دهی (Handshake)</strong>:</p><ul><li><strong>هدف</strong>: ایجاد یک ارتباط امن بین کلاینت و سرور.</li><li><strong>فرآیند</strong>: در طول دست‌دهی، کلاینت و سرور بر روی پارامترهای امنیتی مانند نسخه پروتکل، مجموعه رمزها (cipher suites)، و تبادل کلید (key exchange) توافق می‌کنند. همچنین، سرور گواهی دیجیتال خود را برای تأیید هویت ارسال می‌کند و کلیدهای رمزنگاری مورد نیاز برای ارتباط امن را تولید می‌کنند.</li><li><strong>مراحل</strong>:\n",
    "<ol>\n",
    "<li>\n",
    "مرورگر پیغام ClientHello را به سرور ارسال میکند، در این پیغام موارد زیر ارسال می شوند\n",
    "<ul>\n",
    "<li>نسخه پروتکل TLS که مرورگر استفاده میکند</li>\n",
    "<li>الگوریتم های رمز نگاری که برای هر بخش از دادهها استفاده میکند</li>\n",
    "</ul>\n",
    "</li>\n",
    "<li>\n",
    "سرور با پیام <code>ServerHello</code> پاسخ می‌دهد که شامل موارد زیر است\n",
    "<ul>\n",
    "<li>نسخه انتخابی TLS, که با کلاینت سازگار است </li>\n",
    "<li>لیست الگوریتم های رمز نگاری انتخاب شده از روی الگوریتم های ارسالی مرورگر</li>\n",
    "</ul>\n",
    "</li>\n",
    "<li>\n",
    "<strong>گواهی سرور (Certificate)</strong>: سرور گواهی دیجیتال خود را به مرورگر ارسال می‌کند. این گواهی شامل موارد زیر است \n",
    "<ul>\n",
    "<li>کلید عمومی سرور</li>\n",
    "<li>اطلاعات تأیید هویت دامنه</li>\n",
    "</ul>\n",
    "</li>\n",
    "<li><p><strong>ایجاد و ارسال Pre-Master Secret</strong>: مرورگر یک Pre-Master Secret تولید می‌کند و آن را با استفاده از کلید عمومی سرور رمزنگاری می‌کند. سپس مرورگر این Pre-Master Secret رمزنگاری شده را به سرور ارسال می‌کند.</p></li>\n",
    "<li><p><strong>دریافت و رمزگشایی Pre-Master Secret توسط سرور</strong>: سرور پیام رمزنگاری شده حاوی Pre-Master Secret را دریافت کرده و با استفاده از کلید خصوصی خود آن را رمزگشایی می‌کند تا به Pre-Master Secret دست یابد.</p></li>\n",
    "<li><p><strong>ایجاد Session Key</strong>: هم مرورگر و هم سرور با استفاده از Pre-Master Secret و دیگر اطلاعات تبادل شده در مراحل قبل (مانند nonceها و اطلاعات تبادل شده در ClientHello و ServerHello) کلیدهای رمزنگاری جلسه (Session Keys) را ایجاد می‌کنند. این کلیدهای رمزنگاری مشترک بین مرورگر و سرور هستند، اما نیازی به تبادل مستقیم این کلیدها نیست زیرا هر دو طرف می‌توانند آنها را مستقل از یکدیگر ایجاد کنند.</p></li>\n",
    "<li><p><strong>تأیید و اتمام Handshake</strong>: مرورگر و سرور پیام‌های \"Finished\" را ارسال می‌کنند تا تأیید کنند که Handshake به پایان رسیده و ارتباط امن برقرار شده است.</p></li>\n",
    "\n",
    "<li><p><strong>انتقال داده‌های رمزنگاری شده</strong>: از این به بعد، تمام داده‌های منتقل شده بین مرورگر و سرور با استفاده از Session Key رمزنگاری و رمزگشایی می‌شوند.</p></li>\n",
    "</ol>\n",
    "</li></ul></li><li><p><strong>رمزنگاری داده‌ها (Data Encryption)</strong>:</p><ul><li>پس از دست‌دهی موفق، کلاینت و سرور از کلیدهای توافق شده برای رمزنگاری و رمزگشایی داده‌های ارسال و دریافت شده استفاده می‌کنند.</li><li><strong>تقارن کلید</strong>: برای رمزنگاری داده‌ها از کلید متقارن استفاده می‌شود که سریع‌تر است و برای هر جلسه ارتباطی جدید، کلیدهای جدید تولید می‌شود.</li></ul></li><li><p><strong>خاتمه ارتباط (Connection Termination)</strong>:</p><ul><li>ارتباط امن می‌تواند توسط هر کدام از طرفین خاتمه یابد. برای این کار، یک پیام \"CloseNotify\" ارسال می‌شود که نشان دهنده پایان ارتباط امن است.</li></ul></li></ol>\n",
    "\n",
    "<h5>مفاهیم کلیدی در SSL/TLS</h5>\n",
    "<ol><li><p><strong>گواهی دیجیتال (Digital Certificate)</strong>:</p><ul><li>گواهی دیجیتال یک سند الکترونیکی است که برای تأیید هویت یک موجودیت (معمولاً یک سرور) استفاده می‌شود.</li><li>گواهی شامل اطلاعاتی مانند کلید عمومی، نام صادرکننده گواهی (CA)، و دوره اعتبار گواهی است.</li><li>گواهی‌ها توسط مرجع صدور گواهی (Certificate Authority یا CA) امضا می‌شوند.</li></ul></li><li><p><strong>مجموعه رمزها (Cipher Suites)</strong>:</p><ul><li>مجموعه رمزها ترکیبی از الگوریتم‌های رمزنگاری هستند که برای تأمین امنیت ارتباط استفاده می‌شوند. این شامل الگوریتم‌های تبادل کلید، رمزنگاری، و هش است.</li><li><strong>مثال</strong>: <code>TLS_ECDHE_RSA_WITH_AES_128_GCM_SHA256</code><ul><li><code>ECDHE</code>: الگوریتم تبادل کلید (Elliptic Curve Diffie-Hellman Ephemeral)</li><li><code>RSA</code>: الگوریتم احراز هویت (Rivest–Shamir–Adleman)</li><li><code>AES_128_GCM</code>: الگوریتم رمزنگاری (Advanced Encryption Standard with 128-bit key in Galois/Counter Mode)</li><li><code>SHA256</code>: الگوریتم هش (Secure Hash Algorithm 256-bit)</li></ul></li></ul></li><li><p><strong>کلید عمومی و خصوصی (Public and Private Keys)</strong>:</p><ul><li>کلید عمومی برای رمزنگاری داده‌هایی که فقط با کلید خصوصی قابل رمزگشایی هستند استفاده می‌شود.</li><li>کلید خصوصی برای رمزگشایی داده‌هایی که با کلید عمومی رمزنگاری شده‌اند استفاده می‌شود.</li></ul></li><li><p><strong>رمزنگاری متقارن و نامتقارن (Symmetric and Asymmetric Encryption)</strong>:</p><ul><li><strong>رمزنگاری متقارن</strong>: از یک کلید واحد برای رمزنگاری و رمزگشایی استفاده می‌شود. سریع‌تر است و برای رمزنگاری داده‌ها پس از دست‌دهی استفاده می‌شود.</li><li><strong>رمزنگاری نامتقارن</strong>: از یک جفت کلید (عمومی و خصوصی) استفاده می‌شود. کندتر است و برای تبادل کلید در طول دست‌دهی استفاده می‌شود.</li></ul></li></ol>\n",
    "<h5>امنیت و مزایا</h5>\n",
    "<ol><li><p><strong>محرمانگی (Confidentiality)</strong>:</p><ul><li>داده‌های منتقل شده بین کلاینت و سرور رمزنگاری می‌شوند تا از دسترسی غیرمجاز جلوگیری شود.</li></ul></li><li><p><strong>کامل بودن داده‌ها (Integrity)</strong>:</p><ul><li>تضمین می‌شود که داده‌های منتقل شده در طول ارتباط تغییر نکنند یا دستکاری نشوند. این با استفاده از الگوریتم‌های هش و MAC (Message Authentication Code) انجام می‌شود.</li></ul></li><li><p><strong>احراز هویت (Authentication)</strong>:</p><ul><li>با استفاده از گواهی‌های دیجیتال، کلاینت می‌تواند هویت سرور را تأیید کند و اطمینان حاصل کند که با سرور معتبر ارتباط برقرار کرده است.</li></ul></li></ol>\n",
    "</div>"
   ]
  }
 ],
 "metadata": {
  "kernelspec": {
   "display_name": ".NET (C#)",
   "language": "C#",
   "name": ".net-csharp"
  },
  "language_info": {
   "name": "python"
  },
  "polyglot_notebook": {
   "kernelInfo": {
    "defaultKernelName": "csharp",
    "items": [
     {
      "aliases": [],
      "name": "csharp"
     }
    ]
   }
  }
 },
 "nbformat": 4,
 "nbformat_minor": 2
}
