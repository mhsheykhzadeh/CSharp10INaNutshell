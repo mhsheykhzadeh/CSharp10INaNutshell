{
 "cells": [
  {
   "cell_type": "markdown",
   "metadata": {
    "dotnet_interactive": {
     "language": "csharp"
    },
    "polyglot_notebook": {
     "kernelName": "csharp"
    },
    "vscode": {
     "languageId": "polyglot-notebook"
    }
   },
   "source": [
    "<div dir=\"rtl\" style=\"margin:auto; width:90%; font-family:vazirmatn\">\n",
    "\n",
    "<p>از آنجا که .NET به صورت داخلی از POP3 پشتیبانی نمی‌کند، باید خودتان برنامه‌نویسی سطح TCP را انجام دهید تا بتوانید از سرور POP3 ایمیل دریافت کنید. در ادامه، یک مکالمه POP3 به طور مختصر شرح داده شده است.</p>\n",
    "\n",
    "<h5>مکالمه POP3</h5>\n",
    "<p>در اینجا چگونگی ارتباط یک کلاینت با سرور POP3 به صورت مرحله به مرحله شرح داده شده است:</p>\n",
    "\n",
    "<ol><li><p><strong>اتصال کلاینت به سرور</strong>:</p><ul><li><strong>کلاینت</strong>: به سرور متصل می‌شود.</li><li><strong>سرور</strong>: <code>+OK Hello there.</code></li><li><strong>توضیح</strong>: پیام خوش‌آمدگویی از طرف سرور.</li></ul></li><li><p><strong>احراز هویت کاربر</strong>:</p><ul><li><p><strong>کلاینت</strong>: <code>USER joe</code></p></li><li><p><strong>سرور</strong>: <code>+OK Password required.</code></p></li><li><p><strong>توضیح</strong>: درخواست نام کاربری و رمز عبور.</p></li><li><p><strong>کلاینت</strong>: <code>PASS password</code></p></li><li><p><strong>سرور</strong>: <code>+OK Logged in.</code></p></li><li><p><strong>توضیح</strong>: تایید ورود موفقیت‌آمیز.</p></li></ul></li><li><p><strong>لیست کردن پیام‌ها</strong>:</p><ul><li><strong>کلاینت</strong>: <code>LIST</code></li><li><strong>سرور</strong>:\n",
    "<code>\n",
    "+OK  \n",
    "1 1876  \n",
    "2 5412  \n",
    "3 845  \n",
    ".\n",
    "\n",
    "</code>\n",
    "</li><li><strong>توضیح</strong>: لیست پیام‌ها با شماره ID و اندازه فایل هر پیام.</li></ul></li><li><p><strong>دریافت یک پیام خاص</strong>:</p><ul><li><strong>کلاینت</strong>: <code>RETR 1</code></li><li><strong>سرور</strong>:<code>+OK 1876 octets\n",
    "Content of message #1...\n",
    ".\n",
    "</code> </li><li><strong>توضیح</strong>: دریافت محتوای پیام با شماره ID مشخص شده.</li></ul></li><li><p><strong>حذف یک پیام</strong>:</p><ul><li><strong>کلاینت</strong>: <code>DELE 1</code></li><li><strong>سرور</strong>: <code>+OK Deleted.</code></li><li><strong>توضیح</strong>: حذف پیام با شماره ID مشخص شده.</li></ul></li><li><p><strong>خروج از سرور</strong>:</p><ul><li><strong>کلاینت</strong>: <code>QUIT</code></li><li><strong>سرور</strong>: <code>+OK Bye-bye.</code></li><li><strong>توضیح</strong>: پایان مکالمه و قطع ارتباط.</li></ul></li></ol>\n",
    "</div>"
   ]
  },
  {
   "cell_type": "code",
   "execution_count": null,
   "metadata": {
    "dotnet_interactive": {
     "language": "csharp"
    },
    "polyglot_notebook": {
     "kernelName": "csharp"
    },
    "vscode": {
     "languageId": "polyglot-notebook"
    }
   },
   "outputs": [],
   "source": [
    "using System;\n",
    "using System.Net.Sockets;\n",
    "using System.Text;\n",
    "using System.Threading.Tasks;\n",
    "\n",
    "class Program\n",
    "{\n",
    "    static async Task Main(string[] args)\n",
    "    {\n",
    "        string server = \"pop3.example.com\";\n",
    "        int port = 110;\n",
    "        string user = \"joe\";\n",
    "        string password = \"password\";\n",
    "\n",
    "        using TcpClient client = new TcpClient();\n",
    "        await client.ConnectAsync(server, port);\n",
    "\n",
    "        using NetworkStream stream = client.GetStream();\n",
    "        byte[] buffer = new byte[1024];\n",
    "        int bytesRead;\n",
    "\n",
    "        bytesRead = await stream.ReadAsync(buffer, 0, buffer.Length);\n",
    "        Console.WriteLine(Encoding.ASCII.GetString(buffer, 0, bytesRead));\n",
    "\n",
    "        await SendCommandAsync(stream, $\"USER {user}\\r\\n\");\n",
    "        await ReadResponseAsync(stream);\n",
    "\n",
    "        await SendCommandAsync(stream, $\"PASS {password}\\r\\n\");\n",
    "        await ReadResponseAsync(stream);\n",
    "\n",
    "        await SendCommandAsync(stream, \"LIST\\r\\n\");\n",
    "        await ReadResponseAsync(stream);\n",
    "\n",
    "        await SendCommandAsync(stream, \"RETR 1\\r\\n\");\n",
    "        await ReadResponseAsync(stream);\n",
    "\n",
    "        await SendCommandAsync(stream, \"DELE 1\\r\\n\");\n",
    "        await ReadResponseAsync(stream);\n",
    "\n",
    "        await SendCommandAsync(stream, \"QUIT\\r\\n\");\n",
    "        await ReadResponseAsync(stream);\n",
    "    }\n",
    "\n",
    "    static async Task SendCommandAsync(NetworkStream stream, string command)\n",
    "    {\n",
    "        byte[] buffer = Encoding.ASCII.GetBytes(command);\n",
    "        await stream.WriteAsync(buffer, 0, buffer.Length);\n",
    "    }\n",
    "\n",
    "    static async Task ReadResponseAsync(NetworkStream stream)\n",
    "    {\n",
    "        byte[] buffer = new byte[1024];\n",
    "        int bytesRead = await stream.ReadAsync(buffer, 0, buffer.Length);\n",
    "        Console.WriteLine(Encoding.ASCII.GetString(buffer, 0, bytesRead));\n",
    "    }\n",
    "}\n"
   ]
  }
 ],
 "metadata": {
  "kernelspec": {
   "display_name": ".NET (C#)",
   "language": "C#",
   "name": ".net-csharp"
  },
  "language_info": {
   "name": "python"
  },
  "polyglot_notebook": {
   "kernelInfo": {
    "defaultKernelName": "csharp",
    "items": [
     {
      "aliases": [],
      "name": "csharp"
     }
    ]
   }
  }
 },
 "nbformat": 4,
 "nbformat_minor": 2
}
