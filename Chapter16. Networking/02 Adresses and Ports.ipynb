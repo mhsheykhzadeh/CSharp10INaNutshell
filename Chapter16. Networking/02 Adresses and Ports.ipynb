{
 "cells": [
  {
   "cell_type": "markdown",
   "metadata": {},
   "source": [
    "<div dir=\"rtl\" style=\"margin:auto; width:90%; font-family:vazirmatn\">\n",
    "\n",
    "<h5>IPv4 (Internet Protocol version 4)</h5>\n",
    "<p><strong>تعریف:</strong>\n",
    "IPv4 چهارمین نسخه از پروتکل اینترنت است که برای شناسایی دستگاه‌ها در یک شبکه با استفاده از یک آدرس عددی 32 بیتی استفاده می‌شود.</p>\n",
    "<p><strong>ویژگی‌ها:</strong></p>\n",
    "<ol><li><strong>آدرس‌دهی:</strong> آدرس‌های IPv4 به صورت چهار بخش 8 بیتی (octets) نمایش داده می‌شوند که با نقطه از هم جدا شده‌اند. هر بخش می‌تواند مقداری بین 0 تا 255 داشته باشد. مثلاً: <code>192.168.1.1</code></li><li><strong>طول آدرس:</strong> آدرس‌های IPv4 شامل 32 بیت هستند که به طور نظری 2^32 (حدود 4.3 میلیارد) آدرس منحصر به فرد فراهم می‌کنند.</li><li><strong>هدر بسته:</strong> هدر IPv4 شامل 20 بایت است که شامل اطلاعات مربوط به مسیریابی و کنترل بسته است.</li><li><strong>کلاس‌های آدرس:</strong> IPv4 شامل کلاس‌های مختلف آدرس‌دهی (A, B, C, D, E) است که برای تخصیص آدرس‌ها استفاده می‌شود.</li><li><strong>تخصیص آدرس:</strong> با توجه به رشد سریع اینترنت، تعداد آدرس‌های IPv4 تقریباً به پایان رسیده است.</li></ol>\n",
    "<p><strong>محدودیت‌ها:</strong></p>\n",
    "<ul><li>محدودیت تعداد آدرس‌ها به دلیل 32 بیتی بودن.</li><li>نیاز به NAT (Network Address Translation) برای مدیریت کمبود آدرس‌ها.</li><li>عدم پشتیبانی از برخی قابلیت‌های جدیدتر شبکه‌سازی.</li></ul>\n",
    "\n",
    "<h5>IPv6 (Internet Protocol version 6)</h5>\n",
    "<p><strong>تعریف:</strong>\n",
    "IPv6 ششمین نسخه از پروتکل اینترنت است که برای شناسایی دستگاه‌ها در یک شبکه با استفاده از یک آدرس عددی 128 بیتی استفاده می‌شود.</p>\n",
    "<p><strong>ویژگی‌ها:</strong></p>\n",
    "<ol><li><strong>آدرس‌دهی:</strong> آدرس‌های IPv6 به صورت هشت بخش 16 بیتی (هگزا دسیمال) نمایش داده می‌شوند که با کولن (:) از هم جدا شده‌اند. مثلاً: <code>2001:0db8:85a3:0000:0000:8a2e:0370:7334</code></li><li><strong>طول آدرس:</strong> آدرس‌های IPv6 شامل 128 بیت هستند که به طور نظری 2^128 (یک عدد بسیار بزرگ) آدرس منحصر به فرد فراهم می‌کنند.</li><li><strong>هدر بسته:</strong> هدر IPv6 شامل 40 بایت است و نسبت به IPv4 ساده‌تر و کارآمدتر است.</li><li><strong>پیکربندی خودکار:</strong> IPv6 قابلیت پیکربندی خودکار آدرس‌ها (Stateless Address Autoconfiguration) را دارد که باعث سهولت در مدیریت شبکه می‌شود.</li><li><strong>پشتیبانی از امنیت و کیفیت سرویس:</strong> IPv6 شامل پشتیبانی داخلی از IPsec (برای امنیت) و QoS (برای کیفیت سرویس) است.</li></ol>\n",
    "\n",
    "<p><strong>مزایا:</strong></p>\n",
    "<ul><li>فضای آدرس‌دهی بسیار بزرگتر.</li><li>بهبود کارایی مسیریابی و مدیریت شبکه.</li><li>حذف نیاز به NAT.</li><li>پشتیبانی بهتر از قابلیت‌های جدید شبکه مانند موبایل و IoT.</li></ul>\n",
    "\n",
    "<h5>تفاوت‌های اصلی بین IPv4 و IPv6</h5>\n",
    "<ol><li><p><strong>طول آدرس:</strong></p><ul><li><strong>IPv4:</strong> 32 بیت، حدود 4.3 میلیارد آدرس.</li><li><strong>IPv6:</strong> 128 بیت، تعداد بسیار زیاد آدرس.</li></ul></li><li><p><strong>فرمت آدرس:</strong></p><ul><li><strong>IPv4:</strong> نقطه‌گذاری دهدهی (مانند <code>192.168.1.1</code>).</li><li><strong>IPv6:</strong> هگزا دسیمال با کولن (مانند <code>2001:0db8:85a3:0000:0000:8a2e:0370:7334</code>).</li></ul></li><li><p><strong>پیکربندی آدرس:</strong></p><ul><li><strong>IPv4:</strong> معمولاً دستی یا از طریق DHCP.</li><li><strong>IPv6:</strong> پیکربندی خودکار (Stateless Address Autoconfiguration) یا DHCPv6.</li></ul></li><li><p><strong>هدر بسته:</strong></p><ul><li><strong>IPv4:</strong> 20 بایت، پیچیده‌تر.</li><li><strong>IPv6:</strong> 40 بایت، ساده‌تر و کارآمدتر.</li></ul></li><li><p><strong>امنیت:</strong></p><ul><li><strong>IPv4:</strong> نیاز به افزونه‌ها برای IPsec.</li><li><strong>IPv6:</strong> پشتیبانی داخلی از IPsec.</li></ul></li><li><p><strong>NAT:</strong></p><ul><li><strong>IPv4:</strong> نیاز به NAT برای مدیریت کمبود آدرس‌ها.</li><li><strong>IPv6:</strong> نیازی به NAT ندارد.</li></ul></li></ol>\n",
    "</div>"
   ]
  },
  {
   "cell_type": "markdown",
   "metadata": {},
   "source": [
    "The `IPAddress` class in the `System.Net` namespace represents an address in ***either protocol***."
   ]
  },
  {
   "cell_type": "code",
   "execution_count": 3,
   "metadata": {
    "dotnet_interactive": {
     "language": "csharp"
    },
    "polyglot_notebook": {
     "kernelName": "csharp"
    },
    "vscode": {
     "languageId": "polyglot-notebook"
    }
   },
   "outputs": [
    {
     "name": "stdout",
     "output_type": "stream",
     "text": [
      "True\n",
      "InterNetwork\n",
      "InterNetwork\n"
     ]
    }
   ],
   "source": [
    "using System.Net;\n",
    "\n",
    "IPAddress a1 = new IPAddress (new byte[] { 101, 102, 103, 104 });\n",
    "IPAddress a2 = IPAddress.Parse (\"101.102.103.104\");\n",
    "Console.WriteLine (a1.Equals (a2)); // True\n",
    "\n",
    "Console.WriteLine (a1.AddressFamily); // InterNetwork\n",
    "\n",
    "IPAddress a3 = IPAddress.Parse(\"[3EA0:FFFF:198A:E4A3:4FF2:54fA:41BC:8D31]\");\n",
    "Console.WriteLine (a3.AddressFamily); // InterNetworkV6"
   ]
  },
  {
   "cell_type": "markdown",
   "metadata": {},
   "source": [
    "The `TCP` and `UDP` protocols break out each IP address into `65,535` **ports**, allowing a computer on a `single address` to `run multiple applications`, each on its own port."
   ]
  },
  {
   "cell_type": "markdown",
   "metadata": {},
   "source": [
    "An `IP address` and `port` **combination** is represented in .NET by the `IPEndPoint`\n",
    "class:"
   ]
  },
  {
   "cell_type": "code",
   "execution_count": null,
   "metadata": {
    "dotnet_interactive": {
     "language": "csharp"
    },
    "polyglot_notebook": {
     "kernelName": "csharp"
    },
    "vscode": {
     "languageId": "polyglot-notebook"
    }
   },
   "outputs": [],
   "source": [
    "using System.Net;\n",
    "\n",
    "IPAddress a = IPAddress.Parse (\"101.102.103.104\");\n",
    "IPEndPoint ep = new IPEndPoint (a, 222); // Port 222\n",
    "Console.WriteLine (ep.ToString()); // 101.102.103.104:222\n"
   ]
  }
 ],
 "metadata": {
  "kernelspec": {
   "display_name": ".NET (C#)",
   "language": "C#",
   "name": ".net-csharp"
  },
  "language_info": {
   "name": "python"
  },
  "polyglot_notebook": {
   "kernelInfo": {
    "defaultKernelName": "csharp",
    "items": [
     {
      "aliases": [],
      "name": "csharp"
     }
    ]
   }
  }
 },
 "nbformat": 4,
 "nbformat_minor": 2
}
