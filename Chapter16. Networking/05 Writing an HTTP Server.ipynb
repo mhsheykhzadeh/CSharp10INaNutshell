{
 "cells": [
  {
   "cell_type": "markdown",
   "metadata": {},
   "source": [
    "You can write **your own** `.NET HTTP server` with the `HttpListener` class."
   ]
  },
  {
   "cell_type": "code",
   "execution_count": null,
   "metadata": {
    "dotnet_interactive": {
     "language": "csharp"
    },
    "polyglot_notebook": {
     "kernelName": "csharp"
    },
    "vscode": {
     "languageId": "polyglot-notebook"
    }
   },
   "outputs": [],
   "source": [
    "//simple server that listens on port 51111\n",
    "//waits for a single client\n",
    "//request, and then returns a one-line reply\n",
    "\n",
    "using System.Net;\n",
    "using System.Net.Http;\n",
    "using System.Text;\n",
    "using System.IO;\n",
    "\n",
    "\n",
    "public class SimpleHttpServer : IDisposable\n",
    "{\n",
    "    private readonly HttpListener listener = new HttpListener();\n",
    "\n",
    "    public SimpleHttpServer() => ListenAsync();\n",
    "\n",
    "    private async void ListenAsync()\n",
    "    {\n",
    "        listener.Prefixes.Add(\"http://localhost:51111/MyApp/\"); // Listen on\n",
    "        listener.Start(); // port 51111\n",
    "                          // Await a client request:\n",
    "        HttpListenerContext context = await listener.GetContextAsync();\n",
    "        // Respond to the request:\n",
    "        string msg = \"You asked for: \" + context.Request.RawUrl;\n",
    "        context.Response.ContentLength64 = Encoding.UTF8.GetByteCount(msg);\n",
    "        context.Response.StatusCode = (int)HttpStatusCode.OK;\n",
    "        using (Stream s = context.Response.OutputStream)\n",
    "        using (StreamWriter writer = new StreamWriter(s))\n",
    "            await writer.WriteAsync(msg);\n",
    "    }\n",
    "\n",
    "    public void Dispose() => listener.Close();\n",
    "}\n",
    "\n",
    "using (var server = new SimpleHttpServer())\n",
    "{\n",
    "    // Make a client request:\n",
    "    Console.WriteLine (await new HttpClient().GetStringAsync\n",
    "        (\"http://localhost:51111/MyApp/Request.txt\"));\n",
    "}"
   ]
  },
  {
   "cell_type": "markdown",
   "metadata": {},
   "source": [
    "<div dir=\"rtl\" style=\"margin:auto; width:90%; font-family:vazirmatn\">\n",
    "<p><code>HttpListener</code> چگونه در ویندوز کار می‌کند و چه مزایایی دارد:</p>\n",
    "<ol><li><p><strong>استفاده از Windows HTTP Server API</strong>:</p><ul><li><code>HttpListener</code> به جای استفاده از اشیاء <code>Socket</code> در .NET، از Windows HTTP Server API استفاده می‌کند.</li><li>این امر باعث می‌شود که <code>HttpListener</code> بتواند به طور مستقیم با امکانات بومی ویندوز برای مدیریت درخواست‌های HTTP تعامل داشته باشد.</li></ul></li><li><p><strong>گوش دادن به یک پورت با پیشوندهای مختلف</strong>:</p><ul><li>این معماری اجازه می‌دهد که چندین برنامه بتوانند بر روی یک پورت و IP مشابه گوش دهند، به شرطی که هر یک پیشوند آدرس (prefix) متفاوتی را ثبت کنند.</li><li>به عنوان مثال، در کد ما، پیشوند <code>http://localhost:51111/MyApp/</code> ثبت شده است. برنامه دیگری می‌تواند با پیشوند <code>http://localhost:51111/AnotherApp/</code> بر روی همان پورت و IP گوش دهد.</li></ul></li><li><p><strong>مزیت در محیط‌های شرکتی</strong>:</p><ul><li>این ویژگی به ویژه در محیط‌های شرکتی مفید است، زیرا باز کردن پورت‌های جدید در فایروال‌های شرکتی ممکن است با مشکلات سیاسی و امنیتی مواجه شود.</li><li>با این روش، برنامه‌های مختلف می‌توانند از پورت‌های موجود استفاده کنند بدون نیاز به درخواست باز کردن پورت‌های جدید.</li></ul></li></ol>\n",
    "\n",
    "<p> با استفاده از مکانیزم <code>HttpListener</code> و پشتیبانی از Windows HTTP Server API، شما می‌توانید یک وب‌سایت در IIS تعریف کنید که به درخواست‌هایی مثل <code>https://myserverdomain.com/iisapp</code> گوش دهد و همزمان یک اپلیکیشن جداگانه‌ای بنویسید که با استفاده از <code>HttpListener</code> به درخواست‌هایی که به URL دیگری مانند <code>https://myserverdomain.com/myapp</code> ارسال می‌شوند، گوش دهد.</p>\n",
    "</div>"
   ]
  },
  {
   "cell_type": "code",
   "execution_count": null,
   "metadata": {
    "dotnet_interactive": {
     "language": "csharp"
    },
    "polyglot_notebook": {
     "kernelName": "csharp"
    },
    "vscode": {
     "languageId": "polyglot-notebook"
    }
   },
   "outputs": [],
   "source": [
    "using System;\n",
    "using System.Net;\n",
    "using System.Text;\n",
    "using System.Threading.Tasks;\n",
    "using System.IO;\n",
    "\n",
    "public class SimpleHttpServer : IDisposable\n",
    "{\n",
    "    private readonly HttpListener listener = new HttpListener();\n",
    "\n",
    "    public SimpleHttpServer() => ListenAsync();\n",
    "\n",
    "    private async void ListenAsync()\n",
    "    {\n",
    "        listener.Prefixes.Add(\"https://myserverdomain.com/myapp/\");\n",
    "        listener.Start();\n",
    "\n",
    "        while (true)\n",
    "        {\n",
    "            // Await a client request:\n",
    "            HttpListenerContext context = await listener.GetContextAsync();\n",
    "            // Respond to the request:\n",
    "            string msg = \"You asked for: \" + context.Request.RawUrl;\n",
    "            context.Response.ContentLength64 = Encoding.UTF8.GetByteCount(msg);\n",
    "            context.Response.StatusCode = (int)HttpStatusCode.OK;\n",
    "            using (Stream s = context.Response.OutputStream)\n",
    "            using (StreamWriter writer = new StreamWriter(s))\n",
    "                await writer.WriteAsync(msg);\n",
    "        }\n",
    "    }\n",
    "\n",
    "    public void Dispose() => listener.Close();\n",
    "}\n",
    "\n",
    "class Program\n",
    "{\n",
    "    static void Main()\n",
    "    {\n",
    "        using (var server = new SimpleHttpServer())\n",
    "        {\n",
    "            Console.WriteLine(\"Server is running... Press Enter to stop.\");\n",
    "            Console.ReadLine();\n",
    "        }\n",
    "    }\n",
    "}\n"
   ]
  }
 ],
 "metadata": {
  "kernelspec": {
   "display_name": ".NET (C#)",
   "language": "C#",
   "name": ".net-csharp"
  },
  "language_info": {
   "name": "python"
  },
  "polyglot_notebook": {
   "kernelInfo": {
    "defaultKernelName": "csharp",
    "items": [
     {
      "aliases": [],
      "name": "csharp"
     }
    ]
   }
  }
 },
 "nbformat": 4,
 "nbformat_minor": 2
}
