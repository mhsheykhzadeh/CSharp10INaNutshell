{
 "cells": [
  {
   "cell_type": "markdown",
   "metadata": {
    "dotnet_interactive": {
     "language": "csharp"
    },
    "polyglot_notebook": {
     "kernelName": "csharp"
    }
   },
   "source": [
    "The `HttpClient` class exposes a `modern API for HTTP client operations`, ***replacing*** the old `WebClient` and `WebRequest/WebResponse` types"
   ]
  },
  {
   "cell_type": "markdown",
   "metadata": {},
   "source": [
    "In particular:  \n",
    "- A single `HttpClient` instance can `handle concurrent requests` and plays well\n",
    "with features such as **custom** `headers`, `cookies`, and `authentication` schemes.  \n",
    "\n",
    "- `HttpClient` lets you write and plug in `custom message handlers`. This enables\n",
    "***mocking*** in **unit tests**, and the `creation of custom pipelines` (for logging, compression, encryption, and so on).  \n",
    "\n",
    "-`HttpClient` has a **rich and extensible** type system for `headers` and `content`."
   ]
  },
  {
   "cell_type": "markdown",
   "metadata": {},
   "source": [
    "to get the `best performance` with ***HttpClient***, you must `reuse the same instance`"
   ]
  },
  {
   "cell_type": "code",
   "execution_count": null,
   "metadata": {
    "dotnet_interactive": {
     "language": "csharp"
    },
    "polyglot_notebook": {
     "kernelName": "csharp"
    },
    "vscode": {
     "languageId": "polyglot-notebook"
    }
   },
   "outputs": [],
   "source": [
    "using System.Net.Http;\n",
    "\n",
    "var client = new HttpClient();\n",
    "\n",
    "var task1 = client.GetStringAsync (\"http://www.linqpad.net\");\n",
    "var task2 = client.GetStringAsync (\"http://www.albahari.com\");\n",
    "\n",
    "Console.WriteLine (await task1);\n",
    "Console.WriteLine (await task2);"
   ]
  },
  {
   "cell_type": "markdown",
   "metadata": {},
   "source": [
    "***HttpClient*** has a `Timeout` property and a `BaseAddress` property, which **prefixes** a URI to `every request`."
   ]
  },
  {
   "cell_type": "code",
   "execution_count": null,
   "metadata": {
    "dotnet_interactive": {
     "language": "csharp"
    },
    "polyglot_notebook": {
     "kernelName": "csharp"
    },
    "vscode": {
     "languageId": "polyglot-notebook"
    }
   },
   "outputs": [],
   "source": [
    "//most of settings finds in HttpClientHandler\n",
    "using System.Net.Http;\n",
    "\n",
    "var handler = new HttpClientHandler { UseProxy = false };\n",
    "var client = new HttpClient (handler);"
   ]
  },
  {
   "cell_type": "markdown",
   "metadata": {},
   "source": [
    "### GetAsync and Response Messages"
   ]
  },
  {
   "cell_type": "code",
   "execution_count": null,
   "metadata": {
    "dotnet_interactive": {
     "language": "csharp"
    },
    "polyglot_notebook": {
     "kernelName": "csharp"
    },
    "vscode": {
     "languageId": "polyglot-notebook"
    }
   },
   "outputs": [],
   "source": [
    "using System.Net.Http;\n",
    "using System.IO;\n",
    "\n",
    "var client = new HttpClient();\n",
    "HttpResponseMessage response = await client.GetAsync (\"http://...\");\n",
    "response.EnsureSuccessStatusCode();// if not success throw exception\n",
    "string html = await response.Content.ReadAsStringAsync();\n",
    "\n",
    "//HttpContent has a CopyToAsync method for writing to another stream\n",
    "using (var fileStream = File.Create (\"linqpad.html\"))\n",
    "await response.Content.CopyToAsync (fileStream);"
   ]
  },
  {
   "cell_type": "markdown",
   "metadata": {},
   "source": [
    "`GetAsync` is one of **four methods** corresponding to HTTP’s four verbs (the others\n",
    "are `PostAsync`, `PutAsync`, and `DeleteAsync`)."
   ]
  },
  {
   "cell_type": "markdown",
   "metadata": {},
   "source": [
    "The `GetStringAsync`, `GetByteArrayAsync`, and `GetStreamAsync` methods are convenient ***shortcuts*** for calling the more `general GetAsync method`, which returns a `response message`:"
   ]
  },
  {
   "cell_type": "markdown",
   "metadata": {},
   "source": [
    "### SendAsync and Request Messages"
   ]
  },
  {
   "cell_type": "markdown",
   "metadata": {},
   "source": [
    "`SendAsync` is **low-level method** for send http requests. for use this method you first construct an `HttpRequestMessage`"
   ]
  },
  {
   "cell_type": "code",
   "execution_count": null,
   "metadata": {
    "dotnet_interactive": {
     "language": "csharp"
    },
    "polyglot_notebook": {
     "kernelName": "csharp"
    },
    "vscode": {
     "languageId": "polyglot-notebook"
    }
   },
   "outputs": [],
   "source": [
    "using System.Net.Http;\n",
    "\n",
    "var client = new HttpClient();\n",
    "var request = new HttpRequestMessage (HttpMethod.Get, \"http://...\");\n",
    "HttpResponseMessage response = await client.SendAsync (request);\n",
    "response.EnsureSuccessStatusCode();\n",
    "string html = await response.Content.ReadAsStringAsync();"
   ]
  },
  {
   "cell_type": "markdown",
   "metadata": {},
   "source": [
    "`GetAsync`, `PostAsync`, `PutAsync`, and `DeleteAsync` are all **shortcuts** for calling ***SendAsync***"
   ]
  },
  {
   "cell_type": "markdown",
   "metadata": {},
   "source": [
    "### Uploading Data and HttpContent"
   ]
  },
  {
   "cell_type": "markdown",
   "metadata": {},
   "source": [
    "After instantiating a `HttpRequestMessage` object, you can upload content by assigning its `Content` property.  \n",
    "The type for this property is an ***abstract class*** called `HttpContent`.  \n",
    "  \n",
    ".NET includes the following concrete **subclasses** for `different kinds of content` (you can also write `your own`):  \n",
    "- `ByteArrayContent`\n",
    "- `StringContent`\n",
    "- `FormUrlEncodedContent` \n",
    "- `StreamContent`"
   ]
  },
  {
   "cell_type": "code",
   "execution_count": null,
   "metadata": {
    "dotnet_interactive": {
     "language": "csharp"
    },
    "polyglot_notebook": {
     "kernelName": "csharp"
    },
    "vscode": {
     "languageId": "polyglot-notebook"
    }
   },
   "outputs": [],
   "source": [
    "using System.Net.Http;\n",
    "\n",
    "var client = new HttpClient (new HttpClientHandler { UseProxy = false });\n",
    "var request = new HttpRequestMessage (\n",
    "HttpMethod.Post, \"http://www.albahari.com/EchoPost.aspx\");\n",
    "request.Content = new StringContent (\"This is a test\");\n",
    "HttpResponseMessage response = await client.SendAsync (request);\n",
    "response.EnsureSuccessStatusCode();\n",
    "Console.WriteLine (await response.Content.ReadAsStringAsync());"
   ]
  },
  {
   "cell_type": "markdown",
   "metadata": {},
   "source": [
    "### HttpMessageHandler"
   ]
  },
  {
   "cell_type": "markdown",
   "metadata": {},
   "source": [
    "most of the properties for customizing requests are defined **not in HttpClient** but in `HttpClientHandler`.  \n",
    "  \n",
    "`HttpClientHandler` is **subclass** of `HttpMessageHandler` that is **abstract class**"
   ]
  },
  {
   "cell_type": "code",
   "execution_count": null,
   "metadata": {
    "dotnet_interactive": {
     "language": "csharp"
    },
    "polyglot_notebook": {
     "kernelName": "csharp"
    },
    "vscode": {
     "languageId": "polyglot-notebook"
    }
   },
   "outputs": [],
   "source": [
    "using System.Net.Http;\n",
    "using System.Threading;\n",
    "\n",
    "public abstract class HttpMessageHandler : IDisposable\n",
    "{\n",
    "    protected internal abstract Task<HttpResponseMessage> SendAsync\n",
    "        (HttpRequestMessage request, CancellationToken cancellationToken);\n",
    "    public void Dispose(){}\n",
    "    protected virtual void Dispose (bool disposing){}\n",
    "}"
   ]
  },
  {
   "cell_type": "markdown",
   "metadata": {},
   "source": [
    "<div dir=\"rtl\" style=\"margin:auto; width:90%; font-family:vazirmatn\">\n",
    "<p><code>HttpClientHandler</code> زیرکلاسی از <code>HttpMessageHandler</code> است که برای پیکربندی درخواست‌های HTTP استفاده می‌شود. بیشتر ویژگی‌های سفارشی‌سازی درخواست‌ها در این کلاس تعریف شده‌اند، نه در <code>HttpClient</code>.</p>\n",
    "<h5>نحوه استفاده در <code>HttpClient</code></h5>\n",
    "<ul><li>متد <code>SendAsync</code> در کلاس <code>HttpClient</code> در واقع متد <code>SendAsync</code> کلاس <code>HttpMessageHandler</code> را فراخوانی می‌کند. این ساختار اجازه می‌دهد تا کلاس‌های مختلفی را برای مدیریت درخواست‌ها ایجاد و از آنها استفاده کنید.</li><li>کلاس <code>HttpMessageHandler</code> یک نقطه گسترش (Extensibility Point) را فراهم می‌کند که با استفاده از آن می‌توانید رفتار پیش‌فرض <code>HttpClient</code> را تغییر دهید.</li></ul>\n",
    "</div>"
   ]
  },
  {
   "cell_type": "markdown",
   "metadata": {},
   "source": [
    "#### Unit testing and mocking"
   ]
  },
  {
   "cell_type": "markdown",
   "metadata": {},
   "source": [
    "<div dir=\"rtl\" style=\"margin:auto; width:90%; font-family:vazirmatn\">\n",
    "<p>در تست‌های واحد، می‌توان از <code>HttpMessageHandler</code> برای ساخت یک mock از درخواست‌های HTTP استفاده کرد. این کار به شما اجازه می‌دهد تا بدون نیاز به انجام درخواست‌های واقعی، رفتار درخواست‌های HTTP را شبیه‌سازی و تست کنید.</p>\n",
    "</div>"
   ]
  },
  {
   "cell_type": "code",
   "execution_count": null,
   "metadata": {
    "dotnet_interactive": {
     "language": "csharp"
    },
    "polyglot_notebook": {
     "kernelName": "csharp"
    },
    "vscode": {
     "languageId": "polyglot-notebook"
    }
   },
   "outputs": [],
   "source": [
    "using System;\n",
    "using System.Net;\n",
    "using System.Net.Http;\n",
    "using System.Threading;\n",
    "using System.Threading.Tasks;\n",
    "using Xunit;\n",
    "\n",
    "public class MockHttpMessageHandler : HttpMessageHandler\n",
    "{\n",
    "    private readonly Func<HttpRequestMessage, HttpResponseMessage> _sendAsync;\n",
    "\n",
    "    public MockHttpMessageHandler(Func<HttpRequestMessage, HttpResponseMessage> sendAsync)\n",
    "    {\n",
    "        _sendAsync = sendAsync ?? throw new ArgumentNullException(nameof(sendAsync));\n",
    "    }\n",
    "\n",
    "    protected override Task<HttpResponseMessage> SendAsync(HttpRequestMessage request, CancellationToken cancellationToken)\n",
    "    {\n",
    "        HttpResponseMessage response = _sendAsync(request);\n",
    "        return Task.FromResult(response);\n",
    "    }\n",
    "}\n",
    "\n",
    "var mockHandler = new MockHttpMessageHandler(request =>\n",
    "{\n",
    "    return new HttpResponseMessage(HttpStatusCode.OK)\n",
    "    {\n",
    "        Content = new StringContent(\"{\\\"message\\\": \\\"Hello, World!\\\"}\", System.Text.Encoding.UTF8, \"application/json\")\n",
    "    };\n",
    "});\n",
    "// ایجاد یک HttpClient با استفاده از MockHttpMessageHandler\n",
    "var client = new HttpClient(mockHandler);\n",
    "\n",
    " // انجام یک درخواست GET\n",
    " var response = await client.GetAsync(\"https://example.com/api/message\");\n",
    "\n",
    " // بررسی پاسخ\n",
    "response.EnsureSuccessStatusCode();\n",
    "var content = await response.Content.ReadAsStringAsync();\n",
    "\n",
    "Assert.Equal(\"{\\\"message\\\": \\\"Hello, World!\\\"}\", content);"
   ]
  },
  {
   "cell_type": "markdown",
   "metadata": {},
   "source": [
    "#### Chaining handlers with DelegatingHandler"
   ]
  },
  {
   "cell_type": "markdown",
   "metadata": {},
   "source": [
    "You can create a message handler that `calls another` (resulting in a chain of handlers) by subclassing `DelegatingHandler`. You can use this to ***implement custom*** `authentication`, `compression`, and `encryption` protocols."
   ]
  },
  {
   "cell_type": "code",
   "execution_count": null,
   "metadata": {
    "vscode": {
     "languageId": "polyglot-notebook"
    }
   },
   "outputs": [],
   "source": [
    "using System;\n",
    "using System.Net.Http;\n",
    "using System.Threading;\n",
    "using System.Threading.Tasks;\n",
    "\n",
    "// هندلر برای اضافه کردن هدر سفارشی\n",
    "public class AddHeaderHandler : DelegatingHandler\n",
    "{\n",
    "    protected override async Task<HttpResponseMessage> SendAsync(HttpRequestMessage request, CancellationToken cancellationToken)\n",
    "    {\n",
    "        request.Headers.Add(\"X-Custom-Header\", \"MyCustomValue\");\n",
    "        return await base.SendAsync(request, cancellationToken);\n",
    "    }\n",
    "}\n",
    "\n",
    "// هندلر برای لاگ کردن درخواست‌ها\n",
    "public class LogRequestHandler : DelegatingHandler\n",
    "{\n",
    "    protected override async Task<HttpResponseMessage> SendAsync(HttpRequestMessage request, CancellationToken cancellationToken)\n",
    "    {\n",
    "        Console.WriteLine($\"Request: {request}\");\n",
    "        return await base.SendAsync(request, cancellationToken);\n",
    "    }\n",
    "}\n",
    "\n",
    "// هندلر برای لاگ کردن پاسخ‌ها\n",
    "public class LogResponseHandler : DelegatingHandler\n",
    "{\n",
    "    protected override async Task<HttpResponseMessage> SendAsync(HttpRequestMessage request, CancellationToken cancellationToken)\n",
    "    {\n",
    "        HttpResponseMessage response = await base.SendAsync(request, cancellationToken);\n",
    "        Console.WriteLine($\"Response: {response}\");\n",
    "        return response;\n",
    "    }\n",
    "}\n",
    "\n",
    "// استفاده از هندلرها به صورت زنجیره‌ای\n",
    "public class Program\n",
    "{\n",
    "    public static async Task Main(string[] args)\n",
    "    {\n",
    "        // ایجاد هندلرهای زنجیره‌ای\n",
    "        var addHeaderHandler = new AddHeaderHandler\n",
    "        {\n",
    "            InnerHandler = new LogRequestHandler\n",
    "            {\n",
    "                InnerHandler = new LogResponseHandler\n",
    "                {\n",
    "                    InnerHandler = new HttpClientHandler()\n",
    "                }\n",
    "            }\n",
    "        };\n",
    "\n",
    "        // ایجاد HttpClient با استفاده از هندلرهای زنجیره‌ای\n",
    "        var client = new HttpClient(addHeaderHandler);\n",
    "\n",
    "        // ارسال درخواست\n",
    "        var response = await client.GetAsync(\"https://jsonplaceholder.typicode.com/posts/1\");\n",
    "\n",
    "        // نمایش پاسخ\n",
    "        string responseBody = await response.Content.ReadAsStringAsync();\n",
    "        Console.WriteLine($\"Response Body: {responseBody}\");\n",
    "    }\n",
    "}\n"
   ]
  },
  {
   "cell_type": "markdown",
   "metadata": {},
   "source": [
    "### Proxies"
   ]
  },
  {
   "cell_type": "markdown",
   "metadata": {},
   "source": [
    "A `proxy server` is an ***intermediary(واسطه)*** through which ***HTTP requests*** can be `routed`."
   ]
  },
  {
   "cell_type": "markdown",
   "metadata": {},
   "source": [
    "<div dir=\"rtl\" style=\"margin:auto; width:90%; font-family:vazirmatn\">\n",
    "\n",
    "<p>پراکسی سرورها نقش واسط بین کاربران و منابع اینترنتی را ایفا می‌کنند و می‌توانند عملکردهای مختلفی داشته باشند. در درخواست‌های HTTP، پراکسی سرورها به طرق مختلف می‌توانند عمل کنند:</p>\n",
    "<ol><li><p><strong>واسطه‌گری و بازپخش درخواست‌ها (Forward Proxy)</strong>:</p><ul><li>زمانی که یک کاربر درخواست HTTP (مثل درخواست برای مشاهده یک وب‌سایت) را ارسال می‌کند، این درخواست ابتدا به پراکسی سرور ارسال می‌شود.</li><li>پراکسی سرور سپس درخواست را به سرور مقصد (مثلاً سرور وب‌سایت) ارسال می‌کند.</li><li>پاسخ دریافتی از سرور مقصد ابتدا به پراکسی سرور برمی‌گردد و سپس پراکسی سرور پاسخ را به کاربر نهایی ارسال می‌کند.</li></ul></li><li><p><strong>حفظ امنیت و حریم خصوصی</strong>:</p><ul><li>پراکسی سرور می‌تواند اطلاعات هویتی کاربر (مثل آدرس IP) را مخفی کند و به این ترتیب امنیت و حریم خصوصی کاربر را افزایش دهد.</li><li>برخی از پراکسی سرورها می‌توانند درخواست‌ها را رمزنگاری کنند و به این ترتیب از اطلاعات کاربران در برابر حملات میان‌راهی (Man-in-the-middle Attacks) محافظت کنند.</li></ul></li><li><p><strong>کشینگ (Caching)</strong>:</p><ul><li>پراکسی سرورها می‌توانند محتواهای درخواست‌شده را در حافظه خود ذخیره کنند. در صورتی که درخواست مشابهی در آینده دریافت شود، پراکسی سرور می‌تواند پاسخ را از حافظه خود ارسال کند بدون اینکه نیاز به ارسال مجدد درخواست به سرور مقصد باشد.</li><li>این ویژگی می‌تواند سرعت دسترسی به منابع را افزایش دهد و ترافیک شبکه را کاهش دهد.</li></ul></li><li><p><strong>فیلترینگ محتوا</strong>:</p><ul><li>پراکسی سرورها می‌توانند به عنوان فیلتر عمل کنند و دسترسی به برخی وب‌سایت‌ها یا محتواهای خاص را مسدود کنند. این ویژگی معمولاً در محیط‌های سازمانی یا آموزشی برای کنترل دسترسی کاربران به اینترنت استفاده می‌شود.</li></ul></li><li><p><strong>کنترل دسترسی</strong>:</p><ul><li>پراکسی سرورها می‌توانند دسترسی به اینترنت را براساس سیاست‌های مختلف (مثلاً محدود کردن دسترسی براساس زمان، نوع محتوا، یا هویت کاربر) کنترل کنند.</li></ul></li><li><p><strong>بالانس بار (Load Balancing)</strong>:</p><ul><li>برخی پراکسی سرورها می‌توانند درخواست‌ها را به چندین سرور مختلف توزیع کنند تا بار ترافیکی به طور مساوی بین سرورها تقسیم شود و عملکرد کلی شبکه بهبود یابد.</li></ul></li><li><p><strong>فشرده‌سازی داده‌ها</strong>:</p><ul><li>پراکسی سرورها می‌توانند داده‌های HTTP را قبل از ارسال به کاربر فشرده کنند، که این امر می‌تواند باعث کاهش حجم داده‌های انتقالی و افزایش سرعت انتقال شود.</li></ul></li></ol>\n",
    "\n",
    "</div>"
   ]
  },
  {
   "cell_type": "markdown",
   "metadata": {},
   "source": [
    "To use a **proxy** with ***HttpClient***, first create an `HttpClientHandler` and assign its `Proxy property` and then feed that into `HttpClient’s constructor`"
   ]
  },
  {
   "cell_type": "code",
   "execution_count": 1,
   "metadata": {
    "vscode": {
     "languageId": "polyglot-notebook"
    }
   },
   "outputs": [],
   "source": [
    "using System.Net;\n",
    "using System.Net.Http;\n",
    "\n",
    "// فرض کنید یک سازمان هستیم که می خواهیم دسترسی به انترنت را \n",
    "// فقط از طریق پراکسی محیا کنیم\n",
    "WebProxy p = new WebProxy (\"192.178.10.49\", 808);\n",
    "p.Credentials = new NetworkCredential (\"username\", \"password\", \"domain\");\n",
    "\n",
    "var handler = new HttpClientHandler { Proxy = p };\n",
    "var client = new HttpClient (handler);"
   ]
  },
  {
   "cell_type": "markdown",
   "metadata": {},
   "source": [
    "### Authentication"
   ]
  },
  {
   "cell_type": "code",
   "execution_count": null,
   "metadata": {
    "vscode": {
     "languageId": "polyglot-notebook"
    }
   },
   "outputs": [],
   "source": [
    "using System.Net;\n",
    "using System.Net.Http;\n",
    "\n",
    "// You can supply a username and password to an HttpClient as follows:\n",
    "\n",
    "string username = \"myuser\";\n",
    "string password = \"mypassword\";\n",
    "\n",
    "var handler = new HttpClientHandler();\n",
    "handler.Credentials = new NetworkCredential (username, password);\n",
    "\n",
    "var client = new HttpClient (handler);"
   ]
  },
  {
   "cell_type": "markdown",
   "metadata": {},
   "source": [
    "This works with ***dialog-based*** authentication protocols, such as `Basic` and `Digest`, and is extensible through the `AuthenticationManager` class.  \n",
    "  \n",
    "It also supports `Windows NTLM` and `Kerberos` (if you include a `domain name` when constructing the `NetworkCredential` object)."
   ]
  },
  {
   "cell_type": "markdown",
   "metadata": {},
   "source": [
    "<div dir=\"rtl\" style=\"margin:auto; width:90%; font-family:vazirmatn\">\n",
    "<p> وقتی شما <code>HttpClient</code> را با اعتبارنامه‌ها تنظیم می‌کنید، فرآیند به این صورت است:</p>\n",
    "\n",
    "<ol><li><strong>ارسال درخواست اولیه</strong>: <code>HttpClient</code> یک درخواست اولیه به سرور ارسال می‌کند تا منابع مورد نظر را درخواست کند.</li><li><strong>پاسخ سرور</strong>: اگر منبع نیاز به احراز هویت داشته باشد و اعتبارنامه‌های معتبر در درخواست اولیه وجود نداشته باشد، سرور با یک پاسخ 401 Unauthorized پاسخ می‌دهد و در هدرهای پاسخ (مانند WWW-Authenticate) پروتکل‌های احراز هویت مورد قبول خود را اعلام می‌کند.</li><li><strong>مذاکره پروتکل</strong>: <code>HttpClient</code> این هدرها را بررسی می‌کند و پروتکل‌های احراز هویت پشتیبانی شده توسط سرور را شناسایی می‌کند.</li><li><strong>ارسال درخواست احراز هویت شده</strong>: <code>HttpClient</code> یکی از پروتکل‌های پشتیبانی شده را انتخاب می‌کند، اعتبارنامه‌ها را بر اساس آن پروتکل تنظیم می‌کند و سپس یک درخواست جدید با اعتبارنامه‌ها ارسال می‌کند.</li></ol>\n",
    "</div>"
   ]
  },
  {
   "cell_type": "markdown",
   "metadata": {},
   "source": [
    "نمونه ای از پاسخ دریافتی از درخواست اولیه\n",
    "\n",
    "```http\n",
    "HTTP/1.1 401 Unauthorized\n",
    "Content-Length: 83\n",
    "Content-Type: text/html\n",
    "Server: Microsoft-IIS/6.0\n",
    "WWW-Authenticate: Negotiate\n",
    "WWW-Authenticate: NTLM\n",
    "WWW-Authenticate: Basic realm=\"exchange.somedomain.com\"\n",
    "X-Powered-By: ASP.NET\n",
    "Date: Sat, 05 Aug 2006 12:37:23 GMT\n",
    "```"
   ]
  },
  {
   "cell_type": "markdown",
   "metadata": {},
   "source": [
    "### CredentialCache"
   ]
  },
  {
   "cell_type": "markdown",
   "metadata": {},
   "source": [
    "<div dir=\"rtl\" style=\"margin:auto; width:90%; font-family:vazirmatn\">\n",
    "<p><strong>CredentialCache چیست؟</strong></p>\n",
    "<ul><li><code>CredentialCache</code> یک کلاس در .NET است که برای نگهداری و مدیریت مجموعه‌ای از اعتبارنامه‌ها (<code>NetworkCredential</code> objects) استفاده می‌شود.</li><li>شما می‌توانید چندین اعتبارنامه را در یک <code>CredentialCache</code> ذخیره کنید، هر کدام مرتبط با یک URI و پروتکل خاص.</li></ul>\n",
    "\n",
    "<p><strong>چرا CredentialCache مفید است؟</strong></p>\n",
    "<ul><li>اگر نیاز دارید تا برای URI‌های مختلف و یا پروتکل‌های احراز هویت مختلف از اعتبارنامه‌های متفاوتی استفاده کنید، <code>CredentialCache</code> بسیار مفید است.</li><li>به شما این امکان را می‌دهد که به طور خاص تعیین کنید که کدام اعتبارنامه برای کدام URI و کدام پروتکل احراز هویت استفاده شود.</li></ul>\n",
    "</div>"
   ]
  },
  {
   "cell_type": "code",
   "execution_count": null,
   "metadata": {
    "vscode": {
     "languageId": "polyglot-notebook"
    }
   },
   "outputs": [],
   "source": [
    "using System;\n",
    "using System.Net;\n",
    "using System.Net.Http;\n",
    "using System.Threading.Tasks;\n",
    "\n",
    "public class Program\n",
    "{\n",
    "    public static async Task Main(string[] args)\n",
    "    {\n",
    "        // تعریف اعتبارنامه‌ها\n",
    "        var basicCredential = new NetworkCredential(\"basicUser\", \"basicPassword\");\n",
    "        var digestCredential = new NetworkCredential(\"digestUser\", \"digestPassword\");\n",
    "\n",
    "        // ایجاد یک CredentialCache و افزودن اعتبارنامه‌ها\n",
    "        var credentialCache = new CredentialCache();\n",
    "        credentialCache.Add(new Uri(\"https://example.com/basic\"), \"Basic\", basicCredential);\n",
    "        credentialCache.Add(new Uri(\"https://example.com/digest\"), \"Digest\", digestCredential);\n",
    "\n",
    "        // ایجاد HttpClientHandler و تنظیم CredentialCache\n",
    "        var handler = new HttpClientHandler();\n",
    "        handler.Credentials = credentialCache;\n",
    "\n",
    "        // ایجاد HttpClient با استفاده از handler\n",
    "        var client = new HttpClient(handler);\n",
    "\n",
    "        try\n",
    "        {\n",
    "            // ارسال درخواست به سرور با استفاده از پروتکل Basic\n",
    "            var basicResponse = await client.GetAsync(\"https://example.com/basic/resource\");\n",
    "            Console.WriteLine($\"Basic Auth Response Status: {basicResponse.StatusCode}\");\n",
    "\n",
    "            // ارسال درخواست به سرور با استفاده از پروتکل Digest\n",
    "            var digestResponse = await client.GetAsync(\"https://example.com/digest/resource\");\n",
    "            Console.WriteLine($\"Digest Auth Response Status: {digestResponse.StatusCode}\");\n",
    "        }\n",
    "        catch (Exception ex)\n",
    "        {\n",
    "            Console.WriteLine($\"An error occurred: {ex.Message}\");\n",
    "        }\n",
    "    }\n",
    "}\n"
   ]
  },
  {
   "cell_type": "code",
   "execution_count": null,
   "metadata": {
    "vscode": {
     "languageId": "polyglot-notebook"
    }
   },
   "outputs": [],
   "source": [
    "using System.Net;\n",
    "using System.Net.Http;\n",
    "\n",
    "CredentialCache cache = new CredentialCache();\n",
    "Uri prefix = new Uri (\"http://exchange.somedomain.com\");\n",
    "cache.Add (prefix, \"Digest\", new NetworkCredential (\"joe\", \"passwd\"));\n",
    "cache.Add (prefix, \"Negotiate\", new NetworkCredential (\"joe\", \"passwd\"));\n",
    "\n",
    "var handler = new HttpClientHandler();\n",
    "handler.Credentials = cache;\n",
    "var client = new HttpClient(handler);\n",
    "\n",
    "//continue"
   ]
  },
  {
   "cell_type": "markdown",
   "metadata": {},
   "source": [
    "An `authentication protocol` is specified as a string. The **valid values** include:    \n",
    "  \n",
    "`Basic`, `Digest`, `NTLM`, `Kerberos`, `Negotiate`"
   ]
  },
  {
   "cell_type": "markdown",
   "metadata": {},
   "source": [
    "<div dir=\"rtl\" style=\"margin:auto; width:90%; font-family:vazirmatn; border:1px solid rgb(226, 197, 65); padding: 10px\">\n",
    "<h3 style=\"text-align:center\">\n",
    "<svg xmlns=\"http://www.w3.org/2000/svg\" width=\"24\" height=\"24\" fill=\"none\" viewBox=\"0 0 24 24\" class=\"icon-md\" style=\"color: rgb(118, 208, 235);\"><path fill=\"currentColor\" fill-rule=\"evenodd\" d=\"M12.455 4.105a1 1 0 0 0-.91 0L1.987 8.982 1.077 7.2l9.56-4.877a3 3 0 0 1 2.726 0l9.56 4.877A1.98 1.98 0 0 1 24 9.22V15a1 1 0 1 1-2 0v-3.784l-2.033.995v4.094a3 3 0 0 1-1.578 2.642l-4.967 2.673a3 3 0 0 1-2.844 0l-4.967-2.673a3 3 0 0 1-1.578-2.642v-4.094l-2.927-1.433C-.374 10.053-.39 7.949 1.077 7.2l.91 1.782 9.573 4.689a1 1 0 0 0 .88 0L22 8.989v-.014zM6.033 13.19v3.114a1 1 0 0 0 .526.88l4.967 2.674a1 1 0 0 0 .948 0l4.967-2.673a1 1 0 0 0 .526-.88V13.19l-4.647 2.276a3 3 0 0 1-2.64 0z\" clip-rule=\"evenodd\"></path></svg>\n",
    "Authentication protocols</h3>\n",
    "<ol><li><p><strong>Basic Authentication</strong>:</p><ul><li><strong>استاندارد</strong>: این پروتکل یک استاندارد عمومی است که در بسیاری از سیستم‌عامل‌ها و سرورها (شامل ویندوز، لینوکس، و دیگر سیستم‌ها) استفاده می‌شود.</li><li><strong>نحوه کار</strong>: نام کاربری و رمز عبور به صورت Base64 رمزگذاری شده و در هدر HTTP ارسال می‌شود.</li><li><strong>امنیت</strong>: به دلیل عدم رمزگذاری قوی، بهتر است تنها در ارتباطات HTTPS استفاده شود.</li></ul></li><li><p><strong>Digest Authentication</strong>:</p><ul><li><strong>استاندارد</strong>: این نیز یک پروتکل استاندارد است که در سرورهای مختلف (ویندوز و لینوکس) پشتیبانی می‌شود.</li><li><strong>نحوه کار</strong>: رمز عبور به صورت هش شده ارسال می‌شود که امنیت بیشتری نسبت به Basic دارد.</li><li><strong>کاربرد</strong>: معمولاً در وب سرورها و سرویس‌های مختلف مورد استفاده قرار می‌گیرد.</li></ul></li><li><p><strong>NTLM</strong>:</p><ul><li><strong>ویژگی‌ها</strong>: این پروتکل بیشتر در محیط‌های ویندوز و شبکه‌های ویندوزی استفاده می‌شود.</li><li><strong>نحوه کار</strong>: یک پروتکل امنیتی مایکروسافت که برای احراز هویت در شبکه‌های مبتنی بر ویندوز توسعه یافته است.</li><li><strong>کاربرد</strong>: اغلب در سرویس‌های داخلی ویندوز مانند IIS و فایل سرورها استفاده می‌شود.</li></ul></li><li><p><strong>Kerberos</strong>:</p><ul><li><strong>استاندارد</strong>: این یک پروتکل استاندارد و باز است که در بسیاری از سیستم‌عامل‌ها شامل ویندوز و لینوکس استفاده می‌شود.</li><li><strong>نحوه کار</strong>: از سیستم تیکتینگ (Ticketing) برای احراز هویت امن استفاده می‌کند.</li><li><strong>کاربرد</strong>: در محیط‌های سازمانی بزرگ برای احراز هویت کاربران به منابع مختلف مورد استفاده قرار می‌گیرد.</li></ul></li><li><p><strong>Negotiate</strong>:</p><ul><li><strong>ویژگی‌ها</strong>: این یک مکانیزم ترکیبی است که می‌تواند از NTLM یا Kerberos استفاده کند.</li><li><strong>نحوه کار</strong>: سیستم به طور خودکار پروتکل مناسب (NTLM یا Kerberos) را بر اساس پشتیبانی سرور و تنظیمات کلاینت انتخاب می‌کند.</li><li><strong>کاربرد</strong>: معمولاً در محیط‌های ویندوزی و شبکه‌هایی که از هر دو پروتکل پشتیبانی می‌کنند استفاده می‌شود.</li></ul></li></ol>\n",
    "</div>"
   ]
  },
  {
   "cell_type": "markdown",
   "metadata": {},
   "source": [
    "<div dir=\"rtl\" style=\"margin:auto; width:90%; font-family:vazirmatn; border:1px solid rgb(226, 197, 65); padding: 10px\">\n",
    "<h3 style=\"text-align:center\">\n",
    "<svg xmlns=\"http://www.w3.org/2000/svg\" width=\"24\" height=\"24\" fill=\"none\" viewBox=\"0 0 24 24\" class=\"icon-md\" style=\"color: rgb(118, 208, 235);\"><path fill=\"currentColor\" fill-rule=\"evenodd\" d=\"M12.455 4.105a1 1 0 0 0-.91 0L1.987 8.982 1.077 7.2l9.56-4.877a3 3 0 0 1 2.726 0l9.56 4.877A1.98 1.98 0 0 1 24 9.22V15a1 1 0 1 1-2 0v-3.784l-2.033.995v4.094a3 3 0 0 1-1.578 2.642l-4.967 2.673a3 3 0 0 1-2.844 0l-4.967-2.673a3 3 0 0 1-1.578-2.642v-4.094l-2.927-1.433C-.374 10.053-.39 7.949 1.077 7.2l.91 1.782 9.573 4.689a1 1 0 0 0 .88 0L22 8.989v-.014zM6.033 13.19v3.114a1 1 0 0 0 .526.88l4.967 2.674a1 1 0 0 0 .948 0l4.967-2.673a1 1 0 0 0 .526-.88V13.19l-4.647 2.276a3 3 0 0 1-2.64 0z\" clip-rule=\"evenodd\"></path></svg>\n",
    "Other Authentication protocols</h3>\n",
    "<h5>OAuth و OAuth2</h5>\n",
    "<ul><li><strong>ویژگی‌ها</strong>: OAuth یک استاندارد باز برای احراز هویت و اجازه دسترسی است. OAuth2 نسخه جدیدتر و گسترده‌تر آن است.</li><li><strong>نحوه کار</strong>: به کاربران اجازه می‌دهد تا بدون اشتراک‌گذاری اعتبارنامه‌های خود با سرویس‌های شخص ثالث، به منابع خود دسترسی بدهند.</li><li><strong>کاربرد</strong>: به طور گسترده در برنامه‌های وب و موبایل برای احراز هویت و اجازه دسترسی به APIها استفاده می‌شود. (مانند Google, Facebook, GitHub)</li></ul>\n",
    "\n",
    "<h5>OpenID و OpenID Connect</h5>\n",
    "<ul><li><strong>ویژگی‌ها</strong>: OpenID یک پروتکل برای احراز هویت کاربر است. OpenID Connect یک لایه روی OAuth2 است که احراز هویت را به OAuth2 اضافه می‌کند.</li><li><strong>نحوه کار</strong>: کاربران می‌توانند از یک شناسه واحد برای ورود به چندین سایت استفاده کنند.</li><li><strong>کاربرد</strong>: احراز هویت متمرکز برای دسترسی به وبسایت‌های مختلف با استفاده از یک حساب کاربری (مانند Google Login).</li></ul>\n",
    "<h5>JWT (JSON Web Token)</h5>\n",
    "<ul><li><strong>ویژگی‌ها</strong>: JWT یک استاندارد باز برای ایجاد توکن‌های امن و قابل تأیید است که حاوی اطلاعات کاربر است.</li><li><strong>نحوه کار</strong>: توکن‌ها به صورت JSON رمزگذاری شده و بین کلاینت و سرور رد و بدل می‌شوند.</li><li><strong>کاربرد</strong>: احراز هویت و اجازه دسترسی در برنامه‌های وب و موبایل.</li></ul>\n",
    "\n",
    "<h5>SAML (Security Assertion Markup Language)</h5>\n",
    "<h5>LDAP (Lightweight Directory Access Protocol)</h5>\n",
    "<h5>RADIUS (Remote Authentication Dial-In User Service)</h5>\n",
    "<h5>TACACS+ (Terminal Access Controller Access-Control System Plus)</h5>\n",
    "<h5>Mutual TLS (mTLS)</h5>\n",
    "</div>"
   ]
  },
  {
   "cell_type": "markdown",
   "metadata": {},
   "source": [
    "#### Authenticating via headers"
   ]
  },
  {
   "cell_type": "markdown",
   "metadata": {},
   "source": [
    "Another way to ***authenticate*** is to set the `authentication header` directly:"
   ]
  },
  {
   "cell_type": "code",
   "execution_count": null,
   "metadata": {
    "vscode": {
     "languageId": "polyglot-notebook"
    }
   },
   "outputs": [],
   "source": [
    "using System.Net;\n",
    "using System.Net.Http.Headers;\n",
    "\n",
    "var client = new HttpClient();\n",
    "client.DefaultRequestHeaders.Authorization =\n",
    "    new AuthenticationHeaderValue (\"Basic\",\n",
    "    Convert.ToBase64String (Encoding.UTF8.GetBytes (\"username:password\")));"
   ]
  },
  {
   "cell_type": "markdown",
   "metadata": {},
   "source": [
    "This strategy also works with `custom authentication` systems such as `OAuth` and `JWT`."
   ]
  },
  {
   "cell_type": "markdown",
   "metadata": {},
   "source": [
    "### Headers"
   ]
  },
  {
   "cell_type": "markdown",
   "metadata": {},
   "source": [
    "***HttpClient*** lets you add custom `HTTP headers` to a request, as well as ***enumerate*** the `headers in a response`.  \n",
    "  \n",
    "A ***header*** is simply a `key/value pair` containing metadata, such as the message content type or server software."
   ]
  },
  {
   "cell_type": "code",
   "execution_count": null,
   "metadata": {
    "vscode": {
     "languageId": "polyglot-notebook"
    }
   },
   "outputs": [],
   "source": [
    "// two way for add Headers\n",
    "\n",
    "var client = new HttpClient();\n",
    "client.DefaultRequestHeaders.Add(\"Global-Header\", \"GlobalHeaderValue\");\n",
    "// add header for all reqeust that send with this HttpClient\n",
    "\n",
    "var request1 = new HttpRequestMessage(HttpMethod.Post, \"https://www.example1.com\");\n",
    "request1.Headers.Add(\"Request-Header-1\", \"HeaderValue1\");\n",
    "\n",
    "var response1 = await client.SendAsync(request1);\n",
    "Console.WriteLine(await response1.Content.ReadAsStringAsync());\n",
    "\n",
    "var request2 = new HttpRequestMessage(HttpMethod.Get, \"https://www.example2.com\");\n",
    "request2.Headers.Add(\"Request-Header-2\", \"HeaderValue2\");\n",
    "\n",
    "var response2 = await client.SendAsync(request2);\n",
    "Console.WriteLine(await response2.Content.ReadAsStringAsync());"
   ]
  },
  {
   "cell_type": "markdown",
   "metadata": {},
   "source": [
    "### Query Strings"
   ]
  },
  {
   "cell_type": "markdown",
   "metadata": {},
   "source": [
    "A ***query string*** is simply a string appended to a URI with a `question mark`"
   ]
  },
  {
   "cell_type": "code",
   "execution_count": null,
   "metadata": {
    "vscode": {
     "languageId": "polyglot-notebook"
    }
   },
   "outputs": [],
   "source": [
    "string requestURI = \"http://www.google.com/search?q=HttpClient&hl=fr\";"
   ]
  },
  {
   "cell_type": "markdown",
   "metadata": {},
   "source": [
    "If there’s a possibility of ***your query*** including `symbols` or `spaces`, you can use Uri’s `EscapeDataString` method to create a ***legal URI***"
   ]
  },
  {
   "cell_type": "code",
   "execution_count": 2,
   "metadata": {
    "vscode": {
     "languageId": "polyglot-notebook"
    }
   },
   "outputs": [
    {
     "name": "stdout",
     "output_type": "stream",
     "text": [
      "http://www.google.com/search?q=%28HttpClient%20or%20HttpRequestMessage%29&hl=fr\r\n"
     ]
    }
   ],
   "source": [
    "string search = Uri.EscapeDataString (\"(HttpClient or HttpRequestMessage)\");\n",
    "string language = Uri.EscapeDataString (\"fr\");\n",
    "string requestURI = \"http://www.google.com/search?q=\" + search +\n",
    "                    \"&hl=\" + language;\n",
    "Console.WriteLine(requestURI);"
   ]
  },
  {
   "cell_type": "markdown",
   "metadata": {},
   "source": [
    "### Uploading Form Data"
   ]
  },
  {
   "cell_type": "markdown",
   "metadata": {},
   "source": [
    "To upload `HTML form data`, create and populate the `FormUrlEncodedContent` object."
   ]
  },
  {
   "cell_type": "code",
   "execution_count": null,
   "metadata": {
    "vscode": {
     "languageId": "polyglot-notebook"
    }
   },
   "outputs": [],
   "source": [
    "string uri = \"http://www.albahari.com/EchoPost.aspx\";\n",
    "var client = new HttpClient();\n",
    "var dict = new Dictionary<string,string>\n",
    "{\n",
    "    { \"Name\", \"Joe Albahari\" },\n",
    "    { \"Company\", \"O'Reilly\" }\n",
    "};\n",
    "var values = new FormUrlEncodedContent (dict);\n",
    "var response = await client.PostAsync (uri, values);\n",
    "response.EnsureSuccessStatusCode();\n",
    "Console.WriteLine (await response.Content.ReadAsStringAsync());"
   ]
  },
  {
   "cell_type": "markdown",
   "metadata": {},
   "source": [
    "### Cookies"
   ]
  },
  {
   "cell_type": "markdown",
   "metadata": {},
   "source": [
    "A **cookie** is a `name/value` string pair that an **HTTP server** sends to a `client` in a ***response header***.  \n",
    "  \n",
    "A `web browser client` typically ***remembers cookies*** and `replays them` to the server in ***each subsequent request*** (to the `same address`) until their `expiry`."
   ]
  },
  {
   "cell_type": "markdown",
   "metadata": {},
   "source": [
    "***By default***, `HttpClient` **ignores** any cookies received from the server.  \n",
    "  \n",
    "***To accept cookies***, create a `CookieContainer` object and assign it an `HttpClientHandler`"
   ]
  },
  {
   "cell_type": "code",
   "execution_count": null,
   "metadata": {
    "vscode": {
     "languageId": "polyglot-notebook"
    }
   },
   "outputs": [],
   "source": [
    "var cc = new CookieContainer();\n",
    "var handler = new HttpClientHandler();\n",
    "handler.CookieContainer = cc;\n",
    "var client = new HttpClient (handler);"
   ]
  }
 ],
 "metadata": {
  "kernelspec": {
   "display_name": ".NET (C#)",
   "language": "C#",
   "name": ".net-csharp"
  },
  "language_info": {
   "name": "python"
  },
  "polyglot_notebook": {
   "kernelInfo": {
    "defaultKernelName": "csharp",
    "items": [
     {
      "aliases": [],
      "name": "csharp"
     }
    ]
   }
  }
 },
 "nbformat": 4,
 "nbformat_minor": 2
}
