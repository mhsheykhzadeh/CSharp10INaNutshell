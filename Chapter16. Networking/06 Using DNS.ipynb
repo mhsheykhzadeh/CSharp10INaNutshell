{
 "cells": [
  {
   "cell_type": "markdown",
   "metadata": {},
   "source": [
    "The `static Dns class` encapsulates the DNS, which **converts** between a `raw IP` address, such as `66.135.192.87`, and a `human-friendly domain name`, such as `ebay.com`."
   ]
  },
  {
   "cell_type": "code",
   "execution_count": 7,
   "metadata": {
    "dotnet_interactive": {
     "language": "csharp"
    },
    "polyglot_notebook": {
     "kernelName": "csharp"
    },
    "vscode": {
     "languageId": "polyglot-notebook"
    }
   },
   "outputs": [
    {
     "name": "stdout",
     "output_type": "stream",
     "text": [
      "216.239.38.120\n",
      "any-in-2678.1e100.net\n"
     ]
    }
   ],
   "source": [
    "using System.Net;\n",
    "\n",
    "//The GetHostAddresses method converts from domain name to IP address (or addresses)\n",
    "foreach (IPAddress a in Dns.GetHostAddresses (\"google.com\"))\n",
    "    Console.WriteLine (a.ToString()); \n",
    "\n",
    "foreach (IPAddress a in await Dns.GetHostAddressesAsync (\"google.com\"))\n",
    "    Console.WriteLine (a.ToString());\n",
    "\n",
    "//The GetHostEntry method goes the other way around, converting from address to\n",
    "//domain name\n",
    "IPHostEntry entry = Dns.GetHostEntry (\"216.239.38.120\");\n",
    "Console.WriteLine (entry.HostName);"
   ]
  },
  {
   "cell_type": "markdown",
   "metadata": {},
   "source": [
    "D**omain names** are ***automatically resolved*** to `IP addresses` when you use a class such as `WebRequest` or `TcpClient`.  \n",
    "  \n",
    "for many requests, you can sometimes ***improve performance*** by first ***using*** `Dns` to explicitly `convert the domain name into an IP` address, and then communicating `directly` with the `IP address` from that point on.  \n",
    "  \n",
    "it can be of benefit when dealing at the `transport layer` (via `TcpClient`, `UdpClient`, or `Socket`)."
   ]
  }
 ],
 "metadata": {
  "kernelspec": {
   "display_name": ".NET (C#)",
   "language": "C#",
   "name": ".net-csharp"
  },
  "language_info": {
   "name": "python"
  },
  "polyglot_notebook": {
   "kernelInfo": {
    "defaultKernelName": "csharp",
    "items": [
     {
      "aliases": [],
      "name": "csharp"
     }
    ]
   }
  }
 },
 "nbformat": 4,
 "nbformat_minor": 2
}
