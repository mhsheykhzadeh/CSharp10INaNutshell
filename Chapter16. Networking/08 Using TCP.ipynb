{
 "cells": [
  {
   "cell_type": "markdown",
   "metadata": {},
   "source": [
    "`TCP` and `UDP` constitute(تشکیل می دهند) the ***transport layer protocols*** on top of which most internet— and LAN—services are built."
   ]
  },
  {
   "cell_type": "markdown",
   "metadata": {},
   "source": [
    "***HTTP*** (version 2 and below), ***FTP***, and ***SMTP*** use `TCP`   \n",
    "***DNS*** and ***HTTP version 3*** use `UDP`."
   ]
  },
  {
   "cell_type": "markdown",
   "metadata": {},
   "source": [
    "***TCP*** is `connection-oriented` and includes `reliability mechanisms`   \n",
    "***UDP*** is `connectionless`, has a **lower overhead**, and **supports broadcasting**.   \n",
    "  \n",
    "`BitTorrent` uses ***UDP***, as does Voice over IP (`VoIP`)."
   ]
  },
  {
   "cell_type": "markdown",
   "metadata": {},
   "source": [
    "<div dir=\"rtl\" style=\"margin:auto; width:90%; font-family:vazirmatn\">\n",
    "<h5>کلاس‌های TcpClient و TcpListener:</h5>\n",
    "<ul><li><strong>TcpClient و TcpListener</strong>: این دو کلاس در .NET برای کار با پروتکل TCP استفاده می‌شوند و به عنوان یک واسط ساده‌تر (façade) برای مدیریت ارتباطات TCP عمل می‌کنند.</li><li><strong>سادگی استفاده</strong>: این کلاس‌ها به گونه‌ای طراحی شده‌اند که استفاده از آنها نسبتاً ساده است و بسیاری از جزئیات پیچیده‌تر ارتباطات شبکه را پنهان می‌کنند.</li></ul>\n",
    "<h5>کلاس Socket:</h5>\n",
    "<ul><li><strong>Socket</strong>: این کلاس دارای قابلیت‌های بیشتری نسبت به TcpClient و TcpListener است و امکان پیکربندی پیشرفته‌تر و دسترسی مستقیم به لایه شبکه (IP) و پروتکل‌های غیر اینترنتی مانند SPX/IPX نوول را فراهم می‌کند.</li><li><strong>پیکربندی پیشرفته</strong>: کلاس Socket گزینه‌های بیشتری برای پیکربندی ارتباطات شبکه فراهم می‌کند، که می‌تواند برای برنامه‌های پیچیده‌تر مفید باشد.</li><li><strong>دسترسی به لایه شبکه</strong>: با استفاده از این کلاس، می‌توانید به لایه‌های پایین‌تر شبکه دسترسی پیدا کنید و حتی از پروتکل‌های شبکه‌ای غیر از TCP/IP استفاده کنید.</li></ul>\n",
    "\n",
    "<h3>مخلوط کردن و مطابقت:</h3>\n",
    "<ul><li><strong>مخلوط کردن و مطابقت</strong>: می‌توانید از ترکیب این کلاس‌ها استفاده کنید. به عنوان مثال، کلاس TcpClient یک ویژگی به نام <code>Client</code> دارد که به شما اجازه می‌دهد به شیء زیرین Socket دسترسی پیدا کنید و از قابلیت‌های پیشرفته‌تر آن استفاده کنید.</li></ul>\n",
    "<p>به طور خلاصه، اگر به دنبال یک راه ساده برای مدیریت ارتباطات TCP هستید، می‌توانید از TcpClient و TcpListener استفاده کنید. اما اگر به قابلیت‌های پیشرفته‌تری نیاز دارید، کلاس Socket گزینه بهتری خواهد بود.</p>\n",
    "</div>"
   ]
  },
  {
   "cell_type": "code",
   "execution_count": null,
   "metadata": {
    "dotnet_interactive": {
     "language": "csharp"
    },
    "polyglot_notebook": {
     "kernelName": "csharp"
    },
    "vscode": {
     "languageId": "polyglot-notebook"
    }
   },
   "outputs": [],
   "source": [
    "//the basic structure for a synchronous TCP client request\n",
    "\n",
    "using System.Net.Sockets;\n",
    "\n",
    "using (TcpClient client = new TcpClient())\n",
    "{\n",
    "    client.Connect (\"address\", 8880);\n",
    "    using (NetworkStream n = client.GetStream())\n",
    "    {\n",
    "        // Read and write to the network stream...\n",
    "    }\n",
    "}"
   ]
  },
  {
   "cell_type": "markdown",
   "metadata": {},
   "source": [
    "***TcpClient’s Connect*** method `blocks` until a connection is ***established*** (Connect Async is the asynchronous equivalent).   \n",
    "The ***NetworkStream*** then provides a means of `two-way communication`, for both **transmitting** and **receiving** `bytes` of data from a server."
   ]
  },
  {
   "cell_type": "code",
   "execution_count": null,
   "metadata": {
    "dotnet_interactive": {
     "language": "csharp"
    },
    "polyglot_notebook": {
     "kernelName": "csharp"
    },
    "vscode": {
     "languageId": "polyglot-notebook"
    }
   },
   "outputs": [],
   "source": [
    "//A simple TCP server looks like this:\n",
    "\n",
    "using System.Net.Sockets;\n",
    "\n",
    "TcpListener listener = new TcpListener (new IPAddress(\"\"), 8880);\n",
    "listener.Start();\n",
    "\n",
    "while (true)\n",
    "    using (TcpClient c = listener.AcceptTcpClient())\n",
    "    using (NetworkStream n = c.GetStream())\n",
    "    {\n",
    "        // Read and write to the network stream...\n",
    "    }\n",
    "listener.Stop();"
   ]
  },
  {
   "cell_type": "code",
   "execution_count": 1,
   "metadata": {
    "dotnet_interactive": {
     "language": "csharp"
    },
    "polyglot_notebook": {
     "kernelName": "csharp"
    },
    "vscode": {
     "languageId": "polyglot-notebook"
    }
   },
   "outputs": [
    {
     "name": "stdout",
     "output_type": "stream",
     "text": [
      "Hello right back!\r\n"
     ]
    }
   ],
   "source": [
    "using System;\n",
    "using System.IO;\n",
    "using System.Net;\n",
    "using System.Net.Sockets;\n",
    "using System.Threading;\n",
    "\n",
    "new Thread(Server).Start(); // Run server method concurrently.\n",
    "Thread.Sleep(500); // Give server time to start.\n",
    "Client();\n",
    "void Client()\n",
    "{\n",
    "    using (TcpClient client = new TcpClient(\"localhost\", 51111))\n",
    "    using (NetworkStream n = client.GetStream())\n",
    "    {\n",
    "        BinaryWriter w = new BinaryWriter(n);\n",
    "        w.Write(\"Hello\");\n",
    "        w.Flush();\n",
    "        Console.WriteLine(new BinaryReader(n).ReadString());\n",
    "    }\n",
    "}\n",
    "void Server() // Handles a single client request, then exits.\n",
    "{\n",
    "    TcpListener listener = new TcpListener(IPAddress.Any, 51111);\n",
    "    listener.Start();\n",
    "    using (TcpClient c = listener.AcceptTcpClient())\n",
    "    using (NetworkStream n = c.GetStream())\n",
    "    {\n",
    "        string msg = new BinaryReader(n).ReadString();\n",
    "        BinaryWriter w = new BinaryWriter(n);\n",
    "        w.Write(msg + \" right back!\");\n",
    "        w.Flush(); // Must call Flush because we're not\n",
    "    } // disposing the writer.\n",
    "    listener.Stop();\n",
    "}\n",
    "// OUTPUT: Hello right back!"
   ]
  },
  {
   "cell_type": "markdown",
   "metadata": {},
   "source": [
    "### Concurrency with TCP"
   ]
  },
  {
   "cell_type": "markdown",
   "metadata": {},
   "source": [
    "<div dir=\"rtl\" style=\"margin:auto; width:90%; font-family:vazirmatn\">\n",
    "<ol><li><p><strong>تبدیل روش‌های مسدودکننده به ناهمزمان</strong>: به جای استفاده از روش‌های سنتی مسدودکننده، از نسخه‌های <code>*Async</code> این متدها استفاده کنید. مثلاً به جای استفاده از <code>AcceptTcpClient()</code>، از <code>AcceptTcpClientAsync()</code> استفاده می‌کنید.</p></li><li><p><strong>استفاده از <code>await</code></strong>: برای صبر کردن (await) بر روی task (کار) که توسط این متدهای ناهمزمان بازگشت داده می‌شود، از کلمه کلیدی <code>await</code> استفاده کنید. این کار به شما اجازه می‌دهد که بدون مسدود کردن thread اصلی، به اجرای بقیه کد ادامه دهید تا زمانی که عملیات ناهمزمان به پایان برسد.</p></li></ol>\n",
    "\n",
    "</div>"
   ]
  },
  {
   "cell_type": "code",
   "execution_count": null,
   "metadata": {
    "vscode": {
     "languageId": "polyglot-notebook"
    }
   },
   "outputs": [],
   "source": [
    "using System;\n",
    "using System.Net.Sockets;\n",
    "using System.Threading.Tasks;\n",
    "\n",
    "async void RunServerAsync ()\n",
    "{\n",
    "    TcpListener listener = new TcpListener(System.Net.IPAddress.Any, 8000);\n",
    "    listener.Start();\n",
    "\n",
    "    while (true)\n",
    "    {\n",
    "        TcpClient client = await listener.AcceptTcpClientAsync();\n",
    "        HandleClientAsync(client);\n",
    "    }\n",
    "}\n",
    "\n",
    "static async Task HandleClientAsync(TcpClient client)\n",
    "{\n",
    "    await Task.Yield ();\n",
    "    try\n",
    "    {\n",
    "        using (client)\n",
    "        using (NetworkStream n = client.GetStream ())\n",
    "        {\n",
    "            byte[] data = new byte [5000];\n",
    "            \n",
    "            int bytesRead = 0; int chunkSize = 1;\n",
    "            while (bytesRead < data.Length && chunkSize > 0)\n",
    "                bytesRead += chunkSize =\n",
    "                    await n.ReadAsync (data, bytesRead, data.Length - bytesRead);\n",
    "\n",
    "            Array.Reverse (data); // Reverse the byte sequence\n",
    "            await n.WriteAsync (data, 0, data.Length);\n",
    "        }\n",
    "    }\n",
    "    catch (Exception ex) { Console.WriteLine (ex.Message); }\n",
    "}"
   ]
  }
 ],
 "metadata": {
  "kernelspec": {
   "display_name": ".NET (C#)",
   "language": "C#",
   "name": ".net-csharp"
  },
  "language_info": {
   "name": "python"
  },
  "polyglot_notebook": {
   "kernelInfo": {
    "defaultKernelName": "csharp",
    "items": [
     {
      "aliases": [],
      "name": "csharp"
     }
    ]
   }
  }
 },
 "nbformat": 4,
 "nbformat_minor": 2
}
