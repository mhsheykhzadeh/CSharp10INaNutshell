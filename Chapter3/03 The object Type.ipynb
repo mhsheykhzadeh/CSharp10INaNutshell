{
 "cells": [
  {
   "cell_type": "markdown",
   "metadata": {},
   "source": [
    "***object*** (System.Object) is the ultimate `base class` for `all types`. Any type can be `upcast` to object."
   ]
  },
  {
   "cell_type": "code",
   "execution_count": null,
   "metadata": {
    "dotnet_interactive": {
     "language": "csharp"
    },
    "polyglot_notebook": {
     "kernelName": "csharp"
    },
    "vscode": {
     "languageId": "polyglot-notebook"
    }
   },
   "outputs": [],
   "source": [
    "public class Stack\n",
    "{\n",
    "    int position;\n",
    "    object[] data = new object[10];\n",
    "    public void Push (object obj) { data[position++] = obj; }\n",
    "    public object Pop() { return data[--position]; }\n",
    "}\n",
    "\n",
    "Stack stack = new Stack();\n",
    "stack.Push (\"sausage\");\n",
    "string s = (string) stack.Pop(); // Downcast, so explicit cast is needed\n",
    "\n",
    "Console.WriteLine (s); // sausage"
   ]
  },
  {
   "cell_type": "markdown",
   "metadata": {},
   "source": [
    "***object*** is a `reference type`, beacuse it is a `class`."
   ]
  },
  {
   "cell_type": "markdown",
   "metadata": {},
   "source": [
    "when we `cast` between a `value type` and `object` this process is called ***boxing*** and ***unboxing***."
   ]
  },
  {
   "cell_type": "markdown",
   "metadata": {},
   "source": [
    "### Boxing and Unboxing"
   ]
  },
  {
   "cell_type": "markdown",
   "metadata": {},
   "source": [
    "***Boxing*** is the act of converting a `value-type` instance to a `reference-type` instance."
   ]
  },
  {
   "cell_type": "code",
   "execution_count": 1,
   "metadata": {
    "dotnet_interactive": {
     "language": "csharp"
    },
    "polyglot_notebook": {
     "kernelName": "csharp"
    },
    "vscode": {
     "languageId": "polyglot-notebook"
    }
   },
   "outputs": [],
   "source": [
    "int x = 9;\n",
    "object obj = x; // Box the int"
   ]
  },
  {
   "cell_type": "markdown",
   "metadata": {},
   "source": [
    "***Unboxing*** `reverses` the operation by `casting` the object `back` to the `original value type`:"
   ]
  },
  {
   "cell_type": "code",
   "execution_count": null,
   "metadata": {
    "dotnet_interactive": {
     "language": "csharp"
    },
    "polyglot_notebook": {
     "kernelName": "csharp"
    },
    "vscode": {
     "languageId": "polyglot-notebook"
    }
   },
   "outputs": [],
   "source": [
    "int y = (int)obj; // Unbox the int\n",
    "//requires an explicit cast\n",
    "\n",
    "object obj = 9; // 9 is inferred to be of type int\n",
    "long x = (long) obj; // InvalidCastException"
   ]
  },
  {
   "cell_type": "code",
   "execution_count": null,
   "metadata": {
    "dotnet_interactive": {
     "language": "csharp"
    },
    "polyglot_notebook": {
     "kernelName": "csharp"
    },
    "vscode": {
     "languageId": "polyglot-notebook"
    }
   },
   "outputs": [],
   "source": [
    "object obj = 9;\n",
    "long x = (int) obj; //ok"
   ]
  },
  {
   "cell_type": "code",
   "execution_count": null,
   "metadata": {
    "dotnet_interactive": {
     "language": "csharp"
    },
    "polyglot_notebook": {
     "kernelName": "csharp"
    },
    "vscode": {
     "languageId": "polyglot-notebook"
    }
   },
   "outputs": [],
   "source": [
    "object obj = 3.5; // 3.5 is inferred to be of type double\n",
    "int x = (int) (double) obj; // x is now 3"
   ]
  },
  {
   "cell_type": "markdown",
   "metadata": {},
   "source": [
    "#### Copying semantics of boxing and unboxing"
   ]
  },
  {
   "cell_type": "code",
   "execution_count": null,
   "metadata": {
    "dotnet_interactive": {
     "language": "csharp"
    },
    "polyglot_notebook": {
     "kernelName": "csharp"
    },
    "vscode": {
     "languageId": "polyglot-notebook"
    }
   },
   "outputs": [],
   "source": [
    "//Boxing copies the value-type instance into the new object\n",
    "//unboxing copies the contents of the object back into a value-type instance.\n",
    "\n",
    "int i = 3;\n",
    "object boxed = i;\n",
    "i = 5;\n",
    "Console.WriteLine (boxed); // 3"
   ]
  },
  {
   "cell_type": "markdown",
   "metadata": {},
   "source": [
    "### Static and Runtime Type Checking"
   ]
  },
  {
   "cell_type": "markdown",
   "metadata": {},
   "source": [
    "C# programs are type-checked both `statically` (***at compile time***) and at `runtime` (***by the CLR***)."
   ]
  },
  {
   "cell_type": "code",
   "execution_count": null,
   "metadata": {
    "dotnet_interactive": {
     "language": "csharp"
    },
    "polyglot_notebook": {
     "kernelName": "csharp"
    },
    "vscode": {
     "languageId": "polyglot-notebook"
    }
   },
   "outputs": [],
   "source": [
    "int x = \"5\";//compile time\n",
    "\n",
    "object y = \"5\";\n",
    "int z = (int) y; // Runtime error, downcast failed"
   ]
  },
  {
   "cell_type": "markdown",
   "metadata": {},
   "source": [
    "### The GetType Method and typeof Operator"
   ]
  },
  {
   "cell_type": "markdown",
   "metadata": {},
   "source": [
    "There are two basic ways to get a `System.Type` object:  \n",
    "- Call `GetType` on the instance. //*evaluated at runtime*\n",
    "- Use the `typeof` operator on a type name. //*evaluated statically at compile time*"
   ]
  },
  {
   "cell_type": "code",
   "execution_count": null,
   "metadata": {
    "dotnet_interactive": {
     "language": "csharp"
    },
    "polyglot_notebook": {
     "kernelName": "csharp"
    },
    "vscode": {
     "languageId": "polyglot-notebook"
    }
   },
   "outputs": [],
   "source": [
    "Point p = new Point();\n",
    "\n",
    "Console.WriteLine (p.GetType().Name); // Point\n",
    "Console.WriteLine (typeof (Point).Name); // Point\n",
    "Console.WriteLine (p.GetType() == typeof(Point)); // True\n",
    "Console.WriteLine (p.X.GetType().Name); // Int32\n",
    "Console.WriteLine (p.Y.GetType().FullName); // System.Int32\n",
    "\n",
    "public class Point { public int X, Y; }"
   ]
  },
  {
   "cell_type": "markdown",
   "metadata": {},
   "source": [
    "### The ToString Method"
   ]
  },
  {
   "cell_type": "markdown",
   "metadata": {},
   "source": [
    "The `ToString` method returns the `default textual representation` of a type instance.  \n",
    "This method is ***overridden*** by `all built-in types`."
   ]
  },
  {
   "cell_type": "code",
   "execution_count": null,
   "metadata": {
    "dotnet_interactive": {
     "language": "csharp"
    },
    "polyglot_notebook": {
     "kernelName": "csharp"
    },
    "vscode": {
     "languageId": "polyglot-notebook"
    }
   },
   "outputs": [],
   "source": [
    "int x = 1;\n",
    "Console.WriteLine(x.ToString()); // s is \"1\""
   ]
  },
  {
   "cell_type": "code",
   "execution_count": 2,
   "metadata": {
    "dotnet_interactive": {
     "language": "csharp"
    },
    "polyglot_notebook": {
     "kernelName": "csharp"
    },
    "vscode": {
     "languageId": "polyglot-notebook"
    }
   },
   "outputs": [
    {
     "name": "stdout",
     "output_type": "stream",
     "text": [
      "Submission#3+Panda\r\n"
     ]
    }
   ],
   "source": [
    "public class Panda\n",
    "{\n",
    "    public string Name;\n",
    "}\n",
    "\n",
    "Panda p = new Panda { Name = \"Petey\" };\n",
    "\n",
    "Console.WriteLine(p.ToString());\n",
    "\n",
    "//If you don’t override ToString, the method returns the type name."
   ]
  },
  {
   "cell_type": "code",
   "execution_count": 3,
   "metadata": {
    "dotnet_interactive": {
     "language": "csharp"
    },
    "polyglot_notebook": {
     "kernelName": "csharp"
    },
    "vscode": {
     "languageId": "polyglot-notebook"
    }
   },
   "outputs": [
    {
     "name": "stdout",
     "output_type": "stream",
     "text": [
      "Petey\r\n"
     ]
    }
   ],
   "source": [
    "Panda p = new Panda { Name = \"Petey\" };\n",
    "Console.WriteLine (p); // Petey\n",
    "public class Panda\n",
    "{\n",
    "    public string Name;\n",
    "    public override string ToString() => Name;\n",
    "}"
   ]
  },
  {
   "cell_type": "markdown",
   "metadata": {},
   "source": [
    "### Object Member Listing"
   ]
  },
  {
   "cell_type": "code",
   "execution_count": null,
   "metadata": {
    "dotnet_interactive": {
     "language": "csharp"
    },
    "polyglot_notebook": {
     "kernelName": "csharp"
    },
    "vscode": {
     "languageId": "polyglot-notebook"
    }
   },
   "outputs": [],
   "source": [
    "public class Object\n",
    "{\n",
    "    public Object(){}\n",
    "    public extern Type GetType();\n",
    "    public virtual bool Equals (object obj);\n",
    "    public static bool Equals (object objA, object objB);\n",
    "    public static bool ReferenceEquals (object objA, object objB);\n",
    "    public virtual int GetHashCode();\n",
    "    public virtual string ToString();\n",
    "    protected virtual void Finalize();\n",
    "    protected extern object MemberwiseClone();\n",
    "}"
   ]
  }
 ],
 "metadata": {
  "language_info": {
   "name": "python"
  }
 },
 "nbformat": 4,
 "nbformat_minor": 2
}
