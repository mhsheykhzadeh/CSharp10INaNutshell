{
 "cells": [
  {
   "cell_type": "markdown",
   "metadata": {},
   "source": [
    "To promote `encapsulation`, a type or type member can `limit` its `accessibility` to `other types` and `other assemblies` by adding one of five access modifiers to the declaration"
   ]
  },
  {
   "cell_type": "markdown",
   "metadata": {},
   "source": [
    "> ***public***   \n",
    "> Fully accessible. This is the `implicit` accessibility for members of an `enum` or\n",
    "`interface`."
   ]
  },
  {
   "cell_type": "markdown",
   "metadata": {},
   "source": [
    "> ***internal***  \n",
    "> Accessible only within the `containing assembly` or `friend assemblies`. This is the default accessibility for `non-nested types`."
   ]
  },
  {
   "cell_type": "markdown",
   "metadata": {},
   "source": [
    "> ***private***  \n",
    "> Accessible `only within the containing type`. This is the `default accessibility` for `members of a class or struct`."
   ]
  },
  {
   "cell_type": "markdown",
   "metadata": {},
   "source": [
    "> ***protected***  \n",
    "> Accessible only within the `containing type` or `subclasses`."
   ]
  },
  {
   "cell_type": "markdown",
   "metadata": {},
   "source": [
    "> ***protected internal***  \n",
    "> The `union` of `protected` and `internal` accessibility. A member that is\n",
    "protected internal is accessible in two ways."
   ]
  },
  {
   "cell_type": "markdown",
   "metadata": {},
   "source": [
    "> ***private protected (from C# 7.2)***  \n",
    "> The `intersection` of `protected` and `internal` accessibility. A member that is private protected is accessible only within the containing type, or subclasses that reside in the same assembly (making it less accessible than protected or internal alone)."
   ]
  },
  {
   "cell_type": "code",
   "execution_count": null,
   "metadata": {
    "dotnet_interactive": {
     "language": "csharp"
    },
    "polyglot_notebook": {
     "kernelName": "csharp"
    },
    "vscode": {
     "languageId": "polyglot-notebook"
    }
   },
   "outputs": [],
   "source": [
    "//Class2 is accessible from outside its assembly; \n",
    "//Class1 is not:\n",
    "\n",
    "class Class1 {} // Class1 is internal (default)\n",
    "public class Class2 {}"
   ]
  },
  {
   "cell_type": "code",
   "execution_count": null,
   "metadata": {
    "dotnet_interactive": {
     "language": "csharp"
    },
    "polyglot_notebook": {
     "kernelName": "csharp"
    },
    "vscode": {
     "languageId": "polyglot-notebook"
    }
   },
   "outputs": [],
   "source": [
    "//ClassB exposes field x to other types in the same assembly; \n",
    "//ClassA does not:\n",
    "\n",
    "class ClassA { int x; } // x is private (default)\n",
    "class ClassB { internal int x; }"
   ]
  },
  {
   "cell_type": "code",
   "execution_count": null,
   "metadata": {
    "dotnet_interactive": {
     "language": "csharp"
    },
    "polyglot_notebook": {
     "kernelName": "csharp"
    },
    "vscode": {
     "languageId": "polyglot-notebook"
    }
   },
   "outputs": [],
   "source": [
    "//Functions within Subclass can call Bar but not Foo:\n",
    "class BaseClass //internal\n",
    "{\n",
    "    void Foo() {} // Foo is private (default)\n",
    "    protected void Bar() {}\n",
    "}\n",
    "class Subclass : BaseClass //internal\n",
    "{\n",
    "    void Test1() { Foo(); } // Error - cannot access Foo\n",
    "    void Test2() { Bar(); } // OK\n",
    "}"
   ]
  },
  {
   "cell_type": "markdown",
   "metadata": {},
   "source": [
    "### Friend Assemblies"
   ]
  },
  {
   "cell_type": "markdown",
   "metadata": {},
   "source": [
    "You can expose internal members to other `friend assemblies` by adding the `System.Runtime.CompilerServices.InternalsVisibleTo` assembly attribute, specifying the name of the friend assembly as follows"
   ]
  },
  {
   "cell_type": "code",
   "execution_count": null,
   "metadata": {
    "dotnet_interactive": {
     "language": "csharp"
    },
    "polyglot_notebook": {
     "kernelName": "csharp"
    },
    "vscode": {
     "languageId": "polyglot-notebook"
    }
   },
   "outputs": [],
   "source": [
    "[assembly: InternalsVisibleTo(\"NameOfAssembly\")]\n",
    "[assembly: InternalsVisibleTo (\"StrongFriend, PublicKey=0024f000048c...\")]\n",
    "//for strong assembly , we decribe later\n",
    "class A{}//internal"
   ]
  },
  {
   "cell_type": "markdown",
   "metadata": {},
   "source": [
    "### Accessibility Capping (محدود کردن دسترسی)"
   ]
  },
  {
   "cell_type": "code",
   "execution_count": null,
   "metadata": {
    "dotnet_interactive": {
     "language": "csharp"
    },
    "polyglot_notebook": {
     "kernelName": "csharp"
    },
    "vscode": {
     "languageId": "polyglot-notebook"
    }
   },
   "outputs": [],
   "source": [
    "class C //internal\n",
    "{ \n",
    "    public void Foo() {} \n",
    "}\n",
    "\n",
    "//C’s (default) internal accessibility caps Foo’s accessibility, \n",
    "//effectively making Foo internal.\n",
    "\n",
    "/*A common reason Foo would be marked public is to make for easier\n",
    "refactoring should C later be changed to public.*/"
   ]
  },
  {
   "cell_type": "markdown",
   "metadata": {},
   "source": [
    "### Restrictions on Access Modifiers"
   ]
  },
  {
   "cell_type": "code",
   "execution_count": null,
   "metadata": {
    "dotnet_interactive": {
     "language": "csharp"
    },
    "polyglot_notebook": {
     "kernelName": "csharp"
    },
    "vscode": {
     "languageId": "polyglot-notebook"
    }
   },
   "outputs": [],
   "source": [
    "//When overriding a base class function, \n",
    "//accessibility must be identical on the overridden function; for example\n",
    "\n",
    "class BaseClass { protected virtual void Foo() {} } // fo is internal protected\n",
    "class Subclass1 : BaseClass { protected override void Foo() {} } // OK\n",
    "class Subclass2 : BaseClass { public override void Foo() {} } // Error"
   ]
  },
  {
   "cell_type": "code",
   "execution_count": null,
   "metadata": {
    "dotnet_interactive": {
     "language": "csharp"
    },
    "polyglot_notebook": {
     "kernelName": "csharp"
    },
    "vscode": {
     "languageId": "polyglot-notebook"
    }
   },
   "outputs": [],
   "source": [
    "//The compiler prevents any inconsistent use of access modifiers. For example, \n",
    "// a subclass itself can be less accessible than a base class, but not more\n",
    "\n",
    "internal class A {}\n",
    "public class B : A {} // Error"
   ]
  }
 ],
 "metadata": {
  "language_info": {
   "name": "python"
  }
 },
 "nbformat": 4,
 "nbformat_minor": 2
}
