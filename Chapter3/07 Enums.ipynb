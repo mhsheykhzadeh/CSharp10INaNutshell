{
 "cells": [
  {
   "cell_type": "markdown",
   "metadata": {},
   "source": [
    "An ***enum*** is a special `value type` that lets you specify a `group of named numeric constants`."
   ]
  },
  {
   "cell_type": "code",
   "execution_count": null,
   "metadata": {
    "dotnet_interactive": {
     "language": "csharp"
    },
    "polyglot_notebook": {
     "kernelName": "csharp"
    },
    "vscode": {
     "languageId": "polyglot-notebook"
    }
   },
   "outputs": [],
   "source": [
    "public enum BorderSide { Left, Right, Top, Bottom }\n",
    "\n",
    "//We can use this enum type as follows:\n",
    "BorderSide topSide = BorderSide.Top;\n",
    "bool isTop = (topSide == BorderSide.Top); // true"
   ]
  },
  {
   "cell_type": "markdown",
   "metadata": {},
   "source": [
    "Each enum member has an underlying `integral value`. These are `by default`:  \n",
    "- Underlying values are of type int.\n",
    "- The constants `0, 1, 2...` are `automatically assigned` in the `declaration order` of the enum members."
   ]
  },
  {
   "cell_type": "code",
   "execution_count": null,
   "metadata": {
    "dotnet_interactive": {
     "language": "csharp"
    },
    "polyglot_notebook": {
     "kernelName": "csharp"
    },
    "vscode": {
     "languageId": "polyglot-notebook"
    }
   },
   "outputs": [],
   "source": [
    "//You can specify an alternative integral type, as follows:\n",
    "public enum BorderSide : byte { Left, Right, Top, Bottom }\n",
    "\n",
    "//You can also specify an explicit underlying value for each enum member:\n",
    "public enum BorderSide2 : byte { Left=1, Right=2, Top=10, Bottom=11 }\n",
    "\n",
    "public enum BorderSide3 : byte\n",
    "{ Left=1, Right, Top=10, Bottom }\n",
    "//what is number of Bottom????"
   ]
  },
  {
   "cell_type": "markdown",
   "metadata": {},
   "source": [
    "### Enum Conversions"
   ]
  },
  {
   "cell_type": "code",
   "execution_count": null,
   "metadata": {
    "dotnet_interactive": {
     "language": "csharp"
    },
    "polyglot_notebook": {
     "kernelName": "csharp"
    },
    "vscode": {
     "languageId": "polyglot-notebook"
    }
   },
   "outputs": [],
   "source": [
    "public enum BorderSide : byte { Left, Right, Top, Bottom }\n",
    "\n",
    "int i = (int) BorderSide.Left;\n",
    "BorderSide side = (BorderSide) i;\n",
    "bool leftOrRight = (int) side <= 2;\n",
    "\n",
    "\n",
    "//You can also explicitly cast one enum type to another.\n",
    "public enum HorizontalAlignment\n",
    "{\n",
    "    Left = BorderSide.Left,\n",
    "    Right = BorderSide.Right,\n",
    "    Center\n",
    "}\n",
    "\n",
    "//A translation between the enum types uses the underlying integral values:\n",
    "\n",
    "HorizontalAlignment h = (HorizontalAlignment) BorderSide.Right;\n",
    "// same as:\n",
    "HorizontalAlignment h1 = (HorizontalAlignment) (int) BorderSide.Right;\n"
   ]
  },
  {
   "cell_type": "code",
   "execution_count": 1,
   "metadata": {
    "dotnet_interactive": {
     "language": "csharp"
    },
    "polyglot_notebook": {
     "kernelName": "csharp"
    },
    "vscode": {
     "languageId": "polyglot-notebook"
    }
   },
   "outputs": [
    {
     "ename": "Error",
     "evalue": "(7,17): error CS0266: Cannot implicitly convert type 'int' to 'BorderSide'. An explicit conversion exists (are you missing a cast?)\r\n(9,4): error CS0019: Operator '==' cannot be applied to operands of type 'BorderSide' and 'int'",
     "output_type": "error",
     "traceback": [
      "(7,17): error CS0266: Cannot implicitly convert type 'int' to 'BorderSide'. An explicit conversion exists (are you missing a cast?)\r\n",
      "(9,4): error CS0019: Operator '==' cannot be applied to operands of type 'BorderSide' and 'int'"
     ]
    }
   ],
   "source": [
    "//The numeric literal 0 is treated specially by the compiler \n",
    "//in an enum expression and does not require an explicit cast\n",
    "\n",
    "public enum BorderSide : byte { Left, Right, Top, Bottom }\n",
    "\n",
    "BorderSide b = 0; // No cast required , 0 is default value for enums\n",
    "BorderSide b1 = 1; //error\n",
    "if(b== 0){}\n",
    "if(b==1){}"
   ]
  },
  {
   "cell_type": "markdown",
   "metadata": {},
   "source": [
    "There are two reasons for the special treatment of 0:  \n",
    "- The first member of an enum is often used as the “default” value.\n",
    "- For combined enum types, `0` means “no flags.”"
   ]
  },
  {
   "cell_type": "markdown",
   "metadata": {},
   "source": [
    "### Flags Enums"
   ]
  },
  {
   "cell_type": "markdown",
   "metadata": {},
   "source": [
    "You can `combine` enum members. To prevent ambiguities, members of a `combinable`\n",
    "enum require explicitly assigned values"
   ]
  },
  {
   "cell_type": "code",
   "execution_count": null,
   "metadata": {
    "dotnet_interactive": {
     "language": "csharp"
    },
    "polyglot_notebook": {
     "kernelName": "csharp"
    },
    "vscode": {
     "languageId": "polyglot-notebook"
    }
   },
   "outputs": [],
   "source": [
    "[Flags]\n",
    "enum BorderSides { None=0, Left=1, Right=2, Top=4, Bottom=8 }\n",
    "\n",
    "enum BorderSides1 { None=0, Left=1, Right=1<<1, Top=1<<2, Bottom=1<<3 }\n",
    "\n",
    "/*\n",
    "0000\n",
    "0001\n",
    "0010\n",
    "0100\n",
    "1000\n",
    "*/"
   ]
  },
  {
   "cell_type": "markdown",
   "metadata": {},
   "source": [
    "<div dir=\"rtl\" style=\"width: 90%\">\n",
    "شیفت بیتی (<<) یک عملیات بیتی است که تمام بیت‌های یک عدد را به تعداد مشخصی به سمت چپ (یا راست) جابجا می‌کند. عملیات 1 << n معادل است با ضرب عدد 1 در 2 به توان n. این عملیات یک بیت 1 را n مکان به سمت چپ می‌برد.\n",
    "</div>"
   ]
  },
  {
   "cell_type": "markdown",
   "metadata": {},
   "source": [
    "To work with combined enum values, you use `bitwise operators` such as `|` and `&`."
   ]
  },
  {
   "cell_type": "code",
   "execution_count": null,
   "metadata": {
    "dotnet_interactive": {
     "language": "csharp"
    },
    "polyglot_notebook": {
     "kernelName": "csharp"
    },
    "vscode": {
     "languageId": "polyglot-notebook"
    }
   },
   "outputs": [],
   "source": [
    "[Flags]\n",
    "enum BorderSides { None=0, Left=1, Right=2, Top=4, Bottom=8 }\n",
    "\n",
    "BorderSides leftRight = BorderSides.Left | BorderSides.Right; //0011\n",
    "\n",
    "//check is active special flag with &\n",
    "if ((leftRight & BorderSides.Left) != 0) // 0101 & 0001 = 0001\n",
    "    Console.WriteLine (\"Includes Left\"); // Includes Left\n",
    "\n",
    "string formatted = leftRight.ToString(); // \"Left, Right\"\n",
    "\n",
    "\n",
    "BorderSides s = BorderSides.Left;\n",
    "s |= BorderSides.Right; // | =\n",
    "Console.WriteLine (s == leftRight); // True\n",
    "\n",
    "//s is 11 // `^=` => xor \n",
    "//right is 10\n",
    "s ^= BorderSides.Right; // Toggles BorderSides.Right // right deleted \n",
    "//11 xor 10 = 01 =>left\n",
    "Console.WriteLine (s); // Left"
   ]
  },
  {
   "cell_type": "markdown",
   "metadata": {},
   "source": [
    "`By convention`, the Flags attribute should always be applied to an enum type when its members are combinable."
   ]
  },
  {
   "cell_type": "markdown",
   "metadata": {},
   "source": [
    "If you declare such an enum `without` the `Flags` attribute, `you can still combine members`, but calling `ToString` on an enum instance will emit a `number` rather than a `series of names`."
   ]
  },
  {
   "cell_type": "markdown",
   "metadata": {},
   "source": [
    "`By convention`, a combinable enum type is given a `plural` rather than `singular` name."
   ]
  },
  {
   "cell_type": "code",
   "execution_count": null,
   "metadata": {
    "dotnet_interactive": {
     "language": "csharp"
    },
    "polyglot_notebook": {
     "kernelName": "csharp"
    },
    "vscode": {
     "languageId": "polyglot-notebook"
    }
   },
   "outputs": [],
   "source": [
    "[Flags]\n",
    "enum BorderSides\n",
    "{\n",
    "    None=0,\n",
    "    Left=1, Right=1<<1, Top=1<<2, Bottom=1<<3,\n",
    "    LeftRight = Left | Right,\n",
    "    TopBottom = Top | Bottom,\n",
    "    All = LeftRight | TopBottom\n",
    "}"
   ]
  },
  {
   "cell_type": "markdown",
   "metadata": {},
   "source": [
    "### Enum Operators"
   ]
  },
  {
   "cell_type": "markdown",
   "metadata": {},
   "source": [
    "`=` `==` `!=` `<` `>` `<=` `>=` `+` `-` `+=` `-=` `++` `--`\n",
    "\n",
    "when use these operators, enums convert to `integer value` and operator effect those values."
   ]
  },
  {
   "cell_type": "markdown",
   "metadata": {},
   "source": [
    "`^` `&` `|` `˜`  these operators effect of `binary vales`."
   ]
  },
  {
   "cell_type": "markdown",
   "metadata": {},
   "source": [
    "### Type-Safety Issues"
   ]
  },
  {
   "cell_type": "code",
   "execution_count": 3,
   "metadata": {
    "dotnet_interactive": {
     "language": "csharp"
    },
    "polyglot_notebook": {
     "kernelName": "csharp"
    },
    "vscode": {
     "languageId": "polyglot-notebook"
    }
   },
   "outputs": [
    {
     "name": "stdout",
     "output_type": "stream",
     "text": [
      "12345\n",
      "else\n",
      "else\n"
     ]
    }
   ],
   "source": [
    "public enum BorderSide { Left, Right, Top, Bottom }\n",
    "\n",
    "BorderSide b = (BorderSide) 12345;\n",
    "Console.WriteLine (b); // 12345\n",
    "\n",
    "\n",
    "BorderSide bb = BorderSide.Bottom;\n",
    "bb++; //NO errors\n",
    "\n",
    "Draw(b);\n",
    "Draw(bb);\n",
    "\n",
    "void Draw (BorderSide side)\n",
    "{\n",
    "    if (side == BorderSide.Left) { Console.WriteLine(BorderSide.Left);}\n",
    "    else if (side == BorderSide.Right) { Console.WriteLine(BorderSide.Right);}\n",
    "    else if (side == BorderSide.Top) { Console.WriteLine(BorderSide.Top);}\n",
    "    else { Console.WriteLine(\"else\");} // Assume BorderSide.Bottom\n",
    "}"
   ]
  },
  {
   "cell_type": "code",
   "execution_count": null,
   "metadata": {
    "dotnet_interactive": {
     "language": "csharp"
    },
    "polyglot_notebook": {
     "kernelName": "csharp"
    },
    "vscode": {
     "languageId": "polyglot-notebook"
    }
   },
   "outputs": [],
   "source": [
    "void Draw (BorderSide side)\n",
    "{\n",
    "    if (side == BorderSide.Left) { Console.WriteLine(BorderSide.Left);}\n",
    "    else if (side == BorderSide.Right) { Console.WriteLine(BorderSide.Right);}\n",
    "    else if (side == BorderSide.Top) { Console.WriteLine(BorderSide.Top);}\n",
    "    else if (side == BorderSide.Bottom){}\n",
    "    else throw new ArgumentException (\"Invalid BorderSide: \" + side, \"side\");\n",
    "}"
   ]
  },
  {
   "cell_type": "code",
   "execution_count": 4,
   "metadata": {
    "dotnet_interactive": {
     "language": "csharp"
    },
    "polyglot_notebook": {
     "kernelName": "csharp"
    },
    "vscode": {
     "languageId": "polyglot-notebook"
    }
   },
   "outputs": [
    {
     "name": "stdout",
     "output_type": "stream",
     "text": [
      "False\r\n"
     ]
    }
   ],
   "source": [
    "// Enum.IsDefined check an enum value for validity\n",
    "\n",
    "BorderSide side = (BorderSide) 12345;\n",
    "Console.WriteLine (Enum.IsDefined (typeof (BorderSide), side)); // False"
   ]
  },
  {
   "cell_type": "markdown",
   "metadata": {},
   "source": [
    "`Enum.IsDefined` ***does not work*** for `flagged enums`."
   ]
  }
 ],
 "metadata": {
  "language_info": {
   "name": "python"
  }
 },
 "nbformat": 4,
 "nbformat_minor": 2
}
