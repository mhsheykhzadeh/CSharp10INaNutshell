{
 "cells": [
  {
   "cell_type": "markdown",
   "metadata": {},
   "source": [
    "An ***interface*** is similar to a class, but only `specifies behavior` and `does not hold state (data)`. Consequently:  \n",
    "- An interface can define `only functions` and `not fields`.  \n",
    "  \n",
    "- Interface members are `implicitly abstract`. (Although nonabstract functions are permitted from C# 8, this is considered a special case)  \n",
    "  \n",
    "- A class (or struct) `can implement multiple interfaces`. In contrast, a class can inherit from `only a single class`, and a struct `cannot inherit at all` (aside from deriving from System.ValueType)."
   ]
  },
  {
   "cell_type": "markdown",
   "metadata": {},
   "source": [
    "An interface can contain ***only functions***, that is, `methods`, `properties`, `events`, and `indexers`"
   ]
  },
  {
   "cell_type": "markdown",
   "metadata": {},
   "source": [
    "Interface members are `always implicitly public` and `cannot declare an access modifier`. Implementing an interface means `providing a public implementation` `for all of its members`:"
   ]
  },
  {
   "cell_type": "code",
   "execution_count": null,
   "metadata": {
    "dotnet_interactive": {
     "language": "csharp"
    },
    "polyglot_notebook": {
     "kernelName": "csharp"
    },
    "vscode": {
     "languageId": "polyglot-notebook"
    }
   },
   "outputs": [],
   "source": [
    "public interface IEnumerator\n",
    "{\n",
    "    bool MoveNext();\n",
    "    object Current { get; }\n",
    "    void Reset();\n",
    "}\n",
    "\n",
    "internal class Countdown : IEnumerator\n",
    "{\n",
    "    int count = 11;\n",
    "    public bool MoveNext() => count-- > 0;\n",
    "    public object Current => count;\n",
    "    public void Reset() { throw new NotSupportedException(); }\n",
    "}\n",
    "\n",
    "//You can implicitly cast an object to any interface that it implements:\n",
    "\n",
    "IEnumerator e = new Countdown();"
   ]
  },
  {
   "cell_type": "markdown",
   "metadata": {},
   "source": [
    "### Extending an Interface"
   ]
  },
  {
   "cell_type": "code",
   "execution_count": null,
   "metadata": {
    "dotnet_interactive": {
     "language": "csharp"
    },
    "polyglot_notebook": {
     "kernelName": "csharp"
    },
    "vscode": {
     "languageId": "polyglot-notebook"
    }
   },
   "outputs": [],
   "source": [
    "//Interfaces can derive from other interfaces; for instance:\n",
    "\n",
    "public interface IUndoable { void Undo(); }\n",
    "public interface IRedoable : IUndoable { void Redo(); }"
   ]
  },
  {
   "cell_type": "markdown",
   "metadata": {},
   "source": [
    "### Explicit Interface Implementation"
   ]
  },
  {
   "cell_type": "code",
   "execution_count": null,
   "metadata": {
    "dotnet_interactive": {
     "language": "csharp"
    },
    "polyglot_notebook": {
     "kernelName": "csharp"
    },
    "vscode": {
     "languageId": "polyglot-notebook"
    }
   },
   "outputs": [],
   "source": [
    "//Implementing multiple interfaces \n",
    "//can sometimes result in a collision between member signatures.\n",
    "\n",
    "interface I1 { void Foo(); }\n",
    "interface I2 { int Foo(); }\n",
    "public class Widget : I1, I2\n",
    "{\n",
    "    public void Foo()\n",
    "    {\n",
    "        Console.WriteLine (\"Widget's implementation of I1.Foo\");\n",
    "    }\n",
    "    int I2.Foo() //explicitly implementing\n",
    "    {\n",
    "        Console.WriteLine (\"Widget's implementation of I2.Foo\");\n",
    "        return 42;\n",
    "    }\n",
    "}\n",
    "\n",
    "Widget w = new Widget();\n",
    "w.Foo(); // Widget's implementation of I1.Foo\n",
    "((I1)w).Foo(); // Widget's implementation of I1.Foo\n",
    "((I2)w).Foo(); // Widget's implementation of I2.Foo"
   ]
  },
  {
   "cell_type": "markdown",
   "metadata": {},
   "source": [
    "### Implementing Interface Members Virtually"
   ]
  },
  {
   "cell_type": "markdown",
   "metadata": {},
   "source": [
    "An implicitly `implemented` interface member is, `by default`, `sealed`."
   ]
  },
  {
   "cell_type": "code",
   "execution_count": null,
   "metadata": {
    "dotnet_interactive": {
     "language": "csharp"
    },
    "polyglot_notebook": {
     "kernelName": "csharp"
    },
    "vscode": {
     "languageId": "polyglot-notebook"
    }
   },
   "outputs": [],
   "source": [
    "//It must be marked virtual or abstract in the base class in order to be overridden\n",
    "public interface IUndoable { void Undo(); }\n",
    "public class TextBox : IUndoable\n",
    "{\n",
    "    public virtual void Undo() => Console.WriteLine (\"TextBox.Undo\");\n",
    "    //must be virtual for overriding\n",
    "}\n",
    "public class RichTextBox : TextBox\n",
    "{\n",
    "    public override void Undo() => Console.WriteLine (\"RichTextBox.Undo\");\n",
    "}\n",
    "\n",
    "//Calling the interface member through either \n",
    "//the base class or the interface calls the subclass’s implementation:\n",
    "RichTextBox r = new RichTextBox();\n",
    "r.Undo();                   // RichTextBox.Undo\n",
    "((IUndoable)r).Undo();      // RichTextBox.Undo\n",
    "((TextBox)r).Undo();        // RichTextBox.Undo\n"
   ]
  },
  {
   "cell_type": "markdown",
   "metadata": {},
   "source": [
    "### Reimplementing an Interface in a Subclass"
   ]
  },
  {
   "cell_type": "code",
   "execution_count": null,
   "metadata": {
    "dotnet_interactive": {
     "language": "csharp"
    },
    "polyglot_notebook": {
     "kernelName": "csharp"
    },
    "vscode": {
     "languageId": "polyglot-notebook"
    }
   },
   "outputs": [],
   "source": [
    "//Reimplementation hijacks a member implementation (when called through\n",
    "//the interface) and works whether or not the member is virtual in the base class.\n",
    "\n",
    "public interface IUndoable { void Undo(); }\n",
    "public class TextBox : IUndoable\n",
    "{\n",
    "    void IUndoable.Undo() => Console.WriteLine (\"TextBox.Undo\");\n",
    "}\n",
    "public class RichTextBox : TextBox, IUndoable\n",
    "{\n",
    "    public void Undo() => Console.WriteLine (\"RichTextBox.Undo\");\n",
    "}\n",
    "\n",
    "RichTextBox r = new RichTextBox();\n",
    "r.Undo();               // RichTextBox.Undo Case 1\n",
    "((IUndoable)r).Undo();  // RichTextBox.Undo Case 2"
   ]
  },
  {
   "cell_type": "code",
   "execution_count": null,
   "metadata": {
    "dotnet_interactive": {
     "language": "csharp"
    },
    "polyglot_notebook": {
     "kernelName": "csharp"
    },
    "vscode": {
     "languageId": "polyglot-notebook"
    }
   },
   "outputs": [],
   "source": [
    "public interface IUndoable { void Undo(); }\n",
    "\n",
    "public class TextBox : IUndoable\n",
    "{\n",
    "    public void Undo() => Console.WriteLine (\"TextBox.Undo\"); //implicitly\n",
    "}\n",
    "\n",
    "public class RichTextBox : TextBox, IUndoable\n",
    "{\n",
    "    public void Undo() => Console.WriteLine (\"RichTextBox.Undo\");\n",
    "}\n",
    "\n"
   ]
  },
  {
   "cell_type": "markdown",
   "metadata": {},
   "source": [
    "### Default Interface Members"
   ]
  },
  {
   "cell_type": "code",
   "execution_count": null,
   "metadata": {
    "dotnet_interactive": {
     "language": "csharp"
    },
    "polyglot_notebook": {
     "kernelName": "csharp"
    },
    "vscode": {
     "languageId": "polyglot-notebook"
    }
   },
   "outputs": [],
   "source": [
    "//From C# 8, you can add a default implementation to an interface member, \n",
    "//making it optional to implement:\n",
    "\n",
    "interface ILogger\n",
    "{\n",
    "    void Log (string text) => Console.WriteLine (text);\n",
    "}\n",
    "\n",
    "class Logger : ILogger { }\n",
    "\n",
    "var log = new Logger();\n",
    "\n",
    "log.Log() //error // just call through the interface\n",
    "\n",
    "ILogger log1 = new Logger();\n",
    "log1.Log(\"\");\n"
   ]
  },
  {
   "cell_type": "code",
   "execution_count": null,
   "metadata": {
    "dotnet_interactive": {
     "language": "csharp"
    },
    "polyglot_notebook": {
     "kernelName": "csharp"
    },
    "vscode": {
     "languageId": "polyglot-notebook"
    }
   },
   "outputs": [],
   "source": [
    "//Interfaces can also now define static members (including fields), which can be\n",
    "//accessed from code inside default implementations\n",
    "\n",
    "interface ILogger\n",
    "{\n",
    "    void Log (string text) =>\n",
    "        Console.WriteLine (Prefix + text);\n",
    "\n",
    "    static string Prefix = \"\";\n",
    "}\n",
    "\n",
    "//Because interface members are implicitly public, \n",
    "//you can also access static members from the outside\n",
    "ILogger.Prefix = \"File log: \";"
   ]
  }
 ],
 "metadata": {
  "language_info": {
   "name": "python"
  }
 },
 "nbformat": 4,
 "nbformat_minor": 2
}
