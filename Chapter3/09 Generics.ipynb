{
 "cells": [
  {
   "cell_type": "markdown",
   "metadata": {},
   "source": [
    "C# has two separate mechanisms for writing code that is `reusable` across different types: `inheritance` and `generics`."
   ]
  },
  {
   "cell_type": "markdown",
   "metadata": {},
   "source": [
    "generics express reusability with a `template` that contains `placeholder` types."
   ]
  },
  {
   "cell_type": "markdown",
   "metadata": {},
   "source": [
    "### Generic Types"
   ]
  },
  {
   "cell_type": "markdown",
   "metadata": {},
   "source": [
    "A generic type declares type `parameters—placeholder` types to be `filled` in by the `consumer` of the generic type, which supplies the `type arguments`."
   ]
  },
  {
   "cell_type": "code",
   "execution_count": null,
   "metadata": {
    "vscode": {
     "languageId": "polyglot-notebook"
    }
   },
   "outputs": [],
   "source": [
    "public class Stack<T>\n",
    "{\n",
    "    int position;\n",
    "    T[] data = new T[100];\n",
    "    public void Push (T obj) => data[position++] = obj;\n",
    "    public T Pop() => data[--position];\n",
    "}\n",
    "\n",
    "var stack = new Stack<int>();\n",
    "stack.Push (5);\n",
    "stack.Push (10);\n",
    "int x = stack.Pop(); // x is 10\n",
    "int y = stack.Pop(); // y is 5"
   ]
  },
  {
   "cell_type": "markdown",
   "metadata": {},
   "source": [
    "Technically, we say that `Stack<T>` is an `open type`, whereas `Stack<int>` is a `closed type`. ***At runtime***, `all generic type instances are closed`"
   ]
  },
  {
   "cell_type": "markdown",
   "metadata": {},
   "source": [
    "### Why Generics Exist"
   ]
  },
  {
   "cell_type": "markdown",
   "metadata": {},
   "source": [
    "Generics exist to `write code` that is `reusable` across `different types`."
   ]
  },
  {
   "cell_type": "code",
   "execution_count": null,
   "metadata": {
    "vscode": {
     "languageId": "polyglot-notebook"
    }
   },
   "outputs": [],
   "source": [
    "//without generic , we must create stack for each type or:\n",
    "public class ObjectStack\n",
    "{\n",
    "    int position;\n",
    "    object[] data = new object[10];\n",
    "    public void Push (object obj) => data[position++] = obj;\n",
    "    public object Pop() => data[--position];\n",
    "}\n",
    "\n",
    "// Suppose we just want to store integers here:\n",
    "ObjectStack stack = new ObjectStack();\n",
    "stack.Push (\"s\"); // Wrong type, but no error!\n",
    "int i = (int)stack.Pop(); // Downcast - runtime error"
   ]
  },
  {
   "cell_type": "markdown",
   "metadata": {},
   "source": [
    "with generics we use stack to a `specific element type` for increased `type safety` and `reduced` `casting` and `boxing`."
   ]
  },
  {
   "cell_type": "markdown",
   "metadata": {},
   "source": [
    "### Generic Methods"
   ]
  },
  {
   "cell_type": "code",
   "execution_count": null,
   "metadata": {
    "vscode": {
     "languageId": "polyglot-notebook"
    }
   },
   "outputs": [],
   "source": [
    "static void Swap<T> (ref T a, ref T b)\n",
    "{\n",
    "    T temp = a;\n",
    "    a = b;\n",
    "    b = temp;\n",
    "}\n",
    "\n",
    "int x = 5;\n",
    "int y = 10;\n",
    "Swap (ref x, ref y); //no need to supply type arguments \n",
    "//compiler can implicitly infer the type."
   ]
  },
  {
   "cell_type": "markdown",
   "metadata": {},
   "source": [
    "`Methods` and `types` are the `only` constructs that can introduce type parameters. Properties, indexers, events, fields, constructors, operators, and so on `cannot` declare type parameters"
   ]
  },
  {
   "cell_type": "markdown",
   "metadata": {},
   "source": [
    "they can use generic of `enclosing type`."
   ]
  },
  {
   "cell_type": "markdown",
   "metadata": {},
   "source": [
    "### Declaring Type Parameters"
   ]
  },
  {
   "cell_type": "markdown",
   "metadata": {},
   "source": [
    "Type parameters can be introduced in the declaration of `classes`, `structs`, `interfaces`, `delegates` , and `methods`."
   ]
  },
  {
   "cell_type": "code",
   "execution_count": null,
   "metadata": {
    "vscode": {
     "languageId": "polyglot-notebook"
    }
   },
   "outputs": [],
   "source": [
    "public struct Nullable<T>\n",
    "{\n",
    "    public T Value { get; } // property can use type parameter\n",
    "}\n",
    "\n",
    "//A generic type or method can have multiple parameters:\n",
    "class Dictionary<TKey, TValue> {}\n",
    "\n",
    "//To instantiate:\n",
    "Dictionary<int,string> myDict = new Dictionary<int,string>();\n",
    "\n",
    "\n",
    "//Generic type names and method names can be overloaded as long as the number\n",
    "//of type parameters is different.\n",
    "class A {}\n",
    "class A<T> {}\n",
    "class A<T1,T2> {}\n",
    "\n",
    "//By convention, generic types and methods with a single type\n",
    "//parameter typically name their parameter T\n",
    "/*When using multiple type parameters, \n",
    "each parameter is prefixed with T but has a more descriptive name.*/"
   ]
  },
  {
   "cell_type": "markdown",
   "metadata": {},
   "source": [
    "### typeof and Unbound Generic Types"
   ]
  },
  {
   "cell_type": "markdown",
   "metadata": {},
   "source": [
    "`Open generic` types do not exist at `runtime`: they are `closed` as part of `compilation`."
   ]
  },
  {
   "cell_type": "markdown",
   "metadata": {},
   "source": [
    "it is `possible` for an `unbound generic` type to exist at `runtime`—`purely as a Type object`."
   ]
  },
  {
   "cell_type": "code",
   "execution_count": 1,
   "metadata": {
    "vscode": {
     "languageId": "polyglot-notebook"
    }
   },
   "outputs": [
    {
     "name": "stdout",
     "output_type": "stream",
     "text": [
      "Submission#2+A`1[T]\n",
      "Submission#2+A`2[T1,T2]\n"
     ]
    }
   ],
   "source": [
    "class A<T> {}\n",
    "class A<T1,T2> {}\n",
    "\n",
    "Type a1 = typeof (A<>); // Unbound type (notice no type arguments).\n",
    "Type a2 = typeof (A<,>); // Use commas to indicate multiple type args.\n",
    "\n",
    "Console.WriteLine(a1.ToString());\n",
    "Console.WriteLine(a2.ToString());\n",
    "\n",
    "//You can also use the typeof operator to specify a closed type:\n",
    "Type a3 = typeof (A<int,int>);\n",
    "\n",
    "//very useful for DI\n",
    "\n",
    "//Or, you can specify an open type (which is closed at runtime):\n",
    "class B<T> { void X() { Type t = typeof (T); } }"
   ]
  },
  {
   "cell_type": "markdown",
   "metadata": {},
   "source": [
    "### The default Generic Value"
   ]
  },
  {
   "cell_type": "code",
   "execution_count": 2,
   "metadata": {
    "vscode": {
     "languageId": "polyglot-notebook"
    }
   },
   "outputs": [],
   "source": [
    "//The default value for a reference type is null\n",
    "//default value for a value type is the result of \n",
    "//bitwise-zeroing the value type’s fields\n",
    "\n",
    "static void Zap<T> (T[] array)\n",
    "{\n",
    "    for (int i = 0; i < array.Length; i++)\n",
    "        array[i] = default(T);\n",
    "    /*From C# 7.1, you can omit the type argument for cases in which \n",
    "    the compiler is ableto infer it. \n",
    "    We could replace the last line of code with this:\n",
    "        array[i] = default;*/\n",
    "}"
   ]
  },
  {
   "cell_type": "markdown",
   "metadata": {},
   "source": [
    "<div dir=\"rtl\" style=\"width: 90%;\">\n",
    "\n",
    "عبارت \"bitwise-zeroing\" به فرآیندی اشاره دارد که در آن تمام بیت‌های حافظه‌ای که به نوع مقداری اختصاص یافته، به صفر تنظیم می‌شوند. این بدین معناست که هر فیلد درون ساختار یا نوع مقداری به مقدار صفر اولیه‌سازی می‌شود. برای انواع ابتدایی مانند int یا double، این به معنای صفر عددی است. برای انواع بولین (bool), صفر به معنای false است.\n",
    "</div>"
   ]
  },
  {
   "cell_type": "markdown",
   "metadata": {},
   "source": [
    "### Generic Constraints"
   ]
  },
  {
   "cell_type": "code",
   "execution_count": null,
   "metadata": {
    "vscode": {
     "languageId": "polyglot-notebook"
    }
   },
   "outputs": [],
   "source": [
    "public class GenericRepository<TEntity>\n",
    "    where TEntity : Entity\n",
    "{}"
   ]
  },
  {
   "cell_type": "markdown",
   "metadata": {},
   "source": [
    "where T : base-class // Base-class constraint\n",
    "where T : interface // Interface constraint\n",
    "where T : class // Reference-type constraint\n",
    "where T : class? // (see \"Nullable Reference Types\" in Chapter 1)\n",
    "where T : struct // Value-type constraint (excludes Nullable types)\n",
    "where T : unmanaged // Unmanaged constraint\n",
    "where T : new() // Parameterless constructor constraint\n",
    "where U : T // Naked type constraint"
   ]
  },
  {
   "cell_type": "code",
   "execution_count": null,
   "metadata": {
    "vscode": {
     "languageId": "polyglot-notebook"
    }
   },
   "outputs": [],
   "source": [
    "public class TestConstraint<T> where T : class\n",
    "{ }\n",
    "\n",
    "public class TestConstraint1<T> where T : TestConstraint<T>\n",
    "{ }\n",
    "\n",
    "public class TestConstraint2<T> where T : IEnumerable<T>\n",
    "{ }\n",
    "\n",
    "public class TestConstraint3<T> where T : class?\n",
    "{ }\n",
    "\n",
    "public class TestConstraint4<T> where T : struct\n",
    "{ }\n",
    "\n",
    "public class TestConstraint5<T> where T : unmanaged // T is not refrence type and if is value type, dont refrence to referrenc type\n",
    "{ }\n",
    "\n",
    "public class TestConstraint6<T> where T : new() // jsut types can instanciated\n",
    "{ }\n",
    "\n",
    "public class TestConstraint7<T, U> where U : T\n",
    "{ }\n",
    "\n",
    "public class TestConstraint7<T> where T : notnull\n",
    "{ }"
   ]
  },
  {
   "cell_type": "code",
   "execution_count": null,
   "metadata": {
    "vscode": {
     "languageId": "polyglot-notebook"
    }
   },
   "outputs": [],
   "source": [
    "class GenericClass<T,U> where T : SomeClass, Interface1\n",
    "where U : new()\n",
    "\n",
    "static T Max <T> (T a, T b) where T : IComparable<T>\n",
    "{\n",
    "    return a.CompareTo (b) > 0 ? a : b;\n",
    "}"
   ]
  },
  {
   "cell_type": "markdown",
   "metadata": {},
   "source": [
    "### Subclassing Generic Types"
   ]
  },
  {
   "cell_type": "code",
   "execution_count": null,
   "metadata": {
    "vscode": {
     "languageId": "polyglot-notebook"
    }
   },
   "outputs": [],
   "source": [
    "class Stack<T> {}\n",
    "class SpecialStack<T> : Stack<T> {}\n",
    "\n",
    "//A subtype can also introduce fresh type arguments:\n",
    "class List<T> {}\n",
    "class KeyedList<T,TKey> : List<T> {}"
   ]
  },
  {
   "cell_type": "markdown",
   "metadata": {},
   "source": [
    "### Self-Referencing Generic Declarations"
   ]
  },
  {
   "cell_type": "code",
   "execution_count": null,
   "metadata": {
    "vscode": {
     "languageId": "polyglot-notebook"
    }
   },
   "outputs": [],
   "source": [
    "//A type can name itself as the concrete type when closing a type argument:\n",
    "public interface IEquatable<T> { bool Equals (T obj); }\n",
    "public class Balloon : IEquatable<Balloon>\n",
    "{\n",
    "    public string Color { get; set; }\n",
    "    public int CC { get; set; }\n",
    "    public bool Equals (Balloon b)\n",
    "    {\n",
    "        if (b == null) return false;\n",
    "        return b.Color == Color && b.CC == CC;\n",
    "    }\n",
    "}"
   ]
  },
  {
   "cell_type": "markdown",
   "metadata": {},
   "source": [
    "### Static Data"
   ]
  },
  {
   "cell_type": "code",
   "execution_count": null,
   "metadata": {
    "vscode": {
     "languageId": "polyglot-notebook"
    }
   },
   "outputs": [],
   "source": [
    "//Static data is unique for each closed type:\n",
    "Console.WriteLine (++Bob<int>.Count); // 1\n",
    "Console.WriteLine (++Bob<int>.Count); // 2\n",
    "Console.WriteLine (++Bob<string>.Count); // 1\n",
    "Console.WriteLine (++Bob<object>.Count); // 1\n",
    "class Bob<T> { public static int Count; }"
   ]
  },
  {
   "cell_type": "markdown",
   "metadata": {},
   "source": [
    "### Type Parameters and Conversions"
   ]
  },
  {
   "cell_type": "markdown",
   "metadata": {},
   "source": [
    "C#’s cast operator can perform several kinds of conversion, including:\n",
    "- Numeric conversion\n",
    "- Reference conversion\n",
    "- Boxing/unboxing conversion\n",
    "- Custom conversion"
   ]
  }
 ],
 "metadata": {
  "language_info": {
   "name": "python"
  }
 },
 "nbformat": 4,
 "nbformat_minor": 2
}
