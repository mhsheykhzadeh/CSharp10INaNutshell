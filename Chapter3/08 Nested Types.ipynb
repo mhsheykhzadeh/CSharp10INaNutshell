{
 "cells": [
  {
   "cell_type": "code",
   "execution_count": null,
   "metadata": {
    "dotnet_interactive": {
     "language": "csharp"
    },
    "polyglot_notebook": {
     "kernelName": "csharp"
    },
    "vscode": {
     "languageId": "polyglot-notebook"
    }
   },
   "outputs": [],
   "source": [
    "//A nested type is declared within the scope of another type:\n",
    "\n",
    "public class TopLevel\n",
    "{\n",
    "    public class Nested { } // Nested class\n",
    "    public enum Color { Red, Blue, Tan } // Nested enum\n",
    "}\n",
    "\n",
    "TopLevel.Color color = TopLevel.Color.Red;"
   ]
  },
  {
   "cell_type": "code",
   "execution_count": null,
   "metadata": {
    "vscode": {
     "languageId": "polyglot-notebook"
    }
   },
   "outputs": [],
   "source": [
    "//Here is an example of accessing a private member of a type from a nested type:\n",
    "public class TopLevel\n",
    "{\n",
    "    static int x;\n",
    "    class Nested\n",
    "    {\n",
    "        static void Foo() { Console.WriteLine (TopLevel.x); }\n",
    "    }\n",
    "}"
   ]
  },
  {
   "cell_type": "code",
   "execution_count": null,
   "metadata": {
    "vscode": {
     "languageId": "polyglot-notebook"
    }
   },
   "outputs": [],
   "source": [
    "//Here is an example of applying the protected access modifier to a nested type:\n",
    "public class TopLevel\n",
    "{\n",
    "    protected class Nested { }\n",
    "}\n",
    "public class SubTopLevel : TopLevel\n",
    "{\n",
    "    static void Foo() { new TopLevel.Nested(); }\n",
    "}"
   ]
  },
  {
   "cell_type": "markdown",
   "metadata": {},
   "source": [
    "All types (`classes`, `structs`, `interfaces`, `delegates`, and `enums`) can be nested within either a `class` or a `struct`."
   ]
  }
 ],
 "metadata": {
  "language_info": {
   "name": "python"
  }
 },
 "nbformat": 4,
 "nbformat_minor": 2
}
