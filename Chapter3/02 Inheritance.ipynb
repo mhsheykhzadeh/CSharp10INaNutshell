{
 "cells": [
  {
   "cell_type": "markdown",
   "metadata": {},
   "source": [
    "### Casting and Reference Conversions"
   ]
  },
  {
   "cell_type": "markdown",
   "metadata": {},
   "source": [
    "An object reference can be:  \n",
    "- ***Implicitly*** `upcast` to a base class reference\n",
    "- ***Explicitly*** `downcast` to a subclass reference"
   ]
  },
  {
   "cell_type": "markdown",
   "metadata": {},
   "source": [
    "`Upcasting` and `downcasting` between compatible reference types performs ***reference conversions***"
   ]
  },
  {
   "cell_type": "markdown",
   "metadata": {},
   "source": [
    "#### Upcasting"
   ]
  },
  {
   "cell_type": "code",
   "execution_count": 3,
   "metadata": {
    "dotnet_interactive": {
     "language": "csharp"
    },
    "polyglot_notebook": {
     "kernelName": "csharp"
    },
    "vscode": {
     "languageId": "polyglot-notebook"
    }
   },
   "outputs": [
    {
     "name": "stdout",
     "output_type": "stream",
     "text": [
      "True\n",
      "\n"
     ]
    }
   ],
   "source": [
    "public class Asset\n",
    "{\n",
    "    public string Name;\n",
    "}\n",
    "\n",
    "public class Stock : Asset // inherits from Asset\n",
    "{\n",
    "    public long SharesOwned;\n",
    "}\n",
    "\n",
    "public class House : Asset // inherits from Asset\n",
    "{\n",
    "    public decimal Mortgage;\n",
    "}\n",
    "\n",
    "Stock msft = new Stock();\n",
    "Asset a = msft; // Upcast\n",
    "\n",
    "Console.WriteLine (a == msft); // true\n",
    "\n",
    "Console.WriteLine (a.Name); // OK\n",
    "//Console.WriteLine (a.SharesOwned); // Compile-time error"
   ]
  },
  {
   "cell_type": "markdown",
   "metadata": {},
   "source": [
    "#### Downcasting"
   ]
  },
  {
   "cell_type": "code",
   "execution_count": null,
   "metadata": {
    "dotnet_interactive": {
     "language": "csharp"
    },
    "polyglot_notebook": {
     "kernelName": "csharp"
    },
    "vscode": {
     "languageId": "polyglot-notebook"
    }
   },
   "outputs": [],
   "source": [
    "//a downcast operation creates a subclass reference from a base class reference:\n",
    "Stock msft = new Stock();\n",
    "Asset a = msft;\n",
    "Stock s = (Stock)a; // Downcast\n",
    "Console.WriteLine (s.SharesOwned); // <No error>\n",
    "Console.WriteLine (s == a); // True\n",
    "Console.WriteLine (s == msft); // True\n",
    "\n",
    "House h = new House();\n",
    "Asset aa = h; // Upcast always succeeds\n",
    "Stock ss = (Stock)aa; // Downcast fails: a is not a Stock\n",
    "\n",
    "/******This is an example of runtime type checking *****/"
   ]
  },
  {
   "cell_type": "markdown",
   "metadata": {},
   "source": [
    "#### The as operator"
   ]
  },
  {
   "cell_type": "code",
   "execution_count": null,
   "metadata": {
    "dotnet_interactive": {
     "language": "csharp"
    },
    "polyglot_notebook": {
     "kernelName": "csharp"
    },
    "vscode": {
     "languageId": "polyglot-notebook"
    }
   },
   "outputs": [],
   "source": [
    "//as operator is downcast, evaluate to null if downcast fails\n",
    "\n",
    "Asset a = new Asset();\n",
    "Stock s = a as Stock; // s is null; no exception thrown\n",
    "if (s != null) Console.WriteLine (s.SharesOwned);"
   ]
  },
  {
   "cell_type": "markdown",
   "metadata": {},
   "source": [
    "#### The is operator"
   ]
  },
  {
   "cell_type": "code",
   "execution_count": 4,
   "metadata": {
    "dotnet_interactive": {
     "language": "csharp"
    },
    "polyglot_notebook": {
     "kernelName": "csharp"
    },
    "vscode": {
     "languageId": "polyglot-notebook"
    }
   },
   "outputs": [],
   "source": [
    "//is operator tests whether a variable matches a pattern.\n",
    "if (a is Stock)\n",
    "    Console.WriteLine (((Stock)a).SharesOwned);"
   ]
  },
  {
   "cell_type": "markdown",
   "metadata": {},
   "source": [
    "#### Introducing a pattern variable"
   ]
  },
  {
   "cell_type": "code",
   "execution_count": null,
   "metadata": {
    "dotnet_interactive": {
     "language": "csharp"
    },
    "polyglot_notebook": {
     "kernelName": "csharp"
    },
    "vscode": {
     "languageId": "polyglot-notebook"
    }
   },
   "outputs": [],
   "source": [
    "if (a is Stock s)\n",
    "    Console.WriteLine (s.SharesOwned);\n",
    "\n",
    "if (a is Stock ss && ss.SharesOwned > 100000)\n",
    "    Console.WriteLine (\"Wealthy\");"
   ]
  },
  {
   "cell_type": "code",
   "execution_count": null,
   "metadata": {
    "dotnet_interactive": {
     "language": "csharp"
    },
    "polyglot_notebook": {
     "kernelName": "csharp"
    },
    "vscode": {
     "languageId": "polyglot-notebook"
    }
   },
   "outputs": [],
   "source": [
    "//it remains in scope outside the is expression\n",
    "\n",
    "if (a is Stock s && s.SharesOwned > 100000)\n",
    "Console.WriteLine (\"Wealthy\");\n",
    "else\n",
    "s = new Stock(); // s is in scope\n",
    "Console.WriteLine (s.SharesOwned); // Still in scope"
   ]
  },
  {
   "cell_type": "markdown",
   "metadata": {},
   "source": [
    "### Virtual Function Members"
   ]
  },
  {
   "cell_type": "markdown",
   "metadata": {},
   "source": [
    "A function marked as ***virtual*** can be `overridden` by `subclasses` wanting to provide a specialized implementation."
   ]
  },
  {
   "cell_type": "markdown",
   "metadata": {},
   "source": [
    "`Methods`, `properties`, `indexers`, and `events` can all be declared virtual"
   ]
  },
  {
   "cell_type": "code",
   "execution_count": 5,
   "metadata": {
    "dotnet_interactive": {
     "language": "csharp"
    },
    "polyglot_notebook": {
     "kernelName": "csharp"
    },
    "vscode": {
     "languageId": "polyglot-notebook"
    }
   },
   "outputs": [],
   "source": [
    "public class Asset\n",
    "{\n",
    "    public string Name;\n",
    "    public virtual decimal Liability => 0; // Expression-bodied property\n",
    "    //Liability => 0 is a shortcut for { get { return 0; } }.\n",
    "}\n",
    "\n",
    "public class Stock : Asset\n",
    "{\n",
    "    public long SharesOwned;\n",
    "}\n",
    "\n",
    "public class House : Asset\n",
    "{\n",
    "    public decimal Mortgage;\n",
    "    public override decimal Liability => Mortgage;\n",
    "}"
   ]
  },
  {
   "cell_type": "code",
   "execution_count": null,
   "metadata": {
    "dotnet_interactive": {
     "language": "csharp"
    },
    "polyglot_notebook": {
     "kernelName": "csharp"
    },
    "vscode": {
     "languageId": "polyglot-notebook"
    }
   },
   "outputs": [],
   "source": [
    "House mansion = new House { Name=\"McMansion\", Mortgage=250000 };\n",
    "Asset a = mansion;\n",
    "Console.WriteLine (mansion.Liability); // 250000\n",
    "Console.WriteLine (a.Liability); // 250000"
   ]
  },
  {
   "cell_type": "markdown",
   "metadata": {},
   "source": [
    "#### Abstract Classes and Abstract Members"
   ]
  },
  {
   "cell_type": "markdown",
   "metadata": {},
   "source": [
    "A class declared as `abstract` can `never be instantiated`.  \n",
    "Abstract classes are able to define `abstract members`.  \n",
    "***Abstract members*** are like ***virtual members*** except that `they don’t provide a default implementation`."
   ]
  },
  {
   "cell_type": "code",
   "execution_count": null,
   "metadata": {
    "dotnet_interactive": {
     "language": "csharp"
    },
    "polyglot_notebook": {
     "kernelName": "csharp"
    },
    "vscode": {
     "languageId": "polyglot-notebook"
    }
   },
   "outputs": [],
   "source": [
    "public abstract class Asset\n",
    "{\n",
    "    // Note empty implementation\n",
    "    public abstract decimal NetValue { get; }\n",
    "}\n",
    "public class Stock : Asset\n",
    "{\n",
    "    public long SharesOwned;\n",
    "    public decimal CurrentPrice;\n",
    "    // Override like a virtual method.\n",
    "    public override decimal NetValue => CurrentPrice * SharesOwned;\n",
    "}"
   ]
  },
  {
   "cell_type": "markdown",
   "metadata": {},
   "source": [
    "### Hiding Inherited Members"
   ]
  },
  {
   "cell_type": "code",
   "execution_count": null,
   "metadata": {
    "dotnet_interactive": {
     "language": "csharp"
    },
    "polyglot_notebook": {
     "kernelName": "csharp"
    },
    "vscode": {
     "languageId": "polyglot-notebook"
    }
   },
   "outputs": [],
   "source": [
    "public class A { public int Counter = 1; }\n",
    "public class B : A { public int Counter = 2; /*warnign is accident*/ }\n",
    "\n",
    "public class C : A { public new int Counter = 2; /* call to other, is no accident*/ }\n",
    "\n",
    "public class D : A { public override int Counter = 2; /* not virtual*/ }"
   ]
  },
  {
   "cell_type": "markdown",
   "metadata": {},
   "source": [
    "#### new versus override"
   ]
  },
  {
   "cell_type": "code",
   "execution_count": null,
   "metadata": {
    "dotnet_interactive": {
     "language": "csharp"
    },
    "polyglot_notebook": {
     "kernelName": "csharp"
    },
    "vscode": {
     "languageId": "polyglot-notebook"
    }
   },
   "outputs": [],
   "source": [
    "public class BaseClass\n",
    "{\n",
    "    public virtual void Foo() { Console.WriteLine (\"BaseClass.Foo\"); }\n",
    "}\n",
    "public class Overrider : BaseClass\n",
    "{\n",
    "    public override void Foo() { Console.WriteLine (\"Overrider.Foo\"); }\n",
    "}\n",
    "public class Hider : BaseClass\n",
    "{\n",
    "    public new void Foo() { Console.WriteLine (\"Hider.Foo\"); }\n",
    "}\n",
    "\n",
    "Overrider over = new Overrider();\n",
    "BaseClass b1 = over;\n",
    "over.Foo(); // Overrider.Foo\n",
    "b1.Foo(); // Overrider.Foo\n",
    "\n",
    "\n",
    "Hider h = new Hider();\n",
    "BaseClass b2 = h;\n",
    "h.Foo(); // Hider.Foo\n",
    "b2.Foo(); // BaseClass.Foo"
   ]
  },
  {
   "cell_type": "markdown",
   "metadata": {},
   "source": [
    "### Sealing Functions and Classes"
   ]
  },
  {
   "cell_type": "code",
   "execution_count": null,
   "metadata": {
    "dotnet_interactive": {
     "language": "csharp"
    },
    "polyglot_notebook": {
     "kernelName": "csharp"
    },
    "vscode": {
     "languageId": "polyglot-notebook"
    }
   },
   "outputs": [],
   "source": [
    "public class BaseClass\n",
    "{\n",
    "    public virtual void Foo() { Console.WriteLine (\"BaseClass.Foo\"); }\n",
    "}\n",
    "public class Overrider : BaseClass\n",
    "{\n",
    "    public sealed override void Foo() { Console.WriteLine (\"Overrider.Foo\"); }\n",
    "    //prevent it from being overridden by further subclasses\n",
    "}\n",
    "public sealed class SealedClass : BaseClass //prevent subclassing\n",
    "{\n",
    "    public new void Foo() { Console.WriteLine (\"Hider.Foo\"); }\n",
    "}"
   ]
  },
  {
   "cell_type": "markdown",
   "metadata": {},
   "source": [
    "### The base Keyword"
   ]
  },
  {
   "cell_type": "markdown",
   "metadata": {},
   "source": [
    "The `base` keyword is similar to the `this` keyword. It serves two essential purposes:  \n",
    "  \n",
    "- Accessing an `overridden function member` from the `subclass`\n",
    "- Calling a `base-class constructor` (see the next section)"
   ]
  },
  {
   "cell_type": "code",
   "execution_count": null,
   "metadata": {
    "dotnet_interactive": {
     "language": "csharp"
    },
    "polyglot_notebook": {
     "kernelName": "csharp"
    },
    "vscode": {
     "languageId": "polyglot-notebook"
    }
   },
   "outputs": [],
   "source": [
    "public class Asset\n",
    "{\n",
    "    public Asset(){}\n",
    "    \n",
    "    public string Name;\n",
    "    public virtual decimal Liability => 0; \n",
    "}\n",
    "\n",
    "public class House : Asset\n",
    "{\n",
    "    public House():base(){}\n",
    "\n",
    "    public decimal Mortgage;\n",
    "    public override decimal Liability => base.Liability + Mortgage;\n",
    "}"
   ]
  },
  {
   "cell_type": "markdown",
   "metadata": {},
   "source": [
    "### Constructors and Inheritance"
   ]
  },
  {
   "cell_type": "markdown",
   "metadata": {},
   "source": [
    "A subclass must declare its `own constructors`. The `base class’s constructors` are\n",
    "`accessible` to the `derived` class but are never `automatically` inherited."
   ]
  },
  {
   "cell_type": "code",
   "execution_count": 2,
   "metadata": {
    "dotnet_interactive": {
     "language": "csharp"
    },
    "polyglot_notebook": {
     "kernelName": "csharp"
    },
    "vscode": {
     "languageId": "polyglot-notebook"
    }
   },
   "outputs": [],
   "source": [
    "public class Baseclass\n",
    "{\n",
    "    public int X;\n",
    "    public Baseclass () { }\n",
    "    public Baseclass (int x) { this.X = x; }\n",
    "}"
   ]
  },
  {
   "cell_type": "code",
   "execution_count": 3,
   "metadata": {
    "dotnet_interactive": {
     "language": "csharp"
    },
    "polyglot_notebook": {
     "kernelName": "csharp"
    },
    "vscode": {
     "languageId": "polyglot-notebook"
    }
   },
   "outputs": [
    {
     "ename": "Error",
     "evalue": "(3,18): error CS1729: 'Subclass' does not contain a constructor that takes 1 arguments",
     "output_type": "error",
     "traceback": [
      "(3,18): error CS1729: 'Subclass' does not contain a constructor that takes 1 arguments"
     ]
    }
   ],
   "source": [
    "public class Subclass : Baseclass { }\n",
    "\n",
    "Subclass s = new Subclass (123); //illegal"
   ]
  },
  {
   "cell_type": "code",
   "execution_count": 4,
   "metadata": {
    "dotnet_interactive": {
     "language": "csharp"
    },
    "polyglot_notebook": {
     "kernelName": "csharp"
    },
    "vscode": {
     "languageId": "polyglot-notebook"
    }
   },
   "outputs": [
    {
     "name": "stdout",
     "output_type": "stream",
     "text": [
      "123\r\n"
     ]
    }
   ],
   "source": [
    "public class Subclass : Baseclass\n",
    "{\n",
    "    public Subclass (int x) : base (x) { }\n",
    "}\n",
    "\n",
    "Subclass s = new Subclass (123);\n",
    "\n",
    "Console.WriteLine(s.X);"
   ]
  },
  {
   "cell_type": "markdown",
   "metadata": {},
   "source": [
    "***!!!Important!!!***   \n",
    "Base-class constructors always `execute first`; this ensures that `base initialization` occurs `before` specialized initialization."
   ]
  },
  {
   "cell_type": "markdown",
   "metadata": {},
   "source": [
    "#### Implicit calling of the parameterless base-class constructor"
   ]
  },
  {
   "cell_type": "markdown",
   "metadata": {},
   "source": [
    "If a constructor in a subclass `omits the base keyword`, the base type’s parameterless constructor is `implicitly` called"
   ]
  },
  {
   "cell_type": "code",
   "execution_count": null,
   "metadata": {
    "dotnet_interactive": {
     "language": "csharp"
    },
    "polyglot_notebook": {
     "kernelName": "csharp"
    },
    "vscode": {
     "languageId": "polyglot-notebook"
    }
   },
   "outputs": [],
   "source": [
    "public class BaseClass\n",
    "{\n",
    "    public int X;\n",
    "    public BaseClass() { X = 1; }\n",
    "}\n",
    "public class Subclass : BaseClass\n",
    "{\n",
    "    public Subclass() { Console.WriteLine (X); } // 1\n",
    "}"
   ]
  },
  {
   "cell_type": "code",
   "execution_count": null,
   "metadata": {
    "dotnet_interactive": {
     "language": "csharp"
    },
    "polyglot_notebook": {
     "kernelName": "csharp"
    },
    "vscode": {
     "languageId": "polyglot-notebook"
    }
   },
   "outputs": [],
   "source": [
    "public class BaseClass\n",
    "{\n",
    "    public int X;\n",
    "    private BaseClass() { X = 1; }\n",
    "}\n",
    "public class Subclass : BaseClass\n",
    "{\n",
    "    public Subclass() { Console.WriteLine (X); } // 1\n",
    "}"
   ]
  },
  {
   "cell_type": "markdown",
   "metadata": {},
   "source": [
    "#### Constructor and field initialization order"
   ]
  },
  {
   "cell_type": "markdown",
   "metadata": {},
   "source": [
    "When an object is `instantiated`, initialization takes place in the following `order`:  \n",
    "  \n",
    "1. From subclass to base class:  \n",
    "    a. Fields are initialized.  \n",
    "    b. Arguments to base-class constructor calls are evaluated.\n",
    "2. From base class to subclass:  \n",
    "    a. Constructor bodies execute."
   ]
  },
  {
   "cell_type": "code",
   "execution_count": 5,
   "metadata": {
    "dotnet_interactive": {
     "language": "csharp"
    },
    "polyglot_notebook": {
     "kernelName": "csharp"
    },
    "vscode": {
     "languageId": "polyglot-notebook"
    }
   },
   "outputs": [],
   "source": [
    "public class B\n",
    "{\n",
    "    int x = 1; // Executes 3rd\n",
    "    public B (int x)\n",
    "    {\n",
    "        // Executes 4th\n",
    "    }\n",
    "}\n",
    "public class D : B\n",
    "{\n",
    "    int y = 1; // Executes 1st\n",
    "    public D (int x)\n",
    "        : base (x + 1) // Executes 2nd\n",
    "    {\n",
    "        // Executes 5th\n",
    "    }\n",
    "}\n",
    "\n",
    "var d = new D(2);"
   ]
  },
  {
   "cell_type": "markdown",
   "metadata": {},
   "source": [
    "### Overloading and Resolution"
   ]
  },
  {
   "cell_type": "code",
   "execution_count": 4,
   "metadata": {
    "dotnet_interactive": {
     "language": "csharp"
    },
    "polyglot_notebook": {
     "kernelName": "csharp"
    },
    "vscode": {
     "languageId": "polyglot-notebook"
    }
   },
   "outputs": [
    {
     "name": "stdout",
     "output_type": "stream",
     "text": [
      "Foo(House)\n",
      "Foo(Asset)\n"
     ]
    }
   ],
   "source": [
    "public class Asset{}\n",
    "public class House : Asset{}\n",
    "\n",
    "static void Foo (Asset a) { Console.WriteLine(\"Foo(Asset)\"); }\n",
    "static void Foo (House h) { Console.WriteLine(\"Foo(House)\"); }\n",
    "\n",
    "House h = new House();\n",
    "Foo(h); //Foo(House)\n",
    "\n",
    "Asset a = new House();\n",
    "Foo(a); //Foo(Asset)\n"
   ]
  }
 ],
 "metadata": {
  "language_info": {
   "name": "python"
  }
 },
 "nbformat": 4,
 "nbformat_minor": 2
}
