{
 "cells": [
  {
   "cell_type": "markdown",
   "metadata": {},
   "source": [
    "A `struct` is similar to a `class`, with the following key differences:  \n",
    "- A struct is a `value type`, whereas a class is a `reference type`.\n",
    "- A struct `does not support inheritance` (other than implicitly deriving from\n",
    "object, or more precisely, System.ValueType)."
   ]
  },
  {
   "cell_type": "markdown",
   "metadata": {},
   "source": [
    "A struct can have `all of the members` that a class can, except for a `finalizer`."
   ]
  },
  {
   "cell_type": "markdown",
   "metadata": {},
   "source": [
    "because it `cannot be subclassed`, members `cannot be marked` as `virtual`, `abstract`, or `protected`."
   ]
  },
  {
   "cell_type": "markdown",
   "metadata": {},
   "source": [
    "A struct is appropriate when `value-type semantics` are desirable.  \n",
    "***هدف اصلی از داده، مقدار آن باشد***"
   ]
  },
  {
   "cell_type": "code",
   "execution_count": 1,
   "metadata": {
    "dotnet_interactive": {
     "language": "csharp"
    },
    "polyglot_notebook": {
     "kernelName": "csharp"
    },
    "vscode": {
     "languageId": "polyglot-notebook"
    }
   },
   "outputs": [
    {
     "ename": "Error",
     "evalue": "(4,9): error CS0037: Cannot convert null to 'A' because it is a non-nullable value type",
     "output_type": "error",
     "traceback": [
      "(4,9): error CS0037: Cannot convert null to 'A' because it is a non-nullable value type"
     ]
    }
   ],
   "source": [
    "//Because structs are value types, an instance cannot be null\n",
    "\n",
    "A a;\n",
    "if(a is null){}\n",
    "\n",
    "B b;\n",
    "if(b is null){}\n",
    "\n",
    "struct A{\n",
    "    public int X;\n",
    "}\n",
    "\n",
    "class B {\n",
    "    public int X;\n",
    "}\n"
   ]
  },
  {
   "cell_type": "markdown",
   "metadata": {},
   "source": [
    "### Struct Construction Semantics"
   ]
  },
  {
   "cell_type": "markdown",
   "metadata": {},
   "source": [
    "In C# versions before 7.2, every field in a struct must be explicitly assigned in the constructor, but after that field can fill with field initializer."
   ]
  },
  {
   "cell_type": "code",
   "execution_count": 3,
   "metadata": {
    "dotnet_interactive": {
     "language": "csharp"
    },
    "polyglot_notebook": {
     "kernelName": "csharp"
    },
    "vscode": {
     "languageId": "polyglot-notebook"
    }
   },
   "outputs": [
    {
     "name": "stdout",
     "output_type": "stream",
     "text": [
      "0\r\n"
     ]
    }
   ],
   "source": [
    "struct Point\n",
    "{\n",
    "    public int x, y;\n",
    "    public Point (int x) { this.x = x; } // OK\n",
    "}\n",
    "\n",
    "var p = new Point(1);\n",
    "\n",
    "Console.WriteLine(p.y);"
   ]
  },
  {
   "cell_type": "markdown",
   "metadata": {},
   "source": [
    "#### The default constructor"
   ]
  },
  {
   "cell_type": "markdown",
   "metadata": {},
   "source": [
    "In addition to any constructors that you define, a struct always has an implicit\n",
    "parameterless constructor that performs a bitwise-zeroing of its fields(setting them\n",
    "to their default values)"
   ]
  },
  {
   "cell_type": "code",
   "execution_count": null,
   "metadata": {
    "dotnet_interactive": {
     "language": "csharp"
    },
    "polyglot_notebook": {
     "kernelName": "csharp"
    },
    "vscode": {
     "languageId": "polyglot-notebook"
    }
   },
   "outputs": [],
   "source": [
    "Point p1 = new Point(); // p1.x and p1.y will be 1\n",
    "Point p2 = default; // p2.x and p2.y will be 0\n",
    "struct Point\n",
    "{\n",
    "    int x = 1;\n",
    "    int y;\n",
    "    public Point() => y = 1;\n",
    "}\n",
    "\n",
    "//another way\n",
    "var points = new Point[10]; // Each point in the array will be (0,0)\n",
    "var test = new Test(); // test.p will be (0,0)\n",
    "class Test { Point p; }"
   ]
  },
  {
   "cell_type": "markdown",
   "metadata": {},
   "source": [
    "### Read-Only Structs and Functions"
   ]
  },
  {
   "cell_type": "markdown",
   "metadata": {},
   "source": [
    "You can apply the `readonly` modifier to a struct to enforce that `all fields` are\n",
    "`readonly`;"
   ]
  },
  {
   "cell_type": "code",
   "execution_count": null,
   "metadata": {
    "dotnet_interactive": {
     "language": "csharp"
    },
    "polyglot_notebook": {
     "kernelName": "csharp"
    },
    "vscode": {
     "languageId": "polyglot-notebook"
    }
   },
   "outputs": [],
   "source": [
    "readonly struct Point\n",
    "{\n",
    "    public readonly int X, Y; // X and Y must be readonly\n",
    "}"
   ]
  },
  {
   "cell_type": "markdown",
   "metadata": {},
   "source": [
    "<div dir=\"rtl\" style=\"width: 90%;\">\n",
    "وقتی یک ساختار به عنوان readonly تعریف می‌شود، شما به صراحت اعلام می‌کنید که این ساختار نباید تغییر کند پس از اینکه اولین بار ایجاد شد. این خاصیت به سایر توسعه‌دهندگان کمک می‌کند که بفهمند نحوه استفاده صحیح از ساختار چگونه است و از تغییر غیر منتظره وضعیت داخلی آن جلوگیری می‌کند.\n",
    "<br/><br/>\n",
    "<b>بهینه‌سازی کامپایلر</b><br/>\n",
    "از آنجا که کامپایلر می‌داند که فیلدهای readonly نمی‌توانند تغییر کنند، او می‌تواند بهینه‌سازی‌های بیشتری را اعمال کند. به عنوان مثال، کامپایلر ممکن است تصمیم بگیرد که به جای کپی کردن یک struct readonly هنگام فراخوانی متدها، به اشتراک‌گذاری مرجع به struct را انجام دهد، چرا که می‌داند تغییری در داده‌ها ایجاد نخواهد شد. این می‌تواند منجر به بهبود عملکرد برنامه شود.\n",
    "</div>"
   ]
  },
  {
   "cell_type": "markdown",
   "metadata": {},
   "source": [
    "you can apply the `readonly` modifier (from C# 8) to a `struct’s functions`."
   ]
  },
  {
   "cell_type": "code",
   "execution_count": null,
   "metadata": {
    "dotnet_interactive": {
     "language": "csharp"
    },
    "polyglot_notebook": {
     "kernelName": "csharp"
    },
    "vscode": {
     "languageId": "polyglot-notebook"
    }
   },
   "outputs": [],
   "source": [
    "struct Point\n",
    "{\n",
    "    public int X, Y;\n",
    "    public readonly void ResetX() => X = 0; // Error!\n",
    "}"
   ]
  },
  {
   "cell_type": "markdown",
   "metadata": {},
   "source": [
    "### Ref Structs"
   ]
  },
  {
   "cell_type": "code",
   "execution_count": null,
   "metadata": {
    "dotnet_interactive": {
     "language": "csharp"
    },
    "polyglot_notebook": {
     "kernelName": "csharp"
    },
    "vscode": {
     "languageId": "polyglot-notebook"
    }
   },
   "outputs": [],
   "source": [
    "//If a value type appears as a parameter or local variable, \n",
    "//it will reside on the stack:\n",
    "void SomeMethod()\n",
    "{\n",
    "    Point p; // p will reside on the stack\n",
    "}\n",
    "struct Point { public int X, Y; }\n",
    "\n",
    "//But if a value type appears as a field in a class, it will reside on the heap:\n",
    "class MyClass\n",
    "{\n",
    "    Point p; // Lives on heap, because MyClass instances live on the heap\n",
    "}"
   ]
  },
  {
   "cell_type": "markdown",
   "metadata": {},
   "source": [
    "Similarly, `arrays of structs` live on the `heap`, and `boxing a struct` sends it to the `heap`."
   ]
  },
  {
   "cell_type": "code",
   "execution_count": 2,
   "metadata": {
    "dotnet_interactive": {
     "language": "csharp"
    },
    "polyglot_notebook": {
     "kernelName": "csharp"
    },
    "vscode": {
     "languageId": "polyglot-notebook"
    }
   },
   "outputs": [
    {
     "ename": "Error",
     "evalue": "(4,18): error CS0611: Array elements cannot be of type 'Point'\r\n(6,17): error CS8345: Field or auto-implemented property cannot be of type 'Point' unless it is an instance member of a ref struct.",
     "output_type": "error",
     "traceback": [
      "(4,18): error CS0611: Array elements cannot be of type 'Point'\r\n",
      "(6,17): error CS8345: Field or auto-implemented property cannot be of type 'Point' unless it is an instance member of a ref struct."
     ]
    }
   ],
   "source": [
    "//Adding the ref modifier to a struct’s declaration \n",
    "//ensures that it can only ever reside on the stack.\n",
    "\n",
    "var points = new Point [100]; // Error: will not compile!\n",
    "ref struct Point { public int X, Y; }\n",
    "class MyClass { Point P; } // Error: will not compile!"
   ]
  },
  {
   "cell_type": "markdown",
   "metadata": {},
   "source": [
    "this feature most use on `Span<T>` and `ReadOnlySpan<T>` that we will descrip later"
   ]
  }
 ],
 "metadata": {
  "language_info": {
   "name": "python"
  }
 },
 "nbformat": 4,
 "nbformat_minor": 2
}
