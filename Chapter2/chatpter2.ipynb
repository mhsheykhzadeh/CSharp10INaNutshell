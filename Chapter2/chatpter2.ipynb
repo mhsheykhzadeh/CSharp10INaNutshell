{
 "cells": [
  {
   "cell_type": "markdown",
   "metadata": {},
   "source": [
    "# C# Language Basics"
   ]
  },
  {
   "cell_type": "code",
   "execution_count": null,
   "metadata": {
    "dotnet_interactive": {
     "language": "csharp"
    },
    "polyglot_notebook": {
     "kernelName": "csharp"
    },
    "vscode": {
     "languageId": "polyglot-notebook"
    }
   },
   "outputs": [],
   "source": [
    "using System;\n",
    "\n",
    "int x = 12 * 30;\n",
    "Console.WriteLine (x);"
   ]
  },
  {
   "cell_type": "markdown",
   "metadata": {},
   "source": [
    "## Literals\n"
   ]
  },
  {
   "cell_type": "markdown",
   "metadata": {},
   "source": [
    "`12`,`30`  \n",
    "\n",
    "`\"salam\"`  \n",
    "\n",
    "`true`  \n",
    "\n",
    "`'c'`"
   ]
  },
  {
   "cell_type": "markdown",
   "metadata": {},
   "source": [
    "## Functions"
   ]
  },
  {
   "cell_type": "code",
   "execution_count": null,
   "metadata": {
    "dotnet_interactive": {
     "language": "csharp"
    },
    "polyglot_notebook": {
     "kernelName": "csharp"
    },
    "vscode": {
     "languageId": "polyglot-notebook"
    }
   },
   "outputs": [],
   "source": [
    "using System;\n",
    "Console.WriteLine (FeetToInches (30)); // 360\n",
    "Console.WriteLine (FeetToInches (100)); // 1200\n",
    "\n",
    "int FeetToInches (int feet)\n",
    "{\n",
    "    int inches = feet * 12;\n",
    "    return inches;\n",
    "}"
   ]
  },
  {
   "cell_type": "markdown",
   "metadata": {},
   "source": [
    "Methods are one of several kinds of functions in C#. \n",
    "Another kind of function we used in our example program was the `*` operator, which performs multiplication.\n",
    "There are also `constructors`, `properties`, `events`, `indexers`, and `finalizers`."
   ]
  },
  {
   "cell_type": "markdown",
   "metadata": {},
   "source": [
    "## Compilation"
   ]
  },
  {
   "cell_type": "markdown",
   "metadata": {},
   "source": [
    "SourceCode ==> by Compiler ==> `assembly`.  \n",
    "  \n",
    "  \n",
    "`assembly` ==> can be ==> `library` or `application`.  \n",
    "  \n",
    "  \n",
    "`application` has an `entry point`.  \n",
    "  \n",
    "\n",
    "\n",
    "`application` can has one `top-level statement` file for `entry point`.  \n",
    "  \n",
    "`application` may not use the `top-level statement` and use `main` method for `entry point`"
   ]
  },
  {
   "cell_type": "markdown",
   "metadata": {},
   "source": [
    "`dll` (Dynamic Link Library).  \n",
    "  \n",
    "`.net framework` compile source code of application to `.exe` file.  \n",
    "  \n",
    "`.net6` or higher version, compile source code of application to `.dll` file. and `.exe` file has responsible for starting your application’s `.dll` assembly."
   ]
  },
  {
   "cell_type": "markdown",
   "metadata": {},
   "source": [
    ".NET 6 also allows you to create a self-contained deployment that includes the loader, your assemblies, and the .NET runtime— all in a single `.exe` file."
   ]
  },
  {
   "cell_type": "markdown",
   "metadata": {},
   "source": [
    "## dotnet CLI"
   ]
  },
  {
   "cell_type": "markdown",
   "metadata": {},
   "source": [
    "create sln file"
   ]
  },
  {
   "cell_type": "code",
   "execution_count": null,
   "metadata": {
    "dotnet_interactive": {
     "language": "csharp"
    },
    "polyglot_notebook": {
     "kernelName": "csharp"
    },
    "vscode": {
     "languageId": "polyglot-notebook"
    }
   },
   "outputs": [],
   "source": [
    "dotnet new sln -n DotnetTool"
   ]
  },
  {
   "cell_type": "code",
   "execution_count": null,
   "metadata": {
    "dotnet_interactive": {
     "language": "csharp"
    },
    "polyglot_notebook": {
     "kernelName": "csharp"
    },
    "vscode": {
     "languageId": "polyglot-notebook"
    }
   },
   "outputs": [],
   "source": [
    "dotnet new classlib -o DotnetTool.Core.Domain -f net6.0\n",
    "dotnet new classlib -o DotnetTool.Core.Application -f net6.0\n"
   ]
  },
  {
   "cell_type": "code",
   "execution_count": null,
   "metadata": {
    "dotnet_interactive": {
     "language": "csharp"
    },
    "polyglot_notebook": {
     "kernelName": "csharp"
    },
    "vscode": {
     "languageId": "polyglot-notebook"
    }
   },
   "outputs": [],
   "source": [
    "dotnet add .\\01Core\\DotnetTool.Core.Application\\DotnetTool.Core.Application.csproj reference .\\01Core\\DotnetTool.Core.Domain\\DotnetTool.Core.Domain.csproj"
   ]
  },
  {
   "cell_type": "code",
   "execution_count": null,
   "metadata": {
    "dotnet_interactive": {
     "language": "csharp"
    },
    "polyglot_notebook": {
     "kernelName": "csharp"
    },
    "vscode": {
     "languageId": "polyglot-notebook"
    }
   },
   "outputs": [],
   "source": [
    "dotnet add package Microsoft.EntityFrameworkCore --version 6.0.27"
   ]
  },
  {
   "cell_type": "markdown",
   "metadata": {},
   "source": [
    "## Identifiers"
   ]
  },
  {
   "cell_type": "markdown",
   "metadata": {},
   "source": [
    "`Identifiers` are names that programmers choose for their classes, methods, variables, and so on."
   ]
  },
  {
   "cell_type": "markdown",
   "metadata": {},
   "source": [
    "If you really want to use an identifier that clashes with a reserved keyword, you can do so by qualifying it with the `@ prefix`"
   ]
  },
  {
   "cell_type": "code",
   "execution_count": null,
   "metadata": {
    "dotnet_interactive": {
     "language": "csharp"
    },
    "polyglot_notebook": {
     "kernelName": "csharp"
    },
    "vscode": {
     "languageId": "polyglot-notebook"
    }
   },
   "outputs": [],
   "source": [
    "int using = 123; // Illegal\n",
    "int @using = 123; // Legal"
   ]
  },
  {
   "cell_type": "markdown",
   "metadata": {},
   "source": [
    "`Contextual keywords` : can use them as identifiers without an @ symbol"
   ]
  },
  {
   "cell_type": "markdown",
   "metadata": {},
   "source": [
    "`Punctuators` like `;`  \n",
    "`operator` like `=`, `*`, `.` `()`"
   ]
  },
  {
   "cell_type": "markdown",
   "metadata": {},
   "source": [
    "## Predefined Type"
   ]
  },
  {
   "cell_type": "markdown",
   "metadata": {},
   "source": [
    "`int` is the default type for numeric `literals`"
   ]
  },
  {
   "cell_type": "markdown",
   "metadata": {},
   "source": [
    "## Types and Conversions"
   ]
  },
  {
   "cell_type": "code",
   "execution_count": null,
   "metadata": {
    "dotnet_interactive": {
     "language": "csharp"
    },
    "polyglot_notebook": {
     "kernelName": "csharp"
    },
    "vscode": {
     "languageId": "polyglot-notebook"
    }
   },
   "outputs": [],
   "source": [
    "Mobile myMobile = new Mobile(\"123-456-7890\");\n",
    "string mobileNumber = myMobile; // تبدیل ضمنی به رشته\n",
    "\n",
    "string mobileNumber1 = \"123-456-7890\";\n",
    "Mobile myMobile1 = (Mobile)mobileNumber1;\n",
    "\n",
    "\n",
    "public class Mobile {\n",
    "    public string MobileNumber { get; set; }\n",
    "\n",
    "    // سازنده\n",
    "    public Mobile(string mobileNumber) {\n",
    "        MobileNumber = mobileNumber;\n",
    "    }\n",
    "\n",
    "    // تبدیل ضمنی از Mobile به string\n",
    "    public static implicit operator string(Mobile valueObject) {\n",
    "        return valueObject.MobileNumber;\n",
    "    }\n",
    "\n",
    "    // تبدیل صریح از string به Mobile\n",
    "    public static explicit operator Mobile(string mobileNumber) {\n",
    "        return new Mobile(mobileNumber);\n",
    "    }\n",
    "}"
   ]
  },
  {
   "cell_type": "markdown",
   "metadata": {},
   "source": []
  },
  {
   "cell_type": "markdown",
   "metadata": {},
   "source": [
    "## Ref Locals"
   ]
  },
  {
   "cell_type": "markdown",
   "metadata": {},
   "source": [
    "variable that `references` an `element` in an `array` or `field in an object` (from C# 7)"
   ]
  },
  {
   "cell_type": "code",
   "execution_count": null,
   "metadata": {
    "dotnet_interactive": {
     "language": "csharp"
    },
    "polyglot_notebook": {
     "kernelName": "csharp"
    },
    "vscode": {
     "languageId": "polyglot-notebook"
    }
   },
   "outputs": [],
   "source": [
    "void testRefLocal()\n",
    "{\n",
    "    int[] numbers = { 0, 1, 2, 3, 4 };\n",
    "    ref int numRef = ref numbers [2];\n",
    "    numRef *= 10;\n",
    "    Console.WriteLine (numRef); // 20\n",
    "    Console.WriteLine (numbers [2]); // 20\n",
    "}\n",
    "\n",
    "//The target for a ref local must be an array element, field, or local variable; it cannot be a property"
   ]
  },
  {
   "cell_type": "markdown",
   "metadata": {},
   "source": [
    "### Ref Returns"
   ]
  },
  {
   "cell_type": "markdown",
   "metadata": {},
   "source": [
    "<div dir=\"rtl\">\n",
    "وقتی از ref returns استفاده می‌کنید، از کپی کردن داده‌ها جلوگیری می‌شود، به خصوص برای ساختارها (structs) که می‌توانند بزرگ باشند. این امر می‌تواند به کاهش استفاده از حافظه و بهبود کارایی کلی برنامه کمک کند.\n",
    "دسترسی مستقیم به عناصر: ارائه دسترسی مستقیم به عناصر آرایه‌ها یا مجموعه‌های داده بدون نیاز به ایجاد یک نسخه کپی از آن عنصر.\n",
    "</div>"
   ]
  },
  {
   "cell_type": "code",
   "execution_count": null,
   "metadata": {
    "dotnet_interactive": {
     "language": "csharp"
    },
    "polyglot_notebook": {
     "kernelName": "csharp"
    },
    "vscode": {
     "languageId": "polyglot-notebook"
    }
   },
   "outputs": [],
   "source": [
    "class Program\n",
    "{\n",
    "    static string x = \"Old Value\";\n",
    "    static ref string GetX() => ref x; // This method returns a ref\n",
    "    static void Main()\n",
    "    {\n",
    "        ref string xRef = ref GetX(); // Assign result to a ref local\n",
    "        xRef = \"New Value\";\n",
    "        Console.WriteLine(x); // New Value\n",
    "    }\n",
    "}\n",
    "\n",
    "//we can use readonly on ref return, that we cant change this variable"
   ]
  },
  {
   "cell_type": "markdown",
   "metadata": {},
   "source": [
    "### var—Implicitly Typed Local Variables"
   ]
  },
  {
   "cell_type": "markdown",
   "metadata": {},
   "source": [
    "If the `compiler` is able to `infer` the type from the initialization expression, you can use the keyword `var` in place of the type declaration"
   ]
  },
  {
   "cell_type": "code",
   "execution_count": null,
   "metadata": {
    "dotnet_interactive": {
     "language": "csharp"
    },
    "polyglot_notebook": {
     "kernelName": "csharp"
    },
    "vscode": {
     "languageId": "polyglot-notebook"
    }
   },
   "outputs": [],
   "source": [
    "// be carefull, the use of var keyword does not prevent the readability of the code\n",
    "\n",
    "Random r = new Random();\n",
    "var x = r.Next();\n",
    "\n",
    "var y = \"\";\n",
    "\n",
    "//What type is x?"
   ]
  },
  {
   "cell_type": "markdown",
   "metadata": {},
   "source": [
    "### Target-Typed new Expressions (from C# 9)"
   ]
  },
  {
   "cell_type": "code",
   "execution_count": null,
   "metadata": {
    "dotnet_interactive": {
     "language": "csharp"
    },
    "polyglot_notebook": {
     "kernelName": "csharp"
    },
    "vscode": {
     "languageId": "polyglot-notebook"
    }
   },
   "outputs": [],
   "source": [
    "System.Text.StringBuilder sb1 = new ();\n",
    "System.Text.StringBuilder sb2 = new (\"Test\");"
   ]
  },
  {
   "cell_type": "code",
   "execution_count": null,
   "metadata": {
    "dotnet_interactive": {
     "language": "csharp"
    },
    "polyglot_notebook": {
     "kernelName": "csharp"
    },
    "vscode": {
     "languageId": "polyglot-notebook"
    }
   },
   "outputs": [],
   "source": [
    "MyMethod (new (\"test\"));\n",
    "void MyMethod (System.Text.StringBuilder sb) { }"
   ]
  },
  {
   "cell_type": "markdown",
   "metadata": {},
   "source": [
    "## Expressions and Operators"
   ]
  },
  {
   "cell_type": "markdown",
   "metadata": {},
   "source": [
    "An expression essentially denotes a value."
   ]
  },
  {
   "cell_type": "code",
   "execution_count": null,
   "metadata": {
    "dotnet_interactive": {
     "language": "csharp"
    },
    "polyglot_notebook": {
     "kernelName": "csharp"
    },
    "vscode": {
     "languageId": "polyglot-notebook"
    }
   },
   "outputs": [],
   "source": [
    "//Primary Expressions\n",
    "Math.Log (1);\n",
    "//This expression is composed of two primary expressions. The first expression performs a member lookup (with the . operator), \n",
    "//and the second expression performs a method call (with the () operator).\n",
    "\n",
    "//Void Expressions : A void expression is an expression that has no value,\n",
    "Console.WriteLine (1);\n",
    "\n",
    "//Assignment Expressions\n",
    "int x, y;\n",
    "x = x * 5;\n",
    "y = 5 * (x = 2);"
   ]
  },
  {
   "cell_type": "markdown",
   "metadata": {},
   "source": [
    "### Operator Precedence and Associativity"
   ]
  },
  {
   "cell_type": "code",
   "execution_count": 2,
   "metadata": {
    "dotnet_interactive": {
     "language": "csharp"
    },
    "polyglot_notebook": {
     "kernelName": "csharp"
    },
    "vscode": {
     "languageId": "polyglot-notebook"
    }
   },
   "outputs": [],
   "source": [
    "//Precedence\n",
    "int x = 1 + 2 * 3;\n",
    "\n",
    "//Left-associative operators\n",
    "// 8 / 4 / 2\n",
    "//( 8 / 4 ) / 2 // 1\n",
    "\n",
    "//Right-associative operators\n",
    "//The assignment operators as well as the lambda, null-coalescing, and conditional operators are right-associative\n",
    "int y;\n",
    "\n",
    "x = y = 3;"
   ]
  },
  {
   "cell_type": "markdown",
   "metadata": {},
   "source": [
    "### Null Operators"
   ]
  },
  {
   "cell_type": "code",
   "execution_count": null,
   "metadata": {
    "dotnet_interactive": {
     "language": "csharp"
    },
    "polyglot_notebook": {
     "kernelName": "csharp"
    },
    "vscode": {
     "languageId": "polyglot-notebook"
    }
   },
   "outputs": [],
   "source": [
    "//Null-Coalescing Operator\n",
    "\n",
    "string s1 = null;\n",
    "string s2 = s1 ?? \"nothing\"; // s2 evaluates to \"nothing\"\n",
    "\n",
    "//Null-Coalescing Assignment Operator (from c# 8)\n",
    "\n",
    "s2 ??= \"someDefult\";\n",
    "\n",
    "if(s2 == null) s2 = \"someDefult\";\n",
    "\n",
    "// سوال\n",
    "// C# 8 was introduced with which version of .net?"
   ]
  },
  {
   "cell_type": "markdown",
   "metadata": {},
   "source": [
    "#### Null-Conditional Operator"
   ]
  },
  {
   "cell_type": "markdown",
   "metadata": {},
   "source": [
    "The ?. operator is the null-conditional or `Elvis` operator"
   ]
  },
  {
   "cell_type": "code",
   "execution_count": 8,
   "metadata": {
    "dotnet_interactive": {
     "language": "csharp"
    },
    "polyglot_notebook": {
     "kernelName": "csharp"
    },
    "vscode": {
     "languageId": "polyglot-notebook"
    }
   },
   "outputs": [
    {
     "ename": "Error",
     "evalue": "System.IndexOutOfRangeException: Index was outside the bounds of the array.\r\n   at System.String.get_Chars(Int32 index)\r\n   at Submission#9.<<Initialize>>d__0.MoveNext()\r\n--- End of stack trace from previous location ---\r\n   at Microsoft.CodeAnalysis.Scripting.ScriptExecutionState.RunSubmissionsAsync[TResult](ImmutableArray`1 precedingExecutors, Func`2 currentExecutor, StrongBox`1 exceptionHolderOpt, Func`2 catchExceptionOpt, CancellationToken cancellationToken)",
     "output_type": "error",
     "traceback": [
      "System.IndexOutOfRangeException: Index was outside the bounds of the array.\r\n",
      "   at System.String.get_Chars(Int32 index)\r\n",
      "   at Submission#9.<<Initialize>>d__0.MoveNext()\r\n",
      "--- End of stack trace from previous location ---\r\n",
      "   at Microsoft.CodeAnalysis.Scripting.ScriptExecutionState.RunSubmissionsAsync[TResult](ImmutableArray`1 precedingExecutors, Func`2 currentExecutor, StrongBox`1 exceptionHolderOpt, Func`2 catchExceptionOpt, CancellationToken cancellationToken)"
     ]
    }
   ],
   "source": [
    "//System.Text.StringBuilder sb = null;\n",
    "//string s = sb.ToString(); // NullReferenceException Error\n",
    "//string s1 = sb?.ToString(); // No error; s1 instead evaluates to null\n",
    "\n",
    "//The last line is equivalent to the following:\n",
    "//string s2 = (sb == null ? null : sb.ToString()); // \n",
    "\n",
    "string foo = \"12345663\";\n",
    "char? c = foo?[12]; // c is null\n",
    "\n",
    "//string s3 = sb?.ToString().ToUpper(); // s evaluates to null without error"
   ]
  },
  {
   "cell_type": "code",
   "execution_count": 3,
   "metadata": {
    "dotnet_interactive": {
     "language": "csharp"
    },
    "polyglot_notebook": {
     "kernelName": "csharp"
    },
    "vscode": {
     "languageId": "polyglot-notebook"
    }
   },
   "outputs": [],
   "source": [
    "System.Text.StringBuilder sb = null;\n",
    "string s = sb?.ToString().ToUpper(); // s evaluates to null without error"
   ]
  },
  {
   "cell_type": "code",
   "execution_count": 9,
   "metadata": {
    "dotnet_interactive": {
     "language": "csharp"
    },
    "polyglot_notebook": {
     "kernelName": "csharp"
    },
    "vscode": {
     "languageId": "polyglot-notebook"
    }
   },
   "outputs": [
    {
     "ename": "Error",
     "evalue": "System.NullReferenceException: Object reference not set to an instance of an object.\r\n   at Submission#10.<<Initialize>>d__0.MoveNext()\r\n--- End of stack trace from previous location ---\r\n   at Microsoft.CodeAnalysis.Scripting.ScriptExecutionState.RunSubmissionsAsync[TResult](ImmutableArray`1 precedingExecutors, Func`2 currentExecutor, StrongBox`1 exceptionHolderOpt, Func`2 catchExceptionOpt, CancellationToken cancellationToken)",
     "output_type": "error",
     "traceback": [
      "System.NullReferenceException: Object reference not set to an instance of an object.\r\n",
      "   at Submission#10.<<Initialize>>d__0.MoveNext()\r\n",
      "--- End of stack trace from previous location ---\r\n",
      "   at Microsoft.CodeAnalysis.Scripting.ScriptExecutionState.RunSubmissionsAsync[TResult](ImmutableArray`1 precedingExecutors, Func`2 currentExecutor, StrongBox`1 exceptionHolderOpt, Func`2 catchExceptionOpt, CancellationToken cancellationToken)"
     ]
    }
   ],
   "source": [
    "class Z{}\n",
    "class Y{ public Z z; }\n",
    "class X{ public Y y;}\n",
    "\n",
    "var x = new X();\n",
    "\n",
    "var test = x?.y?.z;"
   ]
  },
  {
   "cell_type": "code",
   "execution_count": null,
   "metadata": {
    "dotnet_interactive": {
     "language": "csharp"
    },
    "polyglot_notebook": {
     "kernelName": "csharp"
    },
    "vscode": {
     "languageId": "polyglot-notebook"
    }
   },
   "outputs": [],
   "source": [
    "x == null \n",
    "    ? null\n",
    "    : (x.y == null ? null : x.y.z)"
   ]
  },
  {
   "cell_type": "code",
   "execution_count": null,
   "metadata": {
    "dotnet_interactive": {
     "language": "csharp"
    },
    "polyglot_notebook": {
     "kernelName": "csharp"
    },
    "vscode": {
     "languageId": "polyglot-notebook"
    }
   },
   "outputs": [],
   "source": [
    "System.Text.StringBuilder sb = null;\n",
    "int? length = sb?.ToString().Length; // Illegal : int cannot be null"
   ]
  },
  {
   "cell_type": "markdown",
   "metadata": {},
   "source": [
    "## Statements"
   ]
  },
  {
   "cell_type": "code",
   "execution_count": null,
   "metadata": {
    "dotnet_interactive": {
     "language": "csharp"
    },
    "polyglot_notebook": {
     "kernelName": "csharp"
    },
    "vscode": {
     "languageId": "polyglot-notebook"
    }
   },
   "outputs": [],
   "source": [
    "//Declaration Statements\n",
    "string someWord = \"rosebud\";\n",
    "int someNumber = 42;\n",
    "bool rich = true, famous = false;"
   ]
  },
  {
   "cell_type": "code",
   "execution_count": null,
   "metadata": {
    "dotnet_interactive": {
     "language": "csharp"
    },
    "polyglot_notebook": {
     "kernelName": "csharp"
    },
    "vscode": {
     "languageId": "polyglot-notebook"
    }
   },
   "outputs": [],
   "source": [
    "const double c = 2.99792458E08;\n",
    "c += 10; // Compile-time Error"
   ]
  },
  {
   "cell_type": "markdown",
   "metadata": {},
   "source": [
    "### Expression Statements\n",
    "An expression statement must either change state or call something that might change state.\n",
    "- Assignment expressions\n",
    "- Method call expressions\n",
    "- Object instantiation expressions"
   ]
  },
  {
   "cell_type": "code",
   "execution_count": null,
   "metadata": {
    "dotnet_interactive": {
     "language": "csharp"
    },
    "polyglot_notebook": {
     "kernelName": "csharp"
    },
    "vscode": {
     "languageId": "polyglot-notebook"
    }
   },
   "outputs": [],
   "source": [
    "// Declare variables with declaration statements:\n",
    "string s;\n",
    "int x, y;\n",
    "System.Text.StringBuilder sb;\n",
    "\n",
    "// Expression statements\n",
    "x = 1 + 2; // Assignment expression\n",
    "x++; // Increment expression\n",
    "y = Math.Max (x, 5); // Assignment expression\n",
    "Console.WriteLine (y); // Method call expression\n",
    "sb = new StringBuilder(); // Assignment expression\n",
    "new StringBuilder(); // Object instantiation expression"
   ]
  },
  {
   "cell_type": "markdown",
   "metadata": {},
   "source": [
    "### Selection Statements\n",
    "- Selection statements (if, switch)\n",
    "- Conditional operator (?:)\n",
    "- Loop statements (while, do-while, for, foreach)"
   ]
  },
  {
   "cell_type": "code",
   "execution_count": null,
   "metadata": {
    "dotnet_interactive": {
     "language": "csharp"
    },
    "polyglot_notebook": {
     "kernelName": "csharp"
    },
    "vscode": {
     "languageId": "polyglot-notebook"
    }
   },
   "outputs": [],
   "source": [
    "// you can do this\n",
    "if (true)\n",
    "    if (false)\n",
    "        Console.WriteLine();\n",
    "    else\n",
    "        Console.WriteLine (\"executes\");\n",
    "\n",
    "// but with braces, you can improve the readability"
   ]
  },
  {
   "cell_type": "markdown",
   "metadata": {},
   "source": [
    "### The switch statement"
   ]
  },
  {
   "cell_type": "code",
   "execution_count": null,
   "metadata": {
    "dotnet_interactive": {
     "language": "csharp"
    },
    "polyglot_notebook": {
     "kernelName": "csharp"
    },
    "vscode": {
     "languageId": "polyglot-notebook"
    }
   },
   "outputs": [],
   "source": [
    "void ShowCard (int cardNumber)\n",
    "{\n",
    "    switch (cardNumber)\n",
    "    {\n",
    "        case 13:\n",
    "            Console.WriteLine (\"King\");\n",
    "            break;\n",
    "        case 12:\n",
    "            Console.WriteLine (\"Queen\");\n",
    "            break;\n",
    "        case 11:\n",
    "            Console.WriteLine (\"Jack\");\n",
    "            break;\n",
    "        case -1: // Joker is -1\n",
    "            goto case 12; // In this game joker counts as queen\n",
    "        default: // Executes for any other cardNumber\n",
    "            Console.WriteLine (cardNumber);\n",
    "            break;\n",
    "    }\n",
    "}"
   ]
  },
  {
   "cell_type": "code",
   "execution_count": null,
   "metadata": {
    "dotnet_interactive": {
     "language": "csharp"
    },
    "polyglot_notebook": {
     "kernelName": "csharp"
    },
    "vscode": {
     "languageId": "polyglot-notebook"
    }
   },
   "outputs": [],
   "source": [
    "void ShowCard (int cardNumber)\n",
    "{\n",
    "    switch (cardNumber)\n",
    "    {\n",
    "        case 13:\n",
    "        case 12:\n",
    "        case 11:\n",
    "            Console.WriteLine (\"Face card\");\n",
    "            break;\n",
    "        default:\n",
    "            Console.WriteLine (\"Plain card\");\n",
    "            break;\n",
    "    }\n",
    "}"
   ]
  },
  {
   "cell_type": "markdown",
   "metadata": {},
   "source": [
    "### Switching on types(from C# 7)"
   ]
  },
  {
   "cell_type": "code",
   "execution_count": 10,
   "metadata": {
    "dotnet_interactive": {
     "language": "csharp"
    },
    "polyglot_notebook": {
     "kernelName": "csharp"
    },
    "vscode": {
     "languageId": "polyglot-notebook"
    }
   },
   "outputs": [
    {
     "name": "stdout",
     "output_type": "stream",
     "text": [
      "It's an int!\n",
      "The square of 12 is 144\n",
      "It's a string\n",
      "The length of hello is 5\n",
      "I don't know what x is\n"
     ]
    }
   ],
   "source": [
    "void TellMeTheType(object x) // object allows any type.\n",
    "{\n",
    "    switch (x)\n",
    "    {\n",
    "        case int i:\n",
    "            Console.WriteLine(\"It's an int!\");\n",
    "            Console.WriteLine($\"The square of {i} is {i * i}\");\n",
    "            break;\n",
    "        case string s:\n",
    "            Console.WriteLine(\"It's a string\");\n",
    "            Console.WriteLine($\"The length of {s} is {s.Length}\");\n",
    "            break;\n",
    "        default:\n",
    "            Console.WriteLine(\"I don't know what x is\");\n",
    "            break;\n",
    "    }\n",
    "}\n",
    "\n",
    "TellMeTheType (12);\n",
    "TellMeTheType (\"hello\");\n",
    "TellMeTheType (true);"
   ]
  },
  {
   "cell_type": "code",
   "execution_count": null,
   "metadata": {
    "dotnet_interactive": {
     "language": "csharp"
    },
    "polyglot_notebook": {
     "kernelName": "csharp"
    },
    "vscode": {
     "languageId": "polyglot-notebook"
    }
   },
   "outputs": [],
   "source": [
    "void TellMeTheType(object x) // object allows any type.\n",
    "{\n",
    "    switch (x)\n",
    "    {\n",
    "        case float f when f > 1000:\n",
    "        case double d when d > 1000:\n",
    "        case decimal m when m > 1000:\n",
    "            Console.WriteLine(\"We can refer to x here but not f or d or m\");\n",
    "            break;\n",
    "        case null:\n",
    "            Console.WriteLine (\"Nothing here\");\n",
    "            break;\n",
    "    }\n",
    "}\n",
    "\n",
    "//the compiler puts all of this varibales out of scope"
   ]
  },
  {
   "cell_type": "markdown",
   "metadata": {},
   "source": [
    "### Switch expressions (From C# 8)"
   ]
  },
  {
   "cell_type": "code",
   "execution_count": null,
   "metadata": {
    "dotnet_interactive": {
     "language": "csharp"
    },
    "polyglot_notebook": {
     "kernelName": "csharp"
    },
    "vscode": {
     "languageId": "polyglot-notebook"
    }
   },
   "outputs": [],
   "source": [
    "var cardNumber = 11;\n",
    "\n",
    "string cardName = cardNumber switch\n",
    "{\n",
    "13 => \"King\",\n",
    "12 => \"Queen\",\n",
    "11 => \"Jack\",\n",
    "_ => \"Pip card\" // equivalent to 'default'\n",
    "};"
   ]
  },
  {
   "cell_type": "code",
   "execution_count": null,
   "metadata": {
    "dotnet_interactive": {
     "language": "csharp"
    },
    "polyglot_notebook": {
     "kernelName": "csharp"
    },
    "vscode": {
     "languageId": "polyglot-notebook"
    }
   },
   "outputs": [],
   "source": [
    "int cardNumber = 12;\n",
    "string suite = \"spades\";\n",
    "\n",
    "string cardName = (cardNumber, suite) switch\n",
    "{\n",
    "    (13, \"spades\") => \"King of spades\",\n",
    "    (13, \"clubs\") => \"King of clubs\",\n",
    "    _ => \"\"\n",
    "};"
   ]
  },
  {
   "cell_type": "markdown",
   "metadata": {},
   "source": [
    "### Iteration Statements\n",
    "\n",
    "- while do-while\n",
    "- for\n",
    "- foreach"
   ]
  },
  {
   "cell_type": "markdown",
   "metadata": {},
   "source": [
    "for (`initialization-clause`; `condition-clause`; `iteration-clause`)  \n",
    "    statement-or-statement-block"
   ]
  },
  {
   "cell_type": "code",
   "execution_count": null,
   "metadata": {
    "dotnet_interactive": {
     "language": "csharp"
    },
    "polyglot_notebook": {
     "kernelName": "csharp"
    },
    "vscode": {
     "languageId": "polyglot-notebook"
    }
   },
   "outputs": [],
   "source": [
    "for (int i = 0, prevFib = 1, curFib = 1; i < 10; i++, prevFib ++)\n",
    "{\n",
    "    Console.WriteLine (prevFib);\n",
    "    int newFib = prevFib + curFib;\n",
    "    prevFib = curFib; curFib = newFib;\n",
    "}\n",
    "\n",
    "for (;;) // like while(true)\n",
    "    Console.WriteLine (\"interrupt me\");"
   ]
  },
  {
   "cell_type": "markdown",
   "metadata": {},
   "source": [
    "foreach can loop over objects that is `enumerable`"
   ]
  },
  {
   "cell_type": "markdown",
   "metadata": {},
   "source": [
    "### jump statements\n",
    "\n",
    "- `break`\n",
    "- `continue`\n",
    "- `goto`\n",
    "- `return`\n",
    "- `throw`"
   ]
  },
  {
   "cell_type": "code",
   "execution_count": null,
   "metadata": {
    "dotnet_interactive": {
     "language": "csharp"
    },
    "polyglot_notebook": {
     "kernelName": "csharp"
    },
    "vscode": {
     "languageId": "polyglot-notebook"
    }
   },
   "outputs": [],
   "source": [
    "int i = 1;\n",
    "startLoop: //A label is a placeholder in a code block that precedes a statement, denoted with a colon suffix. \n",
    "if (i <= 5)\n",
    "{\n",
    "    Console.Write (i + \" \");\n",
    "    i++;\n",
    "    goto startLoop;\n",
    "}"
   ]
  },
  {
   "cell_type": "markdown",
   "metadata": {},
   "source": [
    "### Miscellaneous Statements"
   ]
  },
  {
   "cell_type": "markdown",
   "metadata": {},
   "source": [
    "- using\n",
    "- lock : The lock statement is a shortcut for calling the Enter and Exit methods of the Monitor class"
   ]
  },
  {
   "cell_type": "markdown",
   "metadata": {},
   "source": [
    "## NameSpaces"
   ]
  },
  {
   "cell_type": "code",
   "execution_count": null,
   "metadata": {
    "dotnet_interactive": {
     "language": "csharp"
    },
    "polyglot_notebook": {
     "kernelName": "csharp"
    },
    "vscode": {
     "languageId": "polyglot-notebook"
    }
   },
   "outputs": [],
   "source": [
    "namespace Outer.Middle.Inner\n",
    "{\n",
    "class Class1 {}\n",
    "class Class2 {}\n",
    "}\n",
    "\n",
    "namespace Outer\n",
    "{\n",
    "    namespace Middle\n",
    "    {\n",
    "        namespace Inner\n",
    "        {\n",
    "            class Class1 {}\n",
    "            class Class2 {}\n",
    "        }\n",
    "    }\n",
    "}"
   ]
  },
  {
   "cell_type": "code",
   "execution_count": null,
   "metadata": {
    "dotnet_interactive": {
     "language": "csharp"
    },
    "polyglot_notebook": {
     "kernelName": "csharp"
    },
    "vscode": {
     "languageId": "polyglot-notebook"
    }
   },
   "outputs": [],
   "source": [
    "//**Global NameSpace **\n",
    "\n",
    "var nameSpaceClass = new ClassWithoutNameSpace(); //no need to namespace\n",
    "\n",
    "public class ClassWithoutNameSpace\n",
    "{\n",
    "}\n"
   ]
  },
  {
   "cell_type": "code",
   "execution_count": null,
   "metadata": {
    "dotnet_interactive": {
     "language": "csharp"
    },
    "polyglot_notebook": {
     "kernelName": "csharp"
    },
    "vscode": {
     "languageId": "polyglot-notebook"
    }
   },
   "outputs": [],
   "source": [
    "//**File-Scoped Namespaces (C# 10) **\n",
    "\n",
    "namespace MyNamespace; // Applies to everything that follows in the file.\n",
    "class Class1 {} // inside MyNamespace\n",
    "class Class2 {} // inside MyNamespace"
   ]
  },
  {
   "cell_type": "code",
   "execution_count": null,
   "metadata": {
    "dotnet_interactive": {
     "language": "csharp"
    },
    "polyglot_notebook": {
     "kernelName": "csharp"
    },
    "vscode": {
     "languageId": "polyglot-notebook"
    }
   },
   "outputs": [],
   "source": [
    "//**using Directive **\n",
    "using System.Threading.Tasks; "
   ]
  },
  {
   "cell_type": "code",
   "execution_count": null,
   "metadata": {
    "dotnet_interactive": {
     "language": "csharp"
    },
    "polyglot_notebook": {
     "kernelName": "csharp"
    },
    "vscode": {
     "languageId": "polyglot-notebook"
    }
   },
   "outputs": [],
   "source": [
    "//**The global using Directive (C# 10) **\n",
    "\n",
    "global using System.Collection.Generic; // در سرتاسر پروژه قابل دسترس است.\n"
   ]
  },
  {
   "cell_type": "markdown",
   "metadata": {},
   "source": [
    "### Implicit global usings"
   ]
  },
  {
   "cell_type": "code",
   "execution_count": null,
   "metadata": {
    "dotnet_interactive": {
     "language": "javascript"
    },
    "polyglot_notebook": {
     "kernelName": "javascript"
    },
    "vscode": {
     "languageId": "polyglot-notebook"
    }
   },
   "outputs": [],
   "source": [
    "<Project Sdk=\"Microsoft.NET.Sdk\">\n",
    "\n",
    "  <PropertyGroup>\n",
    "    <OutputType>Exe</OutputType>\n",
    "    <TargetFramework>net8.0</TargetFramework>\n",
    "    <ImplicitUsings>enable</ImplicitUsings> //setting for Implicit global usings\n",
    "    <Nullable>enable</Nullable>\n",
    "  </PropertyGroup>\n",
    "\n",
    "</Project>"
   ]
  },
  {
   "cell_type": "code",
   "execution_count": null,
   "metadata": {
    "dotnet_interactive": {
     "language": "csharp"
    },
    "polyglot_notebook": {
     "kernelName": "csharp"
    },
    "vscode": {
     "languageId": "polyglot-notebook"
    }
   },
   "outputs": [],
   "source": [
    "//**Implicit global usings Form .Net6 **\n",
    "\n",
    "using System;\n",
    "using System.Collections.Generic;\n",
    "using System.IO;\n",
    "using System.Linq;\n",
    "using System.Net.Http;\n",
    "using System.Threading;\n",
    "using System.Threading.Tasks;"
   ]
  },
  {
   "cell_type": "markdown",
   "metadata": {},
   "source": [
    "### static using"
   ]
  },
  {
   "cell_type": "code",
   "execution_count": null,
   "metadata": {
    "dotnet_interactive": {
     "language": "csharp"
    },
    "polyglot_notebook": {
     "kernelName": "csharp"
    },
    "vscode": {
     "languageId": "polyglot-notebook"
    }
   },
   "outputs": [],
   "source": [
    "//All static members of the imported type can then be used without qualification.\n",
    "\n",
    "using static System.Console;\n",
    "\n",
    "WriteLine (\"Hello\");\n",
    "var input = ReadKey();"
   ]
  },
  {
   "cell_type": "code",
   "execution_count": null,
   "metadata": {
    "dotnet_interactive": {
     "language": "csharp"
    },
    "polyglot_notebook": {
     "kernelName": "csharp"
    },
    "vscode": {
     "languageId": "polyglot-notebook"
    }
   },
   "outputs": [],
   "source": [
    "//Name hiding\n",
    "\n",
    "namespace Outer\n",
    "{\n",
    "    class Foo { }\n",
    "    namespace Inner\n",
    "    {\n",
    "        class Foo { }\n",
    "        class Test\n",
    "        {\n",
    "            Foo f1; // = Outer.Inner.Foo\n",
    "            Outer.Foo f2; // = Outer.Foo\n",
    "        }\n",
    "    }\n",
    "}"
   ]
  },
  {
   "cell_type": "markdown",
   "metadata": {},
   "source": [
    "All type names are converted to fully qualified names at `compile time`."
   ]
  },
  {
   "cell_type": "code",
   "execution_count": null,
   "metadata": {
    "dotnet_interactive": {
     "language": "csharp"
    },
    "polyglot_notebook": {
     "kernelName": "csharp"
    },
    "vscode": {
     "languageId": "polyglot-notebook"
    }
   },
   "outputs": [],
   "source": [
    "/*Nested using directives*/\n",
    "\n",
    "namespace N1\n",
    "{\n",
    "    class Class1 {}\n",
    "}\n",
    "namespace N2\n",
    "{\n",
    "    using N1;\n",
    "    class Class2 : Class1 {}\n",
    "}\n",
    "namespace N2\n",
    "{\n",
    "    class Class3 : Class1 {} // Compile-time error\n",
    "}"
   ]
  },
  {
   "cell_type": "markdown",
   "metadata": {},
   "source": [
    "### Aliasing Types and Namespaces"
   ]
  },
  {
   "cell_type": "code",
   "execution_count": null,
   "metadata": {
    "dotnet_interactive": {
     "language": "csharp"
    },
    "polyglot_notebook": {
     "kernelName": "csharp"
    },
    "vscode": {
     "languageId": "polyglot-notebook"
    }
   },
   "outputs": [],
   "source": [
    "using PropertyInfo2 = System.Reflection.PropertyInfo;\n",
    "class Program { PropertyInfo2 p; }"
   ]
  },
  {
   "cell_type": "code",
   "execution_count": null,
   "metadata": {
    "dotnet_interactive": {
     "language": "csharp"
    },
    "polyglot_notebook": {
     "kernelName": "csharp"
    },
    "vscode": {
     "languageId": "polyglot-notebook"
    }
   },
   "outputs": [],
   "source": [
    "using R = System.Reflection;\n",
    "class Program { R.PropertyInfo p; }"
   ]
  },
  {
   "cell_type": "markdown",
   "metadata": {},
   "source": [
    "### Namespace alias qualifiers"
   ]
  },
  {
   "cell_type": "code",
   "execution_count": null,
   "metadata": {
    "dotnet_interactive": {
     "language": "csharp"
    },
    "polyglot_notebook": {
     "kernelName": "csharp"
    },
    "vscode": {
     "languageId": "polyglot-notebook"
    }
   },
   "outputs": [],
   "source": [
    "//names in inner namespaces hide names in outer namespaces.\n",
    "\n",
    "namespace N\n",
    "{\n",
    "    class A\n",
    "    {\n",
    "        static void Main() => new A.B(); // Instantiate class B\n",
    "        public class B {} // Nested type\n",
    "    }\n",
    "}\n",
    "namespace A\n",
    "{\n",
    "    class B {}\n",
    "}"
   ]
  },
  {
   "cell_type": "code",
   "execution_count": null,
   "metadata": {
    "dotnet_interactive": {
     "language": "csharp"
    },
    "polyglot_notebook": {
     "kernelName": "csharp"
    },
    "vscode": {
     "languageId": "polyglot-notebook"
    }
   },
   "outputs": [],
   "source": [
    "namespace N\n",
    "{\n",
    "    class A\n",
    "    {\n",
    "        static void Main()\n",
    "        {\n",
    "            System.Console.WriteLine (new A.B());\n",
    "            System.Console.WriteLine (new global::A.B());\n",
    "        }\n",
    "        public class B {}\n",
    "    }\n",
    "}\n",
    "namespace A\n",
    "{\n",
    "    class B {}\n",
    "}"
   ]
  }
 ],
 "metadata": {
  "language_info": {
   "name": "python"
  }
 },
 "nbformat": 4,
 "nbformat_minor": 2
}
