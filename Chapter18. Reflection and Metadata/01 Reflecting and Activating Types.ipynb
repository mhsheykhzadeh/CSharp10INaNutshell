{
 "cells": [
  {
   "cell_type": "markdown",
   "metadata": {},
   "source": [
    "<div dir=\"rtl\" style=\"margin:auto; width:90%; font-family:vazirmatn\">\n",
    "<h5>1. Metadata</h5>\n",
    "<p><strong>Metadata</strong> به اطلاعات اضافی یا \"داده‌های درباره داده‌ها\" گفته می‌شود که همراه با برنامه‌ها یا کامپوننت‌ها وجود دارند. در دات‌نت، Metadata شامل اطلاعاتی درباره انواع داده‌ها (مانند کلاس‌ها، اینترفیس‌ها، پروپرتی‌ها، متدها و غیره) است که در زمان کامپایل تولید می‌شود و در اسمبلی (assembly) برنامه ذخیره می‌شود. این اطلاعات به برنامه یا کتابخانه اجازه می‌دهد تا در زمان اجرا (run-time) درباره ساختار خود یا سایر برنامه‌ها اطلاعاتی به دست بیاورد.</p>\n",
    "\n",
    "<h5>2. Reflection</h5>\n",
    "<p><strong>Reflection</strong> یک ویژگی در دات‌نت است که به برنامه‌ها اجازه می‌دهد تا در زمان اجرا (run-time) به Metadata دسترسی پیدا کنند و از آن برای بررسی و تغییر ساختارهای برنامه مانند کلاس‌ها، متدها، پروپرتی‌ها و غیره استفاده کنند. این ویژگی در فضای نام <code>System.Reflection</code> قرار دارد و ابزارهای لازم برای کار با Metadata را فراهم می‌کند.</p>\n",
    "\n",
    "</div>"
   ]
  },
  {
   "cell_type": "markdown",
   "metadata": {},
   "source": [
    "C# program ***compiles into an assembly*** that includes `metadata`, `compiled code`, and `resources`.  \n",
    "  \n",
    "**Inspecting** the ***metadata*** and ***compiled code*** at **runtime** is `called reflection`."
   ]
  },
  {
   "cell_type": "markdown",
   "metadata": {},
   "source": [
    "Some information is `lost`, such as `local variable names`, `comments`, and\n",
    "`preprocessor directives`."
   ]
  },
  {
   "cell_type": "markdown",
   "metadata": {},
   "source": [
    "<div dir=\"rtl\" style=\"margin:auto; width:90%; font-family:vazirmatn\">\n",
    "<p><strong>System.Reflection namespace</strong>: این فضا، API مربوط به Reflection را فراهم می‌کند که شامل کلاس‌ها و متدهایی است که برای کار با Metadata استفاده می‌شوند. برنامه‌نویسان می‌توانند از این ابزارها برای مشاهده و تغییر ساختارهای برنامه خود در زمان اجرا استفاده کنند.</p>\n",
    "<p><strong>ایجاد Metadata و دستورالعمل‌های جدید به صورت پویا</strong>: همچنین امکان ایجاد Metadata و دستورالعمل‌های اجرایی جدید به صورت پویا در زمان اجرا وجود دارد. این کار از طریق کلاس‌هایی که در فضای نام <code>System.Reflection.Emit</code> قرار دارند، انجام می‌شود. این ویژگی به برنامه‌نویسان اجازه می‌دهد که کد IL (Intermediate Language) جدیدی تولید کنند که می‌تواند در زمان اجرا به عنوان بخشی از برنامه اجرا شود.</p>\n",
    "</div>"
   ]
  },
  {
   "cell_type": "markdown",
   "metadata": {},
   "source": [
    "### Reflecting and Activating Types"
   ]
  },
  {
   "cell_type": "markdown",
   "metadata": {},
   "source": [
    "<div dir=\"rtl\" style=\"margin:auto; width:90%; font-family:vazirmatn\">\n",
    "<h5>1. <code>System.Type</code></h5>\n",
    "<ul><li><code>System.Type</code> نماینده‌ای برای متادیتای انواع در .NET است. این کلاس در فضای نام <code>System</code> قرار دارد زیرا بسیار پرکاربرد است و دسترسی به آن در اکثر برنامه‌ها لازم است. این کلاس شامل اطلاعاتی مانند نام نوع، اعضای آن (متدها، پروپرتی‌ها، فیلدها و ...) و همچنین ساختار داخلی آن است.</li></ul>\n",
    "\n",
    "<h5>2. دست‌یابی به یک شیء از نوع <code>Type</code></h5>\n",
    "<p>برای دست‌یابی به یک شیء از نوع <code>Type</code> چند روش مختلف وجود دارد:</p>\n",
    "<ul>\n",
    "<li><p><strong>استفاده از <code>GetType</code> روی یک شیء</strong>: وقتی یک شیء از یک نوع خاص دارید، می‌توانید با استفاده از متد <code>GetType</code>، نوع آن را در زمان اجرا بدست آورید:</p></li>\n",
    "<li><p><strong>استفاده از عملگر <code>typeof</code></strong>: این روش در زمان کامپایل نوع را بدست می‌آورد. می‌توانید از این عملگر برای هر نوع (کلاس، اینترفیس، آرایه، نوع‌های عمومی و ...) استفاده کنید:</p></li></ul>\n",
    "</div>"
   ]
  },
  {
   "cell_type": "code",
   "execution_count": null,
   "metadata": {
    "dotnet_interactive": {
     "language": "csharp"
    },
    "polyglot_notebook": {
     "kernelName": "csharp"
    },
    "vscode": {
     "languageId": "polyglot-notebook"
    }
   },
   "outputs": [],
   "source": [
    "Type t1 = DateTime.Now.GetType(); // نوع در زمان اجرا بدست می‌آید\n",
    "Type t2 = typeof(DateTime); // نوع در زمان کامپایل بدست می‌آید"
   ]
  },
  {
   "cell_type": "markdown",
   "metadata": {},
   "source": [
    "<div dir=\"rtl\" style=\"margin:auto; width:90%; font-family:vazirmatn\">\n",
    "<h5>3. استفاده از <code>typeof</code> برای انواع مختلف</h5>\n",
    "<p>عملگر <code>typeof</code> نه تنها برای انواع ساده (مانند کلاس‌ها و ساختارها) بلکه برای انواع پیچیده‌تر نیز استفاده می‌شود:</p>\n",
    "\n",
    "<ul>\n",
    "<li><p><strong>آرایه‌ها</strong>:</p></li></ul>\n",
    "</div>"
   ]
  },
  {
   "cell_type": "code",
   "execution_count": null,
   "metadata": {
    "dotnet_interactive": {
     "language": "csharp"
    },
    "polyglot_notebook": {
     "kernelName": "csharp"
    },
    "vscode": {
     "languageId": "polyglot-notebook"
    }
   },
   "outputs": [],
   "source": [
    "Type t3 = typeof(DateTime[]); // نوع آرایه یک بعدی\n",
    "Type t4 = typeof(DateTime[,]); // نوع آرایه دو بعدی"
   ]
  },
  {
   "cell_type": "markdown",
   "metadata": {},
   "source": [
    "<div dir=\"rtl\" style=\"margin:auto; width:90%; font-family:vazirmatn\">\n",
    "<p><strong>انواع عمومی (Generic Types)</strong>:</p>\n",
    "<ul>\n",
    "<li><strong>نوع عمومی بسته (Closed Generic Type)</strong>: نوعی عمومی که تمامی پارامترهای نوع آن مشخص شده‌اند.</li></ul>\n",
    "</div>\n",
    "</div>"
   ]
  },
  {
   "cell_type": "code",
   "execution_count": null,
   "metadata": {
    "dotnet_interactive": {
     "language": "csharp"
    },
    "polyglot_notebook": {
     "kernelName": "csharp"
    },
    "vscode": {
     "languageId": "polyglot-notebook"
    }
   },
   "outputs": [],
   "source": [
    "Type t5 = typeof(Dictionary<int,int>); // نوع عمومی بسته"
   ]
  },
  {
   "cell_type": "markdown",
   "metadata": {},
   "source": [
    "<div dir=\"rtl\" style=\"margin:auto; width:90%; font-family:vazirmatn\">\n",
    "<p><strong>انواع عمومی (Generic Types)</strong>:</p>\n",
    "<ul>\n",
    "<li><strong>نوع عمومی باز (Unbound Generic Type)</strong>: نوعی عمومی که پارامترهای نوع آن هنوز مشخص نشده‌اند.</li></ul>\n",
    "</div>"
   ]
  },
  {
   "cell_type": "code",
   "execution_count": null,
   "metadata": {
    "dotnet_interactive": {
     "language": "csharp"
    },
    "polyglot_notebook": {
     "kernelName": "csharp"
    },
    "vscode": {
     "languageId": "polyglot-notebook"
    }
   },
   "outputs": [],
   "source": [
    "Type t6 = typeof(Dictionary<,>); // نوع عمومی باز"
   ]
  },
  {
   "cell_type": "markdown",
   "metadata": {},
   "source": [
    "<div dir=\"rtl\" style=\"margin:auto; width:90%; font-family:vazirmatn\">\n",
    "<h5>4. بازیابی یک <code>Type</code> با نام آن</h5>\n",
    "<p>در برخی مواقع، ممکن است بخواهید نوعی را تنها با دانستن نام آن بدست آورید. این کار را می‌توان به چند روش انجام داد:</p>\n",
    "<ul>\n",
    "<li><p><strong>استفاده از <code>Assembly.GetType</code></strong>: اگر به اسمبلیی که نوع در آن تعریف شده دسترسی دارید، می‌توانید از این روش استفاده کنید:</p>\n",
    "\n",
    "</li>\n",
    "</ul>\n",
    "</div>"
   ]
  },
  {
   "cell_type": "code",
   "execution_count": null,
   "metadata": {
    "dotnet_interactive": {
     "language": "csharp"
    },
    "polyglot_notebook": {
     "kernelName": "csharp"
    },
    "vscode": {
     "languageId": "polyglot-notebook"
    }
   },
   "outputs": [],
   "source": [
    "Type t = Assembly.GetExecutingAssembly().GetType(\"Demos.TestProgram\");"
   ]
  },
  {
   "cell_type": "markdown",
   "metadata": {},
   "source": [
    "<div dir=\"rtl\" style=\"margin:auto; width:90%; font-family:vazirmatn\">\n",
    "<p>این کد نوع <code>Demos.TestProgram</code> را از اسمبلیی که در حال اجراست بدست می‌آورد.</p>\n",
    "<ul>\n",
    "<li><p><strong>استفاده از نام کامل و معتبر اسمبلی</strong>: اگر اسمبلی مورد نظر در حال حاضر بارگذاری نشده باشد، می‌توانید از نام کامل و معتبر نوع استفاده کنید تا اسمبلی بارگذاری شود و سپس نوع مورد نظر بازیابی شود:</p>\n",
    "<p>در این مثال، نوع <code>System.Int32</code> از اسمبلی <code>System.Private.CoreLib</code> بارگذاری و بازیابی می‌شود.</p></li>\n",
    "</ul>\n",
    "</div>"
   ]
  },
  {
   "cell_type": "code",
   "execution_count": null,
   "metadata": {
    "dotnet_interactive": {
     "language": "csharp"
    },
    "polyglot_notebook": {
     "kernelName": "csharp"
    },
    "vscode": {
     "languageId": "polyglot-notebook"
    }
   },
   "outputs": [],
   "source": [
    "Type t = Type.GetType(\"System.Int32, System.Private.CoreLib\");"
   ]
  },
  {
   "cell_type": "markdown",
   "metadata": {},
   "source": [
    "<div dir=\"rtl\" style=\"margin:auto; width:90%; font-family:vazirmatn\">\n",
    "<p>در این مثال، نوع <code>System.Int32</code> از اسمبلی <code>System.Private.CoreLib</code> بارگذاری و بازیابی می‌شود.</p>\n",
    "</div>"
   ]
  },
  {
   "cell_type": "code",
   "execution_count": null,
   "metadata": {
    "dotnet_interactive": {
     "language": "csharp"
    },
    "polyglot_notebook": {
     "kernelName": "csharp"
    },
    "vscode": {
     "languageId": "polyglot-notebook"
    }
   },
   "outputs": [],
   "source": [
    "using System.Reflection;\n",
    "\n",
    "Type t1 = DateTime.Now.GetType(); // Type obtained at runtime\n",
    "Type t2 = typeof (DateTime); // Type obtained at compile time\n",
    "\n",
    "Type t3 = typeof (DateTime[]); // 1-d Array type\n",
    "Type t4 = typeof (DateTime[,]); // 2-d Array type\n",
    "Type t5 = typeof (Dictionary<int,int>); // Closed generic type\n",
    "Type t6 = typeof (Dictionary<,>); // Unbound generic type\n",
    "\n",
    "Type t7 = Assembly.GetExecutingAssembly().GetType (\"Demos.TestProgram\");\n",
    "Type t8 = Type.GetType (\"System.Int32, System.Private.CoreLib\");"
   ]
  },
  {
   "cell_type": "code",
   "execution_count": null,
   "metadata": {
    "dotnet_interactive": {
     "language": "csharp"
    },
    "polyglot_notebook": {
     "kernelName": "csharp"
    },
    "vscode": {
     "languageId": "polyglot-notebook"
    }
   },
   "outputs": [],
   "source": [
    "//After you have a System.Type object, you can use its properties\n",
    "using System.Reflection;\n",
    "\n",
    "Type stringType = typeof (string);\n",
    "string name = stringType.Name; // String\n",
    "Type baseType = stringType.BaseType; // typeof(Object)\n",
    "Assembly assem = stringType.Assembly; // System.Private.CoreLib\n",
    "bool isPublic = stringType.IsPublic; // true\n"
   ]
  },
  {
   "cell_type": "markdown",
   "metadata": {},
   "source": [
    "A ***System.Type*** instance is a `window` into the entire `metadata` for the ***type*** and the ***assembly*** in which it’s defined."
   ]
  },
  {
   "cell_type": "markdown",
   "metadata": {},
   "source": [
    "#### TypeInfo"
   ]
  },
  {
   "cell_type": "markdown",
   "metadata": {},
   "source": [
    "<div dir=\"rtl\" style=\"margin:auto; width:90%; font-family:vazirmatn\">\n",
    "<p>  در نسخه‌های اولیه‌ی .NET Core و برخی پروفایل‌های خاص، بسیاری از اعضای <code>Type</code> حذف شده و به <code>TypeInfo</code> منتقل شده‌اند. برای استفاده از این اعضا باید از <code>GetTypeInfo</code> استفاده کنید. همچنین، <code>TypeInfo</code> در نسخه‌های جدیدتر نیز پشتیبانی می‌شود و امکان استفاده گسترده از آن در پروژه‌های مختلف وجود دارد. <code>TypeInfo</code> نه تنها سازگاری کد را تضمین می‌کند، بلکه امکانات بیشتری برای کار با متادیتا فراهم می‌آورد.</p>\n",
    "</div>"
   ]
  },
  {
   "cell_type": "markdown",
   "metadata": {},
   "source": [
    "#### Obtaining array types"
   ]
  },
  {
   "cell_type": "markdown",
   "metadata": {},
   "source": [
    "You can also ***obtain an array type*** by calling `MakeArrayType` on the `element type`"
   ]
  },
  {
   "cell_type": "code",
   "execution_count": null,
   "metadata": {
    "dotnet_interactive": {
     "language": "csharp"
    },
    "polyglot_notebook": {
     "kernelName": "csharp"
    },
    "vscode": {
     "languageId": "polyglot-notebook"
    }
   },
   "outputs": [],
   "source": [
    "Type simpleArrayType = typeof (int).MakeArrayType();\n",
    "Console.WriteLine (simpleArrayType == typeof (int[])); // True"
   ]
  },
  {
   "cell_type": "code",
   "execution_count": null,
   "metadata": {
    "dotnet_interactive": {
     "language": "csharp"
    },
    "polyglot_notebook": {
     "kernelName": "csharp"
    },
    "vscode": {
     "languageId": "polyglot-notebook"
    }
   },
   "outputs": [],
   "source": [
    "//You can create multidimensional arrays by passing an integer argument to Make\n",
    "//ArrayType\n",
    "Type cubeType = typeof (int).MakeArrayType (3); // cube shaped\n",
    "Console.WriteLine (cubeType == typeof (int[,,])); // True"
   ]
  },
  {
   "cell_type": "code",
   "execution_count": null,
   "metadata": {
    "dotnet_interactive": {
     "language": "csharp"
    },
    "polyglot_notebook": {
     "kernelName": "csharp"
    },
    "vscode": {
     "languageId": "polyglot-notebook"
    }
   },
   "outputs": [],
   "source": [
    "//GetElementType does the reverse: it retrieves an array type’s element type\n",
    "Type e = typeof (int[]).GetElementType(); // e == typeof (int)"
   ]
  },
  {
   "cell_type": "code",
   "execution_count": null,
   "metadata": {
    "dotnet_interactive": {
     "language": "csharp"
    },
    "polyglot_notebook": {
     "kernelName": "csharp"
    },
    "vscode": {
     "languageId": "polyglot-notebook"
    }
   },
   "outputs": [],
   "source": [
    "//GetArrayRank returns the number of dimensions of a rectangular array\n",
    "int rank = typeof (int[,,]).GetArrayRank(); // 3"
   ]
  },
  {
   "cell_type": "markdown",
   "metadata": {},
   "source": [
    "#### Obtaining nested types"
   ]
  },
  {
   "cell_type": "markdown",
   "metadata": {},
   "source": [
    "To retrieve `nested types`, call `GetNestedTypes` on the containing type:"
   ]
  },
  {
   "cell_type": "code",
   "execution_count": 1,
   "metadata": {
    "dotnet_interactive": {
     "language": "csharp"
    },
    "polyglot_notebook": {
     "kernelName": "csharp"
    },
    "vscode": {
     "languageId": "polyglot-notebook"
    }
   },
   "outputs": [
    {
     "name": "stdout",
     "output_type": "stream",
     "text": [
      "System.Environment+SpecialFolder\n",
      "System.Environment+SpecialFolderOption\n"
     ]
    }
   ],
   "source": [
    "foreach (Type t in typeof (System.Environment).GetNestedTypes())\n",
    "    Console.WriteLine (t.FullName);"
   ]
  },
  {
   "cell_type": "code",
   "execution_count": null,
   "metadata": {
    "dotnet_interactive": {
     "language": "csharp"
    },
    "polyglot_notebook": {
     "kernelName": "csharp"
    },
    "vscode": {
     "languageId": "polyglot-notebook"
    }
   },
   "outputs": [],
   "source": [
    "//OR\n",
    "using System.Reflection;\n",
    "\n",
    "foreach (TypeInfo t in typeof (System.Environment).GetTypeInfo().DeclaredNestedTypes)\n",
    "    Console.WriteLine (t.FullName);"
   ]
  },
  {
   "cell_type": "code",
   "execution_count": 2,
   "metadata": {
    "dotnet_interactive": {
     "language": "csharp"
    },
    "polyglot_notebook": {
     "kernelName": "csharp"
    },
    "vscode": {
     "languageId": "polyglot-notebook"
    }
   },
   "outputs": [],
   "source": [
    "//what is nested type ? \n",
    "public class OuterClass\n",
    "{\n",
    "    public class NestedClass // this is a nested type\n",
    "    {\n",
    "        // محتوا و متدهای NestedClass\n",
    "    }\n",
    "}\n"
   ]
  },
  {
   "cell_type": "markdown",
   "metadata": {},
   "source": [
    "<div dir=\"rtl\" style=\"margin:auto; width:90%; font-family:vazirmatn\">\n",
    "<p>بنابراین،  وقتی با انواع تو در تو کار می‌کنید، باید توجه داشته باشید که CLR آنها را با سطوح دسترسی تو در توی خاصی مدیریت می‌کند. به عنوان مثال، یک نوع تو در تو می‌تواند <code>nested public</code> باشد بدون اینکه به عنوان <code>public</code> شناخته شود. این تفاوت مهمی است که باید هنگام بررسی دسترسی انواع تو در تو در نظر بگیرید.</p>\n",
    "</div>"
   ]
  },
  {
   "cell_type": "code",
   "execution_count": null,
   "metadata": {
    "dotnet_interactive": {
     "language": "csharp"
    },
    "polyglot_notebook": {
     "kernelName": "csharp"
    },
    "vscode": {
     "languageId": "polyglot-notebook"
    }
   },
   "outputs": [],
   "source": [
    "Type t = typeof (System.Environment.SpecialFolder);\n",
    "Console.WriteLine (t.IsPublic); // False\n",
    "Console.WriteLine (t.IsNestedPublic); // True"
   ]
  },
  {
   "cell_type": "markdown",
   "metadata": {},
   "source": [
    "### Type Names"
   ]
  },
  {
   "cell_type": "markdown",
   "metadata": {},
   "source": [
    "A ***type*** has `Namespace`, `Name`, and `FullName` properties. In most cases, ***FullName*** is a `composition` of the ***former two***"
   ]
  },
  {
   "cell_type": "code",
   "execution_count": null,
   "metadata": {
    "dotnet_interactive": {
     "language": "csharp"
    },
    "polyglot_notebook": {
     "kernelName": "csharp"
    },
    "vscode": {
     "languageId": "polyglot-notebook"
    }
   },
   "outputs": [],
   "source": [
    "Type t = typeof (System.Text.StringBuilder);\n",
    "Console.WriteLine (t.Namespace); // System.Text\n",
    "Console.WriteLine (t.Name); // StringBuilder\n",
    "Console.WriteLine (t.FullName); // System.Text.StringBuilder"
   ]
  },
  {
   "cell_type": "markdown",
   "metadata": {},
   "source": [
    "There are ***two exceptions*** to this rule: `nested types` and `closed generic types`."
   ]
  },
  {
   "cell_type": "markdown",
   "metadata": {},
   "source": [
    "#### Nested type names"
   ]
  },
  {
   "cell_type": "code",
   "execution_count": null,
   "metadata": {
    "dotnet_interactive": {
     "language": "csharp"
    },
    "polyglot_notebook": {
     "kernelName": "csharp"
    },
    "vscode": {
     "languageId": "polyglot-notebook"
    }
   },
   "outputs": [],
   "source": [
    "//With nested types, the containing type appears only in FullName:\n",
    "\n",
    "Type t = typeof (System.Environment.SpecialFolder);\n",
    "Console.WriteLine (t.Namespace); // System\n",
    "Console.WriteLine (t.Name); // SpecialFolder\n",
    "Console.WriteLine (t.FullName); // System.Environment+SpecialFolder\n",
    "\n",
    "//The + symbol differentiates the containing type from a nested namespace."
   ]
  },
  {
   "cell_type": "markdown",
   "metadata": {},
   "source": [
    "#### Generic type names"
   ]
  },
  {
   "cell_type": "markdown",
   "metadata": {},
   "source": [
    "Generic type names are suffixed(پسوند) with the `'` symbol, followed by the `number of type parameters`."
   ]
  },
  {
   "cell_type": "code",
   "execution_count": null,
   "metadata": {
    "dotnet_interactive": {
     "language": "csharp"
    },
    "polyglot_notebook": {
     "kernelName": "csharp"
    },
    "vscode": {
     "languageId": "polyglot-notebook"
    }
   },
   "outputs": [],
   "source": [
    "//If the generic type is unbound(بدون قید), \n",
    "//this rule applies to both Name and FullName\n",
    "\n",
    "Type t = typeof (Dictionary<,>); // Unbound\n",
    "Console.WriteLine (t.Name); // Dictionary'2\n",
    "Console.WriteLine (t.FullName); // System.Collections.Generic.Dictionary'2"
   ]
  },
  {
   "cell_type": "markdown",
   "metadata": {},
   "source": [
    "If the ***generic type is closed***,Each type parameter’s full `assembly qualified name` is enumerated"
   ]
  },
  {
   "cell_type": "code",
   "execution_count": 3,
   "metadata": {
    "dotnet_interactive": {
     "language": "csharp"
    },
    "polyglot_notebook": {
     "kernelName": "csharp"
    },
    "vscode": {
     "languageId": "polyglot-notebook"
    }
   },
   "outputs": [
    {
     "name": "stdout",
     "output_type": "stream",
     "text": [
      "System.Collections.Generic.Dictionary`2[[System.Int32, System.Private.CoreLib, Version=8.0.0.0, Culture=neutral, PublicKeyToken=7cec85d7bea7798e],[System.String, System.Private.CoreLib, Version=8.0.0.0, Culture=neutral, PublicKeyToken=7cec85d7bea7798e]]\r\n"
     ]
    }
   ],
   "source": [
    "Console.WriteLine (typeof (Dictionary<int,string>).FullName);"
   ]
  },
  {
   "cell_type": "markdown",
   "metadata": {},
   "source": [
    "#### Array and pointer type names"
   ]
  },
  {
   "cell_type": "code",
   "execution_count": null,
   "metadata": {
    "dotnet_interactive": {
     "language": "csharp"
    },
    "polyglot_notebook": {
     "kernelName": "csharp"
    },
    "vscode": {
     "languageId": "polyglot-notebook"
    }
   },
   "outputs": [],
   "source": [
    "//Arrays present with the same suffix that you use in a typeof expression:\n",
    "Console.WriteLine (typeof ( int[] ).Name); // Int32[]\n",
    "Console.WriteLine (typeof ( int[,] ).Name); // Int32[,]\n",
    "Console.WriteLine (typeof ( int[,] ).FullName); // System.Int32[,]\n",
    "\n",
    "//Pointer types are similar\n",
    "Console.WriteLine (typeof (byte*).Name); // Byte*\n"
   ]
  },
  {
   "cell_type": "markdown",
   "metadata": {},
   "source": [
    "#### ref and out parameter type names"
   ]
  },
  {
   "cell_type": "code",
   "execution_count": null,
   "metadata": {
    "dotnet_interactive": {
     "language": "csharp"
    },
    "polyglot_notebook": {
     "kernelName": "csharp"
    },
    "vscode": {
     "languageId": "polyglot-notebook"
    }
   },
   "outputs": [],
   "source": [
    "//A Type describing a ref or out parameter has an & suffix:\n",
    "using System.Reflection;\n",
    "\n",
    "public void RefMethod (ref int p)\n",
    "{\n",
    "    Type t = MethodInfo.GetCurrentMethod().GetParameters()[0].ParameterType;\n",
    "    Console.WriteLine (t.Name); // Int32&\n",
    "}"
   ]
  },
  {
   "cell_type": "markdown",
   "metadata": {},
   "source": [
    "## Base Types and Interfaces"
   ]
  },
  {
   "cell_type": "code",
   "execution_count": null,
   "metadata": {
    "dotnet_interactive": {
     "language": "csharp"
    },
    "polyglot_notebook": {
     "kernelName": "csharp"
    },
    "vscode": {
     "languageId": "polyglot-notebook"
    }
   },
   "outputs": [],
   "source": [
    "//Type exposes a BaseType property:\n",
    "\n",
    "Type base1 = typeof (System.String).BaseType;\n",
    "Type base2 = typeof (System.IO.FileStream).BaseType;\n",
    "\n",
    "Console.WriteLine (base1.Name); // Object\n",
    "Console.WriteLine (base2.Name); // Stream"
   ]
  },
  {
   "cell_type": "code",
   "execution_count": null,
   "metadata": {
    "dotnet_interactive": {
     "language": "csharp"
    },
    "polyglot_notebook": {
     "kernelName": "csharp"
    },
    "vscode": {
     "languageId": "polyglot-notebook"
    }
   },
   "outputs": [],
   "source": [
    "//The GetInterfaces method returns the interfaces that a type implements:\n",
    "\n",
    "foreach (Type iType in typeof (Guid).GetInterfaces())\n",
    "    Console.WriteLine (iType.Name);\n",
    "//Output\n",
    "//IFormattable\n",
    "//IComparable\n",
    "//IComparable'1    **generic**\n",
    "//IEquatable'1     **generic**"
   ]
  },
  {
   "cell_type": "markdown",
   "metadata": {},
   "source": [
    "<div dir=\"rtl\" style=\"margin:auto; width:90%; font-family:vazirmatn\">\n",
    "<h5>1. اپراتور استاتیک <code>is</code> در C#</h5>\n",
    "<p>در C#، اپراتور <code>is</code> به شما اجازه می‌دهد تا بررسی کنید که آیا یک شیء خاص از نوع خاصی (یا پیاده‌کننده یک اینترفیس) است یا خیر. به عنوان مثال:</p>\n",
    "</div>"
   ]
  },
  {
   "cell_type": "code",
   "execution_count": null,
   "metadata": {
    "dotnet_interactive": {
     "language": "csharp"
    },
    "polyglot_notebook": {
     "kernelName": "csharp"
    },
    "vscode": {
     "languageId": "polyglot-notebook"
    }
   },
   "outputs": [],
   "source": [
    "object obj = Guid.NewGuid();\n",
    "bool isTrue = obj is IFormattable; // بررسی استاتیک در زمان کامپایل"
   ]
  },
  {
   "cell_type": "markdown",
   "metadata": {},
   "source": [
    "<div dir=\"rtl\" style=\"margin:auto; width:90%; font-family:vazirmatn\">\n",
    "<p>در اینجا بررسی می‌شود که آیا <code>obj</code> پیاده‌کننده اینترفیس <code>IFormattable</code> است یا خیر.</p>\n",
    "<h5>2. معادل‌های داینامیک Reflection برای <code>is</code></h5>\n",
    "<p>Reflection در .NET سه متد را فراهم می‌کند که معادل داینامیک اپراتور <code>is</code> هستند:</p>\n",
    "<ul>\n",
    "<li><p><strong><code>IsInstanceOfType</code></strong>:\n",
    "این متد بررسی می‌کند که آیا یک شیء نمونه‌ای از یک نوع خاص است یا خیر. این مشابه اپراتور <code>is</code> است، اما به صورت داینامیک در زمان اجرا انجام می‌شود:</p>\n",
    "</li>\n",
    "</ul>\n",
    "</div>"
   ]
  },
  {
   "cell_type": "code",
   "execution_count": null,
   "metadata": {
    "dotnet_interactive": {
     "language": "csharp"
    },
    "polyglot_notebook": {
     "kernelName": "csharp"
    },
    "vscode": {
     "languageId": "polyglot-notebook"
    }
   },
   "outputs": [],
   "source": [
    "object obj = Guid.NewGuid();\n",
    "Type target = typeof(IFormattable);\n",
    "bool alsoTrue = target.IsInstanceOfType(obj); // معادل داینامیک اپراتور is"
   ]
  },
  {
   "cell_type": "markdown",
   "metadata": {},
   "source": [
    "<div dir=\"rtl\" style=\"margin:auto; width:90%; font-family:vazirmatn\">\n",
    "<p>در اینجا، همان بررسی انجام می‌شود، اما با استفاده از Reflection.</p>\n",
    "<ul>\n",
    "<li>\n",
    "<p><strong><code>IsAssignableFrom</code></strong> و <strong><code>IsAssignableTo</code></strong>:\n",
    "این متدها بررسی می‌کنند که آیا یک نوع می‌تواند به نوع دیگری تبدیل شود یا خیر. <code>IsAssignableFrom</code> چک می‌کند که آیا یک نوع می‌تواند به نوع هدف تبدیل شود یا خیر.</p>\n",
    "</li>\n",
    "</ul>\n",
    "</div>"
   ]
  },
  {
   "cell_type": "code",
   "execution_count": null,
   "metadata": {
    "dotnet_interactive": {
     "language": "csharp"
    },
    "polyglot_notebook": {
     "kernelName": "csharp"
    },
    "vscode": {
     "languageId": "polyglot-notebook"
    }
   },
   "outputs": [],
   "source": [
    "Type target = typeof(IComparable);\n",
    "Type source = typeof(string);\n",
    "Console.WriteLine(target.IsAssignableFrom(source)); // True"
   ]
  },
  {
   "cell_type": "markdown",
   "metadata": {},
   "source": [
    "<div dir=\"rtl\" style=\"margin:auto; width:90%; font-family:vazirmatn\">\n",
    "<p>در این مثال، <code>IsAssignableFrom</code> بررسی می‌کند که آیا نوع <code>string</code> می‌تواند به نوع <code>IComparable</code> تبدیل شود (یا به عبارت دیگر، آیا <code>string</code> از <code>IComparable</code> ارث‌بری می‌کند). نتیجه <code>True</code> است، زیرا <code>string</code> اینترفیس <code>IComparable</code> را پیاده‌سازی می‌کند.</p>\n",
    "\n",
    "<p><code>IsAssignableTo</code> (که از .NET 5 به بعد معرفی شده) دقیقاً معکوس این بررسی را انجام می‌دهد، یعنی بررسی می‌کند که آیا یک نوع می‌تواند از نوع دیگری به ارث ببرد یا به آن تبدیل شود.</p>\n",
    "\n",
    "<h5>3. متد <code>IsSubclassOf</code></h5>\n",
    "<p><strong><code>IsSubclassOf</code></strong>:\n",
    "این متد بررسی می‌کند که آیا یک نوع خاص زیرکلاسی از نوع دیگری است، اما برخلاف <code>IsAssignableFrom</code>، این متد اینترفیس‌ها را در نظر نمی‌گیرد. به عبارت دیگر، این متد تنها برای بررسی رابطه ارث‌بری مستقیم بین کلاس‌ها استفاده می‌شود و اینترفیس‌ها را در نظر نمی‌گیرد.</p>\n",
    "</div>"
   ]
  },
  {
   "cell_type": "code",
   "execution_count": null,
   "metadata": {
    "dotnet_interactive": {
     "language": "csharp"
    },
    "polyglot_notebook": {
     "kernelName": "csharp"
    },
    "vscode": {
     "languageId": "polyglot-notebook"
    }
   },
   "outputs": [],
   "source": [
    "Type target = typeof(Animal);\n",
    "Type source = typeof(Dog);\n",
    "Console.WriteLine(source.IsSubclassOf(target)); // True if Dog inherits from Animal"
   ]
  },
  {
   "cell_type": "markdown",
   "metadata": {},
   "source": [
    "## Instantiating Types"
   ]
  },
  {
   "cell_type": "markdown",
   "metadata": {},
   "source": [
    "There are **two ways** to `dynamically instantiate` an object from its type:\n",
    "- Call the **static** `Activator.CreateInstance` method  \n",
    "  \n",
    "- Call `Invoke` on a `ConstructorInfo` object obtained from calling `GetConstructor` on a Type (***advanced scenarios***)"
   ]
  },
  {
   "cell_type": "code",
   "execution_count": null,
   "metadata": {
    "dotnet_interactive": {
     "language": "csharp"
    },
    "polyglot_notebook": {
     "kernelName": "csharp"
    },
    "vscode": {
     "languageId": "polyglot-notebook"
    }
   },
   "outputs": [],
   "source": [
    "//Activator.CreateInstance accepts a Type and optional arguments \n",
    "//that it passes to the constructor:\n",
    "\n",
    "int i = (int) Activator.CreateInstance (typeof (int));\n",
    "DateTime dt = (DateTime) Activator.CreateInstance (typeof (DateTime), 2000, 1, 1);"
   ]
  },
  {
   "cell_type": "markdown",
   "metadata": {},
   "source": [
    "<div dir=\"rtl\" style=\"margin:auto; width:90%; font-family:vazirmatn\">\n",
    "<h5>1. ایجاد نمونه با <code>Activator.CreateInstance</code></h5>\n",
    "<ul><li>متد <code>CreateInstance</code> در کلاس <code>Activator</code> به شما اجازه می‌دهد که یک نمونه از یک کلاس را در زمان اجرا (dynamically) ایجاد کنید. این متد می‌تواند گزینه‌های مختلفی را برای ایجاد نمونه تنظیم کند، از جمله:<ul><li>مشخص کردن اسمبلی (Assembly) که نوع مورد نظر باید از آن بارگذاری شود.</li><li>تعیین اینکه آیا به یک سازنده (constructor) غیرعمومی (nonpublic) نیز می‌توان دسترسی داشت یا نه.</li></ul></li><li>اگر سازنده‌ای که با امضای مورد نظر پیدا نشود، <code>MissingMethodException</code> پرتاب خواهد شد.</li></ul>\n",
    "\n",
    "<h5>2. رفع ابهام در سازنده‌ها (Constructors)</h5>\n",
    "<ul><li><p>در برخی موارد، ممکن است یک کلاس چند سازنده‌ی (Constructor) اورلود شده (overloaded) داشته باشد. مثلاً اگر کلاسی به نام <code>X</code> دو سازنده داشته باشد که یکی از آنها یک <code>string</code> و دیگری یک <code>StringBuilder</code> به عنوان پارامتر دریافت کند، این وضعیت زمانی که مقدار <code>null</code> به عنوان آرگومان پاس داده شود، ابهام ایجاد می‌کند. دلیل این ابهام این است که <code>null</code> می‌تواند به هر دو نوع <code>string</code> و <code>StringBuilder</code> تخصیص داده شود.</p></li><li><p>در این موارد، استفاده از <code>Activator.CreateInstance</code> ممکن است نتواند سازنده‌ی مناسب را به درستی تشخیص دهد. برای رفع این ابهام، باید به جای <code>Activator.CreateInstance</code> از <code>ConstructorInfo</code> استفاده کنید.</p></li></ul>\n",
    "<h5>3. استفاده از <code>ConstructorInfo</code></h5>\n",
    "<ul><li>با استفاده از کلاس <code>ConstructorInfo</code>، می‌توانید سازنده‌ی خاصی را به صورت دقیق انتخاب کنید و نمونه‌ی مورد نظر را با استفاده از آن ایجاد کنید.</li></ul>\n",
    "</div>"
   ]
  },
  {
   "cell_type": "code",
   "execution_count": null,
   "metadata": {
    "dotnet_interactive": {
     "language": "csharp"
    },
    "polyglot_notebook": {
     "kernelName": "csharp"
    },
    "vscode": {
     "languageId": "polyglot-notebook"
    }
   },
   "outputs": [],
   "source": [
    "using System.Reflection;\n",
    "\n",
    "// یافتن سازنده‌ای که یک پارامتر از نوع string می‌پذیرد\n",
    "ConstructorInfo ci = typeof(X).GetConstructor(new[] { typeof(string) });\n",
    "\n",
    "// ساخت نمونه از کلاس X با استفاده از سازنده‌ی انتخاب‌شده، و پاس دادن null به عنوان آرگومان\n",
    "object foo = ci.Invoke(new object[] { null });\n"
   ]
  },
  {
   "cell_type": "markdown",
   "metadata": {},
   "source": [
    "<div dir=\"rtl\" style=\"margin:auto; width:90%; font-family:vazirmatn\">\n",
    "<p>در این مثال:</p>\n",
    "<ul><li>ابتدا با استفاده از <code>GetConstructor</code>، سازنده‌ای که یک <code>string</code> به عنوان پارامتر می‌گیرد را پیدا می‌کنیم.</li><li>سپس با استفاده از متد <code>Invoke</code>، نمونه‌ای از کلاس <code>X</code> را با استفاده از این سازنده ایجاد می‌کنیم و مقدار <code>null</code> را به عنوان پارامتر پاس می‌دهیم.</li></ul>\n",
    "</div>"
   ]
  },
  {
   "cell_type": "markdown",
   "metadata": {},
   "source": [
    "To dynamically instantiate a `delegate`, call `Delegate.CreateDelegate`."
   ]
  },
  {
   "cell_type": "code",
   "execution_count": null,
   "metadata": {
    "dotnet_interactive": {
     "language": "csharp"
    },
    "polyglot_notebook": {
     "kernelName": "csharp"
    },
    "vscode": {
     "languageId": "polyglot-notebook"
    }
   },
   "outputs": [],
   "source": [
    "class Program\n",
    "{\n",
    "    delegate int IntFunc(int x);\n",
    "\n",
    "    static int Square(int x) => x * x; // Static method\n",
    "\n",
    "    int Cube(int x) => x * x * x; // Instance method\n",
    "\n",
    "    static void Main()\n",
    "    {\n",
    "        Delegate staticD = Delegate.CreateDelegate\n",
    "            (typeof(IntFunc), typeof(Program), \"Square\");\n",
    "\n",
    "        Delegate instanceD = Delegate.CreateDelegate\n",
    "            (typeof(IntFunc), new Program(), \"Cube\");\n",
    "            \n",
    "        Console.WriteLine(staticD.DynamicInvoke(3)); // 9\n",
    "        Console.WriteLine(instanceD.DynamicInvoke(3)); // 27\n",
    "    }\n",
    "}"
   ]
  },
  {
   "cell_type": "code",
   "execution_count": null,
   "metadata": {
    "dotnet_interactive": {
     "language": "csharp"
    },
    "polyglot_notebook": {
     "kernelName": "csharp"
    },
    "vscode": {
     "languageId": "polyglot-notebook"
    }
   },
   "outputs": [],
   "source": [
    "//OR\n",
    "\n",
    "class Program\n",
    "{\n",
    "    delegate int IntFunc(int x);\n",
    "\n",
    "    static int Square(int x) => x * x; // Static method\n",
    "\n",
    "    int Cube(int x) => x * x * x; // Instance method\n",
    "\n",
    "    static void Main()\n",
    "    {\n",
    "        Delegate staticD = Delegate.CreateDelegate\n",
    "            (typeof(IntFunc), typeof(Program), \"Square\");\n",
    "\n",
    "        Delegate instanceD = Delegate.CreateDelegate\n",
    "            (typeof(IntFunc), new Program(), \"Cube\");\n",
    "        \n",
    "        IntFunc f1 = (IntFunc) staticD;\n",
    "        Console.WriteLine(f1(3)); // 9\n",
    "\n",
    "        IntFunc f2 = (IntFunc) instanceD;\n",
    "        Console.WriteLine(f2(3)); // 27\n",
    "    }\n",
    "}"
   ]
  },
  {
   "cell_type": "markdown",
   "metadata": {},
   "source": [
    "### Generic Types"
   ]
  },
  {
   "cell_type": "markdown",
   "metadata": {},
   "source": [
    "A ***Type*** can represent a `closed` or `unbound` **generic type**."
   ]
  },
  {
   "cell_type": "markdown",
   "metadata": {},
   "source": [
    "Just as at ***compile time***, a `closed generic type` can be ***instantiated***, whereas an `unbound type cannot`"
   ]
  },
  {
   "cell_type": "code",
   "execution_count": null,
   "metadata": {
    "dotnet_interactive": {
     "language": "csharp"
    },
    "polyglot_notebook": {
     "kernelName": "csharp"
    },
    "vscode": {
     "languageId": "polyglot-notebook"
    }
   },
   "outputs": [],
   "source": [
    "Type closed = typeof (List<int>);\n",
    "List<int> list = (List<int>) Activator.CreateInstance (closed); // OK\n",
    "\n",
    "Type unbound = typeof (List<>);\n",
    "object anError = Activator.CreateInstance (unbound); // Runtime error"
   ]
  },
  {
   "cell_type": "code",
   "execution_count": null,
   "metadata": {
    "dotnet_interactive": {
     "language": "csharp"
    },
    "polyglot_notebook": {
     "kernelName": "csharp"
    },
    "vscode": {
     "languageId": "polyglot-notebook"
    }
   },
   "outputs": [],
   "source": [
    "//The MakeGenericType method converts an unbound into a closed generic type\n",
    "Type unbound = typeof (List<>);\n",
    "Type closed = unbound.MakeGenericType (typeof (int));\n",
    "\n",
    "//The GetGenericTypeDefinition method does the opposite\n",
    "Type unbound2 = closed.GetGenericTypeDefinition(); // unbound == unbound2"
   ]
  },
  {
   "cell_type": "markdown",
   "metadata": {},
   "source": [
    "The `IsGenericType` property returns ***true*** if a **Type is generic**, and the `IsGenericTypeDefinition` property returns ***true*** if the **generic type is unbound**."
   ]
  },
  {
   "cell_type": "code",
   "execution_count": 1,
   "metadata": {
    "dotnet_interactive": {
     "language": "csharp"
    },
    "polyglot_notebook": {
     "kernelName": "csharp"
    },
    "vscode": {
     "languageId": "polyglot-notebook"
    }
   },
   "outputs": [
    {
     "name": "stdout",
     "output_type": "stream",
     "text": [
      "True\r\n"
     ]
    }
   ],
   "source": [
    "Type nullable = typeof (bool?);\n",
    "Console.WriteLine (\n",
    "    nullable.IsGenericType &&\n",
    "    nullable.GetGenericTypeDefinition() == typeof (Nullable<>)); // True"
   ]
  },
  {
   "cell_type": "code",
   "execution_count": 2,
   "metadata": {
    "dotnet_interactive": {
     "language": "csharp"
    },
    "polyglot_notebook": {
     "kernelName": "csharp"
    },
    "vscode": {
     "languageId": "polyglot-notebook"
    }
   },
   "outputs": [
    {
     "name": "stdout",
     "output_type": "stream",
     "text": [
      "System.Int32\n",
      "System.Boolean\n"
     ]
    }
   ],
   "source": [
    "Type closed = typeof (List<int>);\n",
    "\n",
    "Type nullable = typeof (bool?);\n",
    "\n",
    "Console.WriteLine (closed.GetGenericArguments()[0]); // System.Int32\n",
    "Console.WriteLine (nullable.GetGenericArguments()[0]); // System.Boolean"
   ]
  },
  {
   "cell_type": "code",
   "execution_count": 3,
   "metadata": {
    "dotnet_interactive": {
     "language": "csharp"
    },
    "polyglot_notebook": {
     "kernelName": "csharp"
    },
    "vscode": {
     "languageId": "polyglot-notebook"
    }
   },
   "outputs": [
    {
     "name": "stdout",
     "output_type": "stream",
     "text": [
      "T\r\n"
     ]
    }
   ],
   "source": [
    "Type unbound = typeof (List<>);\n",
    "Console.WriteLine (unbound.GetGenericArguments()[0]);"
   ]
  }
 ],
 "metadata": {
  "kernelspec": {
   "display_name": ".NET (C#)",
   "language": "C#",
   "name": ".net-csharp"
  },
  "language_info": {
   "name": "python"
  },
  "polyglot_notebook": {
   "kernelInfo": {
    "defaultKernelName": "csharp",
    "items": [
     {
      "aliases": [],
      "name": "csharp"
     }
    ]
   }
  }
 },
 "nbformat": 4,
 "nbformat_minor": 2
}
