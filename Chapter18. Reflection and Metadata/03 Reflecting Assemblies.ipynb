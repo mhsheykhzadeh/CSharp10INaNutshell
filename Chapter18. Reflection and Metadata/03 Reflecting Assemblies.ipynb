{
 "cells": [
  {
   "cell_type": "markdown",
   "metadata": {},
   "source": [
    "You can ***dynamically reflect*** an `assembly` by calling `GetType` or `GetTypes` on an `Assembly object`."
   ]
  },
  {
   "cell_type": "code",
   "execution_count": null,
   "metadata": {
    "vscode": {
     "languageId": "polyglot-notebook"
    }
   },
   "outputs": [],
   "source": [
    "//The following retrieves from the current assembly the type called\n",
    "//TestProgram in the Demos namespace\n",
    "using System.Reflection;\n",
    "\n",
    "Type t = Assembly.GetExecutingAssembly().GetType (\"Demos.TestProgram\");\n",
    "\n",
    "Type t1 = typeof (Foo).Assembly.GetType (\"Demos.TestProgram\");\n",
    "\n",
    "//lists all the types in the assembly mylib.dll in e:\\demo:\n",
    "Assembly a = Assembly.LoadFile (@\"e:\\demo\\mylib.dll\");\n",
    "\n",
    "foreach (Type t in a.GetTypes())\n",
    "    Console.WriteLine (t);\n",
    "\n",
    "//or:\n",
    "Assembly a1 = typeof (Foo).GetTypeInfo().Assembly;\n",
    "\n",
    "foreach (Type t in a.ExportedTypes)\n",
    "    Console.WriteLine (t);"
   ]
  },
  {
   "cell_type": "markdown",
   "metadata": {},
   "source": [
    "`GetTypes` and `ExportedTypes` return ***only*** `top-level` and ***not nested types***."
   ]
  },
  {
   "cell_type": "markdown",
   "metadata": {},
   "source": [
    "### Modules"
   ]
  },
  {
   "cell_type": "markdown",
   "metadata": {},
   "source": [
    "<div dir=\"rtl\" style=\"margin:auto; width:90%; font-family:vazirmatn\">\n",
    "<p>ماژول (Module) یک بخش از اسمبلی (Assembly) در دات‌نت است که حاوی انواع (Types)، منابع (Resources) و کد اجرایی است. یک اسمبلی می‌تواند از چندین ماژول تشکیل شود، اما در بیشتر برنامه‌های معمول، اسمبلی‌ها فقط شامل یک ماژول هستند.</p>\n",
    "\n",
    "<h3>تفاوت اسمبلی و ماژول</h3>\n",
    "<ul><li><strong>Assembly (اسمبلی)</strong>: یک واحد قابل توزیع است که شامل متادیتا (metadata)، کد اجرایی و منابع می‌شود. اسمبلی معمولاً با فرمت‌های DLL یا EXE در دات‌نت ذخیره می‌شود.</li><li><strong>Module (ماژول)</strong>: یک واحد کوچکتر از اسمبلی است که کد و متادیتا را در خود دارد. هر اسمبلی حداقل شامل یک ماژول است. در برنامه‌های ساده، اسمبلی‌ها فقط یک ماژول دارند و بیشتر توسعه‌دهندگان دات‌نت ممکن است مستقیماً با ماژول‌ها سروکار نداشته باشند، زیرا کار با اسمبلی برای آن‌ها کافی است.</li></ul>\n",
    "\n",
    "<h3>کاربرد ماژول‌ها</h3>\n",
    "<p>ماژول‌ها بیشتر در مواقع خاصی اهمیت پیدا می‌کنند. برخی از دلایل استفاده از ماژول‌ها به صورت زیر است:</p>\n",
    "<ol><li><strong>تقسیم اسمبلی‌های بزرگ</strong>: در پروژه‌های بزرگ و پیچیده، ممکن است یک اسمبلی به چندین ماژول تقسیم شود تا کارایی بهبود یابد یا مدیریت آن آسان‌تر شود.</li><li><strong>IL و متادیتا</strong>: وقتی که در سطوح پایین‌تر کد مانند پردازش <strong>Intermediate Language (IL)</strong> کار می‌کنید، ماژول‌ها و توکن‌های متادیتا برای ارتباط با اعضای خاص (مانند متدها، انواع، و رشته‌ها) مهم می‌شوند. توکن‌های متادیتا در سطح ماژول منحصربه‌فرد هستند و با استفاده از آن‌ها می‌توان اجزای مختلف درون ماژول را شناسایی کرد.</li></ol>\n",
    "<h3>ویژگی‌ها و متدهای مرتبط با ماژول</h3>\n",
    "<p>در دات‌نت، شما می‌توانید از طریق اسمبلی به ماژول‌ها دسترسی پیدا کنید:</p>\n",
    "<ul><li><strong>GetModules</strong>: این متد فهرست تمام ماژول‌های یک اسمبلی را برمی‌گرداند.</li><li><strong>ManifestModule</strong>: این ویژگی به ماژول اصلی اسمبلی اشاره دارد (در یک اسمبلی تک‌ماژوله، همین یک ماژول است).</li></ul>\n",
    "\n",
    "<p>وقتی از متد GetTypes برای یک اسمبلی چندماژوله استفاده می‌کنید، همه‌ی انواع (types) موجود در همه‌ی ماژول‌های آن اسمبلی برگردانده می‌شوند.</p>\n",
    "</div>"
   ]
  }
 ],
 "metadata": {
  "kernelspec": {
   "display_name": ".NET (C#)",
   "language": "C#",
   "name": ".net-csharp"
  },
  "language_info": {
   "name": "python"
  },
  "polyglot_notebook": {
   "kernelInfo": {
    "defaultKernelName": "csharp",
    "items": [
     {
      "aliases": [],
      "name": "csharp"
     }
    ]
   }
  }
 },
 "nbformat": 4,
 "nbformat_minor": 2
}
