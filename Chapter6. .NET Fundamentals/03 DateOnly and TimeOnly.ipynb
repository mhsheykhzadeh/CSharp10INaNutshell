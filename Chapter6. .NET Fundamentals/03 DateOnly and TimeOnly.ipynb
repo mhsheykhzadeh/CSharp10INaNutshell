{
 "cells": [
  {
   "cell_type": "markdown",
   "metadata": {
    "dotnet_interactive": {
     "language": "csharp"
    },
    "polyglot_notebook": {
     "kernelName": "csharp"
    },
    "vscode": {
     "languageId": "polyglot-notebook"
    }
   },
   "source": [
    "The `DateOnly` and `TimeOnly` structs (from ***.NET 6***) exist for when you `only` want to represent a **date** or **time**.  \n",
    "***DateOnly*** always `Unspecified` and **has no concept** of `Local` or `Utc`.\n",
    "***DateOnly*** was to use DateTime with a `zero time` (**midnight**)."
   ]
  },
  {
   "cell_type": "code",
   "execution_count": 3,
   "metadata": {
    "dotnet_interactive": {
     "language": "csharp"
    },
    "polyglot_notebook": {
     "kernelName": "csharp"
    },
    "vscode": {
     "languageId": "polyglot-notebook"
    }
   },
   "outputs": [
    {
     "name": "stdout",
     "output_type": "stream",
     "text": [
      "6/12/2024\n",
      "6:39 AM\n"
     ]
    }
   ],
   "source": [
    "DateOnly today = DateOnly.FromDateTime(DateTime.Now);\n",
    "\n",
    "Console.WriteLine(today);\n",
    "\n",
    "TimeOnly now = TimeOnly.FromDateTime(DateTime.Now);\n",
    "\n",
    "Console.WriteLine(now)"
   ]
  }
 ],
 "metadata": {
  "kernelspec": {
   "display_name": ".NET (C#)",
   "language": "C#",
   "name": ".net-csharp"
  },
  "language_info": {
   "name": "python"
  },
  "polyglot_notebook": {
   "kernelInfo": {
    "defaultKernelName": "csharp",
    "items": [
     {
      "aliases": [],
      "name": "csharp"
     }
    ]
   }
  }
 },
 "nbformat": 4,
 "nbformat_minor": 2
}
