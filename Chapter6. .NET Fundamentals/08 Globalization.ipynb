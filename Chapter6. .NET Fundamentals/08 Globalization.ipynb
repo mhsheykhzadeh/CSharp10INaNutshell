{
 "cells": [
  {
   "cell_type": "markdown",
   "metadata": {
    "dotnet_interactive": {
     "language": "csharp"
    },
    "polyglot_notebook": {
     "kernelName": "csharp"
    }
   },
   "source": [
    "<div dir=\"rtl\" style=\"margin:auto; width:90%; font-family:vazirmatn\">\n",
    "\n",
    "<p> دو مفهوم اصلی در بین‌المللی کردن یک برنامه وجود دارد: <strong>جهانی‌سازی</strong> (Globalization) و <strong>محلی‌سازی</strong> (Localization).</p>\n",
    "\n",
    "<h5>جهانی‌سازی (Globalization)</h5>\n",
    "<p>جهانی‌سازی به سه کار اصلی اشاره دارد که به ترتیب اهمیت عبارتند از:</p>\n",
    "<ol><li><p><strong>اطمینان از اینکه برنامه در فرهنگ‌های مختلف بدون مشکل اجرا می‌شود:</strong></p><ul><li>این مهم‌ترین وظیفه است و به معنای طراحی برنامه به گونه‌ای است که در هر فرهنگی بتواند بدون خطا کار کند.</li></ul></li><li><p><strong>احترام به قوانین قالب‌بندی محلی:</strong></p><ul><li>این شامل نمایش صحیح تاریخ‌ها، اعداد، و سایر داده‌ها بر اساس فرهنگ محلی کاربر است. برای مثال، تاریخ‌ها در ایالات متحده به فرمت MM/DD/YYYY و در بسیاری از کشورهای اروپایی به فرمت DD/MM/YYYY نمایش داده می‌شوند.</li></ul></li><li><p><strong>طراحی برنامه به گونه‌ای که داده‌ها و رشته‌های خاص فرهنگ را از  (satellite assemblies) دریافت کند:</strong></p><ul><li>این (satellite assemblies) فایل‌هایی هستند که داده‌ها و رشته‌های مربوط به فرهنگ‌های مختلف را نگهداری می‌کنند و می‌توان آن‌ها را بعد از نوشتن برنامه ایجاد و به کار گرفت.</li></ul></li></ol>\n",
    "\n",
    "<h5>محلی‌سازی (Localization)</h5>\n",
    "\n",
    "<p>محلی‌سازی به این معناست که آن آخرین وظیفه جهانی‌سازی را با نوشتن satellite assemblies برای فرهنگ‌های خاص به پایان برسانید. این کار را می‌توانید بعد از نوشتن برنامه اصلی انجام دهید.</p>\n",
    "\n",
    "<h5>پشتیبانی .NET</h5>\n",
    "\n",
    "<p>پلتفرم .NET در انجام وظیفه دوم به شما کمک می‌کند زیرا به طور پیش‌فرض قوانین مربوط به فرهنگ‌های خاص را اعمال می‌کند. برای مثال، هنگامی که متد <code>ToString</code> را بر روی یک تاریخ (<code>DateTime</code>) یا عدد صدا می‌زنید، فرمت محلی رعایت می‌شود.</p>\n",
    "</div>"
   ]
  },
  {
   "cell_type": "markdown",
   "metadata": {},
   "source": [
    "#### Globalization Checklist"
   ]
  },
  {
   "cell_type": "markdown",
   "metadata": {},
   "source": [
    "<div dir=\"rtl\" style=\"margin:auto; width:90%; font-family:vazirmatn\">\n",
    "<p>این متن چک لیستی از نکات مهم و ضروری برای جهانی‌سازی (Globalization) یک برنامه را ارائه می‌دهد. این چک لیست شامل ملاحظات کلیدی است که باید در نظر گرفته شود تا برنامه به درستی در فرهنگ‌های مختلف کار کند.</p>\n",
    "\n",
    "<h5>چک لیست جهانی‌سازی</h5>\n",
    "<ol><li><p><strong>درک یونیکد و کدگذاری‌های متنی:</strong></p><ul><li>یونیکد یک استاندارد جهانی برای نمایش متن در سیستم‌های کامپیوتری است که می‌تواند تقریباً همه کاراکترهای زبان‌های مختلف را پوشش دهد. درک نحوه کارکرد یونیکد و کدگذاری‌های مختلف (مانند UTF-8, UTF-16) برای اطمینان از نمایش صحیح متن در فرهنگ‌های مختلف ضروری است.</li></ul></li><li><p><strong>حساسیت به فرهنگ در متدهای ToUpper و ToLower:</strong></p><ul><li>متدهای <code>ToUpper</code> و <code>ToLower</code> در کلاس‌های <code>char</code> و <code>string</code> نسبت به فرهنگ حساس هستند. این بدان معناست که خروجی این متدها می‌تواند در فرهنگ‌های مختلف متفاوت باشد. اگر نمی‌خواهید خروجی این متدها به فرهنگ خاصی وابسته باشد، باید از متدهای <code>ToUpperInvariant</code> و <code>ToLowerInvariant</code> استفاده کنید.</li></ul></li><li><p><strong>استفاده از مکانیزم‌های مستقل از فرهنگ برای قالب‌بندی و تجزیه DateTime و DateTimeOffset:</strong></p><ul><li>برای اطمینان از سازگاری بین‌المللی، بهتر است از مکانیزم‌های مستقل از فرهنگ برای قالب‌بندی و تجزیه تاریخ‌ها و زمان‌ها استفاده کنید. برای مثال، متد <code>ToString(\"o\")</code> تاریخ و زمان را در قالب استاندارد ISO 8601 نمایش می‌دهد که مستقل از فرهنگ است. همچنین، می‌توانید از <code>XmlConvert</code> برای تبدیل تاریخ‌ها استفاده کنید.</li></ul></li><li><p><strong>مشخص کردن فرهنگ هنگام قالب‌بندی/تجزیه اعداد یا تاریخ‌ها/زمان‌ها:</strong></p><ul><li>در مواردی که می‌خواهید اعداد یا تاریخ‌ها و زمان‌ها را قالب‌بندی یا تجزیه کنید، باید یک فرهنگ خاص را مشخص کنید مگر اینکه بخواهید رفتار محلی فرهنگ (local-culture behavior) را داشته باشید. این کار از اشتباهات ناشی از تفاوت‌های فرهنگ‌ها جلوگیری می‌کند.</li></ul></li></ol>\n",
    "</div>"
   ]
  },
  {
   "cell_type": "markdown",
   "metadata": {},
   "source": [
    "### Testing"
   ]
  },
  {
   "cell_type": "code",
   "execution_count": 10,
   "metadata": {
    "dotnet_interactive": {
     "language": "csharp"
    },
    "polyglot_notebook": {
     "kernelName": "csharp"
    },
    "vscode": {
     "languageId": "polyglot-notebook"
    }
   },
   "outputs": [
    {
     "name": "stdout",
     "output_type": "stream",
     "text": [
      "True this is from other thread\n",
      "25 Haziran 2024 Salı\n",
      "False this is from main thread\n",
      "Tuesday, June 25, 2024\n"
     ]
    }
   ],
   "source": [
    "using System.Threading;\n",
    "using System.Globalization;\n",
    "\n",
    "await Task.Run(TestCulture);\n",
    "\n",
    "void TestCulture()\n",
    "{\n",
    "    Thread.CurrentThread.CurrentCulture = CultureInfo.GetCultureInfo (\"tr-TR\");\n",
    "\n",
    "    Console.WriteLine((\"i\".ToUpper() != \"I\") +\" this is from other thread\");\n",
    "    Console.WriteLine(DateTime.Now.ToLongDateString());\n",
    "}\n",
    "\n",
    "Console.WriteLine((\"i\".ToUpper() != \"I\") +\" this is from main thread\");\n",
    "Console.WriteLine(DateTime.Now.ToLongDateString());\n"
   ]
  },
  {
   "cell_type": "markdown",
   "metadata": {},
   "source": []
  }
 ],
 "metadata": {
  "kernelspec": {
   "display_name": ".NET (C#)",
   "language": "C#",
   "name": ".net-csharp"
  },
  "language_info": {
   "name": "python"
  },
  "polyglot_notebook": {
   "kernelInfo": {
    "defaultKernelName": "csharp",
    "items": [
     {
      "aliases": [],
      "name": "csharp"
     }
    ]
   }
  }
 },
 "nbformat": 4,
 "nbformat_minor": 2
}
