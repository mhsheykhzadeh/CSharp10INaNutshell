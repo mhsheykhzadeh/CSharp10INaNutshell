{
 "cells": [
  {
   "cell_type": "markdown",
   "metadata": {},
   "source": [
    "**.NET** extends C#’s support for `enums` through the `System.Enum` type. This type has two roles  \n",
    "- Providing `type unification` for ***all enum types***\n",
    "- Defining **static** `utility methods`"
   ]
  },
  {
   "cell_type": "markdown",
   "metadata": {},
   "source": [
    "<div dir=\"rtl\" style=\"margin:auto; width:90%; font-family:vazirmatn\">\n",
    "<p><strong>Type Unification:</strong></p>\n",
    "<ul><li>هر نوع شمارشی (enum) که در C# تعریف می‌شود، به صورت ضمنی از <code>System.Enum</code> ارث‌بری می‌کند. این به معنای آن است که تمامی enumها نوعی از <code>System.Enum</code> هستند و بنابراین می‌توانند به عنوان <code>System.Enum</code> استفاده شوند.</li><li>این ویژگی به C# امکان می‌دهد تا عملیات‌ها و رفتارهای مشترکی را برای همه enumها فراهم کند، مثل تبدیل به رشته (string)، بررسی مقادیر معتبر و غیره.</li></ul>\n",
    "</div>"
   ]
  },
  {
   "cell_type": "code",
   "execution_count": null,
   "metadata": {
    "dotnet_interactive": {
     "language": "csharp"
    },
    "polyglot_notebook": {
     "kernelName": "csharp"
    },
    "vscode": {
     "languageId": "polyglot-notebook"
    }
   },
   "outputs": [],
   "source": [
    "enum Nut { Walnut, Hazelnut, Macadamia }\n",
    "enum Size { Small, Medium, Large }\n",
    "\n",
    "Display (Nut.Macadamia); // Nut.Macadamia\n",
    "Display (Size.Large); // Size.Large\n",
    "\n",
    "void Display (Enum value)\n",
    "{\n",
    "    Console.WriteLine (value.GetType().Name + \".\" + value.ToString());\n",
    "}\n",
    "\n",
    "void DisplayValues(Enum type)\n",
    "{\n",
    "       Array values = Enum.GetValues(type.GetType());\n",
    "        foreach (var value in values)\n",
    "        {\n",
    "            Console.WriteLine(value);\n",
    "        }\n",
    "}"
   ]
  },
  {
   "cell_type": "markdown",
   "metadata": {},
   "source": [
    "### Enum Conversions"
   ]
  },
  {
   "cell_type": "markdown",
   "metadata": {},
   "source": [
    "There are three ways to represent an enum value:\n",
    "- As an `enum member`\n",
    "- As its `underlying integral value`\n",
    "- As a `string`"
   ]
  },
  {
   "cell_type": "markdown",
   "metadata": {},
   "source": [
    "#### Enum to integral conversions "
   ]
  },
  {
   "cell_type": "code",
   "execution_count": null,
   "metadata": {
    "dotnet_interactive": {
     "language": "csharp"
    },
    "polyglot_notebook": {
     "kernelName": "csharp"
    },
    "vscode": {
     "languageId": "polyglot-notebook"
    }
   },
   "outputs": [],
   "source": [
    "[Flags]\n",
    "public enum BorderSides { Left=1, Right=2, Top=4, Bottom=8 }\n",
    "\n",
    "int i = (int) BorderSides.Top; // i == 4\n",
    "BorderSides side = (BorderSides) i; // side == BorderSides.Top\n",
    "\n",
    "//You can cast a System.Enum instance to its integral type in the same way.\n",
    "static int GetIntegralValue (Enum anyEnum)\n",
    "{\n",
    "    return (int) (object) anyEnum;\n",
    "}\n",
    "//the method we just wrote would crash\n",
    "//if passed an enum whose integral type was long.\n",
    "\n",
    "//thsi method works with an enum of any integral type\n",
    "static decimal GetAnyIntegralValue (Enum anyEnum)\n",
    "{\n",
    "    return Convert.ToDecimal (anyEnum);\n",
    "}\n",
    "//This works because every integral type (including ulong) can be converted to\n",
    "//decimal without loss of information.\n",
    "\n",
    "//second approch is to call Enum.GetUnderlyingType then call Convert.ChangeType\n",
    "static object GetBoxedIntegralValue (Enum anyEnum)\n",
    "{\n",
    "    Type integralType = Enum.GetUnderlyingType (anyEnum.GetType());\n",
    "    return Convert.ChangeType (anyEnum, integralType);\n",
    "}\n",
    "//This preserves the original integral type, as the following example shows\n",
    "object result = GetBoxedIntegralValue (BorderSides.Top);\n",
    "Console.WriteLine (result); // 4\n",
    "Console.WriteLine (result.GetType()); // System.Int32\n",
    "\n",
    "//The third approach is to call Format or ToString specifying the \"d\" or \"D\" format string.\n",
    "static string GetIntegralValueAsString (Enum anyEnum)\n",
    "{\n",
    "    return anyEnum.ToString (\"D\"); // returns something like \"4\"\n",
    "}"
   ]
  },
  {
   "cell_type": "markdown",
   "metadata": {},
   "source": [
    "####  Integral to enum conversions"
   ]
  },
  {
   "cell_type": "markdown",
   "metadata": {},
   "source": [
    "`Enum.ToObject` converts an **integral value** to an **enum instance** of the `given type`"
   ]
  },
  {
   "cell_type": "code",
   "execution_count": null,
   "metadata": {
    "dotnet_interactive": {
     "language": "csharp"
    },
    "polyglot_notebook": {
     "kernelName": "csharp"
    },
    "vscode": {
     "languageId": "polyglot-notebook"
    }
   },
   "outputs": [],
   "source": [
    "[Flags]\n",
    "public enum BorderSides { Left=1, Right=2, Top=4, Bottom=8 }\n",
    "\n",
    "object bs = Enum.ToObject (typeof (BorderSides), 3);\n",
    "Console.WriteLine (bs); // Left, Right\n",
    "\n",
    "//This is the dynamic equivalent of the following\n",
    "BorderSides bs1 = (BorderSides) 3;\n",
    "\n",
    "//ToObject is overloaded to accept all integral types as well as object.\n",
    "\n"
   ]
  },
  {
   "cell_type": "markdown",
   "metadata": {},
   "source": [
    "#### String conversions "
   ]
  },
  {
   "cell_type": "markdown",
   "metadata": {},
   "source": [
    "To ***convert an enum to a string***, you can either call the **static** `Enum.Format` method or call `ToString` on the instance.  \n",
    "- `G` for default formatting behavior\n",
    "- `D` to emit the underlying integral value as a string\n",
    "- `X` for the same in hexadecimal\n",
    "- `F` to format combined members of an enum without the Flags attribute."
   ]
  },
  {
   "cell_type": "code",
   "execution_count": null,
   "metadata": {
    "dotnet_interactive": {
     "language": "csharp"
    },
    "polyglot_notebook": {
     "kernelName": "csharp"
    },
    "vscode": {
     "languageId": "polyglot-notebook"
    }
   },
   "outputs": [],
   "source": [
    "[Flags]\n",
    "public enum BorderSides { Left=1, Right=2, Top=4, Bottom=8 }\n",
    "\n",
    "BorderSides bs1 = BorderSides.Right;\n",
    "BorderSides bs2 = BorderSides.Left | BorderSides.Right;\n",
    "\n",
    "Console.WriteLine(bs1.ToString(\"G\")); //Right\n",
    "Console.WriteLine(bs2.ToString(\"G\")); //Left, Right\n",
    "\n",
    "Console.WriteLine(bs1.ToString(\"D\")); //2\n",
    "Console.WriteLine(bs2.ToString(\"D\")); //3\n",
    "\n",
    "Console.WriteLine(bs1.ToString(\"X\")); //00000002\n",
    "Console.WriteLine(bs2.ToString(\"X\")); //00000003\n",
    "\n",
    "Console.WriteLine(bs1.ToString(\"F\")); //Right\n",
    "Console.WriteLine(bs2.ToString(\"F\")); //Left, Right\n",
    "\n",
    "public enum BorderSidesWhitoutFlag { Left=1, Right=2, Top=4, Bottom=8 }\n",
    "BorderSidesWhitoutFlag bsUnknown = (BorderSidesWhitoutFlag)10;\n",
    "Console.WriteLine(bsUnknown.ToString(\"G\")); //10\n",
    "Console.WriteLine(bsUnknown.ToString(\"F\")); //Right, Bottom"
   ]
  },
  {
   "cell_type": "markdown",
   "metadata": {},
   "source": [
    "`Enum.Parse` converts a `string` to an `enum`. It accepts the enum type and a string that `can include multiple members`"
   ]
  },
  {
   "cell_type": "code",
   "execution_count": null,
   "metadata": {
    "dotnet_interactive": {
     "language": "csharp"
    },
    "polyglot_notebook": {
     "kernelName": "csharp"
    },
    "vscode": {
     "languageId": "polyglot-notebook"
    }
   },
   "outputs": [],
   "source": [
    "[Flags]\n",
    "public enum BorderSides { Left=1, Right=2, Top=4, Bottom=8 }\n",
    "\n",
    "BorderSides leftRight = \n",
    "    (BorderSides) Enum.Parse ( typeof (BorderSides), \"Left, Right\");"
   ]
  },
  {
   "cell_type": "markdown",
   "metadata": {},
   "source": [
    "### Enumerating Enum Values"
   ]
  },
  {
   "cell_type": "markdown",
   "metadata": {},
   "source": [
    "`Enum.GetValues` returns an array comprising `all members` of a particular `enum type`"
   ]
  },
  {
   "cell_type": "code",
   "execution_count": null,
   "metadata": {
    "dotnet_interactive": {
     "language": "csharp"
    },
    "polyglot_notebook": {
     "kernelName": "csharp"
    },
    "vscode": {
     "languageId": "polyglot-notebook"
    }
   },
   "outputs": [],
   "source": [
    "[Flags]\n",
    "public enum BorderSides { Left=1, Right=2, Top=4, Bottom=8 }\n",
    "\n",
    "foreach (Enum value in Enum.GetValues (typeof (BorderSides)))\n",
    " Console.WriteLine (value);"
   ]
  },
  {
   "cell_type": "markdown",
   "metadata": {},
   "source": [
    "`Enum.GetNames` performs the same function but returns an `array of strings`."
   ]
  },
  {
   "cell_type": "markdown",
   "metadata": {},
   "source": [
    "### How Enums Work"
   ]
  },
  {
   "cell_type": "markdown",
   "metadata": {},
   "source": [
    "<div dir=\"rtl\" style=\"margin:auto; width:90%; font-family:vazirmatn\">\n",
    "<p>در C#، Enum ها اساساً مجموعه‌ای از ثابت‌های عددی هستند که یک نام قابل فهم به آنها داده شده است. این نام‌ها برای خوانایی و قابلیت استفاده بیشتر کد مورد استفاده قرار می‌گیرند. اما در سطح پایین‌تر و در زمان اجرای برنامه (runtime)، Enum ها در واقع تفاوتی با مقادیر عددی خود ندارند. این یعنی یک مقدار Enum در CLR (Common Language Runtime) همان مقدار عددی پایه خود را دارد.</p>\n",
    "\n",
    "<p>تعریف Enum در CLR (محیط اجرای زبان مشترک) به شکل یک زیرنوع از System.Enum است که دارای فیلدهای عددی ثابت برای هر عضو می‌باشد. این ساختار باعث می‌شود که استفاده از Enum ها بسیار کارآمد باشد و هزینه اجرایی آن‌ها برابر با استفاده از ثابت‌های عددی باشد.</p>\n",
    "\n",
    "<strong>نکته‌ای درباره ایمنی نوع (Type Safety)</strong>\n",
    "\n",
    "<p>به دلیل اینکه Enum ها اساساً مقادیر عددی هستند، نوع ایمنی قوی (Strong Type Safety) در زمان اجرا ندارند. به عبارت دیگر، شما می‌توانید بدون دریافت خطا، یک مقدار عددی به یک Enum اضافه کنید، حتی اگر این مقدار معنایی نداشته باشد (مثل اضافه کردن 1234 به <code>BorderSides.Left</code>).</p>\n",
    "\n",
    "<strong>روش‌های فراخوانی متدهای مجازی</strong>\n",
    "\n",
    "<p>در زمان اجرا، یک شیء Enum تفاوتی با مقدار عددی خود ندارد، اما وقتی که شما متدهای مجازی مثل <code>ToString</code> یا <code>GetType</code> را فراخوانی می‌کنید، C# این شیء Enum را قبل از فراخوانی این متدها جعبه‌بندی (Boxing) می‌کند. این جعبه‌بندی باعث می‌شود که شیء Enum به نوع اصلی خود برگردد و متدهای مربوط به نوع Enum اجرا شوند. بنابراین، زمانی که شما <code>BorderSides.Right.ToString()</code> را فراخوانی می‌کنید، نتیجه <code>Right</code> است نه <code>2</code>.</p>\n",
    "\n",
    "</div>"
   ]
  }
 ],
 "metadata": {
  "kernelspec": {
   "display_name": ".NET (C#)",
   "language": "C#",
   "name": ".net-csharp"
  },
  "language_info": {
   "name": "python"
  },
  "polyglot_notebook": {
   "kernelInfo": {
    "defaultKernelName": "csharp",
    "items": [
     {
      "aliases": [],
      "name": "csharp"
     }
    ]
   }
  }
 },
 "nbformat": 4,
 "nbformat_minor": 2
}
