{
 "cells": [
  {
   "cell_type": "markdown",
   "metadata": {
    "dotnet_interactive": {
     "language": "csharp"
    },
    "polyglot_notebook": {
     "kernelName": "csharp"
    }
   },
   "source": [
    "The `System.Numerics.BitOperations` class (from .NET 6) exposes the following methods to help with `base-2 operations`:  "
   ]
  },
  {
   "cell_type": "code",
   "execution_count": 1,
   "metadata": {
    "dotnet_interactive": {
     "language": "csharp"
    },
    "polyglot_notebook": {
     "kernelName": "csharp"
    },
    "vscode": {
     "languageId": "polyglot-notebook"
    }
   },
   "outputs": [
    {
     "name": "stdout",
     "output_type": "stream",
     "text": [
      "True\n",
      "27\n",
      "31\n",
      "4\n",
      "0\n",
      "4\n",
      "0\n",
      "1\n",
      "4\n",
      "4\n",
      "32\n",
      "1\n",
      "16\n",
      "16\n",
      "32\n"
     ]
    }
   ],
   "source": [
    "using System.Numerics;\n",
    "\n",
    "Console.WriteLine(BitOperations.IsPow2(16)); // True\n",
    "//Returns true if a number is a power of 2\n",
    "\n",
    "Console.WriteLine(BitOperations.LeadingZeroCount(16));// 27 برای عدد 32 بیتی\n",
    "Console.WriteLine(BitOperations.LeadingZeroCount(1));  // 31 برای عدد 32 بیتی\n",
    "//این تابع تعداد صفرهای بیتی ابتدایی (از سمت چپ) یک عدد را برمی‌گرداند.\n",
    "\n",
    "\n",
    "Console.WriteLine(BitOperations.TrailingZeroCount(16)); // 4\n",
    "Console.WriteLine(BitOperations.TrailingZeroCount(1));  // 0\n",
    "//این تابع تعداد صفرهای بیتی انتهایی (از سمت راست) یک عدد را برمی‌گرداند.\n",
    "\n",
    "Console.WriteLine(BitOperations.Log2(16)); // 4\n",
    "Console.WriteLine(BitOperations.Log2(1));  // 0\n",
    "// این تابع لگاریتم پایه 2 یک عدد را برمی‌گرداند.\n",
    "\n",
    "Console.WriteLine(BitOperations.PopCount(16)); // 1\n",
    "Console.WriteLine(BitOperations.PopCount(15)); // 4\n",
    "//این تابع تعداد بیت‌های یک (1) در باینری نمایش یک عدد را برمی‌گرداند.\n",
    "\n",
    "Console.WriteLine(BitOperations.RotateLeft(1, 2)); // 4\n",
    "Console.WriteLine(BitOperations.RotateLeft(16, 1)); // 32\n",
    "//این تابع بیت‌های یک عدد را به سمت چپ چرخش می‌دهد.\n",
    "\n",
    "Console.WriteLine(BitOperations.RotateRight(4, 2)); // 1\n",
    "Console.WriteLine(BitOperations.RotateRight(32, 1)); // 16\n",
    "//این تابع بیت‌های یک عدد را به سمت راست چرخش می‌دهد.\n",
    "\n",
    "Console.WriteLine(BitOperations.RoundUpToPowerOf2(15)); // 16\n",
    "Console.WriteLine(BitOperations.RoundUpToPowerOf2(18)); // 32\n",
    "//این تابع عدد را به نزدیک‌ترین توان 2 که برابر یا بزرگتر از آن عدد است گرد می‌کند."
   ]
  }
 ],
 "metadata": {
  "kernelspec": {
   "display_name": ".NET (C#)",
   "language": "C#",
   "name": ".net-csharp"
  },
  "language_info": {
   "name": "python"
  },
  "polyglot_notebook": {
   "kernelInfo": {
    "defaultKernelName": "csharp",
    "items": [
     {
      "aliases": [],
      "name": "csharp"
     }
    ]
   }
  }
 },
 "nbformat": 4,
 "nbformat_minor": 2
}
