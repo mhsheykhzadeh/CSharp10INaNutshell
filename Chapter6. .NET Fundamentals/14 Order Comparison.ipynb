{
 "cells": [
  {
   "cell_type": "markdown",
   "metadata": {},
   "source": [
    "C# and .NET define ***two standard protocols*** for determining the `order` of `one object` ***relative*** to `another`  \n",
    "- The `IComparable` interfaces (`IComparable` and `IComparable<T>`)\n",
    "- The `>` and `<` operators"
   ]
  },
  {
   "cell_type": "markdown",
   "metadata": {},
   "source": [
    "The `IComparable` interfaces are used by ***general-purpose*** `sorting` algorithms."
   ]
  },
  {
   "cell_type": "code",
   "execution_count": null,
   "metadata": {
    "dotnet_interactive": {
     "language": "csharp"
    },
    "polyglot_notebook": {
     "kernelName": "csharp"
    },
    "vscode": {
     "languageId": "polyglot-notebook"
    }
   },
   "outputs": [],
   "source": [
    "//the static Array.Sort method works because System.String\n",
    "//implements the IComparable interfaces\n",
    "\n",
    "string[] colors = { \"Green\", \"Red\", \"Blue\" };\n",
    "Array.Sort (colors);\n",
    "foreach (string c in colors) Console.Write (c + \" \"); // Blue Green Red"
   ]
  },
  {
   "cell_type": "markdown",
   "metadata": {},
   "source": [
    "### IComparable"
   ]
  },
  {
   "cell_type": "code",
   "execution_count": null,
   "metadata": {
    "dotnet_interactive": {
     "language": "csharp"
    },
    "polyglot_notebook": {
     "kernelName": "csharp"
    },
    "vscode": {
     "languageId": "polyglot-notebook"
    }
   },
   "outputs": [],
   "source": [
    "public interface IComparable \n",
    "{ \n",
    "    int CompareTo (object other); \n",
    "}\n",
    "\n",
    "public interface IComparable<in T> \n",
    "{ \n",
    "    int CompareTo (T other); \n",
    "}"
   ]
  },
  {
   "cell_type": "markdown",
   "metadata": {},
   "source": [
    "the ***generic type-safe interface*** is `faster` than the ***nongeneric interface***."
   ]
  },
  {
   "cell_type": "markdown",
   "metadata": {},
   "source": [
    "In both cases, the Compare To method works as follows\n",
    "- If `a` comes **after** `b`, ***a.CompareTo(b)*** returns a `positive` number.\n",
    "- If `a` is the **same as** `b`, ***a.CompareTo(b)*** returns `0`.\n",
    "- If `a` comes **before** `b`, ***a.CompareTo(b)*** returns a `negative` number."
   ]
  },
  {
   "cell_type": "code",
   "execution_count": 1,
   "metadata": {
    "dotnet_interactive": {
     "language": "csharp"
    },
    "polyglot_notebook": {
     "kernelName": "csharp"
    },
    "vscode": {
     "languageId": "polyglot-notebook"
    }
   },
   "outputs": [
    {
     "name": "stdout",
     "output_type": "stream",
     "text": [
      "1\n",
      "0\n",
      "-1\n"
     ]
    }
   ],
   "source": [
    "Console.WriteLine (\"Beck\".CompareTo (\"Anne\")); // 1\n",
    "Console.WriteLine (\"Beck\".CompareTo (\"Beck\")); // 0\n",
    "Console.WriteLine (\"Beck\".CompareTo (\"Chris\")); // -1"
   ]
  },
  {
   "cell_type": "markdown",
   "metadata": {},
   "source": [
    "#### IComparable versus Equals"
   ]
  },
  {
   "cell_type": "markdown",
   "metadata": {},
   "source": [
    "<div dir=\"rtl\" style=\"margin:auto; width:90%; font-family:vazirmatn\">\n",
    "<p><strong>رفتار مورد انتظار:</strong></p>\n",
    "<ul><li>هنگامی که یک نوع هم متد <code>Equals</code> را بازنویسی کرده و هم رابط <code>IComparable</code> را پیاده‌سازی می‌کند، انتظار داریم که اگر <code>Equals</code> مقدار true را برگرداند، <code>CompareTo</code> باید مقدار 0 را برگرداند. به عبارت دیگر، اگر دو شیء برابر هستند، مقایسه آن‌ها نیز باید نشان‌دهنده برابر بودن آن‌ها باشد.</li><li>اما هنگامی که <code>Equals</code> مقدار false را برمی‌گرداند، <code>CompareTo</code> می‌تواند هر مقداری را برگرداند، به شرطی که در داخل نوع سازگار باشد.</li></ul>\n",
    "\n",
    "<ul><li><code>Equals</code> می‌تواند در تشخیص برابری دقیق‌تر و حساس‌تر باشد، اما برعکس آن ممکن نیست. اگر <code>CompareTo</code> نسبت به <code>Equals</code> حساس‌تر باشد، الگوریتم‌های مرتب‌سازی خراب می‌شوند.</li><li>بنابراین، <code>CompareTo</code> می‌تواند همه اشیاء را برابر بداند، در حالی که <code>Equals</code> می‌تواند بگوید \"برخی برابرتر از دیگران هستند.\"</li></ul>\n",
    "</div>"
   ]
  },
  {
   "cell_type": "markdown",
   "metadata": {},
   "source": [
    "### `<` and `>`"
   ]
  },
  {
   "cell_type": "markdown",
   "metadata": {},
   "source": [
    "<div dir=\"rtl\" style=\"margin:auto; width:90%; font-family:vazirmatn\">\n",
    "<p>پیاده‌سازی عملگرهای <code>&lt;</code> و <code>&gt;</code> در انواعی که دارای مفهوم ذاتی قوی از \"بزرگتر بودن\" و \"کوچکتر بودن\" هستند، منطقی است. این عملگرها باید با <code>IComparable</code> سازگار باشند تا عملکرد صحیح مقایسه‌ها تضمین شود. از سوی دیگر، پیاده‌سازی این عملگرها در انواعی که مقایسه آن‌ها ممکن است بسته به فرهنگ و زبان متفاوت باشد، منطقی نیست و می‌تواند منجر به رفتار غیرمنتظره شود.</p>\n",
    "\n",
    "<p><strong>شرایطی برای بازنویسی <code>&lt;</code> و <code>&gt;</code>:</strong></p>\n",
    "<ul><li>معمولاً عملگرهای <code>&lt;</code> و <code>&gt;</code> فقط زمانی بازنویسی می‌شوند که:<ul><li>نوع دارای مفهوم ذاتی قوی از \"بزرگتر بودن\" و \"کوچکتر بودن\" باشد (در مقایسه با مفاهیم وسیع‌تر <code>IComparable</code> از \"قبل آمدن\" و \"بعد آمدن\").</li><li>تنها یک روش یا زمینه برای انجام مقایسه وجود داشته باشد.</li><li>نتیجه مقایسه در تمام فرهنگ‌ها یکسان باشد.</li></ul></li></ul>\n",
    "\n",
    "<p>نوع <code>System.String</code> این شرایط را برآورده نمی‌کند. نتایج مقایسه رشته‌ها می‌توانند بسته به زبان متفاوت باشند.</p>\n",
    "</div>"
   ]
  },
  {
   "cell_type": "code",
   "execution_count": null,
   "metadata": {
    "dotnet_interactive": {
     "language": "csharp"
    },
    "polyglot_notebook": {
     "kernelName": "csharp"
    },
    "vscode": {
     "languageId": "polyglot-notebook"
    }
   },
   "outputs": [],
   "source": [
    "bool error = \"Beck\" > \"Anne\"; // خطای زمان کامپایل"
   ]
  },
  {
   "cell_type": "code",
   "execution_count": null,
   "metadata": {
    "dotnet_interactive": {
     "language": "csharp"
    },
    "polyglot_notebook": {
     "kernelName": "csharp"
    },
    "vscode": {
     "languageId": "polyglot-notebook"
    }
   },
   "outputs": [],
   "source": [
    "public struct Note : IComparable<Note>, IEquatable<Note>, IComparable\n",
    "{\n",
    "    private int _semitonesFromA;\n",
    "    public int SemitonesFromA { get { return _semitonesFromA; } }\n",
    "\n",
    "    public Note(int semitonesFromA)\n",
    "    {\n",
    "        _semitonesFromA = semitonesFromA;\n",
    "    }\n",
    "\n",
    "    public int CompareTo(Note other) // Generic IComparable<T>\n",
    "    {\n",
    "        if (Equals(other)) return 0; // Fail-safe check\n",
    "        return _semitonesFromA.CompareTo(other._semitonesFromA);\n",
    "    }\n",
    "\n",
    "    int IComparable.CompareTo(object other) // Nongeneric IComparable\n",
    "    {\n",
    "        if (!(other is Note))\n",
    "            throw new InvalidOperationException(\"CompareTo: Not a note\");\n",
    "        return CompareTo((Note)other);\n",
    "    }\n",
    "\n",
    "    public static bool operator <(Note n1, Note n2)\n",
    "    => n1.CompareTo(n2) < 0;\n",
    "\n",
    "    public static bool operator >(Note n1, Note n2)\n",
    "    => n1.CompareTo(n2) > 0;\n",
    "\n",
    "    public bool Equals(Note other) // for IEquatable<Note>\n",
    "    => _semitonesFromA == other._semitonesFromA;\n",
    "\n",
    "    public override bool Equals(object other)\n",
    "    {\n",
    "        if (!(other is Note)) return false;\n",
    "        return Equals((Note)other);\n",
    "    }\n",
    "    public override int GetHashCode() => _semitonesFromA.GetHashCode();\n",
    "\n",
    "    public static bool operator ==(Note n1, Note n2) => n1.Equals(n2);\n",
    "\n",
    "    public static bool operator !=(Note n1, Note n2) => !(n1 == n2);\n",
    "}"
   ]
  }
 ],
 "metadata": {
  "kernelspec": {
   "display_name": ".NET (C#)",
   "language": "C#",
   "name": ".net-csharp"
  },
  "language_info": {
   "name": "python"
  },
  "polyglot_notebook": {
   "kernelInfo": {
    "defaultKernelName": "csharp",
    "items": [
     {
      "aliases": [],
      "name": "csharp"
     }
    ]
   }
  }
 },
 "nbformat": 4,
 "nbformat_minor": 2
}
