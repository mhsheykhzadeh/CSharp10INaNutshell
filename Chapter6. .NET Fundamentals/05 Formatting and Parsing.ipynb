{
 "cells": [
  {
   "cell_type": "markdown",
   "metadata": {},
   "source": [
    "***Formatting*** means `converting to a string`; ***parsing*** means `converting from a string`."
   ]
  },
  {
   "cell_type": "markdown",
   "metadata": {},
   "source": [
    "`ToString` and `Parse` These methods provide `default functionality` for **many types**."
   ]
  },
  {
   "cell_type": "markdown",
   "metadata": {},
   "source": [
    "***Format providers***  \n",
    "These manifest as **additional** ToString (and Parse) methods that accept a `format string` and/or a `format provider`.   \n",
    "***Format providers*** are highly flexible and `culture-aware`. .NET includes format providers for the `numeric types` and `DateTime/DateTimeOffset`."
   ]
  },
  {
   "cell_type": "markdown",
   "metadata": {},
   "source": [
    "#### ToString and Parse"
   ]
  },
  {
   "cell_type": "markdown",
   "metadata": {},
   "source": [
    "all simple value types (`bool`, `DateTime`, `DateTimeOffset`, `TimeSpan`, `Guid`, and `all the numeric types`) have `ToString` meaningfull output method.  \n",
    "  \n",
    "For the ***reverse operation***, each of these types defines a ***static*** `Parse` method"
   ]
  },
  {
   "cell_type": "code",
   "execution_count": null,
   "metadata": {
    "dotnet_interactive": {
     "language": "csharp"
    },
    "polyglot_notebook": {
     "kernelName": "csharp"
    },
    "vscode": {
     "languageId": "polyglot-notebook"
    }
   },
   "outputs": [],
   "source": [
    "string s = true.ToString(); // s = \"True\"\n",
    "bool b = bool.Parse (s); // b = true\n",
    "\n",
    "//If the parsing fails, a FormatException is thrown\n",
    "\n",
    "bool failure = int.TryParse (\"qwerty\", out int i1);\n",
    "bool success = int.TryParse (\"123\", out int i2);\n",
    "\n",
    "\n",
    "//If you don’t care about the output and want to test only whether parsing would\n",
    "//succeed\n",
    "bool isSuccess = int.TryParse (\"123\", out int _);\n"
   ]
  },
  {
   "cell_type": "markdown",
   "metadata": {},
   "source": [
    "The `Parse` and `TryParse` methods on ***DateTime(Offset)*** and the ***numeric types*** `respect` ***local culture settings***;"
   ]
  },
  {
   "cell_type": "code",
   "execution_count": 1,
   "metadata": {
    "dotnet_interactive": {
     "language": "csharp"
    },
    "polyglot_notebook": {
     "kernelName": "csharp"
    },
    "vscode": {
     "languageId": "polyglot-notebook"
    }
   },
   "outputs": [
    {
     "name": "stdout",
     "output_type": "stream",
     "text": [
      "1,234\n",
      "1,234\n",
      "1234\n"
     ]
    }
   ],
   "source": [
    "using System.Globalization;\n",
    "\n",
    "CultureInfo cultureDE = new CultureInfo(\"de-DE\");\n",
    "Console.WriteLine(1.234.ToString(cultureDE));\n",
    "\n",
    "string x = 1.234.ToString(cultureDE);\n",
    "\n",
    "Console.WriteLine(x);\n",
    "\n",
    "int result = int.Parse(x, NumberStyles.AllowThousands, new CultureInfo(\"en-US\"));\n",
    "\n",
    "Console.WriteLine(result);\n",
    "\n",
    "//This is because in Germany, the period indicates a thousands separator rather than a\n",
    "//decimal point.\n",
    "\n",
    "double xx = double.Parse (\"1.234\", CultureInfo.InvariantCulture);\n",
    "//or\n",
    "string xxx = 1.234.ToString (CultureInfo.InvariantCulture);"
   ]
  },
  {
   "cell_type": "markdown",
   "metadata": {
    "vscode": {
     "languageId": "polyglot-notebook"
    }
   },
   "source": [
    "### Format Providers"
   ]
  },
  {
   "cell_type": "markdown",
   "metadata": {},
   "source": [
    "<div dir=\"rtl\" style=\"margin:auto; width:90%; font-family:vazirmatn\">\n",
    "<p>فرمت پراوایدرها به شما اجازه می‌دهند تا کنترل گسترده‌ای بر روی فرمت‌بندی و تجزیه (پارزینگ) داده‌ها داشته باشید. این ابزارها برای انواع عددی و تاریخ/زمان پشتیبانی می‌شوند و حتی در کنترل‌های رابط کاربری برای فرمت‌بندی و تجزیه داده‌ها نیز استفاده می‌شوند.</p>\n",
    "\n",
    "<h5>رابط IFormattable</h5>\n",
    "<p>در C#، برای استفاده از فرمت پراوایدرها، از رابط <code>IFormattable</code> استفاده می‌شود. تمامی انواع عددی و کلاس‌های <code>DateTime</code> و <code>DateTimeOffset</code> این رابط را پیاده‌سازی می‌کنند.</p>\n",
    "</div>"
   ]
  },
  {
   "cell_type": "code",
   "execution_count": null,
   "metadata": {
    "dotnet_interactive": {
     "language": "csharp"
    },
    "polyglot_notebook": {
     "kernelName": "csharp"
    },
    "vscode": {
     "languageId": "polyglot-notebook"
    }
   },
   "outputs": [],
   "source": [
    "public interface IFormattable\n",
    "{\n",
    "    string ToString(string format, IFormatProvider formatProvider);\n",
    "}"
   ]
  },
  {
   "cell_type": "markdown",
   "metadata": {},
   "source": [
    "<div dir=\"rtl\" style=\"margin:auto; width:90%; font-family:vazirmatn\">\n",
    "\n",
    "<h5>پارامترهای متد <code>ToString</code></h5>\n",
    "<ul><li><strong>format (رشته قالب)</strong>: این پارامتر رشته‌ای است که دستورات فرمت‌بندی را ارائه می‌دهد. این دستورات مشخص می‌کنند که چگونه داده‌ها باید به رشته تبدیل شوند.</li><li><strong>formatProvider (فرمت پراوایدر)</strong>: این پارامتر تعیین می‌کند که دستورات فرمت‌بندی چگونه تفسیر شوند. به عنوان مثال، <code>CultureInfo</code> یک فرمت پراوایدر است که مشخص می‌کند جداکننده‌های اعشاری و هزارگان چگونه باشند.</li></ul>\n",
    "\n",
    "</div>"
   ]
  },
  {
   "cell_type": "code",
   "execution_count": 4,
   "metadata": {
    "dotnet_interactive": {
     "language": "csharp"
    },
    "polyglot_notebook": {
     "kernelName": "csharp"
    },
    "vscode": {
     "languageId": "polyglot-notebook"
    }
   },
   "outputs": [
    {
     "name": "stdout",
     "output_type": "stream",
     "text": [
      "US format: Wednesday, June 12 2024, 08:31 AM\n",
      "FR format: mercredi, juin 12 2024, 08:31 AM\n",
      "DE format: Mittwoch, Juni 12 2024, 08:31 AM\n"
     ]
    }
   ],
   "source": [
    "using System.Globalization;\n",
    "\n",
    "DateTime now = DateTime.Now;\n",
    "\n",
    "// CultureInfo های مختلف برای فرمت‌بندی تاریخ/زمان\n",
    "CultureInfo cultureUS = new CultureInfo(\"en-US\");\n",
    "CultureInfo cultureFR = new CultureInfo(\"fr-FR\");\n",
    "CultureInfo cultureDE = new CultureInfo(\"de-DE\");\n",
    "\n",
    " // فرمت‌بندی با استفاده از رشته قالب و CultureInfo های مختلف\n",
    " string format = \"dddd, MMMM dd yyyy, hh:mm tt\";\n",
    "\n",
    "Console.WriteLine(\"US format: \" + now.ToString(format, cultureUS));\n",
    "Console.WriteLine(\"FR format: \" + now.ToString(format, cultureFR));\n",
    "Console.WriteLine(\"DE format: \" + now.ToString(format, cultureDE));"
   ]
  },
  {
   "cell_type": "code",
   "execution_count": null,
   "metadata": {
    "dotnet_interactive": {
     "language": "csharp"
    },
    "polyglot_notebook": {
     "kernelName": "csharp"
    },
    "vscode": {
     "languageId": "polyglot-notebook"
    }
   },
   "outputs": [],
   "source": [
    "NumberFormatInfo f = new NumberFormatInfo();\n",
    "f.CurrencySymbol = \"$$\";\n",
    "Console.WriteLine (3.ToString (\"C\", f)); // $$ 3.00\n",
    "\n",
    "//Here, \"C\" is a format string that indicates currency,"
   ]
  },
  {
   "cell_type": "markdown",
   "metadata": {},
   "source": [
    "If you specify a `null` format string or provider, a `default is applied`. The default format provider is `CultureInfo.CurrentCulture`,"
   ]
  },
  {
   "cell_type": "code",
   "execution_count": null,
   "metadata": {
    "dotnet_interactive": {
     "language": "csharp"
    },
    "polyglot_notebook": {
     "kernelName": "csharp"
    },
    "vscode": {
     "languageId": "polyglot-notebook"
    }
   },
   "outputs": [],
   "source": [
    "Console.WriteLine (10.3.ToString (\"C\", null)); // $10.30\n",
    "\n",
    "//For convenience, most types overload ToString such that you can omit a null provider:\n",
    "Console.WriteLine (10.3.ToString (\"C\")); // $10.30\n",
    "Console.WriteLine (10.3.ToString (\"F4\")); // 10.3000 (Fix to 4 D.P.)"
   ]
  },
  {
   "cell_type": "markdown",
   "metadata": {},
   "source": [
    "Calling `ToString` on a ***DateTime(Offset)*** or a **numeric type** with no arguments is equivalent to using a `default format provider`, with an `empty format string`."
   ]
  },
  {
   "cell_type": "markdown",
   "metadata": {
    "vscode": {
     "languageId": "polyglot-notebook"
    }
   },
   "source": [
    ".NET defines three ***format providers*** (all of which implement IFormatProvider):\n",
    "- `NumberFormatInfo`\n",
    "- `DateTimeFormatInfo`\n",
    "- `CultureInfo`"
   ]
  },
  {
   "cell_type": "markdown",
   "metadata": {},
   "source": [
    "<div dir=\"rtl\" style=\"margin:auto; width:90%; font-family:vazirmatn\">\n",
    "<p><strong>CultureInfo به عنوان واسطه</strong>:</p>\n",
    "<ul><li><code>CultureInfo</code> به عنوان یک واسطه عمل می‌کند که اطلاعات مربوط به قالب‌بندی اعداد و تاریخ/زمان را بر اساس تنظیمات منطقه‌ای یک فرهنگ خاص برمی‌گرداند. این تنظیمات شامل <code>NumberFormatInfo</code> و <code>DateTimeFormatInfo</code> است.</li></ul>\n",
    "\n",
    "<ul><li><strong>CultureInfo</strong>: این کلاس شامل اطلاعات فرهنگ (مانند زبان، کشور، و تنظیمات فرمت‌بندی) است.</li><li><strong>NumberFormatInfo</strong>: این کلاس شامل اطلاعات فرمت‌بندی اعداد مانند جداکننده‌های اعشاری و هزارگان و نماد ارز است.</li><li><strong>DateTimeFormatInfo</strong>: این کلاس شامل اطلاعات فرمت‌بندی تاریخ و زمان مانند قالب‌های تاریخ کوتاه و بلند و نام‌های روزها و ماه‌ها است.</li><li><strong>فرمت رشته‌ای (\"C\")</strong>: این قالب‌بندی عدد را به صورت ارز نمایش می‌دهد.</li></ul>\n",
    "</div>"
   ]
  },
  {
   "cell_type": "code",
   "execution_count": null,
   "metadata": {
    "dotnet_interactive": {
     "language": "csharp"
    },
    "polyglot_notebook": {
     "kernelName": "csharp"
    },
    "vscode": {
     "languageId": "polyglot-notebook"
    }
   },
   "outputs": [],
   "source": [
    "using System.Globalization;\n",
    "\n",
    "CultureInfo uk = CultureInfo.GetCultureInfo(\"en-GB\");\n",
    "        \n",
    "Console.WriteLine(3.ToString(\"C\", uk)); // خروجی: £3.00\n",
    "\n",
    "DateTime now = DateTime.Now;\n",
    "\n",
    "string ukDateTime = now.ToString(\"f\", uk); // خروجی مانند: \"12 June 2024 10:33\"\n",
    "Console.WriteLine(ukDateTime);\n",
    "\n",
    "CultureInfo us = CultureInfo.GetCultureInfo(\"en-US\");\n",
    "\n",
    "Console.WriteLine(3.ToString(\"C\", us)); // خروجی: $3.00\n",
    "\n",
    "string usDateTime = now.ToString(\"f\", us); // خروجی مانند: \"June 12, 2024 10:33 AM\"\n",
    "Console.WriteLine(usDateTime);"
   ]
  },
  {
   "cell_type": "markdown",
   "metadata": {},
   "source": [
    "#### Using NumberFormatInfo or DateTimeFormatInfo"
   ]
  },
  {
   "cell_type": "code",
   "execution_count": null,
   "metadata": {
    "dotnet_interactive": {
     "language": "csharp"
    },
    "polyglot_notebook": {
     "kernelName": "csharp"
    },
    "vscode": {
     "languageId": "polyglot-notebook"
    }
   },
   "outputs": [],
   "source": [
    "NumberFormatInfo f = new NumberFormatInfo ();\n",
    "\n",
    "//change the group separator from a comma to a space\n",
    "f.NumberGroupSeparator = \" \";\n",
    "\n",
    "Console.WriteLine (12345.6789.ToString (\"N3\", f)); // 12 345.679\n",
    "\n",
    "/*\n",
    "The initial settings for a NumberFormatInfo or DateTimeFormatInfo are based on\n",
    "the invariant culture.\n",
    "*/"
   ]
  },
  {
   "cell_type": "markdown",
   "metadata": {},
   "source": [
    "#### Composite formatting"
   ]
  },
  {
   "cell_type": "markdown",
   "metadata": {},
   "source": [
    "***Composite format*** strings allow you to combine `variable substitution` with `format strings`."
   ]
  },
  {
   "cell_type": "code",
   "execution_count": null,
   "metadata": {
    "dotnet_interactive": {
     "language": "csharp"
    },
    "polyglot_notebook": {
     "kernelName": "csharp"
    },
    "vscode": {
     "languageId": "polyglot-notebook"
    }
   },
   "outputs": [],
   "source": [
    "string composite = \"Credit={0:C}\";\n",
    "Console.WriteLine (string.Format (composite, 500)); // Credit=$500.00"
   ]
  },
  {
   "cell_type": "markdown",
   "metadata": {},
   "source": [
    "The `Console` class itself **overloads** its `Write` and `WriteLine` methods to `accept composite format strings`"
   ]
  },
  {
   "cell_type": "code",
   "execution_count": null,
   "metadata": {
    "dotnet_interactive": {
     "language": "csharp"
    },
    "polyglot_notebook": {
     "kernelName": "csharp"
    },
    "vscode": {
     "languageId": "polyglot-notebook"
    }
   },
   "outputs": [],
   "source": [
    "Console.WriteLine (\"Credit={0:C}\", 500); // Credit=$500.00"
   ]
  },
  {
   "cell_type": "markdown",
   "metadata": {},
   "source": [
    "#### Parsing with format providers"
   ]
  },
  {
   "cell_type": "markdown",
   "metadata": {},
   "source": [
    "static `Parse` (and `TryParse`) method to accept a ***format provider*** and, optionally, a `NumberStyles` or `DateTimeStyles` enum."
   ]
  },
  {
   "cell_type": "code",
   "execution_count": 4,
   "metadata": {
    "dotnet_interactive": {
     "language": "csharp"
    },
    "polyglot_notebook": {
     "kernelName": "csharp"
    },
    "vscode": {
     "languageId": "polyglot-notebook"
    }
   },
   "outputs": [
    {
     "name": "stdout",
     "output_type": "stream",
     "text": [
      "-2\r\n"
     ]
    }
   ],
   "source": [
    "//int error = int.Parse (\"(2)\"); // Exception thrown\n",
    "\n",
    "int minusTwo = int.Parse (\"(2)\", NumberStyles.Integer |\n",
    "                                NumberStyles.AllowParentheses); // OK\n",
    "Console.WriteLine(minusTwo);\n",
    "\n",
    "decimal fivePointTwo = decimal.Parse (\"£5.20\", NumberStyles.Currency,\n",
    "                                       CultureInfo.GetCultureInfo (\"en-GB\"));"
   ]
  },
  {
   "cell_type": "markdown",
   "metadata": {},
   "source": [
    "#### IFormatProvider and ICustomFormatter"
   ]
  },
  {
   "cell_type": "code",
   "execution_count": null,
   "metadata": {
    "dotnet_interactive": {
     "language": "csharp"
    },
    "polyglot_notebook": {
     "kernelName": "csharp"
    },
    "vscode": {
     "languageId": "polyglot-notebook"
    }
   },
   "outputs": [],
   "source": [
    "//All format providers implement IFormatProvider:\n",
    "public interface IFormatProvider { object GetFormat (Type formatType); }"
   ]
  },
  {
   "cell_type": "code",
   "execution_count": 10,
   "metadata": {
    "dotnet_interactive": {
     "language": "csharp"
    },
    "polyglot_notebook": {
     "kernelName": "csharp"
    },
    "vscode": {
     "languageId": "polyglot-notebook"
    }
   },
   "outputs": [
    {
     "name": "stdout",
     "output_type": "stream",
     "text": [
      "ريال 1234\n",
      "1403/03/23\n"
     ]
    }
   ],
   "source": [
    "using System;\n",
    "using System.Globalization;\n",
    "\n",
    "public class CustomFormatter : IFormatProvider, ICustomFormatter\n",
    "{\n",
    "    public object GetFormat(Type formatType)\n",
    "    {\n",
    "        if (formatType == typeof(ICustomFormatter))\n",
    "            return this;\n",
    "        return null;\n",
    "    }\n",
    "\n",
    "    public string Format(string format, object arg, IFormatProvider formatProvider)\n",
    "    {\n",
    "        if (arg is IFormattable formattable)\n",
    "        {\n",
    "            // فرمت‌دهی سفارشی برای اعداد\n",
    "            if (arg is int || arg is decimal || arg is double || arg is float)\n",
    "            {\n",
    "                if (format == \"S\")\n",
    "                {\n",
    "                    return \"ريال \" + formattable.ToString(null, CultureInfo.InvariantCulture);\n",
    "                }\n",
    "            }\n",
    "\n",
    "            // فرمت‌دهی سفارشی برای تاریخ\n",
    "            if (arg is DateTime)\n",
    "            {\n",
    "                if (format == \"D\")\n",
    "                {\n",
    "                    PersianCalendar persianCalendar = new PersianCalendar();\n",
    "                    var date = (DateTime)arg;\n",
    "\n",
    "                    int persianYear = persianCalendar.GetYear(date);\n",
    "                    int persianMonth = persianCalendar.GetMonth(date);\n",
    "                    int persianDay = persianCalendar.GetDayOfMonth(date);\n",
    "\n",
    "                    return string.Format(\"{0}/{1}/{2}\", persianYear, persianMonth.ToString(\"00\"), persianDay.ToString(\"00\"));\n",
    "                }\n",
    "            }\n",
    "        }\n",
    "\n",
    "        // فرمت‌دهی پیش‌فرض\n",
    "        return arg.ToString();\n",
    "    }\n",
    "}\n",
    "\n",
    "\n",
    "    int value = 1234;\n",
    "    DateTime date = DateTime.Now;\n",
    "\n",
    "    CustomFormatter customFormatter = new CustomFormatter();\n",
    "\n",
    "    string formattedValue = string.Format(customFormatter, \"{0:S}\", value);\n",
    "    Console.WriteLine(formattedValue);\n",
    "\n",
    "    string formattedDate = string.Format(customFormatter, \"{0:D}\", date);\n",
    "    Console.WriteLine(formattedDate);\n",
    "    \n"
   ]
  }
 ],
 "metadata": {
  "kernelspec": {
   "display_name": ".NET (C#)",
   "language": "C#",
   "name": ".net-csharp"
  },
  "language_info": {
   "name": "python"
  },
  "polyglot_notebook": {
   "kernelInfo": {
    "defaultKernelName": "csharp",
    "items": [
     {
      "aliases": [],
      "name": "csharp"
     }
    ]
   }
  }
 },
 "nbformat": 4,
 "nbformat_minor": 2
}
