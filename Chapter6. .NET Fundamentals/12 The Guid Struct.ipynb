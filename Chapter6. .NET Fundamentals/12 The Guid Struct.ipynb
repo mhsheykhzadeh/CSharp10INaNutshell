{
 "cells": [
  {
   "cell_type": "markdown",
   "metadata": {},
   "source": [
    "The `Guid` struct represents a globally unique identifier: a `16-byte` value that, when generated, is almost certainly unique in the world.  \n",
    "There are `2^128` or `3.4 × 10^38` unique Guids."
   ]
  },
  {
   "cell_type": "code",
   "execution_count": 1,
   "metadata": {
    "dotnet_interactive": {
     "language": "csharp"
    },
    "polyglot_notebook": {
     "kernelName": "csharp"
    },
    "vscode": {
     "languageId": "polyglot-notebook"
    }
   },
   "outputs": [
    {
     "name": "stdout",
     "output_type": "stream",
     "text": [
      "bb8f8daf-c309-40ff-81a6-481dccc3ae55\r\n"
     ]
    }
   ],
   "source": [
    "Guid g = Guid.NewGuid ();\n",
    "Console.WriteLine (g.ToString()); "
   ]
  },
  {
   "cell_type": "markdown",
   "metadata": {},
   "source": [
    "When represented as a string, a Guid is formatted as a `32-digit hexadecimal number`,\n",
    "with optional ***hyphens*** after the `8th`, `12th`, `16th`, and `20th` digits. The whole string can also be optionally wrapped in brackets or braces"
   ]
  },
  {
   "cell_type": "code",
   "execution_count": null,
   "metadata": {
    "dotnet_interactive": {
     "language": "csharp"
    },
    "polyglot_notebook": {
     "kernelName": "csharp"
    },
    "vscode": {
     "languageId": "polyglot-notebook"
    }
   },
   "outputs": [],
   "source": [
    "Guid g1 = new Guid (\"{0d57629c-7d6e-4847-97cb-9e2fc25083fe}\");\n",
    "Guid g2 = new Guid (\"0d57629c7d6e484797cb9e2fc25083fe\");\n",
    "Console.WriteLine (g1 == g2); // True"
   ]
  },
  {
   "cell_type": "markdown",
   "metadata": {},
   "source": [
    "The static `Guid.Empty` property returns an empty Guid (`all zeros`). This is often used in place of `null`."
   ]
  }
 ],
 "metadata": {
  "kernelspec": {
   "display_name": ".NET (C#)",
   "language": "C#",
   "name": ".net-csharp"
  },
  "language_info": {
   "name": "python"
  },
  "polyglot_notebook": {
   "kernelInfo": {
    "defaultKernelName": "csharp",
    "items": [
     {
      "aliases": [],
      "name": "csharp"
     }
    ]
   }
  }
 },
 "nbformat": 4,
 "nbformat_minor": 2
}
