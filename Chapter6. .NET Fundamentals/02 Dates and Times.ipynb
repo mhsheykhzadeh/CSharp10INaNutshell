{
 "cells": [
  {
   "cell_type": "markdown",
   "metadata": {},
   "source": [
    "The following ***immutable structs*** in the `System` namespace do the job of representing dates and times:  \n",
    "`DateTime`, `DateTimeOffset`, `TimeSpan`, `DateOnly`, and `TimeOnly`.   \n",
    "   \n",
    "C# ***doesn’t define*** `any special keywords` that map to these types."
   ]
  },
  {
   "cell_type": "markdown",
   "metadata": {},
   "source": [
    "### TimeSpan"
   ]
  },
  {
   "cell_type": "markdown",
   "metadata": {},
   "source": [
    "A ***TimeSpan*** represents an `interval of time`—or a `time of the day`.  \n",
    "A TimeSpan has a ***resolution*** of `100 ns`, has a ***maximum*** value of about `10 million days`, and can be `positive` or `negative`."
   ]
  },
  {
   "cell_type": "markdown",
   "metadata": {},
   "source": [
    "There are three ways to construct a `TimeSpan`:\n",
    "- Through one of the `constructors`\n",
    "- By calling one of the static `From`… methods\n",
    "- By `subtracting` one DateTime from another"
   ]
  },
  {
   "cell_type": "code",
   "execution_count": null,
   "metadata": {
    "dotnet_interactive": {
     "language": "csharp"
    },
    "polyglot_notebook": {
     "kernelName": "csharp"
    },
    "vscode": {
     "languageId": "polyglot-notebook"
    }
   },
   "outputs": [],
   "source": [
    "//Here are the constructors:\n",
    "public TimeSpan (int hours, int minutes, int seconds);\n",
    "public TimeSpan (int days, int hours, int minutes, int seconds);\n",
    "public TimeSpan (int days, int hours, int minutes, int seconds, int milliseconds);\n",
    "public TimeSpan (long ticks); // Each tick = 100ns"
   ]
  },
  {
   "cell_type": "code",
   "execution_count": null,
   "metadata": {
    "dotnet_interactive": {
     "language": "csharp"
    },
    "polyglot_notebook": {
     "kernelName": "csharp"
    },
    "vscode": {
     "languageId": "polyglot-notebook"
    }
   },
   "outputs": [],
   "source": [
    "//The static From… methods\n",
    "public static TimeSpan FromDays (double value);\n",
    "public static TimeSpan FromHours (double value);\n",
    "public static TimeSpan FromMinutes (double value);\n",
    "public static TimeSpan FromSeconds (double value);\n",
    "public static TimeSpan FromMilliseconds (double value);"
   ]
  },
  {
   "cell_type": "code",
   "execution_count": 1,
   "metadata": {
    "dotnet_interactive": {
     "language": "csharp"
    },
    "polyglot_notebook": {
     "kernelName": "csharp"
    },
    "vscode": {
     "languageId": "polyglot-notebook"
    }
   },
   "outputs": [
    {
     "name": "stdout",
     "output_type": "stream",
     "text": [
      "02:30:00\n",
      "02:30:00\n",
      "-02:30:00\n"
     ]
    }
   ],
   "source": [
    "Console.WriteLine (new TimeSpan (2, 30, 0)); // 02:30:00\n",
    "Console.WriteLine (TimeSpan.FromHours (2.5)); // 02:30:00\n",
    "Console.WriteLine (TimeSpan.FromHours (-2.5)); // -02:30:00"
   ]
  },
  {
   "cell_type": "markdown",
   "metadata": {},
   "source": [
    "***TimeSpan*** overloads the `<` and `>` operators as well as the `+` and `-` operators."
   ]
  },
  {
   "cell_type": "code",
   "execution_count": null,
   "metadata": {
    "dotnet_interactive": {
     "language": "csharp"
    },
    "polyglot_notebook": {
     "kernelName": "csharp"
    },
    "vscode": {
     "languageId": "polyglot-notebook"
    }
   },
   "outputs": [],
   "source": [
    "//following expression evaluates to a TimeSpan of 2.5 hours:\n",
    "\n",
    "Console.Write(TimeSpan.FromHours(2) + TimeSpan.FromMinutes(30));"
   ]
  },
  {
   "cell_type": "code",
   "execution_count": 2,
   "metadata": {
    "dotnet_interactive": {
     "language": "csharp"
    },
    "polyglot_notebook": {
     "kernelName": "csharp"
    },
    "vscode": {
     "languageId": "polyglot-notebook"
    }
   },
   "outputs": [
    {
     "name": "stdout",
     "output_type": "stream",
     "text": [
      "9.23:59:59"
     ]
    }
   ],
   "source": [
    "//The next expression evaluates to one second short of 10 days:\n",
    "Console.Write(TimeSpan.FromDays(10) - TimeSpan.FromSeconds(1)); // 9.23:59:59"
   ]
  },
  {
   "cell_type": "code",
   "execution_count": null,
   "metadata": {
    "dotnet_interactive": {
     "language": "csharp"
    },
    "polyglot_notebook": {
     "kernelName": "csharp"
    },
    "vscode": {
     "languageId": "polyglot-notebook"
    }
   },
   "outputs": [],
   "source": [
    "TimeSpan nearlyTenDays = TimeSpan.FromDays(10) - TimeSpan.FromSeconds(1);\n",
    "Console.WriteLine (nearlyTenDays.Days); // 9\n",
    "Console.WriteLine (nearlyTenDays.Hours); // 23\n",
    "Console.WriteLine (nearlyTenDays.Minutes); // 59\n",
    "Console.WriteLine (nearlyTenDays.Seconds); // 59\n",
    "Console.WriteLine (nearlyTenDays.Milliseconds); // 0"
   ]
  },
  {
   "cell_type": "code",
   "execution_count": null,
   "metadata": {
    "dotnet_interactive": {
     "language": "csharp"
    },
    "polyglot_notebook": {
     "kernelName": "csharp"
    },
    "vscode": {
     "languageId": "polyglot-notebook"
    }
   },
   "outputs": [],
   "source": [
    "//Total... properties return values of type double describing the entire time span\n",
    "TimeSpan nearlyTenDays = TimeSpan.FromDays(10) - TimeSpan.FromSeconds(1);\n",
    "Console.WriteLine (nearlyTenDays.TotalDays); // 9.99998842592593\n",
    "Console.WriteLine (nearlyTenDays.TotalHours); // 239.999722222222\n",
    "Console.WriteLine (nearlyTenDays.TotalMinutes); // 14399.9833333333\n",
    "Console.WriteLine (nearlyTenDays.TotalSeconds); // 863999\n",
    "Console.WriteLine (nearlyTenDays.TotalMilliseconds); // 863999000"
   ]
  },
  {
   "cell_type": "markdown",
   "metadata": {},
   "source": [
    "The static `Parse` method does the ***opposite*** of `ToString`, converting a `string` to a `TimeSpan`.  \n",
    "  \n",
    "`TryParse` does the same but returns `false` rather than ***throwing an exception*** if the `conversion fails`."
   ]
  },
  {
   "cell_type": "markdown",
   "metadata": {
    "vscode": {
     "languageId": "polyglot-notebook"
    }
   },
   "source": [
    "The ***default value*** for a `TimeSpan` is `TimeSpan.Zero`"
   ]
  },
  {
   "cell_type": "markdown",
   "metadata": {},
   "source": [
    "<div dir=\"rtl\" style=\"width:90%; margin:auto\">\n",
    "<p><strong>Time of the Day (زمانی از روز):</strong>\n",
    "همچنین می‌توانید از <code>TimeSpan</code> برای نمایش یک زمان مشخص در طول یک روز استفاده کنید. به عنوان مثال، ساعت 3:15 بعد از ظهر را می‌توان با یک <code>TimeSpan</code> نشان داد.</p>\n",
    "</div>"
   ]
  },
  {
   "cell_type": "code",
   "execution_count": null,
   "metadata": {
    "dotnet_interactive": {
     "language": "csharp"
    },
    "polyglot_notebook": {
     "kernelName": "csharp"
    },
    "vscode": {
     "languageId": "polyglot-notebook"
    }
   },
   "outputs": [],
   "source": [
    "TimeSpan timeOfDay = new TimeSpan(15, 15, 0); // 3:15 PM"
   ]
  },
  {
   "cell_type": "markdown",
   "metadata": {},
   "source": [
    "### DateTime and DateTimeOffset"
   ]
  },
  {
   "cell_type": "markdown",
   "metadata": {},
   "source": [
    "`DateTime` and `DateTimeOffset` are ***immutable structs*** for representing a date and, optionally, a time.   \n",
    "  \n",
    "They have a ***resolution*** of `100 ns` and a range covering the years `0001` through `9999`."
   ]
  },
  {
   "cell_type": "markdown",
   "metadata": {},
   "source": [
    "`DateTimeOffset` is ***functionally*** `similar to DateTime`. Its distinguishing feature is that it also stores a `Coordinated Universal Time (UTC) offset`;"
   ]
  },
  {
   "cell_type": "markdown",
   "metadata": {},
   "source": [
    "<div dir=\"rtl\" style=\"width:90%; margin:auto\">\n",
    "\n",
    "<p> <code>DateTimeOffset</code> علاوه بر ذخیره‌سازی تاریخ و زمان، اطلاعات مربوط به تفاوت زمانی نسبت به زمان هماهنگ جهانی (UTC) را نیز ذخیره می‌کند. این ویژگی امکان مقایسه معنادارتر تاریخ‌ها و زمان‌ها را در مناطق زمانی مختلف فراهم می‌کند.</p>\n",
    "</div>"
   ]
  },
  {
   "cell_type": "code",
   "execution_count": null,
   "metadata": {
    "dotnet_interactive": {
     "language": "csharp"
    },
    "polyglot_notebook": {
     "kernelName": "csharp"
    },
    "vscode": {
     "languageId": "polyglot-notebook"
    }
   },
   "outputs": [],
   "source": [
    "DateTimeOffset timeInNewYork = new DateTimeOffset(2023, 6, 6, 9, 0, 0, TimeSpan.FromHours(-4)); \n",
    "// 6th June 2023, 9:00 AM in New York (UTC-4)\n",
    "\n",
    "DateTimeOffset timeInLondon = new DateTimeOffset(2023, 6, 6, 14, 0, 0, TimeSpan.FromHours(1)); \n",
    "// 6th June 2023, 2:00 PM in London (UTC+1)\n",
    "\n",
    "bool areEqual = timeInNewYork.ToUniversalTime() == timeInLondon.ToUniversalTime(); \n",
    "// True\n"
   ]
  },
  {
   "cell_type": "markdown",
   "metadata": {},
   "source": [
    "#### Choosing between DateTime and DateTimeOffset"
   ]
  },
  {
   "cell_type": "markdown",
   "metadata": {},
   "source": [
    "<div dir=\"rtl\" style=\"width:90%; margin:auto\">\n",
    "<p>ساختار <code>DateTime</code> می‌تواند تاریخ و زمان را به سه حالت مختلف نگه‌داری کند:</p>\n",
    "\n",
    "<ol>\n",
    "<li><strong>زمان محلی (Local Time):</strong> زمانی که نسبت به منطقه زمانی محلی کامپیوتر جاری است.</li>\n",
    "<li><strong>زمان هماهنگ جهانی (UTC):</strong> زمانی که نسبت به زمان جهانی هماهنگ (UTC) است.</li>\n",
    "<li><strong>نامشخص (Unspecified):</strong> زمانی که مشخص نیست به کدام منطقه زمانی مربوط می‌شود.</li>\n",
    "</ol>\n",
    "<p>این حالت‌ها با استفاده از یک پرچم سه‌حالتی در داخل <code>DateTime</code> مشخص می‌شوند.</p>\n",
    "\n",
    "<p>در مقایسه‌های <code>DateTime</code>، پرچم سه‌حالتی نادیده گرفته می‌شود. دو مقدار <code>DateTime</code> برابر در نظر گرفته می‌شوند اگر سال، ماه، روز، ساعت، دقیقه و ثانیه آن‌ها برابر باشد، بدون در نظر گرفتن منطقه زمانی.</p>\n",
    "</div>"
   ]
  },
  {
   "cell_type": "code",
   "execution_count": null,
   "metadata": {
    "dotnet_interactive": {
     "language": "csharp"
    },
    "polyglot_notebook": {
     "kernelName": "csharp"
    },
    "vscode": {
     "languageId": "polyglot-notebook"
    }
   },
   "outputs": [],
   "source": [
    "DateTime dt1 = new DateTime(2019, 7, 1, 3, 0, 0, DateTimeKind.Local);\n",
    "DateTime dt2 = new DateTime(2019, 7, 1, 3, 0, 0, DateTimeKind.Utc);\n",
    "\n",
    "bool areEqual = dt1 == dt2; // True, because the flag is ignored\n",
    "\n",
    "DateTimeOffset dto1 = new DateTimeOffset(2019, 7, 1, 3, 0, 0, TimeSpan.FromHours(-6));\n",
    "DateTimeOffset dto2 = new DateTimeOffset(2019, 7, 1, 9, 0, 0, TimeSpan.FromHours(0));\n",
    "\n",
    "bool areEqual1 = dto1 == dto2; // True, because they refer to the same point in time (UTC 9:00 AM)\n",
    "\n"
   ]
  },
  {
   "cell_type": "markdown",
   "metadata": {},
   "source": [
    "### Constructing a DateTime"
   ]
  },
  {
   "cell_type": "code",
   "execution_count": null,
   "metadata": {
    "dotnet_interactive": {
     "language": "csharp"
    },
    "polyglot_notebook": {
     "kernelName": "csharp"
    },
    "vscode": {
     "languageId": "polyglot-notebook"
    }
   },
   "outputs": [],
   "source": [
    "public DateTime (int year, int month, int day);\n",
    "public DateTime (int year, int month, int day,\n",
    "                 int hour, int minute, int second, int millisecond);"
   ]
  },
  {
   "cell_type": "markdown",
   "metadata": {},
   "source": [
    "If you ***specify only a date***, the `time` is implicitly `set to midnight (0:00)`."
   ]
  },
  {
   "cell_type": "markdown",
   "metadata": {},
   "source": [
    "The ***DateTime constructors*** also allow you to specify a `DateTimeKind` an **enum** with the following values:  \n",
    "`Unspecified`, `Local`, `Utc`"
   ]
  },
  {
   "cell_type": "markdown",
   "metadata": {},
   "source": [
    "<div dir=\"rtl\" style=\"width:90%; margin:auto\">\n",
    "<p>در حالی که <code>DateTime</code> به طور پیش‌فرض تنها زمان و تاریخ را ذخیره می‌کند، اضافه کردن <code>DateTimeKind</code> می‌تواند به شما کمک کند تا بدانید چگونه باید این زمان را تفسیر کنید. این برای تبدیل بین زمان‌های محلی و UTC، یا برای نمایش زمان به کاربر نهایی مفید است.</p>\n",
    "\n",
    "<p><strong>تبدیل به زمان UTC:</strong>\n",
    "اگر شما یک زمان محلی دارید و می‌خواهید آن را به زمان UTC تبدیل کنید، <code>DateTimeKind</code> به شما کمک می‌کند تا این کار را به درستی انجام دهید.</p>\n",
    "</div>"
   ]
  },
  {
   "cell_type": "code",
   "execution_count": null,
   "metadata": {
    "dotnet_interactive": {
     "language": "csharp"
    },
    "polyglot_notebook": {
     "kernelName": "csharp"
    },
    "vscode": {
     "languageId": "polyglot-notebook"
    }
   },
   "outputs": [],
   "source": [
    "DateTime localTime = new DateTime(2023, 6, 6, 14, 30, 0, DateTimeKind.Utc);\n",
    "DateTime utcTime = localTime.ToUniversalTime();\n"
   ]
  },
  {
   "cell_type": "markdown",
   "metadata": {},
   "source": [
    "<div dir=\"rtl\" style=\"width:90%; margin:auto\">\n",
    "<p> سازنده‌های <code>DateTime</code> در C# می‌توانند یک شیء <code>Calendar</code> را نیز به عنوان پارامتر بپذیرند. این امکان به شما اجازه می‌دهد تا تاریخ را با استفاده از هر یک از زیرکلاس‌های <code>Calendar</code> تعریف‌شده در <code>System.Globalization</code> مشخص کنید. به این ترتیب، می‌توانید از تقویم‌های مختلف مانند تقویم عبری، تقویم اسلامی، و غیره استفاده کنید.</p>\n",
    "\n",
    "</div>"
   ]
  },
  {
   "cell_type": "code",
   "execution_count": 2,
   "metadata": {
    "dotnet_interactive": {
     "language": "csharp"
    },
    "polyglot_notebook": {
     "kernelName": "csharp"
    },
    "vscode": {
     "languageId": "polyglot-notebook"
    }
   },
   "outputs": [
    {
     "name": "stdout",
     "output_type": "stream",
     "text": [
      "6/13/2024 12:00:00 AM\r\n"
     ]
    }
   ],
   "source": [
    "DateTime d = new DateTime(1403, 3, 24, new System.Globalization.PersianCalendar());\n",
    "Console.WriteLine(d); // 12/12/2006 12:00:00 AM\n"
   ]
  },
  {
   "cell_type": "markdown",
   "metadata": {},
   "source": [
    "<div dir=\"rtl\" style=\"width:90%; margin:auto\">\n",
    "<p><strong>محاسبات با استفاده از تقویم‌های مختلف:</strong>\n",
    "اگر می‌خواهید محاسباتی را بر اساس تقویم‌های مختلف انجام دهید (مثلاً اضافه کردن روزها، ماه‌ها یا سال‌ها)، باید از متدهای موجود در زیرکلاس‌های <code>Calendar</code> استفاده کنید. <code>DateTime</code> به تنهایی این محاسبات را انجام نمی‌دهد.</p>\n",
    "\n",
    "</div>"
   ]
  },
  {
   "cell_type": "code",
   "execution_count": 6,
   "metadata": {
    "dotnet_interactive": {
     "language": "csharp"
    },
    "polyglot_notebook": {
     "kernelName": "csharp"
    },
    "vscode": {
     "languageId": "polyglot-notebook"
    }
   },
   "outputs": [
    {
     "name": "stdout",
     "output_type": "stream",
     "text": [
      "6/7/2026 12:00:00 AM"
     ]
    }
   ],
   "source": [
    "var persianCalendar = new System.Globalization.PersianCalendar();\n",
    "DateTime d = new DateTime(1403, 3, 17,persianCalendar);\n",
    "\n",
    "var newDate = persianCalendar.AddYears(d,2);\n",
    "\n",
    "Console.Write(newDate);"
   ]
  },
  {
   "cell_type": "markdown",
   "metadata": {},
   "source": [
    "### Constructing a DateTimeOffset"
   ]
  },
  {
   "cell_type": "code",
   "execution_count": null,
   "metadata": {
    "dotnet_interactive": {
     "language": "csharp"
    },
    "polyglot_notebook": {
     "kernelName": "csharp"
    },
    "vscode": {
     "languageId": "polyglot-notebook"
    }
   },
   "outputs": [],
   "source": [
    "public DateTimeOffset (int year, int month, int day,\n",
    "                        int hour, int minute, int second,\n",
    "                        TimeSpan offset);\n",
    "public DateTimeOffset (int year, int month, int day,\n",
    "                        int hour, int minute, int second, int millisecond,\n",
    "                        TimeSpan offset);\n",
    "\n",
    "//TimeSpan باید قابل قسمت به دقیقه باشد وگره خطا اتفاق می  افتد\n",
    "/*new TimeSpan(3, 15, 30)\n",
    " معادل 3 ساعت و 15 دقیقه و 30 ثانیه است. \n",
    " از آنجایی که 30 ثانیه شامل کسری از دقیقه است،\n",
    "  این مقدار معتبر نیست و منجر به تولید یک استثناء خواهد شد.*/\n"
   ]
  },
  {
   "cell_type": "code",
   "execution_count": null,
   "metadata": {
    "dotnet_interactive": {
     "language": "csharp"
    },
    "polyglot_notebook": {
     "kernelName": "csharp"
    },
    "vscode": {
     "languageId": "polyglot-notebook"
    }
   },
   "outputs": [],
   "source": [
    "//You can construct a DateTimeOffset from an existing DateTime\n",
    " \n",
    "var d = new DateTimeOffset(2024,6,13,09,16,00,TimeSpan.FromHours(3.5));\n",
    "\n",
    "public DateTimeOffset (DateTime dateTime);\n",
    "public DateTimeOffset (DateTime dateTime, TimeSpan offset);\n",
    "\n",
    "//or with an implicit cast:\n",
    "DateTimeOffset dt = new DateTime (2000, 2, 3);"
   ]
  },
  {
   "cell_type": "markdown",
   "metadata": {},
   "source": [
    "### The current DateTime/DateTimeOffset"
   ]
  },
  {
   "cell_type": "code",
   "execution_count": 7,
   "metadata": {
    "dotnet_interactive": {
     "language": "csharp"
    },
    "polyglot_notebook": {
     "kernelName": "csharp"
    },
    "vscode": {
     "languageId": "polyglot-notebook"
    }
   },
   "outputs": [
    {
     "name": "stdout",
     "output_type": "stream",
     "text": [
      "6/6/2024 6:16:54 AM\n",
      "6/6/2024 6:16:54 AM +03:30\n"
     ]
    }
   ],
   "source": [
    "Console.WriteLine (DateTime.Now); \n",
    "Console.WriteLine (DateTimeOffset.Now); "
   ]
  },
  {
   "cell_type": "code",
   "execution_count": 8,
   "metadata": {
    "dotnet_interactive": {
     "language": "csharp"
    },
    "polyglot_notebook": {
     "kernelName": "csharp"
    },
    "vscode": {
     "languageId": "polyglot-notebook"
    }
   },
   "outputs": [
    {
     "name": "stdout",
     "output_type": "stream",
     "text": [
      "6/6/2024 12:00:00 AM\r\n"
     ]
    }
   ],
   "source": [
    "Console.WriteLine (DateTime.Today);"
   ]
  },
  {
   "cell_type": "code",
   "execution_count": 3,
   "metadata": {
    "dotnet_interactive": {
     "language": "csharp"
    },
    "polyglot_notebook": {
     "kernelName": "csharp"
    },
    "vscode": {
     "languageId": "polyglot-notebook"
    }
   },
   "outputs": [
    {
     "name": "stdout",
     "output_type": "stream",
     "text": [
      "6/13/2024 5:49:53 AM\n",
      "6/13/2024 5:49:53 AM +00:00\n"
     ]
    }
   ],
   "source": [
    "//The static UtcNow property returns the current date and time in UTC:\n",
    "Console.WriteLine (DateTime.UtcNow); \n",
    "Console.WriteLine (DateTimeOffset.UtcNow); "
   ]
  },
  {
   "cell_type": "markdown",
   "metadata": {},
   "source": [
    "#### Working with dates and times"
   ]
  },
  {
   "cell_type": "code",
   "execution_count": 10,
   "metadata": {
    "dotnet_interactive": {
     "language": "csharp"
    },
    "polyglot_notebook": {
     "kernelName": "csharp"
    },
    "vscode": {
     "languageId": "polyglot-notebook"
    }
   },
   "outputs": [
    {
     "name": "stdout",
     "output_type": "stream",
     "text": [
      "2000\n",
      "2\n",
      "3\n",
      "Thursday\n",
      "34\n",
      "10\n",
      "20\n",
      "30\n",
      "0\n",
      "630851700300000000\n",
      "10:20:30\n"
     ]
    }
   ],
   "source": [
    "//DateTime and DateTimeOffset provide a similar set of instance properties that\n",
    "//return various date/time elements:\n",
    "DateTime dt = new DateTime (2000, 2, 3,\n",
    "                            10, 20, 30);\n",
    "Console.WriteLine (dt.Year); \n",
    "Console.WriteLine (dt.Month); \n",
    "Console.WriteLine (dt.Day); \n",
    "Console.WriteLine (dt.DayOfWeek); \n",
    "Console.WriteLine (dt.DayOfYear);\n",
    "Console.WriteLine (dt.Hour); \n",
    "Console.WriteLine (dt.Minute); \n",
    "Console.WriteLine (dt.Second); \n",
    "Console.WriteLine (dt.Millisecond); \n",
    "Console.WriteLine (dt.Ticks); \n",
    "Console.WriteLine (dt.TimeOfDay); //(returns a TimeSpan)"
   ]
  },
  {
   "cell_type": "markdown",
   "metadata": {},
   "source": [
    "Both types provide the following instance methods to perform computations  \n",
    "`AddYears` `AddMonths` `AddDays`  \n",
    "`AddHours` `AddMinutes` `AddSeconds` `AddMilliseconds` `AddTicks`"
   ]
  },
  {
   "cell_type": "markdown",
   "metadata": {},
   "source": [
    "The `Add` method ***adds a TimeSpan*** to a DateTime or DateTimeOffset. The `+operator` is overloaded to do the` same job`"
   ]
  },
  {
   "cell_type": "code",
   "execution_count": 4,
   "metadata": {
    "dotnet_interactive": {
     "language": "csharp"
    },
    "polyglot_notebook": {
     "kernelName": "csharp"
    },
    "vscode": {
     "languageId": "polyglot-notebook"
    }
   },
   "outputs": [
    {
     "name": "stdout",
     "output_type": "stream",
     "text": [
      "2/3/2000 11:50:30 AM\n",
      "2/3/2000 11:50:30 AM\n"
     ]
    }
   ],
   "source": [
    "DateTime dt = new DateTime (2000, 2, 3, 10, 20, 30);\n",
    "\n",
    "TimeSpan ts = TimeSpan.FromMinutes (90);\n",
    "Console.WriteLine (dt.Add (ts));\n",
    "Console.WriteLine (dt + ts);"
   ]
  },
  {
   "cell_type": "code",
   "execution_count": null,
   "metadata": {
    "dotnet_interactive": {
     "language": "csharp"
    },
    "polyglot_notebook": {
     "kernelName": "csharp"
    },
    "vscode": {
     "languageId": "polyglot-notebook"
    }
   },
   "outputs": [],
   "source": [
    "DateTime thisYear = new DateTime (2015, 1, 1);\n",
    "DateTime nextYear = thisYear.AddYears (1);\n",
    "TimeSpan oneYear = nextYear - thisYear;"
   ]
  },
  {
   "cell_type": "markdown",
   "metadata": {},
   "source": [
    "### Formatting and parsing DateTimes"
   ]
  },
  {
   "cell_type": "markdown",
   "metadata": {},
   "source": [
    "Calling `ToString` on a DateTime formats the result as a `short date` (all numbers)\n",
    "followed by a `long time` (including seconds). For example"
   ]
  },
  {
   "cell_type": "code",
   "execution_count": 5,
   "metadata": {
    "dotnet_interactive": {
     "language": "csharp"
    },
    "polyglot_notebook": {
     "kernelName": "csharp"
    },
    "vscode": {
     "languageId": "polyglot-notebook"
    }
   },
   "outputs": [
    {
     "name": "stdout",
     "output_type": "stream",
     "text": [
      "2/3/2000 10:20:30 AM"
     ]
    }
   ],
   "source": [
    "DateTime dt = new DateTime (2000, 2, 3, 10, 20, 30);\n",
    "Console.Write(dt.ToString())"
   ]
  },
  {
   "cell_type": "markdown",
   "metadata": {},
   "source": [
    "we can use `ToShortDateString`, `ToLongDateString`, `ToShortTimeString`, `ToLongTimeString`"
   ]
  },
  {
   "cell_type": "markdown",
   "metadata": {},
   "source": [
    "#### Null DateTime and DateTimeOffset values  \n",
    "Because ***DateTime*** and ***DateTimeOffset*** are `structs`, they `are not intrinsically nullable`.  \n",
    "When you need `nullability`, there are two ways around this:\n",
    "- Use a Nullable type (i.e., `DateTime?` or `DateTimeOffset?`).\n",
    "- Use the static field `DateTime.MinValue` or `DateTimeOffset.MinValue` (the\n",
    "default values for these types)."
   ]
  }
 ],
 "metadata": {
  "kernelspec": {
   "display_name": ".NET (C#)",
   "language": "C#",
   "name": ".net-csharp"
  },
  "language_info": {
   "name": "python"
  },
  "polyglot_notebook": {
   "kernelInfo": {
    "defaultKernelName": "csharp",
    "items": [
     {
      "aliases": [],
      "name": "csharp"
     }
    ]
   }
  }
 },
 "nbformat": 4,
 "nbformat_minor": 2
}
