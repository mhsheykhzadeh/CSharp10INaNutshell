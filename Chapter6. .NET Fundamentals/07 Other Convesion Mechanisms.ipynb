{
 "cells": [
  {
   "cell_type": "markdown",
   "metadata": {},
   "source": [
    "### Convert"
   ]
  },
  {
   "cell_type": "markdown",
   "metadata": {},
   "source": [
    "The ***static*** `Convert` class defines methods for **converting** `every base type` to `every other base type`."
   ]
  },
  {
   "cell_type": "markdown",
   "metadata": {},
   "source": [
    "#### Rounding real to integral conversions"
   ]
  },
  {
   "cell_type": "markdown",
   "metadata": {},
   "source": [
    "we have two way for cast between numeric types   \n",
    "- `Implicit` casts work for `nonlossy` conversions (e.g., int to double).\n",
    "- `Explicit` casts are required for `lossy` conversions (e.g., double to int)."
   ]
  },
  {
   "cell_type": "markdown",
   "metadata": {},
   "source": [
    "`Casts` are optimized for `efficiency`; hence, they `truncate` data that `won’t fit`.  \n",
    "  \n",
    "This can be a `problem` when converting from a `real number` to an `integer`, because often you want to `round` **rather** than `truncate`."
   ]
  },
  {
   "cell_type": "code",
   "execution_count": null,
   "metadata": {
    "dotnet_interactive": {
     "language": "csharp"
    },
    "polyglot_notebook": {
     "kernelName": "csharp"
    },
    "vscode": {
     "languageId": "polyglot-notebook"
    }
   },
   "outputs": [],
   "source": [
    "double d = 3.9;\n",
    "int ii = (int)d; //3 \n",
    "int i = Convert.ToInt32(d); // i == 4"
   ]
  },
  {
   "cell_type": "markdown",
   "metadata": {},
   "source": [
    "<div dir=\"rtl\" style=\"margin:auto; width:90%; font-family:vazirmatn\">\n",
    "<p><strong>گرد کردن بانکی (Banker's Rounding):</strong></p>\n",
    "<ul><li>کلاس <code>Convert</code> از روش گرد کردن بانکی استفاده می‌کند که در این روش مقادیر میانی (مثلاً 0.5) به نزدیک‌ترین عدد صحیح زوج گرد می‌شوند. این کار برای جلوگیری از سوگیری مثبت یا منفی است.</li><li>اگر این نوع گرد کردن مشکل‌ساز باشد، می‌توان ابتدا از متد <code>Math.Round</code> برای گرد کردن عدد استفاده کرد و سپس آن را تبدیل کرد.</li></ul>\n",
    "</div>"
   ]
  },
  {
   "cell_type": "markdown",
   "metadata": {},
   "source": [
    "#### Parsing numbers in base 2, 8, and 16"
   ]
  },
  {
   "cell_type": "code",
   "execution_count": 1,
   "metadata": {
    "dotnet_interactive": {
     "language": "csharp"
    },
    "polyglot_notebook": {
     "kernelName": "csharp"
    },
    "vscode": {
     "languageId": "polyglot-notebook"
    }
   },
   "outputs": [
    {
     "name": "stdout",
     "output_type": "stream",
     "text": [
      "30\n",
      "5\n"
     ]
    }
   ],
   "source": [
    "//Hidden among the To(integral-type) methods are overloads that parse numbers\n",
    "//in another base:\n",
    "Console.WriteLine(Convert.ToInt32 (\"1E\", 16)); // Parse in hexadecimal\n",
    "Console.WriteLine(Convert.ToUInt32 (\"101\", 2)); // Parse in binary"
   ]
  },
  {
   "cell_type": "markdown",
   "metadata": {},
   "source": [
    "#### Dynamic conversions"
   ]
  },
  {
   "cell_type": "markdown",
   "metadata": {},
   "source": [
    "<div dir=\"rtl\" style=\"margin:auto; width:90%; font-family:vazirmatn\">\n",
    "\n",
    "<p>گاهی اوقات نیاز است که نوع داده‌ای را به نوع دیگری تبدیل کنید، اما تا زمان اجرا (runtime) نمی‌دانید که این نوع‌ها چه خواهند بود. برای این منظور، کلاس <code>Convert</code> یک متد به نام <code>ChangeType</code> فراهم می‌کند.</p>\n",
    "</div>"
   ]
  },
  {
   "cell_type": "code",
   "execution_count": null,
   "metadata": {
    "dotnet_interactive": {
     "language": "csharp"
    },
    "polyglot_notebook": {
     "kernelName": "csharp"
    },
    "vscode": {
     "languageId": "polyglot-notebook"
    }
   },
   "outputs": [],
   "source": [
    "public static object ChangeType (object value, Type conversionType);"
   ]
  },
  {
   "cell_type": "markdown",
   "metadata": {},
   "source": [
    "<div dir=\"rtl\" style=\"margin:auto; width:90%; font-family:vazirmatn\">\n",
    "<ul><li>نوع منبع (<code>source</code>) و نوع هدف (<code>target</code>) باید یکی از انواع پایه (base types) باشند.</li><li>متد <code>ChangeType</code> همچنین می‌تواند یک آرگومان اختیاری از نوع <code>IFormatProvider</code> بپذیرد که برای تنظیمات محلی و قالب‌بندی استفاده می‌شود.</li></ul>\n",
    "</div>"
   ]
  },
  {
   "cell_type": "code",
   "execution_count": null,
   "metadata": {
    "dotnet_interactive": {
     "language": "csharp"
    },
    "polyglot_notebook": {
     "kernelName": "csharp"
    },
    "vscode": {
     "languageId": "polyglot-notebook"
    }
   },
   "outputs": [],
   "source": [
    "Type targetType = typeof (int);\n",
    "object source = \"42\";\n",
    "\n",
    "object result = Convert.ChangeType (source, targetType);\n",
    "Console.WriteLine (result); // 42\n",
    "Console.WriteLine (result.GetType()); // System.Int32\n"
   ]
  },
  {
   "cell_type": "markdown",
   "metadata": {},
   "source": [
    "<div dir=\"rtl\" style=\"margin:auto; width:90%; font-family:vazirmatn\">\n",
    "<p><strong>کاربرد:</strong></p>\n",
    "<ul><li>این روش می‌تواند در مواردی مفید باشد که نیاز به نوشتن یک دی‌سریالایزر (deserializer) دارید که با انواع مختلف داده کار می‌کند.</li><li>همچنین می‌تواند هر نوع <code>enum</code> را به نوع عددی متناظر آن تبدیل کند.</li></ul>\n",
    "</div>"
   ]
  },
  {
   "cell_type": "markdown",
   "metadata": {},
   "source": [
    "### Base-64 conversions"
   ]
  },
  {
   "cell_type": "markdown",
   "metadata": {},
   "source": [
    "<div dir=\"rtl\" style=\"margin:auto; width:90%; font-family:vazirmatn\">\n",
    "<p><strong>Base-64 چیست؟</strong></p>\n",
    "<ul><li>Base-64 یک روش رمزگذاری است که داده‌های باینری را به یک رشته متنی قابل خواندن تبدیل می‌کند. در این روش، از 64 کاراکتر از مجموعه ASCII استفاده می‌شود.</li><li>این روش مخصوصاً زمانی مفید است که می‌خواهید داده‌های باینری را در قالب‌هایی که فقط متن را پشتیبانی می‌کنند (مثل XML یا ایمیل) استفاده کنید.</li></ul>\n",
    "\n",
    "<p><strong>روش‌های Convert در C#:</strong></p>\n",
    "\n",
    "<ul><li>متد <code>ToBase64String</code> از کلاس <code>Convert</code> داده‌های باینری (یک آرایه بایت) را به رشته Base-64 تبدیل می‌کند.</li><li>متد <code>FromBase64String</code> عمل معکوس را انجام می‌دهد؛ یعنی یک رشته Base-64 را به آرایه بایت تبدیل می‌کند.</li></ul>\n",
    "</div>"
   ]
  },
  {
   "cell_type": "code",
   "execution_count": 2,
   "metadata": {
    "dotnet_interactive": {
     "language": "csharp"
    },
    "polyglot_notebook": {
     "kernelName": "csharp"
    },
    "vscode": {
     "languageId": "polyglot-notebook"
    }
   },
   "outputs": [
    {
     "name": "stdout",
     "output_type": "stream",
     "text": [
      "Base-64 Encoded: SGVsbG8=\n",
      "Decoded Bytes: 48-65-6C-6C-6F\n"
     ]
    }
   ],
   "source": [
    "using System;\n",
    "\n",
    "\n",
    "        // داده باینری اولیه\n",
    "        byte[] binaryData = { 72, 101, 108, 108, 111 }; // \"Hello\" به صورت باینری\n",
    "\n",
    "        // تبدیل باینری به Base-64\n",
    "        string base64String = Convert.ToBase64String(binaryData);\n",
    "        Console.WriteLine(\"Base-64 Encoded: \" + base64String);\n",
    "\n",
    "        // تبدیل Base-64 به باینری\n",
    "        byte[] binaryDataDecoded = Convert.FromBase64String(base64String);\n",
    "        Console.WriteLine(\"Decoded Bytes: \" + BitConverter.ToString(binaryDataDecoded));\n",
    "  \n"
   ]
  },
  {
   "cell_type": "markdown",
   "metadata": {},
   "source": [
    "### BitConverter"
   ]
  },
  {
   "cell_type": "markdown",
   "metadata": {},
   "source": [
    "<div dir=\"rtl\" style=\"margin:auto; width:90%; font-family:vazirmatn\">\n",
    "<p><code>BitConverter</code> دارای متدی به نام <code>GetBytes</code> است که می‌تواند اکثر انواع داده‌های پایه (مانند <code>int</code>, <code>double</code>, <code>float</code>) را به آرایه‌ای از بایت‌ها تبدیل کند.</p>\n",
    "\n",
    "</div>"
   ]
  },
  {
   "cell_type": "code",
   "execution_count": 3,
   "metadata": {
    "dotnet_interactive": {
     "language": "csharp"
    },
    "polyglot_notebook": {
     "kernelName": "csharp"
    },
    "vscode": {
     "languageId": "polyglot-notebook"
    }
   },
   "outputs": [
    {
     "name": "stdout",
     "output_type": "stream",
     "text": [
      "0 0 0 0 0 0 12 64 "
     ]
    }
   ],
   "source": [
    "foreach (byte b in BitConverter.GetBytes(3.5))\n",
    "    Console.Write(b + \" \"); // 0 0 0 0 0 0 12 64"
   ]
  },
  {
   "cell_type": "markdown",
   "metadata": {},
   "source": [
    "<div dir=\"rtl\" style=\"margin:auto; width:90%; font-family:vazirmatn\">\n",
    "<p><strong>تبدیل از آرایه بایت به نوع اصلی با <code>BitConverter</code>:</strong></p>\n",
    "<p><code>BitConverter</code> همچنین متدهایی برای تبدیل آرایه بایت به انواع اصلی دارد، مانند <code>ToDouble</code>, <code>ToInt32</code>, و غیره.</p>\n",
    "</div>"
   ]
  },
  {
   "cell_type": "code",
   "execution_count": null,
   "metadata": {
    "dotnet_interactive": {
     "language": "csharp"
    },
    "polyglot_notebook": {
     "kernelName": "csharp"
    },
    "vscode": {
     "languageId": "polyglot-notebook"
    }
   },
   "outputs": [],
   "source": [
    "byte[] bytes = { 0, 0, 0, 0, 0, 0, 12, 64 };\n",
    "double value = BitConverter.ToDouble(bytes, 0);\n",
    "Console.WriteLine(value); // 3.5"
   ]
  },
  {
   "cell_type": "markdown",
   "metadata": {},
   "source": [
    "<div dir=\"rtl\" style=\"margin:auto; width:90%; font-family:vazirmatn\">\n",
    "<p>نوع <code>decimal</code> توسط <code>BitConverter</code> پشتیبانی نمی‌شود. اما می‌توانید با استفاده از متد <code>GetBits</code> از نوع <code>decimal</code> آن را به آرایه‌ای از اعداد صحیح (<code>int[]</code>) تبدیل کنید.</p>\n",
    "<p>برای تبدیل برعکس (از آرایه اعداد صحیح به <code>decimal</code>)، می‌توانید از سازنده <code>decimal</code> که یک آرایه <code>int</code> می‌پذیرد، استفاده کنید.</p>\n",
    "</div>"
   ]
  },
  {
   "cell_type": "code",
   "execution_count": null,
   "metadata": {
    "dotnet_interactive": {
     "language": "csharp"
    },
    "polyglot_notebook": {
     "kernelName": "csharp"
    },
    "vscode": {
     "languageId": "polyglot-notebook"
    }
   },
   "outputs": [],
   "source": [
    "decimal decValue = 123.45M;\n",
    "int[] bits = decimal.GetBits(decValue);\n",
    "decimal decFromBits = new decimal(bits);\n",
    "Console.WriteLine(decFromBits); // 123.45"
   ]
  },
  {
   "cell_type": "markdown",
   "metadata": {},
   "source": [
    "<div dir=\"rtl\" style=\"margin:auto; width:90%; font-family:vazirmatn\">\n",
    "<p>برای نوع <code>DateTime</code>، می‌توانید از متد <code>ToBinary</code> استفاده کنید که یک مقدار <code>long</code> بازمی‌گرداند. سپس می‌توانید این <code>long</code> را با استفاده از <code>BitConverter</code> به آرایه بایت تبدیل کنید.</p>\n",
    "<p>برای تبدیل برعکس (از آرایه بایت به <code>DateTime</code>)، می‌توانید از متد <code>FromBinary</code> استفاده کنید.</p>\n",
    "</div>"
   ]
  },
  {
   "cell_type": "code",
   "execution_count": null,
   "metadata": {
    "dotnet_interactive": {
     "language": "csharp"
    },
    "polyglot_notebook": {
     "kernelName": "csharp"
    },
    "vscode": {
     "languageId": "polyglot-notebook"
    }
   },
   "outputs": [],
   "source": [
    "DateTime now = DateTime.Now;\n",
    "long binary = now.ToBinary();\n",
    "byte[] bytes = BitConverter.GetBytes(binary);\n",
    "DateTime dateFromBytes = DateTime.FromBinary(BitConverter.ToInt64(bytes, 0));\n",
    "Console.WriteLine(dateFromBytes); // تاریخ و زمان اصلی"
   ]
  }
 ],
 "metadata": {
  "kernelspec": {
   "display_name": ".NET (C#)",
   "language": "C#",
   "name": ".net-csharp"
  },
  "language_info": {
   "name": "python"
  },
  "polyglot_notebook": {
   "kernelInfo": {
    "defaultKernelName": "csharp",
    "items": [
     {
      "aliases": [],
      "name": "csharp"
     }
    ]
   }
  }
 },
 "nbformat": 4,
 "nbformat_minor": 2
}
