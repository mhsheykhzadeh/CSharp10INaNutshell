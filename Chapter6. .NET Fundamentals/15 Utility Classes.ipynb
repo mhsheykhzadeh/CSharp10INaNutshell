{
 "cells": [
  {
   "cell_type": "markdown",
   "metadata": {
    "dotnet_interactive": {
     "language": "csharp"
    },
    "polyglot_notebook": {
     "kernelName": "csharp"
    }
   },
   "source": [
    "### Console"
   ]
  },
  {
   "cell_type": "markdown",
   "metadata": {},
   "source": [
    "The ***static*** `Console` class handles standard `input/output` for **console-based** applications."
   ]
  },
  {
   "cell_type": "markdown",
   "metadata": {},
   "source": [
    "the **input** comes from the ***keyboard*** via `Read`, `ReadKey`, and `ReadLine`"
   ]
  },
  {
   "cell_type": "markdown",
   "metadata": {},
   "source": [
    "the **output** goes to the ***text window*** via `Write` and `WriteLine`."
   ]
  },
  {
   "cell_type": "markdown",
   "metadata": {},
   "source": [
    "You can control the ***window’s position*** and ***dimensions*** with the properties `WindowLeft`, `WindowTop`, `WindowHeight`, and `WindowWidth`."
   ]
  },
  {
   "cell_type": "markdown",
   "metadata": {},
   "source": [
    "You can also ***change*** the `BackgroundColor` and `ForegroundColor` properties  \n",
    "   \n",
    "manipulate the **cursor** with the `CursorLeft`, `CursorTop`, and `CursorSize` properties"
   ]
  },
  {
   "cell_type": "code",
   "execution_count": 4,
   "metadata": {
    "dotnet_interactive": {
     "language": "csharp"
    },
    "polyglot_notebook": {
     "kernelName": "csharp"
    },
    "vscode": {
     "languageId": "polyglot-notebook"
    }
   },
   "outputs": [
    {
     "name": "stdout",
     "output_type": "stream",
     "text": [
      "test... 50%"
     ]
    }
   ],
   "source": [
    "//Console.WindowWidth = Console.LargestWindowWidth;\n",
    "Console.ForegroundColor = ConsoleColor.Green;\n",
    "Console.Write(\"test... 50%\");\n",
    "Console.CursorLeft -= 3;\n",
    "Console.Write(\"90%\"); // test... 90%"
   ]
  },
  {
   "cell_type": "markdown",
   "metadata": {},
   "source": [
    "The `Write` and `WriteLine` methods are overloaded to accept a `composite format string`"
   ]
  },
  {
   "cell_type": "markdown",
   "metadata": {},
   "source": [
    "The `Console.Out` property returns a `TextWriter`. ***Passing*** `Console.Out` to a method that ***expects a TextWriter*** is a useful way to get that method to `write` to the `Console` for ***diagnostic purposes***."
   ]
  },
  {
   "cell_type": "markdown",
   "metadata": {},
   "source": [
    "You can also `redirect` the Console’s **input** and **output** streams via the `SetIn` and `SetOut` methods"
   ]
  },
  {
   "cell_type": "code",
   "execution_count": 2,
   "metadata": {
    "dotnet_interactive": {
     "language": "csharp"
    },
    "polyglot_notebook": {
     "kernelName": "csharp"
    },
    "vscode": {
     "languageId": "polyglot-notebook"
    }
   },
   "outputs": [],
   "source": [
    "// First save existing output writer:\n",
    "System.IO.TextWriter oldOut = Console.Out;\n",
    "// Redirect the console's output to a file:\n",
    "using (System.IO.TextWriter w = System.IO.File.CreateText(\"f:\\\\output.txt\"))\n",
    "{\n",
    "    Console.SetOut (w);\n",
    "    Console.WriteLine (\"Hello world\");\n",
    "}\n",
    "\n",
    "// Restore standard console output\n",
    "Console.SetOut (oldOut);"
   ]
  },
  {
   "cell_type": "markdown",
   "metadata": {},
   "source": [
    "### Environment"
   ]
  },
  {
   "cell_type": "markdown",
   "metadata": {},
   "source": [
    "The ***static*** `System.Environment` class provides a range of useful properties"
   ]
  },
  {
   "cell_type": "markdown",
   "metadata": {},
   "source": [
    "#### Files and folders"
   ]
  },
  {
   "cell_type": "code",
   "execution_count": 5,
   "metadata": {
    "dotnet_interactive": {
     "language": "csharp"
    },
    "polyglot_notebook": {
     "kernelName": "csharp"
    },
    "vscode": {
     "languageId": "polyglot-notebook"
    }
   },
   "outputs": [
    {
     "name": "stdout",
     "output_type": "stream",
     "text": [
      "Current Directory: f:\\Learning\\C#\\C# in a Nutshell\\Sources\\Chapter6. .NET Fundamentals\n",
      "System Directory: C:\\Windows\\system32\n",
      "Command Line: C:\\Users\\bahar\\.nuget\\packages\\microsoft.dotnet-interactive\\1.0.522904\\tools\\net8.0\\any\\Microsoft.DotNet.Interactive.App.dll [vscode] stdio --working-dir \"f:\\Learning\\C#\\C# in a Nutshell\\Sources\\Chapter6. .NET Fundamentals\"\n"
     ]
    }
   ],
   "source": [
    "//CurrentDirectory : مسیر پوشه کاری فعلی برنامه را برمی‌گرداند.\n",
    "string currentDirectory = Environment.CurrentDirectory;\n",
    "Console.WriteLine($\"Current Directory: {currentDirectory}\");\n",
    "\n",
    "//SystemDirectory : مسیر پوشه سیستم عامل را برمی‌گرداند.\n",
    "string systemDirectory = Environment.SystemDirectory;\n",
    "Console.WriteLine($\"System Directory: {systemDirectory}\");\n",
    "\n",
    "//CommandLine: فرمان خطی که برای راه‌اندازی برنامه استفاده شده است را برمی‌گرداند.\n",
    "string commandLine = Environment.CommandLine;\n",
    "Console.WriteLine($\"Command Line: {commandLine}\");"
   ]
  },
  {
   "cell_type": "markdown",
   "metadata": {},
   "source": [
    "#### Computer and operating system"
   ]
  },
  {
   "cell_type": "code",
   "execution_count": 6,
   "metadata": {
    "dotnet_interactive": {
     "language": "csharp"
    },
    "polyglot_notebook": {
     "kernelName": "csharp"
    },
    "vscode": {
     "languageId": "polyglot-notebook"
    }
   },
   "outputs": [
    {
     "name": "stdout",
     "output_type": "stream",
     "text": [
      "Machine Name: DESKTOP-8ELDOAG\n",
      "Processor Count: 4\n",
      "OS Version: Microsoft Windows NT 10.0.22000.0\n",
      "First Line\n",
      "Second Line\n"
     ]
    }
   ],
   "source": [
    "//MachineName : نام کامپیوتر را برمی‌گرداند\n",
    "string machineName = Environment.MachineName;\n",
    "Console.WriteLine($\"Machine Name: {machineName}\");\n",
    "\n",
    "//ProcessorCount : تعداد پردازنده‌های منطقی موجود بر روی سیستم را برمی‌گرداند.\n",
    "int processorCount = Environment.ProcessorCount;\n",
    "Console.WriteLine($\"Processor Count: {processorCount}\");\n",
    "\n",
    "//OSVersion : نسخه سیستم عامل را برمی‌گرداند.\n",
    "OperatingSystem osVersion = Environment.OSVersion;\n",
    "Console.WriteLine($\"OS Version: {osVersion}\");\n",
    "\n",
    "//NewLine رشته‌ای که نشان‌دهنده کاراکتر یا کاراکترهای پایان خط\n",
    " //برای محیط فعلی است را برمی‌گرداند.\n",
    "string newLine = Environment.NewLine;\n",
    "Console.WriteLine($\"First Line{newLine}Second Line\");"
   ]
  },
  {
   "cell_type": "markdown",
   "metadata": {},
   "source": [
    "#### User logon"
   ]
  },
  {
   "cell_type": "code",
   "execution_count": 7,
   "metadata": {
    "dotnet_interactive": {
     "language": "csharp"
    },
    "polyglot_notebook": {
     "kernelName": "csharp"
    },
    "vscode": {
     "languageId": "polyglot-notebook"
    }
   },
   "outputs": [
    {
     "name": "stdout",
     "output_type": "stream",
     "text": [
      "User Name: bahar\n",
      "User Interactive: True\n",
      "User Domain Name: DESKTOP-8ELDOAG\n"
     ]
    }
   ],
   "source": [
    "//UserName : نام کاربر لاگین شده فعلی را برمی‌گرداند.\n",
    "string userName = Environment.UserName;\n",
    "Console.WriteLine($\"User Name: {userName}\");\n",
    "\n",
    "//UserInteractive : آیا محیط به صورت تعاملی با کاربر است یا خیر\n",
    "bool userInteractive = Environment.UserInteractive;\n",
    "Console.WriteLine($\"User Interactive: {userInteractive}\");\n",
    "\n",
    "//UserDomainName: نام دامنه‌ای که کاربر به آن تعلق دارد را برمی‌گرداند.\n",
    "string userDomainName = Environment.UserDomainName;\n",
    "Console.WriteLine($\"User Domain Name: {userDomainName}\");\n"
   ]
  },
  {
   "cell_type": "markdown",
   "metadata": {},
   "source": [
    "#### Diagnostics"
   ]
  },
  {
   "cell_type": "code",
   "execution_count": 8,
   "metadata": {
    "dotnet_interactive": {
     "language": "csharp"
    },
    "polyglot_notebook": {
     "kernelName": "csharp"
    },
    "vscode": {
     "languageId": "polyglot-notebook"
    }
   },
   "outputs": [
    {
     "name": "stdout",
     "output_type": "stream",
     "text": [
      "Tick Count: 71072265\n",
      "Stack Trace:    at System.Environment.get_StackTrace()\n",
      "   at Submission#9.<<Initialize>>d__0.MoveNext()\n",
      "   at System.Runtime.CompilerServices.AsyncMethodBuilderCore.Start[TStateMachine](TStateMachine& stateMachine)\n",
      "   at Submission#9.<Initialize>()\n",
      "   at Submission#9.<Factory>(Object[] submissionArray)\n",
      "   at Microsoft.CodeAnalysis.Scripting.ScriptExecutionState.RunSubmissionsAsync[TResult](ImmutableArray`1 precedingExecutors, Func`2 currentExecutor, StrongBox`1 exceptionHolderOpt, Func`2 catchExceptionOpt, CancellationToken cancellationToken)\n",
      "   at System.Runtime.CompilerServices.AsyncMethodBuilderCore.Start[TStateMachine](TStateMachine& stateMachine)\n",
      "   at Microsoft.CodeAnalysis.Scripting.ScriptExecutionState.RunSubmissionsAsync[TResult](ImmutableArray`1 precedingExecutors, Func`2 currentExecutor, StrongBox`1 exceptionHolderOpt, Func`2 catchExceptionOpt, CancellationToken cancellationToken)\n",
      "   at Microsoft.CodeAnalysis.Scripting.Script`1.RunSubmissionsAsync(ScriptExecutionState executionState, ImmutableArray`1 precedingExecutors, Func`2 currentExecutor, Func`2 catchExceptionOpt, CancellationToken cancellationToken)\n",
      "   at System.Runtime.CompilerServices.AsyncMethodBuilderCore.Start[TStateMachine](TStateMachine& stateMachine)\n",
      "   at Microsoft.CodeAnalysis.Scripting.Script`1.RunSubmissionsAsync(ScriptExecutionState executionState, ImmutableArray`1 precedingExecutors, Func`2 currentExecutor, Func`2 catchExceptionOpt, CancellationToken cancellationToken)\n",
      "   at Microsoft.CodeAnalysis.Scripting.Script`1.RunFromAsync(ScriptState previousState, Func`2 catchException, CancellationToken cancellationToken)\n",
      "   at Microsoft.CodeAnalysis.Scripting.ScriptState.ContinueWithAsync(String code, ScriptOptions options, Func`2 catchException, CancellationToken cancellationToken)\n",
      "   at Microsoft.DotNet.Interactive.CSharp.CSharpKernel.RunAsync(String code, CancellationToken cancellationToken, Func`2 catchException) in D:\\a\\_work\\1\\s\\src\\Microsoft.DotNet.Interactive.CSharp\\CSharpKernel.cs:line 379\n",
      "   at System.Runtime.CompilerServices.AsyncMethodBuilderCore.Start[TStateMachine](TStateMachine& stateMachine)\n",
      "   at Microsoft.DotNet.Interactive.CSharp.CSharpKernel.RunAsync(String code, CancellationToken cancellationToken, Func`2 catchException)\n",
      "   at Microsoft.DotNet.Interactive.CSharp.CSharpKernel.Microsoft.DotNet.Interactive.IKernelCommandHandler<Microsoft.DotNet.Interactive.Commands.SubmitCode>.HandleAsync(SubmitCode submitCode, KernelInvocationContext context) in D:\\a\\_work\\1\\s\\src\\Microsoft.DotNet.Interactive.CSharp\\CSharpKernel.cs:line 278\n",
      "   at System.Runtime.CompilerServices.AsyncMethodBuilderCore.Start[TStateMachine](TStateMachine& stateMachine)\n",
      "   at Microsoft.DotNet.Interactive.CSharp.CSharpKernel.Microsoft.DotNet.Interactive.IKernelCommandHandler<Microsoft.DotNet.Interactive.Commands.SubmitCode>.HandleAsync(SubmitCode submitCode, KernelInvocationContext context)\n",
      "   at Microsoft.DotNet.Interactive.Kernel.HandleAsync(KernelCommand command, KernelInvocationContext context) in D:\\a\\_work\\1\\s\\src\\Microsoft.DotNet.Interactive\\Kernel.cs:line 330\n",
      "   at System.Runtime.CompilerServices.AsyncMethodBuilderCore.Start[TStateMachine](TStateMachine& stateMachine)\n",
      "   at Microsoft.DotNet.Interactive.Kernel.HandleAsync(KernelCommand command, KernelInvocationContext context)\n",
      "   at Microsoft.DotNet.Interactive.KernelCommandPipeline.<BuildPipeline>b__6_0(KernelCommand command, KernelInvocationContext context, KernelPipelineContinuation _) in D:\\a\\_work\\1\\s\\src\\Microsoft.DotNet.Interactive\\KernelCommandPipeline.cs:line 60\n",
      "   at System.Runtime.CompilerServices.AsyncMethodBuilderCore.Start[TStateMachine](TStateMachine& stateMachine)\n",
      "   at Microsoft.DotNet.Interactive.KernelCommandPipeline.<BuildPipeline>b__6_0(KernelCommand command, KernelInvocationContext context, KernelPipelineContinuation _)\n",
      "   at Microsoft.DotNet.Interactive.KernelCommandPipeline.SendAsync(KernelCommand command, KernelInvocationContext context)\n",
      "   at System.Runtime.CompilerServices.AsyncMethodBuilderCore.Start[TStateMachine](TStateMachine& stateMachine)\n",
      "   at Microsoft.DotNet.Interactive.CompositeKernel.HandleAsync(KernelCommand command, KernelInvocationContext context) in D:\\a\\_work\\1\\s\\src\\Microsoft.DotNet.Interactive\\CompositeKernel.cs:line 179\n",
      "   at System.Runtime.CompilerServices.AsyncMethodBuilderCore.Start[TStateMachine](TStateMachine& stateMachine)\n",
      "   at Microsoft.DotNet.Interactive.KernelCommandPipeline.<BuildPipeline>b__6_0(KernelCommand command, KernelInvocationContext context, KernelPipelineContinuation _) in D:\\a\\_work\\1\\s\\src\\Microsoft.DotNet.Interactive\\KernelCommandPipeline.cs:line 60\n",
      "   at System.Runtime.CompilerServices.AsyncMethodBuilderCore.Start[TStateMachine](TStateMachine& stateMachine)\n",
      "   at Microsoft.DotNet.Interactive.KernelCommandPipeline.<BuildPipeline>b__6_0(KernelCommand command, KernelInvocationContext context, KernelPipelineContinuation _)\n",
      "   at Microsoft.DotNet.Interactive.KernelCommandPipeline.<>c__DisplayClass6_1.<<BuildPipeline>b__3>d.MoveNext() in D:\\a\\_work\\1\\s\\src\\Microsoft.DotNet.Interactive\\KernelCommandPipeline.cs:line 75\n",
      "   at System.Runtime.CompilerServices.AsyncMethodBuilderCore.Start[TStateMachine](TStateMachine& stateMachine)\n",
      "   at Microsoft.DotNet.Interactive.App.KernelExtensions.<>c__DisplayClass3_0.<<UseTelemetrySender>b__0>d.MoveNext() in D:\\a\\_work\\1\\s\\src\\dotnet-interactive\\KernelExtensions.cs:line 123\n",
      "   at System.Runtime.CompilerServices.AsyncMethodBuilderCore.Start[TStateMachine](TStateMachine& stateMachine)\n",
      "   at Microsoft.DotNet.Interactive.KernelCommandPipeline.<>c__DisplayClass6_1.<<BuildPipeline>b__3>d.MoveNext() in D:\\a\\_work\\1\\s\\src\\Microsoft.DotNet.Interactive\\KernelCommandPipeline.cs:line 75\n",
      "   at System.Runtime.CompilerServices.AsyncMethodBuilderCore.Start[TStateMachine](TStateMachine& stateMachine)\n",
      "   at Microsoft.DotNet.Interactive.App.KernelExtensionLoader.<>c__DisplayClass0_0.<<UseNuGetExtensions>b__0>d.MoveNext() in D:\\a\\_work\\1\\s\\src\\dotnet-interactive\\KernelExtensionLoader.cs:line 25\n",
      "   at System.Runtime.CompilerServices.AsyncMethodBuilderCore.Start[TStateMachine](TStateMachine& stateMachine)\n",
      "   at Microsoft.DotNet.Interactive.App.KernelExtensionLoader.<>c__DisplayClass0_0.<UseNuGetExtensions>b__0(KernelCommand command, KernelInvocationContext context, KernelPipelineContinuation next)\n",
      "   at Microsoft.DotNet.Interactive.KernelCommandPipeline.<>c__DisplayClass6_0.<<BuildPipeline>g__Combine|2>d.MoveNext() in D:\\a\\_work\\1\\s\\src\\Microsoft.DotNet.Interactive\\KernelCommandPipeline.cs:line 73\n",
      "   at System.Runtime.CompilerServices.AsyncMethodBuilderCore.Start[TStateMachine](TStateMachine& stateMachine)\n",
      "   at Microsoft.DotNet.Interactive.KernelCommandPipeline.<>c__DisplayClass6_0.<<BuildPipeline>g__Combine|2>d.MoveNext() in D:\\a\\_work\\1\\s\\src\\Microsoft.DotNet.Interactive\\KernelCommandPipeline.cs:line 73\n",
      "   at System.Runtime.CompilerServices.AsyncMethodBuilderCore.Start[TStateMachine](TStateMachine& stateMachine)\n",
      "   at Microsoft.DotNet.Interactive.KernelCommandPipeline.SendAsync(KernelCommand command, KernelInvocationContext context)\n",
      "   at System.Runtime.CompilerServices.AsyncMethodBuilderCore.Start[TStateMachine](TStateMachine& stateMachine)\n",
      "   at Microsoft.DotNet.Interactive.Kernel.InvokePipelineAndCommandHandler(KernelCommand command) in D:\\a\\_work\\1\\s\\src\\Microsoft.DotNet.Interactive\\Kernel.cs:line 554\n",
      "   at System.Runtime.CompilerServices.AsyncMethodBuilderCore.Start[TStateMachine](TStateMachine& stateMachine)\n",
      "   at Microsoft.DotNet.Interactive.KernelScheduler`2.ScheduledOperation.ExecuteAsync()\n",
      "   at Microsoft.DotNet.Interactive.KernelScheduler`2.Run(ScheduledOperation operation)\n",
      "   at Microsoft.DotNet.Interactive.KernelScheduler`2.RunDeferredOperationsAndThen(ScheduledOperation operation) in D:\\a\\_work\\1\\s\\src\\Microsoft.DotNet.Interactive\\KernelScheduler.cs:line 223\n",
      "   at System.Threading.ExecutionContext.RunInternal(ExecutionContext executionContext, ContextCallback callback, Object state)\n",
      "   at Microsoft.DotNet.Interactive.KernelScheduler`2.ScheduledOperationRunLoop() in D:\\a\\_work\\1\\s\\src\\Microsoft.DotNet.Interactive\\KernelScheduler.cs:line 117\n",
      "   at System.Threading.ExecutionContext.RunInternal(ExecutionContext executionContext, ContextCallback callback, Object state)\n",
      "   at System.Threading.Tasks.Task.ExecuteWithThreadLocal(Task& currentTaskSlot, Thread threadPoolThread)\n",
      "Working Set: 713670656\n",
      "Version: 8.0.0\n",
      "Desktop Folder: C:\\Users\\bahar\\Desktop\n"
     ]
    }
   ],
   "source": [
    "//TickCount : تعداد میلی‌ثانیه‌هایی که از زمان شروع سیستم گذشته است را برمی‌گرداند.\n",
    "int tickCount = Environment.TickCount;\n",
    "Console.WriteLine($\"Tick Count: {tickCount}\");\n",
    "\n",
    "//StackTrace : رشته حاوی اطلاعات انباشته فعلی (stack trace) را برمی‌گرداند.\n",
    "string stackTrace = Environment.StackTrace;\n",
    "Console.WriteLine($\"Stack Trace: {stackTrace}\");\n",
    "\n",
    "//WorkingSet : میزان حافظه‌ای که توسط برنامه جاری استفاده می‌شود را برمی‌گرداند.\n",
    "long workingSet = Environment.WorkingSet;\n",
    "Console.WriteLine($\"Working Set: {workingSet}\");\n",
    "\n",
    "//Version : نسخه دات‌نت فریم‌ورک که برنامه بر روی آن در حال اجرا است را برمی‌گرداند.\n",
    "Version version = Environment.Version;\n",
    "Console.WriteLine($\"Version: {version}\");\n",
    "\n",
    "//GetFolderPath : مسیر پوشه‌های سیستم خاص مانند پوشه دسکتاپ، پوشه اسناد و غیره را برمی‌گرداند.\n",
    "string desktopFolder = Environment.GetFolderPath(Environment.SpecialFolder.Desktop);\n",
    "Console.WriteLine($\"Desktop Folder: {desktopFolder}\");"
   ]
  },
  {
   "cell_type": "markdown",
   "metadata": {},
   "source": [
    "#### OS environment variables"
   ]
  },
  {
   "cell_type": "code",
   "execution_count": 9,
   "metadata": {
    "dotnet_interactive": {
     "language": "csharp"
    },
    "polyglot_notebook": {
     "kernelName": "csharp"
    },
    "vscode": {
     "languageId": "polyglot-notebook"
    }
   },
   "outputs": [
    {
     "name": "stdout",
     "output_type": "stream",
     "text": [
      "PATH: C:\\Program Files\\Common Files\\Oracle\\Java\\javapath;C:\\Program Files\\Common Files\\Microsoft Shared\\Microsoft Online Services;C:\\Program Files (x86)\\Common Files\\Microsoft Shared\\Microsoft Online Services;C:\\Windows\\system32;C:\\Windows;C:\\Windows\\System32\\Wbem;C:\\Windows\\System32\\WindowsPowerShell\\v1.0\\;C:\\Windows\\System32\\OpenSSH\\;C:\\Program Files (x86)\\Microsoft SQL Server\\150\\DTS\\Binn\\;C:\\Program Files\\Microsoft SQL Server\\150\\Tools\\Binn\\;C:\\Program Files\\Microsoft SQL Server\\Client SDK\\ODBC\\170\\Tools\\Binn\\;C:\\Program Files\\dotnet\\;C:\\Program Files (x86)\\Microsoft SQL Server\\150\\Tools\\Binn\\;C:\\Program Files\\Microsoft SQL Server\\150\\DTS\\Binn\\;C:\\Program Files\\Git\\cmd;C:\\Program Files\\Microsoft VS Code\\bin;C:\\Program Files\\nodejs\\;C:\\Program Files (x86)\\Yarn\\bin\\;C:\\Program Files\\GitHub CLI\\;C:\\Users\\bahar\\AppData\\Local\\Packages\\PythonSoftwareFoundation.Python.3.10_qbz5n2kfra8p0\\LocalCache\\local-packages\\Python310\\Scripts;C:\\Program Files\\Microsoft\\Web Platform Installer\\;C:\\Program Files\\Microsoft SQL Server\\130\\Tools\\Binn\\;C:\\Program Files (x86)\\Microsoft SQL Server\\110\\DTS\\Binn\\;C:\\Program Files (x86)\\Microsoft SQL Server\\120\\DTS\\Binn\\;C:\\Program Files (x86)\\Microsoft SQL Server\\130\\DTS\\Binn\\;C:\\Program Files (x86)\\Microsoft SQL Server\\140\\DTS\\Binn\\;C:\\Program Files (x86)\\Microsoft SQL Server\\160\\DTS\\Binn\\;C:\\Program Files\\PuTTY\\;C:\\Program Files\\Docker\\Docker\\resources\\bin;C:\\Program Files\\Nuget;C:\\Program Files\\Calibre2\\;C:\\Program Files\\Microsoft SQL Server\\140\\DTS\\Binn\\;C:\\Program Files\\Microsoft SQL Server\\160\\DTS\\Binn\\;C:\\Program Files\\PowerShell\\7\\;C:\\Users\\bahar\\AppData\\Local\\Microsoft\\WindowsApps;C:\\Program Files\\Azure Data Studio\\bin;C:\\Users\\bahar\\.dotnet\\tools;C:\\Users\\bahar\\AppData\\Local\\GitHubDesktop\\bin;C:\\Users\\bahar\\AppData\\Roaming\\npm;C:\\Users\\bahar\\AppData\\Local\\Yarn\\bin;C:\\Users\\bahar\\AppData\\Local\\Programs\\oh-my-posh\\bin;;C:\\Users\\bahar\\AppData\\Local\\Programs\\Azure Data Studio\\bin;C:\\Users\\bahar\\AppData\\Local\\Programs\\Microsoft VS Code Insiders\\bin\n",
      "POWERSHELL_DISTRIBUTION_CHANNEL: dotnet-interactive-powershell\n",
      "POSH_THEMES_PATH: C:\\Users\\bahar\\AppData\\Local\\Programs\\oh-my-posh\\themes\n",
      "OneDrive: C:\\Users\\bahar\\OneDrive\n",
      "TEMP: C:\\Users\\bahar\\AppData\\Local\\Temp\n",
      "APPCODE_VM_OPTIONS: C:\\ja-netfilter\\vmoptions\\appcode.vmoptions\n",
      "SESSIONNAME: Console\n",
      "OS: Windows_NT\n",
      "VSCODE_CODE_CACHE_PATH: C:\\Users\\bahar\\AppData\\Roaming\\Code\\CachedData\\89de5a8d4d6205e5b11647eb6a74844ca23d2573\n",
      "GOLAND_VM_OPTIONS: C:\\ja-netfilter\\vmoptions\\goland.vmoptions\n",
      "WEBIDE_VM_OPTIONS: C:\\ja-netfilter\\vmoptions\\webide.vmoptions\n",
      "DriverData: C:\\Windows\\System32\\Drivers\\DriverData\n",
      "DATASPELL_VM_OPTIONS: C:\\ja-netfilter\\vmoptions\\dataspell.vmoptions\n",
      "APPLICATION_INSIGHTS_NO_DIAGNOSTIC_CHANNEL: 1\n",
      "DLMAS_HOME: C:\\PROGRA~2\\Red Gate\\SQL Change Automation PowerShell\\\n",
      "VSCODE_HANDLES_UNCAUGHT_ERRORS: true\n",
      "CommonProgramFiles(x86): C:\\Program Files (x86)\\Common Files\n",
      "HOMEPATH: \\Users\\bahar\n",
      "SystemDrive: C:\n",
      "ELECTRON_RUN_AS_NODE: 1\n",
      "VSCODE_IPC_HOOK: \\\\.\\pipe\\792fe803-1.90.0-main-sock\n",
      "DOTNET_CLI_UI_LANGUAGE: en\n",
      "COMPUTERNAME: DESKTOP-8ELDOAG\n",
      "DOTNET_CLI_CULTURE: en\n",
      "VSCODE_AMD_ENTRYPOINT: vs/workbench/api/node/extensionHostProcess\n",
      "ComSpec: C:\\Windows\\system32\\cmd.exe\n",
      "ProgramData: C:\\ProgramData\n",
      "FPS_BROWSER_USER_PROFILE_STRING: Default\n",
      "TMP: C:\\Users\\bahar\\AppData\\Local\\Temp\n",
      "CommonProgramW6432: C:\\Program Files\\Common Files\n",
      "FPS_BROWSER_APP_PROFILE_STRING: Internet Explorer\n",
      "USERDOMAIN_ROAMINGPROFILE: DESKTOP-8ELDOAG\n",
      "STUDIO_VM_OPTIONS: C:\\ja-netfilter\\vmoptions\\studio.vmoptions\n",
      "DATAGRIP_VM_OPTIONS: C:\\ja-netfilter\\vmoptions\\datagrip.vmoptions\n",
      "OneDriveConsumer: C:\\Users\\bahar\\OneDrive\n",
      "LOCALAPPDATA: C:\\Users\\bahar\\AppData\\Local\n",
      "VSCODE_CWD: C:\\Windows\\System32\n",
      "windir: C:\\Windows\n",
      "PROCESSOR_ARCHITECTURE: AMD64\n",
      "PYCHARM_VM_OPTIONS: C:\\ja-netfilter\\vmoptions\\pycharm.vmoptions\n",
      "SystemRoot: C:\\Windows\n",
      "RIDER_VM_OPTIONS: C:\\ja-netfilter\\vmoptions\\rider.vmoptions\n",
      "NUMBER_OF_PROCESSORS: 4\n",
      "PUBLIC: C:\\Users\\Public\n",
      "CLION_VM_OPTIONS: C:\\ja-netfilter\\vmoptions\\clion.vmoptions\n",
      "PATHEXT: .COM;.EXE;.BAT;.CMD;.VBS;.VBE;.JS;.JSE;.WSF;.WSH;.MSC;.CPL\n",
      "GATEWAY_VM_OPTIONS: C:\\ja-netfilter\\vmoptions\\gateway.vmoptions\n",
      "VSCODE_NLS_CONFIG: {\"locale\":\"en-us\",\"osLocale\":\"en-us\",\"availableLanguages\":{},\"_languagePackSupport\":true}\n",
      "MSBuildExtensionsPath32: C:\\Program Files\\Microsoft Visual Studio\\2022\\Community\\MSBuild\n",
      "PROCESSOR_LEVEL: 6\n",
      "DEVECOSTUDIO_VM_OPTIONS: C:\\ja-netfilter\\vmoptions\\devecostudio.vmoptions\n",
      "PROCESSOR_REVISION: 3a09\n",
      "WEBSTORM_VM_OPTIONS: C:\\ja-netfilter\\vmoptions\\webstorm.vmoptions\n",
      "IDEA_VM_OPTIONS: C:\\ja-netfilter\\vmoptions\\idea.vmoptions\n",
      "VSCODE_PID: 21140\n",
      "USERPROFILE: C:\\Users\\bahar\n",
      "RUBYMINE_VM_OPTIONS: C:\\ja-netfilter\\vmoptions\\rubymine.vmoptions\n",
      "PROCESSOR_IDENTIFIER: Intel64 Family 6 Model 58 Stepping 9, GenuineIntel\n",
      "PHPSTORM_VM_OPTIONS: C:\\ja-netfilter\\vmoptions\\phpstorm.vmoptions\n",
      "ALLUSERSPROFILE: C:\\ProgramData\n",
      "PSModulePath: C:\\Users\\bahar\\.nuget\\packages\\microsoft.dotnet-interactive\\1.0.522904\\tools\\net8.0\\any\\Modules;C:\\Users\\bahar\\Documents\\PowerShell\\Modules;C:\\Program Files\\PowerShell\\Modules;c:\\users\\bahar\\.nuget\\packages\\microsoft.dotnet-interactive\\1.0.522904\\tools\\net8.0\\any\\runtimes\\win\\lib\\net8.0\\Modules;C:\\Program Files\\WindowsPowerShell\\Modules;C:\\Windows\\system32\\WindowsPowerShell\\v1.0\\Modules;C:\\Program Files (x86)\\Microsoft SQL Server\\150\\Tools\\PowerShell\\Modules\\;C:\\PROGRA~2\\Red Gate\\SQL Change Automation PowerShell\\Modules\\\n",
      "VSCODE_CRASH_REPORTER_PROCESS_TYPE: extensionHost\n",
      "ORIGINAL_XDG_CURRENT_DESKTOP: undefined\n",
      "ProgramFiles(x86): C:\\Program Files (x86)\n",
      "JETBRAINSCLIENT_VM_OPTIONS: C:\\ja-netfilter\\vmoptions\\jetbrainsclient.vmoptions\n",
      "PSExecutionPolicyPreference: RemoteSigned\n",
      "APPDATA: C:\\Users\\bahar\\AppData\\Roaming\n",
      "HOMEDRIVE: C:\n",
      "LOGONSERVER: \\\\DESKTOP-8ELDOAG\n",
      "ProgramFiles: C:\\Program Files\n",
      "CHROME_CRASHPAD_PIPE_NAME: \\\\.\\pipe\\crashpad_21140_SESCYCNXFZOIXFXH\n",
      "CommonProgramFiles: C:\\Program Files\\Common Files\n",
      "PreferredUILang: en\n",
      "VSLANG: 9\n",
      "ProgramW6432: C:\\Program Files\n",
      "JAVA_HOME: C:\\Program Files\\Java\\jdk-22\n",
      "USERDOMAIN: DESKTOP-8ELDOAG\n",
      "USERNAME: bahar\n",
      "Path: C:\\Program Files\\Common Files\\Oracle\\Java\\javapath;C:\\Program Files\\Common Files\\Microsoft Shared\\Microsoft Online Services;C:\\Program Files (x86)\\Common Files\\Microsoft Shared\\Microsoft Online Services;C:\\Windows\\system32;C:\\Windows;C:\\Windows\\System32\\Wbem;C:\\Windows\\System32\\WindowsPowerShell\\v1.0\\;C:\\Windows\\System32\\OpenSSH\\;C:\\Program Files (x86)\\Microsoft SQL Server\\150\\DTS\\Binn\\;C:\\Program Files\\Microsoft SQL Server\\150\\Tools\\Binn\\;C:\\Program Files\\Microsoft SQL Server\\Client SDK\\ODBC\\170\\Tools\\Binn\\;C:\\Program Files\\dotnet\\;C:\\Program Files (x86)\\Microsoft SQL Server\\150\\Tools\\Binn\\;C:\\Program Files\\Microsoft SQL Server\\150\\DTS\\Binn\\;C:\\Program Files\\Git\\cmd;C:\\Program Files\\Microsoft VS Code\\bin;C:\\Program Files\\nodejs\\;C:\\Program Files (x86)\\Yarn\\bin\\;C:\\Program Files\\GitHub CLI\\;C:\\Users\\bahar\\AppData\\Local\\Packages\\PythonSoftwareFoundation.Python.3.10_qbz5n2kfra8p0\\LocalCache\\local-packages\\Python310\\Scripts;C:\\Program Files\\Microsoft\\Web Platform Installer\\;C:\\Program Files\\Microsoft SQL Server\\130\\Tools\\Binn\\;C:\\Program Files (x86)\\Microsoft SQL Server\\110\\DTS\\Binn\\;C:\\Program Files (x86)\\Microsoft SQL Server\\120\\DTS\\Binn\\;C:\\Program Files (x86)\\Microsoft SQL Server\\130\\DTS\\Binn\\;C:\\Program Files (x86)\\Microsoft SQL Server\\140\\DTS\\Binn\\;C:\\Program Files (x86)\\Microsoft SQL Server\\160\\DTS\\Binn\\;C:\\Program Files\\PuTTY\\;C:\\Program Files\\Docker\\Docker\\resources\\bin;C:\\Program Files\\Nuget;C:\\Program Files\\Calibre2\\;C:\\Program Files\\Microsoft SQL Server\\140\\DTS\\Binn\\;C:\\Program Files\\Microsoft SQL Server\\160\\DTS\\Binn\\;C:\\Program Files\\PowerShell\\7\\;C:\\Users\\bahar\\AppData\\Local\\Microsoft\\WindowsApps;C:\\Program Files\\Azure Data Studio\\bin;C:\\Users\\bahar\\.dotnet\\tools;C:\\Users\\bahar\\AppData\\Local\\GitHubDesktop\\bin;C:\\Users\\bahar\\AppData\\Roaming\\npm;C:\\Users\\bahar\\AppData\\Local\\Yarn\\bin;C:\\Users\\bahar\\AppData\\Local\\Programs\\oh-my-posh\\bin;;C:\\Users\\bahar\\AppData\\Local\\Programs\\Azure Data Studio\\bin;C:\\Users\\bahar\\AppData\\Local\\Programs\\Microsoft VS Code Insiders\\bin\n",
      "JETBRAINS_CLIENT_VM_OPTIONS: C:\\ja-netfilter\\vmoptions\\jetbrains_client.vmoptions\n",
      "HOME: C:\\Users\\bahar\n",
      "MY_VARIABLE: MyValue\n"
     ]
    }
   ],
   "source": [
    "// GetEnvironmentVariable : یک متغیر محیطی خاص را بازیابی می‌کند.\n",
    "string path = Environment.GetEnvironmentVariable(\"PATH\");\n",
    "Console.WriteLine($\"PATH: {path}\");\n",
    "\n",
    "//GetEnvironmentVariables : تمامی متغیرهای محیطی را به صورت یک دیکشنری از نام و مقدار بازمی‌گرداند.\n",
    "var variables = Environment.GetEnvironmentVariables();\n",
    "foreach (DictionaryEntry variable in variables)\n",
    "{\n",
    "    Console.WriteLine($\"{variable.Key}: {variable.Value}\");\n",
    "}\n",
    "\n",
    "//SetEnvironmentVariable : یک متغیر محیطی جدید تنظیم می‌کند \n",
    "//یا مقدار یک متغیر موجود را تغییر می‌دهد.\n",
    "\n",
    "Environment.SetEnvironmentVariable(\"MY_VARIABLE\", \"MyValue\");\n",
    "string myVariable = Environment.GetEnvironmentVariable(\"MY_VARIABLE\");\n",
    "Console.WriteLine($\"MY_VARIABLE: {myVariable}\");\n"
   ]
  },
  {
   "cell_type": "markdown",
   "metadata": {},
   "source": [
    "### Process"
   ]
  },
  {
   "cell_type": "markdown",
   "metadata": {},
   "source": [
    "<div dir=\"rtl\" style=\"margin:auto; width:90%; font-family:vazirmatn\">\n",
    "<h5>تعریف فرآیند</h5>\n",
    "<p>فرآیند، نمونه‌ای از اجرای یک برنامه است. هر فرآیند شامل چندین بخش است:</p>\n",
    "<ol><li><strong>کد برنامه (Code):</strong> دستورات اجرایی برنامه.</li><li><strong>داده‌ها (Data):</strong> داده‌های استفاده شده توسط برنامه.</li><li><strong>پشته (Stack):</strong> اطلاعات موقتی مانند پارامترهای تابع، آدرس‌های بازگشت و متغیرهای محلی.</li><li><strong>پشته پویای (Heap):</strong> ناحیه‌ای برای تخصیص پویا در زمان اجرا.</li><li><strong>بخش متنی (Text section):</strong> شامل کدهای اجرایی برنامه.</li></ol>\n",
    "</div>"
   ]
  },
  {
   "cell_type": "markdown",
   "metadata": {},
   "source": [
    "The `Process` ***class*** in `System.Diagnostics` allows you to ***launch a new process***."
   ]
  },
  {
   "cell_type": "markdown",
   "metadata": {},
   "source": [
    "The ***static*** `Process.Start` method has **several overloads**; the simplest accepts a simple `filename` with **optional** `arguments`"
   ]
  },
  {
   "cell_type": "code",
   "execution_count": 10,
   "metadata": {
    "dotnet_interactive": {
     "language": "csharp"
    },
    "polyglot_notebook": {
     "kernelName": "csharp"
    },
    "vscode": {
     "languageId": "polyglot-notebook"
    }
   },
   "outputs": [],
   "source": [
    "using System.Diagnostics;\n",
    "\n",
    "Process.Start(\"notepad.exe\");"
   ]
  },
  {
   "cell_type": "code",
   "execution_count": 11,
   "metadata": {
    "dotnet_interactive": {
     "language": "csharp"
    },
    "polyglot_notebook": {
     "kernelName": "csharp"
    },
    "vscode": {
     "languageId": "polyglot-notebook"
    }
   },
   "outputs": [],
   "source": [
    "using System.Diagnostics;\n",
    "\n",
    "Process.Start(\"notepad.exe\", \"f:\\\\output.txt\");"
   ]
  },
  {
   "cell_type": "markdown",
   "metadata": {},
   "source": [
    "The ***most flexible overload*** accepts a `ProcessStartInfo` instance. With this, you can **capture** and **redirect** the launched process’s `input`, `output`, and `error output`"
   ]
  },
  {
   "cell_type": "code",
   "execution_count": 13,
   "metadata": {
    "dotnet_interactive": {
     "language": "csharp"
    },
    "polyglot_notebook": {
     "kernelName": "csharp"
    },
    "vscode": {
     "languageId": "polyglot-notebook"
    }
   },
   "outputs": [
    {
     "ename": "Error",
     "evalue": "System.InvalidOperationException: The Process object must have the UseShellExecute property set to false in order to redirect IO streams.\r\n   at System.Diagnostics.Process.StartWithShellExecuteEx(ProcessStartInfo startInfo)\r\n   at System.Diagnostics.Process.Start(ProcessStartInfo startInfo)\r\n   at Submission#14.<<Initialize>>d__0.MoveNext()\r\n--- End of stack trace from previous location ---\r\n   at Microsoft.CodeAnalysis.Scripting.ScriptExecutionState.RunSubmissionsAsync[TResult](ImmutableArray`1 precedingExecutors, Func`2 currentExecutor, StrongBox`1 exceptionHolderOpt, Func`2 catchExceptionOpt, CancellationToken cancellationToken)",
     "output_type": "error",
     "traceback": [
      "System.InvalidOperationException: The Process object must have the UseShellExecute property set to false in order to redirect IO streams.\r\n",
      "   at System.Diagnostics.Process.StartWithShellExecuteEx(ProcessStartInfo startInfo)\r\n",
      "   at System.Diagnostics.Process.Start(ProcessStartInfo startInfo)\r\n",
      "   at Submission#14.<<Initialize>>d__0.MoveNext()\r\n",
      "--- End of stack trace from previous location ---\r\n",
      "   at Microsoft.CodeAnalysis.Scripting.ScriptExecutionState.RunSubmissionsAsync[TResult](ImmutableArray`1 precedingExecutors, Func`2 currentExecutor, StrongBox`1 exceptionHolderOpt, Func`2 catchExceptionOpt, CancellationToken cancellationToken)"
     ]
    }
   ],
   "source": [
    "using System.Diagnostics;\n",
    "\n",
    "ProcessStartInfo psi = new ProcessStartInfo\n",
    "{\n",
    "    FileName = \"cmd.exe\",\n",
    "    Arguments = \"/c ipconfig /all\",\n",
    "    RedirectStandardOutput = true,\n",
    "    UseShellExecute = false // مانع از اجرای برنامه توسط شل سیستم عامل\n",
    "};\n",
    "Process p = Process.Start(psi);\n",
    "string result = p.StandardOutput.ReadToEnd();\n",
    "Console.WriteLine(result);\n"
   ]
  },
  {
   "cell_type": "markdown",
   "metadata": {},
   "source": [
    "If you ***don’t redirect output***, `Process.Start` executes the program in `parallel` to the caller.  \n",
    "If you want to `wait for the new process to complete`, you can call `WaitForExit`\n",
    "on the Process object, ***with an optional timeout***."
   ]
  },
  {
   "cell_type": "code",
   "execution_count": 14,
   "metadata": {
    "dotnet_interactive": {
     "language": "csharp"
    },
    "polyglot_notebook": {
     "kernelName": "csharp"
    },
    "vscode": {
     "languageId": "polyglot-notebook"
    }
   },
   "outputs": [
    {
     "name": "stdout",
     "output_type": "stream",
     "text": [
      "Notepad has exited.\r\n"
     ]
    }
   ],
   "source": [
    "using System.Diagnostics;\n",
    "\n",
    "Process p = Process.Start(\"notepad.exe\");\n",
    "p.WaitForExit();\n",
    "Console.WriteLine(\"Notepad has exited.\");"
   ]
  },
  {
   "cell_type": "markdown",
   "metadata": {},
   "source": [
    "#### Redirecting output and error streams"
   ]
  },
  {
   "cell_type": "markdown",
   "metadata": {},
   "source": [
    "<div dir=\"rtl\" style=\"margin:auto; width:90%; font-family:vazirmatn\">\n",
    "<p>در صورتی که <code>UseShellExecute</code> برابر با <code>false</code> باشد (که به طور پیش‌فرض در .NET چنین است)، می‌توانید جریان‌های ورودی، خروجی و خطای استاندارد را گرفته و سپس از طریق ویژگی‌های <code>StandardInput</code>، <code>StandardOutput</code> و <code>StandardError</code> به این جریان‌ها دسترسی داشته باشید.</p>\n",
    "</div>"
   ]
  },
  {
   "cell_type": "code",
   "execution_count": 15,
   "metadata": {
    "dotnet_interactive": {
     "language": "csharp"
    },
    "polyglot_notebook": {
     "kernelName": "csharp"
    },
    "vscode": {
     "languageId": "polyglot-notebook"
    }
   },
   "outputs": [
    {
     "name": "stdout",
     "output_type": "stream",
     "text": [
      "Output:\n",
      "\n",
      "Windows IP Configuration\n",
      "\n",
      "   Host Name . . . . . . . . . . . . : DESKTOP-8ELDOAG\n",
      "   Primary Dns Suffix  . . . . . . . : \n",
      "   Node Type . . . . . . . . . . . . : Hybrid\n",
      "   IP Routing Enabled. . . . . . . . : No\n",
      "   WINS Proxy Enabled. . . . . . . . : No\n",
      "\n",
      "Unknown adapter Local Area Connection:\n",
      "\n",
      "   Media State . . . . . . . . . . . : Media disconnected\n",
      "   Connection-specific DNS Suffix  . : \n",
      "   Description . . . . . . . . . . . : TAP-Windows Adapter V9 for OpenVPN Connect\n",
      "   Physical Address. . . . . . . . . : 00-FF-BD-FB-D2-13\n",
      "   DHCP Enabled. . . . . . . . . . . : No\n",
      "   Autoconfiguration Enabled . . . . : Yes\n",
      "\n",
      "Unknown adapter Local Area Connection 2:\n",
      "\n",
      "   Media State . . . . . . . . . . . : Media disconnected\n",
      "   Connection-specific DNS Suffix  . : \n",
      "   Description . . . . . . . . . . . : TAP-Windows Adapter V9\n",
      "   Physical Address. . . . . . . . . : 00-FF-A6-0E-20-37\n",
      "   DHCP Enabled. . . . . . . . . . . : Yes\n",
      "   Autoconfiguration Enabled . . . . : Yes\n",
      "\n",
      "Unknown adapter OpenVPN Data Channel Offload:\n",
      "\n",
      "   Media State . . . . . . . . . . . : Media disconnected\n",
      "   Connection-specific DNS Suffix  . : \n",
      "   Description . . . . . . . . . . . : OpenVPN Data Channel Offload\n",
      "   Physical Address. . . . . . . . . : \n",
      "   DHCP Enabled. . . . . . . . . . . : Yes\n",
      "   Autoconfiguration Enabled . . . . : Yes\n",
      "\n",
      "Ethernet adapter Ethernet:\n",
      "\n",
      "   Connection-specific DNS Suffix  . : \n",
      "   Description . . . . . . . . . . . : Intel(R) 82579LM Gigabit Network Connection\n",
      "   Physical Address. . . . . . . . . : 24-BE-05-03-56-89\n",
      "   DHCP Enabled. . . . . . . . . . . : Yes\n",
      "   Autoconfiguration Enabled . . . . : Yes\n",
      "   IPv4 Address. . . . . . . . . . . : 192.168.1.51(Preferred) \n",
      "   Subnet Mask . . . . . . . . . . . : 255.255.255.0\n",
      "   Lease Obtained. . . . . . . . . . : Wednesday, July 17, 2024 1:20:49 PM\n",
      "   Lease Expires . . . . . . . . . . : Friday, July 19, 2024 5:01:27 AM\n",
      "   Default Gateway . . . . . . . . . : 192.168.1.1\n",
      "   DHCP Server . . . . . . . . . . . : 192.168.1.1\n",
      "   DNS Servers . . . . . . . . . . . : 178.22.122.100\n",
      "                                       10.202.10.102\n",
      "   NetBIOS over Tcpip. . . . . . . . : Enabled\n",
      "\n",
      "Ethernet adapter vEthernet (nat):\n",
      "\n",
      "   Connection-specific DNS Suffix  . : \n",
      "   Description . . . . . . . . . . . : Hyper-V Virtual Ethernet Adapter\n",
      "   Physical Address. . . . . . . . . : 00-15-5D-2C-56-D1\n",
      "   DHCP Enabled. . . . . . . . . . . : No\n",
      "   Autoconfiguration Enabled . . . . : Yes\n",
      "   Link-local IPv6 Address . . . . . : fe80::46e2:a1c2:15a:be14%12(Preferred) \n",
      "   IPv4 Address. . . . . . . . . . . : 172.29.80.1(Preferred) \n",
      "   Subnet Mask . . . . . . . . . . . : 255.255.240.0\n",
      "   Default Gateway . . . . . . . . . : \n",
      "   DHCPv6 IAID . . . . . . . . . . . : 201332061\n",
      "   DHCPv6 Client DUID. . . . . . . . : 00-01-00-01-2A-B1-46-18-24-BE-05-03-56-89\n",
      "   NetBIOS over Tcpip. . . . . . . . : Enabled\n",
      "\n",
      "Ethernet adapter Ethernet 4:\n",
      "\n",
      "   Media State . . . . . . . . . . . : Media disconnected\n",
      "   Connection-specific DNS Suffix  . : \n",
      "   Description . . . . . . . . . . . : Kerio Virtual Network Adapter\n",
      "   Physical Address. . . . . . . . . : 44-45-53-54-4F-53\n",
      "   DHCP Enabled. . . . . . . . . . . : Yes\n",
      "   Autoconfiguration Enabled . . . . : Yes\n",
      "\n",
      "Errors:\n",
      "\n",
      "Output:\n",
      "\n",
      "Errors:\n",
      "'ipcon' is not recognized as an internal or external command,\n",
      "operable program or batch file.\n",
      "\n"
     ]
    }
   ],
   "source": [
    "using System;\n",
    "using System.Diagnostics;\n",
    "using System.Text;\n",
    "\n",
    "(string output, string errors) Run(string exePath, string args = \"\")\n",
    "{\n",
    "    using var p = Process.Start(new ProcessStartInfo(exePath, args)\n",
    "    {\n",
    "        RedirectStandardOutput = true,\n",
    "        RedirectStandardError = true,\n",
    "        UseShellExecute = false,\n",
    "    });\n",
    "\n",
    "    var errors = new StringBuilder();\n",
    "\n",
    "    // خواندن جریان خطا به صورت غیرهمزمان\n",
    "    p.ErrorDataReceived += (sender, errorArgs) =>\n",
    "    {\n",
    "        if (errorArgs.Data != null) errors.AppendLine(errorArgs.Data);\n",
    "    };\n",
    "    p.BeginErrorReadLine();\n",
    "\n",
    "    // خواندن جریان خروجی به صورت همزمان\n",
    "    string output = p.StandardOutput.ReadToEnd();\n",
    "    \n",
    "    p.WaitForExit();\n",
    "\n",
    "    return (output, errors.ToString());\n",
    "}\n",
    "\n",
    "// استفاده از متد\n",
    "var result = Run(\"cmd.exe\", \"/c ipconfig /all\");\n",
    "Console.WriteLine(\"Output:\");\n",
    "Console.WriteLine(result.output);\n",
    "Console.WriteLine(\"Errors:\");\n",
    "Console.WriteLine(result.errors);\n",
    "\n",
    "var result1 = Run(\"cmd.exe\", \"/c ipcon /all\");\n",
    "Console.WriteLine(\"Output:\");\n",
    "Console.WriteLine(result1.output);\n",
    "Console.WriteLine(\"Errors:\");\n",
    "Console.WriteLine(result1.errors);"
   ]
  },
  {
   "cell_type": "markdown",
   "metadata": {},
   "source": [
    "#### UseShellExecute"
   ]
  },
  {
   "cell_type": "markdown",
   "metadata": {},
   "source": [
    "<div dir=\"rtl\" style=\"margin:auto; width:90%; font-family:vazirmatn\">\n",
    "<h5><code>UseShellExecute</code> Flag</h5>\n",
    "\n",
    "<p>پرچم <code>UseShellExecute</code> نحوه‌ی راه‌اندازی فرآیندها توسط CLR را تغییر می‌دهد. تنظیم این پرچم به <code>true</code> یا <code>false</code> رفتار متفاوتی در پی دارد:</p>\n",
    "\n",
    "<p><strong>زمانی که <code>UseShellExecute</code> برابر با <code>true</code> است:</strong></p>\n",
    "\n",
    "<ul>\n",
    "<li><p><strong>باز کردن فایل‌ها یا اسناد:</strong></p>\n",
    "<p>می‌توانید مسیری به یک فایل یا سند مشخص کنید و سیستم عامل آن فایل یا سند را با برنامه مرتبطش باز کند.</p>\n",
    "</li>\n",
    "</ul>\n",
    "</div>"
   ]
  },
  {
   "cell_type": "code",
   "execution_count": 18,
   "metadata": {
    "dotnet_interactive": {
     "language": "csharp"
    },
    "polyglot_notebook": {
     "kernelName": "csharp"
    },
    "vscode": {
     "languageId": "polyglot-notebook"
    }
   },
   "outputs": [
    {
     "ename": "Error",
     "evalue": "System.ComponentModel.Win32Exception (193): An error occurred trying to start process 'f:\\output.txt' with working directory 'f:\\Learning\\C#\\C# in a Nutshell\\Sources\\Chapter6. .NET Fundamentals'. The specified executable is not a valid application for this OS platform.\r\n   at System.Diagnostics.Process.StartWithCreateProcess(ProcessStartInfo startInfo)\r\n   at System.Diagnostics.Process.Start(ProcessStartInfo startInfo)\r\n   at Submission#19.<<Initialize>>d__0.MoveNext()\r\n--- End of stack trace from previous location ---\r\n   at Microsoft.CodeAnalysis.Scripting.ScriptExecutionState.RunSubmissionsAsync[TResult](ImmutableArray`1 precedingExecutors, Func`2 currentExecutor, StrongBox`1 exceptionHolderOpt, Func`2 catchExceptionOpt, CancellationToken cancellationToken)",
     "output_type": "error",
     "traceback": [
      "System.ComponentModel.Win32Exception (193): An error occurred trying to start process 'f:\\output.txt' with working directory 'f:\\Learning\\C#\\C# in a Nutshell\\Sources\\Chapter6. .NET Fundamentals'. The specified executable is not a valid application for this OS platform.\r\n",
      "   at System.Diagnostics.Process.StartWithCreateProcess(ProcessStartInfo startInfo)\r\n",
      "   at System.Diagnostics.Process.Start(ProcessStartInfo startInfo)\r\n",
      "   at Submission#19.<<Initialize>>d__0.MoveNext()\r\n",
      "--- End of stack trace from previous location ---\r\n",
      "   at Microsoft.CodeAnalysis.Scripting.ScriptExecutionState.RunSubmissionsAsync[TResult](ImmutableArray`1 precedingExecutors, Func`2 currentExecutor, StrongBox`1 exceptionHolderOpt, Func`2 catchExceptionOpt, CancellationToken cancellationToken)"
     ]
    }
   ],
   "source": [
    "Process.Start(\"f:\\\\output.txt\"); // باز کردن فایل متنی با برنامه مرتبط"
   ]
  },
  {
   "cell_type": "markdown",
   "metadata": {},
   "source": [
    "<div dir=\"rtl\" style=\"margin:auto; width:90%; font-family:vazirmatn\">\n",
    "<ul>\n",
    "<li><p><strong>مشخص کردن URL:</strong></p>\n",
    "<p>می‌توانید یک URL مشخص کنید و سیستم عامل آن را در مرورگر وب پیش‌فرض باز کند.</p>\n",
    "</li>\n",
    "</ul>\n",
    "</div>"
   ]
  },
  {
   "cell_type": "code",
   "execution_count": 19,
   "metadata": {
    "dotnet_interactive": {
     "language": "csharp"
    },
    "polyglot_notebook": {
     "kernelName": "csharp"
    },
    "vscode": {
     "languageId": "polyglot-notebook"
    }
   },
   "outputs": [
    {
     "ename": "Error",
     "evalue": "System.ComponentModel.Win32Exception (2): An error occurred trying to start process 'https://www.example.com' with working directory 'f:\\Learning\\C#\\C# in a Nutshell\\Sources\\Chapter6. .NET Fundamentals'. The system cannot find the file specified.\r\n   at System.Diagnostics.Process.StartWithCreateProcess(ProcessStartInfo startInfo)\r\n   at System.Diagnostics.Process.Start(ProcessStartInfo startInfo)\r\n   at Submission#20.<<Initialize>>d__0.MoveNext()\r\n--- End of stack trace from previous location ---\r\n   at Microsoft.CodeAnalysis.Scripting.ScriptExecutionState.RunSubmissionsAsync[TResult](ImmutableArray`1 precedingExecutors, Func`2 currentExecutor, StrongBox`1 exceptionHolderOpt, Func`2 catchExceptionOpt, CancellationToken cancellationToken)",
     "output_type": "error",
     "traceback": [
      "System.ComponentModel.Win32Exception (2): An error occurred trying to start process 'https://www.example.com' with working directory 'f:\\Learning\\C#\\C# in a Nutshell\\Sources\\Chapter6. .NET Fundamentals'. The system cannot find the file specified.\r\n",
      "   at System.Diagnostics.Process.StartWithCreateProcess(ProcessStartInfo startInfo)\r\n",
      "   at System.Diagnostics.Process.Start(ProcessStartInfo startInfo)\r\n",
      "   at Submission#20.<<Initialize>>d__0.MoveNext()\r\n",
      "--- End of stack trace from previous location ---\r\n",
      "   at Microsoft.CodeAnalysis.Scripting.ScriptExecutionState.RunSubmissionsAsync[TResult](ImmutableArray`1 precedingExecutors, Func`2 currentExecutor, StrongBox`1 exceptionHolderOpt, Func`2 catchExceptionOpt, CancellationToken cancellationToken)"
     ]
    }
   ],
   "source": [
    "Process.Start(\"https://www.example.com\"); // باز کردن URL در مرورگر وب پیش‌فرض"
   ]
  },
  {
   "cell_type": "markdown",
   "metadata": {},
   "source": [
    "<div dir=\"rtl\" style=\"margin:auto; width:90%; font-family:vazirmatn\">\n",
    "<ul>\n",
    "<li><p><strong>مشخص کردن Verb (فقط در ویندوز):</strong></p>\n",
    "<p>می‌توانید یک Verb مانند \"runas\" را مشخص کنید تا فرآیند با دسترسی‌های مدیر (administrative elevation) اجرا شود.</p>\n",
    "</li>\n",
    "</ul>\n",
    "</div>"
   ]
  },
  {
   "cell_type": "code",
   "execution_count": 20,
   "metadata": {
    "dotnet_interactive": {
     "language": "csharp"
    },
    "polyglot_notebook": {
     "kernelName": "csharp"
    },
    "vscode": {
     "languageId": "polyglot-notebook"
    }
   },
   "outputs": [],
   "source": [
    "ProcessStartInfo psi = new ProcessStartInfo(\"notepad.exe\")\n",
    "{\n",
    "    Verb = \"runas\"\n",
    "};\n",
    "Process.Start(psi); // اجرا کردن Notepad با دسترسی‌های مدیر"
   ]
  },
  {
   "cell_type": "markdown",
   "metadata": {},
   "source": [
    "<div dir=\"rtl\" style=\"margin:auto; width:90%; font-family:vazirmatn\">\n",
    "<p><strong>زمانی که <code>UseShellExecute</code> برابر با <code>false</code> است:</strong></p>\n",
    "\n",
    "<strong>هدایت جریان‌های ورودی و خروجی:</strong>\n",
    "<li>می‌توانید جریان‌های ورودی، خروجی و خطای فرآیند را هدایت کنید.</li>\n",
    "<li>با این حال، نمی‌توانید از امکاناتی مانند باز کردن فایل‌ها، اسناد یا URLها به طور مستقیم استفاده کنید.</li>\n",
    "</div>"
   ]
  },
  {
   "cell_type": "markdown",
   "metadata": {},
   "source": [
    "### AppContext"
   ]
  },
  {
   "cell_type": "markdown",
   "metadata": {},
   "source": [
    "The static `System.AppContext` class exposes two useful properties  \n",
    "- `BaseDirectory` ***returns*** the folder in which the `application started`. This folder is **important** for `assembly resolution` (**finding and loading dependencies**) and locating `configuration files` (such as `appsettings.json`).  \n",
    "  \n",
    "- `TargetFrameworkName` tells you the **name** and **version** of the `.NET runtime` that the application targets (as specified in its .runtimeconfig.json file). This might be older than the runtime actually in use."
   ]
  },
  {
   "cell_type": "markdown",
   "metadata": {},
   "source": [
    "In addition, the ***AppContext*** class manages a `global string-keyed dictionary` of\n",
    "***Boolean values***, intended to offer **library writers** a standard mechanism for allowing **consumers** to `switch new features on or off`."
   ]
  },
  {
   "cell_type": "markdown",
   "metadata": {},
   "source": [
    "<div dir=\"rtl\" style=\"margin:auto; width:90%; font-family:vazirmatn\">\n",
    "<p>فرض کنید شما یک کتابخانه دارید که عملیات ثبت (logging) را انجام می‌دهد. شما می‌خواهید یک قابلیت جدید اضافه کنید که اطلاعات بیشتری را در لاگ‌ها ثبت می‌کند، اما این قابلیت جدید ممکن است برای همه کاربران مناسب نباشد یا ممکن است هنوز در حال آزمایش باشد. به همین دلیل، می‌خواهید این قابلیت را به صورت اختیاری فعال کنید.</p>\n",
    "</div>"
   ]
  },
  {
   "cell_type": "code",
   "execution_count": null,
   "metadata": {
    "dotnet_interactive": {
     "language": "csharp"
    },
    "polyglot_notebook": {
     "kernelName": "csharp"
    },
    "vscode": {
     "languageId": "polyglot-notebook"
    }
   },
   "outputs": [],
   "source": [
    "public static class Logger\n",
    "{\n",
    "    public static void Log(string message)\n",
    "    {\n",
    "        bool isDefined, verboseLogging;\n",
    "        isDefined = AppContext.TryGetSwitch(\"MyLibrary.VerboseLogging\", out verboseLogging);\n",
    "\n",
    "        if (isDefined && verboseLogging)\n",
    "        {\n",
    "            // ثبت لاگ با جزئیات بیشتر\n",
    "            Console.WriteLine($\"[VERBOSE LOG] {DateTime.Now}: {message}\");\n",
    "        }\n",
    "        else\n",
    "        {\n",
    "            // ثبت لاگ ساده\n",
    "            Console.WriteLine($\"[LOG] {DateTime.Now}: {message}\");\n",
    "        }\n",
    "    }\n",
    "}\n",
    "\n",
    "class Program\n",
    "{\n",
    "    static void Main()\n",
    "    {\n",
    "        // فعال کردن قابلیت ثبت لاگ با جزئیات بیشتر\n",
    "        AppContext.SetSwitch(\"MyLibrary.VerboseLogging\", true);\n",
    "\n",
    "        Logger.Log(\"This is a log message with verbose logging enabled.\");\n",
    "\n",
    "        // غیرفعال کردن قابلیت ثبت لاگ با جزئیات بیشتر\n",
    "        AppContext.SetSwitch(\"MyLibrary.VerboseLogging\", false);\n",
    "\n",
    "        Logger.Log(\"This is a log message with verbose logging disabled.\");\n",
    "    }\n",
    "}\n",
    "\n"
   ]
  }
 ],
 "metadata": {
  "kernelspec": {
   "display_name": ".NET (C#)",
   "language": "C#",
   "name": ".net-csharp"
  },
  "language_info": {
   "name": "python"
  },
  "polyglot_notebook": {
   "kernelInfo": {
    "defaultKernelName": "csharp",
    "items": [
     {
      "aliases": [],
      "name": "csharp"
     }
    ]
   }
  }
 },
 "nbformat": 4,
 "nbformat_minor": 2
}
