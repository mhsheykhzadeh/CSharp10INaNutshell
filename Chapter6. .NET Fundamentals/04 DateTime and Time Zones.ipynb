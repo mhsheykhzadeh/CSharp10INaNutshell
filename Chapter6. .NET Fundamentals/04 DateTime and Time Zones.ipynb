{
 "cells": [
  {
   "cell_type": "markdown",
   "metadata": {},
   "source": [
    "`DateTime` store two pieces of information  \n",
    "- A `62-bit` number, indicating the number of `ticks` **since 1/1/0001**\n",
    "- A `2-bit` enum, indicating the `DateTimeKind` (Unspecified, Local, or Utc)\n",
    "\n",
    "When you **compare** two `DateTime` instances, ***only*** their `ticks` values are compared, their **DateTimeKinds** are `ignored`"
   ]
  },
  {
   "cell_type": "code",
   "execution_count": 1,
   "metadata": {
    "dotnet_interactive": {
     "language": "csharp"
    },
    "polyglot_notebook": {
     "kernelName": "csharp"
    },
    "vscode": {
     "languageId": "polyglot-notebook"
    }
   },
   "outputs": [
    {
     "name": "stdout",
     "output_type": "stream",
     "text": [
      "True\n",
      "False\n"
     ]
    }
   ],
   "source": [
    "DateTime dt1 = new DateTime (2000, 1, 1, 10, 20, 30, DateTimeKind.Local);\n",
    "DateTime dt2 = new DateTime (2000, 1, 1, 10, 20, 30, DateTimeKind.Utc);\n",
    "Console.WriteLine (dt1 == dt2); // True\n",
    "\n",
    "DateTime local = DateTime.Now;\n",
    "DateTime utc = local.ToUniversalTime();\n",
    "Console.WriteLine (local == utc); // False"
   ]
  },
  {
   "cell_type": "markdown",
   "metadata": {},
   "source": [
    "`ToUniversalTime`/`ToLocalTime` apply the computer’s current `time zone settings` and return a new DateTime with a ***DateTimeKind*** of ***Utc*** or Local."
   ]
  },
  {
   "cell_type": "code",
   "execution_count": 10,
   "metadata": {
    "dotnet_interactive": {
     "language": "csharp"
    },
    "polyglot_notebook": {
     "kernelName": "csharp"
    },
    "vscode": {
     "languageId": "polyglot-notebook"
    }
   },
   "outputs": [
    {
     "name": "stdout",
     "output_type": "stream",
     "text": [
      "Unspecified\n",
      "12/11/2015 8:30:00 PM\n",
      "12/12/2015 12:00:00 AM\n",
      "Utc\n"
     ]
    }
   ],
   "source": [
    "//You can construct a DateTime that differs from another only in Kind with the static\n",
    "//DateTime.SpecifyKind method\n",
    "\n",
    "DateTime d = new DateTime (2015, 12, 12); // Unspecified\n",
    "Console.WriteLine(d.Kind);\n",
    "Console.WriteLine(d.ToUniversalTime());\n",
    "\n",
    "DateTime utc = DateTime.SpecifyKind (d, DateTimeKind.Utc);\n",
    "Console.WriteLine (utc); // 12/12/2015 12:00:00 AM\n",
    "Console.WriteLine(utc.Kind)\n"
   ]
  },
  {
   "cell_type": "markdown",
   "metadata": {},
   "source": [
    "### DateTimeOffset and Time Zones"
   ]
  },
  {
   "cell_type": "markdown",
   "metadata": {},
   "source": [
    "***DateTimeOffset*** have a DateTime field whose value is ***always*** in `UTC`, and a `16-bit` integer field for the `UTC offset in minutes`. Comparisons look **only** at the `(UTC) DateTime`; the ***Offset*** is used primarily for `formatting`"
   ]
  },
  {
   "cell_type": "markdown",
   "metadata": {},
   "source": [
    "`ToUniversalTime`/`ToLocalTime` methods return a ***DateTimeOffset*** representing the `same point in time` but with a `UTC` or `local` **offset**"
   ]
  },
  {
   "cell_type": "code",
   "execution_count": 11,
   "metadata": {
    "dotnet_interactive": {
     "language": "csharp"
    },
    "polyglot_notebook": {
     "kernelName": "csharp"
    },
    "vscode": {
     "languageId": "polyglot-notebook"
    }
   },
   "outputs": [
    {
     "name": "stdout",
     "output_type": "stream",
     "text": [
      "03:30:00\n",
      "00:00:00\n",
      "True\n"
     ]
    }
   ],
   "source": [
    "DateTimeOffset local = DateTimeOffset.Now;\n",
    "DateTimeOffset utc = local.ToUniversalTime();\n",
    "\n",
    "Console.WriteLine (local.Offset); \n",
    "Console.WriteLine (utc.Offset); \n",
    "\n",
    "Console.WriteLine (local == utc); // True"
   ]
  },
  {
   "cell_type": "markdown",
   "metadata": {},
   "source": [
    "### TimeZoneInfo"
   ]
  },
  {
   "cell_type": "markdown",
   "metadata": {},
   "source": [
    "The `TimeZoneInfo` class provides information on ***time zone names***, ***UTC offsets***, and ***Daylight Saving Time*** rules"
   ]
  },
  {
   "cell_type": "markdown",
   "metadata": {},
   "source": [
    "<div dir=\"rtl\" style=\"margin:auto; width:90%; font-family:vazirmatn\">\n",
    "در مدیریت زمان، منظور از <code>Daylight Saving Time (DST)</code> تغییر ساعت فصلی است که در بسیاری از کشورها اعمال می‌شود. هدف از این تغییر، استفاده بهینه‌تر از نور روز است. در این تغییر، معمولاً در فصل بهار ساعت‌ها یک ساعت به جلو برده می‌شوند و در پاییز یک ساعت به عقب برگردانده می‌شوند.\n",
    "</div>"
   ]
  },
  {
   "cell_type": "markdown",
   "metadata": {},
   "source": [
    "#### TimeZone"
   ]
  },
  {
   "cell_type": "code",
   "execution_count": 17,
   "metadata": {
    "dotnet_interactive": {
     "language": "csharp"
    },
    "polyglot_notebook": {
     "kernelName": "csharp"
    },
    "vscode": {
     "languageId": "polyglot-notebook"
    }
   },
   "outputs": [
    {
     "name": "stdout",
     "output_type": "stream",
     "text": [
      "Iran Standard Time\n",
      "Iran Standard Time\n",
      "January 1\n",
      "January 1\n",
      "00:00:00\n"
     ]
    }
   ],
   "source": [
    "using System.Globalization;\n",
    "\n",
    "TimeZone zone = TimeZone.CurrentTimeZone;\n",
    "Console.WriteLine (zone.StandardName); \n",
    "Console.WriteLine (zone.DaylightName); \n",
    "\n",
    "//The GetDaylightChanges method returns specific Daylight Saving Time information\n",
    "//for a given year\n",
    "\n",
    "DaylightTime day = zone.GetDaylightChanges (2020);\n",
    "Console.WriteLine (day.Start.ToString (\"M\")); \n",
    "Console.WriteLine (day.End.ToString (\"M\")); \n",
    "Console.WriteLine (day.Delta);"
   ]
  },
  {
   "cell_type": "markdown",
   "metadata": {},
   "source": [
    "#### TimeZoneInfo"
   ]
  },
  {
   "cell_type": "code",
   "execution_count": 21,
   "metadata": {
    "dotnet_interactive": {
     "language": "csharp"
    },
    "polyglot_notebook": {
     "kernelName": "csharp"
    },
    "vscode": {
     "languageId": "polyglot-notebook"
    }
   },
   "outputs": [
    {
     "name": "stdout",
     "output_type": "stream",
     "text": [
      "Iran Standard Time\n",
      "Iran Standard Time\n",
      "Iran Standard Time\n",
      "False\n",
      "False\n",
      "03:30:00\n",
      "03:30:00\n",
      "W. Australia Standard Time\n",
      "(UTC+08:00) Perth\n",
      "08:00:00\n",
      "True\n"
     ]
    }
   ],
   "source": [
    "TimeZoneInfo zone = TimeZoneInfo.Local;\n",
    "Console.WriteLine(zone.Id);\n",
    "Console.WriteLine (zone.StandardName); \n",
    "Console.WriteLine (zone.DaylightName);\n",
    "\n",
    "DateTime dt1 = new DateTime (2019, 1, 1); \n",
    "DateTime dt2 = new DateTime (2024, 6, 1);\n",
    "Console.WriteLine (zone.IsDaylightSavingTime (dt1)); \n",
    "Console.WriteLine (zone.IsDaylightSavingTime (dt2)); \n",
    "Console.WriteLine (zone.GetUtcOffset (dt1)); \n",
    "Console.WriteLine (zone.GetUtcOffset (dt2)); \n",
    "\n",
    "//You can obtain a TimeZoneInfo for any of the world’s time zones by calling Find\n",
    "//SystemTimeZoneById with the zone ID.\n",
    "\n",
    "TimeZoneInfo wa = TimeZoneInfo.FindSystemTimeZoneById\n",
    "(\"W. Australia Standard Time\");\n",
    "Console.WriteLine (wa.Id); // W. Australia Standard Time\n",
    "Console.WriteLine (wa.DisplayName); // (GMT+08:00) Perth\n",
    "Console.WriteLine (wa.BaseUtcOffset); // 08:00:00\n",
    "Console.WriteLine (wa.SupportsDaylightSavingTime); // True"
   ]
  },
  {
   "cell_type": "code",
   "execution_count": 1,
   "metadata": {
    "dotnet_interactive": {
     "language": "csharp"
    },
    "polyglot_notebook": {
     "kernelName": "csharp"
    },
    "vscode": {
     "languageId": "polyglot-notebook"
    }
   },
   "outputs": [
    {
     "name": "stdout",
     "output_type": "stream",
     "text": [
      "Dateline Standard Time\n",
      "UTC-11\n",
      "Aleutian Standard Time\n",
      "Hawaiian Standard Time\n",
      "Marquesas Standard Time\n",
      "Alaskan Standard Time\n",
      "UTC-09\n",
      "Pacific Standard Time (Mexico)\n",
      "UTC-08\n",
      "Pacific Standard Time\n",
      "US Mountain Standard Time\n",
      "Mountain Standard Time (Mexico)\n",
      "Mountain Standard Time\n",
      "Yukon Standard Time\n",
      "Central America Standard Time\n",
      "Central Standard Time\n",
      "Easter Island Standard Time\n",
      "Central Standard Time (Mexico)\n",
      "Canada Central Standard Time\n",
      "SA Pacific Standard Time\n",
      "Eastern Standard Time (Mexico)\n",
      "Eastern Standard Time\n",
      "Haiti Standard Time\n",
      "Cuba Standard Time\n",
      "US Eastern Standard Time\n",
      "Turks And Caicos Standard Time\n",
      "Paraguay Standard Time\n",
      "Atlantic Standard Time\n",
      "Venezuela Standard Time\n",
      "Central Brazilian Standard Time\n",
      "SA Western Standard Time\n",
      "Pacific SA Standard Time\n",
      "Newfoundland Standard Time\n",
      "Tocantins Standard Time\n",
      "E. South America Standard Time\n",
      "SA Eastern Standard Time\n",
      "Argentina Standard Time\n",
      "Montevideo Standard Time\n",
      "Magallanes Standard Time\n",
      "Saint Pierre Standard Time\n",
      "Bahia Standard Time\n",
      "UTC-02\n",
      "Greenland Standard Time\n",
      "Mid-Atlantic Standard Time\n",
      "Azores Standard Time\n",
      "Cape Verde Standard Time\n",
      "UTC\n",
      "GMT Standard Time\n",
      "Greenwich Standard Time\n",
      "Sao Tome Standard Time\n",
      "Morocco Standard Time\n",
      "W. Europe Standard Time\n",
      "Central Europe Standard Time\n",
      "Romance Standard Time\n",
      "Central European Standard Time\n",
      "W. Central Africa Standard Time\n",
      "GTB Standard Time\n",
      "Middle East Standard Time\n",
      "Egypt Standard Time\n",
      "E. Europe Standard Time\n",
      "Syria Standard Time\n",
      "West Bank Standard Time\n",
      "South Africa Standard Time\n",
      "FLE Standard Time\n",
      "Israel Standard Time\n",
      "South Sudan Standard Time\n",
      "Kaliningrad Standard Time\n",
      "Sudan Standard Time\n",
      "Libya Standard Time\n",
      "Namibia Standard Time\n",
      "Jordan Standard Time\n",
      "Arabic Standard Time\n",
      "Turkey Standard Time\n",
      "Arab Standard Time\n",
      "Belarus Standard Time\n",
      "Russian Standard Time\n",
      "E. Africa Standard Time\n",
      "Volgograd Standard Time\n",
      "Iran Standard Time\n",
      "Arabian Standard Time\n",
      "Astrakhan Standard Time\n",
      "Azerbaijan Standard Time\n",
      "Russia Time Zone 3\n",
      "Mauritius Standard Time\n",
      "Saratov Standard Time\n",
      "Georgian Standard Time\n",
      "Caucasus Standard Time\n",
      "Afghanistan Standard Time\n",
      "West Asia Standard Time\n",
      "Ekaterinburg Standard Time\n",
      "Pakistan Standard Time\n",
      "Qyzylorda Standard Time\n",
      "India Standard Time\n",
      "Sri Lanka Standard Time\n",
      "Nepal Standard Time\n",
      "Central Asia Standard Time\n",
      "Bangladesh Standard Time\n",
      "Omsk Standard Time\n",
      "Myanmar Standard Time\n",
      "SE Asia Standard Time\n",
      "Altai Standard Time\n",
      "W. Mongolia Standard Time\n",
      "North Asia Standard Time\n",
      "N. Central Asia Standard Time\n",
      "Tomsk Standard Time\n",
      "China Standard Time\n",
      "North Asia East Standard Time\n",
      "Singapore Standard Time\n",
      "W. Australia Standard Time\n",
      "Taipei Standard Time\n",
      "Ulaanbaatar Standard Time\n",
      "Aus Central W. Standard Time\n",
      "Transbaikal Standard Time\n",
      "Tokyo Standard Time\n",
      "North Korea Standard Time\n",
      "Korea Standard Time\n",
      "Yakutsk Standard Time\n",
      "Cen. Australia Standard Time\n",
      "AUS Central Standard Time\n",
      "E. Australia Standard Time\n",
      "AUS Eastern Standard Time\n",
      "West Pacific Standard Time\n",
      "Tasmania Standard Time\n",
      "Vladivostok Standard Time\n",
      "Lord Howe Standard Time\n",
      "Bougainville Standard Time\n",
      "Russia Time Zone 10\n",
      "Magadan Standard Time\n",
      "Norfolk Standard Time\n",
      "Sakhalin Standard Time\n",
      "Central Pacific Standard Time\n",
      "Russia Time Zone 11\n",
      "New Zealand Standard Time\n",
      "UTC+12\n",
      "Fiji Standard Time\n",
      "Kamchatka Standard Time\n",
      "Chatham Islands Standard Time\n",
      "UTC+13\n",
      "Tonga Standard Time\n",
      "Samoa Standard Time\n",
      "Line Islands Standard Time\n"
     ]
    }
   ],
   "source": [
    "foreach (TimeZoneInfo z in TimeZoneInfo.GetSystemTimeZones())\n",
    "    Console.WriteLine (z.Id);"
   ]
  },
  {
   "cell_type": "code",
   "execution_count": 27,
   "metadata": {
    "dotnet_interactive": {
     "language": "csharp"
    },
    "polyglot_notebook": {
     "kernelName": "csharp"
    },
    "vscode": {
     "languageId": "polyglot-notebook"
    }
   },
   "outputs": [
    {
     "name": "stdout",
     "output_type": "stream",
     "text": [
      "Number of Adjustment Rules: 2\n",
      "Rule: applies from 1/1/0001 12:00:00 AM to 12/31/2006 12:00:00 AM\n",
      "   Delta: 01:00:00\n",
      "   DST starts: System.TimeZoneInfo+TransitionTime\n",
      "   DST ends: System.TimeZoneInfo+TransitionTime\n",
      "Rule: applies from 1/1/2007 12:00:00 AM to 12/31/9999 12:00:00 AM\n",
      "   Delta: 01:00:00\n",
      "   DST starts: System.TimeZoneInfo+TransitionTime\n",
      "   DST ends: System.TimeZoneInfo+TransitionTime\n",
      "Is the current date in Daylight Saving Time? True\n"
     ]
    }
   ],
   "source": [
    "TimeZoneInfo zone = TimeZoneInfo.FindSystemTimeZoneById(\"Eastern Standard Time\");\n",
    "\n",
    "        // Print the number of adjustment rules\n",
    "        Console.WriteLine(\"Number of Adjustment Rules: \" + zone.GetAdjustmentRules().Length);\n",
    "\n",
    "        // Iterate through adjustment rules and print them\n",
    "        foreach (TimeZoneInfo.AdjustmentRule rule in zone.GetAdjustmentRules())\n",
    "        {\n",
    "            Console.WriteLine(\"Rule: applies from \" + rule.DateStart + \" to \" + rule.DateEnd);\n",
    "            Console.WriteLine(\"   Delta: \" + rule.DaylightDelta);\n",
    "            Console.WriteLine(\"   DST starts: \" + rule.DaylightTransitionStart);\n",
    "            Console.WriteLine(\"   DST ends: \" + rule.DaylightTransitionEnd);\n",
    "        }\n",
    "\n",
    "        // Check if the current date is in DST\n",
    "        DateTime now = DateTime.Now;\n",
    "        bool isDaylight = zone.IsDaylightSavingTime(now);\n",
    "        Console.WriteLine(\"Is the current date in Daylight Saving Time? \" + isDaylight);"
   ]
  }
 ],
 "metadata": {
  "kernelspec": {
   "display_name": ".NET (C#)",
   "language": "C#",
   "name": ".net-csharp"
  },
  "language_info": {
   "name": "python"
  },
  "polyglot_notebook": {
   "kernelInfo": {
    "defaultKernelName": "csharp",
    "items": [
     {
      "aliases": [],
      "name": "csharp"
     }
    ]
   }
  }
 },
 "nbformat": 4,
 "nbformat_minor": 2
}
