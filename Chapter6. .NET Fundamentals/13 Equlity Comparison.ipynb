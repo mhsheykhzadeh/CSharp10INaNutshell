{
 "cells": [
  {
   "cell_type": "markdown",
   "metadata": {},
   "source": [
    "### Value Versus Referential Equality"
   ]
  },
  {
   "cell_type": "markdown",
   "metadata": {},
   "source": [
    "There are two kinds of **equality**:  \n",
    "- `Value equality` : Two **values** are equivalent in some sense\n",
    "- `Referential equality` : Two **references** refer to `exactly the same object`."
   ]
  },
  {
   "cell_type": "markdown",
   "metadata": {},
   "source": [
    "- **Value types** use `value equality`.\n",
    "- **Reference types** use `referential equality`. (This is **overridden** with `anonymous types` and `records`.)"
   ]
  },
  {
   "cell_type": "code",
   "execution_count": null,
   "metadata": {
    "dotnet_interactive": {
     "language": "csharp"
    },
    "polyglot_notebook": {
     "kernelName": "csharp"
    },
    "vscode": {
     "languageId": "polyglot-notebook"
    }
   },
   "outputs": [],
   "source": [
    "int x = 5, y = 5;\n",
    "Console.WriteLine (x == y); // True (by virtue of value equality)\n",
    "\n",
    "var dt1 = new DateTimeOffset (2010, 1, 1, 1, 1, 1, TimeSpan.FromHours(8));\n",
    "var dt2 = new DateTimeOffset (2010, 1, 1, 2, 1, 1, TimeSpan.FromHours(9));\n",
    "Console.WriteLine (dt1 == dt2); // True"
   ]
  },
  {
   "cell_type": "code",
   "execution_count": 2,
   "metadata": {
    "dotnet_interactive": {
     "language": "csharp"
    },
    "polyglot_notebook": {
     "kernelName": "csharp"
    },
    "vscode": {
     "languageId": "polyglot-notebook"
    }
   },
   "outputs": [
    {
     "name": "stdout",
     "output_type": "stream",
     "text": [
      "False\r\n"
     ]
    }
   ],
   "source": [
    "class Foo { public int X; }\n",
    "\n",
    "Foo f1 = new Foo { X = 5 };\n",
    "Foo f2 = new Foo { X = 5 };\n",
    "Console.WriteLine (f1 == f2); // False\n",
    "\n",
    "Foo f3 = f1;\n",
    "Console.WriteLine (f1 == f3); // True"
   ]
  },
  {
   "cell_type": "code",
   "execution_count": null,
   "metadata": {
    "dotnet_interactive": {
     "language": "csharp"
    },
    "polyglot_notebook": {
     "kernelName": "csharp"
    },
    "vscode": {
     "languageId": "polyglot-notebook"
    }
   },
   "outputs": [],
   "source": [
    "//you can customize reference types to exhibit value equality.\n",
    "Uri uri1 = new Uri (\"http://www.linqpad.net\");\n",
    "Uri uri2 = new Uri (\"http://www.linqpad.net\");\n",
    "Console.WriteLine (uri1 == uri2); // True\n",
    "\n",
    "\n",
    "var s1 = \"http://www.linqpad.net\";\n",
    "var s2 = \"http://\" + \"www.linqpad.net\";\n",
    "Console.WriteLine (s1 == s2); // True"
   ]
  },
  {
   "cell_type": "markdown",
   "metadata": {},
   "source": [
    "### Standard Equality Protocols"
   ]
  },
  {
   "cell_type": "markdown",
   "metadata": {},
   "source": [
    "There are `three standard protocols` that **types** can **implement** for `equality comparison`  \n",
    "- The `==` and `!=` operators\n",
    "- The **virtual** `Equals` method in **object**\n",
    "- The `IEquatable<T>` interface"
   ]
  },
  {
   "cell_type": "markdown",
   "metadata": {},
   "source": [
    "#### `==` and `!=`"
   ]
  },
  {
   "cell_type": "markdown",
   "metadata": {},
   "source": [
    "they are ***operators***; thus, they are `statically` **resolved** (in fact, they are implemented as `static functions`).\n",
    "\n",
    "when you **use** `==` or `!=`, C# makes a `compile-time decision` as to which type(`value` or `refrential` equality)will perform the **comparison**"
   ]
  },
  {
   "cell_type": "code",
   "execution_count": null,
   "metadata": {
    "dotnet_interactive": {
     "language": "csharp"
    },
    "polyglot_notebook": {
     "kernelName": "csharp"
    },
    "vscode": {
     "languageId": "polyglot-notebook"
    }
   },
   "outputs": [],
   "source": [
    "int x = 5;\n",
    "int y = 5;\n",
    "Console.WriteLine (x == y); // True \n",
    "//by value equality\n",
    "\n",
    "object x1 = 5;\n",
    "object y1 = 5;\n",
    "Console.WriteLine (x1 == y1); // False\n",
    "//by refretial equality"
   ]
  },
  {
   "cell_type": "markdown",
   "metadata": {},
   "source": [
    "#### The virtual Object.Equals method"
   ]
  },
  {
   "cell_type": "markdown",
   "metadata": {},
   "source": [
    "`Equals` is defined in `System.Object` and so is ***available*** to `all types`.   \n",
    "**Equals** is resolved at `runtime` according to the object’s ***actual type***."
   ]
  },
  {
   "cell_type": "code",
   "execution_count": null,
   "metadata": {
    "dotnet_interactive": {
     "language": "csharp"
    },
    "polyglot_notebook": {
     "kernelName": "csharp"
    },
    "vscode": {
     "languageId": "polyglot-notebook"
    }
   },
   "outputs": [],
   "source": [
    "object x = 5;\n",
    "object y = 5;\n",
    "Console.WriteLine (x.Equals (y)); // True\n",
    "//by value equality , at the runtime"
   ]
  },
  {
   "cell_type": "markdown",
   "metadata": {},
   "source": [
    "With ***reference types***, `Equals` performs `referential equality comparison` by default;  \n",
    "  \n",
    "with ***structs***, `Equals` performs `structural comparison` by calling `Equals` on ***each of its fields***."
   ]
  },
  {
   "cell_type": "markdown",
   "metadata": {},
   "source": [
    "The ***question that arises*** is why **designers of C#** didn’t avoid the problem by **making** `==` **virtual** and thus functionally `identical to Equals`  \n",
    "There are three reasons for this  \n",
    "- If the **first operand** is `null`, ***Equals*** fails with a `NullReferenceException`; a static operator does not.\n",
    "- Because the `==` operator is `statically resolved`, it executes extremely `quickly`.\n",
    "- Sometimes it can be `useful` to have == and Equals apply `different definitions` of equality."
   ]
  },
  {
   "cell_type": "code",
   "execution_count": null,
   "metadata": {
    "dotnet_interactive": {
     "language": "csharp"
    },
    "polyglot_notebook": {
     "kernelName": "csharp"
    },
    "vscode": {
     "languageId": "polyglot-notebook"
    }
   },
   "outputs": [],
   "source": [
    "//consider the following example\n",
    "public static bool AreEqual (object obj1, object obj2)\n",
    "    => obj1.Equals (obj2);\n",
    "\n",
    "//if the first argument is null, you get NullReferenceException.\n",
    "//so we can fixed with this example\n",
    "public static bool AreEqual1 (object obj1, object obj2)\n",
    "{\n",
    "    if (obj1 == null) return obj2 == null;\n",
    "    return obj1.Equals (obj2);\n",
    "}\n",
    "\n",
    "//or\n",
    "public static bool AreEqual3 (object obj1, object obj2)\n",
    "    => obj1 == null ? obj2 == null : obj1.Equals (obj2);"
   ]
  },
  {
   "cell_type": "markdown",
   "metadata": {},
   "source": [
    "##### The static object.Equals method"
   ]
  },
  {
   "cell_type": "markdown",
   "metadata": {},
   "source": [
    "The `object class` provides a **static helper** method that does the work of `AreEqual`, Its name is `Equals`"
   ]
  },
  {
   "cell_type": "code",
   "execution_count": null,
   "metadata": {
    "dotnet_interactive": {
     "language": "csharp"
    },
    "polyglot_notebook": {
     "kernelName": "csharp"
    },
    "vscode": {
     "languageId": "polyglot-notebook"
    }
   },
   "outputs": [],
   "source": [
    "public static bool Equals (object objA, object objB);\n",
    "//provides a null-safe equality comparison algorithm"
   ]
  },
  {
   "cell_type": "code",
   "execution_count": null,
   "metadata": {
    "dotnet_interactive": {
     "language": "csharp"
    },
    "polyglot_notebook": {
     "kernelName": "csharp"
    },
    "vscode": {
     "languageId": "polyglot-notebook"
    }
   },
   "outputs": [],
   "source": [
    "object x = 3, y = 3;\n",
    "Console.WriteLine (object.Equals (x, y)); // True\n",
    "x = null;\n",
    "Console.WriteLine (object.Equals (x, y)); // False\n",
    "y = null;\n",
    "Console.WriteLine (object.Equals (x, y)); // True"
   ]
  },
  {
   "cell_type": "code",
   "execution_count": null,
   "metadata": {
    "dotnet_interactive": {
     "language": "csharp"
    },
    "polyglot_notebook": {
     "kernelName": "csharp"
    },
    "vscode": {
     "languageId": "polyglot-notebook"
    }
   },
   "outputs": [],
   "source": [
    "class Test <T>\n",
    "{\n",
    "    T _value;\n",
    "    public void SetValue (T newValue)\n",
    "    {\n",
    "        if (!object.Equals (newValue, _value))\n",
    "        {\n",
    "            _value = newValue;\n",
    "            OnValueChanged();\n",
    "        }\n",
    "    }\n",
    "    protected virtual void OnValueChanged() { /*logic here*/ }\n",
    "}"
   ]
  },
  {
   "cell_type": "markdown",
   "metadata": {},
   "source": [
    "##### The static object.ReferenceEquals method"
   ]
  },
  {
   "cell_type": "code",
   "execution_count": null,
   "metadata": {
    "dotnet_interactive": {
     "language": "csharp"
    },
    "polyglot_notebook": {
     "kernelName": "csharp"
    },
    "vscode": {
     "languageId": "polyglot-notebook"
    }
   },
   "outputs": [],
   "source": [
    "class Widget { }\n",
    "Widget w1 = new Widget();\n",
    "Widget w2 = new Widget();\n",
    "Console.WriteLine (object.ReferenceEquals (w1, w2)); // False\n",
    "//check ReferenceEquals"
   ]
  },
  {
   "cell_type": "markdown",
   "metadata": {},
   "source": [
    "### The IEquatable<T> interface"
   ]
  },
  {
   "cell_type": "markdown",
   "metadata": {},
   "source": [
    "A consequence(نتیجه) of calling `object.Equals` is that it `forces boxing` on ***value types***. This is ***undesirable(نامطلوب)*** in `highly performance` ***sensitive scenarios***"
   ]
  },
  {
   "cell_type": "code",
   "execution_count": null,
   "metadata": {
    "dotnet_interactive": {
     "language": "csharp"
    },
    "polyglot_notebook": {
     "kernelName": "csharp"
    },
    "vscode": {
     "languageId": "polyglot-notebook"
    }
   },
   "outputs": [],
   "source": [
    "//A solution was introduced in C# 2.0, with the IEquatable<T> interface:\n",
    "public interface IEquatable<T>\n",
    "{\n",
    "    bool Equals (T other);\n",
    "}"
   ]
  },
  {
   "cell_type": "markdown",
   "metadata": {},
   "source": [
    "when implemented, gives the `same result` as calling object’s virtual `Equals` method but `more quickly`."
   ]
  },
  {
   "cell_type": "code",
   "execution_count": null,
   "metadata": {
    "dotnet_interactive": {
     "language": "csharp"
    },
    "polyglot_notebook": {
     "kernelName": "csharp"
    },
    "vscode": {
     "languageId": "polyglot-notebook"
    }
   },
   "outputs": [],
   "source": [
    "//Most basic .NET types implement IEquatable<T>.\n",
    "//You can use IEquatable<T> as a constraint in a generic type\n",
    "\n",
    "class Test<T> where T : IEquatable<T>\n",
    "{\n",
    "    public bool IsEqual (T a, T b)\n",
    "    {\n",
    "        return a.Equals (b); // No boxing with generic T\n",
    "    }\n",
    "}"
   ]
  },
  {
   "cell_type": "markdown",
   "metadata": {},
   "source": [
    "### Equality and Custom Types"
   ]
  },
  {
   "cell_type": "markdown",
   "metadata": {},
   "source": [
    "Recall default equality comparison behavior:\n",
    "- ***Value types*** use `value equality`.\n",
    "- ***Reference types*** use `referential equality` ***unless overridden*** (as is the case with\n",
    "anonymous types and records)."
   ]
  },
  {
   "cell_type": "markdown",
   "metadata": {},
   "source": [
    "Sometimes, it makes sense to ***override this behavior*** when `writing a type`. There are two cases for doing so:\n",
    "- To **change** the `meaning of equality`\n",
    "- To **speed up** `equality comparisons` for ***structs***"
   ]
  },
  {
   "cell_type": "markdown",
   "metadata": {},
   "source": [
    "#### Changing the meaning of equality"
   ]
  },
  {
   "cell_type": "markdown",
   "metadata": {},
   "source": [
    "Maybe the ***default behavior*** of `==` and `Equals` is **unnatural** for your type and is not what a `consumer would expect`. An example is `DateTimeOffset`"
   ]
  },
  {
   "cell_type": "markdown",
   "metadata": {},
   "source": [
    "With ***classes***, it’s sometimes more ***natural*** to offer `value equality` as the ***default*** *instead* of `referential equality`. An example is `System.Uri`"
   ]
  },
  {
   "cell_type": "markdown",
   "metadata": {},
   "source": [
    "With **records**, the ***compiler*** automatically implements `structural equality`. Sometimes, however, this will include **fields** that `you don’t want to compare`"
   ]
  },
  {
   "cell_type": "markdown",
   "metadata": {},
   "source": [
    "#### Speeding up equality comparisons with structs"
   ]
  },
  {
   "cell_type": "markdown",
   "metadata": {},
   "source": [
    "The default **structural equality comparison** algorithm for `structs` is `relatively slow`.  \n",
    "  \n",
    "Taking over this process by ***overriding Equals*** can **improve performance** by a\n",
    "`factor of five`.  \n",
    "  \n",
    "**Overloading** the `==` operator and `implementing IEquatable<T>` allows unboxed equality comparisons"
   ]
  },
  {
   "cell_type": "markdown",
   "metadata": {},
   "source": [
    "### How to override equality semantics"
   ]
  },
  {
   "cell_type": "markdown",
   "metadata": {},
   "source": [
    "To `override equality` with **classes** or *structs**, here are the steps:\n",
    "- ***Override*** `GetHashCode()` and `Equals()`.\n",
    "- (Optionally) **overload** `!=` and `==.`\n",
    "- (Optionally) **implement** `IEquatable<T>`."
   ]
  },
  {
   "cell_type": "code",
   "execution_count": 4,
   "metadata": {
    "dotnet_interactive": {
     "language": "csharp"
    },
    "polyglot_notebook": {
     "kernelName": "csharp"
    },
    "vscode": {
     "languageId": "polyglot-notebook"
    }
   },
   "outputs": [
    {
     "name": "stdout",
     "output_type": "stream",
     "text": [
      "False\n",
      "Developer\n",
      "Designer\n"
     ]
    }
   ],
   "source": [
    "public class PersonWithoutEqualOverride\n",
    "{\n",
    "    public PersonWithoutEqualOverride(string firstName, string lastName)\n",
    "    {\n",
    "        FirstName = firstName;\n",
    "        LastName = lastName;\n",
    "    }\n",
    "    public string FirstName { get; }\n",
    "    public string LastName { get; }\n",
    "}\n",
    "\n",
    "var p1 = new PersonWithoutEqualOverride( \"kaveh\",\"ahangar\");\n",
    "var p2 = new PersonWithoutEqualOverride( \"kaveh\",\"ahangar\");\n",
    "Console.WriteLine(p1.Equals(p2));\n",
    "\n",
    "var dictionary = new Dictionary<PersonWithoutEqualOverride, string>(); \n",
    "dictionary[p1] = \"Developer\";\n",
    "dictionary[p2] = \"Designer\";\n",
    "\n",
    "Console.WriteLine(dictionary[p1]); // Output: Developer\n",
    "Console.WriteLine(dictionary[p2]); // Output: Designer\n"
   ]
  },
  {
   "cell_type": "code",
   "execution_count": 6,
   "metadata": {
    "dotnet_interactive": {
     "language": "csharp"
    },
    "polyglot_notebook": {
     "kernelName": "csharp"
    },
    "vscode": {
     "languageId": "polyglot-notebook"
    }
   },
   "outputs": [
    {
     "name": "stdout",
     "output_type": "stream",
     "text": [
      "True\n",
      "Designer\n",
      "Designer\n",
      "False\n"
     ]
    }
   ],
   "source": [
    "\n",
    "public class Person\n",
    "{\n",
    "    public string FirstName { get; }\n",
    "    public string LastName { get; }\n",
    "\n",
    "    public Person(string firstName, string lastName)\n",
    "    {\n",
    "        FirstName = firstName;\n",
    "        LastName = lastName;\n",
    "    }\n",
    "\n",
    "    // Override Equals\n",
    "    public override bool Equals(object obj)\n",
    "    {\n",
    "        if (obj == null || GetType() != obj.GetType())\n",
    "        {\n",
    "            return false;\n",
    "        }\n",
    "\n",
    "        Person other = (Person)obj;\n",
    "        return FirstName == other.FirstName && LastName == other.LastName;\n",
    "    }\n",
    "\n",
    "    // Override GetHashCode\n",
    "    public override int GetHashCode()\n",
    "    {\n",
    "        return HashCode.Combine(FirstName, LastName);\n",
    "    }\n",
    "}\n",
    "\n",
    "var p3 = new Person( \"kaveh\",\"ahangar\");\n",
    "var p4 = new Person( \"kaveh\",\"ahangar\"); \n",
    "Console.WriteLine(p3.Equals(p4));\n",
    "\n",
    "\n",
    "var dictionary1 = new Dictionary<Person, string>(); \n",
    "dictionary1[p3] = \"Developer\";\n",
    "dictionary1[p4] = \"Designer\";\n",
    "\n",
    "Console.WriteLine(dictionary1[p3]);\n",
    "Console.WriteLine(dictionary1[p4]);\n",
    "\n",
    "Console.WriteLine(p3 == p4);"
   ]
  },
  {
   "cell_type": "code",
   "execution_count": 1,
   "metadata": {
    "dotnet_interactive": {
     "language": "csharp"
    },
    "polyglot_notebook": {
     "kernelName": "csharp"
    },
    "vscode": {
     "languageId": "polyglot-notebook"
    }
   },
   "outputs": [
    {
     "name": "stdout",
     "output_type": "stream",
     "text": [
      "5\r\n"
     ]
    }
   ],
   "source": [
    "int x = 5;\n",
    "Console.WriteLine(x.GetHashCode());"
   ]
  },
  {
   "cell_type": "markdown",
   "metadata": {},
   "source": [
    "<div dir=\"rtl\" style=\"margin:auto; width:90%; font-family:vazirmatn\">\n",
    "<h5>متد <code>GetHashCode</code></h5>\n",
    "<ol>\n",
    "<li>\n",
    "<p><strong>کاربرد و اهمیت <code>GetHashCode</code>:</strong></p>\n",
    "<ul>\n",
    "<li>متد <code>GetHashCode</code> در کلاس پایه <code>System.Object</code> تعریف شده است و هدف اصلی آن استفاده در انواع داده‌ای مانند <code>System.Collections.Hashtable</code> و <code>System.Collections.Generic.Dictionary&lt;TKey, TValue&gt;</code> است.</li>\n",
    "<li>این متد یک عدد <code>Int32</code> به عنوان هش کد تولید می‌کند که برای تخصیص کارآمد عناصر بر اساس کلیدهایشان در هش‌جدول‌ها استفاده می‌شود.\n",
    "</li>\n",
    "</ul>\n",
    "</li>\n",
    "<li>\n",
    "<p><strong>لزوم همزمانی با <code>Equals</code>:</strong></p>\n",
    "<ul>\n",
    "<li>زمانی که متد <code>Equals</code> را در یک کلاس یا ساختار بازنویسی می‌کنید، باید متد <code>GetHashCode</code> را نیز بازنویسی کنید.\n",
    "</li>\n",
    "<li>دلیل این کار این است که اگر دو شیء با استفاده از <code>Equals</code> برابر باشند، باید هش کد مشابهی نیز داشته باشند.\n",
    "</li>\n",
    "</ul>\n",
    "</li>\n",
    "<li><p><strong>قوانین بازنویسی <code>GetHashCode</code>:</strong></p>\n",
    "<ul>\n",
    "<li>باید برای دو شیء که <code>Equals</code> آنها برابر است، مقدار یکسانی برگرداند.</li><li>نباید استثناها را پرتاب کند.\n",
    "</li>\n",
    "<li>باید مقدار یکسانی برگرداند اگر بر روی همان شیء چندین بار فراخوانی شود، مگر اینکه شیء تغییر کرده باشد.\n",
    "</li>\n",
    "</ul>\n",
    "</li>\n",
    "</ol>\n",
    "\n",
    "<h5>بهبود کارایی هش‌جدول‌ها:</h5>\n",
    "<ol><li><p><strong>تنوع هش کد:</strong></p><ul><li>برای بهبود کارایی هش‌جدول‌ها، متد <code>GetHashCode</code> باید طوری نوشته شود که احتمال برخورد (دو مقدار متفاوت با هش کد یکسان) را به حداقل برساند.</li></ul></li><li><p><strong>اجرای پیش‌فرض در ساختارها و کلاس‌ها:</strong></p><ul><li>پیاده‌سازی پیش‌فرض <code>GetHashCode</code> در ساختارها ممکن است بر اساس تمام فیلدهای ساختار باشد.</li><li>در مقابل، پیاده‌سازی پیش‌فرض <code>GetHashCode</code> در کلاس‌ها بر اساس یک توکن داخلی شیء است که در نسخه فعلی CLR برای هر نمونه یکتا است.</li></ul></li></ol>\n",
    "\n",
    "</div>"
   ]
  },
  {
   "cell_type": "markdown",
   "metadata": {},
   "source": [
    "### Overloading `==` and `!=`"
   ]
  },
  {
   "cell_type": "code",
   "execution_count": null,
   "metadata": {
    "dotnet_interactive": {
     "language": "csharp"
    },
    "polyglot_notebook": {
     "kernelName": "csharp"
    },
    "vscode": {
     "languageId": "polyglot-notebook"
    }
   },
   "outputs": [],
   "source": [
    "var sb1 = new StringBuilder (\"foo\");\n",
    "var sb2 = new StringBuilder (\"foo\");\n",
    "Console.WriteLine (sb1 == sb2); // False (referential equality)\n",
    "Console.WriteLine (sb1.Equals (sb2)); // True (value equality)"
   ]
  },
  {
   "cell_type": "code",
   "execution_count": 2,
   "metadata": {
    "dotnet_interactive": {
     "language": "csharp"
    },
    "polyglot_notebook": {
     "kernelName": "csharp"
    },
    "vscode": {
     "languageId": "polyglot-notebook"
    }
   },
   "outputs": [
    {
     "name": "stdout",
     "output_type": "stream",
     "text": [
      "True\n",
      "Designer\n",
      "Designer\n",
      "True\n"
     ]
    }
   ],
   "source": [
    "public class Person\n",
    "{\n",
    "    public string FirstName { get; }\n",
    "    public string LastName { get; }\n",
    "\n",
    "    public Person(string firstName, string lastName)\n",
    "    {\n",
    "        FirstName = firstName;\n",
    "        LastName = lastName;\n",
    "    }\n",
    "    \n",
    "    public override bool Equals(object obj)\n",
    "    {\n",
    "        if (obj == null || GetType() != obj.GetType())\n",
    "        {\n",
    "            return false;\n",
    "        }\n",
    "\n",
    "        Person other = (Person)obj;\n",
    "        return FirstName == other.FirstName && LastName == other.LastName;\n",
    "    }\n",
    "\n",
    "    // Override GetHashCode\n",
    "    public override int GetHashCode()\n",
    "    {\n",
    "        return HashCode.Combine(FirstName, LastName);\n",
    "    }\n",
    "\n",
    "    public static bool operator == (Person p1, Person p2) => p1.Equals(p2);\n",
    "\n",
    "    public static bool operator != (Person p1, Person p2) => !p1.Equals(p2);\n",
    "}\n",
    "\n",
    "var p3 = new Person( \"kaveh\",\"ahangar\");\n",
    "var p4 = new Person( \"kaveh\",\"ahangar\"); \n",
    "Console.WriteLine(p3.Equals(p4));\n",
    "\n",
    "\n",
    "var dictionary1 = new Dictionary<Person, string>(); \n",
    "dictionary1[p3] = \"Developer\";\n",
    "dictionary1[p4] = \"Designer\";\n",
    "\n",
    "Console.WriteLine(dictionary1[p3]);\n",
    "Console.WriteLine(dictionary1[p4]);\n",
    "\n",
    "Console.WriteLine(p3 == p4);"
   ]
  },
  {
   "cell_type": "markdown",
   "metadata": {},
   "source": [
    "### Implementing `IEquatable<T>`"
   ]
  },
  {
   "cell_type": "markdown",
   "metadata": {},
   "source": [
    "<div dir=\"rtl\" style=\"margin:auto; width:90%; font-family:vazirmatn\">\n",
    "<p>پیاده‌سازی <code>IEquatable&lt;T&gt;</code> در مقایسه با تنها بازنویسی متد <code>Equals</code> از کلاس پایه <code>Object</code> مزایای مهمی دارد که در زیر به آن‌ها اشاره می‌شود:</p>\n",
    "\n",
    "<h5>1. <strong>نوع امن‌تر و کارآمدتر:</strong></h5>\n",
    "\n",
    "<ul><li>وقتی <code>IEquatable&lt;T&gt;</code> را پیاده‌سازی می‌کنید، یک متد <code>Equals</code> نوع-ایمن و خاص نوع (<code>T</code>) ارائه می‌دهید. این امر باعث می‌شود که از تبدیل‌های نوعی غیرضروری جلوگیری کنید.</li><li>متد <code>Equals(Object)</code> از کلاس پایه <code>Object</code> نیاز به تبدیل نوع به <code>T</code> دارد که ممکن است هزینه‌بر باشد و به صورت جعبه‌ای (boxing) در ساختارها منجر شود.</li></ul>\n",
    "\n",
    "<h5>2. <strong>پشتیبانی بهتر از Generic Collections:</strong></h5>\n",
    "<ul><li>بسیاری از مجموعه‌های جنریک مانند <code>List&lt;T&gt;</code>، <code>Dictionary&lt;TKey, TValue&gt;</code> و <code>HashSet&lt;T&gt;</code> از <code>IEquatable&lt;T&gt;</code> برای مقایسه عناصر استفاده می‌کنند. پیاده‌سازی این رابط به شما امکان می‌دهد که از این مجموعه‌ها به صورت بهینه‌تری استفاده کنید.</li><li>هنگامی که <code>IEquatable&lt;T&gt;</code> پیاده‌سازی می‌شود، متدهای جنریک <code>Equals</code> فراخوانی می‌شوند که کارآمدتر از فراخوانی نسخه عمومی <code>Equals(Object)</code> هستند.</li></ul>\n",
    "<h5>3. <strong>کارایی و عملکرد بهتر:</strong></h5>\n",
    "<ul><li>پیاده‌سازی <code>IEquatable&lt;T&gt;</code> به طور کلی کارایی بهتری دارد زیرا از تبدیل نوع و جعبه‌ای (boxing) جلوگیری می‌کند.</li><li>این موضوع به ویژه در مورد ساختارها (structs) اهمیت دارد، زیرا جعبه‌ای (boxing) می‌تواند به عملکرد آسیب بزند.</li></ul>\n",
    "<h5>4. <strong>کد خواناتر و قابل فهم‌تر:</strong></h5>\n",
    "<ul><li>با پیاده‌سازی <code>IEquatable&lt;T&gt;</code>, کد شما خواناتر و قابل فهم‌تر می‌شود، زیرا دیگر نیازی به تبدیل نوع و بررسی‌های نوعی اضافی نیست.</li><li>متد <code>Equals</code> پیاده‌سازی شده از طریق <code>IEquatable&lt;T&gt;</code>، فقط با نوع مورد نظر شما سر و کار دارد و واضح‌تر است.</li></ul>\n",
    "</div>"
   ]
  },
  {
   "cell_type": "code",
   "execution_count": null,
   "metadata": {
    "dotnet_interactive": {
     "language": "csharp"
    },
    "polyglot_notebook": {
     "kernelName": "csharp"
    },
    "vscode": {
     "languageId": "polyglot-notebook"
    }
   },
   "outputs": [],
   "source": [
    "public class Person : IEquatable<Person>\n",
    "{\n",
    "    public string Name { get; set; }\n",
    "    public int Age { get; set; }\n",
    "\n",
    "    public bool Equals(Person other)\n",
    "    {\n",
    "        if (other == null) return false;\n",
    "        return this.Name == other.Name && this.Age == other.Age;\n",
    "    }\n",
    "\n",
    "    /*\n",
    "    برای همه سناریوها از جمله\n",
    "     مجموعه‌های غیر جنریک و مواردی که با نوع پایه\n",
    "      Object سروکار دارند، کار می‌کند.\n",
    "    */\n",
    "    public override bool Equals(object obj)\n",
    "    {\n",
    "        if (obj == null) return false;\n",
    "        if (obj.GetType() != this.GetType()) return false;\n",
    "        return Equals(obj as Person);\n",
    "    }\n",
    "\n",
    "    public override int GetHashCode()\n",
    "    {\n",
    "        return HashCode.Combine(Name, Age);\n",
    "    }\n",
    "}\n"
   ]
  },
  {
   "cell_type": "code",
   "execution_count": null,
   "metadata": {
    "dotnet_interactive": {
     "language": "csharp"
    },
    "polyglot_notebook": {
     "kernelName": "csharp"
    },
    "vscode": {
     "languageId": "polyglot-notebook"
    }
   },
   "outputs": [],
   "source": [
    "public struct Area : IEquatable<Area>\n",
    "{\n",
    "    public readonly int Measure1;\n",
    "    public readonly int Measure2;\n",
    "    \n",
    "    public Area(int m1, int m2)\n",
    "    {\n",
    "        Measure1 = Math.Min(m1, m2);\n",
    "        Measure2 = Math.Max(m1, m2);\n",
    "    }\n",
    "    public override bool Equals(object other)\n",
    "        => other is Area a && Equals(a); // Calls method below\n",
    "\n",
    "    public bool Equals(Area other) // Implements IEquatable<Area>\n",
    "        => Measure1 == other.Measure1 && Measure2 == other.Measure2;\n",
    "\n",
    "    public override int GetHashCode()\n",
    "        => HashCode.Combine(Measure1, Measure2);\n",
    "\n",
    "    public static bool operator ==(Area a1, Area a2) => a1.Equals(a2);\n",
    "\n",
    "    public static bool operator !=(Area a1, Area a2) => !a1.Equals(a2);\n",
    "}"
   ]
  }
 ],
 "metadata": {
  "kernelspec": {
   "display_name": ".NET (C#)",
   "language": "C#",
   "name": ".net-csharp"
  },
  "language_info": {
   "name": "python"
  },
  "polyglot_notebook": {
   "kernelInfo": {
    "defaultKernelName": "csharp",
    "items": [
     {
      "aliases": [],
      "name": "csharp"
     }
    ]
   }
  }
 },
 "nbformat": 4,
 "nbformat_minor": 2
}
