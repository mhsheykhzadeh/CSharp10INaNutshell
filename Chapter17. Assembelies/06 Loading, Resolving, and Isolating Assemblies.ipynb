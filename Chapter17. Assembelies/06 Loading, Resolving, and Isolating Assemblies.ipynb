{
 "cells": [
  {
   "cell_type": "markdown",
   "metadata": {
    "dotnet_interactive": {
     "language": "csharp"
    },
    "polyglot_notebook": {
     "kernelName": "csharp"
    }
   },
   "source": [
    "<div dir=\"rtl\" style=\"margin:auto; width:90%; font-family:vazirmatn\">\n",
    "<h5>1. <strong>Loading Assemblies (بارگذاری اسمبلی‌ها):</strong></h5>\n",
    "<p>این بخش به چگونگی بارگذاری اسمبلی‌ها در دات‌نت می‌پردازد. اسمبلی‌ها می‌توانند به دو روش کلی بارگذاری شوند:</p>\n",
    "<ul><li><strong>Implicitly (به صورت ضمنی):</strong> زمانی که برنامه‌ای نیاز به کدی از یک اسمبلی دارد، آن اسمبلی به صورت خودکار توسط سیستم بارگذاری می‌شود.</li><li><strong>Explicitly (به صورت صریح):</strong> توسعه‌دهنده می‌تواند اسمبلی‌ها را به صورت دستی و با استفاده از متدهای خاصی مانند <code>Assembly.Load</code> بارگذاری کند.</li></ul>\n",
    "\n",
    "<h5>2. <strong>Resolving Assemblies (حل وابستگی‌های اسمبلی):</strong></h5>\n",
    "<p>در این قسمت، مکانیزم‌های مختلفی که دات‌نت برای یافتن و حل وابستگی‌های اسمبلی‌ها استفاده می‌کند، بررسی می‌شود. این فرآیند شامل جستجو در مکان‌های مشخصی مانند GAC (Global Assembly Cache) و یا دایرکتوری‌های برنامه می‌شود. همچنین، این بخش به موضوعات مرتبط با versioning و policy‌های مربوط به اسمبلی‌ها نیز می‌پردازد.</p>\n",
    "\n",
    "<h5>3. <strong>Isolating Assemblies (جداسازی اسمبلی‌ها):</strong></h5>\n",
    "<p>ایزولاسیون اسمبلی‌ها در دات‌نت به معنی اجرای اسمبلی‌ها در دامنه‌های مجزای حافظه است. این ایزولاسیون باعث می‌شود تا تداخل میان اسمبلی‌ها به حداقل برسد و هر اسمبلی به صورت مستقل اجرا شود. این مفهوم در امنیت و پایداری برنامه‌ها اهمیت زیادی دارد.</p>\n",
    "</div>"
   ]
  },
  {
   "cell_type": "markdown",
   "metadata": {},
   "source": [
    "<hr>"
   ]
  },
  {
   "cell_type": "markdown",
   "metadata": {},
   "source": [
    "<div dir=\"rtl\" style=\"margin:auto; width:90%; font-family:vazirmatn\">\n",
    "<h5>1. <strong>Assembly Load Context چیست؟</strong></h5>\n",
    "<p>در .NET، یک <strong>Assembly Load Context</strong> (کانتکست بارگذاری اسمبلی) یک محدوده منطقی است که در آن اسمبلی‌ها بارگذاری می‌شوند. هر کانتکست بارگذاری اسمبلی می‌تواند نسخه‌های مختلفی از یک اسمبلی را بارگذاری کند و به طور جداگانه آن‌ها را مدیریت کند. این مفهوم به توسعه‌دهندگان این امکان را می‌دهد که کنترل بیشتری روی نحوه بارگذاری و حل وابستگی‌ها در برنامه‌هایشان داشته باشند.</p>\n",
    "<h5>2. <strong>Default Load Context (کانتکست بارگذاری پیش‌فرض):</strong></h5>\n",
    "<p>در .NET، به صورت پیش‌فرض، تمام اسمبلی‌ها در یک کانتکست بارگذاری پیش‌فرض (Default Load Context) بارگذاری می‌شوند. این کانتکست همان چیزی است که اکثر برنامه‌ها به صورت طبیعی از آن استفاده می‌کنند. وقتی یک اسمبلی به صورت ضمنی بارگذاری می‌شود (مثلاً وقتی که یک کلاس از آن استفاده می‌شود)، این بارگذاری در کانتکست پیش‌فرض صورت می‌گیرد.</p>\n",
    "<h5>3. <strong>Custom Load Contexts (کانتکست‌های بارگذاری سفارشی):</strong></h5>\n",
    "<p>توسعه‌دهندگان می‌توانند کانتکست‌های بارگذاری سفارشی ایجاد کنند تا کنترل بیشتری روی نحوه بارگذاری اسمبلی‌ها داشته باشند. این کار می‌تواند مفید باشد وقتی که نیاز به بارگذاری نسخه‌های مختلف از یک اسمبلی یا بارگذاری اسمبلی‌هایی در محیطی ایزوله داشته باشیم.</p>\n",
    "<p>برای ایجاد یک کانتکست بارگذاری سفارشی، از کلاس <code>AssemblyLoadContext</code> استفاده می‌شود. این کلاس به شما اجازه می‌دهد که اسمبلی‌ها را به صورت کنترل‌شده بارگذاری کنید.</p>\n",
    "\n",
    "</div>"
   ]
  },
  {
   "cell_type": "code",
   "execution_count": null,
   "metadata": {
    "dotnet_interactive": {
     "language": "csharp"
    },
    "polyglot_notebook": {
     "kernelName": "csharp"
    },
    "vscode": {
     "languageId": "polyglot-notebook"
    }
   },
   "outputs": [],
   "source": [
    "using System;\n",
    "using System.Reflection;\n",
    "using System.Runtime.Loader;\n",
    "\n",
    "public class CustomLoadContext : AssemblyLoadContext\n",
    "{\n",
    "    public CustomLoadContext() : base(isCollectible: true) { }\n",
    "\n",
    "    protected override Assembly Load(AssemblyName assemblyName)\n",
    "    {\n",
    "        // شما می‌توانید مسیر اسمبلی را به صورت دینامیک مشخص کنید\n",
    "        string assemblyPath = $\"{assemblyName.Name}.dll\";\n",
    "        return LoadFromAssemblyPath(assemblyPath);\n",
    "    }\n",
    "}\n",
    "\n",
    "public class Program\n",
    "{\n",
    "    public static void Main()\n",
    "    {\n",
    "        var customContext1 = new CustomLoadContext();\n",
    "        var customContext2 = new CustomLoadContext();\n",
    "\n",
    "        Assembly assembly1 = customContext1.LoadFromAssemblyName(new AssemblyName(\"MyAssembly, Version=1.0.0.0\"));\n",
    "        Assembly assembly2 = customContext2.LoadFromAssemblyName(new AssemblyName(\"MyAssembly, Version=2.0.0.0\"));\n",
    "\n",
    "        // استفاده از نسخه‌های مختلف اسمبلی\n",
    "        Console.WriteLine(assembly1.FullName);\n",
    "        Console.WriteLine(assembly2.FullName);\n",
    "    }\n",
    "}\n"
   ]
  },
  {
   "cell_type": "markdown",
   "metadata": {},
   "source": [
    "<div dir=\"rtl\" style=\"margin:auto; width:90%; font-family:vazirmatn\">\n",
    "<h5>4. <strong>مزایای استفاده از Assembly Load Contexts:</strong></h5>\n",
    "<ul><li><strong>ایزوله‌سازی:</strong> به شما اجازه می‌دهد تا اسمبلی‌ها را در کانتکست‌های مجزا بارگذاری کنید و از تداخلات احتمالی جلوگیری کنید.</li><li><strong>حل وابستگی‌های خاص:</strong> می‌توانید کنترل کنید که یک اسمبلی خاص از کجا بارگذاری شود و حتی نسخه‌های مختلف از یک اسمبلی را در برنامه مدیریت کنید.</li><li><strong>جمع‌آوری زباله‌ها (Garbage Collection):</strong> کانتکست‌های بارگذاری می‌توانند قابل جمع‌آوری باشند که این به مدیریت بهتر حافظه کمک می‌کند.</li></ul>\n",
    "</div>"
   ]
  },
  {
   "cell_type": "markdown",
   "metadata": {},
   "source": [
    "برای اطلاعات بیشتر ادامه این قسمت از کتاب را مطالعه کنید"
   ]
  }
 ],
 "metadata": {
  "kernelspec": {
   "display_name": ".NET (C#)",
   "language": "C#",
   "name": ".net-csharp"
  },
  "language_info": {
   "name": "python"
  },
  "polyglot_notebook": {
   "kernelInfo": {
    "defaultKernelName": "csharp",
    "items": [
     {
      "aliases": [],
      "name": "csharp"
     }
    ]
   }
  }
 },
 "nbformat": 4,
 "nbformat_minor": 2
}
