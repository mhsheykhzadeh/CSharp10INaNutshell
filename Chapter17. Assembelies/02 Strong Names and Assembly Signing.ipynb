{
 "cells": [
  {
   "cell_type": "markdown",
   "metadata": {},
   "source": [
    "<div dir=\"rtl\" style=\"margin:auto; width:90%; font-family:vazirmatn\">\n",
    "<p>Strong Names و Assembly Signing در C# و .NET برای تضمین یکپارچگی و امنیت اسمبلی‌ها استفاده می‌شوند. در زیر به توضیحات هر یک می‌پردازیم:</p>\n",
    "<h5>Strong Names</h5>\n",
    "<p>Strong Names (نام‌های قوی) برای متمایز کردن اسمبلی‌ها از یکدیگر استفاده می‌شوند و از این طریق امکان نسخه‌بندی و شناسایی صحیح اسمبلی‌ها را فراهم می‌کنند. یک Strong Name شامل موارد زیر است:</p>\n",
    "<ul><li><strong>نام اسمبلی</strong></li><li><strong>شماره نسخه</strong></li><li><strong>فرهنگ (culture)</strong></li><li><strong>کلید عمومی</strong></li><li><strong>هش دیجیتال</strong></li></ul>\n",
    "<p>برای تولید یک Strong Name، از یک جفت کلید عمومی و خصوصی استفاده می‌شود. کلید عمومی همراه با اسمبلی منتشر می‌شود، در حالی که کلید خصوصی به صورت محرمانه نگه‌داشته می‌شود.</p>\n",
    "\n",
    "<h5>Assembly Signing</h5>\n",
    "<p>Assembly Signing (امضای اسمبلی) فرایندی است که طی آن یک اسمبلی با استفاده از یک کلید خصوصی امضا می‌شود. این امضا تضمین می‌کند که محتویات اسمبلی در طول زمان تغییر نکرده‌اند و همچنین منبع معتبر آن را مشخص می‌کند.</p>\n",
    "\n",
    "<h5>مزایای استفاده از Strong Names و Assembly Signing</h5>\n",
    "<ul><li><strong>امنیت</strong>: تضمین می‌کند که اسمبلی از منبع معتبر آمده و در طول زمان تغییر نکرده است.</li><li><strong>نسخه‌بندی</strong>: امکان مدیریت نسخه‌های مختلف اسمبلی را فراهم می‌کند.</li><li><strong>یکپارچگی</strong>: جلوگیری از تعارض بین اسمبلی‌ها با نام مشابه.</li></ul>\n",
    "</div>"
   ]
  }
 ],
 "metadata": {
  "kernelspec": {
   "display_name": ".NET (C#)",
   "language": "C#",
   "name": ".net-csharp"
  },
  "language_info": {
   "name": "python"
  },
  "polyglot_notebook": {
   "kernelInfo": {
    "defaultKernelName": "csharp",
    "items": [
     {
      "aliases": [],
      "name": "csharp"
     }
    ]
   }
  }
 },
 "nbformat": 4,
 "nbformat_minor": 2
}
