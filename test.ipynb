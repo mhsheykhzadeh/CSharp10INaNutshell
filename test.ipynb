{
 "cells": [
  {
   "cell_type": "code",
   "execution_count": null,
   "metadata": {
    "vscode": {
     "languageId": "polyglot-notebook"
    }
   },
   "outputs": [],
   "source": [
    "string[] names = { \"Tom\", \"Dick\", \"Harry\", \"Mary\", \"Jay\" };\n",
    "int min =\n",
    "    names\n",
    "        .OrderBy((n2) => { Console.WriteLine($\"orderby executed on Item {n2}\"); return n2.Length; })\n",
    "        .Select(n2 => { Console.WriteLine($\"select executed on Item {n2}\"); return n2.Length; })\n",
    "        .First();\n",
    "\n",
    "Console.WriteLine(min);\n",
    "\n",
    "Console.ReadKey();"
   ]
  }
 ],
 "metadata": {
  "kernelspec": {
   "display_name": ".NET (C#)",
   "language": "C#",
   "name": ".net-csharp"
  },
  "language_info": {
   "name": "python"
  },
  "polyglot_notebook": {
   "kernelInfo": {
    "defaultKernelName": "csharp",
    "items": [
     {
      "aliases": [],
      "name": "csharp"
     }
    ]
   }
  }
 },
 "nbformat": 4,
 "nbformat_minor": 2
}
