{
 "cells": [
  {
   "cell_type": "markdown",
   "metadata": {},
   "source": [
    "| Method    | Description | SQL equivalents |\n",
    "| -------- | ------- | ------- |\n",
    "|`GroupBy` |Groups a sequence into subsequences |GROUP BY\n",
    "|`Chunk` |Groups a sequence into arrays of a fixed size|"
   ]
  },
  {
   "cell_type": "markdown",
   "metadata": {},
   "source": [
    "### GroupBy"
   ]
  },
  {
   "cell_type": "markdown",
   "metadata": {},
   "source": [
    "`IEnumerable<TSource>`→`IEnumerable<IGrouping<TKey,TElement>>`  \n",
    "  \n",
    "| Argument    | Type |\n",
    "| -------- | ------- |\n",
    "|***Input sequence*** |`IEnumerable<TSource>`\n",
    "|***Key selector*** |`TSource => TKey`\n",
    "|***Element selector*** (optional) | `TSource => TElement`\n",
    "|`Comparer` (optional) | `IEqualityComparer<TKey>`"
   ]
  },
  {
   "cell_type": "markdown",
   "metadata": {},
   "source": [
    "***GroupBy*** organizes a `flat input sequence` into `sequences of groups`."
   ]
  },
  {
   "cell_type": "code",
   "execution_count": null,
   "metadata": {
    "dotnet_interactive": {
     "language": "csharp"
    },
    "polyglot_notebook": {
     "kernelName": "csharp"
    },
    "vscode": {
     "languageId": "polyglot-notebook"
    }
   },
   "outputs": [],
   "source": [
    "using System.IO;\n",
    "string[] files = Directory.GetFiles (Path.GetTempPath());\n",
    "\n",
    "IEnumerable<IGrouping<string,string>> query =\n",
    "    files.GroupBy (file => Path.GetExtension (file));\n",
    "\n",
    "foreach (IGrouping<string,string> grouping in query)\n",
    "{\n",
    "    Console.WriteLine (\"Extension: \" + grouping.Key);\n",
    "    foreach (string filename in grouping)\n",
    "        Console.WriteLine (\" - \" + filename);\n",
    "}\n",
    "\n",
    "/*\n",
    "Extension: .pdf\n",
    "-- chapter03.pdf\n",
    "-- chapter04.pdf\n",
    "Extension: .doc\n",
    "-- todo.doc\n",
    "-- menu.doc\n",
    "-- Copy of menu.doc\n",
    "...\n",
    "*/"
   ]
  },
  {
   "cell_type": "code",
   "execution_count": null,
   "metadata": {
    "dotnet_interactive": {
     "language": "csharp"
    },
    "polyglot_notebook": {
     "kernelName": "csharp"
    },
    "vscode": {
     "languageId": "polyglot-notebook"
    }
   },
   "outputs": [],
   "source": [
    "using System.IO;\n",
    "string[] files = Directory.GetFiles (Path.GetTempPath());\n",
    "\n",
    "//element selector\n",
    "var query =\n",
    "    files.GroupBy (file => Path.GetExtension (file), file=> file.ToUpper());\n",
    "\n",
    "//orderby\n",
    "var query1 =\n",
    "    files.GroupBy (file => Path.GetExtension (file), file=> file.ToUpper())\n",
    "         .OrderBy(grouping=> grouping.Key);"
   ]
  },
  {
   "cell_type": "code",
   "execution_count": null,
   "metadata": {
    "dotnet_interactive": {
     "language": "csharp"
    },
    "polyglot_notebook": {
     "kernelName": "csharp"
    },
    "vscode": {
     "languageId": "polyglot-notebook"
    }
   },
   "outputs": [],
   "source": [
    "using System.IO;\n",
    "string[] files = Directory.GetFiles (Path.GetTempPath());\n",
    "\n",
    "//query syntax\n",
    "var query =\n",
    "    from file in files\n",
    "    group file by Path.GetExtension(file) into grouping\n",
    "    select grouping;\n",
    "\n",
    "//element selector\n",
    "var query2 =\n",
    "    from file in files\n",
    "    group file.ToUpper() by Path.GetExtension(file) into grouping\n",
    "    select grouping;\n",
    "\n",
    "//orderby\n",
    "var query3 =\n",
    "    from file in files\n",
    "    group file.ToUpper() by Path.GetExtension(file) into grouping\n",
    "    orderby grouping.Key\n",
    "    select grouping;\n",
    "\n",
    "//with filters\n",
    "var query4 =\n",
    "    from file in files\n",
    "    group file.ToUpper() by Path.GetExtension(file) into grouping\n",
    "    where grouping.Count() >= 5\n",
    "    select grouping;\n",
    "\n",
    "/*A where after a group by is equivalent to HAVING in SQL.*/\n",
    "\n",
    "//sort by count\n",
    "\n",
    "var query5 =\n",
    "    from file in files\n",
    "    group file by Path.GetExtension(file) into grouping\n",
    "    orderby grouping.Count() descending\n",
    "    select grouping;"
   ]
  },
  {
   "cell_type": "markdown",
   "metadata": {},
   "source": [
    "### GroupBy in EF Core"
   ]
  },
  {
   "cell_type": "code",
   "execution_count": null,
   "metadata": {
    "dotnet_interactive": {
     "language": "csharp"
    },
    "polyglot_notebook": {
     "kernelName": "csharp"
    },
    "vscode": {
     "languageId": "polyglot-notebook"
    }
   },
   "outputs": [],
   "source": [
    "var query = \n",
    "    from p in dbContext.Purchases\n",
    "    group p.Price by p.Date.Year into salesByYear\n",
    "    select new \n",
    "        {\n",
    "            Year = salesByYear.Key,\n",
    "            TotalValue = salesByYear.Sum()\n",
    "        };"
   ]
  },
  {
   "cell_type": "markdown",
   "metadata": {},
   "source": [
    "### Grouping by multiple keys"
   ]
  },
  {
   "cell_type": "code",
   "execution_count": 4,
   "metadata": {
    "dotnet_interactive": {
     "language": "csharp"
    },
    "polyglot_notebook": {
     "kernelName": "csharp"
    },
    "vscode": {
     "languageId": "polyglot-notebook"
    }
   },
   "outputs": [
    {
     "name": "stdout",
     "output_type": "stream",
     "text": [
      "J : 3\n",
      "--Jay\n",
      "--Jun\n",
      "T : 3\n",
      "--Tom\n",
      "M : 4\n",
      "--Mary\n",
      "D : 4\n",
      "--Dick\n",
      "--Dock\n",
      "H : 5\n",
      "--Harry\n",
      "j : 3\n",
      "--jim\n"
     ]
    }
   ],
   "source": [
    "var names = new List<string> { \"Jay\", \"Tom\", \"Mary\", \"Dick\", \"Harry\", \"Jun\", \"Dock\" };\n",
    "\n",
    "var query =\n",
    "    from n in names\n",
    "    group n by new { FirstLetter = n[0], Length = n.Length };\n",
    "foreach(var grouping in query)\n",
    "{\n",
    "    Console.WriteLine(grouping.Key.FirstLetter +\" : \" + grouping.Key.Length);\n",
    "    foreach(var item in grouping )\n",
    "    Console.WriteLine(\"--\"+ item);\n",
    "}"
   ]
  },
  {
   "cell_type": "markdown",
   "metadata": {},
   "source": [
    "### Custom equality comparers"
   ]
  },
  {
   "cell_type": "markdown",
   "metadata": {},
   "source": [
    "in a **local query**, You can pass a `custom equality comparer` into ***GroupBy***, to `change` the `algorithm` for `key comparison`."
   ]
  },
  {
   "cell_type": "code",
   "execution_count": 7,
   "metadata": {
    "dotnet_interactive": {
     "language": "csharp"
    },
    "polyglot_notebook": {
     "kernelName": "csharp"
    },
    "vscode": {
     "languageId": "polyglot-notebook"
    }
   },
   "outputs": [
    {
     "name": "stdout",
     "output_type": "stream",
     "text": [
      "J\n",
      "--Jay\n",
      "M\n",
      "--Mary\n",
      "H\n",
      "--Harry\n",
      "j\n",
      "--jun\n",
      "*********************************************\n",
      "J\n",
      "--Jay\n",
      "--jun\n",
      "M\n",
      "--Mary\n",
      "H\n",
      "--Harry\n"
     ]
    }
   ],
   "source": [
    "var names = new List<string> { \"Jay\", \"Mary\", \"Harry\", \"jun\" };\n",
    "\n",
    "var query =\n",
    "    from n in names\n",
    "    group n by n[0] ;\n",
    "foreach(var grouping in query)\n",
    "{\n",
    "    Console.WriteLine(grouping.Key);\n",
    "    foreach(var item in grouping )\n",
    "    Console.WriteLine(\"--\"+ item);\n",
    "}\n",
    "\n",
    "Console.WriteLine(\"*********************************************\");\n",
    "\n",
    "var query2 =\n",
    "    from n in names\n",
    "    group n by char.ToUpper(n[0]);\n",
    "foreach(var grouping in query2)\n",
    "{\n",
    "    Console.WriteLine(grouping.Key);\n",
    "    foreach(var item in grouping )\n",
    "    Console.WriteLine(\"--\"+ item);\n",
    "}"
   ]
  },
  {
   "cell_type": "markdown",
   "metadata": {},
   "source": [
    "### Chunk"
   ]
  },
  {
   "cell_type": "markdown",
   "metadata": {},
   "source": [
    "`IEnumerable<TSource>`→`IEnumerable<TElement[]>`"
   ]
  },
  {
   "cell_type": "markdown",
   "metadata": {},
   "source": [
    "| Argument    | Type |\n",
    "| -------- | ------- |\n",
    "|***Input sequence*** |`IEnumerable<TSource>`\n",
    "|***size*** |`int`"
   ]
  },
  {
   "cell_type": "markdown",
   "metadata": {},
   "source": [
    "***Chunk*** `groups a sequence` into `chunks of a given size`"
   ]
  },
  {
   "cell_type": "code",
   "execution_count": 8,
   "metadata": {
    "dotnet_interactive": {
     "language": "csharp"
    },
    "polyglot_notebook": {
     "kernelName": "csharp"
    },
    "vscode": {
     "languageId": "polyglot-notebook"
    }
   },
   "outputs": [
    {
     "name": "stdout",
     "output_type": "stream",
     "text": [
      "1, 2, 3\n",
      "4, 5, 6\n",
      "7, 8\n"
     ]
    }
   ],
   "source": [
    "foreach (int[] chunk in new[] { 1, 2, 3, 4, 5, 6, 7, 8 }.Chunk (3))\n",
    "Console.WriteLine (string.Join (\", \", chunk));"
   ]
  }
 ],
 "metadata": {
  "kernelspec": {
   "display_name": ".NET (C#)",
   "language": "C#",
   "name": ".net-csharp"
  },
  "language_info": {
   "name": "python"
  },
  "polyglot_notebook": {
   "kernelInfo": {
    "defaultKernelName": "csharp",
    "items": [
     {
      "aliases": [],
      "name": "csharp"
     }
    ]
   }
  }
 },
 "nbformat": 4,
 "nbformat_minor": 2
}
