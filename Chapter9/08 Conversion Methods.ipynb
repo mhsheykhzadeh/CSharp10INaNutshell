{
 "cells": [
  {
   "cell_type": "markdown",
   "metadata": {},
   "source": [
    "| Argument    | Description |\n",
    "| -------- | ------- |\n",
    "|`OfType` |Converts `IEnumerable` to `IEnumerable<T>`, discarding wrongly typed elements\n",
    "|`Cast`|Converts IEnumerable to IEnumerable<T>, throwing an exception if there are any <br> wrongly typed elements\n",
    "|`ToArray`| Converts `IEnumerable<T>` to `T[]`\n",
    "|`ToList`| Converts `IEnumerable<T>` to `List<T>`\n",
    "|`ToDictionary`| Converts `IEnumerable<T>` to `Dictionary<TKey,TValue>`\n",
    "|`ToLookup`| Converts `IEnumerable<T>` to `ILookup<TKey,TElement>`\n",
    "|`AsEnumerable`| Upcasts to `IEnumerable<T>`\n",
    "|`AsQueryable`| Casts or converts to `IQueryable<T>`"
   ]
  },
  {
   "cell_type": "markdown",
   "metadata": {},
   "source": [
    "### OfType and Cast"
   ]
  },
  {
   "cell_type": "markdown",
   "metadata": {},
   "source": [
    "`OfType` and `Cast` accept a `nongeneric IEnumerable collection` and emit a generic `IEnumerable<T> sequence` that you can subsequently query"
   ]
  },
  {
   "cell_type": "code",
   "execution_count": null,
   "metadata": {
    "dotnet_interactive": {
     "language": "csharp"
    },
    "polyglot_notebook": {
     "kernelName": "csharp"
    },
    "vscode": {
     "languageId": "polyglot-notebook"
    }
   },
   "outputs": [],
   "source": [
    "ArrayList classicList = new ArrayList(); // in System.Collections\n",
    "\n",
    "classicList.AddRange ( new int[] { 3, 4, 5 } );\n",
    "IEnumerable<int> sequence1 = classicList.Cast<int>();\n",
    "\n",
    "IEnumerable<int> sequence2 = classicList.OfType<int>();"
   ]
  },
  {
   "cell_type": "markdown",
   "metadata": {},
   "source": [
    "***Cast*** and ***OfType*** differ in their behavior, ***Cast*** `throws an exception`; ***OfType*** `ignores` the `incompatible element`."
   ]
  },
  {
   "cell_type": "code",
   "execution_count": null,
   "metadata": {
    "dotnet_interactive": {
     "language": "csharp"
    },
    "polyglot_notebook": {
     "kernelName": "csharp"
    },
    "vscode": {
     "languageId": "polyglot-notebook"
    }
   },
   "outputs": [],
   "source": [
    "ArrayList classicList = new ArrayList(); // in System.Collections\n",
    "\n",
    "classicList.AddRange ( new int[] { 3, 4, 5 } );\n",
    "DateTime offender = DateTime.Now;\n",
    "classicList.Add (offender);\n",
    "\n",
    "IEnumerable<int> sequence2 = classicList.OfType<int>(), // OK - ignores offending DateTime\n",
    "    sequence3 = classicList.Cast<int>(); // Throws exception"
   ]
  },
  {
   "cell_type": "code",
   "execution_count": null,
   "metadata": {
    "dotnet_interactive": {
     "language": "csharp"
    },
    "polyglot_notebook": {
     "kernelName": "csharp"
    },
    "vscode": {
     "languageId": "polyglot-notebook"
    }
   },
   "outputs": [],
   "source": [
    "//rules for element compatibility exactly follow those of C#’s is operator\n",
    "//implement of 'OfType'\n",
    "public static IEnumerable<TSource> OfType <TSource> (IEnumerable source)\n",
    "{\n",
    "    foreach (object element in source)\n",
    "        if (element is TSource)\n",
    "            yield return (TSource)element;\n",
    "}\n",
    "\n",
    "public static IEnumerable<TSource> Cast <TSource> (IEnumerable source)\n",
    "{\n",
    "    foreach (object element in source)\n",
    "        yield return (TSource)element;\n",
    "}"
   ]
  },
  {
   "cell_type": "markdown",
   "metadata": {},
   "source": [
    "### ToArray, ToList, ToDictionary, ToHashSet, and ToLookup"
   ]
  },
  {
   "cell_type": "markdown",
   "metadata": {},
   "source": [
    "`ToArray`, `ToList`, and `ToHashSet` emit the results into an `array`, `List<T>` or `HashSet<T>`. ***When they execute***, these operators `force` the `immediate enumeration` of the input sequence"
   ]
  },
  {
   "cell_type": "markdown",
   "metadata": {},
   "source": [
    "`ToDictionary` and `ToLookup` accept the following arguments  \n",
    "  \n",
    "|Argument | Type\n",
    "| -------- | --------\n",
    "|***Input sequence*** | `IEnumerable<TSource>`\n",
    "| ***Key selector*** | `TSource => TKey`\n",
    "| ***Element selector*** (optional) | `TSource => TElement`\n",
    "| ***Comparer*** (optional) | `IEqualityComparer<TKey>`"
   ]
  },
  {
   "cell_type": "markdown",
   "metadata": {},
   "source": [
    "***ToDictionary*** also `forces immediate execution` of a sequence, writing the results to a `generic Dictionary`. The ***keySelector*** expression you provide must evaluate to a `unique value` for `each element` in the input sequence"
   ]
  },
  {
   "cell_type": "markdown",
   "metadata": {},
   "source": [
    "***ToLookup*** allows `many elements` of the `same key`"
   ]
  },
  {
   "cell_type": "markdown",
   "metadata": {},
   "source": [
    "### AsEnumerable and AsQueryable"
   ]
  },
  {
   "cell_type": "markdown",
   "metadata": {},
   "source": [
    "***AsEnumerable*** `upcasts` a sequence to `IEnumerable<T>`, forcing the compiler to bind subsequent query operators to methods in `Enumerable` instead of `Queryable`."
   ]
  },
  {
   "cell_type": "markdown",
   "metadata": {},
   "source": [
    "***AsQueryable*** `downcasts` a sequence to `IQueryable<T>` if it `implements that interface`."
   ]
  }
 ],
 "metadata": {
  "kernelspec": {
   "display_name": ".NET (C#)",
   "language": "C#",
   "name": ".net-csharp"
  },
  "language_info": {
   "name": "python"
  },
  "polyglot_notebook": {
   "kernelInfo": {
    "defaultKernelName": "csharp",
    "items": [
     {
      "aliases": [],
      "name": "csharp"
     }
    ]
   }
  }
 },
 "nbformat": 4,
 "nbformat_minor": 2
}
