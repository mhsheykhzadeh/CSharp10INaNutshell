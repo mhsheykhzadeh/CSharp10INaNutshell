{
 "cells": [
  {
   "cell_type": "markdown",
   "metadata": {},
   "source": [
    "| Method    | Description | SQL equivalents |\n",
    "| -------- | ------- | ------- |\n",
    "|`Where` |Returns a subset of elements that satisfy a given condition |WHERE\n",
    "|`Take` |Returns the first count elements and discards the rest |WHERE ROW_NUMBER()...<br>or TOP n subquery\n",
    "|`Skip` |Ignores the first count elements and returns the rest |WHERE ROW_NUMBER()...<br>or NOT IN (SELECT TOP n...)\n",
    "|`TakeLast` |Takes only the last count elements |Exception thrown\n",
    "|`SkipLast` |Takes only the last count elements |Exception thrown\n",
    "|`TakeWhile` |Emits elements from the input sequence until the<br>predicate is false |Exception thrown\n",
    "|`SkipWhile` |Ignores elements from the input sequence until<br>the predicate is false, and then emits the rest |Exception thrown\n",
    "|`Distinct`,<br>`DistinctBy` |Returns a sequence that excludes duplicates |SELECT DISTINCT..."
   ]
  },
  {
   "cell_type": "markdown",
   "metadata": {},
   "source": [
    "متدهای فیلترینگ، همان تعداد یا تعداد کمتری المان بر می گردانند، در ضمن هیچ تغییری هم در المانها بوجود نمی آورند"
   ]
  },
  {
   "cell_type": "markdown",
   "metadata": {},
   "source": [
    "### Where"
   ]
  },
  {
   "cell_type": "markdown",
   "metadata": {},
   "source": [
    "| Argument    | Type |\n",
    "| -------- | ------- |\n",
    "|Source sequence |`IEnumerable<TSource>`\n",
    "|Predicate |TSource => bool or (TSource,int) => bool"
   ]
  },
  {
   "cell_type": "code",
   "execution_count": null,
   "metadata": {
    "dotnet_interactive": {
     "language": "csharp"
    },
    "polyglot_notebook": {
     "kernelName": "csharp"
    },
    "vscode": {
     "languageId": "polyglot-notebook"
    }
   },
   "outputs": [],
   "source": [
    "public static IEnumerable<TSource> Where<TSource>\n",
    "(this IEnumerable<TSource> source, Func <TSource, bool> predicate)\n",
    "{\n",
    "    foreach (TSource element in source)\n",
    "        if (predicate (element))\n",
    "            yield return element;\n",
    "}"
   ]
  },
  {
   "cell_type": "code",
   "execution_count": null,
   "metadata": {
    "dotnet_interactive": {
     "language": "csharp"
    },
    "polyglot_notebook": {
     "kernelName": "csharp"
    },
    "vscode": {
     "languageId": "polyglot-notebook"
    }
   },
   "outputs": [],
   "source": [
    "string[] names = { \"Tom\", \"Dick\", \"Harry\", \"Mary\", \"Jay\" };\n",
    "IEnumerable<string> fluentQuery = names.Where (name => name.EndsWith (\"y\"));\n",
    "\n",
    "IEnumerable<string> query = \n",
    "    from n in names\n",
    "    where n.EndsWith (\"y\")\n",
    "    select n;"
   ]
  },
  {
   "cell_type": "markdown",
   "metadata": {},
   "source": [
    "A ***where*** clause can appear `more than once` in a query and be interspersed with `let`, `orderby`, and `join` clauses"
   ]
  },
  {
   "cell_type": "code",
   "execution_count": null,
   "metadata": {
    "dotnet_interactive": {
     "language": "csharp"
    },
    "polyglot_notebook": {
     "kernelName": "csharp"
    },
    "vscode": {
     "languageId": "polyglot-notebook"
    }
   },
   "outputs": [],
   "source": [
    "string[] names = { \"Tom\", \"Dick\", \"Harry\", \"Mary\", \"Jay\" };\n",
    "\n",
    "IEnumerable<string> query =\n",
    "    from n in names\n",
    "    where n.Length > 3\n",
    "    let u = n.ToUpper()\n",
    "    where u.EndsWith (\"Y\")\n",
    "    select u;"
   ]
  },
  {
   "cell_type": "markdown",
   "metadata": {},
   "source": [
    "***Indexed filtering***"
   ]
  },
  {
   "cell_type": "code",
   "execution_count": null,
   "metadata": {
    "dotnet_interactive": {
     "language": "csharp"
    },
    "polyglot_notebook": {
     "kernelName": "csharp"
    },
    "vscode": {
     "languageId": "polyglot-notebook"
    }
   },
   "outputs": [],
   "source": [
    "string[] names = { \"Tom\", \"Dick\", \"Harry\", \"Mary\", \"Jay\" };\n",
    "\n",
    "IEnumerable<string> query = names.Where ((n, i) => i % 2 == 0);"
   ]
  },
  {
   "cell_type": "markdown",
   "metadata": {},
   "source": [
    ">An `exception is thrown` if you use indexed filtering in `EF Core`."
   ]
  },
  {
   "cell_type": "markdown",
   "metadata": {},
   "source": [
    "***SQL LIKE comparisons in EF Core***"
   ]
  },
  {
   "cell_type": "markdown",
   "metadata": {},
   "source": [
    "The following methods on string translate to `SQL’s LIKE` operator:  \n",
    "`Contains`, `StartsWith`, `EndsWith`"
   ]
  },
  {
   "cell_type": "markdown",
   "metadata": {},
   "source": [
    "`c.Name.Contains (\"abc\")` => `customer.Name LIKE '%abc%'`"
   ]
  },
  {
   "cell_type": "markdown",
   "metadata": {},
   "source": [
    "to compare against `another column`   \n",
    "  \n",
    "where `EF.Functions.Like (c.Description, \"%\" + c.Name + \"%\")`"
   ]
  },
  {
   "cell_type": "markdown",
   "metadata": {},
   "source": [
    "***< and > string comparisons in EF Core***"
   ]
  },
  {
   "cell_type": "markdown",
   "metadata": {},
   "source": [
    "You can perform order comparison on strings with string’s `CompareTo` method;"
   ]
  },
  {
   "cell_type": "markdown",
   "metadata": {},
   "source": [
    "`dbContext.Purchases.Where (p => p.Description.CompareTo (\"C\") < 0)`  \n",
    "خریدهایی که توضیحات آنها با حروف A , B شروع می شوند"
   ]
  },
  {
   "cell_type": "markdown",
   "metadata": {},
   "source": [
    "***WHERE x IN (…, …, …) in EF Core***"
   ]
  },
  {
   "cell_type": "code",
   "execution_count": null,
   "metadata": {
    "dotnet_interactive": {
     "language": "csharp"
    },
    "polyglot_notebook": {
     "kernelName": "csharp"
    },
    "vscode": {
     "languageId": "polyglot-notebook"
    }
   },
   "outputs": [],
   "source": [
    "string[] chosenOnes = { \"Tom\", \"Jay\" };\n",
    "\n",
    "var query =\n",
    "from c in dbContext.Customers\n",
    "where chosenOnes.Contains (c.Name)\n",
    "select c;\n",
    "\n",
    "//WHERE customer.Name IN (\"Tom\", \"Jay\")"
   ]
  },
  {
   "cell_type": "markdown",
   "metadata": {},
   "source": [
    "### Take, TakeLast, Skip, and SkipLast"
   ]
  },
  {
   "cell_type": "markdown",
   "metadata": {},
   "source": [
    "| Argument    | Type |\n",
    "| -------- | ------- |\n",
    "|Source sequence |`IEnumerable<TSource>`\n",
    "|Number of elements to take or skip |int"
   ]
  },
  {
   "cell_type": "code",
   "execution_count": null,
   "metadata": {
    "dotnet_interactive": {
     "language": "csharp"
    },
    "polyglot_notebook": {
     "kernelName": "csharp"
    },
    "vscode": {
     "languageId": "polyglot-notebook"
    }
   },
   "outputs": [],
   "source": [
    "//The following returns the first 20:\n",
    "IQueryable<Book> query = dbContext.Books\n",
    ".Where (b => b.Title.Contains (\"mercury\"))\n",
    ".OrderBy (b => b.Title)\n",
    ".Take (20);\n",
    "\n",
    "//The next query returns books 21 to 40:\n",
    "IQueryable<Book> query1 = dbContext.Books\n",
    ".Where (b => b.Title.Contains (\"mercury\"))\n",
    ".OrderBy (b => b.Title)\n",
    ".Skip (20).Take (20);"
   ]
  },
  {
   "cell_type": "markdown",
   "metadata": {},
   "source": [
    "***EF Core*** translates `Take` and `Skip` to the `ROW_NUMBER` function in `SQL Server 2005`, or a `TOP n` subquery in `earlier versions of SQL Server`."
   ]
  },
  {
   "cell_type": "markdown",
   "metadata": {},
   "source": [
    "The `TakeLast` and `SkipLast` methods **take** or **skip** the `last n elements`."
   ]
  },
  {
   "cell_type": "markdown",
   "metadata": {},
   "source": [
    "`Take(5..)` is equivalent to `Skip(5)`  \n",
    "  \n",
    "`Take(..^5)` is equivalent to `SkipLast(5)`."
   ]
  },
  {
   "cell_type": "markdown",
   "metadata": {},
   "source": [
    "### TakeWhile and SkipWhile"
   ]
  },
  {
   "cell_type": "markdown",
   "metadata": {},
   "source": [
    "| Argument    | Type |\n",
    "| -------- | ------- |\n",
    "|Source sequence |`IEnumerable<TSource>`\n",
    "|Predicate |TSource => bool or (TSource,int) => bool"
   ]
  },
  {
   "cell_type": "code",
   "execution_count": null,
   "metadata": {
    "dotnet_interactive": {
     "language": "csharp"
    },
    "polyglot_notebook": {
     "kernelName": "csharp"
    },
    "vscode": {
     "languageId": "polyglot-notebook"
    }
   },
   "outputs": [],
   "source": [
    "int[] numbers = { 3, 5, 2, 234, 4, 1 };\n",
    "var takeWhileSmall = numbers.TakeWhile (n => n < 100); // { 3, 5, 2 }"
   ]
  },
  {
   "cell_type": "code",
   "execution_count": null,
   "metadata": {
    "dotnet_interactive": {
     "language": "csharp"
    },
    "polyglot_notebook": {
     "kernelName": "csharp"
    },
    "vscode": {
     "languageId": "polyglot-notebook"
    }
   },
   "outputs": [],
   "source": [
    "int[] numbers = { 3, 5, 2, 234, 4, 1 };\n",
    "var skipWhileSmall = numbers.SkipWhile (n => n < 100); // { 234, 4, 1 }"
   ]
  },
  {
   "cell_type": "markdown",
   "metadata": {},
   "source": [
    "***TakeWhile*** and ***SkipWhile*** have `no translation to SQL` and **throw an exception** if used in an `EF Core` query."
   ]
  },
  {
   "cell_type": "markdown",
   "metadata": {},
   "source": [
    "### Distinct and DistinctBy"
   ]
  },
  {
   "cell_type": "code",
   "execution_count": null,
   "metadata": {
    "dotnet_interactive": {
     "language": "csharp"
    },
    "polyglot_notebook": {
     "kernelName": "csharp"
    },
    "vscode": {
     "languageId": "polyglot-notebook"
    }
   },
   "outputs": [],
   "source": [
    "//Distinct returns the input sequence, stripped of duplicates.\n",
    "char[] distinctLetters = \"HelloWorld\".Distinct().ToArray();\n",
    "string s = new string (distinctLetters);   // HeloWrd"
   ]
  },
  {
   "cell_type": "code",
   "execution_count": 1,
   "metadata": {
    "dotnet_interactive": {
     "language": "csharp"
    },
    "polyglot_notebook": {
     "kernelName": "csharp"
    },
    "vscode": {
     "languageId": "polyglot-notebook"
    }
   },
   "outputs": [],
   "source": [
    "/*The DistinctBy method was introduced in .NET 6 and lets you specify a key\n",
    "selector to be applied before performing equality comparison.*/\n",
    "\n",
    "new[] { 1.0, 1.1, 2.0, 2.1, 3.0, 3.1 }\n",
    ".DistinctBy (n => Math.Round (n, 0));  //{1,2,3}"
   ]
  }
 ],
 "metadata": {
  "language_info": {
   "name": "python"
  }
 },
 "nbformat": 4,
 "nbformat_minor": 2
}
