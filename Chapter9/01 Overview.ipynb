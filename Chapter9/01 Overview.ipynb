{
 "cells": [
  {
   "cell_type": "markdown",
   "metadata": {},
   "source": [
    "`Linq Operators` fall into three categories\n",
    "\n",
    "- `Sequence` in, `sequence` out (sequence→sequence)  \n",
    "  \n",
    "- `Sequence` in, `single element` or `scalar value` out\n",
    "  \n",
    "- `Nothing` in, `sequence` out (***generation methods***)"
   ]
  },
  {
   "cell_type": "markdown",
   "metadata": {},
   "source": [
    "### Sequence→Sequence"
   ]
  },
  {
   "cell_type": "markdown",
   "metadata": {},
   "source": [
    "***Filtering***  \n",
    "\n",
    "`IEnumerable<TSource>` →`IEnumerable<TSource>`  \n",
    "\n",
    "Returns a subset of the original elements.  \n",
    "\n",
    "`Where`, `Take`, `TakeLast`, `TakeWhile`, `Skip`, `SkipLast`, `SkipWhile`,\n",
    "`Distinct`, `DistinctBy`"
   ]
  },
  {
   "cell_type": "markdown",
   "metadata": {},
   "source": [
    "***Projecting***  \n",
    "`Select`, `SelectMany`"
   ]
  },
  {
   "cell_type": "markdown",
   "metadata": {},
   "source": [
    "***Joining***\n",
    "\n",
    "`Join`, `GroupJoin`, `Zip`"
   ]
  },
  {
   "cell_type": "markdown",
   "metadata": {},
   "source": [
    "***Ordering***  \n",
    "  \n",
    "`IEnumerable<TSource>`→`IOrderedEnumerable<TSource>`  \n",
    "  \n",
    "`OrderBy`, `OrderByDescending`, `ThenBy`, `ThenByDescending`, `Reverse`"
   ]
  },
  {
   "cell_type": "markdown",
   "metadata": {},
   "source": [
    "***Grouping***  \n",
    "  \n",
    "`IEnumerable<TSource>`→`IEnumerable<IGrouping<TKey,TElement>>`  \n",
    "`IEnumerable<TSource>`→`IEnumerable<TElement[]>`  \n",
    "  \n",
    "`GroupBy`, `Chunk`"
   ]
  },
  {
   "cell_type": "markdown",
   "metadata": {},
   "source": [
    "***Set operators***  \n",
    "  \n",
    "`IEnumerable<TSource>`, `IEnumerable<TSource>` → `IEnumerable<TSource>`  \n",
    "  \n",
    "`Concat`, `Union`, `UnionBy`, `Intersect`, `IntersectBy`, `Except`, `ExceptBy`"
   ]
  },
  {
   "cell_type": "markdown",
   "metadata": {},
   "source": [
    "***Conversion methods: Import***  \n",
    "  \n",
    "`IEnumerable`→`IEnumerable<TResult>`  \n",
    "  \n",
    "`OfType`, `Cast`"
   ]
  },
  {
   "cell_type": "markdown",
   "metadata": {},
   "source": [
    "***Conversion methods: Export***  \n",
    "  \n",
    "`IEnumerable<TSource>`→An array, list, dictionary, lookup, or sequence  \n",
    "  \n",
    "`ToArray`, `ToList`, `ToDictionary`, `ToLookup`, `AsEnumerable`, `AsQueryable`"
   ]
  },
  {
   "cell_type": "markdown",
   "metadata": {},
   "source": [
    "### Sequence→Element or Value  \n",
    "The following query operators accept `an input sequence` and emit a `single element or value`."
   ]
  },
  {
   "cell_type": "markdown",
   "metadata": {},
   "source": [
    "***Element operators***  \n",
    "  \n",
    "`IEnumerable<TSource>` → `TSource`  \n",
    "\n",
    "`First`, `FirstOrDefault`, `Last`, `LastOrDefault`, `Single`, `SingleOrDefault`, `ElementAt`, `ElementAtOrDefault`, `MinBy`, `MaxBy`, `DefaultIfEmpty`"
   ]
  },
  {
   "cell_type": "markdown",
   "metadata": {},
   "source": [
    "***Aggregation methods***  \n",
    "  \n",
    "`IEnumerable<TSource>`→`scalar`  \n",
    "\n",
    "`Aggregate`, `Average`, `Count`, `LongCount`, `Sum`, `Max`, `Min`"
   ]
  },
  {
   "cell_type": "markdown",
   "metadata": {},
   "source": [
    "***Quantifiers***  \n",
    "  \n",
    "`IEnumerable<TSource>`→`bool`  \n",
    "  \n",
    "`All`, `Any`, `Contains`, `SequenceEqual`"
   ]
  },
  {
   "cell_type": "markdown",
   "metadata": {},
   "source": [
    "### Void→Sequence"
   ]
  },
  {
   "cell_type": "markdown",
   "metadata": {},
   "source": [
    "operators that produce an `output sequence` `from scratch`."
   ]
  },
  {
   "cell_type": "markdown",
   "metadata": {},
   "source": [
    "***Generation methods***  \n",
    "  \n",
    "`void`→`IEnumerable<TResult>`  \n",
    "  \n",
    "`Empty`, `Range`, `Repeat`"
   ]
  }
 ],
 "metadata": {
  "language_info": {
   "name": "python"
  }
 },
 "nbformat": 4,
 "nbformat_minor": 2
}
