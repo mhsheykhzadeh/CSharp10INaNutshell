{
 "cells": [
  {
   "cell_type": "markdown",
   "metadata": {},
   "source": [
    "`IEnumerable<TSource>`→`scalar`  \n",
    "  \n",
    "| Method    | Description | SQL equivalents |\n",
    "| -------- | ------- | ------- |\n",
    "|`Count`, <br>`LongCount` |Returns the number of elements in the input sequence,<br> optionally satisfying a predicate |COUNT (...)\n",
    "|`Min`, `Max`|Returns the smallest or largest element in the sequence|MIN (...), <br> MAX (...)\n",
    "|`Sum`, `Average`|Calculates a numeric sum or average over elements in the <br> sequence| SUM (...), <br> AVG (...)\n",
    "|`Aggregate`| Performs a custom aggregation | Exception thrown"
   ]
  },
  {
   "cell_type": "markdown",
   "metadata": {},
   "source": [
    "### Count and LongCount"
   ]
  },
  {
   "cell_type": "markdown",
   "metadata": {},
   "source": [
    "|Argument | Type\n",
    "| -----| ----\n",
    "|***Source sequence*** |`IEnumerable<TSource>`\n",
    "|***Predicate*** (optional) |`TSource => bool`"
   ]
  },
  {
   "cell_type": "code",
   "execution_count": null,
   "metadata": {
    "dotnet_interactive": {
     "language": "csharp"
    },
    "polyglot_notebook": {
     "kernelName": "csharp"
    },
    "vscode": {
     "languageId": "polyglot-notebook"
    }
   },
   "outputs": [],
   "source": [
    "//Count simply enumerates over a sequence, returning the number of items:\n",
    "int fullCount = new int[] { 5, 6, 7 }.Count(); // 3"
   ]
  },
  {
   "cell_type": "markdown",
   "metadata": {},
   "source": [
    "The `internal implementation` of ***Enumerable.Count*** tests the input sequence to see whether it happens to `implement ICollection<T>`. If it does, it simply calls `ICollection<T>.Count`; otherwise, it `enumerates over every item`, `incrementing a counter`"
   ]
  },
  {
   "cell_type": "code",
   "execution_count": null,
   "metadata": {
    "dotnet_interactive": {
     "language": "csharp"
    },
    "polyglot_notebook": {
     "kernelName": "csharp"
    },
    "vscode": {
     "languageId": "polyglot-notebook"
    }
   },
   "outputs": [],
   "source": [
    "//You can optionally supply a predicate:\n",
    "\n",
    "int digitCount = \"pa55w0rd\".Count (c => char.IsDigit (c)); // 3"
   ]
  },
  {
   "cell_type": "markdown",
   "metadata": {},
   "source": [
    "***LongCount*** does the `same job` as ***Count*** but returns a `64-bit integer`, allowing for sequences of `greater than` ***two billion elements***."
   ]
  },
  {
   "cell_type": "markdown",
   "metadata": {},
   "source": [
    "### Min and Max"
   ]
  },
  {
   "cell_type": "markdown",
   "metadata": {},
   "source": [
    "|Argument | Type\n",
    "| -----| ----\n",
    "|***Source sequence*** |`IEnumerable<TSource>`\n",
    "|***Result selector*** (optional) |`TSource => TResult`"
   ]
  },
  {
   "cell_type": "code",
   "execution_count": null,
   "metadata": {
    "dotnet_interactive": {
     "language": "csharp"
    },
    "polyglot_notebook": {
     "kernelName": "csharp"
    },
    "vscode": {
     "languageId": "polyglot-notebook"
    }
   },
   "outputs": [],
   "source": [
    "//Min and Max return the smallest or largest element from a sequence:\n",
    "\n",
    "int[] numbers = { 28, 32, 14 };\n",
    "int smallest = numbers.Min(); // 14;\n",
    "int largest = numbers.Max(); // 32;"
   ]
  },
  {
   "cell_type": "code",
   "execution_count": null,
   "metadata": {
    "dotnet_interactive": {
     "language": "csharp"
    },
    "polyglot_notebook": {
     "kernelName": "csharp"
    },
    "vscode": {
     "languageId": "polyglot-notebook"
    }
   },
   "outputs": [],
   "source": [
    "int[] numbers = { 28, 32, 14 };\n",
    "\n",
    "//If you include a selector expression, each element is first projected:\n",
    "int smallest = numbers.Max (n => n % 10); // 8;"
   ]
  },
  {
   "cell_type": "markdown",
   "metadata": {},
   "source": [
    "A ***selector expression*** is `mandatory(اجباری)` if the items themselves are not intrinsically `comparable`—in other words, if they do not implement `IComparable<T>`"
   ]
  },
  {
   "cell_type": "code",
   "execution_count": null,
   "metadata": {
    "dotnet_interactive": {
     "language": "csharp"
    },
    "polyglot_notebook": {
     "kernelName": "csharp"
    },
    "vscode": {
     "languageId": "polyglot-notebook"
    }
   },
   "outputs": [],
   "source": [
    "Purchase runtimeError = dbContext.Purchases.Min (); // Error\n",
    "decimal? lowestPrice = dbContext.Purchases.Min (p => p.Price); // OK"
   ]
  },
  {
   "cell_type": "markdown",
   "metadata": {},
   "source": [
    "A ***selector expression*** determines `not only` how elements are `compared`, but also the `final result`."
   ]
  },
  {
   "cell_type": "code",
   "execution_count": null,
   "metadata": {
    "vscode": {
     "languageId": "polyglot-notebook"
    }
   },
   "outputs": [],
   "source": [
    "//To get the cheapest purchase, you need a subquery\n",
    "Purchase cheapest = dbContext.Purchases\n",
    ".Where (p => p.Price == dbContext.Purchases.Min (p2 => p2.Price))\n",
    ".FirstOrDefault();\n",
    "\n",
    "//best paractice is use OrderBy for this solution"
   ]
  },
  {
   "cell_type": "markdown",
   "metadata": {},
   "source": [
    "### Sum and Average"
   ]
  },
  {
   "cell_type": "markdown",
   "metadata": {},
   "source": [
    "|Argument | Type\n",
    "| -----| ----\n",
    "|***Source sequence*** |`IEnumerable<TSource>`\n",
    "|***Result selector*** (optional) |`TSource => TResult`"
   ]
  },
  {
   "cell_type": "code",
   "execution_count": null,
   "metadata": {
    "vscode": {
     "languageId": "polyglot-notebook"
    }
   },
   "outputs": [],
   "source": [
    "decimal[] numbers = { 3, 4, 8 };\n",
    "decimal sumTotal = numbers.Sum(); // 15\n",
    "decimal average = numbers.Average(); // 5 (mean value)"
   ]
  },
  {
   "cell_type": "code",
   "execution_count": null,
   "metadata": {
    "vscode": {
     "languageId": "polyglot-notebook"
    }
   },
   "outputs": [],
   "source": [
    "int combinedLength = names.Sum (s => s.Length); // 19"
   ]
  },
  {
   "cell_type": "markdown",
   "metadata": {},
   "source": [
    "Average Result Types  \n",
    "  \n",
    "|Selector type |Result type\n",
    "|---- | ----\n",
    "|**decimal** |`decimal`\n",
    "|**float** |`float`\n",
    "|**int**, **long**, **double** |`double`"
   ]
  },
  {
   "cell_type": "code",
   "execution_count": null,
   "metadata": {
    "vscode": {
     "languageId": "polyglot-notebook"
    }
   },
   "outputs": [],
   "source": [
    "//This means that the following does not compile (“cannot convert double to int”):\n",
    "int avg = new int[] { 3, 4 }.Average();\n",
    "\n",
    "//But this will compile:\n",
    "double avg1 = new int[] { 3, 4 }.Average(); // 3.5\n"
   ]
  },
  {
   "cell_type": "markdown",
   "metadata": {},
   "source": [
    "### Aggregate"
   ]
  },
  {
   "cell_type": "markdown",
   "metadata": {},
   "source": [
    "***Aggregate*** allows you to specify a `custom accumulation(جمع آوری) algorithm` for implementing `unusual aggregations`."
   ]
  },
  {
   "cell_type": "code",
   "execution_count": null,
   "metadata": {
    "vscode": {
     "languageId": "polyglot-notebook"
    }
   },
   "outputs": [],
   "source": [
    "int sum = numbers.Aggregate (0, (total, n) => total + n); // 6\n",
    "\n",
    "//The first argument to Aggregate is the seed,from which accumulation starts\n",
    "// اولین مقدار را صفر در نظر میگیرد، و دومین مقدار 1 میشود"
   ]
  },
  {
   "cell_type": "markdown",
   "metadata": {},
   "source": [
    "#### Unseeded aggregations"
   ]
  },
  {
   "cell_type": "code",
   "execution_count": null,
   "metadata": {
    "vscode": {
     "languageId": "polyglot-notebook"
    }
   },
   "outputs": [],
   "source": [
    "int[] numbers = { 1, 2, 3 };\n",
    "\n",
    "//we were calculating 0 + 1 + 2 + 3;\n",
    "int sum = numbers.Aggregate (0, (total, n) => total + n); // 6\n",
    "\n",
    "//now we’re calculating 1 + 2 + 3.\n",
    "int sum1 = numbers.Aggregate ((total, n) => total + n); // 6"
   ]
  },
  {
   "cell_type": "code",
   "execution_count": null,
   "metadata": {
    "vscode": {
     "languageId": "polyglot-notebook"
    }
   },
   "outputs": [],
   "source": [
    "int[] numbers = { 1, 2, 3 };\n",
    "int x = numbers.Aggregate (0, (prod, n) => prod * n); // 0*1*2*3 = 0\n",
    "int y = numbers.Aggregate ( (prod, n) => prod * n); // 1*2*3 = 6"
   ]
  },
  {
   "cell_type": "markdown",
   "metadata": {},
   "source": [
    "***unseeded aggregations*** have the advantage of being `parallelizable` without requiring the use of special overloads."
   ]
  }
 ],
 "metadata": {
  "kernelspec": {
   "display_name": ".NET (C#)",
   "language": "C#",
   "name": ".net-csharp"
  },
  "language_info": {
   "name": "python"
  },
  "polyglot_notebook": {
   "kernelInfo": {
    "defaultKernelName": "csharp",
    "items": [
     {
      "aliases": [],
      "name": "csharp"
     }
    ]
   }
  }
 },
 "nbformat": 4,
 "nbformat_minor": 2
}
