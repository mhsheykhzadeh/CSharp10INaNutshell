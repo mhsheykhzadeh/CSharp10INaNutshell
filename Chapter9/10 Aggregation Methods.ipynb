{
 "cells": [
  {
   "cell_type": "markdown",
   "metadata": {},
   "source": [
    "`IEnumerable<TSource>`→`scalar`  \n",
    "  \n",
    "| Method    | Description | SQL equivalents |\n",
    "| -------- | ------- | ------- |\n",
    "|`Count`, <br>`LongCount` |Returns the number of elements in the input sequence,<br> optionally satisfying a predicate |COUNT (...)\n",
    "|`Min`, `Max`|Returns the smallest or largest element in the sequence|MIN (...), <br> MAX (...)\n",
    "|`Sum`, `Average`|Calculates a numeric sum or average over elements in the <br> sequence| SUM (...), <br> AVG (...)\n",
    "|`Aggregate`| Performs a custom aggregation | Exception thrown"
   ]
  },
  {
   "cell_type": "markdown",
   "metadata": {},
   "source": [
    "### Count and LongCount"
   ]
  },
  {
   "cell_type": "markdown",
   "metadata": {},
   "source": [
    "|Argument | Type\n",
    "| -----| ----\n",
    "|***Source sequence*** |`IEnumerable<TSource>`\n",
    "|***Predicate*** (optional) |`TSource => bool`"
   ]
  },
  {
   "cell_type": "code",
   "execution_count": null,
   "metadata": {
    "dotnet_interactive": {
     "language": "csharp"
    },
    "polyglot_notebook": {
     "kernelName": "csharp"
    },
    "vscode": {
     "languageId": "polyglot-notebook"
    }
   },
   "outputs": [],
   "source": [
    "//Count simply enumerates over a sequence, returning the number of items:\n",
    "int fullCount = new int[] { 5, 6, 7 }.Count(); // 3"
   ]
  },
  {
   "cell_type": "markdown",
   "metadata": {},
   "source": [
    "The `internal implementation` of ***Enumerable.Count*** tests the input sequence to see whether it happens to `implement ICollection<T>`. If it does, it simply calls `ICollection<T>.Count`; otherwise, it `enumerates over every item`, `incrementing a counter`"
   ]
  },
  {
   "cell_type": "code",
   "execution_count": null,
   "metadata": {
    "dotnet_interactive": {
     "language": "csharp"
    },
    "polyglot_notebook": {
     "kernelName": "csharp"
    },
    "vscode": {
     "languageId": "polyglot-notebook"
    }
   },
   "outputs": [],
   "source": [
    "//You can optionally supply a predicate:\n",
    "\n",
    "int digitCount = \"pa55w0rd\".Count (c => char.IsDigit (c)); // 3"
   ]
  },
  {
   "cell_type": "markdown",
   "metadata": {},
   "source": [
    "***LongCount*** does the `same job` as ***Count*** but returns a `64-bit integer`, allowing for sequences of `greater than` ***two billion elements***."
   ]
  },
  {
   "cell_type": "markdown",
   "metadata": {},
   "source": [
    "### Min and Max"
   ]
  },
  {
   "cell_type": "markdown",
   "metadata": {},
   "source": [
    "|Argument | Type\n",
    "| -----| ----\n",
    "|***Source sequence*** |`IEnumerable<TSource>`\n",
    "|***Result selector*** (optional) |`TSource => TResult`"
   ]
  },
  {
   "cell_type": "code",
   "execution_count": null,
   "metadata": {
    "dotnet_interactive": {
     "language": "csharp"
    },
    "polyglot_notebook": {
     "kernelName": "csharp"
    },
    "vscode": {
     "languageId": "polyglot-notebook"
    }
   },
   "outputs": [],
   "source": [
    "//Min and Max return the smallest or largest element from a sequence:\n",
    "\n",
    "int[] numbers = { 28, 32, 14 };\n",
    "int smallest = numbers.Min(); // 14;\n",
    "int largest = numbers.Max(); // 32;"
   ]
  },
  {
   "cell_type": "code",
   "execution_count": null,
   "metadata": {
    "dotnet_interactive": {
     "language": "csharp"
    },
    "polyglot_notebook": {
     "kernelName": "csharp"
    },
    "vscode": {
     "languageId": "polyglot-notebook"
    }
   },
   "outputs": [],
   "source": [
    "int[] numbers = { 28, 32, 14 };\n",
    "\n",
    "//If you include a selector expression, each element is first projected:\n",
    "int smallest = numbers.Max (n => n % 10); // 8;"
   ]
  },
  {
   "cell_type": "markdown",
   "metadata": {},
   "source": [
    "A ***selector expression*** is `mandatory(اجباری)` if the items themselves are not intrinsically `comparable`—in other words, if they do not implement `IComparable<T>`"
   ]
  },
  {
   "cell_type": "code",
   "execution_count": null,
   "metadata": {
    "dotnet_interactive": {
     "language": "csharp"
    },
    "polyglot_notebook": {
     "kernelName": "csharp"
    },
    "vscode": {
     "languageId": "polyglot-notebook"
    }
   },
   "outputs": [],
   "source": [
    "Purchase runtimeError = dbContext.Purchases.Min (); // Error\n",
    "decimal? lowestPrice = dbContext.Purchases.Min (p => p.Price); // OK"
   ]
  },
  {
   "cell_type": "markdown",
   "metadata": {},
   "source": [
    "A ***selector expression*** determines `not only` how elements are `compared`, but also the `final result`."
   ]
  },
  {
   "cell_type": "code",
   "execution_count": null,
   "metadata": {
    "dotnet_interactive": {
     "language": "csharp"
    },
    "polyglot_notebook": {
     "kernelName": "csharp"
    },
    "vscode": {
     "languageId": "polyglot-notebook"
    }
   },
   "outputs": [],
   "source": [
    "//To get the cheapest purchase, you need a subquery\n",
    "Purchase cheapest = dbContext.Purchases\n",
    ".Where (p => p.Price == dbContext.Purchases.Min (p2 => p2.Price))\n",
    ".FirstOrDefault();\n",
    "\n",
    "//best paractice is use OrderBy for this solution"
   ]
  },
  {
   "cell_type": "markdown",
   "metadata": {},
   "source": [
    "### Sum and Average"
   ]
  },
  {
   "cell_type": "markdown",
   "metadata": {},
   "source": [
    "|Argument | Type\n",
    "| -----| ----\n",
    "|***Source sequence*** |`IEnumerable<TSource>`\n",
    "|***Result selector*** (optional) |`TSource => TResult`"
   ]
  },
  {
   "cell_type": "code",
   "execution_count": null,
   "metadata": {
    "dotnet_interactive": {
     "language": "csharp"
    },
    "polyglot_notebook": {
     "kernelName": "csharp"
    },
    "vscode": {
     "languageId": "polyglot-notebook"
    }
   },
   "outputs": [],
   "source": [
    "decimal[] numbers = { 3, 4, 8 };\n",
    "decimal sumTotal = numbers.Sum(); // 15\n",
    "decimal average = numbers.Average(); // 5 (mean value)"
   ]
  },
  {
   "cell_type": "code",
   "execution_count": null,
   "metadata": {
    "dotnet_interactive": {
     "language": "csharp"
    },
    "polyglot_notebook": {
     "kernelName": "csharp"
    },
    "vscode": {
     "languageId": "polyglot-notebook"
    }
   },
   "outputs": [],
   "source": [
    "int combinedLength = names.Sum (s => s.Length); // 19"
   ]
  },
  {
   "cell_type": "markdown",
   "metadata": {},
   "source": [
    "Average Result Types  \n",
    "  \n",
    "|Selector type |Result type\n",
    "|---- | ----\n",
    "|**decimal** |`decimal`\n",
    "|**float** |`float`\n",
    "|**int**, **long**, **double** |`double`"
   ]
  },
  {
   "cell_type": "code",
   "execution_count": null,
   "metadata": {
    "dotnet_interactive": {
     "language": "csharp"
    },
    "polyglot_notebook": {
     "kernelName": "csharp"
    },
    "vscode": {
     "languageId": "polyglot-notebook"
    }
   },
   "outputs": [],
   "source": [
    "//This means that the following does not compile (“cannot convert double to int”):\n",
    "int avg = new int[] { 3, 4 }.Average();\n",
    "\n",
    "//But this will compile:\n",
    "double avg1 = new int[] { 3, 4 }.Average(); // 3.5\n"
   ]
  },
  {
   "cell_type": "markdown",
   "metadata": {},
   "source": [
    "### Aggregate"
   ]
  },
  {
   "cell_type": "markdown",
   "metadata": {},
   "source": [
    "***Aggregate*** allows you to specify a `custom accumulation(جمع آوری) algorithm` for implementing `unusual aggregations`."
   ]
  },
  {
   "cell_type": "code",
   "execution_count": null,
   "metadata": {
    "dotnet_interactive": {
     "language": "csharp"
    },
    "polyglot_notebook": {
     "kernelName": "csharp"
    },
    "vscode": {
     "languageId": "polyglot-notebook"
    }
   },
   "outputs": [],
   "source": [
    "public static TSource Aggregate<TSource>(\n",
    "    this IEnumerable<TSource> source,\n",
    "    Func<TSource, TSource, TSource> func\n",
    ");\n",
    "\n",
    "public static TAccumulate Aggregate<TSource, TAccumulate>(\n",
    "    this IEnumerable<TSource> source,\n",
    "    TAccumulate seed,\n",
    "    Func<TAccumulate, TSource, TAccumulate> func\n",
    ");\n",
    "\n",
    "public static TResult Aggregate<TSource, TAccumulate, TResult>(\n",
    "    this IEnumerable<TSource> source,\n",
    "    TAccumulate seed,\n",
    "    Func<TAccumulate, TSource, TAccumulate> func,\n",
    "    Func<TAccumulate, TResult> resultSelector\n",
    ");\n"
   ]
  },
  {
   "cell_type": "code",
   "execution_count": 2,
   "metadata": {
    "dotnet_interactive": {
     "language": "csharp"
    },
    "polyglot_notebook": {
     "kernelName": "csharp"
    },
    "vscode": {
     "languageId": "polyglot-notebook"
    }
   },
   "outputs": [
    {
     "name": "stdout",
     "output_type": "stream",
     "text": [
      "25\r\n"
     ]
    }
   ],
   "source": [
    "var numbers = new[] { 1, 2, 3, 4, 5 };\n",
    "int sum = numbers.Aggregate (10,(total, n) => total + n); // 6\n",
    "//0+1+2+3\n",
    "Console.WriteLine(sum);\n",
    "\n",
    "//The first argument to Aggregate is the seed,from which accumulation starts\n",
    "// اولین مقدار را صفر در نظر میگیرد، و دومین مقدار 1 میشود"
   ]
  },
  {
   "cell_type": "markdown",
   "metadata": {},
   "source": [
    "<div dir=\"rtl\" style=\"margin:auto; width:90%; font-family:vazirmatn\">\n",
    "<p>تابع <strong><code>Aggregate</code></strong> به صورت مکرر عناصر دنباله را به تابعی که تعریف کرده‌اید ارسال می‌کند تا یک مقدار نهایی تولید کند.</p>\n",
    "</div>"
   ]
  },
  {
   "cell_type": "code",
   "execution_count": 4,
   "metadata": {
    "dotnet_interactive": {
     "language": "csharp"
    },
    "polyglot_notebook": {
     "kernelName": "csharp"
    },
    "vscode": {
     "languageId": "polyglot-notebook"
    }
   },
   "outputs": [
    {
     "name": "stdout",
     "output_type": "stream",
     "text": [
      "48\r\n"
     ]
    }
   ],
   "source": [
    "var numbers = new List<int> { 2, 3, 4 };\n",
    "\n",
    "int result = numbers.Aggregate(2,(total, next) => total * next);\n",
    "\n",
    "Console.WriteLine(result); // خروجی: 24 (2 * 3 * 4)"
   ]
  },
  {
   "cell_type": "markdown",
   "metadata": {},
   "source": [
    "<div dir=\"rtl\" style=\"margin:auto; width:90%; font-family:vazirmatn\">\n",
    "<ul><li>مقدار اولیه (seed) تعریف نشده است و اولین عنصر دنباله به عنوان مقدار اولیه در نظر گرفته می‌شود.</li><li>هر عنصر با عنصر قبلی ترکیب می‌شود.</li></ul>\n",
    "</div>"
   ]
  },
  {
   "cell_type": "code",
   "execution_count": null,
   "metadata": {
    "dotnet_interactive": {
     "language": "csharp"
    },
    "polyglot_notebook": {
     "kernelName": "csharp"
    },
    "vscode": {
     "languageId": "polyglot-notebook"
    }
   },
   "outputs": [],
   "source": [
    "// استفاده از مقدار اولیه (Seed)\n",
    "\n",
    "var numbers = new List<int> { 2, 3, 4 };\n",
    "\n",
    "int result = numbers.Aggregate( (total, next) => total * next);\n",
    "\n",
    "Console.WriteLine(result); // خروجی: 240 (10 * 2 * 3 * 4)\n"
   ]
  },
  {
   "cell_type": "code",
   "execution_count": null,
   "metadata": {
    "dotnet_interactive": {
     "language": "csharp"
    },
    "polyglot_notebook": {
     "kernelName": "csharp"
    },
    "vscode": {
     "languageId": "polyglot-notebook"
    }
   },
   "outputs": [],
   "source": [
    "// ایجاد یک رشته از دنباله‌ای از رشته‌ها\n",
    "\n",
    "var words = new List<string> { \"Hello\", \"World\", \"LINQ\" };\n",
    "\n",
    "string sentence = words.Aggregate((current, next) => current + \" \" + next);\n",
    "\n",
    "Console.WriteLine(sentence); // خروجی: \"Hello World LINQ\"\n"
   ]
  },
  {
   "cell_type": "code",
   "execution_count": 5,
   "metadata": {
    "dotnet_interactive": {
     "language": "csharp"
    },
    "polyglot_notebook": {
     "kernelName": "csharp"
    },
    "vscode": {
     "languageId": "polyglot-notebook"
    }
   },
   "outputs": [
    {
     "name": "stdout",
     "output_type": "stream",
     "text": [
      "RESULT: 2 3 4\r\n"
     ]
    }
   ],
   "source": [
    "// تغییر نوع نتیجه با resultSelector\n",
    "\n",
    "var numbers = new List<int> { 2, 3, 4 };\n",
    "\n",
    "string result = numbers.Aggregate(\n",
    "    \"Result:\",\n",
    "    (current, next) => current + \" \" + next,\n",
    "    final => final.ToUpper()\n",
    ");\n",
    "\n",
    "Console.WriteLine(result); // خروجی: \"RESULT: 2 3 4\"\n"
   ]
  }
 ],
 "metadata": {
  "kernelspec": {
   "display_name": ".NET (C#)",
   "language": "C#",
   "name": ".net-csharp"
  },
  "language_info": {
   "name": "python"
  },
  "polyglot_notebook": {
   "kernelInfo": {
    "defaultKernelName": "csharp",
    "items": [
     {
      "aliases": [],
      "name": "csharp"
     }
    ]
   }
  }
 },
 "nbformat": 4,
 "nbformat_minor": 2
}
