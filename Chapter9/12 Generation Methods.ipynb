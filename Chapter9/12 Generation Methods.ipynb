{
 "cells": [
  {
   "cell_type": "markdown",
   "metadata": {
    "dotnet_interactive": {
     "language": "csharp"
    },
    "polyglot_notebook": {
     "kernelName": "csharp"
    },
    "vscode": {
     "languageId": "polyglot-notebook"
    }
   },
   "source": [
    "`IEnumerable<TSource>`→`bool`  \n",
    "  \n",
    "| Method    | Description | \n",
    "| -------- | ------- |\n",
    "|`Empty` |Creates an empty sequence\n",
    "|`Repeat` |Creates a sequence of repeating elements\n",
    "|`Range` |Creates a sequence of integers "
   ]
  },
  {
   "cell_type": "markdown",
   "metadata": {},
   "source": [
    "***Empty***, ***Repeat***, and ***Range*** are `static` (nonextension) methods that manufacture simple local sequences."
   ]
  },
  {
   "cell_type": "markdown",
   "metadata": {},
   "source": [
    "### Empty"
   ]
  },
  {
   "cell_type": "markdown",
   "metadata": {},
   "source": [
    "***Empty*** manufactures an `empty sequence` and requires just a `type argument`"
   ]
  },
  {
   "cell_type": "code",
   "execution_count": null,
   "metadata": {
    "dotnet_interactive": {
     "language": "csharp"
    },
    "polyglot_notebook": {
     "kernelName": "csharp"
    },
    "vscode": {
     "languageId": "polyglot-notebook"
    }
   },
   "outputs": [],
   "source": [
    "foreach (string s in Enumerable.Empty<string>())\n",
    "    Console.Write (s); // <nothing>"
   ]
  },
  {
   "cell_type": "code",
   "execution_count": null,
   "metadata": {
    "dotnet_interactive": {
     "language": "csharp"
    },
    "polyglot_notebook": {
     "kernelName": "csharp"
    },
    "vscode": {
     "languageId": "polyglot-notebook"
    }
   },
   "outputs": [],
   "source": [
    "int[][] numbers = //jagged array\n",
    "{\n",
    "    new int[] { 1, 2, 3 },\n",
    "    new int[] { 4, 5, 6 },\n",
    "    null // this null makes the query below fail.\n",
    "};\n",
    "\n",
    "IEnumerable<int> flat = numbers.SelectMany (innerArray => innerArray);\n",
    "//we get error \n",
    "//to fix\n",
    "\n",
    "IEnumerable<int> flat1 = numbers\n",
    "    .SelectMany (innerArray => innerArray ?? Enumerable.Empty <int>());\n",
    "    "
   ]
  },
  {
   "cell_type": "markdown",
   "metadata": {},
   "source": [
    "### Range and Repeat"
   ]
  },
  {
   "cell_type": "code",
   "execution_count": null,
   "metadata": {
    "dotnet_interactive": {
     "language": "csharp"
    },
    "polyglot_notebook": {
     "kernelName": "csharp"
    },
    "vscode": {
     "languageId": "polyglot-notebook"
    }
   },
   "outputs": [],
   "source": [
    "//Range accepts a starting index and count (both integers):\n",
    "\n",
    "foreach (int i in Enumerable.Range (1, 100))\n",
    "Console.Write (i + \" \"); // 5 6 7"
   ]
  },
  {
   "cell_type": "code",
   "execution_count": null,
   "metadata": {
    "dotnet_interactive": {
     "language": "csharp"
    },
    "polyglot_notebook": {
     "kernelName": "csharp"
    },
    "vscode": {
     "languageId": "polyglot-notebook"
    }
   },
   "outputs": [],
   "source": [
    "//Repeat accepts an element to repeat, and the number of repetitions:\n",
    "\n",
    "foreach (bool x in Enumerable.Repeat (true, 3))\n",
    "Console.Write (x + \" \"); // True True True"
   ]
  }
 ],
 "metadata": {
  "kernelspec": {
   "display_name": ".NET (C#)",
   "language": "C#",
   "name": ".net-csharp"
  },
  "language_info": {
   "name": "python"
  },
  "polyglot_notebook": {
   "kernelInfo": {
    "defaultKernelName": "csharp",
    "items": [
     {
      "aliases": [],
      "name": "csharp"
     }
    ]
   }
  }
 },
 "nbformat": 4,
 "nbformat_minor": 2
}
