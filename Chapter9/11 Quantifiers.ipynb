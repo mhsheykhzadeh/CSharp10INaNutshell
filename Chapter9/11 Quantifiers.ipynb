{
 "cells": [
  {
   "cell_type": "markdown",
   "metadata": {},
   "source": [
    "`IEnumerable<TSource>`→`bool`  \n",
    "  \n",
    "| Method    | Description | SQL equivalents |\n",
    "| -------- | ------- | ------- |\n",
    "|`Contains` |Returns true if the input sequence contains the given element |WHERE ... IN (...)\n",
    "|`Any` |Returns true if any elements satisfy the given predicate|WHERE ... IN (...)\n",
    "|`All` |Returns true if all elements satisfy the given predicate| WHERE (...)\n",
    "|`SequenceEqual`| Returns true if the second sequence has identical elements to <br> the input sequence | "
   ]
  },
  {
   "cell_type": "markdown",
   "metadata": {},
   "source": [
    "### Contains and Any"
   ]
  },
  {
   "cell_type": "markdown",
   "metadata": {},
   "source": [
    "The ***Contains*** method accepts an argument `of type TSource`;"
   ]
  },
  {
   "cell_type": "code",
   "execution_count": null,
   "metadata": {
    "dotnet_interactive": {
     "language": "csharp"
    },
    "polyglot_notebook": {
     "kernelName": "csharp"
    },
    "vscode": {
     "languageId": "polyglot-notebook"
    }
   },
   "outputs": [],
   "source": [
    "bool hasAThree = new int[] { 2, 3, 4 }.Contains (3);"
   ]
  },
  {
   "cell_type": "markdown",
   "metadata": {},
   "source": [
    "***Any*** returns `true` if the given expression is true for at `least one element`."
   ]
  },
  {
   "cell_type": "code",
   "execution_count": null,
   "metadata": {
    "dotnet_interactive": {
     "language": "csharp"
    },
    "polyglot_notebook": {
     "kernelName": "csharp"
    },
    "vscode": {
     "languageId": "polyglot-notebook"
    }
   },
   "outputs": [],
   "source": [
    "bool hasAThree = new int[] { 2, 3, 4 }.Any (n => n == 3); // true;"
   ]
  },
  {
   "cell_type": "markdown",
   "metadata": {},
   "source": [
    "***Any*** can `do everything` that ***Contains*** `can do`  \n",
    "  \n",
    "Calling ***Any*** `without a predicate` returns `true` if the `sequence has one or more elements`."
   ]
  },
  {
   "cell_type": "code",
   "execution_count": null,
   "metadata": {
    "dotnet_interactive": {
     "language": "csharp"
    },
    "polyglot_notebook": {
     "kernelName": "csharp"
    },
    "vscode": {
     "languageId": "polyglot-notebook"
    }
   },
   "outputs": [],
   "source": [
    "bool hasABigNumber = new int[] { 2, 3, 4 }.Where (n => n > 10).Any();"
   ]
  },
  {
   "cell_type": "code",
   "execution_count": null,
   "metadata": {
    "dotnet_interactive": {
     "language": "csharp"
    },
    "polyglot_notebook": {
     "kernelName": "csharp"
    },
    "vscode": {
     "languageId": "polyglot-notebook"
    }
   },
   "outputs": [],
   "source": [
    "//Any is particularly useful in subqueries and is used often when querying databases\n",
    "\n",
    "var query = \n",
    "    from c in dbContext.Customers\n",
    "    where c.Purchases.Any (p => p.Price > 1000)\n",
    "    select c;"
   ]
  },
  {
   "cell_type": "markdown",
   "metadata": {},
   "source": [
    "### All and SequenceEqual"
   ]
  },
  {
   "cell_type": "markdown",
   "metadata": {},
   "source": [
    "***All*** returns true if `all elements satisfy a predicate`."
   ]
  },
  {
   "cell_type": "code",
   "execution_count": null,
   "metadata": {
    "dotnet_interactive": {
     "language": "csharp"
    },
    "polyglot_notebook": {
     "kernelName": "csharp"
    },
    "vscode": {
     "languageId": "polyglot-notebook"
    }
   },
   "outputs": [],
   "source": [
    "//The following returns customers\n",
    "//whose purchases are less than $100\n",
    "\n",
    "dbContext.Customers.Where (c => c.Purchases.All (p => p.Price < 100));"
   ]
  },
  {
   "cell_type": "markdown",
   "metadata": {},
   "source": [
    "***SequenceEqual*** compares `two sequences`. To return true, each sequence must have\n",
    "`identical(همسان) elements`, in the `identical order`."
   ]
  }
 ],
 "metadata": {
  "kernelspec": {
   "display_name": ".NET (C#)",
   "language": "C#",
   "name": ".net-csharp"
  },
  "language_info": {
   "name": "python"
  },
  "polyglot_notebook": {
   "kernelInfo": {
    "defaultKernelName": "csharp",
    "items": [
     {
      "aliases": [],
      "name": "csharp"
     }
    ]
   }
  }
 },
 "nbformat": 4,
 "nbformat_minor": 2
}
