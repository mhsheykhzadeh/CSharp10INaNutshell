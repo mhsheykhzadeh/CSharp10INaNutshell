{
 "cells": [
  {
   "cell_type": "markdown",
   "metadata": {},
   "source": [
    "`IEnumerable<TSource>`→`IOrderedEnumerable<TSource>`  \n",
    "  \n",
    "\n",
    "\n",
    "| Method    | Description | SQL equivalents |\n",
    "| -------- | ------- | ------- |\n",
    "|`OrderBy`, `ThenBy` |Sorts a sequence in ascending order |ORDER BY ...\n",
    "|`OrderByDescending`,<br>`ThenByDescending` |Sorts a sequence in descending order |ORDER BY ... DESC\n",
    "|`Reverse` |Returns a sequence in reverse order |Exception thrown"
   ]
  },
  {
   "cell_type": "markdown",
   "metadata": {},
   "source": [
    "***Ordering operators*** return the `same elements` in a `different order`."
   ]
  },
  {
   "cell_type": "markdown",
   "metadata": {},
   "source": [
    "### `OrderBy` and `OrderByDescending`"
   ]
  },
  {
   "cell_type": "markdown",
   "metadata": {},
   "source": [
    "| Argument    | Type |\n",
    "| -------- | ------- |\n",
    "|***Input sequence*** |`IEnumerable<TSource>`\n",
    "|***Key selector*** |`TSource => TKey`  \n",
    "\n",
    "***Return type*** = `IOrderedEnumerable<TSource>`"
   ]
  },
  {
   "cell_type": "markdown",
   "metadata": {},
   "source": [
    "### `ThenBy` and `ThenByDescending` arguments"
   ]
  },
  {
   "cell_type": "markdown",
   "metadata": {},
   "source": [
    "| Argument    | Type |\n",
    "| -------- | ------- |\n",
    "|***Input sequence*** |`IOrderedEnumerable<TSource>`\n",
    "|***Key selector*** |`TSource => TKey`  "
   ]
  },
  {
   "cell_type": "code",
   "execution_count": null,
   "metadata": {
    "dotnet_interactive": {
     "language": "csharp"
    },
    "polyglot_notebook": {
     "kernelName": "csharp"
    },
    "vscode": {
     "languageId": "polyglot-notebook"
    }
   },
   "outputs": [],
   "source": [
    "var names = new List<string> { \"Jay\", \"Tom\", \"Mary\", \"Dick\", \"Harry\" };\n",
    "\n",
    "IEnumerable<string> quer1 = names.OrderBy (s => s); //alphabetical order\n",
    "IEnumerable<string> query2 = names.OrderBy (s => s.Length); //length order\n",
    "\n",
    "IEnumerable<string> query3 = names.OrderBy (s => s.Length).ThenBy (s => s);\n",
    "//length order then alphabetical order"
   ]
  },
  {
   "cell_type": "markdown",
   "metadata": {},
   "source": [
    "***ThenBy*** reorders `only elements` that had the `same sorting key` in the preceding sort."
   ]
  },
  {
   "cell_type": "code",
   "execution_count": null,
   "metadata": {
    "dotnet_interactive": {
     "language": "csharp"
    },
    "polyglot_notebook": {
     "kernelName": "csharp"
    },
    "vscode": {
     "languageId": "polyglot-notebook"
    }
   },
   "outputs": [],
   "source": [
    "var names = new List<string> { \"Jay\", \"Tom\", \"Mary\", \"Dick\", \"Harry\" };\n",
    "\n",
    "var fluentQuery = names.OrderBy (s => s.Length).ThenBy (s => s[1]).ThenBy (s => s[0]);\n",
    "\n",
    "var querySyntax = \n",
    "    from s in names\n",
    "    orderby s.Length, s[1], s[0]\n",
    "    select s;\n",
    "\n",
    "var efFluentQuery = dbContext.Purchases.OrderByDescending (p => p.Price)\n",
    "                        .ThenBy (p => p.Description);\n",
    "\n",
    "var efSyntaxQuery = \n",
    "    from p in dbContext.Purchases\n",
    "    orderby p.Price descending, p.Description\n",
    "    select p;"
   ]
  },
  {
   "cell_type": "markdown",
   "metadata": {},
   "source": [
    "#### Comparers and collations"
   ]
  },
  {
   "cell_type": "markdown",
   "metadata": {},
   "source": [
    "In a ***local query***, the `key selector` objects themselves determine the `ordering algorithm` via their default `IComparable implementation`"
   ]
  },
  {
   "cell_type": "code",
   "execution_count": null,
   "metadata": {
    "dotnet_interactive": {
     "language": "csharp"
    },
    "polyglot_notebook": {
     "kernelName": "csharp"
    },
    "vscode": {
     "languageId": "polyglot-notebook"
    }
   },
   "outputs": [],
   "source": [
    "var names = new List<string> { \"Jay\", \"Tom\", \"Mary\", \"Dick\", \"Harry\" };\n",
    "\n",
    "names.OrderBy (n => n, StringComparer.CurrentCultureIgnoreCase/*algorithm*/);"
   ]
  },
  {
   "cell_type": "markdown",
   "metadata": {},
   "source": [
    "Passing in a `comparer` is `not supported` in ***query syntax*** or in any way by ***EFCore***."
   ]
  },
  {
   "cell_type": "markdown",
   "metadata": {},
   "source": [
    "When querying a database, the ***comparison algorithm*** is determined by the\n",
    "`participating column’s collation`. If the collation is case sensitive, you can request a case-insensitive sort by calling `ToUpper` in the key selector"
   ]
  },
  {
   "cell_type": "code",
   "execution_count": null,
   "metadata": {
    "dotnet_interactive": {
     "language": "csharp"
    },
    "polyglot_notebook": {
     "kernelName": "csharp"
    },
    "vscode": {
     "languageId": "polyglot-notebook"
    }
   },
   "outputs": [],
   "source": [
    "var query =\n",
    "from p in dbContext.Purchases\n",
    "orderby p.Description.ToUpper()\n",
    "select p;"
   ]
  },
  {
   "cell_type": "markdown",
   "metadata": {},
   "source": [
    "###  IOrderedEnumerable and IOrderedQueryable"
   ]
  },
  {
   "cell_type": "markdown",
   "metadata": {},
   "source": [
    "The ***ordering operators*** return special subtypes of `IEnumerable<T>`. Those in `Enumerable` return `IOrderedEnumerable<TSource>`; those in `Queryable` return\n",
    "`IOrderedQueryable<TSource>`."
   ]
  }
 ],
 "metadata": {
  "kernelspec": {
   "display_name": ".NET (C#)",
   "language": "C#",
   "name": ".net-csharp"
  },
  "language_info": {
   "name": "python"
  },
  "polyglot_notebook": {
   "kernelInfo": {
    "defaultKernelName": "csharp",
    "items": [
     {
      "aliases": [],
      "name": "csharp"
     }
    ]
   }
  }
 },
 "nbformat": 4,
 "nbformat_minor": 2
}
