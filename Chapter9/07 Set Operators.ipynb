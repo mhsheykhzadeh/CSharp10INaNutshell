{
 "cells": [
  {
   "cell_type": "markdown",
   "metadata": {},
   "source": [
    "`IEnumerable<TSource>`, `IEnumerable<TSource>`→`IEnumerable<TSource>`"
   ]
  },
  {
   "cell_type": "markdown",
   "metadata": {},
   "source": [
    "| Method    | Description | SQL equivalents |\n",
    "| -------- | ------- | ------- |\n",
    "|`Concat` |Returns a concatenation of elements in each of<br>the two sequences |UNION ALL\n",
    "|`Union`, `UnionBy` |Returns a concatenation of elements in each of <br> the two sequences, excluding duplicates |UNION\n",
    "|`Intersect`,<br> `IntersectBy` |Returns elements present in both sequences |WHERE ... IN (...)\n",
    "|`Except`, <br> `ExceptBy`| Returns elements present in the first but not <br> the second sequence | EXCEPT or <br> WHERE ... NOT IN (...)"
   ]
  },
  {
   "cell_type": "markdown",
   "metadata": {},
   "source": [
    "### Concat, Union, and UnionBy"
   ]
  },
  {
   "cell_type": "markdown",
   "metadata": {},
   "source": [
    "***Concat*** returns `all` the elements of the `first sequence`, followed by `all` the elements of the `second`.  \n",
    "***Union*** `does the same` but `removes any duplicates`"
   ]
  },
  {
   "cell_type": "code",
   "execution_count": null,
   "metadata": {
    "dotnet_interactive": {
     "language": "csharp"
    },
    "polyglot_notebook": {
     "kernelName": "csharp"
    },
    "vscode": {
     "languageId": "polyglot-notebook"
    }
   },
   "outputs": [],
   "source": [
    "int[] seq1 = { 1, 2, 3 }, seq2 = { 3, 4, 5 };\n",
    "\n",
    "IEnumerable<int>\n",
    "concat = seq1.Concat (seq2), // { 1, 2, 3, 3, 4, 5 }\n",
    "union = seq1.Union (seq2); // { 1, 2, 3, 4, 5 }"
   ]
  },
  {
   "cell_type": "markdown",
   "metadata": {},
   "source": [
    "`UnionBy` (introduced in .NET 6) takes a `keySelector`, which is used in `determining` whether an `element is a duplicate`."
   ]
  },
  {
   "cell_type": "code",
   "execution_count": 1,
   "metadata": {
    "dotnet_interactive": {
     "language": "csharp"
    },
    "polyglot_notebook": {
     "kernelName": "csharp"
    },
    "vscode": {
     "languageId": "polyglot-notebook"
    }
   },
   "outputs": [
    {
     "name": "stdout",
     "output_type": "stream",
     "text": [
      "A,b,C,a,B,c\n",
      "A,b,C\n"
     ]
    }
   ],
   "source": [
    "string[] seq1 = { \"A\", \"b\", \"C\" };\n",
    "string[] seq2 = { \"a\", \"B\", \"c\" };\n",
    "\n",
    "var union = seq1.Union(seq2);\n",
    "var unionBy = seq1.UnionBy(seq2, x => x.ToUpperInvariant());\n",
    "\n",
    "Console.WriteLine(string.Join(',' ,union));\n",
    "Console.WriteLine(string.Join(',' ,unionBy));"
   ]
  },
  {
   "cell_type": "markdown",
   "metadata": {},
   "source": [
    "### Intersect, Intersect By, Except, and ExceptBy"
   ]
  },
  {
   "cell_type": "markdown",
   "metadata": {},
   "source": [
    "***Intersect*** returns the elements that `two sequences have in common`.  \n",
    " \n",
    "***Except*** returns the elements in the first input sequence that `are not present` in the `second`"
   ]
  },
  {
   "cell_type": "code",
   "execution_count": null,
   "metadata": {
    "dotnet_interactive": {
     "language": "csharp"
    },
    "polyglot_notebook": {
     "kernelName": "csharp"
    },
    "vscode": {
     "languageId": "polyglot-notebook"
    }
   },
   "outputs": [],
   "source": [
    "int[] seq1 = { 1, 2, 3 }, seq2 = { 3, 4, 5 };\n",
    "\n",
    "IEnumerable<int>\n",
    "commonality = seq1.Intersect (seq2), // { 3 }\n",
    "difference1 = seq1.Except (seq2), // { 1, 2 }\n",
    "difference2 = seq2.Except (seq1); // { 4, 5 }"
   ]
  },
  {
   "cell_type": "markdown",
   "metadata": {},
   "source": [
    "***IntersectBy*** and ***ExceptBy*** methods (from .NET 6) let you specify a `key selector` that’s applied `before performing equality comparison`"
   ]
  }
 ],
 "metadata": {
  "kernelspec": {
   "display_name": ".NET (C#)",
   "language": "C#",
   "name": ".net-csharp"
  },
  "language_info": {
   "name": "python"
  },
  "polyglot_notebook": {
   "kernelInfo": {
    "defaultKernelName": "csharp",
    "items": [
     {
      "aliases": [],
      "name": "csharp"
     }
    ]
   }
  }
 },
 "nbformat": 4,
 "nbformat_minor": 2
}
