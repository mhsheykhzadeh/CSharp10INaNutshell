{
 "cells": [
  {
   "cell_type": "markdown",
   "metadata": {},
   "source": [
    "`IEnumerable<TSource>`→ `TSource`  \n",
    "\n",
    "| Method    | Description | SQL equivalents |\n",
    "| -------- | ------- | ------- |\n",
    "|`First`, `FirstOrDefault` |Returns the first element in the sequence, optionally <br> satisfying a predicate |SELECT TOP 1 ... <br> ORDER BY ...\n",
    "|`Last`,<br> `LastOrDefault` |Returns the last element in the sequence, optionally <br> satisfying a predicate| SELECT TOP 1 ... <br> ORDER BY ... DESC\n",
    "|`Single`,<br> `SingleOrDefault` | Equivalent to First/FirstOrDefault, but <br> throws an exception if there is more than one match | \n",
    "| `ElementAt`, <br> `ElementAtOrDefault` | Returns the element at the specified position | Exception thrown\n",
    "|`MinBy`, `MaxBy`| Returns the element with the smallest or largest <br> value | Exception thrown\n",
    "| `DefaultIfEmpty` | Returns a single-element sequence whose value <br> is default(TSource) if the sequence has no<br> elements | OUTER JOIN"
   ]
  },
  {
   "cell_type": "markdown",
   "metadata": {},
   "source": [
    "***Methods*** ending in `OrDefault` return ***default***(`TSource`) `rather than throwing an exception` if the input sequence is empty or if no elements match the supplied predicate."
   ]
  },
  {
   "cell_type": "markdown",
   "metadata": {},
   "source": [
    "***default(TSource)*** is `null` for `reference type` elements, `false` for the ***bool*** type, and `zero` for ***numeric types***."
   ]
  },
  {
   "cell_type": "markdown",
   "metadata": {},
   "source": [
    "### First, Last, and Single"
   ]
  },
  {
   "cell_type": "markdown",
   "metadata": {},
   "source": [
    "|Argument | Type\n",
    "| -----| ----\n",
    "|***Source sequence*** |`IEnumerable<TSource>`\n",
    "|***Predicate*** (optional) |`TSource => bool`"
   ]
  },
  {
   "cell_type": "code",
   "execution_count": null,
   "metadata": {
    "dotnet_interactive": {
     "language": "csharp"
    },
    "polyglot_notebook": {
     "kernelName": "csharp"
    },
    "vscode": {
     "languageId": "polyglot-notebook"
    }
   },
   "outputs": [],
   "source": [
    "int[] numbers = { 1, 2, 3, 4, 5 };\n",
    "int first = numbers.First(); // 1\n",
    "int last = numbers.Last(); // 5\n",
    "int firstEven = numbers.First (n => n % 2 == 0); // 2\n",
    "int lastEven = numbers.Last (n => n % 2 == 0); // 4"
   ]
  },
  {
   "cell_type": "code",
   "execution_count": null,
   "metadata": {
    "dotnet_interactive": {
     "language": "csharp"
    },
    "polyglot_notebook": {
     "kernelName": "csharp"
    },
    "vscode": {
     "languageId": "polyglot-notebook"
    }
   },
   "outputs": [],
   "source": [
    "int[] numbers = { 1, 2, 3, 4, 5 };\n",
    "\n",
    "//The following demonstrates First versus FirstOrDefault:\n",
    "int firstBigError = numbers.First (n => n > 10); // Exception\n",
    "int firstBigNumber = numbers.FirstOrDefault (n => n > 10); // 0"
   ]
  },
  {
   "cell_type": "code",
   "execution_count": null,
   "metadata": {
    "dotnet_interactive": {
     "language": "csharp"
    },
    "polyglot_notebook": {
     "kernelName": "csharp"
    },
    "vscode": {
     "languageId": "polyglot-notebook"
    }
   },
   "outputs": [],
   "source": [
    "//Single requires exactly one matching element; \n",
    "//SingleOrDefault requires one or zero matching elements\n",
    "\n",
    "int[] numbers = { 1, 2, 3, 4, 5 };\n",
    "\n",
    "int onlyDivBy3 = numbers.Single (n => n % 3 == 0); // 3\n",
    "int divBy2Err = numbers.Single (n => n % 2 == 0); // Error: 2 & 4 match\n",
    "\n",
    "int singleError = numbers.Single (n => n > 10); // Error\n",
    "int noMatches = numbers.SingleOrDefault (n => n > 10); // 0\n",
    "int divBy2Error = numbers.SingleOrDefault (n => n % 2 == 0); // Error"
   ]
  },
  {
   "cell_type": "code",
   "execution_count": null,
   "metadata": {
    "dotnet_interactive": {
     "language": "csharp"
    },
    "polyglot_notebook": {
     "kernelName": "csharp"
    },
    "vscode": {
     "languageId": "polyglot-notebook"
    }
   },
   "outputs": [],
   "source": [
    "//In EF Core, Single is often used to retrieve a row from a table by primary key:\n",
    "\n",
    "Customer cust = dataContext.Customers.Single (c => c.ID == 3);"
   ]
  },
  {
   "cell_type": "markdown",
   "metadata": {},
   "source": [
    "### ElementAt"
   ]
  },
  {
   "cell_type": "markdown",
   "metadata": {},
   "source": [
    "|Argument | Type\n",
    "| -----| ----\n",
    "|***Source sequence*** |`IEnumerable<TSource>`\n",
    "|***Index of element to return***  |`int`"
   ]
  },
  {
   "cell_type": "code",
   "execution_count": null,
   "metadata": {
    "dotnet_interactive": {
     "language": "csharp"
    },
    "polyglot_notebook": {
     "kernelName": "csharp"
    },
    "vscode": {
     "languageId": "polyglot-notebook"
    }
   },
   "outputs": [],
   "source": [
    "int[] numbers = { 1, 2, 3, 4, 5 };\n",
    "int third = numbers.ElementAt (2); // 3\n",
    "int tenthError = numbers.ElementAt (9); // Exception\n",
    "int tenth = numbers.ElementAtOrDefault (9); // 0"
   ]
  },
  {
   "cell_type": "markdown",
   "metadata": {},
   "source": [
    "### MinBy and MaxBy"
   ]
  },
  {
   "cell_type": "code",
   "execution_count": null,
   "metadata": {
    "dotnet_interactive": {
     "language": "csharp"
    },
    "polyglot_notebook": {
     "kernelName": "csharp"
    },
    "vscode": {
     "languageId": "polyglot-notebook"
    }
   },
   "outputs": [],
   "source": [
    "//MinBy and MaxBy (introduced in .NET 6)\n",
    "\n",
    "string[] names = { \"Tom\", \"Dick\", \"Harry\", \"Mary\", \"Jay\" };\n",
    "Console.WriteLine (names.MaxBy (n => n.Length)); // Harry\n",
    "\n",
    "//If two or more elements share a minimum/maximum value, MinBy/MaxBy returns\n",
    "//the first:\n",
    "Console.WriteLine (names.MinBy (n => n.Length)); // Tom"
   ]
  },
  {
   "cell_type": "markdown",
   "metadata": {},
   "source": [
    "### DefaultIfEmpty"
   ]
  },
  {
   "cell_type": "markdown",
   "metadata": {},
   "source": [
    "<div dir=\"rtl\" style=\"margin:auto; width:90%; font-family:vazirmatn\">\n",
    "<ul><li><p><strong>اگر دنباله ورودی (input sequence) دارای عناصر باشد:</strong></p><ul><li>متد <code>DefaultIfEmpty</code> تغییری در آن ایجاد نمی‌کند و دنباله اصلی را بازمی‌گرداند.</li></ul></li><li><p><strong>اگر دنباله ورودی خالی باشد:</strong></p><ul><li>متد <code>DefaultIfEmpty</code> یک دنباله جدید با یک عنصر ایجاد می‌کند که مقدار آن برابر مقدار پیش‌فرض نوع (default value of type) است. مقدار پیش‌فرض هر نوع در C# به شکل زیر تعریف می‌شود:<ul><li>برای انواع مرجع (مثل <code>string</code>): <code>null</code></li><li>برای انواع مقدار (مثل <code>int</code> یا <code>double</code>): صفر (<code>0</code>)</li><li>برای نوع <code>bool</code>: مقدار <code>false</code></li></ul></li></ul></li></ul>\n",
    "</div>"
   ]
  },
  {
   "cell_type": "code",
   "execution_count": null,
   "metadata": {
    "dotnet_interactive": {
     "language": "csharp"
    },
    "polyglot_notebook": {
     "kernelName": "csharp"
    },
    "vscode": {
     "languageId": "polyglot-notebook"
    }
   },
   "outputs": [],
   "source": [
    "//دنباله‌ای که دارای عناصر است\n",
    "var numbers = new List<int> { 1, 2, 3 };\n",
    "var result = numbers.DefaultIfEmpty(); // خروجی: [1, 2, 3]"
   ]
  },
  {
   "cell_type": "code",
   "execution_count": null,
   "metadata": {
    "dotnet_interactive": {
     "language": "csharp"
    },
    "polyglot_notebook": {
     "kernelName": "csharp"
    },
    "vscode": {
     "languageId": "polyglot-notebook"
    }
   },
   "outputs": [],
   "source": [
    "//دنباله‌ای که خالی است\n",
    "var numbers = new List<int>();\n",
    "var result = numbers.DefaultIfEmpty(); // خروجی: [0]"
   ]
  },
  {
   "cell_type": "code",
   "execution_count": null,
   "metadata": {
    "dotnet_interactive": {
     "language": "csharp"
    },
    "polyglot_notebook": {
     "kernelName": "csharp"
    },
    "vscode": {
     "languageId": "polyglot-notebook"
    }
   },
   "outputs": [],
   "source": [
    "// استفاده برای نوع مرجع\n",
    "var strings = new List<string>();\n",
    "var result = strings.DefaultIfEmpty(); // خروجی: [null]"
   ]
  },
  {
   "cell_type": "code",
   "execution_count": null,
   "metadata": {
    "dotnet_interactive": {
     "language": "csharp"
    },
    "polyglot_notebook": {
     "kernelName": "csharp"
    },
    "vscode": {
     "languageId": "polyglot-notebook"
    }
   },
   "outputs": [],
   "source": [
    "//استفاده از مقدار دلخواه\n",
    "var numbers = new List<int>();\n",
    "var result = numbers.DefaultIfEmpty(42); // خروجی: [42]"
   ]
  },
  {
   "cell_type": "markdown",
   "metadata": {},
   "source": [
    "<div dir=\"rtl\" style=\"margin:auto; width:90%; font-family:vazirmatn\">\n",
    "<h3>1. <strong>جلوگیری از بروز خطا در زمان اجرا</strong></h3>\n",
    "<p>هنگامی که کوئری LINQ ممکن است یک دنباله خالی برگرداند، استفاده از <code>DefaultIfEmpty</code> باعث می‌شود به جای یک دنباله خالی، یک مقدار پیش‌فرض (یا مقدار مشخص شده) بازگردد. این کار از بروز خطا در پردازش‌های بعدی جلوگیری می‌کند.</p>\n",
    "</div>"
   ]
  },
  {
   "cell_type": "code",
   "execution_count": null,
   "metadata": {
    "dotnet_interactive": {
     "language": "csharp"
    },
    "polyglot_notebook": {
     "kernelName": "csharp"
    },
    "vscode": {
     "languageId": "polyglot-notebook"
    }
   },
   "outputs": [],
   "source": [
    "var products = new List<string>(); // لیست خالی\n",
    "var result = products.DefaultIfEmpty(\"No Products\").ToList();\n",
    "\n",
    "foreach (var item in result)\n",
    "{\n",
    "    Console.WriteLine(item); // خروجی: No Products\n",
    "}"
   ]
  },
  {
   "cell_type": "markdown",
   "metadata": {},
   "source": [
    "<div dir=\"rtl\" style=\"margin:auto; width:90%; font-family:vazirmatn\">\n",
    "<h3>2. <strong>نمایش نتایج خالی در کوئری‌های پایگاه داده</strong></h3>\n",
    "<p>زمانی که از LINQ to SQL یا LINQ to Entities استفاده می‌کنید، ممکن است بخواهید در صورتی که یک جدول یا نتیجه‌ای خالی باشد، یک مقدار پیش‌فرض را نمایش دهید.</p>\n",
    "<h4>مثال:</h4>\n",
    "<p>فرض کنید یک جدول <code>Orders</code> دارید و می‌خواهید در صورتی که هیچ سفارشی برای یک مشتری خاص وجود ندارد، یک مقدار پیش‌فرض را در نتیجه قرار دهید:</p>\n",
    "</div>"
   ]
  },
  {
   "cell_type": "code",
   "execution_count": null,
   "metadata": {
    "dotnet_interactive": {
     "language": "csharp"
    },
    "polyglot_notebook": {
     "kernelName": "csharp"
    },
    "vscode": {
     "languageId": "polyglot-notebook"
    }
   },
   "outputs": [],
   "source": [
    "var customerOrders = db.Orders\n",
    "    .Where(o => o.CustomerId == 1)\n",
    "    .Select(o => o.OrderId)\n",
    "    .DefaultIfEmpty(-1)\n",
    "    .ToList();\n",
    "\n",
    "foreach (var orderId in customerOrders)\n",
    "{\n",
    "    Console.WriteLine(orderId); // خروجی: -1 اگر سفارشی وجود نداشته باشد\n",
    "}\n"
   ]
  },
  {
   "cell_type": "markdown",
   "metadata": {},
   "source": [
    "<div dir=\"rtl\" style=\"margin:auto; width:90%; font-family:vazirmatn\">\n",
    "<h3>3. <strong>ایجاد ترکیب Outer Join</strong></h3>\n",
    "<p>در ترکیب‌های خارجی (Outer Join)، ممکن است نتیجه کوئری شامل دنباله‌های خالی باشد. با استفاده از <code>DefaultIfEmpty</code> می‌توانید برای دنباله‌های خالی، مقادیر پیش‌فرض قرار دهید.</p>\n",
    "<h4>مثال:</h4>\n",
    "<p>فرض کنید دو جدول <code>Customers</code> و <code>Orders</code> دارید. می‌خواهید لیستی از مشتریان به همراه سفارش‌های آن‌ها را نمایش دهید و اگر سفارشی وجود نداشت، مقدار پیش‌فرض نشان داده شود:</p>\n",
    "\n",
    "</div>"
   ]
  },
  {
   "cell_type": "code",
   "execution_count": null,
   "metadata": {
    "dotnet_interactive": {
     "language": "csharp"
    },
    "polyglot_notebook": {
     "kernelName": "csharp"
    },
    "vscode": {
     "languageId": "polyglot-notebook"
    }
   },
   "outputs": [],
   "source": [
    "var query = from customer in db.Customers\n",
    "            join order in db.Orders\n",
    "                on customer.CustomerId equals order.CustomerId into ordersGroup\n",
    "            from order in ordersGroup.DefaultIfEmpty()\n",
    "            select new\n",
    "            {\n",
    "                CustomerName = customer.Name,\n",
    "                OrderId = order?.OrderId ?? 0 // اگر سفارشی وجود نداشت، مقدار پیش‌فرض 0 باشد\n",
    "            };\n",
    "\n",
    "foreach (var item in query)\n",
    "{\n",
    "    Console.WriteLine($\"Customer: {item.CustomerName}, OrderId: {item.OrderId}\");\n",
    "}\n"
   ]
  }
 ],
 "metadata": {
  "kernelspec": {
   "display_name": ".NET (C#)",
   "language": "C#",
   "name": ".net-csharp"
  },
  "language_info": {
   "name": "python"
  },
  "polyglot_notebook": {
   "kernelInfo": {
    "defaultKernelName": "csharp",
    "items": [
     {
      "aliases": [],
      "name": "csharp"
     }
    ]
   }
  }
 },
 "nbformat": 4,
 "nbformat_minor": 2
}
