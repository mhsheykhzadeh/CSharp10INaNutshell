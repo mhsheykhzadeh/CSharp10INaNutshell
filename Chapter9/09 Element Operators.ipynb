{
 "cells": [
  {
   "cell_type": "markdown",
   "metadata": {},
   "source": [
    "`IEnumerable<TSource>`→ `TSource`  \n",
    "\n",
    "| Method    | Description | SQL equivalents |\n",
    "| -------- | ------- | ------- |\n",
    "|`First`, `FirstOrDefault` |Returns the first element in the sequence, optionally <br> satisfying a predicate |SELECT TOP 1 ... <br> ORDER BY ...\n",
    "|`Last`,<br> `LastOrDefault` |Returns the last element in the sequence, optionally <br> satisfying a predicate| SELECT TOP 1 ... <br> ORDER BY ... DESC\n",
    "|`Single`,<br> `SingleOrDefault` | Equivalent to First/FirstOrDefault, but <br> throws an exception if there is more than one match | \n",
    "| `ElementAt`, <br> `ElementAtOrDefault` | Returns the element at the specified position | Exception thrown\n",
    "|`MinBy`, `MaxBy`| Returns the element with the smallest or largest <br> value | Exception thrown\n",
    "| `DefaultIfEmpty` | Returns a single-element sequence whose value <br> is default(TSource) if the sequence has no<br> elements | OUTER JOIN"
   ]
  },
  {
   "cell_type": "markdown",
   "metadata": {},
   "source": [
    "***Methods*** ending in `OrDefault` return ***default***(`TSource`) `rather than throwing an exception` if the input sequence is empty or if no elements match the supplied predicate."
   ]
  },
  {
   "cell_type": "markdown",
   "metadata": {},
   "source": [
    "***default(TSource)*** is `null` for `reference type` elements, `false` for the ***bool*** type, and `zero` for ***numeric types***."
   ]
  },
  {
   "cell_type": "markdown",
   "metadata": {},
   "source": [
    "### First, Last, and Single"
   ]
  },
  {
   "cell_type": "markdown",
   "metadata": {},
   "source": [
    "|Argument | Type\n",
    "| -----| ----\n",
    "|***Source sequence*** |`IEnumerable<TSource>`\n",
    "|***Predicate*** (optional) |`TSource => bool`"
   ]
  },
  {
   "cell_type": "code",
   "execution_count": null,
   "metadata": {
    "vscode": {
     "languageId": "polyglot-notebook"
    }
   },
   "outputs": [],
   "source": [
    "int[] numbers = { 1, 2, 3, 4, 5 };\n",
    "int first = numbers.First(); // 1\n",
    "int last = numbers.Last(); // 5\n",
    "int firstEven = numbers.First (n => n % 2 == 0); // 2\n",
    "int lastEven = numbers.Last (n => n % 2 == 0); // 4"
   ]
  },
  {
   "cell_type": "code",
   "execution_count": null,
   "metadata": {
    "vscode": {
     "languageId": "polyglot-notebook"
    }
   },
   "outputs": [],
   "source": [
    "int[] numbers = { 1, 2, 3, 4, 5 };\n",
    "\n",
    "//The following demonstrates First versus FirstOrDefault:\n",
    "int firstBigError = numbers.First (n => n > 10); // Exception\n",
    "int firstBigNumber = numbers.FirstOrDefault (n => n > 10); // 0"
   ]
  },
  {
   "cell_type": "code",
   "execution_count": null,
   "metadata": {
    "vscode": {
     "languageId": "polyglot-notebook"
    }
   },
   "outputs": [],
   "source": [
    "//Single requires exactly one matching element; \n",
    "//SingleOrDefault requires one or zero matching elements\n",
    "\n",
    "int[] numbers = { 1, 2, 3, 4, 5 };\n",
    "\n",
    "int onlyDivBy3 = numbers.Single (n => n % 3 == 0); // 3\n",
    "int divBy2Err = numbers.Single (n => n % 2 == 0); // Error: 2 & 4 match\n",
    "\n",
    "int singleError = numbers.Single (n => n > 10); // Error\n",
    "int noMatches = numbers.SingleOrDefault (n => n > 10); // 0\n",
    "int divBy2Error = numbers.SingleOrDefault (n => n % 2 == 0); // Error"
   ]
  },
  {
   "cell_type": "code",
   "execution_count": null,
   "metadata": {
    "vscode": {
     "languageId": "polyglot-notebook"
    }
   },
   "outputs": [],
   "source": [
    "//In EF Core, Single is often used to retrieve a row from a table by primary key:\n",
    "\n",
    "Customer cust = dataContext.Customers.Single (c => c.ID == 3);"
   ]
  },
  {
   "cell_type": "markdown",
   "metadata": {},
   "source": [
    "### ElementAt"
   ]
  },
  {
   "cell_type": "markdown",
   "metadata": {},
   "source": [
    "|Argument | Type\n",
    "| -----| ----\n",
    "|***Source sequence*** |`IEnumerable<TSource>`\n",
    "|***Index of element to return***  |`int`"
   ]
  },
  {
   "cell_type": "code",
   "execution_count": null,
   "metadata": {
    "vscode": {
     "languageId": "polyglot-notebook"
    }
   },
   "outputs": [],
   "source": [
    "int[] numbers = { 1, 2, 3, 4, 5 };\n",
    "int third = numbers.ElementAt (2); // 3\n",
    "int tenthError = numbers.ElementAt (9); // Exception\n",
    "int tenth = numbers.ElementAtOrDefault (9); // 0"
   ]
  },
  {
   "cell_type": "markdown",
   "metadata": {},
   "source": [
    "### MinBy and MaxBy"
   ]
  },
  {
   "cell_type": "code",
   "execution_count": null,
   "metadata": {
    "vscode": {
     "languageId": "polyglot-notebook"
    }
   },
   "outputs": [],
   "source": [
    "//MinBy and MaxBy (introduced in .NET 6)\n",
    "\n",
    "string[] names = { \"Tom\", \"Dick\", \"Harry\", \"Mary\", \"Jay\" };\n",
    "Console.WriteLine (names.MaxBy (n => n.Length)); // Harry\n",
    "\n",
    "//If two or more elements share a minimum/maximum value, MinBy/MaxBy returns\n",
    "//the first:\n",
    "Console.WriteLine (names.MinBy (n => n.Length)); // Tom"
   ]
  },
  {
   "cell_type": "markdown",
   "metadata": {},
   "source": [
    "### DefaultIfEmpty"
   ]
  },
  {
   "cell_type": "markdown",
   "metadata": {},
   "source": [
    "`Outer join `"
   ]
  }
 ],
 "metadata": {
  "kernelspec": {
   "display_name": ".NET (C#)",
   "language": "C#",
   "name": ".net-csharp"
  },
  "language_info": {
   "name": "python"
  },
  "polyglot_notebook": {
   "kernelInfo": {
    "defaultKernelName": "csharp",
    "items": [
     {
      "aliases": [],
      "name": "csharp"
     }
    ]
   }
  }
 },
 "nbformat": 4,
 "nbformat_minor": 2
}
