{
 "cells": [
  {
   "cell_type": "markdown",
   "metadata": {},
   "source": [
    "| Method    | Description | SQL equivalents |\n",
    "| -------- | ------- | ------- |\n",
    "|`Select` |Transforms each input element with the given lambda expression |SELECT\n",
    "|`SelectMany` |Transforms each input element, and then flattens and concatenates<br>the resultant subsequences |INNER JOIN,<br>LEFT OUTER JOIN,<br>CROSS JOIN"
   ]
  },
  {
   "cell_type": "markdown",
   "metadata": {},
   "source": [
    "### Select"
   ]
  },
  {
   "cell_type": "markdown",
   "metadata": {},
   "source": [
    "| Argument    | Type |\n",
    "| -------- | ------- |\n",
    "|Source sequence |`IEnumerable<TSource>`\n",
    "|Result selector |TSource => TResult or (TSource,int) => TResult"
   ]
  },
  {
   "cell_type": "code",
   "execution_count": null,
   "metadata": {
    "dotnet_interactive": {
     "language": "csharp"
    },
    "polyglot_notebook": {
     "kernelName": "csharp"
    },
    "vscode": {
     "languageId": "polyglot-notebook"
    }
   },
   "outputs": [],
   "source": [
    "public static IEnumerable<TResult> Select<TSource,TResult>\n",
    "(this IEnumerable<TSource> source, Func<TSource,TResult> selector)\n",
    "{\n",
    "    foreach (TSource element in source)\n",
    "        yield return selector (element);\n",
    "}"
   ]
  },
  {
   "cell_type": "markdown",
   "metadata": {},
   "source": [
    "With ***Select***, you always get the `same number of elements` that you started with. Each element, however, can be `transformed` in any manner by the lambda function."
   ]
  },
  {
   "cell_type": "code",
   "execution_count": 1,
   "metadata": {
    "dotnet_interactive": {
     "language": "csharp"
    },
    "polyglot_notebook": {
     "kernelName": "csharp"
    },
    "vscode": {
     "languageId": "polyglot-notebook"
    }
   },
   "outputs": [
    {
     "ename": "Error",
     "evalue": "(5,15): error CS0103: The name 'FontFamily' does not exist in the current context\r\n(13,34): error CS0103: The name 'FontFamily' does not exist in the current context",
     "output_type": "error",
     "traceback": [
      "(5,15): error CS0103: The name 'FontFamily' does not exist in the current context\r\n",
      "(13,34): error CS0103: The name 'FontFamily' does not exist in the current context"
     ]
    }
   ],
   "source": [
    "using System.Drawing;\n",
    "\n",
    "//The following selects the names of all fonts installed on the computer\n",
    "IEnumerable<string> query = \n",
    "    from f in FontFamily.Families\n",
    "    select f.Name;\n",
    "\n",
    "IEnumerable<string> lamdaQuery = FontFamily.Families.Select (f => f.Name);"
   ]
  },
  {
   "cell_type": "code",
   "execution_count": null,
   "metadata": {
    "dotnet_interactive": {
     "language": "csharp"
    },
    "polyglot_notebook": {
     "kernelName": "csharp"
    },
    "vscode": {
     "languageId": "polyglot-notebook"
    }
   },
   "outputs": [],
   "source": [
    "using System.Drawing;\n",
    "//Select statements are often used to project into anonymous types:\n",
    "var query =\n",
    "from f in FontFamily.Families\n",
    "select new { f.Name, LineSpacing = f.GetLineSpacing (FontStyle.Bold) };"
   ]
  },
  {
   "cell_type": "markdown",
   "metadata": {},
   "source": [
    "***Indexed projection***"
   ]
  },
  {
   "cell_type": "code",
   "execution_count": 3,
   "metadata": {
    "dotnet_interactive": {
     "language": "csharp"
    },
    "polyglot_notebook": {
     "kernelName": "csharp"
    },
    "vscode": {
     "languageId": "polyglot-notebook"
    }
   },
   "outputs": [
    {
     "name": "stdout",
     "output_type": "stream",
     "text": [
      "0=Tom\n",
      "1=Dick\n",
      "2=Harry\n",
      "3=Mary\n",
      "4=Jay\n"
     ]
    }
   ],
   "source": [
    "string[] names = { \"Tom\", \"Dick\", \"Harry\", \"Mary\", \"Jay\" };\n",
    "IEnumerable<string> query = names\n",
    ".Select ((s,i) => i + \"=\" + s); // { \"0=Tom\", \"1=Dick\", ... }\n",
    "\n",
    "foreach(var item in query)\n",
    "    Console.WriteLine( item);"
   ]
  },
  {
   "cell_type": "markdown",
   "metadata": {},
   "source": [
    "***Select subqueries and object hierarchies***"
   ]
  },
  {
   "cell_type": "code",
   "execution_count": null,
   "metadata": {
    "dotnet_interactive": {
     "language": "csharp"
    },
    "polyglot_notebook": {
     "kernelName": "csharp"
    },
    "vscode": {
     "languageId": "polyglot-notebook"
    }
   },
   "outputs": [],
   "source": [
    "using System.IO;\n",
    "\n",
    "string tempPath = Path.GetTempPath();\n",
    "DirectoryInfo[] dirs = new DirectoryInfo (tempPath).GetDirectories();\n",
    "\n",
    "var query =\n",
    "from d in dirs\n",
    "where (d.Attributes & FileAttributes.System) == 0\n",
    "select new\n",
    "{\n",
    "    DirectoryName = d.FullName,\n",
    "    Created = d.CreationTime,\n",
    "    Files = from f in d.GetFiles()\n",
    "        where (f.Attributes & FileAttributes.Hidden) == 0\n",
    "        select new { FileName = f.Name, f.Length, }\n",
    "};\n",
    "\n",
    "foreach (var dirFiles in query)\n",
    "{\n",
    "    Console.WriteLine (\"Directory: \" + dirFiles.DirectoryName);\n",
    "    foreach (var file in dirFiles.Files)\n",
    "    Console.WriteLine (\" \" + file.FileName + \" Len: \" + file.Length);\n",
    "}\n"
   ]
  },
  {
   "cell_type": "markdown",
   "metadata": {},
   "source": [
    "***correlated subquery***  \n",
    "subquery is **correlated** if it `references` an object in the `outer query`"
   ]
  },
  {
   "cell_type": "markdown",
   "metadata": {},
   "source": [
    "With ***local queries***, a `subquery` `within a Select` causes **double-deferred execution**.\n",
    "\n",
    "<div dir=\"rtl\" style=\"width:80%; margin:auto\">\n",
    "هر پوشه تنها زمانی مورد بررسی قرار می‌گیرد که در حلقه بیرونی به آن رسیده شود و فایل‌های هر پوشه نیز فقط زمانی بررسی و فیلتر می‌شوند که به آن‌ها در حلقه داخلی نیاز باشد. این رویکرد منجر به صرفه‌جویی در منابع و افزایش کارایی می‌شود، چرا که تنها داده‌های مورد نیاز در هر لحظه پردازش می‌شوند.\n",
    "\n",
    "</div>"
   ]
  },
  {
   "cell_type": "markdown",
   "metadata": {},
   "source": [
    "***Subqueries and joins in EF Core***"
   ]
  },
  {
   "cell_type": "code",
   "execution_count": null,
   "metadata": {
    "dotnet_interactive": {
     "language": "csharp"
    },
    "polyglot_notebook": {
     "kernelName": "csharp"
    },
    "vscode": {
     "languageId": "polyglot-notebook"
    }
   },
   "outputs": [],
   "source": [
    "var query =\n",
    "    from c in dbContext.Customers\n",
    "    select new {\n",
    "            c.Name,\n",
    "            Purchases = (from p in dbContext.Purchases\n",
    "            where p.CustomerID == c.ID && p.Price > 100\n",
    "            select new { p.Description, p.Price })\n",
    "        .ToList()\n",
    "};\n",
    "\n",
    "foreach (var namePurchases in query)\n",
    "{\n",
    "    Console.WriteLine (\"Customer: \" + namePurchases.Name);\n",
    "    foreach (var purchaseDetail in namePurchases.Purchases)\n",
    "        Console.WriteLine (\" - $$$: \" + purchaseDetail.Price);\n",
    "}"
   ]
  },
  {
   "cell_type": "markdown",
   "metadata": {},
   "source": [
    "<div dir=\"rtl\" style=\"width:80%; margin:auto\">\n",
    "<h3>جوین در دیتابیس‌های رابطه‌ای</h3>\n",
    "<p>در یک پایگاه داده رابطه‌ای معمولی، وقتی از عملیات جوین (Join) استفاده می‌کنیم، دو جدول مختلف را بر اساس یک یا چند شرط مشترک به هم متصل می‌کنیم. نتیجه یک جدول دو بعدی است که در آن هر سطر ممکن است داده‌ها از هر دو جدول را در خود داشته باشد. این جدول نتیجه معمولاً به صورت یک نما (view) یا یک مجموعه داده‌های فلت (flat dataset) است که همه اطلاعات مربوطه در سطرهای متوالی قرار دارند.</p>\n",
    "\n",
    "<h3>پرس و جو در Entity Framework Core</h3>\n",
    "<p>در مقابل، Entity Framework Core با استفاده از LINQ این امکان را فراهم می‌کند که به جای ساخت یک جدول دو بعدی فلت، داده‌ها را به صورت سلسله مراتبی سازمان‌دهی کنیم. </p>\n",
    "\n",
    "<h3>مزایای ساختار سلسله مراتبی</h3>\n",
    "\n",
    "<p>این رویکرد ساختارمند بودن داده‌ها به توسعه‌دهندگان کمک می‌کند تا به طور طبیعی با داده‌ها به شکلی که بیشتر منعکس‌کننده ساختار شیء‌گرای برنامه است، کار کنند. برخلاف نمایش دو بعدی و فلت، این ساختار به توسعه‌دهندگان اجازه می‌دهد که روابط پیچیده و سلسله مراتبی میان انواع مختلف داده‌ها را به طور مؤثرتری مدیریت کنند.</p>\n",
    "</div>"
   ]
  },
  {
   "cell_type": "code",
   "execution_count": null,
   "metadata": {
    "dotnet_interactive": {
     "language": "csharp"
    },
    "polyglot_notebook": {
     "kernelName": "csharp"
    },
    "vscode": {
     "languageId": "polyglot-notebook"
    }
   },
   "outputs": [],
   "source": [
    "// dont need to use p.CustomerID == c.ID\n",
    "var query =\n",
    "    from c in dbContext.Customers\n",
    "    select new {\n",
    "            c.Name,\n",
    "            Purchases = \n",
    "            (from p in c.Purchases\n",
    "            where  p.Price > 1000\n",
    "            select new { p.Description, p.Price })\n",
    "        .ToList()\n",
    "};"
   ]
  },
  {
   "cell_type": "code",
   "execution_count": null,
   "metadata": {
    "dotnet_interactive": {
     "language": "csharp"
    },
    "polyglot_notebook": {
     "kernelName": "csharp"
    },
    "vscode": {
     "languageId": "polyglot-notebook"
    }
   },
   "outputs": [],
   "source": [
    "var query =\n",
    "    from c in dbContext.Customers\n",
    "    where c.Purchases.Any (p => p.Price > 1000)\n",
    "    select new {\n",
    "            c.Name,\n",
    "            Purchases = \n",
    "            (from p in c.Purchases\n",
    "            where p.Price > 1000\n",
    "            select new { p.Description, p.Price })\n",
    "        .ToList()\n",
    "};"
   ]
  },
  {
   "cell_type": "code",
   "execution_count": null,
   "metadata": {
    "dotnet_interactive": {
     "language": "csharp"
    },
    "polyglot_notebook": {
     "kernelName": "csharp"
    },
    "vscode": {
     "languageId": "polyglot-notebook"
    }
   },
   "outputs": [],
   "source": [
    "//we can do above code by below code \n",
    "var query =\n",
    "    from c in dbContext.Customers\n",
    "    let highValueP = from p in c.Purchases\n",
    "                    where p.Price > 1000\n",
    "                    select new { p.Description, p.Price }\n",
    "    where highValueP.Any()\n",
    "    select new { c.Name, Purchases = highValueP };"
   ]
  },
  {
   "cell_type": "markdown",
   "metadata": {},
   "source": [
    "***Projecting into concrete types***"
   ]
  },
  {
   "cell_type": "markdown",
   "metadata": {},
   "source": [
    "### SelectMany"
   ]
  },
  {
   "cell_type": "markdown",
   "metadata": {},
   "source": [
    "| Argument    | Type |\n",
    "| -------- | ------- |\n",
    "|Source sequence |`IEnumerable<TSource>`\n",
    "|Result selector |TSource => IEnumerable<TResult> <br> (TSource,int) => IEnumerable<TResult>  (Prohibited with EF Core)"
   ]
  },
  {
   "cell_type": "markdown",
   "metadata": {},
   "source": [
    "#### Query syntax\n",
    "    from identifier1 in enumerable-expression1\n",
    "    from identifier2 in enumerable-expression2\n",
    "\n"
   ]
  },
  {
   "cell_type": "code",
   "execution_count": null,
   "metadata": {
    "dotnet_interactive": {
     "language": "csharp"
    },
    "polyglot_notebook": {
     "kernelName": "csharp"
    },
    "vscode": {
     "languageId": "polyglot-notebook"
    }
   },
   "outputs": [],
   "source": [
    "//Enumerable implementation\n",
    "\n",
    "public static IEnumerable<TResult> SelectMany<TSource,TResult>\n",
    "(IEnumerable<TSource> source,\n",
    "Func <TSource,IEnumerable<TResult>> selector)\n",
    "{\n",
    "    foreach (TSource element in source)\n",
    "        foreach (TResult subElement in selector (element))\n",
    "            yield return subElement;\n",
    "}"
   ]
  },
  {
   "cell_type": "code",
   "execution_count": null,
   "metadata": {
    "dotnet_interactive": {
     "language": "csharp"
    },
    "polyglot_notebook": {
     "kernelName": "csharp"
    },
    "vscode": {
     "languageId": "polyglot-notebook"
    }
   },
   "outputs": [],
   "source": [
    "string[] fullNames = { \"Anne Williams\", \"John Fred Smith\", \"Sue Green\" };\n",
    "\n",
    "//we want create list like This\n",
    "//\"Anne\", \"Williams\", \"John\", \"Fred\", \"Smith\", \"Sue\", Green\"\n",
    "\n",
    "IEnumerable<string> query = fullNames.SelectMany (name => name.Split());"
   ]
  },
  {
   "cell_type": "markdown",
   "metadata": {},
   "source": [
    "`SelectMany` is supported in ***query syntax*** and is invoked by having an `additional generator`  \n",
    "in other words, an extra `from` clause in the query.   \n",
    "  \n",
    "The `from` ***keyword*** has **two meanings** in *query syntax*.   \n",
    "  \n",
    "- ***At the start*** of a query, it introduces the **original** `range variable` and input sequence\n",
    "- ***Anywhere else*** in the query, it translates to `SelectMany`"
   ]
  },
  {
   "cell_type": "code",
   "execution_count": 1,
   "metadata": {
    "dotnet_interactive": {
     "language": "csharp"
    },
    "polyglot_notebook": {
     "kernelName": "csharp"
    },
    "vscode": {
     "languageId": "polyglot-notebook"
    }
   },
   "outputs": [
    {
     "name": "stdout",
     "output_type": "stream",
     "text": [
      "Anne\n",
      "Williams\n",
      "John\n",
      "Fred\n",
      "Smith\n",
      "Sue\n",
      "Green\n"
     ]
    }
   ],
   "source": [
    "string[] fullNames = { \"Anne Williams\", \"John Fred Smith\", \"Sue Green\" };\n",
    "\n",
    "//SelectMany  in query syntax\n",
    "IEnumerable<string> query =\n",
    "    from fullName in fullNames\n",
    "    from name in fullName.Split() // Translates to SelectMany\n",
    "    select name;\n",
    "\n",
    "foreach(var item in query)\n",
    "    Console.WriteLine(item);"
   ]
  },
  {
   "cell_type": "markdown",
   "metadata": {},
   "source": [
    "#### Multiple range variables "
   ]
  },
  {
   "cell_type": "markdown",
   "metadata": {},
   "source": [
    "<div dir=\"rtl\" style=\"margin:auto; width:90%; font-family:vazirmatn\">\n",
    "  <p>در <code>LINQ query syntax</code>، متغیرهای دامنه (مانند <code>name</code> و <code>fullName</code> در این مثال) تا پایان کوئری یا تا زمانی که به یک عبارت <code>into</code> برسند، در دسترس می‌مانند. این مزیت در کوئری‌های پیچیده‌تر که نیاز به دسترسی به چندین متغیر دامنه دارند، کاربردی است. به‌طور مثال، در این کوئری:</p>\n",
    "    \n",
    "</div>"
   ]
  },
  {
   "cell_type": "code",
   "execution_count": null,
   "metadata": {
    "dotnet_interactive": {
     "language": "csharp"
    },
    "polyglot_notebook": {
     "kernelName": "csharp"
    },
    "vscode": {
     "languageId": "polyglot-notebook"
    }
   },
   "outputs": [
    {
     "name": "stdout",
     "output_type": "stream",
     "text": [
      "Anne\n",
      "Williams\n",
      "John\n",
      "Fred\n",
      "Smith\n",
      "Sue\n",
      "Green\n"
     ]
    }
   ],
   "source": [
    "string[] fullNames = { \"Anne Williams\", \"John Fred Smith\", \"Sue Green\" };\n",
    "\n",
    "//SelectMany  in query syntax\n",
    "IEnumerable<string> query =\n",
    "    from fullName in fullNames\n",
    "    from name in fullName.Split() // Translates to SelectMany\n",
    "    order by\n",
    "    select name;\n",
    "\n",
    "foreach(var item in query)\n",
    "    Console.WriteLine(item);"
   ]
  },
  {
   "cell_type": "markdown",
   "metadata": {},
   "source": [
    "<div dir=\"rtl\" style=\"margin:auto; width:90%; font-family:vazirmatn\">\n",
    "<p>در <code>fluent syntax</code>، کار کمی پیچیده‌تر می‌شود، چون در هنگام استفاده از <code>SelectMany</code> به‌صورت مستقیم، عنصر بیرونی (یعنی <code>fullName</code>) از بین می‌رود و دیگر قابل دسترسی نیست. به‌عبارتی دیگر، <code>SelectMany</code> تنها فرزندان (در اینجا کلمات جدا شده توسط <code>Split</code>) را به‌صورت تخت (flat) باز می‌گرداند.</p>\n",
    "<p>برای حل این مشکل، می‌توانیم عنصر بیرونی را با هر عنصر داخلی حمل کنیم و آن را در یک نوع ناشناس ذخیره کنیم، به‌گونه‌ای که هر دو عنصر <code>name</code> و <code>fullName</code> در یک ساختار موقتی ذخیره شوند. این کار به این شکل انجام می‌شود:</p>\n",
    "</div>"
   ]
  },
  {
   "cell_type": "code",
   "execution_count": null,
   "metadata": {
    "dotnet_interactive": {
     "language": "csharp"
    },
    "polyglot_notebook": {
     "kernelName": "csharp"
    },
    "vscode": {
     "languageId": "polyglot-notebook"
    }
   },
   "outputs": [],
   "source": [
    "string[] fullNames = { \"Anne Williams\", \"Sue Green\", \"John Fred Smith\" };\n",
    "\n",
    "IEnumerable<string> query = fullNames\n",
    "    .SelectMany(fName => fName.Split().Select(name => new { name, fName }))\n",
    "    .OrderBy(x => x.fName)\n",
    "    .ThenBy(x => x.name)\n",
    "    .Select(x => x.name + \" came from \" + x.fName);\n",
    "\n",
    "\n",
    "foreach(var item in query)\n",
    "    Console.WriteLine(item);"
   ]
  },
  {
   "cell_type": "markdown",
   "metadata": {},
   "source": [
    "<div dir=\"rtl\" style=\"margin:auto; width:90%; font-family:vazirmatn\">\n",
    "<p> دو الگوی اصلی در استفاده از syntax query در LINQ  برای کار با چندین متغیر دامنه وجود دارد. این الگوها شامل گسترش و تخت کردن زیرترتیب‌ها (subsequences) و انجام ضرب دکارتی (Cartesian Product) یا به عبارت دیگر cross join است.</p>\n",
    "\n",
    "<h3>1. گسترش و تخت کردن زیرترتیب‌ها</h3>\n",
    "\n",
    "<p>در این الگو، شما یک ویژگی یا متد را در یک متغیر دامنه (range variable) فراخوانی می‌کنید تا به زیرترتیب‌ها دسترسی پیدا کنید. در اینجا یک نمونه از این الگو آورده شده:</p>\n",
    "</div>"
   ]
  },
  {
   "cell_type": "code",
   "execution_count": null,
   "metadata": {
    "dotnet_interactive": {
     "language": "csharp"
    },
    "polyglot_notebook": {
     "kernelName": "csharp"
    },
    "vscode": {
     "languageId": "polyglot-notebook"
    }
   },
   "outputs": [],
   "source": [
    "//expanding and flattening subsequences\n",
    "\n",
    "string[] fullNames = { \"Anne Williams\", \"Sue Green\", \"John Fred Smith\" };\n",
    "\n",
    "IEnumerable<string> query =\n",
    "    from fullName in fullNames\n",
    "    from name in fullName.Split()\n",
    "    select name + \" came from \" + fullName;\n",
    "\n",
    "//in Ef queries \n",
    "\n",
    "\n",
    "//Here, we’ve expanded each customer into a subsequence of purchases."
   ]
  },
  {
   "cell_type": "markdown",
   "metadata": {},
   "source": [
    "<div dir=\"rtl\" style=\"margin:auto; width:90%; font-family:vazirmatn\">\n",
    "<p>در این کوئری، از <code>fullNames</code> به <code>name</code> تغییر می‌دهیم. به عبارت دیگر، از لیستی از نام‌های کامل (مانند \"John Doe\") به کلمات جداگانه (مانند \"John\" و \"Doe\") گسترش می‌دهیم. این کار با <code>Split</code> انجام می‌شود که نام کامل را به کلمات تقسیم می‌کند. به این ترتیب، از یک ترتیب کلی به زیرترتیب‌ها دسترسی پیدا کرده‌ایم.</p>\n",
    "\n",
    "<p>مثال مشابهی در Entity Framework (EF Core) وجود دارد که شما به لیست مجموعه‌های ناوبری دسترسی پیدا می‌کنید. در مثال زیر، تمامی مشتری‌ها به همراه خریدهای آنها لیست می‌شوند:</p>\n",
    "</div>"
   ]
  },
  {
   "cell_type": "code",
   "execution_count": null,
   "metadata": {
    "dotnet_interactive": {
     "language": "csharp"
    },
    "polyglot_notebook": {
     "kernelName": "csharp"
    },
    "vscode": {
     "languageId": "polyglot-notebook"
    }
   },
   "outputs": [],
   "source": [
    "IEnumerable<string> query1 = \n",
    "    from c in dbContext.Customers\n",
    "    from p in c.Purchases\n",
    "    select c.Name + \" bought a \" + p.Description;"
   ]
  },
  {
   "cell_type": "markdown",
   "metadata": {},
   "source": [
    "<div dir=\"rtl\" style=\"margin:auto; width:90%; font-family:vazirmatn\">\n",
    "<h3>2. ضرب دکارتی (Cartesian Product) یا cross join</h3>\n",
    "<p>دومین الگو زمانی استفاده می‌شود که هر عنصر از یک ترتیب را با هر عنصر از ترتیب دیگری جفت می‌کنید. این نوع کوئری به عنوان ضرب دکارتی شناخته می‌شود و در آن ترتیب‌های انتخاب شده به هم مرتبط نیستند.</p>\n",
    "</div>"
   ]
  },
  {
   "cell_type": "code",
   "execution_count": null,
   "metadata": {
    "dotnet_interactive": {
     "language": "csharp"
    },
    "polyglot_notebook": {
     "kernelName": "csharp"
    },
    "vscode": {
     "languageId": "polyglot-notebook"
    }
   },
   "outputs": [],
   "source": [
    "//cartesian product, or cross join\n",
    "\n",
    "int[] numbers = { 1, 2, 3 }; string[] letters = { \"a\", \"b\" };\n",
    "IEnumerable<string> query = \n",
    "from n in numbers\n",
    "from l in letters\n",
    "select n.ToString() + l;\n",
    "// RESULT: { \"1a\", \"1b\", \"2a\", \"2b\", \"3a\", \"3b\" }\n"
   ]
  },
  {
   "cell_type": "markdown",
   "metadata": {},
   "source": [
    "### Joining with SelectMany"
   ]
  },
  {
   "cell_type": "code",
   "execution_count": null,
   "metadata": {
    "dotnet_interactive": {
     "language": "csharp"
    },
    "polyglot_notebook": {
     "kernelName": "csharp"
    },
    "vscode": {
     "languageId": "polyglot-notebook"
    }
   },
   "outputs": [],
   "source": [
    "//You can use SelectMany to join two sequences simply by filtering the results of a\n",
    "//cross product.\n",
    "\n",
    "string[] players = { \"Tom\", \"Jay\", \"Mary\" };\n",
    "\n",
    "IEnumerable<string> query = from name1 in players\n",
    "                            from name2 in players\n",
    "                            select name1 + \" vs \" + name2;\n",
    "                            \n",
    "//RESULT: { \"Tom vs Tom\", \"Tom vs Jay\", \"Tom vs Mary\",\n",
    "// \"Jay vs Tom\", \"Jay vs Jay\", \"Jay vs Mary\",\n",
    "// \"Mary vs Tom\", \"Mary vs \"Jay\", \"Mary vs Mary\" }"
   ]
  },
  {
   "cell_type": "code",
   "execution_count": null,
   "metadata": {
    "dotnet_interactive": {
     "language": "csharp"
    },
    "polyglot_notebook": {
     "kernelName": "csharp"
    },
    "vscode": {
     "languageId": "polyglot-notebook"
    }
   },
   "outputs": [],
   "source": [
    "string[] players = { \"Tom\", \"Jay\", \"Mary\" };\n",
    "\n",
    "IEnumerable<string> query = from name1 in players\n",
    "                            from name2 in players\n",
    "                            where name1.CompareTo (name2) != 0\n",
    "                            orderby name1, name2\n",
    "                            select name1 + \" vs \" + name2;\n",
    "                            \n",
    "//RESULT: { \"Jay vs Mary\", \"Jay vs Tom\", \"Mary vs Tom\" }\n"
   ]
  },
  {
   "cell_type": "markdown",
   "metadata": {},
   "source": [
    "### SelectMany in EF Core"
   ]
  },
  {
   "cell_type": "markdown",
   "metadata": {},
   "source": [
    "***SelectMany*** in **EF Core** can perform `cross joins`,` non-equi joins`, `inner joins`, and `left outer joins`."
   ]
  },
  {
   "cell_type": "code",
   "execution_count": null,
   "metadata": {
    "dotnet_interactive": {
     "language": "sql"
    },
    "polyglot_notebook": {
     "kernelName": "sql"
    },
    "vscode": {
     "languageId": "polyglot-notebook"
    }
   },
   "outputs": [],
   "source": [
    "--non-equi join\n",
    "\n",
    "SELECT \n",
    "    Employees.Name, \n",
    "    Departments.DepartmentName \n",
    "FROM  Employees\n",
    "JOIN  Departments  ON  Employees.Age > Departments.MinRequiredAge\n",
    "\n",
    "-- جوین غیر مساوی ،  استفاده از عملگرهای بزرگتر (>), کوچکتر (<), \n",
    "-- بزرگتر یا مساوی (>=)، یا کوچکتر یا مساوی (<=) در شروط جوین می‌تواند"
   ]
  },
  {
   "cell_type": "code",
   "execution_count": null,
   "metadata": {
    "dotnet_interactive": {
     "language": "csharp"
    },
    "polyglot_notebook": {
     "kernelName": "csharp"
    },
    "vscode": {
     "languageId": "polyglot-notebook"
    }
   },
   "outputs": [],
   "source": [
    "//cross join\n",
    "\n",
    "var query = from c in dbContext.Customers\n",
    "            from p in dbContext.Purchases\n",
    "            select c.Name + \" might have bought a \" + p.Description;\n",
    "\n",
    "\n",
    "var query1 = dbContext.Customers\n",
    "    .SelectMany(c => dbContext.Purchases, (c, p) => c.Name + \" might have bought a \" + p.Description);\n",
    "\n",
    "\n",
    "//matches every customer to every purchase"
   ]
  },
  {
   "cell_type": "code",
   "execution_count": null,
   "metadata": {
    "dotnet_interactive": {
     "language": "csharp"
    },
    "polyglot_notebook": {
     "kernelName": "csharp"
    },
    "vscode": {
     "languageId": "polyglot-notebook"
    }
   },
   "outputs": [],
   "source": [
    "//equi-join (base on equel \"=\" join) or inner join\n",
    "\n",
    " var query = from c in dbContext.Customers\n",
    "              from p in dbContext.Purchases.Where(p => p.CustomerID == c.ID)\n",
    "              select c.Name + \" bought a \" + p.Description;\n",
    "            \n",
    "var query1 = dbContext.Customers\n",
    "    .SelectMany(c => dbContext.Purchases\n",
    "        .Where(p => p.CustomerID == c.ID), (c, p) => new\n",
    "    {\n",
    "        CustomerName = c.Name,\n",
    "        PurchaseDescription = p.Description\n",
    "    });\n"
   ]
  },
  {
   "cell_type": "code",
   "execution_count": null,
   "metadata": {
    "dotnet_interactive": {
     "language": "csharp"
    },
    "polyglot_notebook": {
     "kernelName": "csharp"
    },
    "vscode": {
     "languageId": "polyglot-notebook"
    }
   },
   "outputs": [],
   "source": [
    "//left join\n",
    "\n",
    " var query = from c in dbContext.Customers\n",
    "              from p in dbContext.Purchases.Where(p => p.CustomerID == c.ID).DefaultIfEmpty()\n",
    "              select c.Name + \" bought a \" + p.Description;\n",
    "\n",
    "var query1 = dbContext.Customers\n",
    "    .SelectMany(c => dbContext.Purchases\n",
    "        .Where(p => p.CustomerID == c.ID)\n",
    "        .DefaultIfEmpty(), (c, p) => new\n",
    "    {\n",
    "        CustomerName = c.Name,\n",
    "        PurchaseDescription = p != null ? p.Description : \"No Purchase\",\n",
    "        PurchasePrice = p?.Price\n",
    "    });\n"
   ]
  },
  {
   "cell_type": "code",
   "execution_count": null,
   "metadata": {
    "dotnet_interactive": {
     "language": "csharp"
    },
    "polyglot_notebook": {
     "kernelName": "csharp"
    },
    "vscode": {
     "languageId": "polyglot-notebook"
    }
   },
   "outputs": [],
   "source": [
    "//none - equi-join\n",
    "var query = from c in dbContext.Customers\n",
    "            from p in dbContext.Purchases\n",
    "            where p.CustomerID == c.ID && c.ID < p.Price\n",
    "            select c.Name + \" bought a \" + p.Description;\n",
    "\n",
    "var query1 = dbContext.Customers\n",
    "    .SelectMany(c => dbContext.Purchases\n",
    "        .Where(p => p.CustomerID == c.ID && p.Price > 100), (c, p) => new\n",
    "    {\n",
    "        CustomerName = c.Name,\n",
    "        PurchaseDescription = p.Description,\n",
    "        PurchasePrice = p.Price\n",
    "    });\n",
    "\n",
    "   "
   ]
  },
  {
   "cell_type": "code",
   "execution_count": null,
   "metadata": {
    "dotnet_interactive": {
     "language": "csharp"
    },
    "polyglot_notebook": {
     "kernelName": "csharp"
    },
    "vscode": {
     "languageId": "polyglot-notebook"
    }
   },
   "outputs": [],
   "source": [
    "//If you have collection navigation properties in your entities,\n",
    "//you dont need where\n",
    "\n",
    "var query = from c in dbContext.Customers\n",
    "            from p in c.Purchases\n",
    "            select c.Name + \" bought a \" + p.Description;"
   ]
  },
  {
   "cell_type": "code",
   "execution_count": null,
   "metadata": {
    "dotnet_interactive": {
     "language": "csharp"
    },
    "polyglot_notebook": {
     "kernelName": "csharp"
    },
    "vscode": {
     "languageId": "polyglot-notebook"
    }
   },
   "outputs": [],
   "source": [
    "//You can add where clauses to such a query for additional filtering.\n",
    "var query = \n",
    "    from c in dbContext.Customers\n",
    "    where c.Name.StartsWith (\"T\")\n",
    "    from p in c.Purchases\n",
    "    select new { c.Name, p.Description };\n",
    "\n",
    "// in EF above code equel to below code\n",
    "\n",
    "var query1 = \n",
    "    from c in dbContext.Customers\n",
    "    from p in c.Purchases\n",
    "    where c.Name.StartsWith (\"T\")\n",
    "    select new { c.Name, p.Description };\n",
    "\n"
   ]
  },
  {
   "cell_type": "markdown",
   "metadata": {},
   "source": [
    "for ***local query***, moving the `where` clause `down` would make it `less efficient`. With ***local queries***, you should `filter` **before** `joining`."
   ]
  },
  {
   "cell_type": "code",
   "execution_count": null,
   "metadata": {
    "dotnet_interactive": {
     "language": "csharp"
    },
    "polyglot_notebook": {
     "kernelName": "csharp"
    },
    "vscode": {
     "languageId": "polyglot-notebook"
    }
   },
   "outputs": [],
   "source": [
    "//You can introduce new tables into the mix with additional from clauses.\n",
    "\n",
    "var query = \n",
    "from c in dbContext.Customers\n",
    "from p in c.Purchases\n",
    "from pi in p.PurchaseItems\n",
    "select new { c.Name, p.Description, pi.Detail };"
   ]
  },
  {
   "cell_type": "code",
   "execution_count": null,
   "metadata": {
    "dotnet_interactive": {
     "language": "csharp"
    },
    "polyglot_notebook": {
     "kernelName": "csharp"
    },
    "vscode": {
     "languageId": "polyglot-notebook"
    }
   },
   "outputs": [],
   "source": [
    "//To include data from a parent table\n",
    "//(via a navigation property), you don’t add a from clause\n",
    "\n",
    "var query = \n",
    "from c in dbContext.Customers\n",
    "select new { Name = c.Name, SalesPerson = c.SalesPerson.Name };\n",
    "\n",
    "//You don’t use SelectMany in this case because there’s no subcollection to flatten."
   ]
  },
  {
   "cell_type": "markdown",
   "metadata": {},
   "source": [
    "### Outer joins with SelectMany"
   ]
  },
  {
   "cell_type": "markdown",
   "metadata": {},
   "source": [
    "<div dir=\"rtl\" style=\"width:90%;margin:auto;\">\n",
    "<h2>انواع join ها</h2>\n",
    "<h3>INNER JOIN</h3>\n",
    "<ul><li><strong>INNER JOIN</strong>: اتصال داده‌ها بر اساس شرط مشترک بین دو جدول؛ تنها ردیف‌هایی که در هر دو جدول مطابقت دارند، نمایش داده می‌شوند.</li></ul>\n",
    "<h3>OUTER JOIN</h3>\n",
    "<ul>\n",
    "<li><strong>LEFT (OUTER) JOIN</strong>: نمایش تمامی ردیف‌های جدول سمت چپ و ردیف‌های مطابق از جدول سمت راست. ردیف‌هایی از جدول سمت چپ که مطابقت ندارند، با مقادیر <code>NULL</code> برای ستون‌های جدول سمت راست نمایش داده می‌شوند.</li>\n",
    "<li><strong>RIGHT (OUTER) JOIN</strong>: نمایش تمامی ردیف‌های جدول سمت راست و ردیف‌های مطابق از جدول سمت چپ. ردیف‌هایی از جدول سمت راست که مطابقت ندارند، با مقادیر <code>NULL</code> برای ستون‌های جدول سمت چپ نمایش داده می‌شوند.</li>\n",
    "<li><strong>FULL (OUTER) JOIN</strong>: ترکیبی از <code>LEFT JOIN</code> و <code>RIGHT JOIN</code> که تمامی ردیف‌ها از هر دو جدول را نمایش می‌دهد. اگر مطابقتی در یکی از جداول وجود نداشته باشد، مقادیر <code>NULL</code> برای ستون‌های جدول مقابل ظاهر می‌شود.</li></ul>\n",
    "\n",
    "<h3>CROSS JOIN</h3>\n",
    "<ul><li><strong>CROSS JOIN</strong>: این جوین بدون نیاز به شرط اتصال، هر ردیف از جدول اول را با هر ردیف از جدول دوم ترکیب می‌کند. نتیجه، جدولی است که شامل ترکیبات ممکن هر دو جدول است.</li></ul>\n",
    "\n",
    "<h3>SELF JOIN</h3>\n",
    "<ul><li><strong>SELF JOIN</strong>: این نوع جوین برای اتصال یک جدول به خودش به کار می‌رود، معمولاً برای مقایسه ردیف‌ها درون یک جدول با یکدیگر استفاده می‌شود.</li></ul>\n",
    "\n",
    "<h3>NATURAL JOIN</h3>\n",
    "<ul><li><strong>NATURAL JOIN</strong>: این نوع اتصال داده‌ها را بر اساس ستون‌های مشترک با نام‌های یکسان در دو جدول ادغام می‌کند، بدون اینکه نیاز به مشخص کردن شرط مطابقت باشد.</li></ul>\n",
    "</div>"
   ]
  }
 ],
 "metadata": {
  "kernelspec": {
   "display_name": ".NET (C#)",
   "language": "C#",
   "name": ".net-csharp"
  },
  "language_info": {
   "name": "python"
  },
  "polyglot_notebook": {
   "kernelInfo": {
    "defaultKernelName": "csharp",
    "items": [
     {
      "aliases": [],
      "name": "csharp"
     }
    ]
   }
  }
 },
 "nbformat": 4,
 "nbformat_minor": 2
}
