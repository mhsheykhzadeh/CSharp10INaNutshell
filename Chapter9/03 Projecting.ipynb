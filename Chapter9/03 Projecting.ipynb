{
 "cells": [
  {
   "cell_type": "markdown",
   "metadata": {},
   "source": [
    "| Method    | Description | SQL equivalents |\n",
    "| -------- | ------- | ------- |\n",
    "|`Select` |Transforms each input element with the given lambda expression |SELECT\n",
    "|`SelectMany` |Transforms each input element, and then flattens and concatenates<br>the resultant subsequences |INNER JOIN,<br>LEFT OUTER JOIN,<br>CROSS JOIN"
   ]
  },
  {
   "cell_type": "markdown",
   "metadata": {},
   "source": [
    "### Select"
   ]
  },
  {
   "cell_type": "markdown",
   "metadata": {},
   "source": [
    "| Argument    | Type |\n",
    "| -------- | ------- |\n",
    "|Source sequence |`IEnumerable<TSource>`\n",
    "|Result selector |TSource => TResult or (TSource,int) => TResult"
   ]
  },
  {
   "cell_type": "code",
   "execution_count": null,
   "metadata": {
    "dotnet_interactive": {
     "language": "csharp"
    },
    "polyglot_notebook": {
     "kernelName": "csharp"
    },
    "vscode": {
     "languageId": "polyglot-notebook"
    }
   },
   "outputs": [],
   "source": [
    "public static IEnumerable<TResult> Select<TSource,TResult>\n",
    "(this IEnumerable<TSource> source, Func<TSource,TResult> selector)\n",
    "{\n",
    "    foreach (TSource element in source)\n",
    "        yield return selector (element);\n",
    "}"
   ]
  },
  {
   "cell_type": "markdown",
   "metadata": {},
   "source": [
    "With ***Select***, you always get the `same number of elements` that you started with. Each element, however, can be `transformed` in any manner by the lambda function."
   ]
  },
  {
   "cell_type": "code",
   "execution_count": null,
   "metadata": {
    "dotnet_interactive": {
     "language": "csharp"
    },
    "polyglot_notebook": {
     "kernelName": "csharp"
    },
    "vscode": {
     "languageId": "polyglot-notebook"
    }
   },
   "outputs": [],
   "source": [
    "using System.Drawing;\n",
    "\n",
    "//The following selects the names of all fonts installed on the computer\n",
    "IEnumerable<string> query = \n",
    "    from f in FontFamily.Families\n",
    "    select f.Name;\n",
    "\n",
    "IEnumerable<string> lamdaQuery = FontFamily.Families.Select (f => f.Name);"
   ]
  },
  {
   "cell_type": "code",
   "execution_count": null,
   "metadata": {
    "dotnet_interactive": {
     "language": "csharp"
    },
    "polyglot_notebook": {
     "kernelName": "csharp"
    },
    "vscode": {
     "languageId": "polyglot-notebook"
    }
   },
   "outputs": [],
   "source": [
    "using System.Drawing;\n",
    "//Select statements are often used to project into anonymous types:\n",
    "var query =\n",
    "from f in FontFamily.Families\n",
    "select new { f.Name, LineSpacing = f.GetLineSpacing (FontStyle.Bold) };"
   ]
  },
  {
   "cell_type": "markdown",
   "metadata": {},
   "source": [
    "***Indexed projection***"
   ]
  },
  {
   "cell_type": "code",
   "execution_count": null,
   "metadata": {
    "dotnet_interactive": {
     "language": "csharp"
    },
    "polyglot_notebook": {
     "kernelName": "csharp"
    },
    "vscode": {
     "languageId": "polyglot-notebook"
    }
   },
   "outputs": [],
   "source": [
    "string[] names = { \"Tom\", \"Dick\", \"Harry\", \"Mary\", \"Jay\" };\n",
    "IEnumerable<string> query = names\n",
    ".Select ((s,i) => i + \"=\" + s); // { \"0=Tom\", \"1=Dick\", ... }"
   ]
  },
  {
   "cell_type": "markdown",
   "metadata": {},
   "source": [
    "***Select subqueries and object hierarchies***"
   ]
  },
  {
   "cell_type": "code",
   "execution_count": null,
   "metadata": {
    "dotnet_interactive": {
     "language": "csharp"
    },
    "polyglot_notebook": {
     "kernelName": "csharp"
    },
    "vscode": {
     "languageId": "polyglot-notebook"
    }
   },
   "outputs": [],
   "source": [
    "using System.IO;\n",
    "\n",
    "string tempPath = Path.GetTempPath();\n",
    "DirectoryInfo[] dirs = new DirectoryInfo (tempPath).GetDirectories();\n",
    "\n",
    "var query =\n",
    "from d in dirs\n",
    "where (d.Attributes & FileAttributes.System) == 0\n",
    "select new\n",
    "{\n",
    "    DirectoryName = d.FullName,\n",
    "    Created = d.CreationTime,\n",
    "    Files = from f in d.GetFiles()\n",
    "        where (f.Attributes & FileAttributes.Hidden) == 0\n",
    "        select new { FileName = f.Name, f.Length, }\n",
    "};\n",
    "\n",
    "foreach (var dirFiles in query)\n",
    "{\n",
    "    Console.WriteLine (\"Directory: \" + dirFiles.DirectoryName);\n",
    "    foreach (var file in dirFiles.Files)\n",
    "    Console.WriteLine (\" \" + file.FileName + \" Len: \" + file.Length);\n",
    "}\n"
   ]
  },
  {
   "cell_type": "markdown",
   "metadata": {},
   "source": [
    "***correlated subquery***  \n",
    "subquery is **correlated** if it `references` an object in the `outer query`"
   ]
  },
  {
   "cell_type": "markdown",
   "metadata": {},
   "source": [
    "With ***local queries***, a `subquery` `within a Select` causes **double-deferred execution**.\n",
    "\n",
    "<div dir=\"rtl\" style=\"width:80%; margin:auto\">\n",
    "هر پوشه تنها زمانی مورد بررسی قرار می‌گیرد که در حلقه بیرونی به آن رسیده شود و فایل‌های هر پوشه نیز فقط زمانی بررسی و فیلتر می‌شوند که به آن‌ها در حلقه داخلی نیاز باشد. این رویکرد منجر به صرفه‌جویی در منابع و افزایش کارایی می‌شود، چرا که تنها داده‌های مورد نیاز در هر لحظه پردازش می‌شوند.\n",
    "\n",
    "</div>"
   ]
  },
  {
   "cell_type": "markdown",
   "metadata": {},
   "source": [
    "***Subqueries and joins in EF Core***"
   ]
  },
  {
   "cell_type": "code",
   "execution_count": null,
   "metadata": {
    "dotnet_interactive": {
     "language": "csharp"
    },
    "polyglot_notebook": {
     "kernelName": "csharp"
    },
    "vscode": {
     "languageId": "polyglot-notebook"
    }
   },
   "outputs": [],
   "source": [
    "var query =\n",
    "    from c in dbContext.Customers\n",
    "    select new {\n",
    "            c.Name,\n",
    "            Purchases = (from p in dbContext.Purchases\n",
    "            where p.CustomerID == c.ID && p.Price > 1000\n",
    "            select new { p.Description, p.Price })\n",
    "        .ToList()\n",
    "};\n",
    "\n",
    "foreach (var namePurchases in query)\n",
    "{\n",
    "    Console.WriteLine (\"Customer: \" + namePurchases.Name);\n",
    "    foreach (var purchaseDetail in namePurchases.Purchases)\n",
    "        Console.WriteLine (\" - $$$: \" + purchaseDetail.Price);\n",
    "}"
   ]
  },
  {
   "cell_type": "markdown",
   "metadata": {},
   "source": [
    "<div dir=\"rtl\" style=\"width:80%; margin:auto\">\n",
    "<h3>جوین در دیتابیس‌های رابطه‌ای</h3>\n",
    "<p>در یک پایگاه داده رابطه‌ای معمولی، وقتی از عملیات جوین (Join) استفاده می‌کنیم، دو جدول مختلف را بر اساس یک یا چند شرط مشترک به هم متصل می‌کنیم. نتیجه یک جدول دو بعدی است که در آن هر سطر ممکن است داده‌ها از هر دو جدول را در خود داشته باشد. این جدول نتیجه معمولاً به صورت یک نما (view) یا یک مجموعه داده‌های فلت (flat dataset) است که همه اطلاعات مربوطه در سطرهای متوالی قرار دارند.</p>\n",
    "\n",
    "<h3>پرس و جو در Entity Framework Core</h3>\n",
    "<p>در مقابل، Entity Framework Core با استفاده از LINQ این امکان را فراهم می‌کند که به جای ساخت یک جدول دو بعدی فلت، داده‌ها را به صورت سلسله مراتبی سازمان‌دهی کنیم. </p>\n",
    "\n",
    "<h3>مزایای ساختار سلسله مراتبی</h3>\n",
    "\n",
    "<p>این رویکرد ساختارمند بودن داده‌ها به توسعه‌دهندگان کمک می‌کند تا به طور طبیعی با داده‌ها به شکلی که بیشتر منعکس‌کننده ساختار شیء‌گرای برنامه است، کار کنند. برخلاف نمایش دو بعدی و فلت، این ساختار به توسعه‌دهندگان اجازه می‌دهد که روابط پیچیده و سلسله مراتبی میان انواع مختلف داده‌ها را به طور مؤثرتری مدیریت کنند.</p>\n",
    "</div>"
   ]
  },
  {
   "cell_type": "code",
   "execution_count": null,
   "metadata": {
    "dotnet_interactive": {
     "language": "csharp"
    },
    "polyglot_notebook": {
     "kernelName": "csharp"
    },
    "vscode": {
     "languageId": "polyglot-notebook"
    }
   },
   "outputs": [],
   "source": [
    "// dont need to use p.CustomerID == c.ID\n",
    "var query =\n",
    "    from c in dbContext.Customers\n",
    "    select new {\n",
    "            c.Name,\n",
    "            Purchases = \n",
    "            (from p in dbContext.Purchases\n",
    "            where  p.Price > 1000\n",
    "            select new { p.Description, p.Price })\n",
    "        .ToList()\n",
    "};"
   ]
  },
  {
   "cell_type": "code",
   "execution_count": null,
   "metadata": {
    "dotnet_interactive": {
     "language": "csharp"
    },
    "polyglot_notebook": {
     "kernelName": "csharp"
    },
    "vscode": {
     "languageId": "polyglot-notebook"
    }
   },
   "outputs": [],
   "source": [
    "var query =\n",
    "    from c in dbContext.Customers\n",
    "    where c.Purchases.Any (p => p.Price > 1000)\n",
    "    select new {\n",
    "            c.Name,\n",
    "            Purchases = \n",
    "            (from p in dbContext.Purchases\n",
    "            where p.Price > 1000\n",
    "            select new { p.Description, p.Price })\n",
    "        .ToList()\n",
    "};"
   ]
  },
  {
   "cell_type": "code",
   "execution_count": null,
   "metadata": {
    "dotnet_interactive": {
     "language": "csharp"
    },
    "polyglot_notebook": {
     "kernelName": "csharp"
    },
    "vscode": {
     "languageId": "polyglot-notebook"
    }
   },
   "outputs": [],
   "source": [
    "//we can do above code by below code \n",
    "var query =\n",
    "    from c in dbContext.Customers\n",
    "    let highValueP = from p in c.Purchases\n",
    "                    where p.Price > 1000\n",
    "                    select new { p.Description, p.Price }\n",
    "    where highValueP.Any()\n",
    "    select new { c.Name, Purchases = highValueP };"
   ]
  },
  {
   "cell_type": "markdown",
   "metadata": {},
   "source": [
    "***Projecting into concrete types***"
   ]
  },
  {
   "cell_type": "markdown",
   "metadata": {},
   "source": [
    "### SelectMany"
   ]
  },
  {
   "cell_type": "markdown",
   "metadata": {},
   "source": [
    "| Argument    | Type |\n",
    "| -------- | ------- |\n",
    "|Source sequence |`IEnumerable<TSource>`\n",
    "|Result selector |TSource => IEnumerable<TResult> or (TSource,int) => IEnumerable<TResult>"
   ]
  },
  {
   "cell_type": "code",
   "execution_count": null,
   "metadata": {
    "dotnet_interactive": {
     "language": "csharp"
    },
    "polyglot_notebook": {
     "kernelName": "csharp"
    },
    "vscode": {
     "languageId": "polyglot-notebook"
    }
   },
   "outputs": [],
   "source": [
    "public static IEnumerable<TResult> SelectMany<TSource,TResult>\n",
    "(IEnumerable<TSource> source,\n",
    "Func <TSource,IEnumerable<TResult>> selector)\n",
    "{\n",
    "    foreach (TSource element in source)\n",
    "        foreach (TResult subElement in selector (element))\n",
    "            yield return subElement;\n",
    "}"
   ]
  },
  {
   "cell_type": "markdown",
   "metadata": {},
   "source": [
    "<div dir=\"rtl\" style=\"width:80%; margin:auto\">\n",
    "<p><code>Select</code> برای انتخاب و تبدیل هر عنصر از یک مجموعه استفاده می‌شود. این تابع به شما امکان می‌دهد برای هر عنصر در مجموعه، یک عملیات تبدیل انجام دهید و یک مجموعه جدید با همان تعداد عنصر اما احتمالا با نوع متفاوت ایجاد کنید. <code>Select</code> به شما این امکان را می‌دهد که از هر عنصر ورودی، یک عنصر خروجی تولید کنید.</p>\n",
    "\n",
    "</div>"
   ]
  },
  {
   "cell_type": "code",
   "execution_count": null,
   "metadata": {
    "dotnet_interactive": {
     "language": "csharp"
    },
    "polyglot_notebook": {
     "kernelName": "csharp"
    },
    "vscode": {
     "languageId": "polyglot-notebook"
    }
   },
   "outputs": [],
   "source": [
    "var numbers = new List<int> { 1, 2, 3 };\n",
    "var doubled = numbers.Select(x => x * 2);  // { 2, 4, 6 }"
   ]
  },
  {
   "cell_type": "markdown",
   "metadata": {},
   "source": [
    "<div dir=\"rtl\" style=\"width:80%; margin:auto\">\n",
    "<p><code>SelectMany</code> برای فلت کردن مجموعه‌های مجموعه‌ای (collections of collections) به کار می‌رود. این تابع هر عنصر از یک مجموعه را می‌گیرد، که خود می‌تواند یک مجموعه باشد، و تمام مجموعه‌های فرعی را به یک مجموعه واحد فلت تبدیل می‌کند. <code>SelectMany</code> بسیار مفید است وقتی که شما می‌خواهید از هر عنصر چندین عنصر خروجی تولید کنید.</p>\n",
    "\n",
    "<h3>تفاوت‌های کلیدی بین <code>Select</code> و <code>SelectMany</code></h3>\n",
    "<p><strong>تبدیل versus فلت‌سازی</strong>: <code>Select</code> یک عملیات ۱-به-۱ (one-to-one) بر روی عناصر انجام می‌دهد، در حالی که <code>SelectMany</code> یک عملیات ۱-به-چند (one-to-many) انجام می‌دهد و نتیجه را فلت می‌کند.</p>\n",
    "</div>"
   ]
  },
  {
   "cell_type": "code",
   "execution_count": null,
   "metadata": {
    "dotnet_interactive": {
     "language": "csharp"
    },
    "polyglot_notebook": {
     "kernelName": "csharp"
    },
    "vscode": {
     "languageId": "polyglot-notebook"
    }
   },
   "outputs": [],
   "source": [
    "var listOfLists = new List<List<int>>\n",
    "{\n",
    "    new List<int> { 1, 2 },\n",
    "    new List<int> { 3, 4 },\n",
    "    new List<int> { 5, 6 }\n",
    "};\n",
    "var allNumbers = listOfLists.SelectMany(x => x);  // { 1, 2, 3, 4, 5, 6 }\n"
   ]
  },
  {
   "cell_type": "code",
   "execution_count": null,
   "metadata": {
    "dotnet_interactive": {
     "language": "csharp"
    },
    "polyglot_notebook": {
     "kernelName": "csharp"
    },
    "vscode": {
     "languageId": "polyglot-notebook"
    }
   },
   "outputs": [],
   "source": [
    "public class Person\n",
    "{\n",
    "    public int Id { get; set; }\n",
    "\n",
    "    public string Name { get; set; }\n",
    "\n",
    "    public List<Purchase> Purchases { get; set; }\n",
    "}\n",
    "\n",
    "public class Purchase\n",
    "{\n",
    "    public int Id { get; set; }\n",
    "\n",
    "    public int PersonId { get; set; }\n",
    "\n",
    "    public int Count { get; set; }\n",
    "\n",
    "    public int Amount { get; set; }\n",
    "}\n",
    "\n",
    "var people = new List<Person>();\n",
    "\n",
    "var purchasesOfPeople = people.SelectMany(x => x.Purchases).ToList();\n",
    "//list of Purchases of persons"
   ]
  },
  {
   "cell_type": "code",
   "execution_count": null,
   "metadata": {
    "dotnet_interactive": {
     "language": "csharp"
    },
    "polyglot_notebook": {
     "kernelName": "csharp"
    },
    "vscode": {
     "languageId": "polyglot-notebook"
    }
   },
   "outputs": [],
   "source": [
    "string[] fullNames = { \"Anne Williams\", \"John Fred Smith\", \"Sue Green\" };\n",
    "\n",
    "//we want create list like This\n",
    "//\"Anne\", \"Williams\", \"John\", \"Fred\", \"Smith\", \"Sue\", Green\"\n",
    "\n",
    "IEnumerable<string> query = fullNames.SelectMany (name => name.Split());"
   ]
  },
  {
   "cell_type": "code",
   "execution_count": null,
   "metadata": {
    "dotnet_interactive": {
     "language": "csharp"
    },
    "polyglot_notebook": {
     "kernelName": "csharp"
    },
    "vscode": {
     "languageId": "polyglot-notebook"
    }
   },
   "outputs": [],
   "source": [
    "string[] fullNames = { \"Anne Williams\", \"John Fred Smith\", \"Sue Green\" };\n",
    "\n",
    "//SelectMany  in query syntax\n",
    "IEnumerable<string> query =\n",
    "    from fullName in fullNames\n",
    "    from name in fullName.Split() // Translates to SelectMany\n",
    "    select name;"
   ]
  },
  {
   "cell_type": "markdown",
   "metadata": {},
   "source": [
    "#### Multiple range variables "
   ]
  },
  {
   "cell_type": "markdown",
   "metadata": {},
   "source": [
    "The ***extended scope*** variables is the `killer` scenario for `query syntax` over `fluent syntax`."
   ]
  },
  {
   "cell_type": "code",
   "execution_count": null,
   "metadata": {
    "dotnet_interactive": {
     "language": "csharp"
    },
    "polyglot_notebook": {
     "kernelName": "csharp"
    },
    "vscode": {
     "languageId": "polyglot-notebook"
    }
   },
   "outputs": [],
   "source": [
    "string[] fullNames = { \"Anne Williams\", \"Sue Green\", \"John Fred Smith\" };\n",
    "\n",
    "IEnumerable<string> query =\n",
    "    from fullName in fullNames\n",
    "    from name in fullName.Split()\n",
    "    select name + \" came from \" + fullName;\n",
    "/*\n",
    "Anne came from Anne Williams\n",
    "Williams came from Anne Williams\n",
    "John came from John Fred Smith\n",
    "...\n",
    "*/\n",
    "\n",
    "var query1 = \n",
    "    from fullName in fullNames\n",
    "    from name in fullName.Split()\n",
    "    orderby fullName, name // in this case we lost fullName from outer \n",
    "    select name + \" came from \" + fullName;\n",
    "\n",
    "foreach(var item in query1)\n",
    "    Console.WriteLine(item);\n",
    "\n",
    "var query2 =\n",
    "    from fullName in fullNames\n",
    "    from x in fullName.Split().Select (name => new { name, fullName } )\n",
    "    orderby x.fullName, x.name\n",
    "    select x.name + \" came from \" + x.fullName;\n",
    "\n",
    "foreach(var item in query2)\n",
    "    Console.WriteLine(item);"
   ]
  },
  {
   "cell_type": "code",
   "execution_count": null,
   "metadata": {
    "dotnet_interactive": {
     "language": "csharp"
    },
    "polyglot_notebook": {
     "kernelName": "csharp"
    },
    "vscode": {
     "languageId": "polyglot-notebook"
    }
   },
   "outputs": [],
   "source": [
    "string[] fullNames = { \"Anne Williams\", \"Sue Green\", \"John Fred Smith\" };\n",
    "\n",
    "//Fluent query\n",
    "IEnumerable<string> query = fullNames\n",
    "    .SelectMany (fName => fName.Split()\n",
    "                            .Select (name => new { name, fName } ))\n",
    ".OrderBy (x => x.fName)\n",
    ".ThenBy (x => x.name)\n",
    ".Select (x => x.name + \" came from \" + x.fName);"
   ]
  },
  {
   "cell_type": "markdown",
   "metadata": {},
   "source": [
    "there are two basic patter for use query syntax  \n",
    " - ***expanding and flattening subsequences***\n",
    " - ***cartesian product, or cross join***"
   ]
  },
  {
   "cell_type": "code",
   "execution_count": null,
   "metadata": {
    "dotnet_interactive": {
     "language": "csharp"
    },
    "polyglot_notebook": {
     "kernelName": "csharp"
    },
    "vscode": {
     "languageId": "polyglot-notebook"
    }
   },
   "outputs": [],
   "source": [
    "//expanding and flattening subsequences\n",
    "\n",
    "string[] fullNames = { \"Anne Williams\", \"Sue Green\", \"John Fred Smith\" };\n",
    "\n",
    "IEnumerable<string> query =\n",
    "    from fullName in fullNames\n",
    "    from name in fullName.Split()\n",
    "    select name + \" came from \" + fullName;\n",
    "\n",
    "//in Ef queries \n",
    "IEnumerable<string> query1 = \n",
    "    from c in dbContext.Customers\n",
    "    from p in c.Purchases\n",
    "    select c.Name + \" bought a \" + p.Description;\n",
    "\n",
    "//Here, we’ve expanded each customer into a subsequence of purchases."
   ]
  },
  {
   "cell_type": "code",
   "execution_count": null,
   "metadata": {
    "dotnet_interactive": {
     "language": "csharp"
    },
    "polyglot_notebook": {
     "kernelName": "csharp"
    },
    "vscode": {
     "languageId": "polyglot-notebook"
    }
   },
   "outputs": [],
   "source": [
    "//cartesian product, or cross join\n",
    "\n",
    "int[] numbers = { 1, 2, 3 }; string[] letters = { \"a\", \"b\" };\n",
    "IEnumerable<string> query = from n in numbers\n",
    "from l in letters\n",
    "select n.ToString() + l;\n",
    "// RESULT: { \"1a\", \"1b\", \"2a\", \"2b\", \"3a\", \"3b\" }\n",
    "\n",
    "//This style of query is the basis of SelectMany-style joins."
   ]
  },
  {
   "cell_type": "markdown",
   "metadata": {},
   "source": [
    "### Joining with SelectMany"
   ]
  },
  {
   "cell_type": "code",
   "execution_count": null,
   "metadata": {
    "dotnet_interactive": {
     "language": "csharp"
    },
    "polyglot_notebook": {
     "kernelName": "csharp"
    },
    "vscode": {
     "languageId": "polyglot-notebook"
    }
   },
   "outputs": [],
   "source": [
    "//You can use SelectMany to join two sequences simply by filtering the results of a\n",
    "//cross product.\n",
    "\n",
    "string[] players = { \"Tom\", \"Jay\", \"Mary\" };\n",
    "\n",
    "IEnumerable<string> query = from name1 in players\n",
    "                            from name2 in players\n",
    "                            select name1 + \" vs \" + name2;\n",
    "                            \n",
    "//RESULT: { \"Tom vs Tom\", \"Tom vs Jay\", \"Tom vs Mary\",\n",
    "// \"Jay vs Tom\", \"Jay vs Jay\", \"Jay vs Mary\",\n",
    "// \"Mary vs Tom\", \"Mary vs \"Jay\", \"Mary vs Mary\" }"
   ]
  },
  {
   "cell_type": "code",
   "execution_count": null,
   "metadata": {
    "dotnet_interactive": {
     "language": "csharp"
    },
    "polyglot_notebook": {
     "kernelName": "csharp"
    },
    "vscode": {
     "languageId": "polyglot-notebook"
    }
   },
   "outputs": [],
   "source": [
    "string[] players = { \"Tom\", \"Jay\", \"Mary\" };\n",
    "\n",
    "IEnumerable<string> query = from name1 in players\n",
    "                            from name2 in players\n",
    "                            where name1.CompareTo (name2) < 0\n",
    "                            orderby name1, name2\n",
    "                            select name1 + \" vs \" + name2;\n",
    "                            \n",
    "//RESULT: { \"Jay vs Mary\", \"Jay vs Tom\", \"Mary vs Tom\" }\n"
   ]
  },
  {
   "cell_type": "markdown",
   "metadata": {},
   "source": [
    "### SelectMany in EF Core"
   ]
  },
  {
   "cell_type": "markdown",
   "metadata": {},
   "source": [
    "***SelectMany*** in **EF Core** can perform `cross joins`,` non-equi joins`, `inner joins`, and `left outer joins`."
   ]
  },
  {
   "cell_type": "code",
   "execution_count": null,
   "metadata": {
    "dotnet_interactive": {
     "language": "sql"
    },
    "polyglot_notebook": {
     "kernelName": "sql"
    },
    "vscode": {
     "languageId": "polyglot-notebook"
    }
   },
   "outputs": [],
   "source": [
    "--non-equi join\n",
    "\n",
    "SELECT \n",
    "    Employees.Name, \n",
    "    Departments.DepartmentName \n",
    "FROM  Employees\n",
    "JOIN  Departments  ON  Employees.Age > Departments.MinRequiredAge\n",
    "\n",
    "-- جوین غیر مساوی ،  استفاده از عملگرهای بزرگتر (>), کوچکتر (<), \n",
    "-- بزرگتر یا مساوی (>=)، یا کوچکتر یا مساوی (<=) در شروط جوین می‌تواند"
   ]
  },
  {
   "cell_type": "markdown",
   "metadata": {},
   "source": [
    "<div dir=\"rtl\" style=\"width:90%; margin:auto\">\n",
    "<h3>استفاده از SelectMany با روابط پیش‌فرض و ad hoc</h3>\n",
    "<p>\n",
    "<strong>روابط پیش‌فرض</strong>: این روابط معمولاً در مدل داده‌های اپلیکیشن تعریف شده‌اند. به عنوان مثال، در یک برنامه مدیریت منابع انسانی، ممکن است رابطه‌ای مانند <code>Employee</code> و <code>Department</code> وجود داشته باشد که نشان دهنده این است که هر کارمند به یک بخش تعلق دارد.\n",
    "</p>\n",
    "\n",
    "<p><strong>روابط ad hoc</strong>: این روابط بدون تعریف قبلی در مدل داده‌ها برقرار می‌شوند و معمولاً برای پرس‌وجوهای خاص یا تجزیه‌وتحلیل‌های داده‌ای موقت ایجاد می‌شوند. به عنوان مثال، شما ممکن است بخواهید داده‌های مربوط به فروش را با اطلاعات مشتریان بر اساس شرایط خاصی که فقط برای یک گزارش خاص نیاز است، مرتبط کنید.</p>\n",
    "\n",
    "<h3>تفاوت Select و SelectMany</h3>\n",
    "<p> اگر یک لیست از کارمندان دارید و هر کارمند لیستی از پروژه‌ها دارد، <code>Select</code> ممکن است برای هر کارمند یک لیست از پروژه‌ها را برگرداند (ساختار درختی)، در حالی که <code>SelectMany</code> تمام پروژه‌ها را در یک لیست واحد و تخت جمع می‌کند، بدون توجه به اینکه به کدام کارمند تعلق دارند.</p>\n",
    "</div>"
   ]
  },
  {
   "cell_type": "code",
   "execution_count": null,
   "metadata": {
    "dotnet_interactive": {
     "language": "csharp"
    },
    "polyglot_notebook": {
     "kernelName": "csharp"
    },
    "vscode": {
     "languageId": "polyglot-notebook"
    }
   },
   "outputs": [],
   "source": [
    "//cross join\n",
    "\n",
    "var query = from c in dbContext.Customers\n",
    "            from p in dbContext.Purchases\n",
    "            select c.Name + \" might have bought a \" + p.Description;\n",
    "\n",
    "//matches every customer to every purchase"
   ]
  },
  {
   "cell_type": "code",
   "execution_count": null,
   "metadata": {
    "dotnet_interactive": {
     "language": "csharp"
    },
    "polyglot_notebook": {
     "kernelName": "csharp"
    },
    "vscode": {
     "languageId": "polyglot-notebook"
    }
   },
   "outputs": [],
   "source": [
    "//equi-join (base on equel \"=\" join)\n",
    "\n",
    "var query = from c in dbContext.Customers\n",
    "            from p in dbContext.Purchases\n",
    "            where c.ID == p.CustomerID\n",
    "            select c.Name + \" bought a \" + p.Description;"
   ]
  },
  {
   "cell_type": "code",
   "execution_count": null,
   "metadata": {
    "dotnet_interactive": {
     "language": "csharp"
    },
    "polyglot_notebook": {
     "kernelName": "csharp"
    },
    "vscode": {
     "languageId": "polyglot-notebook"
    }
   },
   "outputs": [],
   "source": [
    "//If you have collection navigation properties in your entities,\n",
    "//you dont need where\n",
    "\n",
    "var query = from c in dbContext.Customers\n",
    "            from p in c.Purchases\n",
    "            select c.Name + \" bought a \" + p.Description;"
   ]
  },
  {
   "cell_type": "code",
   "execution_count": null,
   "metadata": {
    "dotnet_interactive": {
     "language": "csharp"
    },
    "polyglot_notebook": {
     "kernelName": "csharp"
    },
    "vscode": {
     "languageId": "polyglot-notebook"
    }
   },
   "outputs": [],
   "source": [
    "//You can add where clauses to such a query for additional filtering.\n",
    "var query = \n",
    "    from c in dbContext.Customers\n",
    "    where c.Name.StartsWith (\"T\")\n",
    "    from p in c.Purchases\n",
    "    select new { c.Name, p.Description };\n",
    "\n",
    "// in EF above code equel to below code\n",
    "\n",
    "var query1 = \n",
    "    from c in dbContext.Customers\n",
    "    from p in c.Purchases\n",
    "    where c.Name.StartsWith (\"T\")\n",
    "    select new { c.Name, p.Description };\n",
    "\n"
   ]
  },
  {
   "cell_type": "markdown",
   "metadata": {},
   "source": [
    "for ***local query***, moving the `where` clause `down` would make it `less efficient`. With ***local queries***, you should `filter` **before** `joining`."
   ]
  },
  {
   "cell_type": "code",
   "execution_count": null,
   "metadata": {
    "dotnet_interactive": {
     "language": "csharp"
    },
    "polyglot_notebook": {
     "kernelName": "csharp"
    },
    "vscode": {
     "languageId": "polyglot-notebook"
    }
   },
   "outputs": [],
   "source": [
    "//You can introduce new tables into the mix with additional from clauses.\n",
    "\n",
    "var query = \n",
    "from c in dbContext.Customers\n",
    "from p in c.Purchases\n",
    "from pi in p.PurchaseItems\n",
    "select new { c.Name, p.Description, pi.Detail };"
   ]
  },
  {
   "cell_type": "code",
   "execution_count": null,
   "metadata": {
    "dotnet_interactive": {
     "language": "csharp"
    },
    "polyglot_notebook": {
     "kernelName": "csharp"
    },
    "vscode": {
     "languageId": "polyglot-notebook"
    }
   },
   "outputs": [],
   "source": [
    "//To include data from a parent table\n",
    "//(via a navigation property), you don’t add a from clause\n",
    "\n",
    "var query = \n",
    "from c in dbContext.Customers\n",
    "select new { Name = c.Name, SalesPerson = c.SalesPerson.Name };\n",
    "\n",
    "//You don’t use SelectMany in this case because there’s no subcollection to flatten."
   ]
  },
  {
   "cell_type": "markdown",
   "metadata": {},
   "source": [
    "### Outer joins with SelectMany"
   ]
  },
  {
   "cell_type": "markdown",
   "metadata": {},
   "source": [
    "<div dir=\"rtl\" style=\"width:90%;margin:auto;\">\n",
    "<h2>انواع join ها</h2>\n",
    "<h3>INNER JOIN</h3>\n",
    "<ul><li><strong>INNER JOIN</strong>: اتصال داده‌ها بر اساس شرط مشترک بین دو جدول؛ تنها ردیف‌هایی که در هر دو جدول مطابقت دارند، نمایش داده می‌شوند.</li></ul>\n",
    "<h3>OUTER JOIN</h3>\n",
    "<ul>\n",
    "<li><strong>LEFT (OUTER) JOIN</strong>: نمایش تمامی ردیف‌های جدول سمت چپ و ردیف‌های مطابق از جدول سمت راست. ردیف‌هایی از جدول سمت چپ که مطابقت ندارند، با مقادیر <code>NULL</code> برای ستون‌های جدول سمت راست نمایش داده می‌شوند.</li>\n",
    "<li><strong>RIGHT (OUTER) JOIN</strong>: نمایش تمامی ردیف‌های جدول سمت راست و ردیف‌های مطابق از جدول سمت چپ. ردیف‌هایی از جدول سمت راست که مطابقت ندارند، با مقادیر <code>NULL</code> برای ستون‌های جدول سمت چپ نمایش داده می‌شوند.</li>\n",
    "<li><strong>FULL (OUTER) JOIN</strong>: ترکیبی از <code>LEFT JOIN</code> و <code>RIGHT JOIN</code> که تمامی ردیف‌ها از هر دو جدول را نمایش می‌دهد. اگر مطابقتی در یکی از جداول وجود نداشته باشد، مقادیر <code>NULL</code> برای ستون‌های جدول مقابل ظاهر می‌شود.</li></ul>\n",
    "\n",
    "<h3>CROSS JOIN</h3>\n",
    "<ul><li><strong>CROSS JOIN</strong>: این جوین بدون نیاز به شرط اتصال، هر ردیف از جدول اول را با هر ردیف از جدول دوم ترکیب می‌کند. نتیجه، جدولی است که شامل ترکیبات ممکن هر دو جدول است.</li></ul>\n",
    "\n",
    "<h3>SELF JOIN</h3>\n",
    "<ul><li><strong>SELF JOIN</strong>: این نوع جوین برای اتصال یک جدول به خودش به کار می‌رود، معمولاً برای مقایسه ردیف‌ها درون یک جدول با یکدیگر استفاده می‌شود.</li></ul>\n",
    "\n",
    "<h3>NATURAL JOIN</h3>\n",
    "<ul><li><strong>NATURAL JOIN</strong>: این نوع اتصال داده‌ها را بر اساس ستون‌های مشترک با نام‌های یکسان در دو جدول ادغام می‌کند، بدون اینکه نیاز به مشخص کردن شرط مطابقت باشد.</li></ul>\n",
    "</div>"
   ]
  },
  {
   "cell_type": "code",
   "execution_count": null,
   "metadata": {
    "dotnet_interactive": {
     "language": "csharp"
    },
    "polyglot_notebook": {
     "kernelName": "csharp"
    },
    "vscode": {
     "languageId": "polyglot-notebook"
    }
   },
   "outputs": [],
   "source": [
    "// normal select \n",
    "\n",
    "var normalQuery = \n",
    "from c in dbContext.Customers\n",
    "select new {\n",
    "            c.Name,\n",
    "            Purchases = from p in c.Purchases\n",
    "                        where p.Price > 1000\n",
    "                        select new { p.Description, p.Price }\n",
    "};\n",
    "\n",
    "// this is a outer left join\n",
    "\n",
    "//selectMany \n",
    "\n",
    "var selectManyQuery = \n",
    "from c in dbContext.Customers\n",
    "from p in c.Purchases\n",
    "where p.Price > 1000\n",
    "select new { c.Name, p.Description, p.Price };\n",
    "\n",
    "// but this is a inner join"
   ]
  },
  {
   "cell_type": "code",
   "execution_count": null,
   "metadata": {
    "dotnet_interactive": {
     "language": "csharp"
    },
    "polyglot_notebook": {
     "kernelName": "csharp"
    },
    "vscode": {
     "languageId": "polyglot-notebook"
    }
   },
   "outputs": [],
   "source": [
    "//To get a left outer join with a flat result set, \n",
    "//we must apply the DefaultIfEmpty query operator on the inner sequence.\n",
    "var selectManyLeftJoinQuery = \n",
    "from c in dbContext.Customers\n",
    "from p in c.Purchases.DefaultIfEmpty()\n",
    "select new { c.Name, p.Description, p.Price };\n",
    "\n",
    "//returning all customers—even if they have no purchases."
   ]
  }
 ],
 "metadata": {
  "language_info": {
   "name": "python"
  }
 },
 "nbformat": 4,
 "nbformat_minor": 2
}
