{
 "cells": [
  {
   "cell_type": "markdown",
   "metadata": {},
   "source": [
    "A `delegate` is an `object` that knows `how to call a method`."
   ]
  },
  {
   "cell_type": "markdown",
   "metadata": {},
   "source": [
    "it defines the method’s `return type` and its `parameter types`."
   ]
  },
  {
   "cell_type": "code",
   "execution_count": 2,
   "metadata": {
    "dotnet_interactive": {
     "language": "csharp"
    },
    "polyglot_notebook": {
     "kernelName": "csharp"
    },
    "vscode": {
     "languageId": "polyglot-notebook"
    }
   },
   "outputs": [
    {
     "name": "stdout",
     "output_type": "stream",
     "text": [
      "4\n",
      "6\n"
     ]
    },
    {
     "data": {
      "text/html": [
       "<div class=\"dni-plaintext\"><pre>9</pre></div><style>\r\n",
       ".dni-code-hint {\r\n",
       "    font-style: italic;\r\n",
       "    overflow: hidden;\r\n",
       "    white-space: nowrap;\r\n",
       "}\r\n",
       ".dni-treeview {\r\n",
       "    white-space: nowrap;\r\n",
       "}\r\n",
       ".dni-treeview td {\r\n",
       "    vertical-align: top;\r\n",
       "    text-align: start;\r\n",
       "}\r\n",
       "details.dni-treeview {\r\n",
       "    padding-left: 1em;\r\n",
       "}\r\n",
       "table td {\r\n",
       "    text-align: start;\r\n",
       "}\r\n",
       "table tr { \r\n",
       "    vertical-align: top; \r\n",
       "    margin: 0em 0px;\r\n",
       "}\r\n",
       "table tr td pre \r\n",
       "{ \r\n",
       "    vertical-align: top !important; \r\n",
       "    margin: 0em 0px !important;\r\n",
       "} \r\n",
       "table th {\r\n",
       "    text-align: start;\r\n",
       "}\r\n",
       "</style>"
      ]
     },
     "metadata": {},
     "output_type": "display_data"
    }
   ],
   "source": [
    "//The following defines a delegate type called Transformer:\n",
    "\n",
    "delegate int Transformer (int x);\n",
    "\n",
    "int Square (int x) { return x * x; }\n",
    "int MultipleBy2(int x) { return x * 2;}\n",
    "\n",
    "Transformer t1 = Square;\n",
    "Transformer t2 = MultipleBy2;\n",
    "\n",
    "int answer1 = t1(2); //4 //Invoke delegate\n",
    "int asnwer2 = t2(3); //6 //Invoke delegate\n",
    "\n",
    "Console.WriteLine(answer1);\n",
    "\n",
    "Console.WriteLine(asnwer2);\n",
    "\n",
    "Transformer t3 = Square;\n",
    "//in fact compelete code is \n",
    "Transformer t = new Transformer (Square);\n",
    "\n",
    "//The expression\n",
    "t(3);\n",
    "//is shorthand for:\n",
    "t.Invoke(3)"
   ]
  },
  {
   "cell_type": "markdown",
   "metadata": {},
   "source": [
    "### Writing Plug-In Methods with Delegates"
   ]
  },
  {
   "cell_type": "code",
   "execution_count": 3,
   "metadata": {
    "dotnet_interactive": {
     "language": "csharp"
    },
    "polyglot_notebook": {
     "kernelName": "csharp"
    },
    "vscode": {
     "languageId": "polyglot-notebook"
    }
   },
   "outputs": [
    {
     "name": "stdout",
     "output_type": "stream",
     "text": [
      "1 4 9 "
     ]
    }
   ],
   "source": [
    "//A delegate variable is assigned a method at runtime. \n",
    "//This is useful for writing plug-in methods.\n",
    "\n",
    "delegate int Transformer (int x);\n",
    "\n",
    "int Square (int x) => x * x;\n",
    "int Cube (int x) => x * x * x;\n",
    "\n",
    "void Transform (int[] values, Transformer t)\n",
    "{\n",
    "    for (int i = 0; i < values.Length; i++)\n",
    "    values[i] = t (values[i]);\n",
    "}\n",
    "\n",
    "int[] values = { 1, 2, 3 };\n",
    "Transform (values, Square); \n",
    "\n",
    "foreach (int i in values)\n",
    "    Console.Write (i + \" \"); "
   ]
  },
  {
   "cell_type": "markdown",
   "metadata": {},
   "source": [
    "### Instance and Static Method Targets"
   ]
  },
  {
   "cell_type": "code",
   "execution_count": null,
   "metadata": {
    "dotnet_interactive": {
     "language": "csharp"
    },
    "polyglot_notebook": {
     "kernelName": "csharp"
    },
    "vscode": {
     "languageId": "polyglot-notebook"
    }
   },
   "outputs": [],
   "source": [
    "//A delegate’s target method can be a local, static, or instance method.\n",
    "\n",
    "delegate int Transformer (int x);\n",
    "\n",
    "class Test { public static int Square (int x) => x * x; }\n",
    "\n",
    "Transformer t = Test.Square;\n",
    "Console.WriteLine (t(10)); // 100"
   ]
  },
  {
   "cell_type": "code",
   "execution_count": 4,
   "metadata": {
    "dotnet_interactive": {
     "language": "csharp"
    },
    "polyglot_notebook": {
     "kernelName": "csharp"
    },
    "vscode": {
     "languageId": "polyglot-notebook"
    }
   },
   "outputs": [
    {
     "name": "stdout",
     "output_type": "stream",
     "text": [
      "100\r\n"
     ]
    }
   ],
   "source": [
    "delegate int Transformer (int x);\n",
    "class Test { int y = 10; public int Square (int x) => x * x * y; }\n",
    "\n",
    "Test test = new Test();\n",
    "Transformer t = test.Square;\n",
    "Console.WriteLine (t(10));"
   ]
  },
  {
   "cell_type": "markdown",
   "metadata": {},
   "source": [
    "#### ***Important***"
   ]
  },
  {
   "cell_type": "markdown",
   "metadata": {},
   "source": [
    "When an `instance method` is `assigned` to a ***delegate object***, the latter maintains a reference `not only to the method` but also `to the instance` to which the method belongs."
   ]
  },
  {
   "cell_type": "markdown",
   "metadata": {},
   "source": [
    "The `System.Delegate` class’s `Target` property represents this instance "
   ]
  },
  {
   "cell_type": "code",
   "execution_count": 5,
   "metadata": {
    "dotnet_interactive": {
     "language": "csharp"
    },
    "polyglot_notebook": {
     "kernelName": "csharp"
    },
    "vscode": {
     "languageId": "polyglot-notebook"
    }
   },
   "outputs": [
    {
     "name": "stdout",
     "output_type": "stream",
     "text": [
      "%Complete: 99\n",
      "True\n",
      "Void ReportProgress(Int32)\n",
      "99\n"
     ]
    }
   ],
   "source": [
    "public delegate void ProgressReporter (int percentComplete);\n",
    "\n",
    "class MyReporter\n",
    "{\n",
    "    public string Prefix = \"\";\n",
    "    public void ReportProgress (int percentComplete)\n",
    "        => Console.WriteLine (Prefix + percentComplete);\n",
    "}\n",
    "\n",
    "MyReporter r = new MyReporter();\n",
    "r.Prefix = \"%Complete: \";\n",
    "ProgressReporter p = r.ReportProgress;\n",
    "p(99); // %Complete: 99\n",
    "Console.WriteLine (p.Target == r); // True\n",
    "Console.WriteLine (p.Method); // Void ReportProgress(Int32)\n",
    "r.Prefix = \"\";\n",
    "p(99); // 99"
   ]
  },
  {
   "cell_type": "markdown",
   "metadata": {},
   "source": [
    "Because the `instance` is `stored` in the delegate’s property, its `lifetime` is\n",
    "Target `extended` to (at least as long as) the `delegate’s lifetime`."
   ]
  },
  {
   "cell_type": "markdown",
   "metadata": {},
   "source": [
    "### Multicast Delegates"
   ]
  },
  {
   "cell_type": "markdown",
   "metadata": {},
   "source": [
    "This means that a `delegate instance` can reference not just a single target method but also a `list of target methods`. The `+` and `+=` operators combine delegate instances"
   ]
  },
  {
   "cell_type": "markdown",
   "metadata": {},
   "source": [
    "`SomeDelegate d = SomeMethod1`;  \n",
    "  \n",
    "`d += SomeMethod2;`"
   ]
  },
  {
   "cell_type": "markdown",
   "metadata": {},
   "source": [
    "Invoking d will now call ***both*** `SomeMethod1` and `SomeMethod2`. Delegates are invoked in the `order` in `which they are added`."
   ]
  },
  {
   "cell_type": "markdown",
   "metadata": {},
   "source": [
    "The `-` and `-=` operators remove the right delegate operand from the left delegate\n",
    "operand  \n",
    "  \n",
    "`d -= SomeMethod1;`  *//Invoking d will now cause only SomeMethod2 to be invoked.*"
   ]
  },
  {
   "cell_type": "markdown",
   "metadata": {},
   "source": [
    "<div dir=\"rtl\" style=\"width:80%; margin:auto;\">\n",
    "اگر دلیگیت دارای نوع بازگشتی غیر از `void` باشد، فقط مقدار بازگشتی متد آخری که فراخوانی شده در نهایت به کالر برگردانده می‌شود. مقادیر بازگشتی سایر متدها نادیده گرفته می‌شوند، که این ممکن است در برخی موارد مهم باشد.\n",
    "</div>"
   ]
  },
  {
   "cell_type": "code",
   "execution_count": 6,
   "metadata": {
    "dotnet_interactive": {
     "language": "csharp"
    },
    "polyglot_notebook": {
     "kernelName": "csharp"
    },
    "vscode": {
     "languageId": "polyglot-notebook"
    }
   },
   "outputs": [
    {
     "name": "stdout",
     "output_type": "stream",
     "text": [
      "Adding\n",
      "Multiplying\n",
      "Subtracting\n",
      "Result: 5\n"
     ]
    }
   ],
   "source": [
    "public delegate int Calculator();\n",
    "static int Add()\n",
    "{\n",
    "    Console.WriteLine(\"Adding\");\n",
    "    return 10;\n",
    "}\n",
    "static int Multiply()\n",
    "{\n",
    "    Console.WriteLine(\"Multiplying\");\n",
    "    return 20;\n",
    "}\n",
    "static int Subtract()\n",
    "{\n",
    "    Console.WriteLine(\"Subtracting\");\n",
    "    return 5;\n",
    "}\n",
    "\n",
    "Calculator calc = Add; // اضافه کردن متد Add به دلیگیت\n",
    "calc += Multiply;      // اضافه کردن متد Multiply\n",
    "calc += Subtract;      // اضافه کردن متد Subtract\n",
    "\n",
    "int result = calc();   // فراخوانی دلیگیت و دریافت مقدار بازگشتی از آخرین متد فراخوانی شده\n",
    "Console.WriteLine(\"Result: \" + result); // نمایش نتیجه\n"
   ]
  },
  {
   "cell_type": "markdown",
   "metadata": {},
   "source": [
    "### Generic Delegate Types"
   ]
  },
  {
   "cell_type": "code",
   "execution_count": 1,
   "metadata": {
    "dotnet_interactive": {
     "language": "csharp"
    },
    "polyglot_notebook": {
     "kernelName": "csharp"
    },
    "vscode": {
     "languageId": "polyglot-notebook"
    }
   },
   "outputs": [
    {
     "name": "stdout",
     "output_type": "stream",
     "text": [
      "1 4 9 ali ali ardalan ardalan taghi taghi "
     ]
    }
   ],
   "source": [
    "//A delegate type can contain generic type parameters:\n",
    "public delegate T Transformer<T> (T arg);\n",
    "\n",
    "public class Util\n",
    "{\n",
    "    public static void Transform<T> (T[] values, Transformer<T> t)\n",
    "    {\n",
    "        for (int i = 0; i < values.Length; i++)\n",
    "            values[i] = t (values[i]);\n",
    "    }\n",
    "}\n",
    "\n",
    "int Square (int x) => x * x;\n",
    "\n",
    "int[] values = { 1, 2, 3 };\n",
    "Util.Transform (values, Square); // Hook in Square\n",
    "\n",
    "foreach (int i in values)\n",
    "    Console.Write (i + \" \"); // 1 4 9\n",
    "\n",
    "string Repeat(string s) => s += \" \"+s;\n",
    "string[] names = {\"ali\",\"ardalan\",\"taghi\"};\n",
    "Util.Transform (names, Repeat);\n",
    "\n",
    "foreach (string n in names)\n",
    "    Console.Write (n + \" \"); "
   ]
  },
  {
   "cell_type": "markdown",
   "metadata": {},
   "source": [
    "### The Func and Action Delegates"
   ]
  },
  {
   "cell_type": "markdown",
   "metadata": {},
   "source": [
    "With ***generic delegates***, it becomes possible to write a `small set of delegate` types that are so general they can `work for methods of any return type` and any (reasonable) `number of arguments`. These delegates are the `Func` and `Action` delegates"
   ]
  },
  {
   "cell_type": "code",
   "execution_count": null,
   "metadata": {
    "dotnet_interactive": {
     "language": "csharp"
    },
    "polyglot_notebook": {
     "kernelName": "csharp"
    },
    "vscode": {
     "languageId": "polyglot-notebook"
    }
   },
   "outputs": [],
   "source": [
    "delegate TResult Func <out TResult> ();\n",
    "delegate TResult Func <in T, out TResult> (T arg);\n",
    "delegate TResult Func <in T1, in T2, out TResult> (T1 arg1, T2 arg2);\n",
    "//... and so on, up to T16\n",
    "\n",
    "delegate void Action ();\n",
    "delegate void Action <in T> (T arg);\n",
    "delegate void Action <in T1, in T2> (T1 arg1, T2 arg2);\n",
    "//... and so on, up to T16"
   ]
  },
  {
   "cell_type": "code",
   "execution_count": null,
   "metadata": {
    "dotnet_interactive": {
     "language": "csharp"
    },
    "polyglot_notebook": {
     "kernelName": "csharp"
    },
    "vscode": {
     "languageId": "polyglot-notebook"
    }
   },
   "outputs": [],
   "source": [
    "public static void Transform<T> (T[] values, Func<T,T> transformer)\n",
    "{\n",
    "    for (int i = 0; i < values.Length; i++)\n",
    "        values[i] = transformer (values[i]);\n",
    "}"
   ]
  },
  {
   "cell_type": "markdown",
   "metadata": {},
   "source": [
    "When C# was first introduced, the Func and Action delegates\n",
    "did not exist (because generics did not exist). It’s for this historical\n",
    "reason that much of .NET uses custom delegate types\n",
    "rather than Func and Action."
   ]
  },
  {
   "cell_type": "markdown",
   "metadata": {},
   "source": [
    "### Delegate Compatibility"
   ]
  },
  {
   "cell_type": "code",
   "execution_count": null,
   "metadata": {
    "dotnet_interactive": {
     "language": "csharp"
    },
    "polyglot_notebook": {
     "kernelName": "csharp"
    },
    "vscode": {
     "languageId": "polyglot-notebook"
    }
   },
   "outputs": [],
   "source": [
    "//Delegate types are all incompatible with one another, \n",
    "// even if their signatures are the same:"
   ]
  },
  {
   "cell_type": "code",
   "execution_count": null,
   "metadata": {
    "dotnet_interactive": {
     "language": "csharp"
    },
    "polyglot_notebook": {
     "kernelName": "csharp"
    },
    "vscode": {
     "languageId": "polyglot-notebook"
    }
   },
   "outputs": [],
   "source": [
    "delegate void D1();\n",
    "delegate void D2();\n",
    "void Method1() { }\n",
    "\n",
    "D1 d1 = Method1;\n",
    "D2 d2 = d1; //نمی توانند به هم assign شوند\n",
    "\n",
    "//we can do this\n",
    "D2 d22 = new D2 (d1);"
   ]
  },
  {
   "cell_type": "code",
   "execution_count": null,
   "metadata": {
    "dotnet_interactive": {
     "language": "csharp"
    },
    "polyglot_notebook": {
     "kernelName": "csharp"
    },
    "vscode": {
     "languageId": "polyglot-notebook"
    }
   },
   "outputs": [],
   "source": [
    "//Delegate instances are considered equal if they have the same method targets\n",
    "void Method1() { }\n",
    "delegate void D();\n",
    "\n",
    "D d1 = Method1;\n",
    "D d2 = Method1;\n",
    "Console.WriteLine (d1 == d2); // True\n",
    "\n",
    "//Multicast delegates are considered equal,\n",
    "//if they reference the same methods in the same order."
   ]
  },
  {
   "cell_type": "markdown",
   "metadata": {},
   "source": [
    "#### Parameter compatibility"
   ]
  },
  {
   "cell_type": "markdown",
   "metadata": {},
   "source": [
    "When you call a `method`, you can supply arguments that have `more specific` types\n",
    "than the parameters of that method. This is ordinary ***polymorphic*** behavior."
   ]
  },
  {
   "cell_type": "markdown",
   "metadata": {},
   "source": [
    "For the same reason, a `delegate` can have `more specific parameter` types than its method target. This is called ***contravariance***."
   ]
  },
  {
   "cell_type": "code",
   "execution_count": null,
   "metadata": {
    "dotnet_interactive": {
     "language": "csharp"
    },
    "polyglot_notebook": {
     "kernelName": "csharp"
    },
    "vscode": {
     "languageId": "polyglot-notebook"
    }
   },
   "outputs": [],
   "source": [
    "delegate void StringAction (string s);\n",
    "void ActOnObject (object o) => Console.WriteLine (o); // hello\n",
    "\n",
    "StringAction sa = new StringAction (ActOnObject);\n",
    "sa (\"hello\");"
   ]
  },
  {
   "cell_type": "markdown",
   "metadata": {},
   "source": [
    "### Return type compatibility"
   ]
  },
  {
   "cell_type": "markdown",
   "metadata": {},
   "source": [
    "If you call a `method`, you might get back a type that is `more specific` than what you asked for. This is ordinary `polymorphic` behavior."
   ]
  },
  {
   "cell_type": "code",
   "execution_count": null,
   "metadata": {
    "dotnet_interactive": {
     "language": "csharp"
    },
    "polyglot_notebook": {
     "kernelName": "csharp"
    },
    "vscode": {
     "languageId": "polyglot-notebook"
    }
   },
   "outputs": [],
   "source": [
    "object RetriveString() => \"hello\";\n",
    "\n",
    "string obj = RetriveString(); //use must get back more specific."
   ]
  },
  {
   "cell_type": "markdown",
   "metadata": {},
   "source": [
    "For the same reason, a `delegate’s target method` might return a `more specific type` than `described by the delegate`. This is called ***covariance***"
   ]
  },
  {
   "cell_type": "code",
   "execution_count": null,
   "metadata": {
    "dotnet_interactive": {
     "language": "csharp"
    },
    "polyglot_notebook": {
     "kernelName": "csharp"
    },
    "vscode": {
     "languageId": "polyglot-notebook"
    }
   },
   "outputs": [],
   "source": [
    "delegate object ObjectRetriever();\n",
    "\n",
    "string RetriveString() => \"hello\";\n",
    "\n",
    "ObjectRetriever o = new ObjectRetriever (RetriveString);\n",
    "object result = o();\n",
    "Console.WriteLine (result); // hello"
   ]
  },
  {
   "cell_type": "markdown",
   "metadata": {},
   "source": [
    "#### Generic delegate type parameter variance"
   ]
  },
  {
   "cell_type": "markdown",
   "metadata": {},
   "source": [
    "If you’re defining a generic delegate type, it’s good practice to do the following:  \n",
    "- Mark a type parameter used only on the return value as ***covariant*** (`out`).\n",
    "- Mark any type parameters used only on parameters as ***contravariant*** (`in`)."
   ]
  },
  {
   "cell_type": "code",
   "execution_count": null,
   "metadata": {
    "dotnet_interactive": {
     "language": "csharp"
    },
    "polyglot_notebook": {
     "kernelName": "csharp"
    },
    "vscode": {
     "languageId": "polyglot-notebook"
    }
   },
   "outputs": [],
   "source": [
    "delegate TResult Func<out TResult>(); //covariant\n",
    "\n",
    "//This allows:\n",
    "string GetString()=> \"\";\n",
    "Func<string> x = new Func<string>(GetString);\n",
    "Func<object> y = x;\n",
    "\n",
    "\n",
    "delegate void Action<in T> (T arg);// contravarinat\n",
    "\n",
    "void PrintObj(object obj){Console.WriteLine(obj.ToString());}\n",
    "\n",
    "Action<object> xx = new Action<object>(PrintObj);\n",
    "Action<string> yy = xx;"
   ]
  }
 ],
 "metadata": {
  "language_info": {
   "name": "python"
  }
 },
 "nbformat": 4,
 "nbformat_minor": 2
}
