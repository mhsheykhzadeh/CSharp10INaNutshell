{
 "cells": [
  {
   "cell_type": "markdown",
   "metadata": {},
   "source": [
    "A ***try statement*** specifies a code block subject to `error-handling` or `cleanup` code."
   ]
  },
  {
   "cell_type": "code",
   "execution_count": null,
   "metadata": {
    "dotnet_interactive": {
     "language": "csharp"
    },
    "polyglot_notebook": {
     "kernelName": "csharp"
    },
    "vscode": {
     "languageId": "polyglot-notebook"
    }
   },
   "outputs": [],
   "source": [
    "/*\n",
    "The try block must be followed by one or more catch blocks and/or a finally\n",
    "block, or both.\n",
    "*/\n",
    "\n",
    "//just finally\n",
    "try\n",
    "{\n",
    "    Console.WriteLine(\"try statement\");\n",
    "}\n",
    "finally\n",
    "{\n",
    "    Console.WriteLine(\"finally statement\");\n",
    "}\n",
    "\n",
    "//just catch\n",
    "try\n",
    "{\n",
    "    Console.WriteLine(\"try statement\");\n",
    "}\n",
    "catch\n",
    "{\n",
    "    Console.WriteLine(\"catch statement\");\n",
    "}\n",
    "\n",
    "//both\n",
    "try\n",
    "{\n",
    "    Console.WriteLine(\"try statement\");\n",
    "}\n",
    "catch\n",
    "{\n",
    "    Console.WriteLine(\"catch statement\");\n",
    "}\n",
    "finally\n",
    "{\n",
    "    Console.WriteLine(\"finally statement\");\n",
    "}"
   ]
  },
  {
   "cell_type": "markdown",
   "metadata": {},
   "source": [
    "You use a ***catch block*** to `handel error` or `rethrow` the exception."
   ]
  },
  {
   "cell_type": "markdown",
   "metadata": {},
   "source": [
    "You ***rethrow an exception*** if you merely want to `log the problem` or if you want to rethrow a new, `higher-level exception` type."
   ]
  },
  {
   "cell_type": "markdown",
   "metadata": {},
   "source": [
    "When an ***exception is thrown*** within a try statement, the `CLR` performs a `test`:  \n",
    "\n",
    "Does the ***try*** statement have any `compatible catch` blocks?  \n",
    "\n",
    "- If so, execution `jumps` to the compatible `catch` block, followed by the finally\n",
    "block (if present), and then execution `continues normally`.  \n",
    "\n",
    "- If not, execution `jumps` directly to the `finally` block (if present), then the `CLR` looks up the `call stack` for other try blocks; if found, it repeats the test.  \n",
    "\n",
    "If no function in the call stack takes responsibility for the exception, the program\n",
    "`terminates`."
   ]
  },
  {
   "cell_type": "markdown",
   "metadata": {},
   "source": [
    "<div dir=\"rtl\" style=\"width:90%; margin:auto\">\n",
    "<p><strong>Call Stack</strong>، که گاهی به عنوان <strong>stack</strong> یا <strong>execution stack</strong> هم نامیده می‌شود، یک ساختار داده‌ای است که برای نگهداری اطلاعات مربوط به فعالیت‌های در حال اجرا در برنامه‌های کامپیوتری به کار می‌رود. این ساختار نقش مهمی در مدیریت توابع و زیرتوابع در زمان اجرا دارد. در ادامه به توضیح دقیق‌تری در مورد اجزاء و کارکرد Call Stack می‌پردازیم:</p>\n",
    "\n",
    "<h3>کارکرد اصلی</h3>\n",
    "<p>Call Stack به برنامه کمک می‌کند تا یاد بگیرد چه زمانی باید به کد قبلی بازگردد. هر زمان که یک تابع فراخوانی می‌شود، نقطه‌ای که تابع در آن فراخوانی شده و پارامترهای مورد نیاز آن تابع، در Call Stack ثبت می‌شوند. وقتی تابع اجرای خود را به پایان می‌رساند، برنامه می‌تواند موقعیت بعدی را که باید اجرا شود از Call Stack بخواند و به آن نقطه در برنامه بازگردد.</p>\n",
    "\n",
    "<h3>ساختار Call Stack</h3>\n",
    "<p>Call Stack معمولاً به صورت <strong>LIFO</strong> (Last In, First Out) عمل می‌کند، به این معنا که آخرین تابعی که وارد Stack شده است، اولین تابعی است که خارج می‌شود. این خصوصیت برای مدیریت توابع تودرتو و بازگشت به ترتیب صحیح فراخوانی توابع بسیار مهم است.</p>\n",
    "<h3>اجزاء یک ورودی در Call Stack</h3>\n",
    "<p>هر ورودی در Call Stack معمولاً شامل موارد زیر است:</p>\n",
    "<ol><li><strong>آدرس بازگشت</strong> - نقطه‌ای در کد که بعد از اتمام تابع، باید به آن بازگشت.</li><li><strong>پارامترهای تابع</strong> - مقادیری که به تابع ارسال شده‌اند.</li><li><strong>متغیرهای محلی</strong> - متغیرهایی که در داخل تابع تعریف شده‌اند.</li><li><strong>مقدار بیس پوینتر (Base Pointer)</strong> - نشان‌دهنده‌ی نقطه‌ای در stack که تابع فعلی در آن شروع به کار کرده است.</li></ol>\n",
    "\n",
    "<h3>کاربرد در اشکال‌زدایی</h3>\n",
    "<p>Call Stack ابزار مهمی در فرایند اشکال‌زدایی برنامه‌ها است، چرا که به برنامه‌نویس اجازه می‌دهد تا ببیند کدام توابع به ترتیب فراخوانی شده‌اند و از کجا ممکن است خطاها سرچشمه گرفته باشند. این اطلاعات به ویژه هنگامی که خطاهایی مانند \"stack overflow\" یا خطاهای ناشی از عملیات نامعتبر رخ می‌دهند، بسیار سودمند است.</p>\n",
    "</div>"
   ]
  },
  {
   "cell_type": "markdown",
   "metadata": {},
   "source": [
    "### The catch Clause"
   ]
  },
  {
   "cell_type": "markdown",
   "metadata": {},
   "source": [
    "A ***catch clause*** specifies what type of exception to catch. This must either be\n",
    "`System.Exception` or a subclass of `System.Exception`."
   ]
  },
  {
   "cell_type": "markdown",
   "metadata": {},
   "source": [
    "Catching ***System.Exception*** catches `all possible errors`. This is useful in the following circumstances:\n",
    "- Your program can potentially recover regardless of the specific exception type.  \n",
    "  \n",
    "- You plan to `rethrow` the exception (perhaps after logging it).  \n",
    "  \n",
    "- Your error handler is the `last resort`, prior to termination of the program."
   ]
  },
  {
   "cell_type": "code",
   "execution_count": null,
   "metadata": {
    "dotnet_interactive": {
     "language": "csharp"
    },
    "polyglot_notebook": {
     "kernelName": "csharp"
    },
    "vscode": {
     "languageId": "polyglot-notebook"
    }
   },
   "outputs": [],
   "source": [
    "static void Main(string[] args)\n",
    "{\n",
    "    try\n",
    "    {\n",
    "        byte b = byte.Parse(args[0]);\n",
    "        Console.WriteLine(b);\n",
    "    }\n",
    "    catch (IndexOutOfRangeException)\n",
    "    {\n",
    "        Console.WriteLine(\"Please provide at least one argument\");\n",
    "    }\n",
    "    catch (FormatException)\n",
    "    {\n",
    "        Console.WriteLine(\"That's not a number!\");\n",
    "    }\n",
    "    catch (OverflowException)\n",
    "    {\n",
    "        Console.WriteLine(\"You've given me more than a byte!\");\n",
    "    }\n",
    "    \n",
    "    catch(Exception)\n",
    "    {\n",
    "        \n",
    "    }\n",
    "}"
   ]
  },
  {
   "cell_type": "markdown",
   "metadata": {},
   "source": [
    "If you want to include a safety net to catch more general exceptions (such as System.Exception), you must put the `more-specific` handlers `first`."
   ]
  },
  {
   "cell_type": "markdown",
   "metadata": {},
   "source": [
    "### Exception filters"
   ]
  },
  {
   "cell_type": "code",
   "execution_count": null,
   "metadata": {
    "dotnet_interactive": {
     "language": "csharp"
    },
    "polyglot_notebook": {
     "kernelName": "csharp"
    },
    "vscode": {
     "languageId": "polyglot-notebook"
    }
   },
   "outputs": [],
   "source": [
    "using System.Net;\n",
    "//You can specify an exception filter in a catch clause by adding a when clause:\n",
    "try{}\n",
    "catch (WebException ex) when (ex.Status == WebExceptionStatus.Timeout)\n",
    "{\n",
    "    //do somthing \n",
    "}\n",
    "catch (WebException ex) when (ex.Status == WebExceptionStatus.SendFailure)\n",
    "{ }"
   ]
  },
  {
   "cell_type": "markdown",
   "metadata": {},
   "source": [
    "### The finally Block"
   ]
  },
  {
   "cell_type": "markdown",
   "metadata": {},
   "source": [
    "A ***finally block*** `always executes`—regardless of whether an exception is thrown and whether the try block runs to completion."
   ]
  },
  {
   "cell_type": "markdown",
   "metadata": {},
   "source": [
    "even we use `return` on try statement, ***finally block*** `execute` before return."
   ]
  },
  {
   "cell_type": "code",
   "execution_count": null,
   "metadata": {
    "dotnet_interactive": {
     "language": "csharp"
    },
    "polyglot_notebook": {
     "kernelName": "csharp"
    },
    "vscode": {
     "languageId": "polyglot-notebook"
    }
   },
   "outputs": [],
   "source": [
    "using System.IO;\n",
    "\n",
    "void ReadFile()\n",
    "{\n",
    "    StreamReader reader = null; // In System.IO namespace\n",
    "    try\n",
    "    {\n",
    "        reader = File.OpenText(\"file.txt\");\n",
    "        if (reader.EndOfStream) return;\n",
    "        Console.WriteLine(reader.ReadToEnd());\n",
    "    }\n",
    "    finally // در کد بالا خطا هم اتفاق بیوفتد این کد اجرا خواهد شد.\n",
    "    {\n",
    "        if (reader != null) reader.Dispose();\n",
    "    }\n",
    "}"
   ]
  },
  {
   "cell_type": "markdown",
   "metadata": {},
   "source": [
    "### The using statement\n"
   ]
  },
  {
   "cell_type": "markdown",
   "metadata": {},
   "source": [
    "Many classes encapsulate unmanaged resources, such as `file handles`, `graphics handles`, or `database connections`. These classes implement `System.IDisposable`,\n",
    "which defines a single parameterless method named `Dispose` to `clean up these\n",
    "resources`."
   ]
  },
  {
   "cell_type": "markdown",
   "metadata": {},
   "source": [
    "The ***using statement*** provides an elegant syntax for calling `Dispose` on an `IDisposable` object within a `finally block`"
   ]
  },
  {
   "cell_type": "code",
   "execution_count": null,
   "metadata": {
    "dotnet_interactive": {
     "language": "csharp"
    },
    "polyglot_notebook": {
     "kernelName": "csharp"
    },
    "vscode": {
     "languageId": "polyglot-notebook"
    }
   },
   "outputs": [],
   "source": [
    "using System.IO;\n",
    "using (StreamReader reader = File.OpenText (\"file.txt\")) // we can using declaration too\n",
    "{\n",
    "   \n",
    "}\n",
    "\n",
    "//translate to below code ↓ ↓ ↓ ↓ ↓"
   ]
  },
  {
   "cell_type": "code",
   "execution_count": null,
   "metadata": {
    "dotnet_interactive": {
     "language": "csharp"
    },
    "polyglot_notebook": {
     "kernelName": "csharp"
    },
    "vscode": {
     "languageId": "polyglot-notebook"
    }
   },
   "outputs": [],
   "source": [
    "using System.IO;\n",
    "\n",
    "StreamReader reader = File.OpenText(\"file.txt\");\n",
    "try\n",
    "{\n",
    "}\n",
    "finally\n",
    "{\n",
    "    if (reader != null)\n",
    "        ((IDisposable)reader).Dispose();\n",
    "}"
   ]
  },
  {
   "cell_type": "markdown",
   "metadata": {},
   "source": [
    "### Throwing Exceptions"
   ]
  },
  {
   "cell_type": "code",
   "execution_count": null,
   "metadata": {
    "dotnet_interactive": {
     "language": "csharp"
    },
    "polyglot_notebook": {
     "kernelName": "csharp"
    },
    "vscode": {
     "languageId": "polyglot-notebook"
    }
   },
   "outputs": [],
   "source": [
    "void Display (string name)\n",
    "{\n",
    "    if (name == null)\n",
    "        throw new ArgumentNullException (nameof (name));\n",
    "    Console.WriteLine (name);\n",
    "}\n",
    "\n",
    "try { Display (null); }\n",
    "catch (ArgumentNullException ex)\n",
    "{\n",
    "    Console.WriteLine (\"Caught the exception\");\n",
    "}"
   ]
  },
  {
   "cell_type": "code",
   "execution_count": null,
   "metadata": {
    "dotnet_interactive": {
     "language": "csharp"
    },
    "polyglot_notebook": {
     "kernelName": "csharp"
    },
    "vscode": {
     "languageId": "polyglot-notebook"
    }
   },
   "outputs": [],
   "source": [
    "//in .net6 we can write Display method such as below ↓↓↓\n",
    "void Display (string name)\n",
    "{\n",
    "    ArgumentNullException.ThrowIfNull (name);\n",
    "    Console.WriteLine (name);\n",
    "}"
   ]
  },
  {
   "cell_type": "markdown",
   "metadata": {},
   "source": [
    "### throw expressions"
   ]
  },
  {
   "cell_type": "code",
   "execution_count": null,
   "metadata": {
    "dotnet_interactive": {
     "language": "csharp"
    },
    "polyglot_notebook": {
     "kernelName": "csharp"
    },
    "vscode": {
     "languageId": "polyglot-notebook"
    }
   },
   "outputs": [],
   "source": [
    "public string Foo() => throw new NotImplementedException();\n",
    "\n",
    "string ProperCase (string value) =>\n",
    "    value == null ? throw new ArgumentException (\"value\") :\n",
    "    value == \"\" ? \"\" :\n",
    "    char.ToUpper (value[0]) + value.Substring (1);"
   ]
  },
  {
   "cell_type": "markdown",
   "metadata": {},
   "source": [
    "### Rethrowing an exception"
   ]
  },
  {
   "cell_type": "code",
   "execution_count": null,
   "metadata": {
    "dotnet_interactive": {
     "language": "csharp"
    },
    "polyglot_notebook": {
     "kernelName": "csharp"
    },
    "vscode": {
     "languageId": "polyglot-notebook"
    }
   },
   "outputs": [],
   "source": [
    "try {  }\n",
    "catch (Exception ex)\n",
    "{\n",
    "    // Log error\n",
    "    //some code\n",
    "    throw; // Rethrow same exception, this rethrow original exception\n",
    "}"
   ]
  },
  {
   "cell_type": "code",
   "execution_count": null,
   "metadata": {
    "dotnet_interactive": {
     "language": "csharp"
    },
    "polyglot_notebook": {
     "kernelName": "csharp"
    },
    "vscode": {
     "languageId": "polyglot-notebook"
    }
   },
   "outputs": [],
   "source": [
    "try {  }\n",
    "catch (Exception ex)\n",
    "{\n",
    "    // Log error\n",
    "    //some code\n",
    "    throw ex; \n",
    "    /*\n",
    "    in this case, the StackTrace property of the newly propagated\n",
    "    exception would no longer reflect the original error.\n",
    "    */\n",
    "}"
   ]
  },
  {
   "cell_type": "code",
   "execution_count": null,
   "metadata": {
    "dotnet_interactive": {
     "language": "csharp"
    },
    "polyglot_notebook": {
     "kernelName": "csharp"
    },
    "vscode": {
     "languageId": "polyglot-notebook"
    }
   },
   "outputs": [],
   "source": [
    "//The other common scenario is to rethrow a more specific exception type\n",
    "using System.Xml;\n",
    "\n",
    "try\n",
    "{\n",
    "    // Parse a DateTime from XML element data\n",
    "}\n",
    "catch (FormatException ex)\n",
    "{\n",
    "    throw new XmlException (\n",
    "    \"Invalid DateTime\", \n",
    "    ex/*this is original exception\n",
    "    This argument populates the InnerException\n",
    "    property of the new exception and aids debugging.*/);\n",
    "}"
   ]
  },
  {
   "cell_type": "markdown",
   "metadata": {},
   "source": [
    "### Key Properties of System.Exception"
   ]
  },
  {
   "cell_type": "markdown",
   "metadata": {},
   "source": [
    "> ***StackTrace***  \n",
    "> A string representing `all the methods` that are `called` `from the origin` of the\n",
    "exception to the catch block."
   ]
  },
  {
   "cell_type": "markdown",
   "metadata": {},
   "source": [
    "> ***Message***  \n",
    "> A string with a description of the error."
   ]
  },
  {
   "cell_type": "markdown",
   "metadata": {},
   "source": [
    "> ***InnerException***  \n",
    "> inner exception that cused the current exception. This, itself, can have another InnerException.  \n",
    "\n",
    "> suppose, we want read a file and file dosnt exeist. so we throw an AccessDenyException white FileDosentExistException for InnerException"
   ]
  },
  {
   "cell_type": "markdown",
   "metadata": {},
   "source": [
    "### Common Exception Types"
   ]
  },
  {
   "cell_type": "markdown",
   "metadata": {},
   "source": [
    "System.ArgumentException  \n",
    "System.ArgumentNullException  \n",
    "System.ArgumentOutOfRangeException  \n",
    "System.InvalidOperationException  \n",
    "System.NotSupportedException  \n",
    "System.NotImplementedException  \n",
    "System.ObjectDisposedException  "
   ]
  },
  {
   "cell_type": "markdown",
   "metadata": {},
   "source": [
    "### The TryXXX Method Pattern"
   ]
  },
  {
   "cell_type": "code",
   "execution_count": null,
   "metadata": {
    "dotnet_interactive": {
     "language": "csharp"
    },
    "polyglot_notebook": {
     "kernelName": "csharp"
    },
    "vscode": {
     "languageId": "polyglot-notebook"
    }
   },
   "outputs": [],
   "source": [
    "public int Parse (string input); // throw exception \n",
    "public bool TryParse (string input, out int returnValue); // return false;"
   ]
  },
  {
   "cell_type": "markdown",
   "metadata": {},
   "source": [
    "You can implement this pattern by having the XXX method call the TryXXX method  \n",
    "\n",
    "```\n",
    "public return-type XXX (input-type input)\n",
    "{\n",
    "    return-type returnValue;\n",
    "    if (!TryXXX (input, out returnValue))\n",
    "        throw new YYYException (...)\n",
    "    return returnValue;\n",
    "}\n",
    "```"
   ]
  },
  {
   "cell_type": "markdown",
   "metadata": {},
   "source": [
    "### Alternatives to Exceptions"
   ]
  },
  {
   "cell_type": "markdown",
   "metadata": {},
   "source": [
    "<div dir=\"rtl\" style=\"width:90%; margin:auto;\">\n",
    "\n",
    "<p>یکی از روش‌های جایگزین استفاده از استثنائات، برگرداندن کد خطا از طریق نوع بازگشتی تابع یا پارامتر است. این روش در زبان‌های برنامه‌نویسی مانند C و C++ بسیار رایج است و می‌تواند برای خطاهای ساده و قابل پیش‌بینی کارآمد باشد. به عنوان مثال، تابع <code>int.TryParse</code> در #C موفقیت یا شکست تبدیل رشته به عدد را از طریق یک مقدار بولیانی که نشان‌دهنده‌ی موفقیت است و مقدار خروجی که نتیجه‌ی تبدیل است، برمی‌گرداند.</p>\n",
    "</div>"
   ]
  }
 ],
 "metadata": {
  "language_info": {
   "name": "python"
  }
 },
 "nbformat": 4,
 "nbformat_minor": 2
}
