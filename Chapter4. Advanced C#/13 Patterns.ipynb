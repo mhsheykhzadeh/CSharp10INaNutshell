{
 "cells": [
  {
   "cell_type": "code",
   "execution_count": null,
   "metadata": {
    "dotnet_interactive": {
     "language": "csharp"
    },
    "polyglot_notebook": {
     "kernelName": "csharp"
    },
    "vscode": {
     "languageId": "polyglot-notebook"
    }
   },
   "outputs": [],
   "source": [
    "public abstract class Result\n",
    "{\n",
    "\n",
    "}\n",
    "\n",
    "public class IntegerResult : Result\n",
    "{\n",
    "    public int Value {get;set;}\n",
    "}\n",
    "\n",
    "public class BetweenIntegerResult : Result\n",
    "{\n",
    "    public int From {get;set;}\n",
    "    public int To {get;set;}\n",
    "}\n",
    "public class ListIntegerResult : Result\n",
    "{\n",
    "    public List<int> Ids {get;set;}\n",
    "}\n",
    "\n",
    "public enum Operator\n",
    "{\n",
    "    Power,\n",
    "    Multiple,\n",
    "    Sum\n",
    "}\n",
    "\n",
    "public interface IOperatorStrategy\n",
    "{\n",
    "    Result Process(string operatorValue);\n",
    "}\n",
    "\n",
    "public class IntegerProcessor : IOperatorStrategy\n",
    "{\n",
    "    public Result Process(string operatorValue)\n",
    "    {\n",
    "         int.TryParse(operatorValue, out int intValue);\n",
    "\n",
    "         return new IntegerResult(){Value = intValue};\n",
    "    }\n",
    "}\n",
    "\n",
    "public class BetweenIntegerProcessor : IOperatorStrategy\n",
    "{\n",
    "    public Result Process(string operatorValue)\n",
    "    {\n",
    "         string[] parts = operatorValue.Split(',');\n",
    "\n",
    "         return new BetweenIntegerResult\n",
    "        {\n",
    "            From = int.Parse(parts[0]),\n",
    "            To = int.Parse(parts[1])\n",
    "        };\n",
    "    }\n",
    "}\n",
    "\n",
    "public class ListIntegerProcessor : IOperatorStrategy\n",
    "{\n",
    "    public Result Process(string operatorValue)\n",
    "    {\n",
    "         return new ListIntegerResult\n",
    "        {\n",
    "            Ids = operatorValue.Split(',')\n",
    "                               .Select(int.Parse)\n",
    "                               .ToList()\n",
    "        };\n",
    "    }\n",
    "}\n",
    "\n",
    "public class ProcessorFactory\n",
    "{\n",
    "    public static IOperatorStrategy Create(Operator @operator)\n",
    "    {\n",
    "        return @operator switch\n",
    "        {\n",
    "            Operator.Power => new IntegerProcessor(),\n",
    "            Operator.Multiple => new BetweenIntegerProcessor(),\n",
    "            Operator.Sum => new ListIntegerProcessor(),\n",
    "            _ => throw new NotImplementedException($\"OperatorType {@operator} is not implemented\")\n",
    "        };\n",
    "    }\n",
    "}\n",
    "\n",
    "\n",
    "public void Pattern(Operator @operator, string operatorValue)\n",
    "{\n",
    "    IOperatorStrategy strategy = ProcessorFactory.Create(@operator);\n",
    "\n",
    "    Result result = strategy.Process(operatorValue); \n",
    "\n",
    "    if(result is IntegerResult intResult)\n",
    "    {\n",
    "        Console.WriteLine(intResult.Value);\n",
    "    }\n",
    "\n",
    "    if(result is BetweenIntegerResult betweenResult)\n",
    "    {\n",
    "        Console.WriteLine(betweenResult.From +\" \"+ betweenResult.To);\n",
    "    }\n",
    "\n",
    "    if(result is ListIntegerResult listResult)\n",
    "    {\n",
    "        foreach(var id in listResult.Ids)\n",
    "            Console.WriteLine(id);\n",
    "    }\n",
    "}\n",
    "\n",
    "//this way of pattern is 'Type Pattern'\n",
    "\n",
    "public void PatternSwitch(Operator @operator, string operatorValue)\n",
    "{\n",
    "    IOperatorStrategy strategy = ProcessorFactory.Create(@operator);\n",
    "\n",
    "    Result result = strategy.Process(operatorValue); \n",
    "\n",
    "    switch(result)\n",
    "    {\n",
    "        case IntegerResult intResult :\n",
    "             Console.WriteLine(intResult.Value);\n",
    "             break;\n",
    "        case BetweenIntegerResult betweenResult :\n",
    "             Console.WriteLine(betweenResult.From +\" \"+ betweenResult.To);\n",
    "             break;\n",
    "        default:\n",
    "            break;\n",
    "    }\n",
    "}"
   ]
  },
  {
   "cell_type": "markdown",
   "metadata": {},
   "source": [
    "### var Pattern"
   ]
  },
  {
   "cell_type": "code",
   "execution_count": null,
   "metadata": {
    "dotnet_interactive": {
     "language": "csharp"
    },
    "polyglot_notebook": {
     "kernelName": "csharp"
    },
    "vscode": {
     "languageId": "polyglot-notebook"
    }
   },
   "outputs": [],
   "source": [
    "bool IsJanetOrJohn (string name) \n",
    "{\n",
    "    return  name.ToUpper() is var upper \n",
    "            && (upper == \"JANET\" || upper == \"JOHN\");\n",
    "}\n",
    "//This is equivalent to:"
   ]
  },
  {
   "cell_type": "code",
   "execution_count": null,
   "metadata": {
    "dotnet_interactive": {
     "language": "csharp"
    },
    "polyglot_notebook": {
     "kernelName": "csharp"
    },
    "vscode": {
     "languageId": "polyglot-notebook"
    }
   },
   "outputs": [],
   "source": [
    "bool IsJanetOrJohn (string name)\n",
    "{\n",
    "    string upper = name.ToUpper();\n",
    "    return upper == \"JANET\" || upper == \"JOHN\";\n",
    "}"
   ]
  },
  {
   "cell_type": "markdown",
   "metadata": {},
   "source": [
    "### Constant Pattern  \n",
    "The ***constant pattern*** lets you match directly to a constant, and is useful when\n",
    "working with the `object` type"
   ]
  },
  {
   "cell_type": "code",
   "execution_count": null,
   "metadata": {
    "dotnet_interactive": {
     "language": "csharp"
    },
    "polyglot_notebook": {
     "kernelName": "csharp"
    },
    "vscode": {
     "languageId": "polyglot-notebook"
    }
   },
   "outputs": [],
   "source": [
    "void Foo (object obj)\n",
    "{\n",
    "    if (obj is 3) {}\n",
    "}\n",
    "//This expression in boldface is equivalent to the following:"
   ]
  },
  {
   "cell_type": "code",
   "execution_count": null,
   "metadata": {
    "dotnet_interactive": {
     "language": "csharp"
    },
    "polyglot_notebook": {
     "kernelName": "csharp"
    },
    "vscode": {
     "languageId": "polyglot-notebook"
    }
   },
   "outputs": [],
   "source": [
    "void Foo (object obj)\n",
    "{\n",
    "    if (obj is int && (int)obj == 3) {}\n",
    "}"
   ]
  },
  {
   "cell_type": "markdown",
   "metadata": {},
   "source": [
    "### Relational Patterns"
   ]
  },
  {
   "cell_type": "code",
   "execution_count": null,
   "metadata": {
    "dotnet_interactive": {
     "language": "csharp"
    },
    "polyglot_notebook": {
     "kernelName": "csharp"
    },
    "vscode": {
     "languageId": "polyglot-notebook"
    }
   },
   "outputs": [],
   "source": [
    "public void RelationIfPattern(int x)\n",
    "{\n",
    "    if (x is > 100) \n",
    "        Console.WriteLine (\"x is greater than 100\");\n",
    "}\n",
    "\n",
    "public string RelationSwitchPattern(decimal bmi)\n",
    "{\n",
    "    return bmi switch\n",
    "    {\n",
    "        < 18.5m => \"underweight\",\n",
    "        < 25m => \"normal\",\n",
    "        < 30m => \"overweight\",\n",
    "        _ => \"obese\"\n",
    "    };\n",
    "}"
   ]
  },
  {
   "cell_type": "markdown",
   "metadata": {},
   "source": [
    "### Pattern Combinators"
   ]
  },
  {
   "cell_type": "code",
   "execution_count": null,
   "metadata": {
    "dotnet_interactive": {
     "language": "csharp"
    },
    "polyglot_notebook": {
     "kernelName": "csharp"
    },
    "vscode": {
     "languageId": "polyglot-notebook"
    }
   },
   "outputs": [],
   "source": [
    "bool PrevIsJanetOrJohn (string name) \n",
    "{\n",
    "    return  name.ToUpper() is var upper \n",
    "            && (upper == \"JANET\" || upper == \"JOHN\");\n",
    "}\n",
    "\n",
    "bool IsJanetOrJohn (string name) \n",
    "{\n",
    "    return  name.ToUpper() is \"JANET\" or \"JOHN\";\n",
    "}\n",
    "\n",
    "bool IsVowel (char c) => c is 'a' or 'e' or 'i' or 'o' or 'u';\n",
    "\n",
    "bool Between1And9 (int n) => n is >= 1 and <= 9;\n",
    "\n",
    "bool IsLetter (char c) => c is >= 'a' and <= 'z'\n",
    "                            or >= 'A' and <= 'Z';\n"
   ]
  },
  {
   "cell_type": "markdown",
   "metadata": {},
   "source": [
    "### Tuple and Positional Patterns"
   ]
  },
  {
   "cell_type": "code",
   "execution_count": null,
   "metadata": {
    "dotnet_interactive": {
     "language": "csharp"
    },
    "polyglot_notebook": {
     "kernelName": "csharp"
    },
    "vscode": {
     "languageId": "polyglot-notebook"
    }
   },
   "outputs": [],
   "source": [
    "var p = (2, 3);\n",
    "Console.WriteLine (p is (2, 3)); //true\n",
    "\n",
    "enum Season { Spring, Summer, Fall, Winter };\n",
    "\n",
    "int AverageCelsiusTemperature (Season season, bool daytime) =>\n",
    "    (season, daytime) switch\n",
    "    {\n",
    "        (Season.Spring, true) => 20,\n",
    "        (Season.Spring, false) => 16,\n",
    "        (Season.Summer, true) => 27,\n",
    "        (Season.Summer, false) => 22,\n",
    "        (Season.Fall, true) => 18,\n",
    "        (Season.Fall, false) => 12,\n",
    "        (Season.Winter, true) => 10,\n",
    "        (Season.Winter, false) => -2,\n",
    "        _ => throw new Exception (\"Unexpected combination\")\n",
    "    };\n"
   ]
  },
  {
   "cell_type": "markdown",
   "metadata": {},
   "source": [
    "***positional pattern*** matches with `any type` that exposes a `Deconstruct` method"
   ]
  },
  {
   "cell_type": "code",
   "execution_count": null,
   "metadata": {
    "dotnet_interactive": {
     "language": "csharp"
    },
    "polyglot_notebook": {
     "kernelName": "csharp"
    },
    "vscode": {
     "languageId": "polyglot-notebook"
    }
   },
   "outputs": [],
   "source": [
    "record Point (int X, int Y);\n",
    "\n",
    "var p = new Point (2, 2);\n",
    "Console.WriteLine (p is (2, 2)); // True\n",
    "\n",
    "Console.WriteLine (p is (var x, var y) && x == y); // True\n",
    "\n",
    "\n",
    "string Print (object obj) => obj switch\n",
    "{\n",
    "    Point (0, 0) => \"Empty point\",\n",
    "    Point (var x, var y) when x == y => \"Diagonal\", \n",
    "    _ => \"else\"\n",
    "};"
   ]
  },
  {
   "cell_type": "markdown",
   "metadata": {},
   "source": [
    "### property pattern"
   ]
  },
  {
   "cell_type": "code",
   "execution_count": null,
   "metadata": {
    "dotnet_interactive": {
     "language": "csharp"
    },
    "polyglot_notebook": {
     "kernelName": "csharp"
    },
    "vscode": {
     "languageId": "polyglot-notebook"
    }
   },
   "outputs": [],
   "source": [
    "//property pattern\n",
    "\n",
    "public abstract class Result\n",
    "{\n",
    "\n",
    "}\n",
    "\n",
    "public class IntegerResult : Result\n",
    "{\n",
    "    public int Value {get;set;}\n",
    "}\n",
    "\n",
    "var result = new IntegerResult(){Value = 5};\n",
    "\n",
    "if(result is IntegerResult { Value : 8 } intResult)\n",
    "{\n",
    "    Console.WriteLine(intResult.Value);\n",
    "}\n",
    "\n",
    "\n",
    "bool ShouldAllow (Uri uri) => uri switch\n",
    "{\n",
    "    { Scheme: \"http\", Port: 80 } => true,\n",
    "    { Scheme: \"https\", Port: 443 } => true,\n",
    "    { Scheme: \"ftp\", Port: 21 } => true,\n",
    "    { IsLoopback: true } => true,\n",
    "\n",
    "    //nested property \n",
    "    { Scheme: { Length: 4 }, Port: 80 } => true,\n",
    "\n",
    "    //from c#10 can be simplified\n",
    "    //{ Scheme.Length: 4, Port: 80 } => true,\n",
    "\n",
    "    //You can use other patterns inside property patterns, \n",
    "    //including the relational pattern:\n",
    "    { Host: { Length: < 1000 }, Port: > 0 } => true,\n",
    "\n",
    "    //More elaborate conditions can be expressed with a when clause:\n",
    "    { Scheme: \"http\" } when string.IsNullOrWhiteSpace (uri.Query) => true,\n",
    "\n",
    "    // first check properties then use them\n",
    "    Uri{ Scheme: \"http\", Port: 88 } httpUri => httpUri.Host ==\"niazerooz.com\",\n",
    "\n",
    "    _ => false\n",
    "};\n",
    "\n",
    "bool ShouldAllow1 (Uri uri) => uri switch\n",
    "{\n",
    "    { Scheme: \"http\", Port: 80, Host: var host } => host.Length < 1000,\n",
    "    { Scheme: \"https\", Port: 443 } => true,\n",
    "    { Scheme: \"ftp\", Port: 21 } => true,\n",
    "    { IsLoopback: true } => true,\n",
    "    _ => false\n",
    "};"
   ]
  }
 ],
 "metadata": {
  "kernelspec": {
   "display_name": ".NET (C#)",
   "language": "C#",
   "name": ".net-csharp"
  },
  "language_info": {
   "name": "python"
  },
  "polyglot_notebook": {
   "kernelInfo": {
    "defaultKernelName": "csharp",
    "items": [
     {
      "aliases": [],
      "name": "csharp"
     }
    ]
   }
  }
 },
 "nbformat": 4,
 "nbformat_minor": 2
}
