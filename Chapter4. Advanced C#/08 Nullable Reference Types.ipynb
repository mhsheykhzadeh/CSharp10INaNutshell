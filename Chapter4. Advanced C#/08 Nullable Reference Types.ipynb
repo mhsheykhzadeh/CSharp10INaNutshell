{
 "cells": [
  {
   "cell_type": "markdown",
   "metadata": {},
   "source": [
    "<div dir=\"rtl\" style=\"width:80%; margin:auto;\">\n",
    "\n",
    "<p>قبل از C# 8، تمام انواع مرجع (مثل string و object) به طور خودکار می‌توانستند مقادیر null را بپذیرند، که منجر به خطاهایی مثل NullReferenceException می‌شد اگر به طور نادرست مدیریت شوند. از C# 8 به بعد، ویژگی جدیدی به نام \"nullable reference types\" معرفی شده است. این ویژگی به توسعه‌دهندگان اجازه می‌دهد که به صراحت تعیین کنند که آیا یک نوع مرجع می‌تواند null باشد یا خیر. این با استفاده از علامت‌های \"?\" و \"!\" انجام می‌شود.</p>\n",
    "\n",
    "<p>با فعال‌سازی nullable reference types، کامپایلر سعی می‌کند ایمنی بیشتری را فراهم کند و از خطاهای زمان اجرا مانند NullReferenceException جلوگیری کند. کامپایلر این کار را با نمایش هشدارهایی انجام می‌دهد هر زمان که کدی را تشخیص دهد که ممکن است منجر به این نوع خطا شود. این امر به توسعه‌دهندگان کمک می‌کند تا کد امن‌تری بنویسند و از مشکلات مرتبط با مقادیر null جلوگیری کنند.</p>\n",
    "</div>"
   ]
  },
  {
   "cell_type": "code",
   "execution_count": null,
   "metadata": {
    "dotnet_interactive": {
     "language": "html"
    },
    "polyglot_notebook": {
     "kernelName": "html"
    },
    "vscode": {
     "languageId": "polyglot-notebook"
    }
   },
   "outputs": [],
   "source": [
    "<PropertyGroup>\n",
    "    <Nullable>enable</Nullable>\n",
    "</PropertyGroup>"
   ]
  },
  {
   "cell_type": "code",
   "execution_count": null,
   "metadata": {
    "dotnet_interactive": {
     "language": "csharp"
    },
    "polyglot_notebook": {
     "kernelName": "csharp"
    },
    "vscode": {
     "languageId": "polyglot-notebook"
    }
   },
   "outputs": [],
   "source": [
    "#nullable enable // enables nullable reference types from this point on\n",
    "#nullable disable // disables nullable reference types from this point on\n",
    "#nullable restore // resets nullable reference types to project setting"
   ]
  },
  {
   "cell_type": "code",
   "execution_count": 1,
   "metadata": {
    "dotnet_interactive": {
     "language": "csharp"
    },
    "polyglot_notebook": {
     "kernelName": "csharp"
    },
    "vscode": {
     "languageId": "polyglot-notebook"
    }
   },
   "outputs": [],
   "source": [
    "#nullable enable // Enable nullable reference types\n",
    "\n",
    "string s1 = null; // Generates a compiler warning!\n",
    "string? s2 = null; // OK: s2 is nullable reference type"
   ]
  },
  {
   "cell_type": "markdown",
   "metadata": {},
   "source": [
    "Because ***nullable reference types*** are `compile-time` constructs,\n",
    "there’s no runtime `difference` between `string` and `string?`."
   ]
  },
  {
   "cell_type": "code",
   "execution_count": 2,
   "metadata": {
    "dotnet_interactive": {
     "language": "csharp"
    },
    "polyglot_notebook": {
     "kernelName": "csharp"
    },
    "vscode": {
     "languageId": "polyglot-notebook"
    }
   },
   "outputs": [],
   "source": [
    "#nullable enable // Enable nullable reference types\n",
    "\n",
    "class Foo { string x= string.Empty; }\n",
    "\n",
    "void Fooo (string? s) => Console.Write (s.Length);"
   ]
  },
  {
   "cell_type": "code",
   "execution_count": null,
   "metadata": {
    "dotnet_interactive": {
     "language": "csharp"
    },
    "polyglot_notebook": {
     "kernelName": "csharp"
    },
    "vscode": {
     "languageId": "polyglot-notebook"
    }
   },
   "outputs": [],
   "source": [
    "#nullable enable // Enable nullable reference types\n",
    "\n",
    "void Fooo (string? s) => Console.Write (s!.Length);"
   ]
  },
  {
   "cell_type": "code",
   "execution_count": null,
   "metadata": {
    "dotnet_interactive": {
     "language": "csharp"
    },
    "polyglot_notebook": {
     "kernelName": "csharp"
    },
    "vscode": {
     "languageId": "polyglot-notebook"
    }
   },
   "outputs": [],
   "source": [
    "#nullable enable // Enable nullable reference types\n",
    "\n",
    "void Foo (string? s)\n",
    "{\n",
    "    if (s != null) Console.Write (s.Length);\n",
    "    //compiler performs static flow analysis\n",
    "}"
   ]
  },
  {
   "cell_type": "markdown",
   "metadata": {},
   "source": [
    "### Separating the Annotation and Warning Contexts"
   ]
  },
  {
   "cell_type": "markdown",
   "metadata": {},
   "source": [
    "Enabling nullable reference types does two things:  \n",
    "- It enables the ***nullable a nnotation context***, which tells the compiler to treat all reference-type variable `declarations as non-nullable` unless suffixed by the `?` symbol.\n",
    "- It enables the ***nullable warning context***, which tells the compiler to generate warnings upon encountering code at `risk` of throwing a `NullReferenceException`."
   ]
  },
  {
   "cell_type": "code",
   "execution_count": null,
   "metadata": {
    "dotnet_interactive": {
     "language": "csharp"
    },
    "polyglot_notebook": {
     "kernelName": "csharp"
    },
    "vscode": {
     "languageId": "polyglot-notebook"
    }
   },
   "outputs": [],
   "source": [
    "#nullable enable annotations // Enable the annotation context\n",
    "// OR:\n",
    "#nullable enable warnings // Enable the warning context"
   ]
  },
  {
   "cell_type": "code",
   "execution_count": null,
   "metadata": {
    "dotnet_interactive": {
     "language": "html"
    },
    "polyglot_notebook": {
     "kernelName": "html"
    },
    "vscode": {
     "languageId": "polyglot-notebook"
    }
   },
   "outputs": [],
   "source": [
    "<Nullable>annotations</Nullable>\n",
    "<!-- OR -->\n",
    "<Nullable>warnings</Nullable>"
   ]
  },
  {
   "cell_type": "markdown",
   "metadata": {},
   "source": [
    "### Treating Nullable Warnings as Errors"
   ]
  },
  {
   "cell_type": "code",
   "execution_count": null,
   "metadata": {
    "dotnet_interactive": {
     "language": "html"
    },
    "polyglot_notebook": {
     "kernelName": "html"
    },
    "vscode": {
     "languageId": "polyglot-notebook"
    }
   },
   "outputs": [],
   "source": [
    "<PropertyGroup>\n",
    "    <Nullable>enable</Nullable>\n",
    "    <WarningsAsErrors>CS8600;CS8602;CS8603</WarningsAsErrors>\n",
    "</PropertyGroup>"
   ]
  }
 ],
 "metadata": {
  "kernelspec": {
   "display_name": ".NET (C#)",
   "language": "C#",
   "name": ".net-csharp"
  },
  "language_info": {
   "name": "python"
  },
  "polyglot_notebook": {
   "kernelInfo": {
    "defaultKernelName": "csharp",
    "items": [
     {
      "aliases": [],
      "name": "csharp"
     }
    ]
   }
  }
 },
 "nbformat": 4,
 "nbformat_minor": 2
}
