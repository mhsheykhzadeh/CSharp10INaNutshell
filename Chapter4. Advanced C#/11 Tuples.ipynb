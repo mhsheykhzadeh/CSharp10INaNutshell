{
 "cells": [
  {
   "cell_type": "markdown",
   "metadata": {},
   "source": [
    "Like *anonymous types*, ***tuples*** provide a simple way to `store a set of values`."
   ]
  },
  {
   "cell_type": "markdown",
   "metadata": {},
   "source": [
    "The **main purpose** of ***tuples*** is to `safely` **return multiple values** from a method without resorting to `out` parameters (something you cannot do with anonymous types)."
   ]
  },
  {
   "cell_type": "code",
   "execution_count": 1,
   "metadata": {
    "dotnet_interactive": {
     "language": "csharp"
    },
    "polyglot_notebook": {
     "kernelName": "csharp"
    },
    "vscode": {
     "languageId": "polyglot-notebook"
    }
   },
   "outputs": [
    {
     "name": "stdout",
     "output_type": "stream",
     "text": [
      "System.ValueTuple`2[System.String,System.Int32]\n",
      "Bob\n",
      "23\n"
     ]
    }
   ],
   "source": [
    "/*\n",
    "The simplest way to create a tuple literal is to list the desired values \n",
    "in parentheses. This creates a tuple with unnamed elements, \n",
    "which you refer to as Item1, Item2, and so on\n",
    "*/\n",
    "\n",
    "var bob = (\"Bob\", 23); // Allow compiler to infer the element types\n",
    "Console.WriteLine(bob.GetType());\n",
    "Console.WriteLine (bob.Item1); // Bob\n",
    "Console.WriteLine (bob.Item2); // 23\n",
    "\n"
   ]
  },
  {
   "cell_type": "markdown",
   "metadata": {},
   "source": [
    "***Tuples*** are `value types`, with `mutable` (read/write) elements"
   ]
  },
  {
   "cell_type": "code",
   "execution_count": null,
   "metadata": {
    "dotnet_interactive": {
     "language": "csharp"
    },
    "polyglot_notebook": {
     "kernelName": "csharp"
    },
    "vscode": {
     "languageId": "polyglot-notebook"
    }
   },
   "outputs": [],
   "source": [
    "var bob = (\"Bob\", 23);\n",
    "var joe = bob; // joe is a *copy* of bob\n",
    "joe.Item1 = \"Joe\"; // Change joe’s Item1 from Bob to Joe\n",
    "Console.WriteLine (bob); // (Bob, 23)\n",
    "Console.WriteLine (joe); // (Joe, 23)"
   ]
  },
  {
   "cell_type": "code",
   "execution_count": null,
   "metadata": {
    "dotnet_interactive": {
     "language": "csharp"
    },
    "polyglot_notebook": {
     "kernelName": "csharp"
    },
    "vscode": {
     "languageId": "polyglot-notebook"
    }
   },
   "outputs": [],
   "source": [
    "/*Unlike with anonymous types, \n",
    "you can specify a tuple type explicitly. \n",
    "Just list each of the element types in parentheses:*/\n",
    "\n",
    "(string,int) bob = (\"Bob\", 23);\n",
    "\n",
    "(string,int) GetPerson() => (\"Bob\", 23);\n",
    "\n",
    "(string,int) person = GetPerson(); // Could use 'var' instead if we want\n",
    "Console.WriteLine (person.Item1); // Bob\n",
    "Console.WriteLine (person.Item2); // 23"
   ]
  },
  {
   "cell_type": "markdown",
   "metadata": {},
   "source": [
    "***Tuples*** play well with `generics`, so the following types are all legal:\n",
    "\n",
    "- `Task<(string,int)>`\n",
    "- `Dictionary<(string,int),Uri>`\n",
    "- `IEnumerable<(int id, string name)>`"
   ]
  },
  {
   "cell_type": "markdown",
   "metadata": {},
   "source": [
    "### Naming Tuple Elements"
   ]
  },
  {
   "cell_type": "code",
   "execution_count": null,
   "metadata": {
    "dotnet_interactive": {
     "language": "csharp"
    },
    "polyglot_notebook": {
     "kernelName": "csharp"
    },
    "vscode": {
     "languageId": "polyglot-notebook"
    }
   },
   "outputs": [],
   "source": [
    "var tuple = (name:\"Bob\", age:23);\n",
    "\n",
    "Console.WriteLine (tuple.name); // Bob\n",
    "Console.WriteLine (tuple.age); // 23\n",
    "\n",
    "//You can do the same when specifying tuple types\n",
    "\n",
    "(string name, int age) GetPerson() => (\"Bob\", 23);\n",
    "\n",
    "var person = GetPerson();\n",
    "Console.WriteLine (person.name); // Bob\n",
    "Console.WriteLine (person.age); // 23\n",
    "\n",
    "Console.WriteLine(person.Item1);\n",
    "\n",
    "//that you can still treat the elements as unnamed and refer to them as Item1, Item2, etc."
   ]
  },
  {
   "cell_type": "code",
   "execution_count": null,
   "metadata": {
    "dotnet_interactive": {
     "language": "csharp"
    },
    "polyglot_notebook": {
     "kernelName": "csharp"
    },
    "vscode": {
     "languageId": "polyglot-notebook"
    }
   },
   "outputs": [],
   "source": [
    "//Element names are automatically inferred from property or field names:\n",
    "var now = DateTime.Now;\n",
    "var tuple = (now.Day, now.Month, now.Year);\n",
    "Console.WriteLine (tuple.Day); // OK"
   ]
  },
  {
   "cell_type": "code",
   "execution_count": null,
   "metadata": {
    "dotnet_interactive": {
     "language": "csharp"
    },
    "polyglot_notebook": {
     "kernelName": "csharp"
    },
    "vscode": {
     "languageId": "polyglot-notebook"
    }
   },
   "outputs": [],
   "source": [
    "//Tuples are type compatible with one another if their element types match up\n",
    "(string name, int age, char sex) bob1 = (\"Bob\", 23, 'M');\n",
    "(string age, int sex, char name) bob2 = bob1; // No error!\n",
    "\n",
    "Console.WriteLine (bob2.name); // M\n",
    "Console.WriteLine (bob2.age); // Bob\n",
    "Console.WriteLine (bob2.sex); // 23"
   ]
  },
  {
   "cell_type": "markdown",
   "metadata": {},
   "source": [
    "#### Type erasure"
   ]
  },
  {
   "cell_type": "markdown",
   "metadata": {},
   "source": [
    "compiler convert tuples to these generic struct:  \n",
    "- `public struct ValueTuple<T1>`\n",
    "- `public struct ValueTuple<T1,T2>`\n",
    "- `public struct ValueTuple<T1,T2,T3>`\n",
    "- `...`\n",
    "\n",
    "Each of the `ValueTuple<>` structs has fields named `Item1`, `Item2`, and so on.  \n",
    "\n",
    "`(string,int)` is an alias for `ValueTuple<string,int>`,"
   ]
  },
  {
   "cell_type": "markdown",
   "metadata": {},
   "source": [
    "the ***names*** exist only in the `source code`, At `runtime`, the names mostly `disappear`  \n",
    "in a ***debugger*** the element `names` **are not there**"
   ]
  },
  {
   "cell_type": "markdown",
   "metadata": {},
   "source": [
    "### ValueTuple.Create"
   ]
  },
  {
   "cell_type": "code",
   "execution_count": null,
   "metadata": {
    "dotnet_interactive": {
     "language": "csharp"
    },
    "polyglot_notebook": {
     "kernelName": "csharp"
    },
    "vscode": {
     "languageId": "polyglot-notebook"
    }
   },
   "outputs": [],
   "source": [
    "//You can also create tuples via a factory method on the (nongeneric) ValueTuple type:\n",
    "\n",
    "ValueTuple<string,int>  bob1 = ValueTuple.Create (\"Bob\", 23);\n",
    "(string,int)            bob2 = ValueTuple.Create (\"Bob\", 23);\n",
    "(string name, int age)  bob3 = ValueTuple.Create (\"Bob\", 23);"
   ]
  },
  {
   "cell_type": "markdown",
   "metadata": {},
   "source": [
    "### Deconstructing Tuples"
   ]
  },
  {
   "cell_type": "markdown",
   "metadata": {},
   "source": [
    "***Tuples*** implicitly support the `deconstruction pattern`, so you can easily `deconstruct` a `tuple` into individual variables."
   ]
  },
  {
   "cell_type": "code",
   "execution_count": null,
   "metadata": {
    "dotnet_interactive": {
     "language": "csharp"
    },
    "polyglot_notebook": {
     "kernelName": "csharp"
    },
    "vscode": {
     "languageId": "polyglot-notebook"
    }
   },
   "outputs": [],
   "source": [
    "var bob = (\"Bob\", 23);\n",
    "(string name, int age) = bob;   // Deconstruct the bob tuple into\n",
    "                                // separate variables (name and age)."
   ]
  },
  {
   "cell_type": "code",
   "execution_count": null,
   "metadata": {
    "dotnet_interactive": {
     "language": "csharp"
    },
    "polyglot_notebook": {
     "kernelName": "csharp"
    },
    "vscode": {
     "languageId": "polyglot-notebook"
    }
   },
   "outputs": [],
   "source": [
    "(string, int, char) GetBob() => ( \"Bob\", 23, 'M');\n",
    "var (name, age, sex) = GetBob(); //Deconstruct\n",
    "Console.WriteLine (name); // Bob\n",
    "Console.WriteLine (age); // 23\n",
    "Console.WriteLine (sex); // M"
   ]
  },
  {
   "cell_type": "markdown",
   "metadata": {},
   "source": [
    "### Equality Comparison"
   ]
  },
  {
   "cell_type": "markdown",
   "metadata": {},
   "source": [
    "Like **anonymous types**, the `Equals` method performs ***structural equality comparison***"
   ]
  },
  {
   "cell_type": "code",
   "execution_count": null,
   "metadata": {
    "dotnet_interactive": {
     "language": "csharp"
    },
    "polyglot_notebook": {
     "kernelName": "csharp"
    },
    "vscode": {
     "languageId": "polyglot-notebook"
    }
   },
   "outputs": [],
   "source": [
    "var t1 = (\"one\", 1);\n",
    "var t2 = (\"two\", 2);\n",
    "Console.WriteLine (t1.Equals (t2)); // True\n",
    "\n",
    "//In addition, ValueTuple<> overloads the == and != operators:\n",
    "\n",
    "Console.WriteLine (t1 == t2); // True (from C# 7.3)"
   ]
  },
  {
   "cell_type": "markdown",
   "metadata": {},
   "source": [
    "***Tuples*** also override the `GetHashCode` method, making it practical to use ***tuples*** as `keys` in `dictionaries`.  \n",
    "  \n",
    "The `ValueTuple<>` types also implement `IComparable` ,making it possible to use ***tuples*** as a `sorting key`."
   ]
  },
  {
   "cell_type": "markdown",
   "metadata": {},
   "source": [
    "### The System.Tuple classes"
   ]
  },
  {
   "cell_type": "markdown",
   "metadata": {},
   "source": [
    "<div dir=\"rtl\" style=\"width:90%; margin:auto;\">\n",
    "<p>\n",
    "<strong>معرفی</strong>: نوع داده <code>Tuple</code> در سال 2010 معرفی شد و به عنوان کلاس‌ها در فضای نام <code>System</code> تعریف شده است. این نوع داده امکان دارد که مجموعه‌ای از مقادیر را در یک کانتینر واحد نگه دارد.\n",
    "</p>\n",
    "\n",
    "<p>\n",
    "<strong>مشکلات</strong>: <code>Tuple</code> به عنوان کلاس تعریف شده، به این معنی است که هر استفاده از آن نیاز به تخصیص حافظه دارد، که می‌تواند کمی ناکارآمد باشد به خصوص در سناریوهایی که عملکرد حیاتی است.\n",
    "</p>\n",
    "\n",
    "<p>\n",
    "با انتشار C# 7، مایکروسافت نوع جدیدی به نام <code>ValueTuple</code> را معرفی کرد. این نوع داده به جای اینکه به صورت کلاس باشد، به صورت ساختار (struct) تعریف شده است.\n",
    "</p>\n",
    "\n",
    "<p>\n",
    "<strong>مزایا</strong>: ساختارها معمولاً کارآمدتر از کلاس‌ها هستند زیرا آن‌ها به طور مستقیم روی استک ذخیره می‌شوند و نیازی به تخصیص حافظه پویا ندارند. این امر می‌تواند عملکرد بهتری را در سناریوهایی که تاپل‌ها به طور مکرر استفاده می‌شوند فراهم کند.\n",
    "</p>\n",
    "\n",
    "</div>"
   ]
  },
  {
   "cell_type": "code",
   "execution_count": null,
   "metadata": {
    "dotnet_interactive": {
     "language": "csharp"
    },
    "polyglot_notebook": {
     "kernelName": "csharp"
    },
    "vscode": {
     "languageId": "polyglot-notebook"
    }
   },
   "outputs": [],
   "source": [
    "Tuple<string,int> t = Tuple.Create (\"Bob\", 23); // Factory method\n",
    "Console.WriteLine (t.Item1); // Bob\n",
    "Console.WriteLine (t.Item2); // 23"
   ]
  }
 ],
 "metadata": {
  "kernelspec": {
   "display_name": ".NET (C#)",
   "language": "C#",
   "name": ".net-csharp"
  },
  "language_info": {
   "name": "python"
  },
  "polyglot_notebook": {
   "kernelInfo": {
    "defaultKernelName": "csharp",
    "items": [
     {
      "aliases": [],
      "name": "csharp"
     }
    ]
   }
  }
 },
 "nbformat": 4,
 "nbformat_minor": 2
}
