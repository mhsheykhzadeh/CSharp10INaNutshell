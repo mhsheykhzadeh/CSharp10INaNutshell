{
 "cells": [
  {
   "cell_type": "markdown",
   "metadata": {},
   "source": [
    "A ***record*** is a special kind of `class` or `struct` that’s designed to work well with `immutable` (read-only) data. Its most useful feature is ***nondestructive mutation***;"
   ]
  },
  {
   "cell_type": "markdown",
   "metadata": {},
   "source": [
    "***records*** are also useful in creating types that just **combine** or **hold** `data`."
   ]
  },
  {
   "cell_type": "markdown",
   "metadata": {},
   "source": [
    "***Records*** are purely a C# `compile-time` **construct**. At `runtime`, the ***CLR*** sees them just as `classes` or `structs`"
   ]
  },
  {
   "cell_type": "markdown",
   "metadata": {},
   "source": [
    "***immutable types*** are for `simplifying` software and `reducing bugs`. It’s also a `core aspect` of ***functional programming***. ***LINQ*** is inspired by this `principle`."
   ]
  },
  {
   "cell_type": "markdown",
   "metadata": {},
   "source": [
    "to `modify` an ***immutable object***, you must `create a new` one and `copy` over\n",
    "the data while incorporating your modifications (this is called ***nondestructive mutation***)."
   ]
  },
  {
   "cell_type": "markdown",
   "metadata": {},
   "source": [
    "***Structural equality*** means that `two instances` are the `same` if `their data is the same` (as with tuples). ***Records*** give you `structural equality` by `default`—regardless of whether the underlying type is a `class` or `struct`"
   ]
  },
  {
   "cell_type": "markdown",
   "metadata": {},
   "source": [
    "### Defining a Record"
   ]
  },
  {
   "cell_type": "markdown",
   "metadata": {},
   "source": [
    "A record definition is like a class or struct definition, and can contain the same\n",
    "kinds of members, including fields, properties, methods, and so on. Records `can\n",
    "implement interfaces`, and (class-based) `records can subclass other` (class-based)\n",
    "`records`."
   ]
  },
  {
   "cell_type": "code",
   "execution_count": null,
   "metadata": {
    "dotnet_interactive": {
     "language": "csharp"
    },
    "polyglot_notebook": {
     "kernelName": "csharp"
    },
    "vscode": {
     "languageId": "polyglot-notebook"
    }
   },
   "outputs": [],
   "source": [
    "//By default, the underlying type of a record is a class\n",
    "record Point { } // Point is a class\n",
    "//record class is also legal and has the same meaning as record.)\n",
    "\n",
    "//From C# 10, the underlying type of a record can also be a struct\n",
    "record struct Point1 { } // Point is a struct"
   ]
  },
  {
   "cell_type": "code",
   "execution_count": null,
   "metadata": {
    "dotnet_interactive": {
     "language": "csharp"
    },
    "polyglot_notebook": {
     "kernelName": "csharp"
    },
    "vscode": {
     "languageId": "polyglot-notebook"
    }
   },
   "outputs": [],
   "source": [
    "record Point\n",
    "{\n",
    "    public Point (double x, double y) => (X, Y) = (x, y);\n",
    "    public double X { get; init; }\n",
    "    public double Y { get; init; }\n",
    "}"
   ]
  },
  {
   "cell_type": "markdown",
   "metadata": {},
   "source": [
    "Upon compilation, C# transforms the record definition into a class (or struct) and\n",
    "performs the following additional steps:  \n",
    "- It writes a protected copy c onstructor (and a hidden Clone method) to facilitate\n",
    "nondestructive mutation.\n",
    "- It overrides/overloads the equality-related functions to implement structural\n",
    "equality.\n",
    "- It overrides the ToString() method (to expand the record’s public properties,\n",
    "as with anonymous types)."
   ]
  },
  {
   "cell_type": "markdown",
   "metadata": {},
   "source": [
    "[compile time code ](https://sharplab.io/#v2:CYLg1APgAgTAjAWAFBQMwAJboMLoN7LpGYZQAs6AsgBQCU+hxAvsi0gE4CmAxgPbvB0ABV4BLAHYAXZARQYREyemrBeAVwBGAG07oAHgBp0qzTvQBPegF4AfMoAaRgJrXlhi7QDcyNMfXbde3x0AHNOSU90CVEI9DZfEwD0J2Cw2OjYtiYgA)"
   ]
  },
  {
   "cell_type": "markdown",
   "metadata": {},
   "source": [
    "### Parameter lists"
   ]
  },
  {
   "cell_type": "code",
   "execution_count": null,
   "metadata": {
    "dotnet_interactive": {
     "language": "csharp"
    },
    "polyglot_notebook": {
     "kernelName": "csharp"
    },
    "vscode": {
     "languageId": "polyglot-notebook"
    }
   },
   "outputs": [],
   "source": [
    "//A record definition can also include a parameter list:\n",
    "\n",
    "record Point (double X, double Y);\n",
    "\n",
    "//parameter lists and another property\n",
    "public record Point1(double X, double Y)\n",
    "{\n",
    "    public int XX { get; set; }\n",
    "    public int YY { get; set; }\n",
    "}\n",
    "\n",
    "//we can use `in`\n",
    "public record Point3(in double X, double Y);\n",
    "\n",
    "//we can use `out`\n",
    "public record Point4(out double X, double Y);\n",
    "\n",
    "//we can use `ref`\n",
    "public record Point5(ref double X, double Y);\n",
    "\n",
    "//we can use params\n",
    "public record Numbers(params int[] Values);\n",
    "\n",
    "var numbers = new Numbers(1, 3, 5, 66);\n",
    "\n",
    "var numbers1 = new Numbers(1, 3, 5, 66, 88, 77);"
   ]
  },
  {
   "cell_type": "markdown",
   "metadata": {},
   "source": [
    "If a ***parameter list*** is specified, the `compiler` performs the following extra steps:  \n",
    "- It writes an `init-only` property `per` parameter.\n",
    "- It writes a `primary constructor` to populate the properties.\n",
    "- It writes a `deconstructor`."
   ]
  },
  {
   "cell_type": "markdown",
   "metadata": {},
   "source": [
    "When you define a ***parameter list*** in a `record struct`, the `compiler` emits ***writable properties*** instead of `init-only` properties"
   ]
  },
  {
   "cell_type": "code",
   "execution_count": null,
   "metadata": {
    "dotnet_interactive": {
     "language": "csharp"
    },
    "polyglot_notebook": {
     "kernelName": "csharp"
    },
    "vscode": {
     "languageId": "polyglot-notebook"
    }
   },
   "outputs": [],
   "source": [
    "public record struct Point(int X, int Y);\n",
    "\n",
    " Point p = new Point(1, 2);\n",
    "        \n",
    "        // می‌توانیم مقادیر خصوصیات را تغییر دهیم\n",
    "p.X = 10;\n",
    "p.Y = 20;\n",
    "        \n",
    "Console.WriteLine($\"X: {p.X}, Y: {p.Y}\"); // خروجی: X: 10, Y: 20"
   ]
  },
  {
   "cell_type": "markdown",
   "metadata": {},
   "source": [
    "***unless*** you **prefix** the `record` declaration with `readonly`"
   ]
  },
  {
   "cell_type": "code",
   "execution_count": null,
   "metadata": {
    "dotnet_interactive": {
     "language": "csharp"
    },
    "polyglot_notebook": {
     "kernelName": "csharp"
    },
    "vscode": {
     "languageId": "polyglot-notebook"
    }
   },
   "outputs": [],
   "source": [
    "public readonly record struct Point(int X, int Y);\n",
    "\n",
    " Point p = new Point(1, 2);\n",
    "        \n",
    " // نمی‌توانیم مقادیر خصوصیات را تغییر دهیم\n",
    "// p.X = 10; // این خطا می‌دهد\n",
    "// p.Y = 20; // این خطا می‌دهد\n",
    "        \n",
    "Console.WriteLine($\"X: {p.X}, Y: {p.Y}\"); // خروجی: X: 1, Y: 2"
   ]
  },
  {
   "cell_type": "code",
   "execution_count": null,
   "metadata": {
    "dotnet_interactive": {
     "language": "csharp"
    },
    "polyglot_notebook": {
     "kernelName": "csharp"
    },
    "vscode": {
     "languageId": "polyglot-notebook"
    }
   },
   "outputs": [],
   "source": [
    "//subclassed\n",
    "record Point(double X, double Y);\n",
    "record Point3D (double X, double Y, double Z) : Point (X, Y);"
   ]
  },
  {
   "cell_type": "code",
   "execution_count": null,
   "metadata": {
    "dotnet_interactive": {
     "language": "csharp"
    },
    "polyglot_notebook": {
     "kernelName": "csharp"
    },
    "vscode": {
     "languageId": "polyglot-notebook"
    }
   },
   "outputs": [],
   "source": [
    "//compiler do this\n",
    "record Point(double X, double Y);\n",
    "\n",
    "record Point3D : Point \n",
    "{\n",
    "    public double Z { get; init; }\n",
    "    public Point3D (double X, double Y, double Z) : base (X, Y)\n",
    "    => this.Z = Z;\n",
    "}"
   ]
  },
  {
   "cell_type": "markdown",
   "metadata": {},
   "source": [
    "### Nondestructive Mutation"
   ]
  },
  {
   "cell_type": "markdown",
   "metadata": {},
   "source": [
    "The most important step that the `compiler` performs with all records is to write\n",
    "a `copy constructor` (and a hidden Clone method)"
   ]
  },
  {
   "cell_type": "code",
   "execution_count": null,
   "metadata": {
    "dotnet_interactive": {
     "language": "csharp"
    },
    "polyglot_notebook": {
     "kernelName": "csharp"
    },
    "vscode": {
     "languageId": "polyglot-notebook"
    }
   },
   "outputs": [],
   "source": [
    "//This enables nondestructive mutation via the with keyword\n",
    "Point p1 = new Point (3, 3);\n",
    "Point p2 = p1 with { Y = 4 }; // p2 is a copy of p1, but with its Y property set to 4.\n",
    "\n",
    "Console.WriteLine (p2); // Point { X = 3, Y = 4 }\n",
    "record Point (double X, double Y);"
   ]
  },
  {
   "cell_type": "code",
   "execution_count": null,
   "metadata": {
    "dotnet_interactive": {
     "language": "csharp"
    },
    "polyglot_notebook": {
     "kernelName": "csharp"
    },
    "vscode": {
     "languageId": "polyglot-notebook"
    }
   },
   "outputs": [],
   "source": [
    "Test t1 = new Test (1, 2, 3, 4, 5, 6, 7, 8);\n",
    "Test t2 = t1 with { A = 10, C = 30 };\n",
    "Console.WriteLine (t2);\n",
    "record Test (int A, int B, int C, int D, int E, int F, int G, int H);"
   ]
  },
  {
   "cell_type": "markdown",
   "metadata": {},
   "source": [
    "### Primary Constructors"
   ]
  },
  {
   "cell_type": "code",
   "execution_count": null,
   "metadata": {
    "dotnet_interactive": {
     "language": "csharp"
    },
    "polyglot_notebook": {
     "kernelName": "csharp"
    },
    "vscode": {
     "languageId": "polyglot-notebook"
    }
   },
   "outputs": [],
   "source": [
    "record Point (double X, double Y);\n",
    "\n",
    "public record Point1(double X, double Y)\n",
    "{\n",
    "    public double XX { get; set; } = X;\n",
    "    public double YY { get; set; } = Y*Y;\n",
    "}"
   ]
  },
  {
   "cell_type": "markdown",
   "metadata": {},
   "source": [
    "### Records and Equality Comparison"
   ]
  },
  {
   "cell_type": "code",
   "execution_count": 3,
   "metadata": {
    "dotnet_interactive": {
     "language": "csharp"
    },
    "polyglot_notebook": {
     "kernelName": "csharp"
    },
    "vscode": {
     "languageId": "polyglot-notebook"
    }
   },
   "outputs": [
    {
     "name": "stdout",
     "output_type": "stream",
     "text": [
      "True\n",
      "True\n",
      "False\n",
      "True\n",
      "False\n"
     ]
    }
   ],
   "source": [
    "record RecordPoint (double X, double Y);\n",
    "struct StructPoint\n",
    "{\n",
    "    public double X {get; set;}\n",
    "    public double Y {get;set;}\n",
    "}\n",
    "class  ClassPoint\n",
    "{\n",
    "    public double X {get; set;}\n",
    "    public double Y {get;set;}\n",
    "}\n",
    "\n",
    "var recordP1 = new RecordPoint (1, 2);\n",
    "var recordP2 = new RecordPoint (1, 2);\n",
    "\n",
    "var structP1 = new StructPoint() {X=1, Y=2};\n",
    "var structP2 = new StructPoint() {X=1, Y=2};\n",
    "\n",
    "var classP1 = new ClassPoint() {X=1, Y=2};\n",
    "var classP2 = new ClassPoint() {X=1, Y=2};\n",
    "\n",
    "Console.WriteLine(recordP1.Equals(recordP2));\n",
    "Console.WriteLine(structP1.Equals(structP2));\n",
    "Console.WriteLine(classP1.Equals(classP2));\n",
    "\n",
    "Console.WriteLine(recordP1 == recordP2);\n",
    "Console.WriteLine(structP1 ==  structP2);\n",
    "Console.WriteLine(classP1 == classP2);"
   ]
  },
  {
   "cell_type": "code",
   "execution_count": null,
   "metadata": {
    "dotnet_interactive": {
     "language": "csharp"
    },
    "polyglot_notebook": {
     "kernelName": "csharp"
    },
    "vscode": {
     "languageId": "polyglot-notebook"
    }
   },
   "outputs": [],
   "source": [
    "record Point (double X, double Y)\n",
    "{\n",
    "    //Unlike with classes and structs, you do not (and cannot) override the\n",
    "    //object.Equals\n",
    "    //The Equals method must be virtual (not override),\n",
    "    public virtual bool Equals (Point other) =>\n",
    "        other != null && X == other.X && Y == other.Y;\n",
    "}"
   ]
  }
 ],
 "metadata": {
  "kernelspec": {
   "display_name": ".NET (C#)",
   "language": "C#",
   "name": ".net-csharp"
  },
  "language_info": {
   "name": "python"
  },
  "polyglot_notebook": {
   "kernelInfo": {
    "defaultKernelName": "csharp",
    "items": [
     {
      "aliases": [],
      "name": "csharp"
     }
    ]
   }
  }
 },
 "nbformat": 4,
 "nbformat_minor": 2
}
