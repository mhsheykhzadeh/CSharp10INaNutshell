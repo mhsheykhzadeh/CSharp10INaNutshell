{
 "cells": [
  {
   "cell_type": "markdown",
   "metadata": {},
   "source": [
    "You can tag `optional parameters` with one of `three` `caller info attributes`  \n",
    "\n",
    "- `[CallerMemberName]` applies the `caller’s` member `name`.\n",
    "- `[CallerFilePath]` applies the path to the caller’s `source code file`.\n",
    "- `[CallerLineNumber]` applies the `line number` in the caller’s source code file."
   ]
  },
  {
   "cell_type": "code",
   "execution_count": 3,
   "metadata": {
    "dotnet_interactive": {
     "language": "csharp"
    },
    "polyglot_notebook": {
     "kernelName": "csharp"
    },
    "vscode": {
     "languageId": "polyglot-notebook"
    }
   },
   "outputs": [
    {
     "name": "stdout",
     "output_type": "stream",
     "text": [
      "TestCaller\n",
      "\n",
      "13\n"
     ]
    }
   ],
   "source": [
    "using System;\n",
    "using System.Runtime.CompilerServices;\n",
    "\n",
    "static void Foo (\n",
    "[CallerMemberName] string memberName = null,\n",
    "[CallerFilePath] string filePath = null,\n",
    "[CallerLineNumber] int lineNumber = 0)\n",
    "{\n",
    "    Console.WriteLine (memberName);\n",
    "    Console.WriteLine (filePath);\n",
    "    Console.WriteLine (lineNumber);\n",
    "}\n",
    "void TestCaller() => Foo();\n",
    "\n",
    "TestCaller();"
   ]
  },
  {
   "cell_type": "markdown",
   "metadata": {},
   "source": [
    "***Caller info attributes*** are useful for `logging`—and for implementing patterns such as firing a single change notification event whenever any property on an object\n",
    "changes."
   ]
  },
  {
   "cell_type": "code",
   "execution_count": null,
   "metadata": {
    "dotnet_interactive": {
     "language": "csharp"
    },
    "polyglot_notebook": {
     "kernelName": "csharp"
    },
    "vscode": {
     "languageId": "polyglot-notebook"
    }
   },
   "outputs": [],
   "source": [
    "public delegate void PropertyChangedEventHandler\n",
    "\n",
    "(object sender, PropertyChangedEventArgs e);\n",
    "\n",
    "public class PropertyChangedEventArgs : EventArgs\n",
    "{\n",
    "    public PropertyChangedEventArgs (string propertyName){};\n",
    "    public virtual string PropertyName { get; }\n",
    "}\n",
    "\n",
    "public interface INotifyPropertyChanged\n",
    "{\n",
    "    event PropertyChangedEventHandler PropertyChanged;\n",
    "}\n",
    "\n",
    "public class Foo : INotifyPropertyChanged\n",
    "{\n",
    "    public event PropertyChangedEventHandler PropertyChanged = delegate { };\n",
    "    void RaisePropertyChanged ([CallerMemberName] string propertyName = null)\n",
    "        => PropertyChanged (this, new PropertyChangedEventArgs (propertyName));\n",
    "    string customerName;\n",
    "    public string CustomerName\n",
    "    {\n",
    "        get => customerName;\n",
    "        set\n",
    "        {\n",
    "            if (value == customerName) return;\n",
    "            customerName = value;\n",
    "            RaisePropertyChanged();\n",
    "            // The compiler converts the above line to:\n",
    "            // RaisePropertyChanged (\"CustomerName\");\n",
    "        }\n",
    "    }\n",
    "}\n"
   ]
  },
  {
   "cell_type": "markdown",
   "metadata": {},
   "source": [
    "### CallerArgumentExpression (C# 10)"
   ]
  },
  {
   "cell_type": "code",
   "execution_count": 1,
   "metadata": {
    "dotnet_interactive": {
     "language": "csharp"
    },
    "polyglot_notebook": {
     "kernelName": "csharp"
    },
    "vscode": {
     "languageId": "polyglot-notebook"
    }
   },
   "outputs": [
    {
     "ename": "Error",
     "evalue": "(3,28): error CS0246: The type or namespace name 'CallerArgumentExpressionAttribute' could not be found (are you missing a using directive or an assembly reference?)\r\n(3,28): error CS0246: The type or namespace name 'CallerArgumentExpression' could not be found (are you missing a using directive or an assembly reference?)",
     "output_type": "error",
     "traceback": [
      "(3,28): error CS0246: The type or namespace name 'CallerArgumentExpressionAttribute' could not be found (are you missing a using directive or an assembly reference?)\r\n",
      "(3,28): error CS0246: The type or namespace name 'CallerArgumentExpression' could not be found (are you missing a using directive or an assembly reference?)"
     ]
    }
   ],
   "source": [
    "Print (Math.PI * 2);\n",
    "\n",
    "void Print (double number,[CallerArgumentExpression(\"number\")] string expr = null)\n",
    "    => Console.WriteLine (expr);\n",
    "    \n",
    "// Output: Math.PI * 2\n"
   ]
  },
  {
   "cell_type": "markdown",
   "metadata": {},
   "source": [
    "The **main application** for this feature is when writing `validation` and `assertion` ***libraries***."
   ]
  },
  {
   "cell_type": "code",
   "execution_count": null,
   "metadata": {
    "dotnet_interactive": {
     "language": "csharp"
    },
    "polyglot_notebook": {
     "kernelName": "csharp"
    },
    "vscode": {
     "languageId": "polyglot-notebook"
    }
   },
   "outputs": [],
   "source": [
    "Assert (2 + 2 == 5);\n",
    "\n",
    "void Assert (bool condition, [CallerArgumentExpression (\"condition\")] string message = null)\n",
    "{\n",
    "    if (!condition) throw new Exception (\"Assertion failed: \" + message);\n",
    "}"
   ]
  },
  {
   "cell_type": "code",
   "execution_count": null,
   "metadata": {
    "dotnet_interactive": {
     "language": "csharp"
    },
    "polyglot_notebook": {
     "kernelName": "csharp"
    },
    "vscode": {
     "languageId": "polyglot-notebook"
    }
   },
   "outputs": [],
   "source": [
    "//Another example is the static ThrowIfNull method on the ArgumentNullException\n",
    "//class.\n",
    "\n",
    "public static void ThrowIfNull (object argument, [CallerArgumentExpression(\"argument\")] string paramName = null)\n",
    "{\n",
    "    if (argument == null)\n",
    "    throw new ArgumentNullException (paramName);\n",
    "}"
   ]
  }
 ],
 "metadata": {
  "kernelspec": {
   "display_name": ".NET (C#)",
   "language": "C#",
   "name": ".net-csharp"
  },
  "language_info": {
   "name": "python"
  },
  "polyglot_notebook": {
   "kernelInfo": {
    "defaultKernelName": "csharp",
    "items": [
     {
      "aliases": [],
      "name": "csharp"
     }
    ]
   }
  }
 },
 "nbformat": 4,
 "nbformat_minor": 2
}
