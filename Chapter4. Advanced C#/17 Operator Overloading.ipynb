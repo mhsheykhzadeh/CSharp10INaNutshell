{
 "cells": [
  {
   "attachments": {
    "image.png": {
     "image/png": "[encoded data removed]"
    }
   },
   "cell_type": "markdown",
   "metadata": {
    "dotnet_interactive": {
     "language": "csharp"
    },
    "polyglot_notebook": {
     "kernelName": "csharp"
    }
   },
   "source": [
    "operators can be overloaded\n",
    "\n",
    "![image.png](attachment:image.png)"
   ]
  },
  {
   "cell_type": "markdown",
   "metadata": {},
   "source": [
    "You can ***overload operators*** to provide `more natural syntax` for `custom types`."
   ]
  },
  {
   "cell_type": "markdown",
   "metadata": {},
   "source": [
    "### Operator Functions"
   ]
  },
  {
   "cell_type": "markdown",
   "metadata": {},
   "source": [
    "You overload an operator by declaring an operator function. An operator function\n",
    "has the following rules:  \n",
    "\n",
    "- The name of the function is specified with the `operator` keyword followed by\n",
    "an `operator symbol`.\n",
    "- The operator function must be marked `static` and public.\n",
    "- The parameters of the operator function represent the `operands`.\n",
    "- The return type of an operator function represents the `result` of an expression.\n",
    "- At least one of the operands must be the type in which the operator function is\n",
    "declared."
   ]
  },
  {
   "cell_type": "code",
   "execution_count": 2,
   "metadata": {
    "dotnet_interactive": {
     "language": "csharp"
    },
    "polyglot_notebook": {
     "kernelName": "csharp"
    },
    "vscode": {
     "languageId": "polyglot-notebook"
    }
   },
   "outputs": [
    {
     "name": "stdout",
     "output_type": "stream",
     "text": [
      "12\n",
      "17\n"
     ]
    }
   ],
   "source": [
    "public struct Note\n",
    "{\n",
    "    int value;\n",
    "    public Note (int semitonesFromA) { value = semitonesFromA; }\n",
    "    public static Note operator + (Note x, int semitones)\n",
    "    {\n",
    "        return new Note (x.value + semitones);\n",
    "    }\n",
    "}\n",
    "\n",
    "var note=new Note(12);\n",
    "\n",
    "var newNote = note + 5;\n",
    "\n",
    "/*Overloading an operator automatically overloads the corresponding compound\n",
    "assignment operator.*/\n",
    "\n",
    "newNote +=2;"
   ]
  },
  {
   "cell_type": "markdown",
   "metadata": {},
   "source": [
    "### Overloading Equality and Comparison Operators"
   ]
  },
  {
   "cell_type": "code",
   "execution_count": null,
   "metadata": {
    "dotnet_interactive": {
     "language": "csharp"
    },
    "polyglot_notebook": {
     "kernelName": "csharp"
    },
    "vscode": {
     "languageId": "polyglot-notebook"
    }
   },
   "outputs": [],
   "source": [
    "using System;\n",
    "\n",
    "public class Person : IComparable<Person>\n",
    "{\n",
    "    public string Name { get; }\n",
    "    public int Age { get; }\n",
    "\n",
    "    public Person(string name, int age)\n",
    "    {\n",
    "        Name = name;\n",
    "        Age = age;\n",
    "    }\n",
    "\n",
    "    // Overloading the == operator\n",
    "    public static bool operator ==(Person p1, Person p2)\n",
    "    {\n",
    "        if (ReferenceEquals(p1, null) && ReferenceEquals(p2, null))\n",
    "            return true;\n",
    "        if (ReferenceEquals(p1, null) || ReferenceEquals(p2, null))\n",
    "            return false;\n",
    "\n",
    "        return p1.Name == p2.Name && p1.Age == p2.Age;\n",
    "    }\n",
    "\n",
    "    // Overloading the != operator\n",
    "    public static bool operator !=(Person p1, Person p2)\n",
    "    {\n",
    "        return !(p1 == p2);\n",
    "    }\n",
    "\n",
    "    // Overloading the > operator\n",
    "    public static bool operator >(Person p1, Person p2)\n",
    "    {\n",
    "        if (ReferenceEquals(p1, null) || ReferenceEquals(p2, null))\n",
    "            throw new ArgumentNullException(\"Comparison to null is not supported.\");\n",
    "\n",
    "        return p1.Age > p2.Age;\n",
    "    }\n",
    "\n",
    "    // Overloading the < operator\n",
    "    public static bool operator <(Person p1, Person p2)\n",
    "    {\n",
    "        if (ReferenceEquals(p1, null) || ReferenceEquals(p2, null))\n",
    "            throw new ArgumentNullException(\"Comparison to null is not supported.\");\n",
    "\n",
    "        return p1.Age < p2.Age;\n",
    "    }\n",
    "\n",
    "    // Overloading the >= operator\n",
    "    public static bool operator >=(Person p1, Person p2)\n",
    "    {\n",
    "        return !(p1 < p2);\n",
    "    }\n",
    "\n",
    "    // Overloading the <= operator\n",
    "    public static bool operator <=(Person p1, Person p2)\n",
    "    {\n",
    "        return !(p1 > p2);\n",
    "    }\n",
    "\n",
    "    // Implementing IComparable<Person>\n",
    "    public int CompareTo(Person other)\n",
    "    {\n",
    "        if (ReferenceEquals(other, null))\n",
    "            return 1;\n",
    "\n",
    "        return this.Age.CompareTo(other.Age);\n",
    "    }\n",
    "\n",
    "    // Overriding Equals method\n",
    "    public override bool Equals(object obj)\n",
    "    {\n",
    "        if (ReferenceEquals(this, obj))\n",
    "            return true;\n",
    "\n",
    "        if (ReferenceEquals(obj, null) || this.GetType() != obj.GetType())\n",
    "            return false;\n",
    "\n",
    "        Person other = (Person)obj;\n",
    "        return this.Name == other.Name && this.Age == other.Age;\n",
    "    }\n",
    "\n",
    "    // Overriding GetHashCode method\n",
    "    public override int GetHashCode()\n",
    "    {\n",
    "        return HashCode.Combine(Name, Age);\n",
    "    }\n",
    "}\n",
    "\n",
    "Person person1 = new Person(\"Alice\", 30);\n",
    "Person person2 = new Person(\"Bob\", 25);\n",
    "Person person3 = new Person(\"Alice\", 30);\n",
    "\n",
    "// Using equality operators\n",
    "Console.WriteLine(person1 == person2); // False\n",
    "Console.WriteLine(person1 == person3); // True\n",
    "Console.WriteLine(person1 != person2); // True\n",
    "\n",
    "// Using comparison operators\n",
    "Console.WriteLine(person1 > person2);  // True\n",
    "Console.WriteLine(person1 < person2);  // False\n",
    "Console.WriteLine(person1 >= person3); // True\n",
    "Console.WriteLine(person1 <= person3); // True\n"
   ]
  },
  {
   "cell_type": "markdown",
   "metadata": {},
   "source": [
    "### Custom Implicit and Explicit Conversions"
   ]
  },
  {
   "cell_type": "code",
   "execution_count": 3,
   "metadata": {
    "dotnet_interactive": {
     "language": "csharp"
    },
    "polyglot_notebook": {
     "kernelName": "csharp"
    },
    "vscode": {
     "languageId": "polyglot-notebook"
    }
   },
   "outputs": [
    {
     "name": "stdout",
     "output_type": "stream",
     "text": [
      "5\n",
      "5\n"
     ]
    }
   ],
   "source": [
    "public struct Complex\n",
    "{\n",
    "    public double Real { get; }\n",
    "    public double Imaginary { get; }\n",
    "\n",
    "    public Complex(double real, double imaginary)\n",
    "    {\n",
    "        Real = real;\n",
    "        Imaginary = imaginary;\n",
    "    }\n",
    "\n",
    "    // Implicit conversion from double to Complex\n",
    "    public static implicit operator Complex(double value)\n",
    "    {\n",
    "        return new Complex(value, 0);\n",
    "    }\n",
    "\n",
    "    // Explicit conversion from Complex to double\n",
    "    public static explicit operator double(Complex value)\n",
    "    {\n",
    "        return value.Real;\n",
    "    }\n",
    "}\n",
    "\n",
    "Complex x = 5d; // implicit\n",
    "Console.WriteLine(x.Real);\n",
    "\n",
    "double d = (double)x; //explicit\n",
    "Console.WriteLine(d);\n"
   ]
  },
  {
   "cell_type": "markdown",
   "metadata": {},
   "source": [
    "### Overloading true and false"
   ]
  },
  {
   "cell_type": "code",
   "execution_count": 1,
   "metadata": {
    "dotnet_interactive": {
     "language": "csharp"
    },
    "polyglot_notebook": {
     "kernelName": "csharp"
    },
    "vscode": {
     "languageId": "polyglot-notebook"
    }
   },
   "outputs": [
    {
     "name": "stdout",
     "output_type": "stream",
     "text": [
      "0\r\n"
     ]
    }
   ],
   "source": [
    "public struct Complex\n",
    "{\n",
    "    public double Real { get; }\n",
    "    public double Imaginary { get; }\n",
    "\n",
    "    public Complex(double real, double imaginary)\n",
    "    {\n",
    "        Real = real;\n",
    "        Imaginary = imaginary;\n",
    "    }\n",
    "\n",
    "    public static bool operator true(Complex value)\n",
    "    {\n",
    "        return value.Imaginary == 0;\n",
    "    }\n",
    "\n",
    "    public static bool operator false(Complex value)\n",
    "    {\n",
    "        return value.Imaginary != 0;\n",
    "    }\n",
    "}\n",
    "\n",
    "var x = new Complex(1,0);\n",
    "if(x)\n",
    "    Console.WriteLine(x.Imaginary);"
   ]
  }
 ],
 "metadata": {
  "kernelspec": {
   "display_name": ".NET (C#)",
   "language": "C#",
   "name": ".net-csharp"
  },
  "language_info": {
   "name": "python"
  },
  "polyglot_notebook": {
   "kernelInfo": {
    "defaultKernelName": "csharp",
    "items": [
     {
      "aliases": [],
      "name": "csharp"
     }
    ]
   }
  }
 },
 "nbformat": 4,
 "nbformat_minor": 2
}
