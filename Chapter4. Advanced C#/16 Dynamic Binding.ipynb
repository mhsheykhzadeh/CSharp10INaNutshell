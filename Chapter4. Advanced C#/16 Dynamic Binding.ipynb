{
 "cells": [
  {
   "cell_type": "markdown",
   "metadata": {},
   "source": [
    "<div dir=\"rtl\" style=\"width:90%; margin:auto;\">\n",
    "Binding به فرآیندی گفته می‌شود که طی آن ارجاع‌ها به انواع (types)، اعضا (members)، و عملیات‌ها (operators) شناسایی و به آن‌ها متصل می‌شوند. این فرآیند می‌تواند در زمان کامپایل (Compile Time) یا زمان اجرا (Run Time) اتفاق بیفتد.\n",
    "\n",
    "\n",
    "</div>"
   ]
  },
  {
   "cell_type": "code",
   "execution_count": null,
   "metadata": {
    "dotnet_interactive": {
     "language": "csharp"
    },
    "polyglot_notebook": {
     "kernelName": "csharp"
    },
    "vscode": {
     "languageId": "polyglot-notebook"
    }
   },
   "outputs": [],
   "source": [
    "public class MyClass\n",
    "{\n",
    "    public void MyMethod()\n",
    "    {\n",
    "        Console.WriteLine(\"Hello, World!\");\n",
    "    }\n",
    "}\n",
    "\n",
    "MyClass obj = new MyClass();\n",
    "obj.MyMethod();// static binding\n",
    "\n",
    "dynamic dynamicObj = GetDynamicObject();\n",
    "dynamicObj.MyMethod(); //dynamic binding\n"
   ]
  },
  {
   "cell_type": "markdown",
   "metadata": {},
   "source": [
    "<div dir=\"rtl\" style=\"width:90%; margin:auto;\">\n",
    "\n",
    "<h3>کاربردهای Dynamic Binding</h3>\n",
    "<p>Dynamic Binding در سناریوهایی مفید است که در زمان کامپایل نمی‌توان به وضوح به نوع، عضو یا عملیات خاصی اشاره کرد، اما در زمان اجرا می‌دانیم که وجود دارد. این وضعیت معمولاً در موارد زیر رخ می‌دهد:</p>\n",
    "\n",
    "<ol><li><p><strong>تعامل با زبان‌های پویا</strong>: وقتی که با زبان‌های برنامه‌نویسی پویا (مثل IronPython یا JavaScript) کار می‌کنیم، کامپایلر نمی‌تواند نوع‌ها و اعضای خاصی را در زمان کامپایل شناسایی کند. در اینجا، Dynamic Binding به کار می‌آید.</p></li><li><p><strong>استفاده از COM</strong>: Component Object Model (COM) یک فناوری مایکروسافت است که به برنامه‌های ویندوزی اجازه می‌دهد تا اشیاء را با یکدیگر به اشتراک بگذارند. در این موارد نیز Dynamic Binding مفید است زیرا نوع‌ها و اعضای COM ممکن است در زمان کامپایل مشخص نباشند.</p></li><li><p><strong>استفاده از Reflection</strong>: Reflection تکنیکی است که به برنامه‌ها اجازه می‌دهد در زمان اجرا به اطلاعات مربوط به انواع، اعضا و عملیات‌ها دسترسی پیدا کنند. Dynamic Binding می‌تواند استفاده از Reflection را ساده‌تر و کارآمدتر کند.</p></li></ol>\n",
    "\n",
    "</div>"
   ]
  },
  {
   "cell_type": "markdown",
   "metadata": {},
   "source": [
    "### Two types of binding in runtime"
   ]
  },
  {
   "cell_type": "markdown",
   "metadata": {},
   "source": [
    "#### Custom Binding"
   ]
  },
  {
   "cell_type": "markdown",
   "metadata": {},
   "source": [
    "<div dir=\"rtl\" style=\"width:90%; margin:auto;\">\n",
    "<p><strong>Custom Binding</strong> زمانی اتفاق می‌افتد که یک شیء dynamic اینترفیس <code>IDynamicMetaObjectProvider</code> (به اختصار <code>IDMOP</code>) را پیاده‌سازی کند. این اینترفیس به اشیاء اجازه می‌دهد تا به صورت سفارشی نحوه‌ی انجام عملیات‌های مختلف بر روی خود را کنترل کنند.</p>\n",
    "\n",
    "<h3><code>IDynamicMetaObjectProvider</code> چیست؟</h3>\n",
    "<p><code>IDynamicMetaObjectProvider</code> یک اینترفیس در .NET است که برای فراهم کردن مکانیزم سفارشی‌سازی Binding در زمان اجرا طراحی شده است. وقتی یک شیء dynamic این اینترفیس را پیاده‌سازی می‌کند، می‌تواند کنترل کند که چگونه عملیات‌های مختلف (مانند فراخوانی متدها، دسترسی به ویژگی‌ها، و غیره) بر روی آن انجام شوند.</p>\n",
    "\n",
    "<h3>موارد استفاده از <code>IDynamicMetaObjectProvider</code></h3>\n",
    "<h4>1. پیاده‌سازی در C#</h4>\n",
    "\n",
    "<p>اگرچه می‌توانید <code>IDMOP</code> را بر روی نوع‌های خودتان که در C# می‌نویسید پیاده‌سازی کنید و این کار می‌تواند مفید باشد، اما این حالت کمتر رایج است. به عنوان مثال، می‌توانید یک کلاس C# بنویسید که این اینترفیس را پیاده‌سازی کند تا رفتار سفارشی برای عملیات‌های dynamic خود داشته باشد.</p>\n",
    "\n",
    "</div>"
   ]
  },
  {
   "cell_type": "code",
   "execution_count": 1,
   "metadata": {
    "dotnet_interactive": {
     "language": "csharp"
    },
    "polyglot_notebook": {
     "kernelName": "csharp"
    },
    "vscode": {
     "languageId": "polyglot-notebook"
    }
   },
   "outputs": [
    {
     "name": "stdout",
     "output_type": "stream",
     "text": [
      "Quack method was called\n",
      "Waddle method was called\n"
     ]
    }
   ],
   "source": [
    "using System;\n",
    "using System.Dynamic;\n",
    "\n",
    "dynamic d = new Duck();\n",
    "d.Quack(); // Quack method was called\n",
    "d.Waddle(); // Waddle method was called\n",
    "d.x();\n",
    "public class Duck : DynamicObject\n",
    "{\n",
    "    public override bool TryInvokeMember (\n",
    "    InvokeMemberBinder binder, object[] args, out object result)\n",
    "    {\n",
    "        Console.WriteLine (binder.Name + \" method was called\");\n",
    "        if(binder.Name == \"Quack\")\n",
    "        {\n",
    "\n",
    "        }\n",
    "        result = null;\n",
    "        return true;\n",
    "    }\n",
    "}"
   ]
  },
  {
   "cell_type": "markdown",
   "metadata": {},
   "source": [
    "<div dir=\"rtl\" style=\"width:90%; margin:auto;\">\n",
    "<h4>2. استفاده در زبان‌های پویا</h4>\n",
    "\n",
    "<p>حالت رایج‌تر این است که شما یک شیء <code>IDMOP</code> را از یک زبان پویا که بر روی Dynamic Language Runtime (DLR) پیاده‌سازی شده، بدست آورده‌اید. زبان‌هایی مانند IronPython و IronRuby که بر روی DLR ساخته شده‌اند، به طور ضمنی <code>IDMOP</code> را پیاده‌سازی می‌کنند. این زبان‌ها از <code>IDMOP</code> به عنوان یک وسیله برای کنترل مستقیم معانی عملیات‌هایی که بر روی اشیاء آن‌ها انجام می‌شود، استفاده می‌کنند.</p>\n",
    "\n",
    "\n",
    "</div>"
   ]
  },
  {
   "cell_type": "code",
   "execution_count": null,
   "metadata": {
    "dotnet_interactive": {
     "language": "csharp"
    },
    "polyglot_notebook": {
     "kernelName": "csharp"
    },
    "vscode": {
     "languageId": "polyglot-notebook"
    }
   },
   "outputs": [],
   "source": [
    "using System;\n",
    "using IronPython.Hosting;\n",
    "using Microsoft.Scripting.Hosting;\n",
    "\n",
    "ScriptEngine engine = Python.CreateEngine(); //ایجاد موتور اسکریپت Python\n",
    "ScriptScope scope = engine.CreateScope(); //ایجاد یک اسکوپ (Scope)\n",
    "\n",
    "engine.Execute(@\"\n",
    "class DynamicObject:\n",
    "    def __init__(self):\n",
    "        self.value = 10\n",
    "\n",
    "    def increment(self, x):\n",
    "        return self.value + x\n",
    "\n",
    "obj = DynamicObject()\n",
    "\", scope); //اجرای کد Python:\n",
    "\n",
    "dynamic obj = scope.GetVariable(\"obj\"); //obj را به عنوان یک متغیر dynamic در C# دریافت می‌کند\n",
    "Console.WriteLine(obj.increment(5)); // خروجی: 15"
   ]
  },
  {
   "cell_type": "markdown",
   "metadata": {},
   "source": [
    "<div dir=\"rtl\" style=\"width:90%; margin:auto;\">\n",
    "<h3>Dynamic Language Runtime (DLR)</h3>\n",
    "<p><strong>Dynamic Language Runtime</strong> (DLR) یک زیرساخت در .NET است که به زبان‌های پویا اجازه می‌دهد تا به صورت بومی در محیط .NET اجرا شوند. DLR قابلیت‌هایی مانند dynamic typing، dynamic method dispatch، و غیره را فراهم می‌کند.</p>\n",
    "</div>"
   ]
  },
  {
   "cell_type": "markdown",
   "metadata": {},
   "source": [
    "#### Language Binding"
   ]
  },
  {
   "cell_type": "markdown",
   "metadata": {},
   "source": [
    "<div dir=\"rtl\" style=\"width:90%; margin:auto;\">\n",
    "<p><strong>Language Binding</strong> زمانی رخ می‌دهد که یک شیء dynamic اینترفیس <code>IDynamicMetaObjectProvider</code> (IDMOP) را پیاده‌سازی نکند. در این حالت، Binding به روشی انجام می‌شود که تا حد امکان شبیه به Binding استاتیک (Compile-Time) است، به گونه‌ای که گویی نوع زمان اجرای شیء dynamic در زمان کامپایل شناخته شده بود.</p>\n",
    "\n",
    "<h3>کاربردهای Language Binding</h3>\n",
    "<ol><li><strong>کار با انواع عددی مختلف</strong>:<ul><li>یکی از مشکلات رایج هنگام استفاده از انواع عددی مختلف (مانند <code>int</code>, <code>float</code>, <code>double</code>) این است که این نوع‌ها یک اینترفیس مشترک ندارند.</li><li>با استفاده از <code>dynamic</code>، می‌توانیم متدها و عملیات‌ها را به صورت پویا تعریف کنیم و نیازی به تکرار کد برای هر نوع عددی نداریم.</li></ul></li></ol>\n",
    "\n",
    "</div>"
   ]
  },
  {
   "cell_type": "code",
   "execution_count": null,
   "metadata": {
    "dotnet_interactive": {
     "language": "csharp"
    },
    "polyglot_notebook": {
     "kernelName": "csharp"
    },
    "vscode": {
     "languageId": "polyglot-notebook"
    }
   },
   "outputs": [],
   "source": [
    "dynamic Mean(dynamic x, dynamic y) => (x + y) / 2;\n",
    "\n",
    "int x = 3, y = 4;\n",
    "Console.WriteLine(Mean(x, y));\n",
    "\n",
    "double xx = 5; \n",
    "Console.WriteLine(Mean(xx, y));"
   ]
  },
  {
   "cell_type": "markdown",
   "metadata": {},
   "source": [
    "<div dir=\"rtl\" style=\"width:90%; margin:auto;\">\n",
    "<h3>مزایا و معایب Language Binding</h3>\n",
    "<h4>مزایا:</h4>\n",
    "<ul><li><strong>کاهش تکرار کد</strong>: با استفاده از <code>dynamic</code> می‌توانیم از تکرار کد برای انواع مختلف جلوگیری کنیم. مثلاً نیازی نیست متدهای جداگانه برای <code>int</code>, <code>float</code>, <code>double</code> بنویسیم.</li><li><strong>انعطاف‌پذیری بیشتر</strong>: به دلیل اینکه نوع‌ها در زمان اجرا تعیین می‌شوند، کد نوشته شده با <code>dynamic</code> انعطاف‌پذیری بیشتری دارد.</li></ul>\n",
    "\n",
    "<h4>معایب:</h4>\n",
    "\n",
    "<ul><li><strong>از دست دادن ایمنی نوع استاتیک</strong>: با استفاده از <code>dynamic</code>، بررسی نوع‌ها در زمان کامپایل انجام نمی‌شود و ممکن است خطاهای زمان اجرا رخ دهد. این می‌تواند منجر به افزایش خطر بروز خطاهای زمان اجرا شود.</li><li><strong>عملکرد پایین‌تر</strong>: عملیات dynamic ممکن است به دلیل نیاز به بررسی‌های زمان اجرا، کندتر از عملیات‌های استاتیک باشد.</li></ul>\n",
    "</div>"
   ]
  },
  {
   "cell_type": "markdown",
   "metadata": {},
   "source": [
    "### Runtime Representation of Dynamic"
   ]
  },
  {
   "cell_type": "code",
   "execution_count": 3,
   "metadata": {
    "dotnet_interactive": {
     "language": "csharp"
    },
    "polyglot_notebook": {
     "kernelName": "csharp"
    },
    "vscode": {
     "languageId": "polyglot-notebook"
    }
   },
   "outputs": [
    {
     "ename": "Error",
     "evalue": "(2,1): error CS1962: The typeof operator cannot be used on the dynamic type",
     "output_type": "error",
     "traceback": [
      "(2,1): error CS1962: The typeof operator cannot be used on the dynamic type"
     ]
    }
   ],
   "source": [
    "// in Runtime\n",
    "typeof (dynamic) == typeof (object) ;\n",
    "typeof (List<dynamic>) == typeof (List<object>);\n",
    "typeof (dynamic[]) == typeof (object[]);\n",
    "// is true"
   ]
  },
  {
   "cell_type": "code",
   "execution_count": null,
   "metadata": {
    "dotnet_interactive": {
     "language": "csharp"
    },
    "polyglot_notebook": {
     "kernelName": "csharp"
    },
    "vscode": {
     "languageId": "polyglot-notebook"
    }
   },
   "outputs": [],
   "source": [
    "dynamic x = \"hello\";\n",
    "Console.WriteLine (x.GetType().Name); // String\n",
    "\n",
    "x = 123; // No error (despite same variable)\n",
    "Console.WriteLine (x.GetType().Name); // Int32"
   ]
  },
  {
   "cell_type": "markdown",
   "metadata": {},
   "source": [
    "***Structurally***, there is` no difference` between an `object reference` and a `dynamic reference.`"
   ]
  },
  {
   "cell_type": "code",
   "execution_count": null,
   "metadata": {
    "dotnet_interactive": {
     "language": "csharp"
    },
    "polyglot_notebook": {
     "kernelName": "csharp"
    },
    "vscode": {
     "languageId": "polyglot-notebook"
    }
   },
   "outputs": [],
   "source": [
    "object o = new System.Text.StringBuilder();\n",
    "dynamic d = o;\n",
    "d.Append (\"hello\");\n",
    "Console.WriteLine (o); // hello"
   ]
  },
  {
   "cell_type": "markdown",
   "metadata": {},
   "source": [
    "### Dynamic Conversions"
   ]
  },
  {
   "cell_type": "code",
   "execution_count": null,
   "metadata": {
    "dotnet_interactive": {
     "language": "csharp"
    },
    "polyglot_notebook": {
     "kernelName": "csharp"
    },
    "vscode": {
     "languageId": "polyglot-notebook"
    }
   },
   "outputs": [],
   "source": [
    "int i = 7;\n",
    "dynamic d = i;\n",
    "long j = d; // No cast required (implicit conversion)\n"
   ]
  },
  {
   "cell_type": "code",
   "execution_count": null,
   "metadata": {
    "dotnet_interactive": {
     "language": "csharp"
    },
    "polyglot_notebook": {
     "kernelName": "csharp"
    },
    "vscode": {
     "languageId": "polyglot-notebook"
    }
   },
   "outputs": [],
   "source": [
    "int i = 7;\n",
    "dynamic d = i;\n",
    "short j = d; // throws RuntimeBinderException"
   ]
  },
  {
   "cell_type": "markdown",
   "metadata": {},
   "source": [
    "### var Versus dynamic"
   ]
  },
  {
   "cell_type": "markdown",
   "metadata": {},
   "source": [
    "- var says, `Let the compiler figure out the type`.\n",
    "- dynamic says, `Let the runtime figure out the type`."
   ]
  },
  {
   "cell_type": "code",
   "execution_count": null,
   "metadata": {
    "dotnet_interactive": {
     "language": "csharp"
    },
    "polyglot_notebook": {
     "kernelName": "csharp"
    },
    "vscode": {
     "languageId": "polyglot-notebook"
    }
   },
   "outputs": [],
   "source": [
    "dynamic x = \"hello\"; // Static type is dynamic; runtime type is string\n",
    "var y = \"hello\"; // Static type is string; runtime type is string\n",
    "int i = x; // Runtime error (cannot convert string to int)\n",
    "int j = y; // Compile-time error (cannot convert string to int)"
   ]
  },
  {
   "cell_type": "code",
   "execution_count": null,
   "metadata": {
    "dotnet_interactive": {
     "language": "csharp"
    },
    "polyglot_notebook": {
     "kernelName": "csharp"
    },
    "vscode": {
     "languageId": "polyglot-notebook"
    }
   },
   "outputs": [],
   "source": [
    "//The static type of a variable declared with var can be dynamic:\n",
    "\n",
    "dynamic x = \"hello\";\n",
    "var y = x; // Static type of y is dynamic\n",
    "int z = y; // Runtime error (cannot convert string to int)"
   ]
  }
 ],
 "metadata": {
  "kernelspec": {
   "display_name": ".NET (C#)",
   "language": "C#",
   "name": ".net-csharp"
  },
  "language_info": {
   "name": "python"
  },
  "polyglot_notebook": {
   "kernelInfo": {
    "defaultKernelName": "csharp",
    "items": [
     {
      "aliases": [],
      "name": "csharp"
     }
    ]
   }
  }
 },
 "nbformat": 4,
 "nbformat_minor": 2
}
