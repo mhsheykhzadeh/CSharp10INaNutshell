{
 "cells": [
  {
   "cell_type": "markdown",
   "metadata": {},
   "source": [
    "Anonymous methods are a C# 2.0 feature that was mostly subsumed by C# 3.0’s\n",
    "lambda expressions. An anonymous method is like a lambda expression, but it lacks\n",
    "the following features:  \n",
    "\n",
    "- Implicitly typed parameters\n",
    "- Expression syntax (an anonymous method must always be a statement block)\n",
    "- The ability to compile to an expression tree, by assigning to Expression<T>"
   ]
  }
 ],
 "metadata": {
  "language_info": {
   "name": "python"
  }
 },
 "nbformat": 4,
 "nbformat_minor": 2
}
