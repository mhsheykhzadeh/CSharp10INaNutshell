{
 "cells": [
  {
   "cell_type": "markdown",
   "metadata": {},
   "source": [
    "<div dir=\"rtl\" style=\"width:90%; margin:auto\">\n",
    "<h3>تعریف Event</h3>\n",
    "<ol><li><p><strong>Broadcaster (پخش‌کننده)</strong>: کلاسی که Event را تعریف می‌کند و مسئول اعلام Event است. این کلاس حاوی یک delegate است که متدهایی که باید در پاسخ به یک Event فراخوانی شوند را نگه می‌دارد.</p></li><li><p><strong>Subscriber (مشترک)</strong>: کلاسی که به Event علاقه‌مند است و می‌خواهد وقتی Event خاصی رخ دهد، متد خاصی در آن فراخوانی شود. Subscriber می‌تواند با استفاده از عملگرهای += و -= به Event مشترک یا از آن خارج شود.</p></li></ol>\n",
    "</div>"
   ]
  },
  {
   "cell_type": "code",
   "execution_count": 1,
   "metadata": {
    "dotnet_interactive": {
     "language": "csharp"
    },
    "polyglot_notebook": {
     "kernelName": "csharp"
    },
    "vscode": {
     "languageId": "polyglot-notebook"
    }
   },
   "outputs": [],
   "source": [
    "public delegate void TemperatureChangedEventHandler(object sender, EventArgs e);\n",
    "\n",
    "public class Thermostat\n",
    "{\n",
    "    // تعریف Event بر اساس delegate\n",
    "    public event TemperatureChangedEventHandler TemperatureChanged;\n",
    "\n",
    "    // متدی برای بالا بردن دما و فراخوانی Event\n",
    "    public void SetTemperature(int temperature)\n",
    "    {\n",
    "        Console.WriteLine($\"Temperature set to {temperature}C\");\n",
    "        OnTemperatureChanged();\n",
    "    }\n",
    "\n",
    "    // متد محافظت شده برای فراخوانی delegate\n",
    "    protected virtual void OnTemperatureChanged()\n",
    "    {\n",
    "        TemperatureChanged?.Invoke(this, EventArgs.Empty);\n",
    "    }\n",
    "}\n",
    "\n",
    "public class TemperatureMonitor\n",
    "{\n",
    "    public void Subscribe(Thermostat thermostat)\n",
    "    {\n",
    "        thermostat.TemperatureChanged += OnTemperatureChanged;\n",
    "    }\n",
    "\n",
    "    public void Unsubscribe(Thermostat thermostat)\n",
    "    {\n",
    "        thermostat.TemperatureChanged -= OnTemperatureChanged;\n",
    "    }\n",
    "\n",
    "    // متدی که در پاسخ به Event فراخوانی می‌شود\n",
    "    private void OnTemperatureChanged(object sender, EventArgs e)\n",
    "    {\n",
    "        Console.WriteLine(\"Warning: High temperature!\");\n",
    "    }\n",
    "}\n"
   ]
  },
  {
   "cell_type": "markdown",
   "metadata": {},
   "source": [
    "### Standard Event Pattern"
   ]
  },
  {
   "cell_type": "markdown",
   "metadata": {},
   "source": [
    "<div dir=\"rtl\" style=\"width:90%; margin:auto\">\n",
    "<h3>1. Delegate Type</h3>\n",
    "<p>اولین قدم در پیاده‌سازی الگوی استاندارد رویداد، تعریف یک delegate است. Delegate ها در C# به عنوان نوعی اشاره‌گر تابع عمل می‌کنند. در الگوی استاندارد، delegate معمولا دو پارامتر دارد:</p>\n",
    "<ul><li><strong>sender</strong>: اشاره‌گری به شیء که رویداد را فراخوانی کرده است.</li><li><strong>e</strong>: شیء از نوع <code>EventArgs</code> یا یک کلاس مشتق شده از آن، که حاوی داده‌های مربوط به رویداد است.</li></ul>\n",
    "<p>معمولا از delegate پیش‌فرض <code>EventHandler</code> یا نسخه‌های ژنریک آن استفاده می‌شود. برای مثال:</p>\n",
    "</div>"
   ]
  },
  {
   "cell_type": "code",
   "execution_count": null,
   "metadata": {
    "dotnet_interactive": {
     "language": "csharp"
    },
    "polyglot_notebook": {
     "kernelName": "csharp"
    },
    "vscode": {
     "languageId": "polyglot-notebook"
    }
   },
   "outputs": [],
   "source": [
    "public delegate void EventHandler(object sender, EventArgs e);\n",
    "public delegate void EventHandler<TEventArgs>(object sender, TEventArgs e) \n",
    "    where TEventArgs : EventArgs;"
   ]
  },
  {
   "cell_type": "markdown",
   "metadata": {},
   "source": [
    "<div dir=\"rtl\" style=\"width:90%; margin:auto\">\n",
    "<h3>2. Event Member</h3>\n",
    "<p>رویداد در کلاسی که \"broadcaster\" است، تعریف می‌شود. تعریف رویداد با استفاده از کلمه کلیدی <code>event</code> و نوع delegate مربوطه انجام می‌شود. این تعریف به مصرف‌کنندگان کلاس اجازه می‌دهد که به رویداد مشترک (subscribe) شوند.</p>\n",
    "</div>"
   ]
  },
  {
   "cell_type": "code",
   "execution_count": null,
   "metadata": {
    "dotnet_interactive": {
     "language": "csharp"
    },
    "polyglot_notebook": {
     "kernelName": "csharp"
    },
    "vscode": {
     "languageId": "polyglot-notebook"
    }
   },
   "outputs": [],
   "source": [
    "public event EventHandler TemperatureChanged;"
   ]
  },
  {
   "cell_type": "markdown",
   "metadata": {},
   "source": [
    "<div dir=\"rtl\" style=\"width:90%; margin:auto\">\n",
    "<h3>3. Method to Raise the Event</h3>\n",
    "<p>برای فراخوانی رویداد، معمول است که یک متد محافظت‌شده در کلاس تعریف شود که این کار را انجام دهد. این متد معمولا با پیشوند <code>On</code> نام‌گذاری می‌شود و وظیفه‌اش فراخوانی delegate مربوط به رویداد است. این تکنیک اطمینان می‌دهد که رویدادها به صورت صحیح و در زمان مناسب فراخوانی شوند.</p>\n",
    "</div>"
   ]
  },
  {
   "cell_type": "code",
   "execution_count": null,
   "metadata": {
    "dotnet_interactive": {
     "language": "csharp"
    },
    "polyglot_notebook": {
     "kernelName": "csharp"
    },
    "vscode": {
     "languageId": "polyglot-notebook"
    }
   },
   "outputs": [],
   "source": [
    "protected virtual void OnTemperatureChanged(EventArgs e)\n",
    "{\n",
    "    TemperatureChanged?.Invoke(this, e);\n",
    "}\n"
   ]
  },
  {
   "cell_type": "markdown",
   "metadata": {},
   "source": [
    "<div dir=\"rtl\" style=\"width:90%; margin:auto\">\n",
    "<h3>استفاده از EventArgs</h3>\n",
    "<p>اگر رویداد نیاز به انتقال داده‌های بیشتری دارد، می‌توانید از کلاس‌های مشتق‌شده از <code>EventArgs</code> استفاده کنید تا اطلاعات مورد نیاز را منتقل کنید.</p>\n",
    "</div>"
   ]
  },
  {
   "cell_type": "markdown",
   "metadata": {},
   "source": [
    "<div dir=\"rtl\" style=\"width:90%; margin:auto\">\n",
    "<p>فرض کنید می‌خواهیم یک کلاس به نام <code>Clock</code> تعریف کنیم که هر دقیقه یک رویداد به نام <code>MinutePassed</code> را فراخوانی کند. مشترکان (subscribers) می‌توانند به این رویداد گوش دهند و هر زمان که یک دقیقه گذشت، از آن مطلع شوند. این مثال نه تنها نحوه تعریف یک رویداد و یک delegate را نشان می‌دهد، بلکه چگونگی ارسال داده‌های اضافی را با استفاده از کلاس‌های مشتق‌شده از <code>EventArgs</code> نیز نشان می‌دهد.</p>\n",
    "</div>"
   ]
  },
  {
   "cell_type": "code",
   "execution_count": 1,
   "metadata": {
    "dotnet_interactive": {
     "language": "csharp"
    },
    "polyglot_notebook": {
     "kernelName": "csharp"
    },
    "vscode": {
     "languageId": "polyglot-notebook"
    }
   },
   "outputs": [
    {
     "name": "stdout",
     "output_type": "stream",
     "text": [
      "Minute 1 passed.\r\n"
     ]
    },
    {
     "ename": "Error",
     "evalue": "Command cancelled.",
     "output_type": "error",
     "traceback": [
      "Command cancelled."
     ]
    }
   ],
   "source": [
    "public class MinuteEventArgs : EventArgs\n",
    "{\n",
    "    public int Minute { get; }\n",
    "\n",
    "    public MinuteEventArgs(int minute)\n",
    "    {\n",
    "        Minute = minute;\n",
    "    }\n",
    "}\n",
    "\n",
    "public class Clock //broadcaster\n",
    "{\n",
    "    public event EventHandler<MinuteEventArgs> MinutePassed;\n",
    "\n",
    "    protected virtual void OnMinutePassed(MinuteEventArgs e) \n",
    "    // حتما باید protected virtual باشد\n",
    "    //The name must match the name of the event, prefixed with the word On,\n",
    "    {\n",
    "        MinutePassed?.Invoke(this, e);\n",
    "    }\n",
    "\n",
    "    public void Start()\n",
    "    {\n",
    "        for (int minute = 1; minute <= 60; minute++)\n",
    "        {\n",
    "            OnMinutePassed(new MinuteEventArgs(minute));\n",
    "            System.Threading.Thread.Sleep(60000); // فرض بر این است که هر دوره حلقه یک دقیقه طول می‌کشد.\n",
    "        }\n",
    "    }\n",
    "}\n",
    "\n",
    "public class ClockSubscriber\n",
    "{\n",
    "    public void Subscribe(Clock clock)\n",
    "    {\n",
    "        clock.MinutePassed += HandleMinutePassed;\n",
    "    }\n",
    "\n",
    "    private void HandleMinutePassed(object sender, MinuteEventArgs e)\n",
    "    {\n",
    "        Console.WriteLine($\"Minute {e.Minute} passed.\");\n",
    "    }\n",
    "\n",
    "    public void Unsubscribe(Clock clock)\n",
    "    {\n",
    "        clock.MinutePassed -= HandleMinutePassed;\n",
    "    }\n",
    "}\n",
    "\n",
    "Clock clock = new Clock();\n",
    "ClockSubscriber subscriber = new ClockSubscriber();\n",
    "subscriber.Subscribe(clock);\n",
    "        \n",
    "clock.Start();  // شروع به کار ساعت و فراخوانی رویداد هر دقیقه\n",
    "        \n",
    "//subscriber.Unsubscribe(clock);  // اختیاری: unsubscribing از رویداد\n",
    "\n"
   ]
  },
  {
   "cell_type": "code",
   "execution_count": null,
   "metadata": {
    "dotnet_interactive": {
     "language": "csharp"
    },
    "polyglot_notebook": {
     "kernelName": "csharp"
    },
    "vscode": {
     "languageId": "polyglot-notebook"
    }
   },
   "outputs": [],
   "source": [
    "public class PriceChangedEventArgs : EventArgs\n",
    "{\n",
    "    public readonly decimal LastPrice;\n",
    "    public readonly decimal NewPrice;\n",
    "    public PriceChangedEventArgs (decimal lastPrice, decimal newPrice)\n",
    "    {\n",
    "        LastPrice = lastPrice; NewPrice = newPrice;\n",
    "    }\n",
    "}\n",
    "\n",
    "public class Stock\n",
    "{\n",
    "    string symbol;\n",
    "    decimal price;\n",
    "    public Stock (string symbol) => this.symbol = symbol;\n",
    "\n",
    "    public event EventHandler<PriceChangedEventArgs> PriceChanged;\n",
    "    protected virtual void OnPriceChanged (PriceChangedEventArgs e)\n",
    "    {\n",
    "        PriceChanged?.Invoke (this, e);\n",
    "    }\n",
    "    public decimal Price\n",
    "    {\n",
    "        get => price;\n",
    "        set\n",
    "        {\n",
    "            if (price == value) return;\n",
    "            decimal oldPrice = price;\n",
    "            price = value;\n",
    "            OnPriceChanged (new PriceChangedEventArgs (oldPrice, price));\n",
    "        }\n",
    "    }\n",
    "}\n",
    "\n",
    "Stock stock = new Stock (\"THPW\");\n",
    "stock.Price = 27.10M;\n",
    "// Register with the PriceChanged event\n",
    "stock.PriceChanged += stock_PriceChanged;\n",
    "stock.Price = 31.59M;\n",
    "\n",
    "void stock_PriceChanged (object sender, PriceChangedEventArgs e)\n",
    "{\n",
    "    if ((e.NewPrice - e.LastPrice) / e.LastPrice > 0.1M)\n",
    "        Console.WriteLine (\"Alert, 10% stock price increase!\");\n",
    "}"
   ]
  },
  {
   "cell_type": "markdown",
   "metadata": {},
   "source": [
    "### Event Modifiers"
   ]
  },
  {
   "cell_type": "code",
   "execution_count": null,
   "metadata": {
    "dotnet_interactive": {
     "language": "csharp"
    },
    "polyglot_notebook": {
     "kernelName": "csharp"
    },
    "vscode": {
     "languageId": "polyglot-notebook"
    }
   },
   "outputs": [],
   "source": [
    "//Like methods, events can be virtual, overridden, abstract, or sealed. \n",
    "//Events can also be static:\n",
    "public class Foo\n",
    "{\n",
    "    public static event EventHandler<EventArgs> StaticEvent;\n",
    "    public virtual event EventHandler<EventArgs> VirtualEvent;\n",
    "}"
   ]
  }
 ],
 "metadata": {
  "kernelspec": {
   "display_name": ".NET (C#)",
   "language": "C#",
   "name": ".net-csharp"
  },
  "language_info": {
   "name": "python"
  },
  "polyglot_notebook": {
   "kernelInfo": {
    "defaultKernelName": "csharp",
    "items": [
     {
      "aliases": [],
      "name": "csharp"
     }
    ]
   }
  }
 },
 "nbformat": 4,
 "nbformat_minor": 2
}
