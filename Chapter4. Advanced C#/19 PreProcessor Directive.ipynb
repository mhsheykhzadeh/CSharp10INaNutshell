{
 "cells": [
  {
   "cell_type": "markdown",
   "metadata": {},
   "source": [
    "<div dir=\"rtl\" style=\"width:90%; margin:auto\">\n",
    "<p>\n",
    "(Preprocessor Directives) در زبان برنامه‌نویسی C# به کامپایلر اطلاعات اضافی در مورد بخش‌های مختلف کد می‌دهند. این دستورالعمل‌ها معمولاً با علامت <code>#</code> شروع می‌شوند و یکی از رایج‌ترین استفاده‌های آنها، دستورالعمل‌های شرطی (conditional directives) هستند. این دستورالعمل‌های شرطی روشی را فراهم می‌کنند تا بتوانیم بخش‌هایی از کد را بر اساس شرایط خاصی در زمان کامپایل کردن کد، شامل یا مستثنی کنیم.\n",
    "</p>\n",
    "\n",
    "<p><strong><code>#define</code> و <code>#undef</code></strong>:</p>\n",
    "\n",
    "<ul><li>با استفاده از <code>#define</code> می‌توانیم یک نماد (symbol) را تعریف کنیم.</li><li>با استفاده از <code>#undef</code> می‌توانیم یک نماد را از تعریف خارج کنیم.</li></ul>\n",
    "</div>"
   ]
  },
  {
   "cell_type": "code",
   "execution_count": null,
   "metadata": {
    "dotnet_interactive": {
     "language": "csharp"
    },
    "polyglot_notebook": {
     "kernelName": "csharp"
    },
    "vscode": {
     "languageId": "polyglot-notebook"
    }
   },
   "outputs": [],
   "source": [
    "#define DEBUG\n",
    "#undef TRACE"
   ]
  },
  {
   "cell_type": "code",
   "execution_count": null,
   "metadata": {
    "dotnet_interactive": {
     "language": "html"
    },
    "polyglot_notebook": {
     "kernelName": "html"
    },
    "vscode": {
     "languageId": "polyglot-notebook"
    }
   },
   "outputs": [],
   "source": [
    "<!-- ما می توانیم نمادها را در csproj هم به این شکل تعریف کنیم -->\n",
    "<PropertyGroup>\n",
    "<DefineConstants>DEBUG;ANOTHERSYMBOL</DefineConstants>\n",
    "</PropertyGroup>"
   ]
  },
  {
   "cell_type": "markdown",
   "metadata": {},
   "source": [
    "<div dir=\"rtl\" style=\"width:90%; margin:auto\">\n",
    "<p><strong><code>#if</code>، <code>#else</code>، <code>#elif</code> و <code>#endif</code></strong>:</p>\n",
    "\n",
    "<ul><li>این دستورالعمل‌ها به ما اجازه می‌دهند تا بخش‌های خاصی از کد را بر اساس اینکه آیا یک نماد تعریف شده است یا نه، شامل یا مستثنی کنیم.</li></ul>\n",
    "</div>"
   ]
  },
  {
   "cell_type": "code",
   "execution_count": null,
   "metadata": {
    "dotnet_interactive": {
     "language": "csharp"
    },
    "polyglot_notebook": {
     "kernelName": "csharp"
    },
    "vscode": {
     "languageId": "polyglot-notebook"
    }
   },
   "outputs": [],
   "source": [
    "#if DEBUG\n",
    "    Console.WriteLine(\"Debug mode is on\");\n",
    "#elif TRACE\n",
    "    // do somthing\n",
    "#else\n",
    "    Console.WriteLine(\"Debug mode is off\");\n",
    "#endif\n",
    "\n",
    "#if TESTMODE && !DEBUG \n",
    "    //do somthing\n",
    "#endif\n"
   ]
  },
  {
   "cell_type": "markdown",
   "metadata": {},
   "source": [
    "<div dir=\"rtl\" style=\"width:90%; margin:auto\">\n",
    "<p><strong><code>#region</code> و <code>#endregion</code></strong>:</p>\n",
    "<ul><li>این دستورالعمل‌ها به ما اجازه می‌دهند تا بخش‌هایی از کد را گروه‌بندی کنیم تا کد خواناتر و سازماندهی‌شده‌تر شود. این معمولاً توسط ابزارهای ویرایش کد و IDEها برای جمع کردن یا باز کردن (collapsing/expanding) بخش‌هایی از کد استفاده می‌شود.</li></ul>\n",
    "</div>"
   ]
  },
  {
   "cell_type": "code",
   "execution_count": null,
   "metadata": {
    "dotnet_interactive": {
     "language": "csharp"
    },
    "polyglot_notebook": {
     "kernelName": "csharp"
    },
    "vscode": {
     "languageId": "polyglot-notebook"
    }
   },
   "outputs": [],
   "source": [
    "#region MyRegion\n",
    "    // Your code here\n",
    "#endregion\n"
   ]
  },
  {
   "cell_type": "markdown",
   "metadata": {},
   "source": [
    "<div dir=\"rtl\" style=\"width:90%; margin:auto\">\n",
    "<p><strong><code>#warning</code> و <code>#error</code></strong>:</p>\n",
    "<ul><li>این دستورالعمل‌ها به ما اجازه می‌دهند تا اخطارها یا خطاهای خاصی را در زمان کامپایلر تولید کنیم.</li></ul>\n",
    "</div>"
   ]
  },
  {
   "cell_type": "code",
   "execution_count": null,
   "metadata": {
    "dotnet_interactive": {
     "language": "csharp"
    },
    "polyglot_notebook": {
     "kernelName": "csharp"
    },
    "vscode": {
     "languageId": "polyglot-notebook"
    }
   },
   "outputs": [],
   "source": [
    "#warning This is a warning message\n",
    "#error This is an error message"
   ]
  }
 ],
 "metadata": {
  "kernelspec": {
   "display_name": ".NET (C#)",
   "language": "C#",
   "name": ".net-csharp"
  },
  "language_info": {
   "name": "python"
  },
  "polyglot_notebook": {
   "kernelInfo": {
    "defaultKernelName": "csharp",
    "items": [
     {
      "aliases": [],
      "name": "csharp"
     }
    ]
   }
  }
 },
 "nbformat": 4,
 "nbformat_minor": 2
}
