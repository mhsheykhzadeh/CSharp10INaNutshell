{
 "cells": [
  {
   "cell_type": "markdown",
   "metadata": {},
   "source": [
    "***Attributes*** are an **extensible mechanism** for adding `custom information` to code elements (`assemblies`, `types`, `members`, `return values`, `parameters`, and `generic type parameters`)"
   ]
  },
  {
   "cell_type": "markdown",
   "metadata": {},
   "source": [
    "### Attribute Classes"
   ]
  },
  {
   "cell_type": "markdown",
   "metadata": {},
   "source": [
    "An ***attribute*** is defined by a class that `inherits` (directly or indirectly) from the abstract class `System.Attribute`."
   ]
  },
  {
   "cell_type": "code",
   "execution_count": null,
   "metadata": {
    "dotnet_interactive": {
     "language": "csharp"
    },
    "polyglot_notebook": {
     "kernelName": "csharp"
    },
    "vscode": {
     "languageId": "polyglot-notebook"
    }
   },
   "outputs": [],
   "source": [
    "//the following attaches the ObsoleteAttribute to the Foo class\n",
    "\n",
    "[ObsoleteAttribute]\n",
    "public class Foo {}"
   ]
  },
  {
   "cell_type": "markdown",
   "metadata": {},
   "source": [
    "***By convention***, all attribute types `end` in the word `Attribute`. C# `recognizes` this and allows you to `omit` the suffix when attaching an attribute"
   ]
  },
  {
   "cell_type": "code",
   "execution_count": null,
   "metadata": {
    "dotnet_interactive": {
     "language": "csharp"
    },
    "polyglot_notebook": {
     "kernelName": "csharp"
    },
    "vscode": {
     "languageId": "polyglot-notebook"
    }
   },
   "outputs": [],
   "source": [
    "[Obsolete]\n",
    "public class Foo {}\n",
    "\n",
    "//ObsoleteAttribute is a type declared in the System namespace as follows\n",
    "\n",
    "public sealed class ObsoleteAttribute : Attribute {}"
   ]
  },
  {
   "cell_type": "markdown",
   "metadata": {},
   "source": [
    "***Attribute parameters*** fall into one of two categories: `positional` or `named`."
   ]
  },
  {
   "cell_type": "code",
   "execution_count": null,
   "metadata": {
    "dotnet_interactive": {
     "language": "csharp"
    },
    "polyglot_notebook": {
     "kernelName": "csharp"
    },
    "vscode": {
     "languageId": "polyglot-notebook"
    }
   },
   "outputs": [],
   "source": [
    "public class MyAttribute : Attribute\n",
    "{\n",
    "    public MyAttribute(string positionalParam1)\n",
    "    {\n",
    "        // constructor implementation\n",
    "    }\n",
    "\n",
    "    public MyAttribute(string positionalParam1, int positionalParam2)\n",
    "    {\n",
    "        // constructor implementation\n",
    "    }\n",
    "\n",
    "    public int NamedParam1 { get; set; }\n",
    "    public string NamedParam2 { get; set; }\n",
    "}\n",
    "\n",
    "[MyAttribute(\"value1\"/*constructor parameter*/, NamedParam1 = 42, NamedParam2 = \"value2\")]\n",
    "public class MyClass\n",
    "{\n",
    "    // class implementation\n",
    "}\n",
    "\n",
    "[MyAttribute(\"value1\"/*constructor parameter*/, 10/*constructor parameter*/, NamedParam1 = 42)]\n",
    "public void MyMethod()\n",
    "{\n",
    "    // method implementation\n",
    "}\n"
   ]
  },
  {
   "cell_type": "markdown",
   "metadata": {},
   "source": [
    "### Applying Attributes to Assemblies and Backing Fields"
   ]
  },
  {
   "cell_type": "code",
   "execution_count": null,
   "metadata": {
    "dotnet_interactive": {
     "language": "csharp"
    },
    "polyglot_notebook": {
     "kernelName": "csharp"
    },
    "vscode": {
     "languageId": "polyglot-notebook"
    }
   },
   "outputs": [],
   "source": [
    "//how you can use the AssemblyFileVersion attribute to attach a version to the assembly\n",
    "\n",
    "[assembly: AssemblyFileVersion (\"1.2.3.4\")]\n",
    "\n",
    "\n",
    "public class Test\n",
    "{\n",
    "    [field:NonSerialized]//apply to backing field\n",
    "    public int MyProperty { get; set; }\n",
    "}"
   ]
  },
  {
   "cell_type": "markdown",
   "metadata": {},
   "source": [
    "### Applying Attributes to Lambda Expressions (C# 10)"
   ]
  },
  {
   "cell_type": "code",
   "execution_count": null,
   "metadata": {
    "dotnet_interactive": {
     "language": "csharp"
    },
    "polyglot_notebook": {
     "kernelName": "csharp"
    },
    "vscode": {
     "languageId": "polyglot-notebook"
    }
   },
   "outputs": [],
   "source": [
    "Action<int> a = \n",
    "    [Description (\"Method\")]\n",
    "    [return: Description (\"Return value\")]\n",
    "    ([Description (\"Parameter\")]int x) => Console.Write (x);"
   ]
  },
  {
   "cell_type": "markdown",
   "metadata": {},
   "source": [
    "### Specifying Multiple Attributes"
   ]
  },
  {
   "cell_type": "code",
   "execution_count": null,
   "metadata": {
    "dotnet_interactive": {
     "language": "csharp"
    },
    "polyglot_notebook": {
     "kernelName": "csharp"
    },
    "vscode": {
     "languageId": "polyglot-notebook"
    }
   },
   "outputs": [],
   "source": [
    "[Serializable, Obsolete, CLSCompliant(false)]\n",
    "public class Bar1 {}\n",
    "\n",
    "[Serializable] [Obsolete] [CLSCompliant(false)]\n",
    "public class Bar2 { }\n",
    "\n",
    "[Serializable, Obsolete]\n",
    "[CLSCompliant(false)]\n",
    "public class Bar3 { }"
   ]
  }
 ],
 "metadata": {
  "kernelspec": {
   "display_name": ".NET (C#)",
   "language": "C#",
   "name": ".net-csharp"
  },
  "language_info": {
   "name": "python"
  },
  "polyglot_notebook": {
   "kernelInfo": {
    "defaultKernelName": "csharp",
    "items": [
     {
      "aliases": [],
      "name": "csharp"
     }
    ]
   }
  }
 },
 "nbformat": 4,
 "nbformat_minor": 2
}
