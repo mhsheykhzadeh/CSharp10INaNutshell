{
 "cells": [
  {
   "cell_type": "markdown",
   "metadata": {},
   "source": [
    "### Enumeration"
   ]
  },
  {
   "cell_type": "code",
   "execution_count": null,
   "metadata": {
    "dotnet_interactive": {
     "language": "csharp"
    },
    "polyglot_notebook": {
     "kernelName": "csharp"
    },
    "vscode": {
     "languageId": "polyglot-notebook"
    }
   },
   "outputs": [],
   "source": [
    "public class IntCounterEnumeratorWithoutIEnumerator\n",
    "{\n",
    "    private int[] items;\n",
    "    private int position = -1;\n",
    "\n",
    "    public IntCounterEnumeratorWithoutIEnumerator(int counter)\n",
    "    {\n",
    "        items = new int[counter];\n",
    "        for (int i = 0; i < counter; i++)\n",
    "            items[i] = i + 1;\n",
    "        //position = 0;\n",
    "    }\n",
    "\n",
    "    public int Current\n",
    "    {\n",
    "        get\n",
    "        {\n",
    "            try\n",
    "            {\n",
    "                return items[position];\n",
    "            }\n",
    "            catch (IndexOutOfRangeException)\n",
    "            {\n",
    "                throw new InvalidOperationException();\n",
    "            }\n",
    "        }\n",
    "    }\n",
    "\n",
    "    public bool MoveNext()\n",
    "    {\n",
    "        position++;\n",
    "        return (position < items.Length);\n",
    "    }\n",
    "}\n",
    "\n",
    "var countEnumerator = new IntCounterEnumeratorWithoutIEnumerator(20);\n",
    "while (countEnumerator.MoveNext())\n",
    "    Console.WriteLine(countEnumerator.Current);"
   ]
  },
  {
   "cell_type": "markdown",
   "metadata": {},
   "source": [
    "An ***enumerator*** is a read-only, forward-only `cursor` over a `sequence of values`."
   ]
  },
  {
   "cell_type": "markdown",
   "metadata": {},
   "source": [
    "a type as an ***enumerator*** if it does any of the following:\n",
    "\n",
    "- Has a `public` parameterless method named `MoveNext` and property called `Current`  \n",
    " \n",
    "- Implements `System.Collections.Generic.IEnumerator<T> ` \n",
    "\n",
    "- Implements `System.Collections.IEnumerator`"
   ]
  },
  {
   "cell_type": "code",
   "execution_count": 2,
   "metadata": {
    "dotnet_interactive": {
     "language": "csharp"
    },
    "polyglot_notebook": {
     "kernelName": "csharp"
    },
    "vscode": {
     "languageId": "polyglot-notebook"
    }
   },
   "outputs": [],
   "source": [
    "public class IntCounterEnumerator : IEnumerator<int>\n",
    "{\n",
    "    private int[] items;\n",
    "    private int position = -1;\n",
    "\n",
    "    public IntCounterEnumerator(int counter)\n",
    "    {\n",
    "        items = new int[counter];\n",
    "        for (int i = 0; i < counter; i++)\n",
    "            items[i] = i + 1;\n",
    "    }\n",
    "\n",
    "    public int Current\n",
    "    {\n",
    "        get\n",
    "        {\n",
    "            try\n",
    "            {\n",
    "                return items[position];\n",
    "            }\n",
    "            catch (IndexOutOfRangeException)\n",
    "            {\n",
    "                throw new InvalidOperationException();\n",
    "            }\n",
    "        }\n",
    "    }\n",
    "\n",
    "    object IEnumerator.Current => Current;\n",
    "\n",
    "    public void Dispose()\n",
    "    {\n",
    "        Reset();\n",
    "    }\n",
    "\n",
    "    public bool MoveNext()\n",
    "    {\n",
    "        position++;\n",
    "        return (position < items.Length);\n",
    "    }\n",
    "\n",
    "    public void Reset()\n",
    "    {\n",
    "        position = -1;\n",
    "    }\n",
    "}"
   ]
  },
  {
   "cell_type": "markdown",
   "metadata": {},
   "source": [
    "The ***foreach*** statement `iterates` over an `enumerable` object."
   ]
  },
  {
   "cell_type": "markdown",
   "metadata": {},
   "source": [
    "type as ***enumerable*** if it does any of the following:  \n",
    "\n",
    "- Has a `public` parameterless method named `GetEnumerator` that returns an `enumerator`  \n",
    "  \n",
    "- Implements `System.Collections.Generic.IEnumerable<T> ` \n",
    "  \n",
    "- Implements `System.Collections.IEnumerable`  \n",
    "\n",
    "- (From C# 9) Can bind to an `extension method` named `GetEnumerator` that returns an `enumerator`\n"
   ]
  },
  {
   "cell_type": "code",
   "execution_count": 3,
   "metadata": {
    "dotnet_interactive": {
     "language": "csharp"
    },
    "polyglot_notebook": {
     "kernelName": "csharp"
    },
    "vscode": {
     "languageId": "polyglot-notebook"
    }
   },
   "outputs": [
    {
     "name": "stdout",
     "output_type": "stream",
     "text": [
      "1\n",
      "2\n",
      "3\n",
      "4\n",
      "5\n",
      "6\n",
      "7\n",
      "8\n",
      "9\n",
      "10\n",
      "11\n",
      "12\n",
      "13\n",
      "14\n",
      "15\n",
      "16\n",
      "17\n",
      "18\n",
      "19\n",
      "20\n"
     ]
    }
   ],
   "source": [
    "public class IntCounter : IEnumerable<int>\n",
    "{\n",
    "    private int _counter;\n",
    "\n",
    "    public IntCounter(int count)\n",
    "    {\n",
    "        _counter = count;\n",
    "    }\n",
    "\n",
    "    public int Counter => _counter;\n",
    "\n",
    "    public IEnumerator<int> GetEnumerator()\n",
    "    {\n",
    "        return new IntCounterEnumerator(_counter);\n",
    "    }\n",
    "\n",
    "    IEnumerator IEnumerable.GetEnumerator()\n",
    "    {\n",
    "        return GetEnumerator();\n",
    "    }\n",
    "}\n",
    "\n",
    "var counter = new IntCounter(20);\n",
    "\n",
    "foreach (var count in counter)\n",
    "    Console.WriteLine(count);"
   ]
  },
  {
   "cell_type": "code",
   "execution_count": null,
   "metadata": {
    "dotnet_interactive": {
     "language": "csharp"
    },
    "polyglot_notebook": {
     "kernelName": "csharp"
    },
    "vscode": {
     "languageId": "polyglot-notebook"
    }
   },
   "outputs": [],
   "source": [
    "foreach (char c in \"beer\")\n",
    "    Console.WriteLine (c);\n",
    "\n",
    "using (var enumerator = \"beer\".GetEnumerator())\n",
    "{\n",
    "    while (enumerator.MoveNext())\n",
    "    {\n",
    "        var element = enumerator.Current;\n",
    "        Console.WriteLine (element);\n",
    "    }\n",
    "}\n"
   ]
  },
  {
   "cell_type": "markdown",
   "metadata": {},
   "source": [
    "### Collection Initializers"
   ]
  },
  {
   "cell_type": "code",
   "execution_count": null,
   "metadata": {
    "dotnet_interactive": {
     "language": "csharp"
    },
    "polyglot_notebook": {
     "kernelName": "csharp"
    },
    "vscode": {
     "languageId": "polyglot-notebook"
    }
   },
   "outputs": [],
   "source": [
    "List<int> list = new List<int> {1, 2, 3};"
   ]
  },
  {
   "cell_type": "code",
   "execution_count": null,
   "metadata": {
    "dotnet_interactive": {
     "language": "csharp"
    },
    "polyglot_notebook": {
     "kernelName": "csharp"
    },
    "vscode": {
     "languageId": "polyglot-notebook"
    }
   },
   "outputs": [],
   "source": [
    "//The compiler translates this to the following:\n",
    "\n",
    "List<int> list = new List<int>();\n",
    "list.Add (1);\n",
    "list.Add (2);\n",
    "list.Add (3);"
   ]
  },
  {
   "cell_type": "code",
   "execution_count": null,
   "metadata": {
    "dotnet_interactive": {
     "language": "csharp"
    },
    "polyglot_notebook": {
     "kernelName": "csharp"
    },
    "vscode": {
     "languageId": "polyglot-notebook"
    }
   },
   "outputs": [],
   "source": [
    "var dict = new Dictionary<int, string>()\n",
    "{\n",
    "{ 5, \"five\" },\n",
    "{ 10, \"ten\" }\n",
    "};"
   ]
  },
  {
   "cell_type": "markdown",
   "metadata": {},
   "source": [
    "### Iterators"
   ]
  },
  {
   "cell_type": "markdown",
   "metadata": {},
   "source": [
    "`foreach` statement is a `consumer` of an `enumerator`  \n",
    "  \n",
    "> ***iterator*** is a `producer` of an `enumerator`"
   ]
  },
  {
   "cell_type": "code",
   "execution_count": null,
   "metadata": {
    "dotnet_interactive": {
     "language": "csharp"
    },
    "polyglot_notebook": {
     "kernelName": "csharp"
    },
    "vscode": {
     "languageId": "polyglot-notebook"
    }
   },
   "outputs": [],
   "source": [
    "IEnumerable<int> Fibs (int fibCount)\n",
    "{\n",
    "    for (int i = 0, prevFib = 1, curFib = 1; i < fibCount; i++)\n",
    "    {\n",
    "        yield return prevFib;\n",
    "        int newFib = prevFib+curFib;\n",
    "        prevFib = curFib;\n",
    "        curFib = newFib;\n",
    "    }\n",
    "}\n",
    "\n",
    "foreach(var item in Fibs(20))\n",
    "{\n",
    "    Console.WriteLine(item);\n",
    "}"
   ]
  },
  {
   "cell_type": "code",
   "execution_count": null,
   "metadata": {
    "dotnet_interactive": {
     "language": "csharp"
    },
    "polyglot_notebook": {
     "kernelName": "csharp"
    },
    "vscode": {
     "languageId": "polyglot-notebook"
    }
   },
   "outputs": [],
   "source": [
    "//yield can return IEnumerator\n",
    "IEnumerator<int> Fibs (int fibCount)\n",
    "{\n",
    "    for (int i = 0, prevFib = 1, curFib = 1; i < fibCount; i++)\n",
    "    {\n",
    "        yield return prevFib;\n",
    "        int newFib = prevFib+curFib;\n",
    "        prevFib = curFib;\n",
    "        curFib = newFib;\n",
    "    }\n",
    "}"
   ]
  },
  {
   "cell_type": "markdown",
   "metadata": {},
   "source": [
    "<div dir=\"rtl\" style=\"width: 90%; margin: auto;\">\n",
    "<p>\n",
    "<code>return</code> می گوید : این مقداری است که از من خواستید از این تابع برگردانم\n",
    "<p>\n",
    "<p>\n",
    "<code>yeild return</code> می گوید : این عنصر بعدی است که از من خواستید از این شمارشگر برگردانم\n",
    "<p>\n",
    "</div>"
   ]
  },
  {
   "cell_type": "markdown",
   "metadata": {},
   "source": [
    "On each ***yield statement***, `control` is `returned` to the `caller`, but the callee’s state is `maintained` so that the method can continue executing as soon as the caller enumerates the next element."
   ]
  },
  {
   "cell_type": "markdown",
   "metadata": {},
   "source": [
    "***compiler*** converts `iterator` methods into private classes that ***implement*** `IEnumerable<T>` and/or `IEnumerator<T>`."
   ]
  },
  {
   "cell_type": "markdown",
   "metadata": {},
   "source": [
    "### Iterator Semantics"
   ]
  },
  {
   "cell_type": "markdown",
   "metadata": {},
   "source": [
    "An ***iterator*** is a `method`, `property`, or `indexer` that contains **one** or **more** `yield` statements."
   ]
  },
  {
   "cell_type": "markdown",
   "metadata": {},
   "source": [
    "An ***iterator*** must return one of the following four interfaces  \n",
    "- `System.Collections.IEnumerable`  \n",
    "- `System.Collections.Generic.IEnumerable<T>`  \n",
    "- `System.Collections.IEnumerator`  \n",
    "- `System.Collections.Generic.IEnumerator<T>`"
   ]
  },
  {
   "cell_type": "code",
   "execution_count": null,
   "metadata": {
    "dotnet_interactive": {
     "language": "csharp"
    },
    "polyglot_notebook": {
     "kernelName": "csharp"
    },
    "vscode": {
     "languageId": "polyglot-notebook"
    }
   },
   "outputs": [],
   "source": [
    "IEnumerable<string> Foo()\n",
    "{\n",
    "    yield return \"One\";\n",
    "    yield return \"Two\";\n",
    "    yield return \"Three\";\n",
    "}\n",
    "\n",
    "foreach (string s in Foo())\n",
    "Console.WriteLine(s); // Prints \"One\",\"Two\",\"Three\""
   ]
  },
  {
   "cell_type": "markdown",
   "metadata": {},
   "source": [
    "#### yield break"
   ]
  },
  {
   "cell_type": "code",
   "execution_count": null,
   "metadata": {
    "dotnet_interactive": {
     "language": "csharp"
    },
    "polyglot_notebook": {
     "kernelName": "csharp"
    },
    "vscode": {
     "languageId": "polyglot-notebook"
    }
   },
   "outputs": [],
   "source": [
    "//you can't use return in iterator\n",
    "//instead you must use the `yield break`\n",
    "\n",
    "IEnumerable<string> Foo (bool breakEarly)\n",
    "{\n",
    "    yield return \"One\";\n",
    "    yield return \"Two\";\n",
    "    if (breakEarly)\n",
    "        yield break;\n",
    "    yield return \"Three\";\n",
    "}"
   ]
  },
  {
   "cell_type": "markdown",
   "metadata": {},
   "source": [
    "#### Iterators and try/catch/finally blocks"
   ]
  },
  {
   "cell_type": "code",
   "execution_count": null,
   "metadata": {
    "dotnet_interactive": {
     "language": "csharp"
    },
    "polyglot_notebook": {
     "kernelName": "csharp"
    },
    "vscode": {
     "languageId": "polyglot-notebook"
    }
   },
   "outputs": [],
   "source": [
    "//A yield return statement cannot appear in a try block that has a catch clause:\n",
    "\n",
    "//because he compiler must translate iterators into ordinary classes\n",
    "//with MoveNext, Current, and Dispose members\n",
    "\n",
    "IEnumerable<string> Foo()\n",
    "{\n",
    "    try { yield return \"One\"; } // Illegal\n",
    "    catch {  }\n",
    "}"
   ]
  },
  {
   "cell_type": "code",
   "execution_count": null,
   "metadata": {
    "dotnet_interactive": {
     "language": "csharp"
    },
    "polyglot_notebook": {
     "kernelName": "csharp"
    },
    "vscode": {
     "languageId": "polyglot-notebook"
    }
   },
   "outputs": [],
   "source": [
    "//this is ok, because The code in the finally block executes when \n",
    "//the consuming enumerator reaches the end of the sequence or is disposed.\n",
    "\n",
    "IEnumerable<string> Foo()\n",
    "{\n",
    "    try { yield return \"One\"; } // OK\n",
    "    finally {  }\n",
    "}"
   ]
  },
  {
   "cell_type": "markdown",
   "metadata": {},
   "source": [
    "### Composing Sequences"
   ]
  },
  {
   "cell_type": "code",
   "execution_count": null,
   "metadata": {
    "dotnet_interactive": {
     "language": "csharp"
    },
    "polyglot_notebook": {
     "kernelName": "csharp"
    },
    "vscode": {
     "languageId": "polyglot-notebook"
    }
   },
   "outputs": [],
   "source": [
    "IEnumerable<int> Fibs (int fibCount)\n",
    "{\n",
    "    for (int i = 0, prevFib = 1, curFib = 1; i < fibCount; i++)\n",
    "    {\n",
    "        yield return prevFib;\n",
    "        int newFib = prevFib+curFib;\n",
    "        prevFib = curFib;\n",
    "        curFib = newFib;\n",
    "    }\n",
    "}\n",
    "\n",
    "IEnumerable<int> EvenNumbersOnly (IEnumerable<int> sequence)\n",
    "{\n",
    "    foreach (int x in sequence)\n",
    "        if ((x % 2) == 0)\n",
    "            yield return x;\n",
    "}\n",
    "\n",
    "foreach (int fib in EvenNumbersOnly (Fibs(6)))\n",
    "    Console.WriteLine (fib);"
   ]
  },
  {
   "attachments": {
    "image.png": {
     "image/png": "[encoded data removed]"
    }
   },
   "cell_type": "markdown",
   "metadata": {},
   "source": [
    "![image.png](attachment:image.png)"
   ]
  }
 ],
 "metadata": {
  "language_info": {
   "name": "python"
  }
 },
 "nbformat": 4,
 "nbformat_minor": 2
}
