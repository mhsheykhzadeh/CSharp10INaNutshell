{
 "cells": [
  {
   "cell_type": "markdown",
   "metadata": {},
   "source": [
    "**Reference types** can represent a `nonexistent value` with a `null` reference.  \n",
    "***Value types***, however, `cannot` ordinarily represent `null values`"
   ]
  },
  {
   "cell_type": "code",
   "execution_count": 2,
   "metadata": {
    "dotnet_interactive": {
     "language": "csharp"
    },
    "polyglot_notebook": {
     "kernelName": "csharp"
    },
    "vscode": {
     "languageId": "polyglot-notebook"
    }
   },
   "outputs": [
    {
     "ename": "Error",
     "evalue": "(2,9): error CS0037: Cannot convert null to 'int' because it is a non-nullable value type",
     "output_type": "error",
     "traceback": [
      "(2,9): error CS0037: Cannot convert null to 'int' because it is a non-nullable value type"
     ]
    }
   ],
   "source": [
    "string s = null; // OK, Reference Type\n",
    "int i = null; // Compile Error, Value Type cannot be null"
   ]
  },
  {
   "cell_type": "markdown",
   "metadata": {},
   "source": [
    "To represent **null** in a ***value type***, you must use a special construct called a `nullable type`."
   ]
  },
  {
   "cell_type": "code",
   "execution_count": null,
   "metadata": {
    "dotnet_interactive": {
     "language": "csharp"
    },
    "polyglot_notebook": {
     "kernelName": "csharp"
    },
    "vscode": {
     "languageId": "polyglot-notebook"
    }
   },
   "outputs": [],
   "source": [
    "int? i = null; // OK, Nullable Type\n",
    "Console.WriteLine (i == null); // True"
   ]
  },
  {
   "cell_type": "markdown",
   "metadata": {},
   "source": [
    "### Nullable<T> Struct"
   ]
  },
  {
   "cell_type": "markdown",
   "metadata": {},
   "source": [
    "`T?` translates into `System.Nullable<T>`, which is a lightweight `immutable` structure, having only two fields, to represent `Value` and `HasValue`."
   ]
  },
  {
   "cell_type": "code",
   "execution_count": null,
   "metadata": {
    "dotnet_interactive": {
     "language": "csharp"
    },
    "polyglot_notebook": {
     "kernelName": "csharp"
    },
    "vscode": {
     "languageId": "polyglot-notebook"
    }
   },
   "outputs": [],
   "source": [
    "public struct Nullable<T> where T : struct\n",
    "{\n",
    "    public T Value {get;}\n",
    "    public bool HasValue {get;}\n",
    "    public T GetValueOrDefault();\n",
    "    public T GetValueOrDefault (T defaultValue);\n",
    "}"
   ]
  },
  {
   "cell_type": "code",
   "execution_count": null,
   "metadata": {
    "dotnet_interactive": {
     "language": "csharp"
    },
    "polyglot_notebook": {
     "kernelName": "csharp"
    },
    "vscode": {
     "languageId": "polyglot-notebook"
    }
   },
   "outputs": [],
   "source": [
    "//int? i = null;\n",
    "//Console.WriteLine (i == null);\n",
    "//translates to the following:\n",
    "\n",
    "Nullable<int> i = new Nullable<int>();\n",
    "Console.WriteLine (! i.HasValue); // True"
   ]
  },
  {
   "cell_type": "markdown",
   "metadata": {},
   "source": [
    "### Implicit and Explicit Nullable Conversions"
   ]
  },
  {
   "cell_type": "code",
   "execution_count": null,
   "metadata": {
    "dotnet_interactive": {
     "language": "csharp"
    },
    "polyglot_notebook": {
     "kernelName": "csharp"
    },
    "vscode": {
     "languageId": "polyglot-notebook"
    }
   },
   "outputs": [],
   "source": [
    "//The conversion from T to T? is implicit, \n",
    "//while the conversion from T? to T is explicit\n",
    "\n",
    "int? x = 5; // implicit\n",
    "int y = (int)x; // explicit"
   ]
  },
  {
   "cell_type": "markdown",
   "metadata": {},
   "source": [
    "### Boxing and Unboxing Nullable Values"
   ]
  },
  {
   "cell_type": "markdown",
   "metadata": {},
   "source": [
    "When `T?` is boxed, the **boxed value** on the **heap** contains `T`, `not T?`.   \n",
    "because a **boxed value** is a `reference type` that can already express `null`."
   ]
  },
  {
   "cell_type": "markdown",
   "metadata": {},
   "source": [
    "### Operator Lifting"
   ]
  },
  {
   "cell_type": "markdown",
   "metadata": {},
   "source": [
    "The `Nullable<T>` struct **does not define** operators such as `<`, `>`, or even `==`."
   ]
  },
  {
   "cell_type": "code",
   "execution_count": 2,
   "metadata": {
    "dotnet_interactive": {
     "language": "csharp"
    },
    "polyglot_notebook": {
     "kernelName": "csharp"
    },
    "vscode": {
     "languageId": "polyglot-notebook"
    }
   },
   "outputs": [],
   "source": [
    "int? x = 5;\n",
    "int? y = 10;\n",
    "bool b = x < y; // true\n",
    "//why???"
   ]
  },
  {
   "cell_type": "code",
   "execution_count": 3,
   "metadata": {
    "dotnet_interactive": {
     "language": "csharp"
    },
    "polyglot_notebook": {
     "kernelName": "csharp"
    },
    "vscode": {
     "languageId": "polyglot-notebook"
    }
   },
   "outputs": [],
   "source": [
    "/*This works because the compiler borrows or “lifts” the less-than operator from\n",
    "the underlying value type.*/\n",
    "bool b = (x.HasValue && y.HasValue) ? (x.Value < y.Value) : false;"
   ]
  },
  {
   "cell_type": "markdown",
   "metadata": {},
   "source": [
    "***Operator lifting*** means that you can `implicitly` use `T’s operators` on `T?`."
   ]
  },
  {
   "cell_type": "code",
   "execution_count": 3,
   "metadata": {
    "dotnet_interactive": {
     "language": "csharp"
    },
    "polyglot_notebook": {
     "kernelName": "csharp"
    },
    "vscode": {
     "languageId": "polyglot-notebook"
    }
   },
   "outputs": [
    {
     "name": "stdout",
     "output_type": "stream",
     "text": [
      "False\n",
      "False\n",
      "\n"
     ]
    }
   ],
   "source": [
    "int? y = null;\n",
    "\n",
    "Console.WriteLine (y < 6); //????\n",
    "Console.WriteLine (y > 6); // ???\n",
    "\n",
    "Console.WriteLine (y + 5); // ???"
   ]
  },
  {
   "cell_type": "code",
   "execution_count": null,
   "metadata": {
    "dotnet_interactive": {
     "language": "csharp"
    },
    "polyglot_notebook": {
     "kernelName": "csharp"
    },
    "vscode": {
     "languageId": "polyglot-notebook"
    }
   },
   "outputs": [],
   "source": [
    "// int? c = x + y;\n",
    "// translate to \n",
    "\n",
    "int? c = (x.HasValue && y.HasValue)\n",
    "? (int?) (x.Value + y.Value)\n",
    ": null;"
   ]
  },
  {
   "cell_type": "code",
   "execution_count": null,
   "metadata": {
    "dotnet_interactive": {
     "language": "csharp"
    },
    "polyglot_notebook": {
     "kernelName": "csharp"
    },
    "vscode": {
     "languageId": "polyglot-notebook"
    }
   },
   "outputs": [],
   "source": [
    "//Mixing nullable and non-nullable operators\n",
    "\n",
    "int? a = null;\n",
    "int b = 2;\n",
    "int? c = a + b; // c is null - equivalent to a + (int?)b"
   ]
  },
  {
   "cell_type": "markdown",
   "metadata": {},
   "source": [
    "### bool? with & and | Operators"
   ]
  },
  {
   "cell_type": "code",
   "execution_count": null,
   "metadata": {
    "dotnet_interactive": {
     "language": "csharp"
    },
    "polyglot_notebook": {
     "kernelName": "csharp"
    },
    "vscode": {
     "languageId": "polyglot-notebook"
    }
   },
   "outputs": [],
   "source": [
    "//the & and | operators treat null as an unknown value.\n",
    "\n",
    "bool? n = null;\n",
    "bool? f = false;\n",
    "bool? t = true;\n",
    "Console.WriteLine (n | n); // (null)\n",
    "Console.WriteLine (n | f); // (null)\n",
    "Console.WriteLine (n | t); // True\n",
    "Console.WriteLine (n & n); // (null)\n",
    "Console.WriteLine (n & f); // False\n",
    "Console.WriteLine (n & t); // (null)"
   ]
  },
  {
   "cell_type": "markdown",
   "metadata": {},
   "source": [
    "### Alternatives to Nullable Value Types"
   ]
  },
  {
   "cell_type": "markdown",
   "metadata": {},
   "source": [
    "One of these **strategies** is to designate a `particular` **non-null value** as the `null value`"
   ]
  },
  {
   "cell_type": "code",
   "execution_count": null,
   "metadata": {
    "dotnet_interactive": {
     "language": "csharp"
    },
    "polyglot_notebook": {
     "kernelName": "csharp"
    },
    "vscode": {
     "languageId": "polyglot-notebook"
    }
   },
   "outputs": [],
   "source": [
    "int i = \"Pink\".IndexOf ('b');\n",
    "Console.WriteLine (i); // −1 magic value"
   ]
  }
 ],
 "metadata": {
  "language_info": {
   "name": "python"
  }
 },
 "nbformat": 4,
 "nbformat_minor": 2
}
