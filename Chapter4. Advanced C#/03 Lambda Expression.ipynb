{
 "cells": [
  {
   "cell_type": "markdown",
   "metadata": {},
   "source": [
    "A ***lambda expression*** is an `unnamed method` written in `place of a delegate instance`."
   ]
  },
  {
   "cell_type": "code",
   "execution_count": null,
   "metadata": {
    "dotnet_interactive": {
     "language": "csharp"
    },
    "polyglot_notebook": {
     "kernelName": "csharp"
    },
    "vscode": {
     "languageId": "polyglot-notebook"
    }
   },
   "outputs": [],
   "source": [
    "delegate int Transformer (int i);\n",
    "int Squre (int x) {return x* x;}\n",
    "Transformer sqr = x => x * x;\n",
    "Console.WriteLine (sqr(3));"
   ]
  },
  {
   "cell_type": "code",
   "execution_count": null,
   "metadata": {
    "dotnet_interactive": {
     "language": "csharp"
    },
    "polyglot_notebook": {
     "kernelName": "csharp"
    },
    "vscode": {
     "languageId": "polyglot-notebook"
    }
   },
   "outputs": [],
   "source": [
    "Func<int,int> sqr = x => x * x;\n",
    "\n",
    "Func<string,string,int> totalLength = (s1, s2) => s1.Length + s2.Length;\n",
    "\n",
    "int total = totalLength (\"hello\", \"world\");\n",
    "\n",
    "//zero arguments\n",
    "Func<string> greetor = () => \"Hello, world\";\n",
    "\n",
    "//from c#10\n",
    "var greeter1 = () => \"Hello, world\";"
   ]
  },
  {
   "cell_type": "markdown",
   "metadata": {},
   "source": [
    "### Capturing Outer Variables"
   ]
  },
  {
   "cell_type": "code",
   "execution_count": null,
   "metadata": {
    "dotnet_interactive": {
     "language": "csharp"
    },
    "polyglot_notebook": {
     "kernelName": "csharp"
    },
    "vscode": {
     "languageId": "polyglot-notebook"
    }
   },
   "outputs": [],
   "source": [
    "int factor = 2;\n",
    "Func<int, int> multiplier = n => n * factor;\n",
    "Console.WriteLine (multiplier (3)); // 6"
   ]
  },
  {
   "cell_type": "code",
   "execution_count": null,
   "metadata": {
    "dotnet_interactive": {
     "language": "csharp"
    },
    "polyglot_notebook": {
     "kernelName": "csharp"
    },
    "vscode": {
     "languageId": "polyglot-notebook"
    }
   },
   "outputs": [],
   "source": [
    "//Captured variables are evaluated when the delegate is actually invoked, \n",
    "//not when the variables were captured:\n",
    "\n",
    "int factor = 2;\n",
    "Func<int, int> multiplier = n => n * factor;\n",
    "factor = 10;\n",
    "Console.WriteLine (multiplier (3)); // 30"
   ]
  },
  {
   "cell_type": "code",
   "execution_count": null,
   "metadata": {
    "dotnet_interactive": {
     "language": "csharp"
    },
    "polyglot_notebook": {
     "kernelName": "csharp"
    },
    "vscode": {
     "languageId": "polyglot-notebook"
    }
   },
   "outputs": [],
   "source": [
    "int seed = 0;\n",
    "Func<int> natural = () => seed++;\n",
    "Console.WriteLine (natural()); // 0\n",
    "Console.WriteLine (natural()); // 1\n",
    "Console.WriteLine (seed); // 2"
   ]
  },
  {
   "cell_type": "markdown",
   "metadata": {},
   "source": [
    "#### Static lambdas"
   ]
  },
  {
   "cell_type": "code",
   "execution_count": 1,
   "metadata": {
    "dotnet_interactive": {
     "language": "csharp"
    },
    "polyglot_notebook": {
     "kernelName": "csharp"
    },
    "vscode": {
     "languageId": "polyglot-notebook"
    }
   },
   "outputs": [
    {
     "ename": "Error",
     "evalue": "(5,45): error CS8821: A static anonymous function cannot contain a reference to 'this' or 'base'.",
     "output_type": "error",
     "traceback": [
      "(5,45): error CS8821: A static anonymous function cannot contain a reference to 'this' or 'base'."
     ]
    }
   ],
   "source": [
    "//From C# 9, you can ensure that a lambda expression, local function, \n",
    "//or anonymous method doesn’t capture state by applying the static keyword.\n",
    "\n",
    "int factor = 2;\n",
    "Func<int, int> multiplier = static n => n * factor; // will not compile"
   ]
  },
  {
   "cell_type": "markdown",
   "metadata": {},
   "source": [
    "### Capturing iteration variables"
   ]
  },
  {
   "cell_type": "code",
   "execution_count": null,
   "metadata": {
    "dotnet_interactive": {
     "language": "csharp"
    },
    "polyglot_notebook": {
     "kernelName": "csharp"
    },
    "vscode": {
     "languageId": "polyglot-notebook"
    }
   },
   "outputs": [],
   "source": [
    "Action[] actions = new Action[3];\n",
    "for (int i = 0; i < 3; i++)\n",
    "\n",
    "actions [i] = () => Console.Write (i);\n",
    "\n",
    "foreach (Action a in actions) a(); // 333"
   ]
  },
  {
   "cell_type": "code",
   "execution_count": null,
   "metadata": {
    "dotnet_interactive": {
     "language": "csharp"
    },
    "polyglot_notebook": {
     "kernelName": "csharp"
    },
    "vscode": {
     "languageId": "polyglot-notebook"
    }
   },
   "outputs": [],
   "source": [
    "Action[] actions = new Action[3];\n",
    "for (int i = 0; i < 3; i++)\n",
    "{\n",
    "    int loopScopedi = i;\n",
    "    actions [i] = () => Console.Write (loopScopedi);\n",
    "}\n",
    "foreach (Action a in actions) a(); // 012"
   ]
  }
 ],
 "metadata": {
  "language_info": {
   "name": "python"
  }
 },
 "nbformat": 4,
 "nbformat_minor": 2
}
