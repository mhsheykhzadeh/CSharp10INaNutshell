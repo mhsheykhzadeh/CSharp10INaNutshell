{
 "cells": [
  {
   "cell_type": "markdown",
   "metadata": {},
   "source": [
    "***Extension methods*** allow an existing type to be `extended` with `new methods` `without altering` the definition of the **original type**."
   ]
  },
  {
   "cell_type": "markdown",
   "metadata": {},
   "source": [
    "An ***extension method*** is a `static` method of a `static class`, where the `this` modifier is applied to the `first parameter`"
   ]
  },
  {
   "cell_type": "code",
   "execution_count": null,
   "metadata": {
    "dotnet_interactive": {
     "language": "csharp"
    },
    "polyglot_notebook": {
     "kernelName": "csharp"
    },
    "vscode": {
     "languageId": "polyglot-notebook"
    }
   },
   "outputs": [],
   "source": [
    "public static class StringHelper\n",
    "{\n",
    "    public static bool IsCapitalized (this string s)\n",
    "    {\n",
    "        if (string.IsNullOrEmpty(s)) return false;\n",
    "        return char.IsUpper (s[0]);\n",
    "    }\n",
    "}\n",
    "\n",
    "Console.WriteLine (\"Perth\".IsCapitalized());\n",
    "Console.WriteLine (StringHelper.IsCapitalized (\"Perth\"));"
   ]
  },
  {
   "cell_type": "code",
   "execution_count": null,
   "metadata": {
    "dotnet_interactive": {
     "language": "csharp"
    },
    "polyglot_notebook": {
     "kernelName": "csharp"
    },
    "vscode": {
     "languageId": "polyglot-notebook"
    }
   },
   "outputs": [],
   "source": [
    "//Interfaces can be extended, too:\n",
    "public static T First<T> (this IEnumerable<T> sequence)\n",
    "{\n",
    "    foreach (T element in sequence)\n",
    "        return element;\n",
    "    throw new InvalidOperationException (\"No elements!\");\n",
    "}"
   ]
  },
  {
   "cell_type": "markdown",
   "metadata": {},
   "source": [
    "### Extension Method Chaining"
   ]
  },
  {
   "cell_type": "code",
   "execution_count": null,
   "metadata": {
    "dotnet_interactive": {
     "language": "csharp"
    },
    "polyglot_notebook": {
     "kernelName": "csharp"
    },
    "vscode": {
     "languageId": "polyglot-notebook"
    }
   },
   "outputs": [],
   "source": [
    "\n",
    "public static class StringHelper\n",
    "{\n",
    "    public static string Pluralize (this string s) { return s;}\n",
    "    public static string Capitalize (this string s) { return s;}\n",
    "}\n",
    "string x = \"sausage\".Pluralize().Capitalize();"
   ]
  }
 ],
 "metadata": {
  "kernelspec": {
   "display_name": ".NET (C#)",
   "language": "C#",
   "name": ".net-csharp"
  },
  "language_info": {
   "name": "python"
  },
  "polyglot_notebook": {
   "kernelInfo": {
    "defaultKernelName": "csharp",
    "items": [
     {
      "aliases": [],
      "name": "csharp"
     }
    ]
   }
  }
 },
 "nbformat": 4,
 "nbformat_minor": 2
}
