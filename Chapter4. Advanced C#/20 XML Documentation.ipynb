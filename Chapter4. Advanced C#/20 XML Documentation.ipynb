{
 "cells": [
  {
   "cell_type": "markdown",
   "metadata": {
    "dotnet_interactive": {
     "language": "csharp"
    },
    "polyglot_notebook": {
     "kernelName": "csharp"
    }
   },
   "source": [
    "<div dir=\"rtl\" style=\"width: 90%; margin:auto;\">\n",
    "\n",
    "<code>XML Documentation Comments</code> نوعی از کامنت‌گذاری در زبان C# هستند که با ترکیب تگ‌های XML و کامنت‌ها، به بهبود فهم و درک کد کمک می‌کنند. این نوع کامنت‌ها به توسعه‌دهندگان این امکان را می‌دهند که مستندات دقیقی برای انواع (types)، متدها، پارامترها و دیگر اعضای کد خود فراهم کنند.\n",
    "</div>"
   ]
  },
  {
   "cell_type": "code",
   "execution_count": null,
   "metadata": {
    "dotnet_interactive": {
     "language": "csharp"
    },
    "polyglot_notebook": {
     "kernelName": "csharp"
    },
    "vscode": {
     "languageId": "polyglot-notebook"
    }
   },
   "outputs": [],
   "source": [
    "//A documentation comment comes immediately before a type or member\n",
    "//declaration and starts with three slashes\n",
    "\n",
    "/// <summary>Cancels a running query.</summary>\n",
    "public void Cancel() {  }\n",
    "\n",
    "/// <summary>\n",
    "/// Cancels a running query\n",
    "/// </summary>\n",
    "public void Cancel1() {  }\n",
    "\n",
    "\n",
    "/*for normal comments*/\n",
    "\n",
    "/**\n",
    "<summary> Cancels a running query. </summary>\n",
    "*/\n",
    "public void Cancel3() { }"
   ]
  },
  {
   "cell_type": "markdown",
   "metadata": {},
   "source": [
    "<div dir=\"rtl\" style=\"width: 90%; margin:auto;\">\n",
    "شما می‌توانید تعیین کنید که کامپایلر مستندات را به یک فایل XML به نام <code>SomeFile.xml</code> بنویسد.\n",
    "</div>"
   ]
  },
  {
   "cell_type": "code",
   "execution_count": null,
   "metadata": {
    "dotnet_interactive": {
     "language": "html"
    },
    "polyglot_notebook": {
     "kernelName": "html"
    },
    "vscode": {
     "languageId": "polyglot-notebook"
    }
   },
   "outputs": [],
   "source": [
    "<PropertyGroup>\n",
    "    <DocumentationFile>SomeFile.xml</DocumentationFile>\n",
    "</PropertyGroup>"
   ]
  },
  {
   "cell_type": "markdown",
   "metadata": {},
   "source": [
    "<div dir=\"rtl\" style=\"width: 90%; margin:auto;\">\n",
    "اگر شما یک کتابخانه را توسعه دهید و آن را به صورت یک فایل DLL در اختیار دیگران قرار دهید، تا زمانی که فایل XML Documentation مربوط به آن DLL نیز در کنار فایل DLL نباشد، کامنت‌های مستندسازی شما برای دیگران در ابزارهایی مانند Visual Studio نمایش داده نخواهند شد.\n",
    "</div>"
   ]
  },
  {
   "cell_type": "markdown",
   "metadata": {},
   "source": [
    "### Standard XML Documentation Tags"
   ]
  },
  {
   "cell_type": "markdown",
   "metadata": {},
   "source": [
    "Here are the ***standard XML tags*** that `Visual Studio` and `documentation generator`s **recognize**"
   ]
  },
  {
   "cell_type": "markdown",
   "metadata": {},
   "source": [
    "<div dir=\"rtl\" style=\"width: 90%; margin:auto;\">\n",
    "<h4 dir=\"ltr\"><code>summary</code></h4>\n",
    "\n",
    "برای ارائه توضیحی مختصر و جامع درباره یک عضو (مانند یک کلاس، متد، خاصیت یا فیلد) استفاده می‌شود. این تگ به صورت یک توضیح کوتاه و مختصر است که به کاربران کمک می‌کند تا بفهمند عضو مورد نظر چه کاری انجام می‌دهد.\n",
    "</div>"
   ]
  },
  {
   "cell_type": "code",
   "execution_count": null,
   "metadata": {
    "dotnet_interactive": {
     "language": "csharp"
    },
    "polyglot_notebook": {
     "kernelName": "csharp"
    },
    "vscode": {
     "languageId": "polyglot-notebook"
    }
   },
   "outputs": [],
   "source": [
    "/// <summary>\n",
    "/// Provides various mathematical operations.\n",
    "/// </summary>\n",
    "public class MathOperations\n",
    "{\n",
    "    /// <summary>\n",
    "    /// Adds two integers and returns the result.\n",
    "    /// </summary>\n",
    "    public int Add(int a, int b)\n",
    "    {\n",
    "        return a + b;\n",
    "    }\n",
    "}\n",
    "\n",
    "\n",
    "var mo = new MathOperations();\n",
    "int add = mo.Add(2,4);"
   ]
  },
  {
   "cell_type": "markdown",
   "metadata": {},
   "source": [
    "<div dir=\"rtl\" style=\"width: 90%; margin:auto;\">\n",
    "<h4 dir=\"ltr\"><code>remarks</code></h4>\n",
    "\n",
    "برای ارائه اطلاعاتی که نیاز به توضیحات بیشتر دارد، یا برای اشاره به نکات خاصی که در توضیحات مختصر (تگ summary) گنجانده نشده‌اند، به کار می‌رود.\n",
    "</div>"
   ]
  },
  {
   "cell_type": "code",
   "execution_count": null,
   "metadata": {
    "dotnet_interactive": {
     "language": "csharp"
    },
    "polyglot_notebook": {
     "kernelName": "csharp"
    },
    "vscode": {
     "languageId": "polyglot-notebook"
    }
   },
   "outputs": [],
   "source": [
    "/// <summary>\n",
    "/// Provides various mathematical operations.\n",
    "/// </summary>\n",
    "/// <remarks>\n",
    "/// This class includes basic operations such as addition, subtraction, multiplication, and division.\n",
    "/// It can be extended to include more advanced operations in the future.\n",
    "/// </remarks>\n",
    "public class MathOperations\n",
    "{\n",
    "    /// <summary>\n",
    "    /// Adds two integers and returns the result.\n",
    "    /// </summary>\n",
    "    /// <remarks>\n",
    "    /// This method performs a simple addition of two integer values.\n",
    "    /// Ensure that the result does not exceed the maximum value of an integer.\n",
    "    /// </remarks>\n",
    "    public int Add(int a, int b)\n",
    "    {\n",
    "        return a + b;\n",
    "    }\n",
    "}\n"
   ]
  },
  {
   "cell_type": "markdown",
   "metadata": {},
   "source": [
    "<div dir=\"rtl\" style=\"width: 90%; margin:auto;\">\n",
    "<h4 dir=\"ltr\"><code>param</code></h4>\n",
    "\n",
    "<p>تگ <code>&lt;param&gt;</code> در XML Documentation Comments برای توضیح پارامترهای ورودی یک متد یا سازنده (constructor) استفاده می‌شود. این تگ به توسعه‌دهندگان کمک می‌کند تا بفهمند هر پارامتر چه نقشی دارد و چه نوع داده‌ای باید به آن پاس داده شود.</p>\n",
    "</div>"
   ]
  },
  {
   "cell_type": "code",
   "execution_count": null,
   "metadata": {
    "dotnet_interactive": {
     "language": "csharp"
    },
    "polyglot_notebook": {
     "kernelName": "csharp"
    },
    "vscode": {
     "languageId": "polyglot-notebook"
    }
   },
   "outputs": [],
   "source": [
    "/// <summary>\n",
    "/// Adds two integers and returns the result.\n",
    "/// </summary>\n",
    "/// <param name=\"a\">The first integer to add.</param>\n",
    "/// <param name=\"b\">The second integer to add.</param>\n",
    "/// <remarks>\n",
    "/// This method performs a simple addition of two integer values.\n",
    "/// Ensure that the result does not exceed the maximum value of an integer.\n",
    "/// </remarks>\n",
    "public int Add(int a, int b)\n",
    "{\n",
    "    return a + b;\n",
    "}"
   ]
  },
  {
   "cell_type": "markdown",
   "metadata": {},
   "source": [
    "<div dir=\"rtl\" style=\"width: 90%; margin:auto;\">\n",
    "<h4 dir=\"ltr\"><code>returns</code></h4>\n",
    "\n",
    "<p>تگ <code>&lt;returns&gt;</code> در XML Documentation Comments برای توضیح دادن نوع و معنای مقداری که یک متد برمی‌گرداند، استفاده می‌شود. این تگ به توسعه‌دهندگان کمک می‌کند تا بفهمند خروجی یک متد چیست و چگونه باید از آن استفاده کنند.</p>\n",
    "</div>"
   ]
  },
  {
   "cell_type": "code",
   "execution_count": null,
   "metadata": {
    "dotnet_interactive": {
     "language": "csharp"
    },
    "polyglot_notebook": {
     "kernelName": "csharp"
    },
    "vscode": {
     "languageId": "polyglot-notebook"
    }
   },
   "outputs": [],
   "source": [
    "/// <summary>\n",
    "/// Adds two integers and returns the result.\n",
    "/// </summary>\n",
    "/// <param name=\"a\">The first integer to add.</param>\n",
    "/// <param name=\"b\">The second integer to add.</param>\n",
    "/// <returns>The sum of the two integers.</returns>\n",
    "/// <remarks>\n",
    "/// This method performs a simple addition of two integer values.\n",
    "/// Ensure that the result does not exceed the maximum value of an integer.\n",
    "/// </remarks>\n",
    "public int Add(int a, int b)\n",
    "{\n",
    "    return a + b;\n",
    "}"
   ]
  },
  {
   "cell_type": "markdown",
   "metadata": {},
   "source": [
    "<div dir=\"rtl\" style=\"width: 90%; margin:auto;\">\n",
    "<h4 dir=\"ltr\"><code>exception</code></h4>\n",
    "\n",
    "<p>استفاده از تگ <code>&lt;exception&gt;</code> به شما این امکان را می‌دهد که شرایطی را که ممکن است یک متد استثنا پرتاب کند، به طور واضح مستندسازی کنید. این مستندسازی به توسعه‌دهندگان دیگر کمک می‌کند تا بفهمند در چه شرایطی ممکن است با خطا روبرو شوند و نوع خطا چیست، که می‌تواند در مدیریت خطا و استفاده بهینه از متدها مفید باشد.</p>\n",
    "</div>"
   ]
  },
  {
   "cell_type": "code",
   "execution_count": null,
   "metadata": {
    "dotnet_interactive": {
     "language": "csharp"
    },
    "polyglot_notebook": {
     "kernelName": "csharp"
    },
    "vscode": {
     "languageId": "polyglot-notebook"
    }
   },
   "outputs": [],
   "source": [
    "/// <summary>\n",
    "/// Divides the first integer by the second and returns the result.\n",
    "/// </summary>\n",
    "/// <param name=\"a\">The integer to be divided.</param>\n",
    "/// <param name=\"b\">The integer to divide by.</param>\n",
    "/// <returns>The quotient of the division.</returns>\n",
    "/// <exception cref=\"DivideByZeroException\">Thrown when b is zero.</exception>\n",
    "/// <exception cref=\"ArgumentException\">Thrown when a or b are less than zero.</exception>\n",
    "public int Divide(int a, int b)\n",
    "{\n",
    "    if (b == 0)\n",
    "        throw new DivideByZeroException(\"The denominator cannot be zero.\");\n",
    "    \n",
    "    if (a < 0 || b < 0)\n",
    "        throw new ArgumentException(\"The arguments must be non-negative.\");\n",
    "\n",
    "    return a / b;\n",
    "}"
   ]
  },
  {
   "cell_type": "markdown",
   "metadata": {},
   "source": [
    "<div dir=\"rtl\" style=\"width: 90%; margin:auto;\">\n",
    "<h4 dir=\"ltr\"><code>example</code></h4>\n",
    "\n",
    "<p>تگ <code>&lt;example&gt;</code> به شما این امکان را می‌دهد که با ارائه نمونه کدهای کاربردی، نشان دهید که چگونه از متدها یا کلاس‌های خود استفاده کنید. این کار به توسعه‌دهندگان دیگر کمک می‌کند تا بهتر بفهمند که چگونه می‌توانند از کد شما استفاده کنند و می‌تواند در درک کاربردهای مختلف کد بسیار مفید باشد.</p>\n",
    "</div>"
   ]
  },
  {
   "cell_type": "code",
   "execution_count": null,
   "metadata": {
    "dotnet_interactive": {
     "language": "csharp"
    },
    "polyglot_notebook": {
     "kernelName": "csharp"
    },
    "vscode": {
     "languageId": "polyglot-notebook"
    }
   },
   "outputs": [],
   "source": [
    "/// <summary>\n",
    "/// Calculates the factorial of a non-negative integer.\n",
    "/// </summary>\n",
    "/// <param name=\"n\">The non-negative integer to calculate the factorial of.</param>\n",
    "/// <returns>The factorial of the given number.</returns>\n",
    "/// <exception cref=\"ArgumentOutOfRangeException\">Thrown when n is negative.</exception>\n",
    "/// <example>\n",
    "/// <code>\n",
    "/// MathOperations mathOps = new MathOperations();\n",
    "/// int result = mathOps.Factorial(5);\n",
    "/// Console.WriteLine(result); // Output: 120\n",
    "/// </code>\n",
    "/// </example>\n",
    "public int Factorial(int n)\n",
    "{\n",
    "    if (n < 0)\n",
    "        throw new ArgumentOutOfRangeException(nameof(n), \"The input must be non-negative.\");\n",
    "    \n",
    "    if (n == 0 || n == 1)\n",
    "        return 1;\n",
    "    \n",
    "    int result = 1;\n",
    "    for (int i = 2; i <= n; i++)\n",
    "    {\n",
    "        result *= i;\n",
    "    }\n",
    "    \n",
    "    return result;\n",
    "}"
   ]
  },
  {
   "cell_type": "markdown",
   "metadata": {},
   "source": [
    "<div dir=\"rtl\" style=\"width: 90%; margin:auto;\">\n",
    "<h4 dir=\"ltr\"><code>c</code></h4>\n",
    "\n",
    "<p>تگ <code>&lt;c&gt;</code> به شما امکان می‌دهد تا کدهای کوتاه و تک خطی را به صورت برجسته در متن توضیحات قرار دهید. این کار به توسعه‌دهندگان کمک می‌کند تا به راحتی کدهای مهم را در مستندات مشاهده و درک کنند. استفاده از این تگ باعث می‌شود که مستندات شما خواناتر و کاربردی‌تر باشند.</p>\n",
    "</div>"
   ]
  },
  {
   "cell_type": "code",
   "execution_count": null,
   "metadata": {
    "dotnet_interactive": {
     "language": "csharp"
    },
    "polyglot_notebook": {
     "kernelName": "csharp"
    },
    "vscode": {
     "languageId": "polyglot-notebook"
    }
   },
   "outputs": [],
   "source": [
    "/// <summary>\n",
    "/// Determines whether a number is even.\n",
    "/// </summary>\n",
    "/// <param name=\"number\">The integer to check.</param>\n",
    "/// <returns><c>true</c> if the number is even; otherwise, <c>false</c>.</returns>\n",
    "/// <example>\n",
    "/// In this example, the <c>IsEven</c> method is used to check if a number is even:\n",
    "/// <code>\n",
    "/// MathOperations mathOps = new MathOperations();\n",
    "/// bool result = mathOps.IsEven(4);\n",
    "/// Console.WriteLine(result); // Output: True\n",
    "/// </code>\n",
    "/// </example>\n",
    "public bool IsEven(int number)\n",
    "{\n",
    "    return number % 2 == 0;\n",
    "}"
   ]
  },
  {
   "cell_type": "markdown",
   "metadata": {},
   "source": [
    "<div dir=\"rtl\" style=\"width: 90%; margin:auto;\">\n",
    "<h4 dir=\"ltr\"><code>code</code></h4>\n",
    "\n",
    "<p>تگ <code>&lt;code&gt;</code> به شما این امکان را می‌دهد که نمونه‌های کد چند خطی را به صورت برجسته و فرمت‌بندی شده در مستندات خود قرار دهید. این تگ به توسعه‌دهندگان دیگر کمک می‌کند تا به راحتی نمونه کدهای کاربردی را مشاهده و درک کنند، که می‌تواند در فهم بهتر و استفاده بهینه از کد شما بسیار مفید باشد.</p>\n",
    "</div>"
   ]
  },
  {
   "cell_type": "markdown",
   "metadata": {},
   "source": [
    "<div dir=\"rtl\" style=\"width: 90%; margin:auto;\">\n",
    "<h4 dir=\"ltr\"><code>see</code>, <code>seealso</code></h4>\n",
    "\n",
    "<p>تگ <code>&lt;see&gt;</code> به شما این امکان را می‌دهد که به راحتی به مستندات دیگر اعضا در کد خود پیوند دهید. این پیوندها می‌توانند به توسعه‌دهندگان کمک کنند تا به سرعت به اطلاعات مرتبط دسترسی پیدا کنند و درک بهتری از ارتباط بین اعضای مختلف کد داشته باشند. استفاده از این تگ باعث می‌شود که مستندات شما کامل‌تر و کاربردی‌تر شوند.</p>\n",
    "<p>تگ <code>&lt;see&gt;</code> برای ایجاد یک پیوند (هایپرلینک) در خط به یک عضو دیگر استفاده می‌شود. این تگ معمولاً در داخل توضیحات قرار می‌گیرد و بخشی از متن توضیحات می‌شود. وقتی کاربر مستندات را می‌خواند، این پیوند به طور مستقیم در خط متن نمایش داده می‌شود.</p>\n",
    "<p>تگ <code>&lt;seealso&gt;</code> برای ایجاد یک پیوند به یک عضو یا مستندات دیگر استفاده می‌شود، اما این پیوند به صورت جداگانه و معمولاً در انتهای توضیحات نمایش داده می‌شود. این تگ معمولاً برای اشاره به منابع یا اعضای مرتبطی که کاربر ممکن است بخواهد آنها را بررسی کند، استفاده می‌شود.</p>\n",
    "</div>"
   ]
  },
  {
   "cell_type": "code",
   "execution_count": null,
   "metadata": {
    "dotnet_interactive": {
     "language": "csharp"
    },
    "polyglot_notebook": {
     "kernelName": "csharp"
    },
    "vscode": {
     "languageId": "polyglot-notebook"
    }
   },
   "outputs": [],
   "source": [
    "/// <summary>\n",
    "/// Adds two integers and returns the result. See <see cref=\"Subtract(int, int)\"/> for subtraction.\n",
    "/// </summary>\n",
    "/// <param name=\"a\">The first integer to add.</param>\n",
    "/// <param name=\"b\">The second integer to add.</param>\n",
    "/// <returns>The sum of the two integers.</returns>\n",
    "/// <example>\n",
    "/// <code>\n",
    "/// MathOperations mathOps = new MathOperations();\n",
    "/// int result = mathOps.Add(5, 3);\n",
    "/// Console.WriteLine(result); // Output: 8\n",
    "/// </code>\n",
    "/// </example>\n",
    "/// <seealso cref=\"AddReturn(int, int)\">برا اطلاعات بیشتر این کد را مشاهده کنید</seealso>\n",
    "public int AddExample(int a, int b)\n",
    "{\n",
    "    return a + b;\n",
    "}"
   ]
  },
  {
   "cell_type": "markdown",
   "metadata": {},
   "source": [
    "<div dir=\"rtl\" style=\"width: 90%; margin:auto;\">\n",
    "<h4 dir=\"ltr\"><code>paramref</code></h4>\n",
    "\n",
    "<p>تگ <code>&lt;paramref&gt;</code> به شما امکان می‌دهد که پارامترهای متد یا سازنده را به طور دقیق در مستندات مشخص کنید و به آن‌ها اشاره کنید. این تگ به خوانایی مستندات کمک می‌کند و به توسعه‌دهندگان دیگر اجازه می‌دهد تا به راحتی بفهمند که کدام پارامتر در توضیحات مورد اشاره قرار گرفته است. استفاده از تگ <code>&lt;paramref&gt;</code> باعث می‌شود که مستندات شما دقیق‌تر و کاربردی‌تر شوند.</p>\n",
    "</div>"
   ]
  },
  {
   "cell_type": "code",
   "execution_count": null,
   "metadata": {
    "dotnet_interactive": {
     "language": "csharp"
    },
    "polyglot_notebook": {
     "kernelName": "csharp"
    },
    "vscode": {
     "languageId": "polyglot-notebook"
    }
   },
   "outputs": [],
   "source": [
    "/// <summary>\n",
    "/// Adds two integers and returns the result.\n",
    "/// </summary>\n",
    "/// <param name=\"a\">The first integer to add.</param>\n",
    "/// <param name=\"b\">The second integer to add.</param>\n",
    "/// <returns>The sum of the two integers.</returns>\n",
    "/// <remarks>\n",
    "/// This method adds the value of <paramref name=\"a\"/> to the value of <paramref name=\"b\"/> and returns the result.\n",
    "/// </remarks>\n",
    "public int Add(int a, int b)\n",
    "{\n",
    "    return a + b;\n",
    "}"
   ]
  },
  {
   "cell_type": "markdown",
   "metadata": {},
   "source": [
    "<div dir=\"rtl\" style=\"width: 90%; margin:auto;\">\n",
    "<h4 dir=\"ltr\"><code>list</code></h4>\n",
    "\n",
    "<p>تگ <code>&lt;list&gt;</code> در XML Documentation Comments برای ایجاد لیست‌های منظم و نامنظم استفاده می‌شود. این تگ به توسعه‌دهندگان کمک می‌کند تا اطلاعات را به صورت ساختار یافته و خوانا نمایش دهند. تگ <code>&lt;list&gt;</code> می‌تواند شامل انواع مختلف لیست‌ها باشد، از جمله لیست‌های بولت‌دار، شماره‌دار و جدول‌ها.</p>\n",
    "<h4>انواع لیست‌ها</h4>\n",
    "<ul><li><strong>Bullet list (نوع bullet)</strong>: لیست بولت‌دار</li><li><strong>Numbered list (نوع number)</strong>: لیست شماره‌دار</li><li><strong>Table (نوع table)</strong>: جدول</li></ul>\n",
    "</div>"
   ]
  },
  {
   "cell_type": "code",
   "execution_count": null,
   "metadata": {
    "dotnet_interactive": {
     "language": "csharp"
    },
    "polyglot_notebook": {
     "kernelName": "csharp"
    },
    "vscode": {
     "languageId": "polyglot-notebook"
    }
   },
   "outputs": [],
   "source": [
    "// مثلا لیست جدولی\n",
    "\n",
    "/// <summary>\n",
    "/// Mathematical constants and their values.\n",
    "/// </summary>\n",
    "/// <list type=\"table\">\n",
    "/// <listheader>\n",
    "/// <term>Constant</term>\n",
    "/// <term>Value</term>\n",
    "/// </listheader>\n",
    "/// <item>\n",
    "/// <term>Pi</term>\n",
    "/// <description>3.14159</description>\n",
    "/// </item>\n",
    "/// <item>\n",
    "/// <term>e</term>\n",
    "/// <description>2.71828</description>\n",
    "/// </item>\n",
    "/// <item>\n",
    "/// <term>Golden Ratio</term>\n",
    "/// <description>1.61803</description>\n",
    "/// </item>\n",
    "/// </list>\n",
    "public class MathConstants\n",
    "{\n",
    "    // Properties or methods for the constants would go here\n",
    "}\n"
   ]
  }
 ],
 "metadata": {
  "kernelspec": {
   "display_name": ".NET (C#)",
   "language": "C#",
   "name": ".net-csharp"
  },
  "language_info": {
   "name": "python"
  },
  "polyglot_notebook": {
   "kernelInfo": {
    "defaultKernelName": "csharp",
    "items": [
     {
      "aliases": [],
      "name": "csharp"
     }
    ]
   }
  }
 },
 "nbformat": 4,
 "nbformat_minor": 2
}
