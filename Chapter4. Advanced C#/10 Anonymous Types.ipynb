{
 "cells": [
  {
   "cell_type": "markdown",
   "metadata": {},
   "source": [
    "An ***anonymous type*** is a `simple class` created by the `compiler` on the `fly` to `store a set of values`."
   ]
  },
  {
   "cell_type": "code",
   "execution_count": null,
   "metadata": {
    "dotnet_interactive": {
     "language": "csharp"
    },
    "polyglot_notebook": {
     "kernelName": "csharp"
    },
    "vscode": {
     "languageId": "polyglot-notebook"
    }
   },
   "outputs": [],
   "source": [
    "var dude = new { Name = \"Bob\", Age = 23 };\n",
    "\n",
    "//The compiler translates this to (approximately) the following\n",
    "internal class AnonymousGeneratedTypeName\n",
    "{\n",
    "    private string name; // Actual field name is irrelevant\n",
    "    private int age; // Actual field name is irrelevant\n",
    "    public AnonymousGeneratedTypeName (string name, int age)\n",
    "    {\n",
    "        this.name = name; this.age = age;\n",
    "    }\n",
    "    public string Name { get { return name; } }\n",
    "    public int Age { get { return age; } }\n",
    "    // The Equals and GetHashCode methods are overridden (see Chapter 6).\n",
    "    // The ToString method is also overridden.\n",
    "}\n",
    "\n",
    "var dude1 = new AnonymousGeneratedTypeName (\"Bob\", 23);"
   ]
  },
  {
   "cell_type": "markdown",
   "metadata": {},
   "source": [
    "You must use the `var` keyword to reference an ***anonymous type*** because it doesn’t have a name."
   ]
  },
  {
   "cell_type": "code",
   "execution_count": null,
   "metadata": {
    "dotnet_interactive": {
     "language": "csharp"
    },
    "polyglot_notebook": {
     "kernelName": "csharp"
    },
    "vscode": {
     "languageId": "polyglot-notebook"
    }
   },
   "outputs": [],
   "source": [
    "int Age = 23;\n",
    "var dude = new { Name = \"Bob\", Age, Age.ToString().Length };\n",
    "\n",
    "//is equivalent to the following:\n",
    "var dude1 = new { Name = \"Bob\", Age = Age, Length = Age.ToString().Length };"
   ]
  },
  {
   "cell_type": "code",
   "execution_count": null,
   "metadata": {
    "dotnet_interactive": {
     "language": "csharp"
    },
    "polyglot_notebook": {
     "kernelName": "csharp"
    },
    "vscode": {
     "languageId": "polyglot-notebook"
    }
   },
   "outputs": [],
   "source": [
    "/*\n",
    "Two anonymous type instances declared within the \n",
    "same assembly \n",
    "will have the same underlying type \n",
    "if their elements are named and typed identically:\n",
    "*/\n",
    "\n",
    "var a1 = new { X = 2, Y = 4 };\n",
    "var a2 = new { X = 2, Y = 4 };\n",
    "Console.WriteLine (a1.GetType() == a2.GetType()); // True"
   ]
  },
  {
   "cell_type": "markdown",
   "metadata": {},
   "source": [
    "the `Equals` method is overridden to perform ***structural equality comparison***\n",
    " (comparison of the data)"
   ]
  },
  {
   "cell_type": "code",
   "execution_count": null,
   "metadata": {
    "dotnet_interactive": {
     "language": "csharp"
    },
    "polyglot_notebook": {
     "kernelName": "csharp"
    },
    "vscode": {
     "languageId": "polyglot-notebook"
    }
   },
   "outputs": [],
   "source": [
    "var a1 = new { X = 2, Y = 4 };\n",
    "var a2 = new { X = 2, Y = 4 };\n",
    "\n",
    "Console.WriteLine (a1.Equals (a2)); // True\n",
    "\n",
    "//whereas the equality operator (==) performs referential comparison:\n",
    "Console.WriteLine (a1 == a2); // False\n",
    "\n",
    "//You can create arrays of anonymous types as follows:\n",
    "var dudes = new[]\n",
    "{\n",
    "    new { Name = \"Bob\", Age = 30 },\n",
    "    new { Name = \"Tom\", Age = 40 }\n",
    "};"
   ]
  },
  {
   "cell_type": "code",
   "execution_count": null,
   "metadata": {
    "dotnet_interactive": {
     "language": "csharp"
    },
    "polyglot_notebook": {
     "kernelName": "csharp"
    },
    "vscode": {
     "languageId": "polyglot-notebook"
    }
   },
   "outputs": [],
   "source": [
    "/*\n",
    "A method cannot (usefully) return an anonymously typed object, \n",
    "because it is illegal to write a method whose return type is var\n",
    "*/\n",
    "\n",
    "var Foo() => new { Name = \"Bob\", Age = 30 }; // Not legal!\n",
    "\n",
    "//Instead, you must use object or dynamic\n",
    "dynamic Foo1() => new { Name = \"Bob\", Age = 30 }; // No static type safety."
   ]
  },
  {
   "cell_type": "markdown",
   "metadata": {},
   "source": [
    "***Anonymous types*** are `immutable`, so instances `cannot be modified` **after** creation. However, from **C# 10**, you can use the `with` keyword to `create a copy` with variations (nondestructive mutation):"
   ]
  },
  {
   "cell_type": "code",
   "execution_count": 2,
   "metadata": {
    "dotnet_interactive": {
     "language": "csharp"
    },
    "polyglot_notebook": {
     "kernelName": "csharp"
    },
    "vscode": {
     "languageId": "polyglot-notebook"
    }
   },
   "outputs": [
    {
     "name": "stdout",
     "output_type": "stream",
     "text": [
      "{ A = 1, B = 2, C = 3, D = 4, E = 10 }\r\n"
     ]
    }
   ],
   "source": [
    "var a1 = new { A = 1, B = 2, C = 3, D = 4, E = 5 };\n",
    "var a2 = a1 with { E = 10 };\n",
    "Console.WriteLine (a2); // { A = 1, B = 2, C = 3, D = 4, E = 10 }"
   ]
  }
 ],
 "metadata": {
  "kernelspec": {
   "display_name": ".NET (C#)",
   "language": "C#",
   "name": ".net-csharp"
  },
  "language_info": {
   "name": "python"
  },
  "polyglot_notebook": {
   "kernelInfo": {
    "defaultKernelName": "csharp",
    "items": [
     {
      "aliases": [],
      "name": "csharp"
     }
    ]
   }
  }
 },
 "nbformat": 4,
 "nbformat_minor": 2
}
