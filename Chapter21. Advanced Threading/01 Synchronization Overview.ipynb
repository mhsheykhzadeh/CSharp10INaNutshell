{
 "cells": [
  {
   "cell_type": "markdown",
   "metadata": {
    "dotnet_interactive": {
     "language": "csharp"
    },
    "polyglot_notebook": {
     "kernelName": "csharp"
    },
    "vscode": {
     "languageId": "polyglot-notebook"
    }
   },
   "source": [
    "<div dir=\"rtl\" style=\"margin:auto; width:90%; font-family:vazirmatn\">\n",
    "<p><strong>Synchronization</strong> به فرآیند هماهنگ‌سازی اجرای چندین ریسمان یا فرآیند به‌طوری که با دسترسی هم‌زمان به منابع مشترک، نتیجه‌ی قابل پیش‌بینی و بدون تداخل حاصل شود، گفته می‌شود. هدف از هم‌زمان‌سازی این است که از بروز مشکلاتی مانند <strong>شرایط مسابقه</strong> (Race Condition) و <strong>تداخل داده‌ها</strong> جلوگیری کند. برای این منظور، از ابزارهایی مانند <strong>قفل‌ها</strong> (Locks)، <strong>مانیتورها</strong> (Monitors)، <strong>سیگنال‌ها</strong> (Signals)، و <strong>مکانیزم‌های دسترسی ایمن</strong> به منابع مشترک استفاده می‌شود.</p>\n",
    "\n",
    "<p> برخی مواقع نیاز است که از ساختارهای سطح پایین‌تری برای کنترل دسترسی ریسمان‌ها استفاده شود. سه دسته اصلی از این ساختارها عبارتند از:</p>\n",
    "<ol><li><p><strong>قفل‌های انحصاری (Exclusive Locking)</strong>: این نوع قفل فقط اجازه می‌دهد یک ریسمان در یک زمان خاص به یک بخش از کد دسترسی داشته باشد، مثلاً برای نوشتن روی داده‌های مشترک. از جمله این ساختارها می‌توان به <code>lock</code>، <code>Mutex</code> و <code>SpinLock</code> اشاره کرد.</p></li><li><p><strong>قفل‌های غیرانحصاری (Nonexclusive Locking)</strong>: این قفل‌ها امکان محدود کردن تعداد ریسمان‌هایی که می‌توانند هم‌زمان به یک بخش از کد دسترسی داشته باشند را فراهم می‌کنند. <code>Semaphore</code> و <code>ReaderWriterLock</code> از این نوع هستند.</p></li><li><p><strong>سیگنال‌دهی (Signaling)</strong>: این روش اجازه می‌دهد که یک ریسمان مسدود شود تا زمانی که اعلان‌هایی از دیگر ریسمان‌ها دریافت کند. ساختارهایی مانند <code>ManualResetEvent</code>، <code>AutoResetEvent</code>، <code>CountdownEvent</code> و <code>Barrier</code> از این دسته هستند. این‌ها بیشتر با نام Event Wait Handles شناخته می‌شوند.</p></li></ol>\n",
    "\n",
    "</div>"
   ]
  }
 ],
 "metadata": {
  "kernelspec": {
   "display_name": ".NET (C#)",
   "language": "C#",
   "name": ".net-csharp"
  },
  "language_info": {
   "name": "python"
  },
  "polyglot_notebook": {
   "kernelInfo": {
    "defaultKernelName": "csharp",
    "items": [
     {
      "aliases": [],
      "name": "csharp"
     }
    ]
   }
  }
 },
 "nbformat": 4,
 "nbformat_minor": 2
}
