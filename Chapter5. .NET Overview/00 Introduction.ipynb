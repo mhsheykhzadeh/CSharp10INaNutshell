{
 "cells": [
  {
   "cell_type": "markdown",
   "metadata": {
    "dotnet_interactive": {
     "language": "csharp"
    },
    "polyglot_notebook": {
     "kernelName": "csharp"
    }
   },
   "source": [
    "<div dir=\"rtl\" style=\"width:90%; margin:auto\">\n",
    "\n",
    "<p><strong>قابلیت‌های .NET 6</strong>: .NET 6 دارای یک مجموعه وسیع از قابلیت‌ها است که از طریق یک سری انواع (Types) مدیریت شده در دسترس قرار می‌گیرند. این انواع مدیریت شده در واقع کلاس‌ها و دیگر ساختارهای داده‌ای هستند که برنامه‌نویسان می‌توانند در کدهای خود استفاده کنند.</p>\n",
    "<p><strong>سازماندهی در Namespaceها</strong>: این انواع در داخل فضای نام‌های (Namespaces) سلسله مراتبی سازماندهی شده‌اند. فضای نام‌ها مانند دسته‌بندی‌هایی هستند که برای مرتب‌سازی و مدیریت انواع مختلف استفاده می‌شوند.</p>\n",
    "\n",
    "<p><strong>Assemblies</strong>: این انواع به صورت بسته‌هایی به نام اسمبلی (Assembly) ارائه می‌شوند. اسمبلی‌ها فایل‌هایی هستند که حاوی کد باینری و متادیتای برنامه‌ها هستند. اسمبلی‌ها می‌توانند شامل یک یا چندین فضای نام و نوع باشند.</p>\n",
    "\n",
    "<p><strong>System.Private.CoreLib.dll</strong>: برخی از انواع .NET به طور مستقیم توسط Common Language Runtime (CLR) استفاده می‌شوند و برای محیط مدیریت شده ضروری هستند. این انواع در اسمبلی به نام System.Private.CoreLib.dll قرار دارند. این اسمبلی شامل انواع پایه‌ای C# مانند انواع built-in (مثل int، string و ...) و همچنین کلاس‌های پایه‌ای کلکسیون (مثل List و Dictionary)، و انواع مربوط به پردازش جریان‌ها، سریال‌سازی، بازتاب (Reflection)، چندنخی (Threading) و تعامل با کدهای بومی (Native Interoperability) است.</p>\n",
    "</div>"
   ]
  },
  {
   "cell_type": "markdown",
   "metadata": {},
   "source": [
    "`System.Private.CoreLib.dll` replaces ***.NET Framework’s*** `mscorlib.dll`"
   ]
  },
  {
   "cell_type": "markdown",
   "metadata": {},
   "source": [
    "<div dir=\"rtl\" style=\"width:90%; margin:auto\">\n",
    "<h5>سطوح بالاتر از CLR</h5>\n",
    "<ul><li><strong>XML و JSON</strong>: انواعی برای پردازش و مدیریت داده‌های XML و JSON.</li><li><strong>شبکه (Networking)</strong>: انواعی که ارتباطات شبکه‌ای را فراهم می‌کنند.</li><li><strong>Language-Integrated Query (LINQ)</strong>: مجموعه‌ای از انواع و توابعی که به شما اجازه می‌دهند تا به صورت یکپارچه و با استفاده از زبان برنامه‌نویسی خود، کوئری‌های مختلفی را اجرا کنید.</li></ul>\n",
    "\n",
    "<p><strong>کتابخانه کلاس‌های پایه (BCL)</strong>: انواع مذکور بخشی از چیزی هستند که به آن کتابخانه کلاس‌های پایه (Base Class Library یا BCL) گفته می‌شود. BCL مجموعه‌ای از انواع و کتابخانه‌هایی است که قابلیت‌های اساسی و ضروری برای توسعه برنامه‌ها را فراهم می‌کند.</p>\n",
    "\n",
    "<p><strong>لایه‌های کاربردی (Application Layers)</strong>: بالاتر از BCL، لایه‌های کاربردی قرار دارند که APIهایی برای توسعه انواع خاصی از برنامه‌ها ارائه می‌دهند. این لایه‌ها شامل:</p>\n",
    "<ul><li><strong>توسعه وب</strong>: APIهایی برای ساخت و توسعه برنامه‌های وب.</li><li><strong>کلاینت غنی (Rich Client)</strong>: APIهایی برای توسعه برنامه‌های دسکتاپ یا موبایل با رابط کاربری غنی.</li></ul>\n",
    "<div>"
   ]
  },
  {
   "cell_type": "markdown",
   "metadata": {},
   "source": [
    "In this chapter, we provide the following:\n",
    "- An ***overview*** of the `BCL` \n",
    "- A ***high-level summary*** of the `application layers`"
   ]
  }
 ],
 "metadata": {
  "kernelspec": {
   "display_name": ".NET (C#)",
   "language": "C#",
   "name": ".net-csharp"
  },
  "language_info": {
   "name": "python"
  },
  "polyglot_notebook": {
   "kernelInfo": {
    "defaultKernelName": "csharp",
    "items": [
     {
      "aliases": [],
      "name": "csharp"
     }
    ]
   }
  }
 },
 "nbformat": 4,
 "nbformat_minor": 2
}
