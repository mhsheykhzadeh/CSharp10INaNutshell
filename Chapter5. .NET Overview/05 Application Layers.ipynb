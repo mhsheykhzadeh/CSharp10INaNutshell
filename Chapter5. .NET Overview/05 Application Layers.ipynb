{
 "cells": [
  {
   "cell_type": "markdown",
   "metadata": {},
   "source": [
    "User interface `(UI)–based` applications can be divided into `two categories`:\n",
    "- `thin client` like websites\n",
    "- `rich client` which is a program the `end user` must `download` and `install` on a computer or mobile device"
   ]
  },
  {
   "cell_type": "markdown",
   "metadata": {},
   "source": [
    "For writing `thin-client` applications in C#, there’s `ASP.NET Core`"
   ]
  },
  {
   "cell_type": "markdown",
   "metadata": {},
   "source": [
    "For `rich-client` applications, there is a choice of APIs:\n",
    "- The Windows Desktop layer includes the `WPF` and `Windows Forms` APIs, and runs on Windows `7/8/10/11` desktop.\n",
    "- `UWP (Universal Windows Platform)` lets you write `Windows Store apps` that run on `Windows 10+` desktop and `devices`.\n",
    "- `WinUI 3` (Windows App SDK) is a recent `successor(جانشین) to UWP` that runs on Windows 10+ desktop.\n",
    "- `MAUI (formerly(سابق) Xamarin)` runs on `iOS` and `Android` mobile devices. MAUI also allows for cross-platform `desktop applications` that target `macOS` and `Windows`."
   ]
  },
  {
   "cell_type": "markdown",
   "metadata": {},
   "source": [
    "There are also third-party libraries, such as `Avalonia`, which offer cross-platform UI support."
   ]
  },
  {
   "cell_type": "markdown",
   "metadata": {},
   "source": [
    "### ASP.NET Core"
   ]
  },
  {
   "cell_type": "markdown",
   "metadata": {},
   "source": [
    "### Windows Desktop"
   ]
  },
  {
   "cell_type": "markdown",
   "metadata": {},
   "source": [
    "#### WPF"
   ]
  },
  {
   "cell_type": "markdown",
   "metadata": {},
   "source": [
    "***WPF*** was introduced in `2006` and has been enhanced ever since."
   ]
  },
  {
   "cell_type": "markdown",
   "metadata": {},
   "source": [
    "<div dir=\"rtl\" style=\"width:90%; margin:auto\">\n",
    "<ol><li><p><strong>پشتیبانی از گرافیک پیشرفته</strong></p><ul><li><strong>DirectX:</strong> WPF به طور صریح از DirectX برای رندر کردن کنترل‌ها استفاده می‌کند، که به آن امکان می‌دهد گرافیک‌های پیچیده‌ای مانند تبدیل‌های دلخواه، رندر سه‌بعدی، چندرسانه‌ای و شفافیت واقعی را پشتیبانی کند.</li><li><strong>استایل‌ها و قالب‌ها:</strong> امکان تغییر ظاهر و احساس (skinning) برنامه‌ها از طریق استفاده از استایل‌ها و قالب‌ها فراهم می‌شود.</li></ul></li><li><p><strong>واحد اندازه‌گیری غیرپیکسلی</strong></p><ul><li><strong>DPI مستقل:</strong> واحد اندازه‌گیری اصلی در WPF مبتنی بر پیکسل نیست، بنابراین برنامه‌ها در هر تنظیم DPI به درستی نمایش داده می‌شوند. این به ویژه برای نمایش‌های با رزولوشن بالا مفید است، زیرا از مشکلاتی مانند مقیاس‌بندی نادرست یا ناواضح بودن اجزا جلوگیری می‌کند.</li></ul></li><li><p><strong>پشتیبانی گسترده و انعطاف‌پذیر از چیدمان</strong></p><ul><li><strong>پشتیبانی از بومی‌سازی:</strong> WPF دارای سیستم چیدمان انعطاف‌پذیری است که از همپوشانی عناصر هنگام بومی‌سازی برنامه جلوگیری می‌کند. این به توسعه‌دهندگان امکان می‌دهد برنامه‌ها را به زبان‌های مختلف بومی‌سازی کنند بدون اینکه عناصر بصری به هم ریخته شوند.</li></ul></li><li><p><strong>شتاب سخت‌افزاری</strong></p><ul><li><strong>سرعت رندرینگ:</strong> استفاده از DirectX باعث می‌شود رندر کردن در WPF سریع و با استفاده از شتاب سخت‌افزاری گرافیک باشد. این منجر به عملکرد بهتر و پاسخ‌گویی سریع‌تر برنامه‌ها می‌شود.</li></ul></li><li><p><strong>اتصال داده قابل اعتماد</strong></p><ul><li><strong>Data Binding:</strong> WPF یک سیستم اتصال داده قوی و قابل اعتماد ارائه می‌دهد که به توسعه‌دهندگان امکان می‌دهد به راحتی داده‌ها را به رابط‌های کاربری متصل کنند. این ویژگی به ویژه برای برنامه‌های تجاری که نیاز به نمایش داده‌های پویا دارند، بسیار مفید است.</li></ul></li><li><p><strong>توصیف رابط کاربری به صورت اعلامی</strong></p><ul><li><strong>XAML:</strong> رابط‌های کاربری در WPF می‌توانند به صورت اعلامی در فایل‌های XAML تعریف شوند. این فایل‌ها مستقل از فایل‌های \"code-behind\" (فایل‌های حاوی منطق برنامه) نگهداری می‌شوند، که این کمک می‌کند تا ظاهر برنامه از عملکرد آن جدا شود. این جداسازی توسعه و نگهداری برنامه‌ها را ساده‌تر می‌کند و امکان همکاری بهتر بین طراحان و توسعه‌دهندگان را فراهم می‌آورد.</li></ul></li></ol>\n",
    "</div>"
   ]
  },
  {
   "cell_type": "markdown",
   "metadata": {},
   "source": [
    "### Windows Form"
   ]
  },
  {
   "cell_type": "markdown",
   "metadata": {},
   "source": [
    "<div dir=\"rtl\" style=\"width:90%; margin:auto\">\n",
    "<h5>Windows Forms چیست؟</h5>\n",
    "<ul><li><strong>Windows Forms:</strong> یک تکنولوژی نسبتاً ساده است که اکثر ویژگی‌های مورد نیاز برای نوشتن یک برنامه معمولی ویندوزی را فراهم می‌کند. این تکنولوژی به ویژه برای نگهداری و پشتیبانی از برنامه‌های قدیمی (legacy applications) اهمیت زیادی دارد.</li><li><strong>ساختار:</strong> Windows Forms بر پایه GDI+ (Graphics Device Interface) و کتابخانه کنترل‌های Win32 ساخته شده است.</li></ul>\n",
    "\n",
    "<h5>نقاط ضعف Windows Forms نسبت به WPF</h5>\n",
    "<ol><li><p><strong>آگاهی از DPI:</strong></p><ul><li><strong>مشکلات DPI:</strong> اگرچه Windows Forms مکانیزم‌هایی برای آگاهی از DPI دارد، نوشتن برنامه‌هایی که در تنظیمات مختلف DPI به درستی کار کنند، همچنان دشوار است. این به این معنی است که برنامه‌ها ممکن است در دستگاه‌هایی با تنظیمات DPI مختلف دچار مشکل شوند.</li></ul></li><li><p><strong>رندرینگ GDI+:</strong></p><ul><li><strong>سرعت کم:</strong> GDI+، API استفاده شده برای رسم کنترل‌های غیر استاندارد، انعطاف‌پذیری مناسبی دارد، اما در رندر کردن نواحی بزرگ کند است و ممکن است بدون استفاده از دوبل بافرینگ (double buffering) پرش (flicker) داشته باشد.</li></ul></li><li><p><strong>شفافیت واقعی:</strong></p><ul><li><strong>نبود شفافیت واقعی:</strong> کنترل‌های Windows Forms از شفافیت واقعی برخوردار نیستند.</li></ul></li><li><p><strong>کنترل‌های غیر ترکیبی:</strong></p><ul><li><strong>عدم ترکیب‌پذیری:</strong> بیشتر کنترل‌ها ترکیبی نیستند. به عنوان مثال، نمی‌توانید یک کنترل تصویر را داخل سرصفحه یک کنترل تب قرار دهید. سفارشی‌سازی لیست ویوها، کامبو باکس‌ها و کنترل‌های تب در Windows Forms زمان‌بر و دشوار است، در حالی که این کارها در WPF بسیار ساده است.</li></ul></li><li><p><strong>چیدمان دینامیک:</strong></p><ul><li><strong>پیاده‌سازی چیدمان:</strong> پیاده‌سازی صحیح و قابل اعتماد چیدمان دینامیک در Windows Forms دشوار است.</li></ul></li></ol>\n",
    "</div>"
   ]
  },
  {
   "cell_type": "markdown",
   "metadata": {},
   "source": [
    "### UWP and WinUI 3"
   ]
  },
  {
   "cell_type": "markdown",
   "metadata": {},
   "source": [
    "<div dir=\"rtl\" style=\"width:90%; margin:auto\">\n",
    "<h5>UWP چیست؟</h5>\n",
    "<ul><li><strong>UWP (Universal Windows Platform):</strong> یک API برای نوشتن رابط‌های کاربری با تمرکز بر لمس که دستگاه‌های دسکتاپ و سایر دستگاه‌های ویندوز 10+ را هدف قرار می‌دهد. عبارت \"Universal\" به قابلیت اجرای این برنامه‌ها روی طیف وسیعی از دستگاه‌های ویندوز 10، از جمله Xbox، Surface Hub و HoloLens اشاره دارد.</li><li><strong>محدودیت‌ها:</strong> UWP با نسخه‌های قدیمی‌تر ویندوز (مثل ویندوز 7 و ویندوز 8/8.1) سازگار نیست.</li></ul>\n",
    "<h5>تفاوت‌های کلیدی UWP با WPF</h5>\n",
    "<ol><li><strong>توزیع از طریق Windows Store:</strong><ul><li>برنامه‌های UWP به طور عمده از طریق فروشگاه ویندوز (Windows Store) توزیع می‌شوند.</li></ul></li><li><strong>اجرای برنامه‌ها در یک محیط ایمن (Sandbox):</strong><ul><li>برنامه‌های UWP در یک محیط ایمن اجرا می‌شوند تا تهدیدات ناشی از بدافزارها کاهش یابد. این به معنای آن است که این برنامه‌ها نمی‌توانند وظایفی مانند خواندن یا نوشتن فایل‌های دلخواه را انجام دهند و نمی‌توانند با دسترسی ادمین اجرا شوند.</li></ul></li><li><strong>استفاده از نوع‌های WinRT:</strong><ul><li>UWP بر روی نوع‌های WinRT که بخشی از سیستم عامل ویندوز هستند، متکی است نه بر روی runtime مدیریت شده. این بدین معناست که هنگام نوشتن برنامه‌ها باید یک محدوده نسخه ویندوز را انتخاب کنید (مثلاً از نسخه 17763 تا نسخه 18362 ویندوز 10). این یعنی یا باید از APIهای قدیمی استفاده کنید یا از کاربران خود بخواهید آخرین به‌روزرسانی ویندوز را نصب کنند.</li></ul></li></ol>\n",
    "\n",
    "<h5>مشکلات و محدودیت‌های UWP</h5>\n",
    "<p>به دلیل محدودیت‌های ذکر شده، UWP نتوانست به محبوبیت WPF و Windows Forms دست یابد. برای حل این مشکل، مایکروسافت فناوری جدیدی به نام Windows App SDK معرفی کرد که شامل یک لایه UI به نام WinUI 3 است.</p>\n",
    "<h5>مزایای Windows App SDK و WinUI 3</h5>\n",
    "<ol><li><strong>انتقال APIهای WinRT به runtime:</strong><ul><li>این انتقال باعث می‌شود که یک رابط کاملاً مدیریت شده ایجاد شود و نیاز به هدف قرار دادن یک نسخه خاص از سیستم عامل را از بین ببرد.</li></ul></li><li><strong>یکپارچگی بهتر با Windows Desktop APIs:</strong><ul><li>Windows App SDK بهتر با APIهای دسکتاپ ویندوز (Windows Forms و WPF) یکپارچه می‌شود.</li></ul></li><li><strong>امکان نوشتن برنامه‌هایی که خارج از sandbox ویندوز اجرا می‌شوند:</strong><ul><li>این ویژگی به توسعه‌دهندگان اجازه می‌دهد تا برنامه‌هایی بنویسند که نیاز به اجرای خارج از محیط ایمن دارند.</li></ul></li><li><strong>اجرای بر روی آخرین نسخه .NET:</strong><ul><li>Windows App SDK بر روی آخرین نسخه .NET اجرا می‌شود و به نسخه خاصی مانند .NET Core 2.2 وابسته نیست، همانطور که در مورد UWP بود.</li></ul></li></ol>\n",
    "<h5>محدودیت‌های Windows App SDK و WinUI 3</h5>\n",
    "<ul><li><strong>عدم پشتیبانی از Xbox و HoloLens:</strong> در زمان نگارش متن، Windows App SDK از Xbox و HoloLens پشتیبانی نمی‌کند.</li></ul>\n",
    "</div>"
   ]
  },
  {
   "cell_type": "markdown",
   "metadata": {},
   "source": [
    "### MAUI"
   ]
  },
  {
   "cell_type": "markdown",
   "metadata": {},
   "source": [
    "<div dir=\"rtl\" style=\"width:90%; margin:auto\">\n",
    "<p><strong>MAUI (Multi-platform App UI):</strong> یک پلتفرم توسعه نرم‌افزار است که در اوایل سال 2022 معرفی شد. MAUI به توسعه‌دهندگان اجازه می‌دهد تا اپلیکیشن‌های موبایل و دسکتاپ چند سکویی (cross-platform) را با استفاده از زبان C# توسعه دهند. این اپلیکیشن‌ها می‌توانند سیستم‌عامل‌های iOS، Android، macOS و Windows را هدف قرار دهند.</p>\n",
    "<h5>Mono و .NET</h5>\n",
    "\n",
    "<ul><li><strong>Mono:</strong> یک runtime متن‌باز است که بر روی iOS و Android اجرا می‌شود و از CLR (Common Language Runtime) و BCL (Base Class Library) استفاده می‌کند.</li><li><strong>تاریخچه Mono:</strong> به طور تاریخی، Mono به طور کامل با .NET سازگار نبوده است. بنابراین، کتابخانه‌هایی که می‌خواستند هم بر روی Mono و هم بر روی .NET اجرا شوند، باید از .NET Standard استفاده می‌کردند.</li><li><strong>MAUI و Mono:</strong> با MAUI، رابط عمومی Mono با .NET 6 ترکیب شده است، که باعث می‌شود Mono عملاً به عنوان یکی از پیاده‌سازی‌های .NET 6 عمل کند.</li></ul>\n",
    "\n",
    "<h5>ویژگی‌های جدید MAUI</h5>\n",
    "<ol><li><p><strong>رابط پروژه یکپارچه (Unified Project Interface):</strong></p><ul><li>توسعه‌دهندگان می‌توانند از یک پروژه واحد برای هدف قرار دادن چندین پلتفرم مختلف استفاده کنند، که فرآیند توسعه را ساده‌تر و کارآمدتر می‌کند.</li></ul></li><li><p><strong>Hot Reloading:</strong></p><ul><li>این ویژگی به توسعه‌دهندگان اجازه می‌دهد تا تغییرات کد را به صورت بلادرنگ (real-time) مشاهده کنند و نیازی به بازسازی (rebuild) کامل پروژه ندارند، که به صرفه‌جویی در زمان توسعه کمک می‌کند.</li></ul></li><li><p><strong>پشتیبانی از Blazor Desktop و اپلیکیشن‌های ترکیبی (Hybrid Apps):</strong></p><ul><li>MAUI از Blazor Desktop پشتیبانی می‌کند، که به توسعه‌دهندگان اجازه می‌دهد اپلیکیشن‌های دسکتاپی با استفاده از فناوری Blazor و C# ایجاد کنند. اپلیکیشن‌های ترکیبی نیز می‌توانند با استفاده از ترکیبی از فناوری‌های وب و بومی (native) ایجاد شوند.</li></ul></li><li><p><strong>بهبود عملکرد و زمان راه‌اندازی:</strong></p><ul><li>MAUI بهبود‌های قابل توجهی در عملکرد و زمان راه‌اندازی اپلیکیشن‌ها ارائه می‌دهد، که تجربه کاربری را بهبود می‌بخشد.</li></ul></li></ol>\n",
    "</div>"
   ]
  }
 ],
 "metadata": {
  "kernelspec": {
   "display_name": ".NET (C#)",
   "language": "C#",
   "name": ".net-csharp"
  },
  "language_info": {
   "name": "python"
  },
  "polyglot_notebook": {
   "kernelInfo": {
    "defaultKernelName": "csharp",
    "items": [
     {
      "aliases": [],
      "name": "csharp"
     }
    ]
   }
  }
 },
 "nbformat": 4,
 "nbformat_minor": 2
}
