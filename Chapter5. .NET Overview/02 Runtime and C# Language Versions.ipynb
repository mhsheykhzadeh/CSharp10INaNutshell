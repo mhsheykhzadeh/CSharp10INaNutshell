{
 "cells": [
  {
   "cell_type": "markdown",
   "metadata": {},
   "source": [
    "By default, ***your project’s*** `runtime version` determines which `C# language version` is used:\n",
    "- For `.NET 6`, it’s `C# 10`.\n",
    "- For `.NET 5`, it’s `C# 9`.\n",
    "- For `.NET Core 3.x`, `Xamarin`, and `.NET Standard 2.1`, it’s `C# 8`.\n",
    "- For `.NET Core 2.x`, `.NET Framework`, and `.NET Standard 2.0` and below, it’s\n",
    "`C# 7.3`."
   ]
  },
  {
   "cell_type": "markdown",
   "metadata": {},
   "source": [
    "You can **override** the ***language version*** in your project file with the `<LangVersion>` element."
   ]
  }
 ],
 "metadata": {
  "kernelspec": {
   "display_name": ".NET (C#)",
   "language": "C#",
   "name": ".net-csharp"
  },
  "language_info": {
   "name": "python"
  },
  "polyglot_notebook": {
   "kernelInfo": {
    "defaultKernelName": "csharp",
    "items": [
     {
      "aliases": [],
      "name": "csharp"
     }
    ]
   }
  }
 },
 "nbformat": 4,
 "nbformat_minor": 2
}
