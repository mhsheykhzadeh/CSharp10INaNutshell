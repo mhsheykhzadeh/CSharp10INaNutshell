{
 "cells": [
  {
   "cell_type": "markdown",
   "metadata": {},
   "source": [
    "<div dir=\"rtl\" style=\"width:90%; margin:auto\">\n",
    "<h5>Reference Assemblies چیست؟</h5>\n",
    "<ul><li><strong>مرجع اسمبلی‌ها (Reference Assemblies):</strong> یک نوع خاص از اسمبلی‌ها هستند که فقط به منظور کمک به کامپایلر وجود دارند و هیچ کد کامپایل شده‌ای درون آن‌ها نیست.</li><li><strong>netstandard.dll:</strong> وقتی شما یک پروژه را با هدف .NET Standard ایجاد می‌کنید، به طور ضمنی (implicitly) به یک اسمبلی به نام netstandard.dll ارجاع داده می‌شود. این اسمبلی شامل تمام انواع (types) و اعضای (members) مجاز برای نسخه انتخابی .NET Standard شما است.</li></ul>\n",
    "<h5>نقش Reference Assemblies</h5>\n",
    "\n",
    "<ul><li><strong>کمک به کامپایلر:</strong> Reference Assemblies فقط برای کمک به کامپایلر در طول فرآیند کامپایل کد وجود دارند. کامپایلر از آن‌ها برای بررسی نوع‌ها و اعضای موجود در کد استفاده می‌کند تا اطمینان حاصل شود که کد شما با نسخه انتخابی .NET Standard سازگار است.</li><li><strong>عدم وجود کد کامپایل شده:</strong> Reference Assemblies شامل کد کامپایل شده نیستند. این یعنی در زمان اجرا (runtime)، این اسمبلی‌ها جایگزین نمی‌شوند.</li></ul>\n",
    "\n",
    "<h5>اجرای واقعی (Runtime)</h5>\n",
    "<ul><li><strong>تعیین اسمبلی‌های واقعی:</strong> در زمان اجرا، اسمبلی‌های واقعی از طریق ویژگی‌های تغییر مسیر اسمبلی (assembly redirection attributes) شناسایی می‌شوند. این ویژگی‌ها تعیین می‌کنند که کدام اسمبلی‌های واقعی باید مورد استفاده قرار گیرند، که بستگی به این دارد که کد شما در کدام محیط و پلتفرم در حال اجرا است.</li></ul>\n",
    "\n",
    "<h5>مثال عملی</h5>\n",
    "<p>فرض کنید شما یک کتابخانه با هدف .NET Standard ایجاد کرده‌اید. وقتی این کتابخانه را کامپایل می‌کنید، کامپایلر از netstandard.dll به عنوان مرجع استفاده می‌کند تا مطمئن شود که شما از APIهایی استفاده می‌کنید که در .NET Standard موجود است. اما در زمان اجرا، بسته به اینکه کتابخانه شما در یک برنامه .NET Core، .NET 5+ یا هر محیط دیگری استفاده می‌شود، اسمبلی‌های واقعی مربوط به آن محیط استفاده خواهند شد.</p>\n",
    "</div>"
   ]
  }
 ],
 "metadata": {
  "kernelspec": {
   "display_name": ".NET (C#)",
   "language": "C#",
   "name": ".net-csharp"
  },
  "language_info": {
   "name": "python"
  },
  "polyglot_notebook": {
   "kernelInfo": {
    "defaultKernelName": "csharp",
    "items": [
     {
      "aliases": [],
      "name": "csharp"
     }
    ]
   }
  }
 },
 "nbformat": 4,
 "nbformat_minor": 2
}
