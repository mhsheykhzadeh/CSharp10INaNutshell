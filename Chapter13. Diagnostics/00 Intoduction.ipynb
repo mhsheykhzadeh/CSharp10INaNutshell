{
 "cells": [
  {
   "cell_type": "markdown",
   "metadata": {},
   "source": [
    "<div dir=\"rtl\" style=\"width:90%; margin:auto;\">\n",
    "\n",
    "<p>\n",
    "زمانی که مشکلاتی در یک برنامه رخ می‌دهد، وجود اطلاعات تشخیصی برای عیب‌یابی بسیار مهم است. در محیط توسعه، استفاده از IDE (محیط توسعه یکپارچه) یا دیباگر (اشکال‌زدا) می‌تواند به طور چشمگیری در این زمینه کمک کند. اما پس از انتشار برنامه و در زمان اجرا، خود برنامه باید اطلاعات لازم برای تشخیص مشکلات را جمع‌آوری و ثبت کند.\n",
    "</p>\n",
    "<p><strong>فضای نام System.Diagnostics:</strong> انواع و توابع مربوط به تشخیص و ثبت اطلاعات خطاها عمدتاً در فضای نام System.Diagnostics تعریف شده‌اند. این فضای نام شامل کلاس‌ها و روش‌هایی برای ثبت لاگ‌ها، نظارت بر عملکرد برنامه و مدیریت خطاها است.</p>\n",
    "</div>"
   ]
  }
 ],
 "metadata": {
  "kernelspec": {
   "display_name": ".NET (C#)",
   "language": "C#",
   "name": ".net-csharp"
  },
  "language_info": {
   "name": "python"
  },
  "polyglot_notebook": {
   "kernelInfo": {
    "defaultKernelName": "csharp",
    "items": [
     {
      "aliases": [],
      "name": "csharp"
     }
    ]
   }
  }
 },
 "nbformat": 4,
 "nbformat_minor": 2
}
