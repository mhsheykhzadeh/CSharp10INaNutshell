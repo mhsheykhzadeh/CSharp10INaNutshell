{
 "cells": [
  {
   "cell_type": "markdown",
   "metadata": {},
   "source": [
    "The ***Win32*** platform provides a** centralized logging mechanism**, in the form of the `Windows event logs`."
   ]
  },
  {
   "cell_type": "markdown",
   "metadata": {},
   "source": [
    "The `Debug` and `Trace` classes we used earlier write to a **Windows event log** if you register an `EventLogTraceListener`."
   ]
  },
  {
   "cell_type": "code",
   "execution_count": null,
   "metadata": {
    "dotnet_interactive": {
     "language": "csharp"
    },
    "polyglot_notebook": {
     "kernelName": "csharp"
    },
    "vscode": {
     "languageId": "polyglot-notebook"
    }
   },
   "outputs": [],
   "source": [
    "using System.Diagnostics;\n",
    "\n",
    "EventLogTraceListener eventLogListener = new EventLogTraceListener(\"MyAppSource\");\n",
    "Trace.Listeners.Add(eventLogListener);\n",
    "\n",
    "    // نوشتن پیام های Trace و Debug\n",
    "Trace.WriteLine(\"This is a trace message.\");\n",
    "Debug.WriteLine(\"This is a debug message.\");"
   ]
  },
  {
   "cell_type": "markdown",
   "metadata": {},
   "source": [
    "With the `EventLog` class, however, you can write **directly** to a Windows event log **without** using `Trace` or `Debug`."
   ]
  },
  {
   "cell_type": "code",
   "execution_count": null,
   "metadata": {
    "dotnet_interactive": {
     "language": "csharp"
    },
    "polyglot_notebook": {
     "kernelName": "csharp"
    },
    "vscode": {
     "languageId": "polyglot-notebook"
    }
   },
   "outputs": [],
   "source": [
    "using System.Diagnostics;\n",
    "\n",
    "string source = \"MyAppSource\";\n",
    "string log = \"Application\";\n",
    "    \n",
    "if (!EventLog.SourceExists(source))\n",
    "{\n",
    "    EventLog.CreateEventSource(source, log);\n",
    "}\n",
    "    \n",
    "EventLog.WriteEntry(source, \"message\", EventLogEntryType.Error);\n",
    "EventLog.WriteEntry(source, \"message\", EventLogEntryType.FailureAudit);\n",
    "EventLog.WriteEntry(source, \"message\", EventLogEntryType.Information);\n",
    "EventLog.WriteEntry(source, \"message\", EventLogEntryType.SuccessAudit);\n",
    "EventLog.WriteEntry(source, \"message\", EventLogEntryType.Warning);\n",
    "\n",
    "public void ReadEventLog()\n",
    "{\n",
    "    EventLog eventLog = new EventLog(\"Application\");\n",
    "    foreach (EventLogEntry entry in eventLog.Entries)\n",
    "    {\n",
    "        Console.WriteLine($\"{entry.TimeWritten}: {entry.Source} - {entry.Message}\");\n",
    "    }\n",
    "}"
   ]
  },
  {
   "cell_type": "markdown",
   "metadata": {},
   "source": [
    "There are three standard Windows event logs, identified by these names:\n",
    "- ***Application***\n",
    "- ***System***\n",
    "- ***Security***\n",
    "  \n",
    "The `Application` log is where most applications normally write."
   ]
  },
  {
   "cell_type": "markdown",
   "metadata": {},
   "source": [
    "### Monitoring the Event Log"
   ]
  },
  {
   "cell_type": "code",
   "execution_count": null,
   "metadata": {
    "dotnet_interactive": {
     "language": "csharp"
    },
    "polyglot_notebook": {
     "kernelName": "csharp"
    },
    "vscode": {
     "languageId": "polyglot-notebook"
    }
   },
   "outputs": [],
   "source": [
    "//You can be alerted whenever an entry is written to a Windows event log\n",
    "\n",
    "using System.Diagnostics;\n",
    "\n",
    "using (var log = new EventLog (\"Application\"))\n",
    "{\n",
    "    log.EnableRaisingEvents = true;\n",
    "    log.EntryWritten += DisplayEntry;\n",
    "    Console.ReadLine();\n",
    "}\n",
    "void DisplayEntry (object sender, EntryWrittenEventArgs e)\n",
    "{\n",
    "    EventLogEntry entry = e.Entry;\n",
    "    Console.WriteLine (entry.Message);\n",
    "}"
   ]
  }
 ],
 "metadata": {
  "kernelspec": {
   "display_name": ".NET (C#)",
   "language": "C#",
   "name": ".net-csharp"
  },
  "language_info": {
   "name": "python"
  },
  "polyglot_notebook": {
   "kernelInfo": {
    "defaultKernelName": "csharp",
    "items": [
     {
      "aliases": [],
      "name": "csharp"
     }
    ]
   }
  }
 },
 "nbformat": 4,
 "nbformat_minor": 2
}
