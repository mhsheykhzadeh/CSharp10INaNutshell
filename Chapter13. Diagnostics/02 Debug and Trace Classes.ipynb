{
 "cells": [
  {
   "cell_type": "markdown",
   "metadata": {},
   "source": [
    "<div dir=\"rtl\" style=\"width:90%; margin:auto;\">\n",
    "<p>هر دو کلاس <code>Debug</code> و <code>Trace</code>، کلاس‌های ایستا (static) هستند که قابلیت‌های پایه‌ای برای لاگ‌گیری و assertion فراهم می‌کنند.</p>\n",
    "\n",
    "<p>تفاوت اصلی این دو کلاس در نوع استفاده مورد نظر آن‌ها است:<ul><li><strong>کلاس <code>Debug</code>:</strong> برای استفاده در بیلدهای دیباگ (debug builds) در نظر گرفته شده است.</li><li><strong>کلاس <code>Trace</code>:</strong> برای استفاده در هر دو نوع بیلد دیباگ و انتشار (release builds) در نظر گرفته شده است.</li></ul></p>\n",
    "\n",
    "<p>هر فراخوانی که شما به متدهای <code>Debug</code> یا <code>Trace</code> انجام می‌دهید، توسط کامپایلر حذف می‌شود مگر اینکه نمادهای <code>DEBUG</code> یا <code>TRACE</code> تعریف شده باشند.</p>\n",
    "</div>"
   ]
  },
  {
   "cell_type": "markdown",
   "metadata": {},
   "source": [
    "Both the ***Debug*** and ***Trace*** classes provide `Write`, `WriteLine`, and `WriteIf` methods."
   ]
  },
  {
   "cell_type": "code",
   "execution_count": null,
   "metadata": {
    "dotnet_interactive": {
     "language": "csharp"
    },
    "polyglot_notebook": {
     "kernelName": "csharp"
    },
    "vscode": {
     "languageId": "polyglot-notebook"
    }
   },
   "outputs": [],
   "source": [
    "Debug.Write (\"Data\");\n",
    "Debug.WriteLine (23 * 34);\n",
    "int x = 5, y = 3;\n",
    "Debug.WriteIf (x > y, \"x is greater than y\");"
   ]
  },
  {
   "cell_type": "markdown",
   "metadata": {},
   "source": [
    "The ***Trace*** class also provides the methods `TraceInformation`, `TraceWarning`, and `TraceError`."
   ]
  },
  {
   "cell_type": "markdown",
   "metadata": {},
   "source": [
    "### Fail and Assert"
   ]
  },
  {
   "cell_type": "markdown",
   "metadata": {},
   "source": [
    "<div dir=\"rtl\" style=\"width:90%; margin:auto;\">\n",
    "<p><strong>متد <code>Fail</code>:</strong></p>\n",
    "<p>متد <code>Fail</code> پیامی را به هر <code>TraceListener</code> در مجموعه <code>Listeners</code> کلاس‌های <code>Debug</code> یا <code>Trace</code> ارسال می‌کند.</p>\n",
    "<p>به صورت پیش‌فرض، این پیام به خروجی دیباگ نوشته می‌شود.</p>\n",
    "</div>"
   ]
  },
  {
   "cell_type": "code",
   "execution_count": null,
   "metadata": {
    "dotnet_interactive": {
     "language": "csharp"
    },
    "polyglot_notebook": {
     "kernelName": "csharp"
    },
    "vscode": {
     "languageId": "polyglot-notebook"
    }
   },
   "outputs": [],
   "source": [
    "using System.Diagnostics;\n",
    "\n",
    "Debug.Fail(\"File data.txt does not exist!\");"
   ]
  },
  {
   "cell_type": "markdown",
   "metadata": {},
   "source": [
    "<div dir=\"rtl\" style=\"width:90%; margin:auto;\">\n",
    "<p><strong>متد <code>Assert</code>:</strong></p>\n",
    "<p><p>متد <code>Assert</code> در صورتی که آرگومان بولی آن <code>false</code> باشد، متد <code>Fail</code> را فراخوانی می‌کند.</p></p>\n",
    "</div>"
   ]
  },
  {
   "cell_type": "code",
   "execution_count": 3,
   "metadata": {
    "dotnet_interactive": {
     "language": "csharp"
    },
    "polyglot_notebook": {
     "kernelName": "csharp"
    },
    "vscode": {
     "languageId": "polyglot-notebook"
    }
   },
   "outputs": [],
   "source": [
    "using System.Diagnostics;\n",
    "using System.IO;\n",
    "\n",
    "Debug.Assert(File.Exists(\"data.txt\"), \"File data.txt does not exist!\");"
   ]
  },
  {
   "cell_type": "markdown",
   "metadata": {},
   "source": [
    "<div dir=\"rtl\" style=\"width:90%; margin:auto;\">\n",
    "<p><strong>مجموعه <code>Listeners</code>:</strong></p>\n",
    "\n",
    "<ul><li>هر دو کلاس <code>Debug</code> و <code>Trace</code> دارای مجموعه‌ای از <code>TraceListener</code> ها هستند که پیام‌های <code>Fail</code> و <code>Assert</code> را دریافت می‌کنند.</li><li>به صورت پیش‌فرض، این مجموعه شامل <code>DefaultTraceListener</code> است که پیام‌ها را به خروجی دیباگ می‌نویسد.</li><li>شما می‌توانید <code>TraceListener</code> های سفارشی به این مجموعه اضافه کنید تا پیام‌ها را به مکان‌های مختلفی مانند فایل‌ها، پایگاه‌های داده یا سیستم‌های لاگ‌گیری دیگر ارسال کنید.</li></ul>\n",
    "\n",
    "</div>"
   ]
  },
  {
   "cell_type": "markdown",
   "metadata": {},
   "source": [
    "The default listener has two key features:  \n",
    "- When connected to a debugger such as `Visual Studio`, messages are written to the debug output window; otherwise, message content is ignored.\n",
    "- When the `Fail` method is called (or an assertion fails), the `application is terminated`."
   ]
  },
  {
   "cell_type": "markdown",
   "metadata": {},
   "source": [
    "preddfined TraceLister :\n",
    "- `TextWriterTraceListener` writes to a `Stream` or `TextWriter` or appends to a file.\n",
    "- `EventLogTraceListener` writes to the Windows event log (Windows only).\n",
    "- `EventProviderTraceListener` writes to the Event Tracing for Windows (ETW) subsystem (`cross-platform support`)."
   ]
  },
  {
   "cell_type": "markdown",
   "metadata": {},
   "source": [
    "You can write ***owne*** `trace listeners` from scratch (by `subclassing TraceListener`)"
   ]
  },
  {
   "cell_type": "code",
   "execution_count": null,
   "metadata": {
    "dotnet_interactive": {
     "language": "csharp"
    },
    "polyglot_notebook": {
     "kernelName": "csharp"
    },
    "vscode": {
     "languageId": "polyglot-notebook"
    }
   },
   "outputs": [],
   "source": [
    "// Clear the default listener:\n",
    "Trace.Listeners.Clear();\n",
    "\n",
    "// Add a writer that appends to the trace.txt file:\n",
    "Trace.Listeners.Add (new TextWriterTraceListener (\"trace.txt\"));\n",
    "\n",
    "// Obtain the Console's output stream, then add that as a listener:\n",
    "System.IO.TextWriter tw = Console.Out;\n",
    "Trace.Listeners.Add (new TextWriterTraceListener (tw));\n",
    "\n",
    "// Set up a Windows Event log source and then create/add listener.\n",
    "// CreateEventSource requires administrative elevation, so this would\n",
    "// typically be done in application setup.\n",
    "if (!EventLog.SourceExists (\"DemoApp\")) // check exist EventLog with \"DemoApp\" name\n",
    "    EventLog.CreateEventSource (\"DemoApp\", \"Application\"); // create if not exist\n",
    "Trace.Listeners.Add (new EventLogTraceListener (\"DemoApp\")); // add to Listeners"
   ]
  },
  {
   "cell_type": "code",
   "execution_count": 4,
   "metadata": {
    "dotnet_interactive": {
     "language": "csharp"
    },
    "polyglot_notebook": {
     "kernelName": "csharp"
    },
    "vscode": {
     "languageId": "polyglot-notebook"
    }
   },
   "outputs": [],
   "source": [
    "TextWriterTraceListener tl = new TextWriterTraceListener(Console.Out);\n",
    "        \n",
    "        // تنظیم گزینه‌های خروجی لاگ برای شامل کردن تاریخ و زمان و پشته فراخوانی\n",
    "        tl.TraceOutputOptions = TraceOptions.DateTime | TraceOptions.Callstack;\n",
    "        \n",
    "        // اضافه کردن TraceListener به مجموعه Listeners\n",
    "        Trace.Listeners.Add(tl);\n",
    "        \n",
    "        // تنظیم سطح تورفتگی و اندازه تورفتگی\n",
    "        Trace.IndentLevel = 1;\n",
    "        Trace.IndentSize = 4;\n",
    "        \n",
    "        // ارسال یک پیام هشدار با استفاده از متد Trace\n",
    "        Trace.TraceWarning(\"Orange alert\");\n",
    "        \n",
    "        // تنظیم یک فیلتر برای فیلتر کردن پیام‌ها بر اساس نوع رویداد\n",
    "        tl.Filter = new EventTypeFilter(SourceLevels.Warning);\n",
    "        \n",
    "        // ارسال یک پیام اطلاعاتی که توسط فیلتر مسدود می‌شود\n",
    "        Trace.TraceInformation(\"This message will not be displayed because of the filter.\");\n",
    "\n",
    " // خروجی در visual studio قابل مشاهده است"
   ]
  },
  {
   "cell_type": "markdown",
   "metadata": {},
   "source": [
    "### Flushing and Closing Listeners"
   ]
  },
  {
   "cell_type": "markdown",
   "metadata": {},
   "source": [
    "<div dir=\"rtl\" style=\"width:90%; margin:auto;\">\n",
    "\n",
    "<p>برخی شنونده‌ها مانند <code>TextWriterTraceListener</code> به جریان‌هایی می‌نویسند که به کش (cache) وابسته هستند.</p>\n",
    "\n",
    "<p>این دو پیامد دارد:<ul><li>یک پیام ممکن است بلافاصله در جریان خروجی یا فایل ظاهر نشود.</li><li>شما باید قبل از پایان برنامه، شنونده را ببندید یا حداقل فلاش کنید؛ در غیر این صورت، محتوای موجود در کش (که تا 4 کیلوبایت به طور پیش‌فرض می‌تواند باشد) از دست می‌رود.</li></ul></p>\n",
    "\n",
    "<p><p><strong>متدهای <code>Close</code> و <code>Flush</code>:</strong></p><ul><li>کلاس‌های <code>Trace</code> و <code>Debug</code> متدهای استاتیک <code>Close</code> و <code>Flush</code> را فراهم می‌کنند که به ترتیب <code>Close</code> یا <code>Flush</code> را بر روی تمام شنونده‌ها فراخوانی می‌کنند. این متدها به نوبه خود <code>Close</code> یا <code>Flush</code> را بر روی هر نویسنده یا جریان زیرین فراخوانی می‌کنند.</li><li>متد <code>Close</code> به صورت ضمنی <code>Flush</code> را فراخوانی می‌کند، دسته‌های فایل را می‌بندد و مانع از نوشتن داده‌های بیشتر می‌شود.</li></ul></p>\n",
    "</div>"
   ]
  }
 ],
 "metadata": {
  "kernelspec": {
   "display_name": ".NET (C#)",
   "language": "C#",
   "name": ".net-csharp"
  },
  "language_info": {
   "name": "python"
  },
  "polyglot_notebook": {
   "kernelInfo": {
    "defaultKernelName": "csharp",
    "items": [
     {
      "aliases": [],
      "name": "csharp"
     }
    ]
   }
  }
 },
 "nbformat": 4,
 "nbformat_minor": 2
}
