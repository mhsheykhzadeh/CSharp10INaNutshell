{
 "cells": [
  {
   "cell_type": "markdown",
   "metadata": {
    "dotnet_interactive": {
     "language": "csharp"
    },
    "polyglot_notebook": {
     "kernelName": "csharp"
    }
   },
   "source": [
    "<div dir=\"rtl\" style=\"width:90%; margin:auto\">\n",
    "<p>کلاس‌های <code>StackTrace</code> و <code>StackFrame</code> در فضای نام <code>System.Diagnostics</code> در .NET ابزارهایی قدرتمند برای بررسی و تشخیص مشکلات در برنامه‌ها فراهم می‌کنند. این ابزارها به شما امکان می‌دهند تا اطلاعات دقیق در مورد پشته فراخوانی فعلی یا هنگام وقوع استثناء‌ها (exceptions) به دست آورید.</p>\n",
    "\n",
    "\n",
    "<ul><li><p><strong>StackTrace</strong>: این کلاس نمایانگر یک پشته فراخوانی کامل است. پشته فراخوانی شامل لیستی از تمام متدهایی است که منجر به اجرای متد فعلی شده‌اند. این اطلاعات شامل نام متدها، کلاس‌ها و فضای نام‌ها می‌شود.</p></li><li><p><strong>StackFrame</strong>: این کلاس نمایانگر یک فراخوانی متد واحد در پشته فراخوانی است. هر <code>StackFrame</code> شامل اطلاعاتی درباره‌ی متد خاصی است که در آن مرحله از پشته قرار دارد.</p></li></ul>\n",
    "</div>"
   ]
  },
  {
   "cell_type": "code",
   "execution_count": null,
   "metadata": {
    "vscode": {
     "languageId": "polyglot-notebook"
    }
   },
   "outputs": [],
   "source": [
    "using System.Diagnostics;\n",
    "\n",
    "StackTrace stackTrace = new StackTrace(); //به دست آوردن اطلاعات پشته فراخوانی نخ جاری\n",
    "for (int i = 0; i < stackTrace.FrameCount; i++)\n",
    "{\n",
    "    StackFrame frame = stackTrace.GetFrame(i);\n",
    "    Console.WriteLine(\"Method: \" + frame.GetMethod().Name);\n",
    "    Console.WriteLine(\"File: \" + frame.GetFileName());\n",
    "    Console.WriteLine(\"Line Number: \" + frame.GetFileLineNumber());\n",
    "}"
   ]
  },
  {
   "cell_type": "markdown",
   "metadata": {},
   "source": [
    "<div dir=\"rtl\" style=\"width:90%; margin:auto\">\n",
    "<h3>استفاده از فایل‌های PDB</h3>\n",
    "<p>اگر شما یک شیء <code>StackTrace</code> را با آرگومان بولی <code>true</code> ایجاد کنید، می‌توانید اطلاعات بیشتری از جمله نام فایل، شماره خط و ستون مربوط به هر <code>StackFrame</code> را به دست آورید:</p>\n",
    "</div>"
   ]
  },
  {
   "cell_type": "code",
   "execution_count": null,
   "metadata": {
    "vscode": {
     "languageId": "polyglot-notebook"
    }
   },
   "outputs": [],
   "source": [
    "using System.Diagnostics;\n",
    "\n",
    "StackTrace stackTrace = new StackTrace(true);\n"
   ]
  },
  {
   "cell_type": "markdown",
   "metadata": {},
   "source": [
    "<div dir=\"rtl\" style=\"width:90%; margin:auto\">\n",
    "<p>این کار به <code>StackTrace</code> اجازه می‌دهد تا فایل‌های PDB (پروژه دیباگ) را بخواند که شامل اطلاعات بیشتری برای دیباگ کردن هستند. فایل‌های PDB زمانی تولید می‌شوند که شما برنامه را با استفاده از سوئیچ /debug کامپایل می‌کنید، که در ویژوال استودیو به صورت پیش‌فرض فعال است مگر اینکه شما به صورت دستی آن را غیرفعال کنید.</p>\n",
    "</div>"
   ]
  },
  {
   "cell_type": "code",
   "execution_count": null,
   "metadata": {
    "vscode": {
     "languageId": "polyglot-notebook"
    }
   },
   "outputs": [],
   "source": [
    "using System.Diagnostics;\n",
    "\n",
    "static void Main() { A (); }\n",
    "static void A() { B (); }\n",
    "static void B() { C (); }\n",
    "static void C()\n",
    "{\n",
    "    StackTrace s = new StackTrace (true);\n",
    "    Console.WriteLine (\"Total frames: \" + s.FrameCount);\n",
    "    Console.WriteLine (\"Current method: \" + s.GetFrame(0).GetMethod().Name);\n",
    "    Console.WriteLine (\"Calling method: \" + s.GetFrame(1).GetMethod().Name);\n",
    "    Console.WriteLine (\"Entry method: \" + s.GetFrame\n",
    "    (s.FrameCount-1).GetMethod().Name);\n",
    "    Console.WriteLine (\"Call Stack:\");\n",
    "    foreach (StackFrame f in s.GetFrames())\n",
    "        Console.WriteLine (\n",
    "        \" File: \" + f.GetFileName() +\n",
    "        \" Line: \" + f.GetFileLineNumber() +\n",
    "        \" Col: \" + f.GetFileColumnNumber() +\n",
    "        \" Offset: \" + f.GetILOffset() +\n",
    "        \" Method: \" + f.GetMethod().Name);\n",
    "}\n",
    "\n",
    "/*\n",
    "Total frames: 4\n",
    "Current method: C\n",
    "Calling method: B\n",
    "Entry method: Main\n",
    "Call stack:\n",
    "File: C:\\Test\\Program.cs Line: 15 Col: 4 Offset: 7 Method: C\n",
    "File: C:\\Test\\Program.cs Line: 12 Col: 22 Offset: 6 Method: B\n",
    "File: C:\\Test\\Program.cs Line: 11 Col: 22 Offset: 6 Method: A\n",
    "File: C:\\Test\\Program.cs Line: 10 Col: 25 Offset: 6 Method: Main\n",
    "*/"
   ]
  }
 ],
 "metadata": {
  "kernelspec": {
   "display_name": ".NET (C#)",
   "language": "C#",
   "name": ".net-csharp"
  },
  "language_info": {
   "name": "python"
  },
  "polyglot_notebook": {
   "kernelInfo": {
    "defaultKernelName": "csharp",
    "items": [
     {
      "aliases": [],
      "name": "csharp"
     }
    ]
   }
  }
 },
 "nbformat": 4,
 "nbformat_minor": 2
}
