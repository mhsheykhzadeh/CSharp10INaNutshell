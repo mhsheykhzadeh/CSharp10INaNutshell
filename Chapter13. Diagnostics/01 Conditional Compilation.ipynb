{
 "cells": [
  {
   "cell_type": "markdown",
   "metadata": {},
   "source": [
    "You can ***conditionally compile*** any section of code in C# with `preprocessor directives`. that begin with the `#` ***symbol***  \n",
    "unlike other C# constructs, `must appear on a line of their own`.  \n",
    "they `execute` ***before*** the `main compilation` takes place"
   ]
  },
  {
   "cell_type": "markdown",
   "metadata": {},
   "source": [
    "<div dir=\"rtl\" style=\"width:90%; margin:auto;\">\n",
    "<p><strong>دستورهای پیش‌پردازنده برای ترجمه مشروط:</strong> دستورهای پیش‌پردازنده برای ترجمه مشروط عبارتند از #if، #else، #endif و #elif.</p>\n",
    "\n",
    "<ul><li><strong>#if:</strong> این دستور به کامپایلر می‌گوید که یک بخش از کد را نادیده بگیرد مگر اینکه یک نماد خاص تعریف شده باشد.</li><li><strong>#else:</strong> مشابه دستور else در C# عمل می‌کند.</li><li><strong>#elif:</strong> ترکیبی از #else و #if است.</li><li><strong>#endif:</strong> نشان‌دهنده پایان بخش مشروط است.</li></ul>\n",
    "\n",
    "<p><strong>تعریف نمادها (Symbols):</strong></p>\n",
    "<ul><li>می‌توانید یک نماد را در کد منبع با استفاده از دستور #define تعریف کنید، که در این صورت نماد تنها برای همان فایل اعمال می‌شود.</li><li>یا می‌توانید آن را در فایل .csproj با استفاده از عنصر &lt;DefineConstants&gt; تعریف کنید، که در این صورت نماد برای کل اسمبلی اعمال می‌شود.</li></ul>\n",
    "</div>"
   ]
  },
  {
   "cell_type": "code",
   "execution_count": 2,
   "metadata": {
    "vscode": {
     "languageId": "polyglot-notebook"
    }
   },
   "outputs": [],
   "source": [
    "#define TESTMODE // دستور #define باید در بالای فایل باشد\n",
    "// به طور قراردادی، نام نمادها با حروف بزرگ نوشته می‌شوند.\n",
    "\n",
    "#if TESTMODE \n",
    "// اگر TESTMODE تعریف نشده باشد این قسمت نادیده گرفته می شود.\n",
    "    Console.WriteLine (\"in test mode!\"); // خروجی: in test mode!\n",
    "#endif"
   ]
  },
  {
   "cell_type": "markdown",
   "metadata": {},
   "source": [
    "[نمونه کد ](https://sharplab.io/#v2:CYLg1APgxMCmBmBLAdrABAFQKIGUMFkB5AESwFgAoAAQCYBGSqgZjVrQGE0BvStP1llQAsafAAoAlN179ZURPEy4CJLGkoB6DWkDkYIHqwQIxgSvEVJpAVGCBOMAOAZsECCYGkBiYIBYwQPRggcTA0gCjAdb3Tcc0QCEwQGYwQFEwcycdVxsPNEM7c08wmzRnQAkwVwA6GT4qOgBONDEAIhQ0ABdYAGcKtABbAHs4AEISiQBuNC00QDowA3TAGjAbEDRyqtqG5tgWyihYZGAFXLQAX0pVoA=)"
   ]
  },
  {
   "cell_type": "code",
   "execution_count": null,
   "metadata": {
    "vscode": {
     "languageId": "polyglot-notebook"
    }
   },
   "outputs": [],
   "source": [
    "//The ||, &&, and ! operators perform or, and, and not operations\n",
    "\n",
    "#if TESTMODE && !PLAYMODE // if TESTMODE and not PLAYMODE\n",
    "\n",
    "#endif "
   ]
  },
  {
   "cell_type": "markdown",
   "metadata": {},
   "source": [
    "You can ***define symbols*** that apply to `every file` in an assembly by editing the `.csproj`"
   ]
  },
  {
   "cell_type": "code",
   "execution_count": null,
   "metadata": {
    "dotnet_interactive": {
     "language": "html"
    },
    "polyglot_notebook": {
     "kernelName": "html"
    },
    "vscode": {
     "languageId": "polyglot-notebook"
    }
   },
   "outputs": [],
   "source": [
    "<PropertyGroup>\n",
    "    <DefineConstants>TESTMODE;PLAYMODE</DefineConstants>\n",
    "</PropertyGroup>"
   ]
  },
  {
   "cell_type": "markdown",
   "metadata": {},
   "source": [
    "#### Conditional Compilation Versus Static Variable Flags"
   ]
  },
  {
   "cell_type": "code",
   "execution_count": null,
   "metadata": {
    "vscode": {
     "languageId": "polyglot-notebook"
    }
   },
   "outputs": [],
   "source": [
    "static internal bool TestMode = true;\n",
    "static void Main()\n",
    "{\n",
    "    if (TestMode) Console.WriteLine (\"in test mode!\");\n",
    "}"
   ]
  },
  {
   "cell_type": "markdown",
   "metadata": {},
   "source": [
    "<h4>why conditional compilation?</h4>\n",
    "<div dir=\"rtl\" style=\"width:90%; margin:auto;\">\n",
    "\n",
    "<p>با وجود مزایای پرچم‌های متغیر استاتیک، ترجمه مشروط امکاناتی را فراهم می‌کند که با استفاده از پرچم‌ها قابل دستیابی نیست. این امکانات شامل موارد زیر است:<ul><li><strong>گنجاندن شرطی یک صفت (attribute):</strong> با ترجمه مشروط، می‌توانید تصمیم بگیرید که آیا یک صفت خاص در کد گنجانده شود یا خیر.</li><li><strong>تغییر نوع اعلام شده یک متغیر:</strong> می‌توانید نوع یک متغیر را بر اساس شرایط مختلف تغییر دهید.</li><li><strong>تعویض بین فضای نام‌ها یا نام‌های مستعار نوع در یک دستور using:</strong> به عنوان مثال</li></ul></p>\n",
    "</div>"
   ]
  },
  {
   "cell_type": "code",
   "execution_count": null,
   "metadata": {
    "vscode": {
     "languageId": "polyglot-notebook"
    }
   },
   "outputs": [],
   "source": [
    "using TestType =\n",
    "#if V2\n",
    "MyCompany.Widgets.GadgetV2;\n",
    "#else\n",
    "MyCompany.Widgets.Gadget;\n",
    "#endif\n"
   ]
  },
  {
   "cell_type": "markdown",
   "metadata": {},
   "source": [
    "<div dir=\"rtl\" style=\"width:90%; margin:auto;\">\n",
    "\n",
    "<p><strong>رفکتورینگ عمده تحت یک دستور ترجمه مشروط:</strong></p>\n",
    "<ul><li>با استفاده از ترجمه مشروط، می‌توانید تغییرات بزرگی در کد خود ایجاد کنید و به سرعت بین نسخه‌های قدیمی و جدید سوییچ کنید. این قابلیت به شما اجازه می‌دهد تا کتابخانه‌هایی بنویسید که بتوانند در برابر نسخه‌های مختلف runtime کامپایل شوند و از آخرین ویژگی‌ها در صورت موجود بودن بهره ببرند.</li></ul>\n",
    "</div>"
   ]
  },
  {
   "cell_type": "markdown",
   "metadata": {},
   "source": [
    "### The Conditional Attribute"
   ]
  },
  {
   "cell_type": "markdown",
   "metadata": {},
   "source": [
    "The ***Conditional attribute*** instructs the **compiler** to `ignore` `any calls to a particular class or method`, if the specified symbol has not been defined."
   ]
  },
  {
   "cell_type": "code",
   "execution_count": null,
   "metadata": {
    "vscode": {
     "languageId": "polyglot-notebook"
    }
   },
   "outputs": [],
   "source": [
    "static void LogStatus (string msg)\n",
    "{\n",
    "    string logFilePath = \"\";\n",
    "    System.IO.File.AppendAllText (logFilePath, msg + \"\\r\\n\");\n",
    "}\n",
    "\n",
    "//one way \n",
    "\n",
    "#if LOGGINGMODE\n",
    "LogStatus (\"Message Headers: \" + GetMsgHeaders());\n",
    "#endif"
   ]
  },
  {
   "cell_type": "code",
   "execution_count": null,
   "metadata": {
    "vscode": {
     "languageId": "polyglot-notebook"
    }
   },
   "outputs": [],
   "source": [
    "using System.Diagnostics;\n",
    "\n",
    "//best way\n",
    "[Conditional (\"LOGGINGMODE\")]\n",
    "static void LogStatus (string msg)\n",
    "{\n",
    "    string logFilePath = \"\";\n",
    "    System.IO.File.AppendAllText (logFilePath, msg + \"\\r\\n\");\n",
    "}"
   ]
  },
  {
   "cell_type": "markdown",
   "metadata": {},
   "source": [
    "<div dir=\"rtl\" style=\"width:90%; margin:auto;\">\n",
    "\n",
    "<p>این صفت به کامپایلر دستور می‌دهد که فراخوانی‌های متد <code>LogStatus</code> را به گونه‌ای در نظر بگیرد که انگار در یک دستور <code>#if LOGGINGMODE</code> پیچیده شده‌اند.</p>\n",
    "\n",
    "<p><strong>تأثیر صفت Conditional در کامپایل:</strong></p>\n",
    "<ul><li>اگر نماد <code>LOGGINGMODE</code> تعریف نشده باشد، هر گونه فراخوانی به متد <code>LogStatus</code> در زمان کامپایل به طور کامل حذف می‌شود. این شامل ارزیابی آرگومان‌های متد نیز می‌شود. به این معنا که هر گونه عبارت جانبی (side-effecting expressions) نیز نادیده گرفته می‌شود.</li></ul>\n",
    "</div>"
   ]
  }
 ],
 "metadata": {
  "kernelspec": {
   "display_name": ".NET (C#)",
   "language": "C#",
   "name": ".net-csharp"
  },
  "language_info": {
   "name": "python"
  },
  "polyglot_notebook": {
   "kernelInfo": {
    "defaultKernelName": "csharp",
    "items": [
     {
      "aliases": [],
      "name": "csharp"
     }
    ]
   }
  }
 },
 "nbformat": 4,
 "nbformat_minor": 2
}
