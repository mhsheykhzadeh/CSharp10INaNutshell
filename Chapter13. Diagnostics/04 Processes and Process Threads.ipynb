{
 "cells": [
  {
   "cell_type": "markdown",
   "metadata": {
    "dotnet_interactive": {
     "language": "csharp"
    },
    "polyglot_notebook": {
     "kernelName": "csharp"
    }
   },
   "source": [
    "<div dir=\"rtl\" style=\"width:90%; margin:auto\">\n",
    "\n",
    "<p>کلاس <code>Process</code> در فضای نام <code>System.Diagnostics</code> در .NET مجموعه‌ای از ابزارها را برای کار با پردازه‌ها فراهم می‌کند. این کلاس به شما امکان می‌دهد پردازه‌های در حال اجرا روی سیستم خود را بررسی کرده و با آن‌ها تعامل داشته باشید. </p>\n",
    "\n",
    "<p><p><strong>متد GetCurrentProcess</strong>: این متد پردازه جاری که برنامه شما در آن اجرا می‌شود را برمی‌گرداند. این متد مفید است وقتی که می‌خواهید اطلاعاتی در مورد پردازه‌ای که کد شما در حال اجرا است دریافت کنید.</p></p>\n",
    "\n",
    "<p><p><strong>متد Kill</strong>: با استفاده از این متد می‌توانید یک پردازه خاص را خاتمه دهید. این متد به شما امکان می‌دهد پردازه‌های غیرضروری یا مشکل‌ساز را به صورت برنامه‌ریزی شده متوقف کنید.</p></p>\n",
    "\n",
    "</div>"
   ]
  },
  {
   "cell_type": "code",
   "execution_count": null,
   "metadata": {
    "vscode": {
     "languageId": "polyglot-notebook"
    }
   },
   "outputs": [],
   "source": [
    "foreach (Process p in Process.GetProcesses())\n",
    "using (p)\n",
    "{\n",
    "    Console.WriteLine(p.ProcessName);\n",
    "    Console.WriteLine(\" PID: \" + p.Id);\n",
    "    Console.WriteLine(\" Memory: \" + p.WorkingSet64);\n",
    "    Console.WriteLine(\" Threads: \" + p.Threads.Count);\n",
    "}\n"
   ]
  },
  {
   "cell_type": "markdown",
   "metadata": {},
   "source": [
    "### Examining Threads in a Process"
   ]
  },
  {
   "cell_type": "code",
   "execution_count": null,
   "metadata": {
    "vscode": {
     "languageId": "polyglot-notebook"
    }
   },
   "outputs": [],
   "source": [
    "using System.Diagnostics;\n",
    "\n",
    "//ProcessThread is in System.Diagnostics, no System.Threading\n",
    "\n",
    "public void EnumerateThreads (Process p)\n",
    "{\n",
    "    foreach (ProcessThread pt in p.Threads)\n",
    "    {\n",
    "        Console.WriteLine (pt.Id);\n",
    "        Console.WriteLine (\" State: \" + pt.ThreadState);\n",
    "        Console.WriteLine (\" Priority: \" + pt.PriorityLevel);\n",
    "        Console.WriteLine (\" Started: \" + pt.StartTime);\n",
    "        Console.WriteLine (\" CPU time: \" + pt.TotalProcessorTime);\n",
    "    }\n",
    "}"
   ]
  }
 ],
 "metadata": {
  "kernelspec": {
   "display_name": ".NET (C#)",
   "language": "C#",
   "name": ".net-csharp"
  },
  "language_info": {
   "name": "python"
  },
  "polyglot_notebook": {
   "kernelInfo": {
    "defaultKernelName": "csharp",
    "items": [
     {
      "aliases": [],
      "name": "csharp"
     }
    ]
   }
  }
 },
 "nbformat": 4,
 "nbformat_minor": 2
}
