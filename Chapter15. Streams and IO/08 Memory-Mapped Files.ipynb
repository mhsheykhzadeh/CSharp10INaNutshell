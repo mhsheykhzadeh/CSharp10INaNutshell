{
 "cells": [
  {
   "cell_type": "markdown",
   "metadata": {
    "dotnet_interactive": {
     "language": "csharp"
    },
    "polyglot_notebook": {
     "kernelName": "csharp"
    }
   },
   "source": [
    "<div dir=\"rtl\" style=\"margin:auto; width:90%; font-family:vazirmatn\">\n",
    "<p>Memory-Mapped Files یکی از قابلیت‌های پیشرفته در مدیریت حافظه است که به برنامه‌های کاربردی اجازه می‌دهد تا فایل‌ها یا بخشی از حافظه را به طور مستقیم به فضای آدرس حافظه فرآیند نگاشت کنند. این ویژگی می‌تواند به طور قابل‌توجهی کارایی عملیات خواندن و نوشتن روی فایل‌ها را افزایش دهد، به خصوص زمانی که با فایل‌های بزرگ سر و کار داریم. در ادامه به توضیح این مبحث می‌پردازیم:</p>\n",
    "\n",
    "<h4>تعریف و کاربردهای Memory-Mapped Files</h4>\n",
    "\n",
    "<ol><li><p><strong>نگاشت فایل‌ها به حافظه:</strong> با استفاده از Memory-Mapped Files می‌توانید یک فایل یا بخشی از یک فایل را به یک بخش از حافظه مجازی نگاشت کنید. این امر باعث می‌شود که به جای استفاده از توابع ورودی/خروجی استاندارد، به طور مستقیم به داده‌های فایل در حافظه دسترسی داشته باشید.</p></li><li><p><strong>اشتراک‌گذاری داده‌ها:</strong> یکی از کاربردهای مهم Memory-Mapped Files اشتراک‌گذاری حافظه بین فرآیندهای مختلف است. فرآیندها می‌توانند بخش‌های یکسانی از حافظه را برای تبادل داده‌ها استفاده کنند.</p></li><li><p><strong>کارایی بالا:</strong> چون داده‌ها به طور مستقیم از حافظه خوانده و نوشته می‌شوند، عملیات ورودی/خروجی بسیار سریع‌تر از روش‌های سنتی انجام می‌گیرد.</p></li></ol>\n",
    "</div>"
   ]
  },
  {
   "cell_type": "markdown",
   "metadata": {},
   "source": [
    "### Memory-Mapped Files and Random File I/O"
   ]
  },
  {
   "cell_type": "markdown",
   "metadata": {},
   "source": [
    "<div dir=\"rtl\" style=\"margin:auto; width:90%; font-family:vazirmatn\">\n",
    "<h4>دسترسی تصادفی و ترتیبی به فایل‌ها</h4>\n",
    "\n",
    "<p><strong>دسترسی ترتیبی (Sequential I/O):</strong> در این حالت، داده‌ها به صورت متوالی از ابتدای فایل تا انتهای آن خوانده یا نوشته می‌شوند. این نوع دسترسی برای عملیات‌هایی که نیازی به پرش بین قسمت‌های مختلف فایل ندارند، بهینه است.</p>\n",
    "</div>"
   ]
  },
  {
   "cell_type": "code",
   "execution_count": null,
   "metadata": {
    "dotnet_interactive": {
     "language": "csharp"
    },
    "polyglot_notebook": {
     "kernelName": "csharp"
    },
    "vscode": {
     "languageId": "polyglot-notebook"
    }
   },
   "outputs": [],
   "source": [
    "using System.IO;\n",
    "\n",
    "string filePath = \"example.txt\";\n",
    "\n",
    " // نوشتن داده‌های اولیه به فایل\n",
    "File.WriteAllText(filePath, \"Line 1\\nLine 2\\nLine 3\\nLine 4\");\n",
    "\n",
    " // باز کردن فایل برای خواندن به صورت متوالی\n",
    "using (StreamReader sr = new StreamReader(filePath))\n",
    "{\n",
    "    string line;\n",
    "    while ((line = sr.ReadLine()) != null)\n",
    "    {\n",
    "        Console.WriteLine(line);\n",
    "    }\n",
    "}"
   ]
  },
  {
   "cell_type": "markdown",
   "metadata": {},
   "source": [
    "<div dir=\"rtl\" style=\"margin:auto; width:90%; font-family:vazirmatn\">\n",
    "<p><strong>دسترسی تصادفی (Random I/O):</strong> در این حالت، داده‌ها به صورت تصادفی از بخش‌های مختلف فایل خوانده یا نوشته می‌شوند. این نوع دسترسی زمانی مورد نیاز است که لازم باشد به بخش‌های مختلف فایل بدون ترتیب خاصی دسترسی پیدا کنیم.</p>\n",
    "</div>"
   ]
  },
  {
   "cell_type": "code",
   "execution_count": null,
   "metadata": {
    "dotnet_interactive": {
     "language": "csharp"
    },
    "polyglot_notebook": {
     "kernelName": "csharp"
    },
    "vscode": {
     "languageId": "polyglot-notebook"
    }
   },
   "outputs": [],
   "source": [
    "using System.IO;\n",
    "using System.Text;\n",
    "\n",
    "string filePath = \"example.txt\";\n",
    "\n",
    " // نوشتن داده‌های اولیه به فایل\n",
    " File.WriteAllText(filePath, \"ABCDEFGHIJ\");\n",
    " \n",
    " // باز کردن فایل برای خواندن و نوشتن\n",
    " using (FileStream fs = new FileStream(filePath, FileMode.Open, FileAccess.ReadWrite))\n",
    " {\n",
    "    // حرکت به موقعیت 5 (صفر مبنا)\n",
    "     fs.Position = 5;\n",
    "\n",
    "     // خواندن یک بایت\n",
    "    int readByte = fs.ReadByte();\n",
    "            Console.WriteLine(\"Read byte at position 5: \" + (char)readByte);\n",
    "\n",
    "    // نوشتن یک بایت جدید در موقعیت 5\n",
    "    fs.Position = 5;\n",
    "    fs.WriteByte((byte)'Z');\n",
    "\n",
    "       // خواندن تمام فایل برای مشاهده تغییرات\n",
    "    fs.Position = 0;\n",
    "    byte[] buffer = new byte[fs.Length];\n",
    "    fs.Read(buffer, 0, buffer.Length);\n",
    "    string fileContent = Encoding.UTF8.GetString(buffer);\n",
    "    Console.WriteLine(\"File content after write: \" + fileContent);\n",
    "}"
   ]
  },
  {
   "cell_type": "markdown",
   "metadata": {},
   "source": [
    "<div dir=\"rtl\" style=\"margin:auto; width:90%; font-family:vazirmatn\">\n",
    "\n",
    "<ul><li><strong>FileStreams برای دسترسی ترتیبی بهینه هستند:</strong> FileStreams حدوداً ۱۰ برابر سریع‌تر از فایل‌های حافظه‌نگاشت برای دسترسی ترتیبی عمل می‌کنند.</li><li><strong>فایل‌های حافظه‌نگاشت برای دسترسی تصادفی بهینه هستند:</strong> فایل‌های حافظه‌نگاشت حدوداً ۱۰ برابر سریع‌تر از FileStreams برای دسترسی تصادفی عمل می‌کنند.</li></ul>\n",
    "\n",
    "\n",
    "<h4>هزینه تغییر Position در FileStream</h4>\n",
    "\n",
    "<ul><li>تغییر Position در FileStream می‌تواند چند میکروثانیه زمان ببرد که اگر در یک حلقه انجام شود، این زمان افزایش می‌یابد و می‌تواند عملکرد را تحت تاثیر قرار دهد.</li><li>همچنین، FileStream برای دسترسی چندریسمانی (multithreaded) مناسب نیست زیرا موقعیت آن هنگام خواندن یا نوشتن تغییر می‌کند و این می‌تواند مشکلاتی ایجاد کند.</li></ul>\n",
    "</div>"
   ]
  },
  {
   "cell_type": "code",
   "execution_count": null,
   "metadata": {
    "dotnet_interactive": {
     "language": "csharp"
    },
    "polyglot_notebook": {
     "kernelName": "csharp"
    },
    "vscode": {
     "languageId": "polyglot-notebook"
    }
   },
   "outputs": [],
   "source": [
    "using System.IO;\n",
    "using System.IO.MemoryMappedFiles;\n",
    "using System.Text;\n",
    "\n",
    "string filePath = \"example.txt\";\n",
    "        \n",
    " // ایجاد FileStream\n",
    "using (FileStream fs = new FileStream(filePath, FileMode.OpenOrCreate, FileAccess.ReadWrite))\n",
    "{\n",
    "    // ایجاد MemoryMappedFile\n",
    "    using (MemoryMappedFile mmf = MemoryMappedFile.CreateFromFile(fs, null, 0, MemoryMappedFileAccess.ReadWrite, HandleInheritability.None, false))\n",
    "    {\n",
    "        // ایجاد ViewAccessor\n",
    "        using (MemoryMappedViewAccessor accessor = mmf.CreateViewAccessor())\n",
    "        {\n",
    "            // نوشتن داده‌ها\n",
    "            string message = \"Hello, Memory-Mapped File!\";\n",
    "            byte[] bytes = Encoding.UTF8.GetBytes(message);\n",
    "            accessor.WriteArray(0, bytes, 0, bytes.Length);\n",
    "\n",
    "            // خواندن داده‌ها\n",
    "            byte[] readBytes = new byte[bytes.Length];\n",
    "            accessor.ReadArray(0, readBytes, 0, readBytes.Length);\n",
    "            string readMessage = Encoding.UTF8.GetString(readBytes).TrimEnd('\\0');\n",
    "            \n",
    "            Console.WriteLine(\"Read from Memory-Mapped File: \" + readMessage);\n",
    "        }\n",
    "    }\n",
    "}"
   ]
  },
  {
   "cell_type": "markdown",
   "metadata": {},
   "source": [
    "<div dir=\"rtl\" style=\"margin:auto; width:90%; font-family:vazirmatn\">\n",
    "<h3>فایل‌های حافظه‌نگاشت و حافظه اشتراکی (Windows)</h3>\n",
    "<p>در ویندوز، می‌توان از فایل‌های حافظه‌نگاشت (Memory-Mapped Files) به عنوان یک روش برای به اشتراک‌گذاری حافظه بین فرآیندها استفاده کرد. این قابلیت به فرآیندها اجازه می‌دهد تا به صورت مشترک به یک بلوک حافظه دسترسی پیدا کنند و داده‌ها را بین خود تبادل کنند. این بلوک حافظه به صورت کامل در حافظه RAM قرار دارد و هیچ اثری از آن در دیسک وجود ندارد.</p>\n",
    "\n",
    "<h4>مراحل ایجاد و استفاده از حافظه اشتراکی با استفاده از فایل‌های حافظه‌نگاشت</h4>\n",
    "<ol><li><p><strong>ایجاد بلوک حافظه اشتراکی توسط فرآیند اول:</strong></p><ul><li>فرآیند اول با استفاده از <code>MemoryMappedFile.CreateNew</code> یک بلوک حافظه اشتراکی با یک نام مشخص ایجاد می‌کند.</li><li>سپس با استفاده از <code>MemoryMappedFile.CreateViewAccessor</code> به این بلوک حافظه دسترسی پیدا می‌کند و می‌تواند داده‌ها را در آن بنویسد.</li></ul></li><li><p><strong>دسترسی به بلوک حافظه اشتراکی توسط فرآیندهای دیگر:</strong></p><ul><li>فرآیندهای دیگر با استفاده از <code>MemoryMappedFile.OpenExisting</code> و همان نامی که در فرآیند اول استفاده شده است، به بلوک حافظه اشتراکی دسترسی پیدا می‌کنند.</li><li>سپس با استفاده از <code>MemoryMappedFile.CreateViewAccessor</code> به داده‌های موجود در این بلوک دسترسی پیدا می‌کنند و می‌توانند آنها را بخوانند یا تغییر دهند.</li></ul></li></ol>\n",
    "\n",
    "</div>"
   ]
  },
  {
   "cell_type": "code",
   "execution_count": null,
   "metadata": {
    "dotnet_interactive": {
     "language": "csharp"
    },
    "polyglot_notebook": {
     "kernelName": "csharp"
    },
    "vscode": {
     "languageId": "polyglot-notebook"
    }
   },
   "outputs": [],
   "source": [
    "//first process\n",
    "\n",
    "using System.IO.MemoryMappedFiles;\n",
    "\n",
    "// ایجاد فایل حافظه‌نگاشت 500 بایتی با نام \"Demo\"\n",
    "using (MemoryMappedFile mmFile = MemoryMappedFile.CreateNew(\"Demo\", 500))\n",
    " // ایجاد دسترسی به نمای حافظه\n",
    "using (MemoryMappedViewAccessor accessor = mmFile.CreateViewAccessor())\n",
    "{\n",
    "    // نوشتن عدد 12345 در موقعیت صفر\n",
    "    accessor.Write(0, 12345);\n",
    "    Console.WriteLine(\"Data written to shared memory.\");\n",
    "    Console.ReadLine(); // نگه داشتن حافظه اشتراکی تا زمانی که کاربر Enter را بزند.\n",
    "}"
   ]
  },
  {
   "cell_type": "code",
   "execution_count": null,
   "metadata": {
    "dotnet_interactive": {
     "language": "csharp"
    },
    "polyglot_notebook": {
     "kernelName": "csharp"
    },
    "vscode": {
     "languageId": "polyglot-notebook"
    }
   },
   "outputs": [],
   "source": [
    "//second process\n",
    "\n",
    "using System.IO.MemoryMappedFiles;\n",
    "\n",
    "// باز کردن فایل حافظه‌نگاشت با نام \"Demo\"\n",
    "using (MemoryMappedFile mmFile = MemoryMappedFile.OpenExisting(\"Demo\"))\n",
    " // ایجاد دسترسی به نمای حافظه\n",
    "using (MemoryMappedViewAccessor accessor = mmFile.CreateViewAccessor())\n",
    "{\n",
    "    // خواندن عدد از موقعیت صفر\n",
    "    int value = accessor.ReadInt32(0);\n",
    "    Console.WriteLine(\"Data read from shared memory: \" + value); // 12345\n",
    "}"
   ]
  },
  {
   "cell_type": "markdown",
   "metadata": {},
   "source": [
    "### Cross-Platform Interprocess Shared Memory"
   ]
  },
  {
   "cell_type": "code",
   "execution_count": null,
   "metadata": {
    "dotnet_interactive": {
     "language": "csharp"
    },
    "polyglot_notebook": {
     "kernelName": "csharp"
    },
    "vscode": {
     "languageId": "polyglot-notebook"
    }
   },
   "outputs": [],
   "source": [
    "using System.IO;\n",
    "using System.IO.MemoryMappedFiles;\n",
    "using System.Runtime.InteropServices;\n",
    "\n",
    "static void Writer()\n",
    "{\n",
    "    var file = Path.Combine(TestDirectory, \"interprocess.bin\");\n",
    "    File.WriteAllBytes(file, new byte[100]);\n",
    "    using FileStream fs = new FileStream(file, FileMode.Open, FileAccess.ReadWrite, FileShare.ReadWrite);\n",
    "    using MemoryMappedFile mmf = MemoryMappedFile.CreateFromFile(fs, null, fs.Length, MemoryMappedFileAccess.ReadWrite, HandleInheritability.None, true);\n",
    "    using MemoryMappedViewAccessor accessor = mmf.CreateViewAccessor();\n",
    "    accessor.Write(0, 12345);\n",
    "    Console.ReadLine(); // نگه داشتن حافظه اشتراکی تا زمانی که کاربر Enter را بزند.\n",
    "    File.Delete(file);\n",
    "}\n",
    "\n",
    "static void Reader()\n",
    "{\n",
    "    var file = Path.Combine(TestDirectory, \"interprocess.bin\");\n",
    "    using FileStream fs = new FileStream(file, FileMode.Open, FileAccess.ReadWrite, FileShare.ReadWrite);\n",
    "    using MemoryMappedFile mmf = MemoryMappedFile.CreateFromFile(fs, null, fs.Length, MemoryMappedFileAccess.ReadWrite, HandleInheritability.None, true);\n",
    "    using MemoryMappedViewAccessor accessor = mmf.CreateViewAccessor();\n",
    "    Console.WriteLine(accessor.ReadInt32(0)); // 12345\n",
    "}\n",
    "\n",
    "\n",
    "static string TestDirectory =>\n",
    "RuntimeInformation.IsOSPlatform (OSPlatform.Windows)\n",
    "? @\"C:\\Test\"\n",
    ": \"/tmp\";\n"
   ]
  }
 ],
 "metadata": {
  "kernelspec": {
   "display_name": ".NET (C#)",
   "language": "C#",
   "name": ".net-csharp"
  },
  "language_info": {
   "name": "python"
  },
  "polyglot_notebook": {
   "kernelInfo": {
    "defaultKernelName": "csharp",
    "items": [
     {
      "aliases": [],
      "name": "csharp"
     }
    ]
   }
  }
 },
 "nbformat": 4,
 "nbformat_minor": 2
}
