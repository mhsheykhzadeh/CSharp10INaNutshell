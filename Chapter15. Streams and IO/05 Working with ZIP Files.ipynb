{
 "cells": [
  {
   "cell_type": "markdown",
   "metadata": {},
   "source": [
    "in previouse section we worked on `compression data`, in this section we explain `compression files`."
   ]
  },
  {
   "cell_type": "markdown",
   "metadata": {},
   "source": [
    "<div dir=\"rtl\" style=\"width:90%; margin:auto\">\n",
    "\n",
    "<p><strong>فایل‌های ZIP</strong>: فرمت ZIP یکی از پرکاربردترین فرمت‌های فشرده‌سازی است که می‌تواند چندین فایل و پوشه را در یک فایل فشرده ترکیب کند. این فرمت به‌خصوص در سیستم عامل ویندوز بسیار رایج است و قابلیت باز شدن و ایجاد شدن با استفاده از ابزارهای داخلی ویندوز (مانند Windows Explorer) را دارد.</p>\n",
    "\n",
    "<p><strong>کلاس‌های ZipArchive و ZipFile</strong>: در فضای نام (namespace) <code>System.IO.Compression</code> در زبان برنامه‌نویسی C#، دو کلاس مهم برای کار با فایل‌های ZIP وجود دارد:</p><ul><li><strong>ZipArchive</strong>: این کلاس به شما امکان می‌دهد تا محتوای یک فایل ZIP را باز کنید و به فایل‌ها و پوشه‌های داخل آن دسترسی پیدا کنید، آنها را بخوانید، اضافه کنید، یا حذف کنید.</li><li><strong>ZipFile</strong>: این کلاس روش‌های استاتیکی را برای ایجاد، باز کردن و استخراج فایل‌های ZIP فراهم می‌کند. استفاده از این کلاس‌ها، کار با فایل‌های ZIP را بسیار ساده‌تر می‌کند.</li></ul>\n",
    "\n",
    "<p><strong>مزیت فرمت ZIP</strong>: برتری اصلی فرمت ZIP نسبت به <code>DeflateStream</code> و <code>GZipStream</code> این است که ZIP به عنوان یک کانتینر (ظرف) برای چندین فایل عمل می‌کند. در حالی که <code>DeflateStream</code> و <code>GZipStream</code> فقط یک فایل تکی را فشرده می‌کنند، ZIP می‌تواند چندین فایل را در یک بسته فشرده ترکیب کند که این امر مدیریت فایل‌ها را بسیار ساده‌تر و کارآمدتر می‌سازد.</p>\n",
    "</div>"
   ]
  },
  {
   "cell_type": "code",
   "execution_count": null,
   "metadata": {
    "vscode": {
     "languageId": "polyglot-notebook"
    }
   },
   "outputs": [],
   "source": [
    "using System.IO.Compression;\n",
    "\n",
    "ZipFile.CreateFromDirectory (@\"d:\\MyFolder\", @\"d:\\archive.zip\");\n",
    "\n",
    "ZipFile.ExtractToDirectory (@\"d:\\archive.zip\", @\"d:\\MyFolder\");"
   ]
  },
  {
   "cell_type": "markdown",
   "metadata": {},
   "source": [
    "<div dir=\"rtl\" style=\"width:90%; margin:auto\">\n",
    "<p><strong>متد Open از کلاس ZipFile</strong>:</p>\n",
    "<ul><li>متد <code>Open</code> در کلاس <code>ZipFile</code> برای خواندن یا نوشتن ورودی‌های فایل‌های ZIP استفاده می‌شود.</li><li>این متد یک شیء <code>ZipArchive</code> را برمی‌گرداند. شما همچنین می‌توانید با استفاده از یک شیء <code>Stream</code> مستقیماً یک شیء <code>ZipArchive</code> را ایجاد کنید.</li><li>هنگام فراخوانی متد <code>Open</code>، باید نام فایل و حالت عملیات (خواندن، ایجاد، یا به‌روزرسانی) را مشخص کنید.</li><li>با استفاده از خاصیت <code>Entries</code> می‌توانید ورودی‌های موجود را فهرست کنید یا با فراخوانی <code>GetEntry</code> یک فایل خاص را پیدا کنید.</li></ul>\n",
    "\n",
    "</div>"
   ]
  },
  {
   "cell_type": "code",
   "execution_count": null,
   "metadata": {
    "vscode": {
     "languageId": "polyglot-notebook"
    }
   },
   "outputs": [],
   "source": [
    "using System.IO.Compression;\n",
    "\n",
    "using (ZipArchive zip = ZipFile.Open(@\"d:\\zz.zip\", ZipArchiveMode.Read))\n",
    "foreach (ZipArchiveEntry entry in zip.Entries)\n",
    "    Console.WriteLine(entry.FullName + \" \" + entry.Length);"
   ]
  },
  {
   "cell_type": "markdown",
   "metadata": {},
   "source": [
    "<div dir=\"rtl\" style=\"width:90%; margin:auto\">\n",
    "<p><strong>متدهای کلاس ZipArchiveEntry</strong>:</p>\n",
    "<ul><li><code>Delete</code>: این متد یک ورودی خاص را از آرشیو حذف می‌کند.</li><li><code>ExtractToFile</code>: این متد (که در واقع یک متد افزونه در کلاس <code>ZipFileExtensions</code> است) ورودی را به یک فایل استخراج می‌کند.</li><li><code>Open</code>: این متد یک شیء <code>Stream</code> بازخوانی/نوشتنی را برمی‌گرداند.</li></ul>\n",
    "\n",
    "<p><strong>ایجاد ورودی‌های جدید در ZipArchive</strong>:</p>\n",
    "<ul><li>برای ایجاد ورودی‌های جدید می‌توانید از متد <code>CreateEntry</code> (یا متد افزونه <code>CreateEntryFromFile</code>) استفاده کنید.</li><li>نمونه کد برای ایجاد یک آرشیو جدید به نام <code>d:\\zz.zip</code> و افزودن فایل <code>foo.dll</code> به آن در مسیر <code>bin\\X86</code>:</li></ul>\n",
    "\n",
    "</div>"
   ]
  },
  {
   "cell_type": "code",
   "execution_count": null,
   "metadata": {
    "vscode": {
     "languageId": "polyglot-notebook"
    }
   },
   "outputs": [],
   "source": [
    "using System.IO;\n",
    "using System.IO.Compression;\n",
    "\n",
    "byte[] data = File.ReadAllBytes(@\"d:\\foo.dll\");\n",
    "using (ZipArchive zip = ZipFile.Open(@\"d:\\zz.zip\", ZipArchiveMode.Update))\n",
    "zip.CreateEntry(@\"bin\\X86\\foo.dll\").Open().Write(data, 0, data.Length);\n"
   ]
  }
 ],
 "metadata": {
  "kernelspec": {
   "display_name": ".NET (C#)",
   "language": "C#",
   "name": ".net-csharp"
  },
  "language_info": {
   "name": "python"
  },
  "polyglot_notebook": {
   "kernelInfo": {
    "defaultKernelName": "csharp",
    "items": [
     {
      "aliases": [],
      "name": "csharp"
     }
    ]
   }
  }
 },
 "nbformat": 4,
 "nbformat_minor": 2
}
