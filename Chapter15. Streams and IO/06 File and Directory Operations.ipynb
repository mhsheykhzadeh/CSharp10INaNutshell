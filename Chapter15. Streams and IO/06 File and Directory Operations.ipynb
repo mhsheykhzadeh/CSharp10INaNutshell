{
 "cells": [
  {
   "cell_type": "markdown",
   "metadata": {},
   "source": [
    "For work with **File** and **Directory** you can choose between either of two classes: \n",
    "- ***Static classes*** : `File` and `Directory`  \n",
    "- ***Instance-method classes*** : `FileInfo` and `DirectoryInfo`"
   ]
  },
  {
   "cell_type": "markdown",
   "metadata": {},
   "source": [
    "there’s a **static** class called `Path`. This `does nothing` to **files** or **directories**; instead, it provides string **manipulation methods** for `filenames` and `directory paths`. `Path` also assists with `temporary files`."
   ]
  },
  {
   "cell_type": "markdown",
   "metadata": {},
   "source": [
    "### The File Class"
   ]
  },
  {
   "cell_type": "markdown",
   "metadata": {},
   "source": [
    "***File*** is a static class whose `methods all accept a filename`. The `filename` can be either `relative to the current directory` or `fully qualified` with a directory."
   ]
  },
  {
   "cell_type": "code",
   "execution_count": null,
   "metadata": {
    "dotnet_interactive": {
     "language": "csharp"
    },
    "polyglot_notebook": {
     "kernelName": "csharp"
    },
    "vscode": {
     "languageId": "polyglot-notebook"
    }
   },
   "outputs": [],
   "source": [
    "using System.IO;\n",
    "using System.Security.AccessControl;\n",
    "\n",
    "public interface test{\n",
    "bool Exists (string path); // Returns true if the file is present\n",
    "void Delete (string path);\n",
    "void Copy (string sourceFileName, string destFileName);\n",
    "void Move (string sourceFileName, string destFileName);\n",
    "void Replace (string sourceFileName, string destinationFileName,\n",
    "                                    string destinationBackupFileName);\n",
    "FileAttributes GetAttributes (string path);\n",
    "void SetAttributes (string path, FileAttributes fileAttributes);\n",
    "void Decrypt (string path);\n",
    "void Encrypt (string path);\n",
    "DateTime GetCreationTime (string path); // UTC versions are\n",
    "DateTime GetLastAccessTime (string path); // also provided.\n",
    "DateTime GetLastWriteTime (string path);\n",
    "void SetCreationTime (string path, DateTime creationTime);\n",
    "void SetLastAccessTime (string path, DateTime lastAccessTime);\n",
    "void SetLastWriteTime (string path, DateTime lastWriteTime);\n",
    "FileSecurity GetAccessControl (string path);\n",
    "FileSecurity GetAccessControl (string path,\n",
    "AccessControlSections includeSections);\n",
    "void SetAccessControl (string path, FileSecurity fileSecurity);\n",
    "}"
   ]
  },
  {
   "cell_type": "markdown",
   "metadata": {},
   "source": [
    "Here are all the members of the `FileAttribute` **enum** that `GetAttributes` returns:  \n",
    "  \n",
    "`Archive`, `Compressed`, `Device`, `Directory`, `Encrypted`,  \n",
    "`Hidden`, `IntegritySystem`, `Normal`, `NoScrubData`, `NotContentIndexed`,  \n",
    "`Offline`, `ReadOnly`, `ReparsePoint`, `SparseFile`, `System`, `Temporary`"
   ]
  },
  {
   "cell_type": "code",
   "execution_count": null,
   "metadata": {
    "dotnet_interactive": {
     "language": "csharp"
    },
    "polyglot_notebook": {
     "kernelName": "csharp"
    },
    "vscode": {
     "languageId": "polyglot-notebook"
    }
   },
   "outputs": [],
   "source": [
    "using System.IO;\n",
    "\n",
    "//Members in FileAttributes enum are combinable. Here’s how to toggle a single file attribute\n",
    "//without upsetting the rest:\n",
    "\n",
    "string filePath = \"test.txt\";\n",
    "FileAttributes fa = File.GetAttributes (filePath);\n",
    "if ((fa & FileAttributes.ReadOnly) != 0)\n",
    "{\n",
    "    // Use the exclusive-or operator (^) to toggle the ReadOnly flag\n",
    "    fa ^= FileAttributes.ReadOnly;\n",
    "    File.SetAttributes (filePath, fa);\n",
    "}\n",
    "// Now we can delete the file, for instance:\n",
    "File.Delete (filePath);"
   ]
  },
  {
   "cell_type": "markdown",
   "metadata": {},
   "source": [
    "#### File security"
   ]
  },
  {
   "cell_type": "markdown",
   "metadata": {},
   "source": [
    "This feature is `Windows-only`  \n",
    "The `FileSecurity` class allow you to **query** and **change** the `OS permissions` assigned to users and roles"
   ]
  },
  {
   "cell_type": "code",
   "execution_count": null,
   "metadata": {
    "dotnet_interactive": {
     "language": "csharp"
    },
    "polyglot_notebook": {
     "kernelName": "csharp"
    },
    "vscode": {
     "languageId": "polyglot-notebook"
    }
   },
   "outputs": [],
   "source": [
    "//we list a file’s existing permissions and then assign Write permission\n",
    "//to the “Users” group\n",
    "\n",
    "using System;\n",
    "using System.IO;\n",
    "using System.Security.AccessControl;\n",
    "using System.Security.Principal;\n",
    "void ShowSecurity (FileSecurity sec)\n",
    "{\n",
    "    AuthorizationRuleCollection rules = sec.GetAccessRules (true, true, typeof (NTAccount));\n",
    "    foreach (FileSystemAccessRule r in rules.Cast<FileSystemAccessRule>()\n",
    "            .OrderBy (rule => rule.IdentityReference.Value))\n",
    "    {\n",
    "        // e.g., MyDomain/Joe\n",
    "        Console.WriteLine ($\" {r.IdentityReference.Value}\");\n",
    "        // Allow or Deny: e.g., FullControl\n",
    "        Console.WriteLine ($\" {r.FileSystemRights}: {r.AccessControlType}\");\n",
    "    }\n",
    "}\n",
    "\n",
    "var file = \"sectest.txt\";\n",
    "File.WriteAllText (file, \"File security test.\");\n",
    "\n",
    "var sid = new SecurityIdentifier (WellKnownSidType.BuiltinUsersSid, null);\n",
    "string usersAccount = sid.Translate (typeof (NTAccount)).ToString();\n",
    "\n",
    "Console.WriteLine ($\"User: {usersAccount}\");\n",
    "\n",
    "FileSecurity sec = new FileSecurity (file,\n",
    "                            AccessControlSections.Owner |\n",
    "                            AccessControlSections.Group |\n",
    "                            AccessControlSections.Access);\n",
    "Console.WriteLine (\"AFTER CREATE:\");\n",
    "ShowSecurity(sec); // BUILTIN\\Users doesn't have Write permission\n",
    "\n",
    "sec.ModifyAccessRule (AccessControlModification.Add,\n",
    "    new FileSystemAccessRule (usersAccount, FileSystemRights.Write,\n",
    "        AccessControlType.Allow),\n",
    "    out bool modified);\n",
    "\n",
    "Console.WriteLine (\"AFTER MODIFY:\");\n",
    "ShowSecurity (sec); // BUILTIN\\Users has Write permission\n"
   ]
  },
  {
   "cell_type": "markdown",
   "metadata": {},
   "source": [
    "### The Directory Class"
   ]
  },
  {
   "cell_type": "code",
   "execution_count": null,
   "metadata": {
    "dotnet_interactive": {
     "language": "csharp"
    },
    "polyglot_notebook": {
     "kernelName": "csharp"
    },
    "vscode": {
     "languageId": "polyglot-notebook"
    }
   },
   "outputs": [],
   "source": [
    "using System.IO;\n",
    "\n",
    "public interface test{\n",
    "string GetCurrentDirectory ();\n",
    "void SetCurrentDirectory (string path);\n",
    "\n",
    "DirectoryInfo CreateDirectory (string path);\n",
    "DirectoryInfo GetParent (string path);\n",
    "string GetDirectoryRoot (string path);\n",
    "\n",
    "string[] GetLogicalDrives(); // Gets mount points on Unix\n",
    "\n",
    "// The following methods all return full paths:\n",
    "string[] GetFiles (string path);\n",
    "string[] GetDirectories (string path);\n",
    "string[] GetFileSystemEntries (string path);\n",
    "\n",
    "IEnumerable<string> EnumerateFiles (string path);\n",
    "IEnumerable<string> EnumerateDirectories (string path);\n",
    "IEnumerable<string> EnumerateFileSystemEntries (string path);\n",
    "}"
   ]
  },
  {
   "cell_type": "markdown",
   "metadata": {},
   "source": [
    "### FileInfo and DirectoryInfo"
   ]
  },
  {
   "cell_type": "markdown",
   "metadata": {},
   "source": [
    "The static methods on `File` and `Directory` are convenient for executing a **single** `file` or `directory` **operation**. If you need to `call a series of methods` in a row, the `FileInfo` and `DirectoryInfo` classes provide an object model that makes the job easier."
   ]
  },
  {
   "cell_type": "code",
   "execution_count": null,
   "metadata": {
    "dotnet_interactive": {
     "language": "csharp"
    },
    "polyglot_notebook": {
     "kernelName": "csharp"
    },
    "vscode": {
     "languageId": "polyglot-notebook"
    }
   },
   "outputs": [],
   "source": [
    "using System.IO;\n",
    "\n",
    "static string TestDirectory => @\"C:\\Temp\";\n",
    "\n",
    "Directory.CreateDirectory (TestDirectory);\n",
    "\n",
    "FileInfo fi = new FileInfo (Path.Combine (TestDirectory, \"FileInfo.txt\"));\n",
    "\n",
    "Console.WriteLine (fi.Exists); // false\n",
    "\n",
    "using (TextWriter w = fi.CreateText())\n",
    "    w.Write (\"Some text\");\n",
    "\n",
    "Console.WriteLine (fi.Exists); // false (still)\n",
    "fi.Refresh();\n",
    "Console.WriteLine (fi.Exists); // true\n",
    "\n",
    "Console.WriteLine (fi.Name); // FileInfo.txt\n",
    "Console.WriteLine (fi.FullName); // c:\\temp\\FileInfo.txt (Windows)\n",
    "// /tmp/FileInfo.txt (Unix)\n",
    "\n",
    "Console.WriteLine (fi.DirectoryName); // c:\\temp (Windows)\n",
    "// /tmp (Unix)\n",
    "\n",
    "Console.WriteLine (fi.Directory.Name); // temp\n",
    "Console.WriteLine (fi.Extension); // .txt\n",
    "Console.WriteLine (fi.Length); // 9\n",
    "\n",
    "\n",
    "fi.Encrypt();\n",
    "fi.Attributes ^= FileAttributes.Hidden; // (Toggle hidden flag)\n",
    "fi.IsReadOnly = true;\n",
    "\n",
    "Console.WriteLine (fi.Attributes); // ReadOnly,Archive,Hidden,Encrypted\n",
    "Console.WriteLine (fi.CreationTime); // 3/09/2019 1:24:05 PM\n",
    "\n",
    "fi.MoveTo (Path.Combine (TestDirectory, \"FileInfoX.txt\"));\n",
    "\n",
    "DirectoryInfo di = fi.Directory;\n",
    "Console.WriteLine (di.Name); // temp or tmp\n",
    "Console.WriteLine (di.FullName); // c:\\temp or /tmp\n",
    "Console.WriteLine (di.Parent.FullName); // c:\\ or /\n",
    "di.CreateSubdirectory (\"SubFolder\");"
   ]
  },
  {
   "cell_type": "code",
   "execution_count": null,
   "metadata": {
    "dotnet_interactive": {
     "language": "csharp"
    },
    "polyglot_notebook": {
     "kernelName": "csharp"
    },
    "vscode": {
     "languageId": "polyglot-notebook"
    }
   },
   "outputs": [],
   "source": [
    "using System.IO;\n",
    "//Here’s how to use DirectoryInfo to enumerate files and subdirectories:\n",
    "\n",
    "DirectoryInfo di = new DirectoryInfo (@\"e:\\photos\");\n",
    "\n",
    "foreach (FileInfo fi in di.GetFiles (\"*.jpg\"))\n",
    "    Console.WriteLine (fi.Name);\n",
    "\n",
    "foreach (DirectoryInfo subDir in di.GetDirectories())\n",
    "    Console.WriteLine (subDir.FullName);"
   ]
  },
  {
   "cell_type": "markdown",
   "metadata": {},
   "source": [
    "### Path"
   ]
  },
  {
   "cell_type": "markdown",
   "metadata": {},
   "source": [
    "The ***static*** `Path` class defines methods and fields for working with `paths` and `filenames`."
   ]
  },
  {
   "cell_type": "code",
   "execution_count": 2,
   "metadata": {
    "vscode": {
     "languageId": "polyglot-notebook"
    }
   },
   "outputs": [
    {
     "name": "stdout",
     "output_type": "stream",
     "text": [
      "f:\\Learning\n",
      "False\n",
      "True\n",
      "c:\\\n",
      "c:\\mydir\n",
      "myfile.txt\n",
      "f:\\Learning\\myfile.txt\n",
      "c:\\mydir\\myfile.txt\n",
      "True\n",
      ".txt\n",
      "myfile\n",
      "myfile.log\n",
      "\\\n",
      "/\n",
      ";\n",
      ":\n",
      "|\u0000\u0001\u0002\u0003\u0004\u0005\u0006\t\n",
      "\u000e\u000f\u0010\u0011\u0012\u0013\u0014\u0015\u0016\u0017\u0018\u0019\u001a\u001b\u001c\u001d\u001e\u001f\n",
      "\"<>|\u0000\u0001\u0002\u0003\u0004\u0005\u0006\t\n",
      "\u000e\u000f\u0010\u0011\u0012\u0013\u0014\u0015\u0016\u0017\u0018\u0019\u001a\u001b\u001c\u001d\u001e\u001f:*?\\/\n"
     ]
    }
   ],
   "source": [
    "using System.IO;\n",
    "//Assuming this setup code:\n",
    "\n",
    "string dir = @\"c:\\mydir\"; // or /mydir\n",
    "string file = \"myfile.txt\";\n",
    "string path = @\"c:\\mydir\\myfile.txt\"; // or /mydir/myfile.txt\n",
    "\n",
    "Directory.SetCurrentDirectory (@\"f:\\Learning\"); // or /demo\n",
    "\n",
    "Console.WriteLine(Directory.GetCurrentDirectory()); //k:\\demo\\ or /demo\n",
    "Console.WriteLine(Path.IsPathRooted (file)); // False\n",
    "Console.WriteLine(Path.IsPathRooted (path)); // True\n",
    "Console.WriteLine(Path.GetPathRoot (path)); // c:\\ or /\n",
    "Console.WriteLine(Path.GetDirectoryName (path));  // c:\\mydir or /mydir\n",
    "\n",
    "Console.WriteLine(Path.GetFileName (path)); // myfile.txt\n",
    "Console.WriteLine(Path.GetFullPath (file)); //k:\\demo\\myfile.txt\n",
    "                         //or /demo/myfile.txt\n",
    "Console.WriteLine(Path.Combine (dir, file)); //c:\\mydir\\myfile.txt\n",
    "                         //or /mydir/myfile.txt\n",
    "\n",
    "/*File Extentions:*/\n",
    "Console.WriteLine(Path.HasExtension (file)); //True\n",
    "Console.WriteLine(Path.GetExtension (file)); //.txt\n",
    "Console.WriteLine(Path.GetFileNameWithoutExtension (file)); //myfile\n",
    "Console.WriteLine(Path.ChangeExtension (file, \".log\")); //myfile.log\n",
    "\n",
    "/*Separators and characters:*/\n",
    "Console.WriteLine(Path.DirectorySeparatorChar); // \\ or /\n",
    "Console.WriteLine(Path.AltDirectorySeparatorChar); // /\n",
    "Console.WriteLine(Path.PathSeparator); // ; or:\n",
    "Console.WriteLine(Path.VolumeSeparatorChar); //: or /\n",
    "Console.WriteLine(Path.GetInvalidPathChars()); // chars 0 to 31 and \"<>|eor 0\n",
    "Console.WriteLine(Path.GetInvalidFileNameChars()); // chars 0 to 31 and \"<>|:*?\\/ or 0 and /\n",
    "\n",
    "/*Temporary files*/\n",
    "Console.WriteLine(Path.GetTempPath()); // <local user folder>\\Temp or /tmp/\n",
    "Console.WriteLine(Path.GetRandomFileName()); // d2dwuzjf.dnp\n",
    "Console.WriteLine(Path.GetTempFileName()); // <local user folder>\\Temp\\tmp14B.tmp\n",
    "                                            //or /tmp/tmpubSUYO.tmp"
   ]
  },
  {
   "cell_type": "markdown",
   "metadata": {},
   "source": [
    "<div dir=\"rtl\" style=\"margin:auto; width:90%; font-family:vazirmatn\">\n",
    "<p>متد <code>Combine</code> در کلاس <code>Path</code> بسیار مفید است زیرا به شما این امکان را می‌دهد که یک دایرکتوری و یک نام فایل - یا دو دایرکتوری - را بدون نیاز به بررسی دستی وجود یا عدم وجود یک جداکننده مسیر (path separator) ترکیب کنید. این متد به طور خودکار از جداکننده مسیر صحیح برای سیستم‌عامل استفاده می‌کند. همچنین دارای اورلودهایی است که تا چهار دایرکتوری و/یا نام فایل را می‌پذیرند.</p>\n",
    "\n",
    "</div>"
   ]
  },
  {
   "cell_type": "code",
   "execution_count": null,
   "metadata": {
    "vscode": {
     "languageId": "polyglot-notebook"
    }
   },
   "outputs": [],
   "source": [
    "string dir1 = @\"C:\\Users\";\n",
    "string dir2 = \"Public\";\n",
    "string dir3 = \"Documents\";\n",
    "string filename = \"example.txt\";\n",
    "string fullPath = Path.Combine(dir1, dir2, dir3, filename);\n",
    "Console.WriteLine(fullPath);  // نتیجه: C:\\Users\\Public\\Documents\\example.txt"
   ]
  },
  {
   "cell_type": "markdown",
   "metadata": {},
   "source": [
    "`GetFullPath` **converts** a ***path relative*** to the current directory to an ***absolute path***. It accepts values such as `..\\..\\file.txt`."
   ]
  },
  {
   "cell_type": "markdown",
   "metadata": {},
   "source": [
    "<div dir=\"rtl\" style=\"margin:auto; width:90%; font-family:vazirmatn\">\n",
    "\n",
    "<h5> متد <code>Path.GetRandomFileName</code></h5>\n",
    "<p>این متد یک نام فایل یکتا به فرمت 8.3 کاراکتری (هشت کاراکتر برای نام فایل و سه کاراکتر برای پسوند) برمی‌گرداند، بدون اینکه فایل واقعی را ایجاد کند. این نام‌ها به طور تصادفی تولید می‌شوند و برای مواردی که نیاز به یک نام فایل یکتا دارید، اما نیازی به ایجاد فایل ندارید، مفید هستند.</p>\n",
    "\n",
    "<h5>2. متد <code>Path.GetTempFileName</code></h5>\n",
    "<p>این متد یک نام فایل موقت تولید می‌کند که از یک شمارنده خودافزاینده استفاده می‌کند. این شمارنده بعد از تولید 65,000 فایل تکرار می‌شود. پس از تولید نام فایل، این متد یک فایل با حجم صفر بایت در دایرکتوری موقت سیستم ایجاد می‌کند. این متد برای مواردی که نیاز به یک فایل موقت واقعی دارید و می‌خواهید مطمئن شوید که فایل ایجاد شده است، مفید است.</p>\n",
    "\n",
    "</div>"
   ]
  },
  {
   "cell_type": "markdown",
   "metadata": {},
   "source": [
    "### Special Folders"
   ]
  },
  {
   "cell_type": "markdown",
   "metadata": {},
   "source": [
    "<div dir=\"rtl\" style=\"margin:auto; width:90%; font-family:vazirmatn\">\n",
    "<p>در دات‌نت، برای دسترسی به پوشه‌های خاص سیستم عامل مانند My Documents، Program Files، Application Data و غیره، می‌توانید از متد <code>GetFolderPath</code> در کلاس <code>Environment</code> استفاده کنید. این متد مسیرهای این پوشه‌ها را برمی‌گرداند. برای این کار، باید از <code>Environment.SpecialFolder</code> که یک <code>enum</code> است و مقادیر آن شامل تمامی دایرکتوری‌های خاص در ویندوز می‌باشد، استفاده کنید.</p>\n",
    "</div>"
   ]
  },
  {
   "cell_type": "code",
   "execution_count": 3,
   "metadata": {
    "vscode": {
     "languageId": "polyglot-notebook"
    }
   },
   "outputs": [
    {
     "name": "stdout",
     "output_type": "stream",
     "text": [
      "My Documents Path: C:\\Users\\bahar\\Documents\r\n"
     ]
    }
   ],
   "source": [
    "string myDocPath = Environment.GetFolderPath(Environment.SpecialFolder.MyDocuments);\n",
    "Console.WriteLine($\"My Documents Path: {myDocPath}\");"
   ]
  },
  {
   "cell_type": "markdown",
   "metadata": {},
   "source": [
    "<div dir=\"rtl\" style=\"margin:auto; width:90%; font-family:vazirmatn\">\n",
    "<h4>SpecialFolder Enum</h4>\n",
    "<p><code>Environment.SpecialFolder</code> شامل مقادیر متعددی برای دایرکتوری‌های خاص ویندوز است. برخی از این مقادیر عبارتند از:</p>\n",
    "<ul><li><code>AdminTools</code></li><li><code>ApplicationData</code></li><li><code>CommonProgramFiles</code></li><li><code>Desktop</code></li><li><code>Favorites</code></li><li><code>Fonts</code></li><li><code>History</code></li><li><code>InternetCache</code></li><li><code>LocalApplicationData</code></li><li><code>MyDocuments</code></li><li><code>ProgramFiles</code></li><li><code>Recent</code></li><li><code>SendTo</code></li><li><code>StartMenu</code></li><li><code>System</code></li><li><code>Templates</code></li></ul>\n",
    "\n",
    "<h4>پوشه‌های خاص برای ذخیره داده‌های برنامه</h4>\n",
    "<ol>\n",
    "<li><p><strong>ApplicationData</strong>:</p>\n",
    "<ul>\n",
    "<li><strong>مسیر:</strong> <code>Environment.SpecialFolder.ApplicationData</code></li><li><strong>کاربرد:</strong> این پوشه برای ذخیره تنظیماتی که با کاربر در شبکه جابجا می‌شوند، استفاده می‌شود. اگر پروفایل‌های جابجایی (roaming profiles) در دامنه شبکه فعال باشند، این داده‌ها با کاربر در شبکه جابجا می‌شوند.</li></ul>\n",
    "</li>\n",
    "\n",
    "<li>\n",
    "<p><strong>LocalApplicationData</strong>:</p><ul><li><strong>مسیر:</strong> <code>Environment.SpecialFolder.LocalApplicationData</code></li><li><strong>کاربرد:</strong> این پوشه برای ذخیره داده‌هایی که جابجا نمی‌شوند و مخصوص کاربر وارد شده هستند، استفاده می‌شود. این داده‌ها فقط بر روی سیستم فعلی کاربر ذخیره می‌شوند.</li></ul>\n",
    "</li>\n",
    "<li>\n",
    "<p><strong>CommonApplicationData</strong>:</p><ul><li><strong>مسیر:</strong> <code>Environment.SpecialFolder.CommonApplicationData</code></li><li><strong>کاربرد:</strong> این پوشه برای ذخیره داده‌هایی که بین تمامی کاربران سیستم به اشتراک گذاشته می‌شوند، استفاده می‌شود. این داده‌ها برای تمامی کاربران سیستم در دسترس هستند.</li></ul>\n",
    "</li>\n",
    "</ol>\n",
    "</div>"
   ]
  },
  {
   "cell_type": "code",
   "execution_count": null,
   "metadata": {
    "vscode": {
     "languageId": "polyglot-notebook"
    }
   },
   "outputs": [],
   "source": [
    "using System.IO;\n",
    "\n",
    "string appName = \"MyCoolApplication\";\n",
    "\n",
    "string localAppDataPath = Path.Combine(\n",
    "    Environment.GetFolderPath(Environment.SpecialFolder.ApplicationData),\n",
    "    appName);\n",
    "\n",
    "if (!Directory.Exists(localAppDataPath))\n",
    "{\n",
    "    Directory.CreateDirectory(localAppDataPath);\n",
    "}\n",
    "\n",
    "Console.WriteLine($\"Application Data Path: {localAppDataPath}\");"
   ]
  },
  {
   "cell_type": "markdown",
   "metadata": {},
   "source": [
    "<div dir=\"rtl\" style=\"margin:auto; width:90%; font-family:vazirmatn\">\n",
    "<p><strong>محدودیت‌های CommonApplicationData</strong>:</p>\n",
    "\n",
    "<ul><li>اگر برنامه شما توسط کاربری با دسترسی‌های مدیریتی (administrative elevation) اجرا شود و پوشه‌ها و فایل‌هایی در <code>CommonApplicationData</code> ایجاد کند، ممکن است کاربران دیگر که دسترسی‌های محدود دارند، نتوانند این فایل‌ها را تغییر دهند یا جایگزین کنند. برای حل این مشکل، می‌توانید در زمان نصب برنامه، پوشه مورد نظر را با دسترسی‌های مناسب برای همه کاربران ایجاد کنید.</li></ul>\n",
    "\n",
    "<p><strong>استفاده از پوشه base directory برنامه</strong>:</p>\n",
    "\n",
    "<ul><li>شما می‌توانید از دایرکتوری اصلی برنامه برای ذخیره فایل‌های تنظیمات و لاگ‌ها استفاده کنید، که با استفاده از <code>AppDomain.CurrentDomain.BaseDirectory</code> قابل دسترسی است. اما این روش توصیه نمی‌شود، زیرا سیستم عامل ممکن است بعد از نصب اولیه برنامه، به برنامه شما اجازه نوشتن در این پوشه را ندهد، مگر اینکه با دسترسی‌های مدیریتی اجرا شود.</li></ul>\n",
    "</div>"
   ]
  },
  {
   "cell_type": "markdown",
   "metadata": {},
   "source": [
    "### Querying Volume Information"
   ]
  },
  {
   "cell_type": "code",
   "execution_count": 4,
   "metadata": {
    "vscode": {
     "languageId": "polyglot-notebook"
    }
   },
   "outputs": [
    {
     "name": "stdout",
     "output_type": "stream",
     "text": [
      "C:\\\n",
      "Fixed\n",
      "C:\\\n",
      "\n",
      "NTFS\n",
      "D:\\\n",
      "Fixed\n",
      "D:\\\n",
      "Google Drive\n",
      "FAT32\n",
      "F:\\\n",
      "Fixed\n",
      "F:\\\n",
      "\n",
      "NTFS\n",
      "G:\\\n",
      "Fixed\n",
      "G:\\\n",
      "New Volume\n",
      "NTFS\n"
     ]
    }
   ],
   "source": [
    "//You can query the drives on a computer with the DriveInfo class\n",
    "\n",
    "DriveInfo c = new DriveInfo (\"C\"); // Query the C: drive.\n",
    "                                    // On Unix: /\n",
    "long totalSize = c.TotalSize; // Size in bytes.\n",
    "long freeBytes = c.TotalFreeSpace; // Ignores disk quotas.\n",
    "long freeToMe = c.AvailableFreeSpace; // Takes quotas into account.\n",
    "\n",
    "foreach (DriveInfo d in DriveInfo.GetDrives()) // All defined drives.\n",
    "                                                // On Unix: mount points\n",
    "{\n",
    "    Console.WriteLine (d.Name); // C:\\\n",
    "    Console.WriteLine (d.DriveType); // Fixed\n",
    "    Console.WriteLine (d.RootDirectory); // C:\\\n",
    "    if (d.IsReady) // If the drive is not ready, the following two\n",
    "                    // properties will throw exceptions:\n",
    "    {\n",
    "        Console.WriteLine (d.VolumeLabel); // The Sea Drive\n",
    "        Console.WriteLine (d.DriveFormat); // NTFS\n",
    "    }\n",
    "}"
   ]
  },
  {
   "cell_type": "markdown",
   "metadata": {},
   "source": [
    "`DriveType` is an ***enum*** with the following values:  \n",
    "`Unknown`, `NoRootDirectory`, `Removable`, `Fixed`, `Network`, `CDRom`, `Ram`"
   ]
  },
  {
   "cell_type": "markdown",
   "metadata": {},
   "source": [
    "### Catching Filesystem Events"
   ]
  },
  {
   "cell_type": "markdown",
   "metadata": {},
   "source": [
    "The `FileSystemWatcher` class lets you ***monitor a directory*** (and optionally, subdirectories) for `activity`."
   ]
  },
  {
   "cell_type": "markdown",
   "metadata": {},
   "source": [
    "***FileSystemWatcher*** has `events` that `fire` when **files** or **subdirectories**\n",
    "are `created`, `modified`, `renamed`, and `deleted`, as well as when `their attributes change`."
   ]
  },
  {
   "cell_type": "code",
   "execution_count": null,
   "metadata": {
    "vscode": {
     "languageId": "polyglot-notebook"
    }
   },
   "outputs": [],
   "source": [
    "using System.IO;\n",
    "using System.Runtime.InteropServices;\n",
    "\n",
    "void Watch (string path, string filter, bool includeSubDirs)\n",
    "{\n",
    "    using (var watcher = new FileSystemWatcher (path, filter))\n",
    "    {\n",
    "        watcher.Created += FileCreatedChangedDeleted;\n",
    "        watcher.Changed += FileCreatedChangedDeleted;\n",
    "        watcher.Deleted += FileCreatedChangedDeleted;\n",
    "        watcher.Renamed += FileRenamed;\n",
    "        watcher.Error += FileError;\n",
    "        watcher.IncludeSubdirectories = includeSubDirs;\n",
    "        watcher.EnableRaisingEvents = true;\n",
    "        Console.WriteLine (\"Listening for events - press <enter> to end\");\n",
    "        Console.ReadLine();\n",
    "    }\n",
    "    // Disposing the FileSystemWatcher stops further events from firing.\n",
    "}\n",
    "\n",
    "void FileCreatedChangedDeleted (object o, FileSystemEventArgs e)\n",
    "    => Console.WriteLine (\"File {0} has been {1}\", e.FullPath, e.ChangeType);\n",
    "\n",
    "void FileRenamed (object o, RenamedEventArgs e)\n",
    "    => Console.WriteLine (\"Renamed: {0}->{1}\", e.OldFullPath, e.FullPath);\n",
    "\n",
    "void FileError (object o, ErrorEventArgs e)\n",
    "    => Console.WriteLine (\"Error: \" + e.GetException().Message);\n",
    "\n",
    "string GetTestDirectory() =>\n",
    "    RuntimeInformation.IsOSPlatform (OSPlatform.Windows)\n",
    "        ? @\"C:\\Temp\"\n",
    "        : \"/tmp\";\n"
   ]
  },
  {
   "cell_type": "markdown",
   "metadata": {},
   "source": [
    "`IncludeSubdirectories` applies ***recursively***. So, if you create a FileSystemWatcher on `C:\\` with `IncludeSubdirectories true`, its events will fire when a file or directory changes `anywhere` on the `hard drive`."
   ]
  }
 ],
 "metadata": {
  "kernelspec": {
   "display_name": ".NET (C#)",
   "language": "C#",
   "name": ".net-csharp"
  },
  "language_info": {
   "name": "python"
  },
  "polyglot_notebook": {
   "kernelInfo": {
    "defaultKernelName": "csharp",
    "items": [
     {
      "aliases": [],
      "name": "csharp"
     }
    ]
   }
  }
 },
 "nbformat": 4,
 "nbformat_minor": 2
}
