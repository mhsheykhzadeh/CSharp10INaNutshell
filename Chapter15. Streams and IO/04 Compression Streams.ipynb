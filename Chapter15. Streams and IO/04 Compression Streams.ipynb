{
 "cells": [
  {
   "cell_type": "markdown",
   "metadata": {},
   "source": [
    "<div dir=\"rtl\" style=\"width:90%; margin:auto\">\n",
    "<p>\n",
    "فشرده‌سازی داده‌ها فرآیندی است که در آن حجم داده‌ها کاهش می‌یابد تا فضای کمتری اشغال شود و انتقال آن‌ها سریع‌تر انجام شود. این فرآیند در بسیاری از حوزه‌ها و کاربردها اهمیت دارد:\n",
    "</p>\n",
    "\n",
    "<ul>\n",
    "<li><strong>ذخیره‌سازی داده‌ها: </strong></li>\n",
    "<li><strong>انتقال داده‌ها: </strong></li>\n",
    "<li><strong>پایگاه‌های داده: </strong></li>\n",
    "<li><strong>پایگاه‌های داده: </strong></li>\n",
    "<li><strong>توزیع نرم‌افزار: </strong></li>\n",
    "<li><strong>آرشیو کردن: </strong></li>\n",
    "<li><strong>شتیبان‌گیری (Backup): </strong></li>\n",
    "</ul>\n",
    "<p>زمانی که با stream ها کار می کنیم، بحث فشرده سازی مطرح است. سی شارپ در فضای نام <code>System.IO.Compression</code> دو stream فشرده سازی عمومی دارد دارد</p>\n",
    "\n",
    "<ol><li><p><strong>DeflateStream</strong>:</p><ul><li>این استریم از الگوریتم فشرده‌سازی پرکاربردی استفاده می‌کند که مشابه فرمت ZIP است.</li><li>این استریم به سادگی داده‌ها را فشرده و یا از حالت فشرده خارج می‌کند، بدون اضافه کردن اطلاعات اضافی.</li></ul></li><li><p><strong>GZipStream</strong>:</p><ul><li>این استریم نیز از همان الگوریتم فشرده‌سازی DeflateStream استفاده می‌کند.</li><li>تفاوت اصلی GZipStream این است که در ابتدای داده‌های فشرده‌شده و در انتهای آن یک پروتکل اضافی اضافه می‌کند که شامل یک CRC (Cyclic Redundancy Check) برای تشخیص خطاها می‌باشد.</li><li>GZipStream به یک استاندارد شناخته‌شده توسط نرم‌افزارهای دیگر پایبند است، بنابراین داده‌های فشرده‌شده با این استریم می‌توانند توسط نرم‌افزارهای دیگر نیز به راحتی خوانده شوند.</li></ul></li></ol>\n",
    "\n",
    "<h4>BrotliStream</h4>\n",
    "<p>.NET همچنین شامل <strong>BrotliStream</strong> است که الگوریتم فشرده‌سازی Brotli را پیاده‌سازی می‌کند.</p>\n",
    "<ul>\n",
    "<li>\n",
    "<strong>BrotliStream</strong>:\n",
    "<ul>\n",
    "<li>این استریم از الگوریتم فشرده‌سازی Brotli استفاده می‌کند که نسبت به DeflateStream و GZipStream فشرده‌سازی بهتری ارائه می‌دهد.</li>\n",
    "<li>با این حال، فشرده‌سازی با BrotliStream بیش از ۱۰ برابر کندتر از DeflateStream و GZipStream است.</li>\n",
    "<li>این کاهش سرعت فقط در فرآیند فشرده‌سازی اتفاق می‌افتد و در فرآیند خارج کردن از حالت فشرده عملکرد بسیار خوبی دارد.</li>\n",
    "<li>\n",
    "BrotliStream با ارائه نرخ فشرده‌سازی بهتر، انتخاب مناسبی برای زمانی است که حجم فایل نهایی اهمیت بیشتری نسبت به سرعت فشرده‌سازی دارد. \n",
    "</li>\n",
    "</ul></li></ul>\n",
    "</div>"
   ]
  },
  {
   "cell_type": "code",
   "execution_count": 1,
   "metadata": {
    "dotnet_interactive": {
     "language": "csharp"
    },
    "polyglot_notebook": {
     "kernelName": "csharp"
    },
    "vscode": {
     "languageId": "polyglot-notebook"
    }
   },
   "outputs": [],
   "source": [
    "using System.IO;\n",
    "using System.IO.Compression;\n",
    "\n",
    "using (FileStream fs = new FileStream(\"file.txt\", FileMode.Create))\n",
    "using (GZipStream gzip = new GZipStream(fs, CompressionMode.Compress))\n",
    "using (StreamWriter writer = new StreamWriter(gzip))\n",
    "{\n",
    "    writer.Write(\"This is a test.\");\n",
    "}"
   ]
  },
  {
   "cell_type": "markdown",
   "metadata": {},
   "source": [
    "<div dir=\"rtl\" style=\"width:90%; margin:auto\">\n",
    "<p>\n",
    "داده‌ها ابتدا توسط StreamWriter نوشته می‌شوند، سپس توسط GZipStream فشرده می‌شوند و در نهایت در FileStream (یعنی فایل file.txt) ذخیره می‌شوند.\n",
    "</p>\n",
    "</div>"
   ]
  },
  {
   "cell_type": "code",
   "execution_count": null,
   "metadata": {
    "dotnet_interactive": {
     "language": "csharp"
    },
    "polyglot_notebook": {
     "kernelName": "csharp"
    },
    "vscode": {
     "languageId": "polyglot-notebook"
    }
   },
   "outputs": [],
   "source": [
    "// read from ziped File\n",
    "\n",
    "using System.IO;\n",
    "using System.IO.Compression;\n",
    "\n",
    "using (FileStream fs = new FileStream(\"file.txt\", FileMode.Open))\n",
    "using (GZipStream gzip = new GZipStream(fs, CompressionMode.Decompress))\n",
    "using (StreamReader reader = new StreamReader(gzip))\n",
    "{\n",
    "    string result = reader.ReadToEnd();\n",
    "    Console.WriteLine(result);\n",
    "}\n"
   ]
  },
  {
   "cell_type": "markdown",
   "metadata": {},
   "source": [
    "<div dir=\"rtl\" style=\"width:90%; margin:auto\">\n",
    "<h4>نحوه عملکرد فشرده‌سازی</h4>\n",
    "<ul><li><strong>کاهش افزونگی</strong>: فشرده‌سازی با حذف یا کاهش داده‌های تکراری و الگوهای مشابه در داده‌ها، حجم آن‌ها را کاهش می‌دهد.</li><li><strong>کدگذاری بهینه</strong>: با استفاده از کدهای کوتاه‌تر برای داده‌های پرکاربردتر، حجم کل داده‌ها کاهش می‌یابد.</li><li><strong>بهره‌گیری از الگوها</strong>: فشرده‌سازی الگوهای تکراری و ساختارهای مشابه در داده‌ها را شناسایی کرده و به صورت بهینه ذخیره می‌کند.</li></ul>\n",
    "\n",
    "\n",
    "<p><strong>کدگذاری بر اساس طول اجرا (Run-Length Encoding - RLE)</strong>:</p>\n",
    "<ul><li>این تکنیک به شناسایی و فشرده‌سازی رشته‌های طولانی از داده‌های تکراری می‌پردازد.</li><li>به جای ذخیره کردن هر کاراکتر تکراری به صورت جداگانه، تعداد تکرار و کاراکتر تکراری را ذخیره می‌کند.</li><li>مثال: رشته <code>AAAABBBCCDAA</code> به <code>4A3B2C1D2A</code> فشرده می‌شود.</li></ul>\n",
    "\n",
    "<p><strong>فشرده‌سازی مبتنی بر دیکشنری</strong>:</p>\n",
    "<ul><li>این روش به جای ذخیره‌سازی مستقیم داده‌ها، از دیکشنری‌هایی استفاده می‌کند که رشته‌های داده‌های تکراری را به مقادیر کوتاه‌تر ترجمه می‌کنند.</li><li>الگوریتم‌های معروفی مانند <strong>Lempel-Ziv-Welch (LZW)</strong> و <strong>Lempel-Ziv (LZ77)</strong> از این تکنیک استفاده می‌کنند.</li><li>مثال: <code>ABABABAB</code> به <code>AB(AB)*3</code> فشرده می‌شود.</li></ul>\n",
    "\n",
    "<p><strong>کدگذاری هافمن (Huffman Encoding)</strong>:</p>\n",
    "<ul><li>این تکنیک از یک درخت دودویی برای کدگذاری داده‌ها استفاده می‌کند که در آن کاراکترهای پرکاربردتر کدهای کوتاه‌تری دارند.</li><li>به این ترتیب، مجموع حجم داده‌های فشرده‌شده کاهش می‌یابد.</li><li>مثال: در یک متن انگلیسی، فاصله (space) که بیشتر تکرار می‌شود، کد کوتاه‌تری دارد.</li></ul>\n",
    "\n",
    "<h4>الگوریتم‌های معروف فشرده‌سازی</h4>\n",
    "<ol><li><p><strong>Deflate</strong>:</p><ul><li>ترکیبی از الگوریتم‌های LZ77 و هافمن است.</li><li>در فشرده‌سازی‌های ZIP و GZip استفاده می‌شود.</li><li>کارایی خوبی در فشرده‌سازی و استخراج دارد.</li></ul></li><li><p><strong>GZip</strong>:</p><ul><li>از الگوریتم Deflate استفاده می‌کند اما با اضافه کردن هدر و CRC برای تشخیص خطا.</li><li>یک استاندارد شناخته‌شده برای فشرده‌سازی فایل‌ها است.</li></ul></li><li><p><strong>Brotli</strong>:</p><ul><li>الگوریتمی که توسط Google توسعه یافته و فشرده‌سازی بالاتری نسبت به Deflate دارد.</li><li>به خصوص برای فشرده‌سازی محتوای وب بسیار موثر است.</li></ul></li><li><p><strong>Bzip2</strong>:</p><ul><li>از فشرده‌سازی مبتنی بر Burrows-Wheeler و کدگذاری هافمن استفاده می‌کند.</li><li>نسبت به Deflate فشرده‌سازی بهتری ارائه می‌دهد اما کندتر است.</li></ul></li></ol>\n",
    "</div>"
   ]
  },
  {
   "cell_type": "markdown",
   "metadata": {},
   "source": [
    "`DeflateStream`, `GZipStream`, and `BrotliStream` are ***decorators***; they **compress** or **decompress** data from another stream that you supply in construction."
   ]
  },
  {
   "cell_type": "code",
   "execution_count": 3,
   "metadata": {
    "dotnet_interactive": {
     "language": "csharp"
    },
    "polyglot_notebook": {
     "kernelName": "csharp"
    },
    "vscode": {
     "languageId": "polyglot-notebook"
    }
   },
   "outputs": [
    {
     "name": "stdout",
     "output_type": "stream",
     "text": [
      "1062\n",
      "4936"
     ]
    }
   ],
   "source": [
    "using System.IO;\n",
    "using System.IO.Compression;\n",
    "\n",
    "string[] words = \"The quick brown fox jumps over the lazy dog\".Split();\n",
    "Random rand = new Random (0); // Give it a seed for consistency\n",
    "\n",
    "using (Stream s = File.Create (\"compressed.bin\"))\n",
    "using (Stream ds = new BrotliStream (s, CompressionMode.Compress))\n",
    "using (TextWriter w = new StreamWriter (ds))\n",
    "    for (int i = 0; i < 1000; i++)\n",
    "        await w.WriteAsync (words [rand.Next (words.Length)] + \" \");\n",
    "\n",
    "Console.WriteLine (new FileInfo (\"compressed.bin\").Length); \n",
    "\n",
    "\n",
    "using (Stream s = File.OpenRead (\"compressed.bin\"))\n",
    "using (Stream ds = new BrotliStream (s, CompressionMode.Decompress))\n",
    "using (TextReader r = new StreamReader (ds))\n",
    "    Console.Write ((await r.ReadToEndAsync()).Length); "
   ]
  },
  {
   "cell_type": "markdown",
   "metadata": {},
   "source": [
    "### Compressing in Memory"
   ]
  },
  {
   "cell_type": "code",
   "execution_count": 4,
   "metadata": {
    "dotnet_interactive": {
     "language": "csharp"
    },
    "polyglot_notebook": {
     "kernelName": "csharp"
    },
    "vscode": {
     "languageId": "polyglot-notebook"
    }
   },
   "outputs": [
    {
     "name": "stdout",
     "output_type": "stream",
     "text": [
      "11\r\n"
     ]
    }
   ],
   "source": [
    "using System.IO;\n",
    "using System.IO.Compression;\n",
    "\n",
    "byte[] data = new byte[1000]; // We can expect a good compression\n",
    "                                // ratio from an empty array!\n",
    "\n",
    "var ms = new MemoryStream();\n",
    "using (Stream ds = new DeflateStream (ms, CompressionMode.Compress))\n",
    "    ds.Write (data, 0, data.Length);\n",
    "\n",
    "byte[] compressed = ms.ToArray();\n",
    "Console.WriteLine (compressed.Length); // 11\n",
    "\n",
    "// Decompress back to the data array:\n",
    "ms = new MemoryStream (compressed);\n",
    "using (Stream ds = new DeflateStream (ms, CompressionMode.Decompress))\n",
    "    for (int i = 0; i < 1000; i += ds.Read (data, i, 1000 - i));"
   ]
  }
 ],
 "metadata": {
  "kernelspec": {
   "display_name": ".NET (C#)",
   "language": "C#",
   "name": ".net-csharp"
  },
  "language_info": {
   "name": "python"
  },
  "polyglot_notebook": {
   "kernelInfo": {
    "defaultKernelName": "csharp",
    "items": [
     {
      "aliases": [],
      "name": "csharp"
     }
    ]
   }
  }
 },
 "nbformat": 4,
 "nbformat_minor": 2
}
